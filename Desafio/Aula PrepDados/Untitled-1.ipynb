{
 "cells": [
  {
   "cell_type": "code",
   "execution_count": 6,
   "id": "80b4d7fc",
   "metadata": {},
   "outputs": [],
   "source": [
    "import pandas as pd\n",
    "\n",
    "# Origem https://www.kaggle.com/datasets/olistbr/brazilian-ecommerce\n",
    "\n",
    "costumer = pd.read_csv('olist_customers_dataset.csv')\n",
    "local = pd.read_csv('olist_geolocation_dataset.csv')\n",
    "order_items = pd.read_csv('olist_order_items_dataset.csv')\n",
    "order_payments = pd.read_csv('olist_order_payments_dataset.csv')\n",
    "order_reviews = pd.read_csv('olist_order_reviews_dataset.csv')\n",
    "orders = pd.read_csv('olist_orders_dataset.csv')\n",
    "products = pd.read_csv('olist_products_dataset.csv')\n",
    "sellers = pd.read_csv('olist_sellers_dataset.csv')\n",
    "category_name_translation = pd.read_csv('product_category_name_translation.csv')\n",
    "\n",
    "df = orders.merge(order_items, how='left', on='order_id')\n",
    "df = df.merge(order_payments,  how='left', on='order_id')\n",
    "df = df.merge(order_reviews,  how='left', on='order_id')\n",
    "df = df.merge(sellers,  how='left', on='seller_id')\n",
    "df = df.merge(costumer, how='left', on='customer_id')\n",
    "df = df.merge(products, how='left', on='product_id')\n",
    "df = df.merge(category_name_translation, how='left', on='product_category_name')\n",
    "\n",
    "local = local.drop('geolocation_city', axis=1)\n",
    "local = local.drop('geolocation_state', axis=1)\n",
    "\n",
    "df = df.merge(local, how='left', left_on='seller_zip_code_prefix', right_on='geolocation_zip_code_prefix')\n",
    "#sellers.head()\n",
    "\n",
    "\n"
   ]
  },
  {
   "cell_type": "code",
   "execution_count": null,
   "id": "6a459436",
   "metadata": {},
   "outputs": [],
   "source": [
    "df.rename(columns={'geolocation_lat':'sellers_geolocation_lat', 'geolocation_lng':'sellers_geolocation_lng'}, inplace)"
   ]
  },
  {
   "cell_type": "code",
   "execution_count": null,
   "id": "f397ae17",
   "metadata": {},
   "outputs": [
    {
     "data": {
      "application/vnd.microsoft.datawrangler.viewer.v0+json": {
       "columns": [
        {
         "name": "index",
         "rawType": "int64",
         "type": "integer"
        },
        {
         "name": "geolocation_zip_code_prefix",
         "rawType": "int64",
         "type": "integer"
        },
        {
         "name": "geolocation_lat",
         "rawType": "float64",
         "type": "float"
        },
        {
         "name": "geolocation_lng",
         "rawType": "float64",
         "type": "float"
        }
       ],
       "ref": "cd7a9da4-1831-411b-81aa-429d20851412",
       "rows": [
        [
         "0",
         "1037",
         "-23.54562128115268",
         "-46.63929204800168"
        ],
        [
         "1",
         "1046",
         "-23.54608112703553",
         "-46.64482029837157"
        ],
        [
         "2",
         "1046",
         "-23.54612896641469",
         "-46.64295148361138"
        ],
        [
         "3",
         "1041",
         "-23.5443921648681",
         "-46.63949930627844"
        ],
        [
         "4",
         "1035",
         "-23.541577961711493",
         "-46.64160722329613"
        ]
       ],
       "shape": {
        "columns": 3,
        "rows": 5
       }
      },
      "text/html": [
       "<div>\n",
       "<style scoped>\n",
       "    .dataframe tbody tr th:only-of-type {\n",
       "        vertical-align: middle;\n",
       "    }\n",
       "\n",
       "    .dataframe tbody tr th {\n",
       "        vertical-align: top;\n",
       "    }\n",
       "\n",
       "    .dataframe thead th {\n",
       "        text-align: right;\n",
       "    }\n",
       "</style>\n",
       "<table border=\"1\" class=\"dataframe\">\n",
       "  <thead>\n",
       "    <tr style=\"text-align: right;\">\n",
       "      <th></th>\n",
       "      <th>geolocation_zip_code_prefix</th>\n",
       "      <th>geolocation_lat</th>\n",
       "      <th>geolocation_lng</th>\n",
       "    </tr>\n",
       "  </thead>\n",
       "  <tbody>\n",
       "    <tr>\n",
       "      <th>0</th>\n",
       "      <td>1037</td>\n",
       "      <td>-23.545621</td>\n",
       "      <td>-46.639292</td>\n",
       "    </tr>\n",
       "    <tr>\n",
       "      <th>1</th>\n",
       "      <td>1046</td>\n",
       "      <td>-23.546081</td>\n",
       "      <td>-46.644820</td>\n",
       "    </tr>\n",
       "    <tr>\n",
       "      <th>2</th>\n",
       "      <td>1046</td>\n",
       "      <td>-23.546129</td>\n",
       "      <td>-46.642951</td>\n",
       "    </tr>\n",
       "    <tr>\n",
       "      <th>3</th>\n",
       "      <td>1041</td>\n",
       "      <td>-23.544392</td>\n",
       "      <td>-46.639499</td>\n",
       "    </tr>\n",
       "    <tr>\n",
       "      <th>4</th>\n",
       "      <td>1035</td>\n",
       "      <td>-23.541578</td>\n",
       "      <td>-46.641607</td>\n",
       "    </tr>\n",
       "  </tbody>\n",
       "</table>\n",
       "</div>"
      ],
      "text/plain": [
       "   geolocation_zip_code_prefix  geolocation_lat  geolocation_lng\n",
       "0                         1037       -23.545621       -46.639292\n",
       "1                         1046       -23.546081       -46.644820\n",
       "2                         1046       -23.546129       -46.642951\n",
       "3                         1041       -23.544392       -46.639499\n",
       "4                         1035       -23.541578       -46.641607"
      ]
     },
     "execution_count": 5,
     "metadata": {},
     "output_type": "execute_result"
    }
   ],
   "source": [
    "sfdgssfglocal = local.drop('geolocation_city', axis=1)\n",
    "local = local.drop('geolocation_state', axis=1)\n",
    "local.head()"
   ]
  }
 ],
 "metadata": {
  "kernelspec": {
   "display_name": "Python 3",
   "language": "python",
   "name": "python3"
  },
  "language_info": {
   "codemirror_mode": {
    "name": "ipython",
    "version": 3
   },
   "file_extension": ".py",
   "mimetype": "text/x-python",
   "name": "python",
   "nbconvert_exporter": "python",
   "pygments_lexer": "ipython3",
   "version": "3.13.2"
  }
 },
 "nbformat": 4,
 "nbformat_minor": 5
}
