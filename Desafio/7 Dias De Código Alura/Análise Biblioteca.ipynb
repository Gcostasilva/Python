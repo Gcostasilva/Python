{
 "cells": [
  {
   "cell_type": "markdown",
   "id": "a9786610",
   "metadata": {},
   "source": [
    "# *Projeto Dados Biblioteca*"
   ]
  },
  {
   "cell_type": "markdown",
   "id": "d36b396a",
   "metadata": {},
   "source": [
    "## Importando os dados"
   ]
  },
  {
   "cell_type": "code",
   "execution_count": 128,
   "id": "ff4fa70c",
   "metadata": {},
   "outputs": [],
   "source": [
    "import pandas as pd\n",
    "\n",
    "caminho = ['https://raw.githubusercontent.com/FranciscoFoz/7_Days_of_Code_Alura-Python-Pandas/refs/heads/main/Dia_1-Importando_dados/Datasets/dados_emprestimos/emprestimos-20101.csv',\n",
    "           'https://raw.githubusercontent.com/FranciscoFoz/7_Days_of_Code_Alura-Python-Pandas/refs/heads/main/Dia_1-Importando_dados/Datasets/dados_emprestimos/emprestimos-20102.csv',\n",
    "           'https://raw.githubusercontent.com/FranciscoFoz/7_Days_of_Code_Alura-Python-Pandas/refs/heads/main/Dia_1-Importando_dados/Datasets/dados_emprestimos/emprestimos-20111.csv',\n",
    "           'https://raw.githubusercontent.com/FranciscoFoz/7_Days_of_Code_Alura-Python-Pandas/refs/heads/main/Dia_1-Importando_dados/Datasets/dados_emprestimos/emprestimos-20112.csv',\n",
    "           'https://raw.githubusercontent.com/FranciscoFoz/7_Days_of_Code_Alura-Python-Pandas/refs/heads/main/Dia_1-Importando_dados/Datasets/dados_emprestimos/emprestimos-20121.csv',\n",
    "           'https://raw.githubusercontent.com/FranciscoFoz/7_Days_of_Code_Alura-Python-Pandas/refs/heads/main/Dia_1-Importando_dados/Datasets/dados_emprestimos/emprestimos-20122.csv',\n",
    "           'https://raw.githubusercontent.com/FranciscoFoz/7_Days_of_Code_Alura-Python-Pandas/refs/heads/main/Dia_1-Importando_dados/Datasets/dados_emprestimos/emprestimos-20131.csv',\n",
    "           'https://raw.githubusercontent.com/FranciscoFoz/7_Days_of_Code_Alura-Python-Pandas/refs/heads/main/Dia_1-Importando_dados/Datasets/dados_emprestimos/emprestimos-20132.csv',\n",
    "           'https://raw.githubusercontent.com/FranciscoFoz/7_Days_of_Code_Alura-Python-Pandas/refs/heads/main/Dia_1-Importando_dados/Datasets/dados_emprestimos/emprestimos-20141.csv',\n",
    "           'https://raw.githubusercontent.com/FranciscoFoz/7_Days_of_Code_Alura-Python-Pandas/refs/heads/main/Dia_1-Importando_dados/Datasets/dados_emprestimos/emprestimos-20142.csv',\n",
    "           'https://raw.githubusercontent.com/FranciscoFoz/7_Days_of_Code_Alura-Python-Pandas/refs/heads/main/Dia_1-Importando_dados/Datasets/dados_emprestimos/emprestimos-20151.csv',\n",
    "           'https://raw.githubusercontent.com/FranciscoFoz/7_Days_of_Code_Alura-Python-Pandas/refs/heads/main/Dia_1-Importando_dados/Datasets/dados_emprestimos/emprestimos-20152.csv',\n",
    "           'https://raw.githubusercontent.com/FranciscoFoz/7_Days_of_Code_Alura-Python-Pandas/refs/heads/main/Dia_1-Importando_dados/Datasets/dados_emprestimos/emprestimos-20161.csv',\n",
    "           'https://raw.githubusercontent.com/FranciscoFoz/7_Days_of_Code_Alura-Python-Pandas/refs/heads/main/Dia_1-Importando_dados/Datasets/dados_emprestimos/emprestimos-20162.csv',\n",
    "           'https://raw.githubusercontent.com/FranciscoFoz/7_Days_of_Code_Alura-Python-Pandas/refs/heads/main/Dia_1-Importando_dados/Datasets/dados_emprestimos/emprestimos-20171.csv',\n",
    "           'https://raw.githubusercontent.com/FranciscoFoz/7_Days_of_Code_Alura-Python-Pandas/refs/heads/main/Dia_1-Importando_dados/Datasets/dados_emprestimos/emprestimos-20172.csv',\n",
    "           'https://raw.githubusercontent.com/FranciscoFoz/7_Days_of_Code_Alura-Python-Pandas/refs/heads/main/Dia_1-Importando_dados/Datasets/dados_emprestimos/emprestimos-20181.csv',\n",
    "           'https://raw.githubusercontent.com/FranciscoFoz/7_Days_of_Code_Alura-Python-Pandas/refs/heads/main/Dia_1-Importando_dados/Datasets/dados_emprestimos/emprestimos-20182.csv',\n",
    "           'https://raw.githubusercontent.com/FranciscoFoz/7_Days_of_Code_Alura-Python-Pandas/refs/heads/main/Dia_1-Importando_dados/Datasets/dados_emprestimos/emprestimos-20191.csv', \n",
    "           'https://raw.githubusercontent.com/FranciscoFoz/7_Days_of_Code_Alura-Python-Pandas/refs/heads/main/Dia_1-Importando_dados/Datasets/dados_emprestimos/emprestimos-20192.csv',\n",
    "           'https://raw.githubusercontent.com/FranciscoFoz/7_Days_of_Code_Alura-Python-Pandas/refs/heads/main/Dia_1-Importando_dados/Datasets/dados_emprestimos/emprestimos-20201.csv']\n",
    "tamanho = []\n",
    "pre_tam = []\n",
    "df = pd.read_csv(caminho[0], sep = ',', encoding='utf-8')\n",
    "\n",
    "# Só para ter uma noção do tamanho de cada arquivo e saber se está batendo o arquivo final\n",
    "pre_tam.append(0)\n",
    "pre_tam.append(df.shape[0])\n",
    "pre_tam.append(df.shape[1])\n",
    "tamanho.append(pre_tam.copy())\n",
    "pre_tam.clear()\n",
    "\n",
    "# Um loop para ler todos os arquivos\n",
    "for i in range(1, len(caminho)):\n",
    "    df_temp = pd.read_csv(caminho[i], sep = ',', encoding='utf-8')\n",
    "    pre_tam.append(i)\n",
    "    pre_tam.append(df_temp.shape[0])\n",
    "    pre_tam.append(df_temp.shape[1])\n",
    "    tamanho.append(pre_tam.copy())\n",
    "    pre_tam.clear()\n",
    "    df = pd.concat([df,df_temp], ignore_index=True)"
   ]
  },
  {
   "cell_type": "code",
   "execution_count": 129,
   "id": "5ddd78e0",
   "metadata": {},
   "outputs": [
    {
     "name": "stdout",
     "output_type": "stream",
     "text": [
      "0 - 95357 x 7\n",
      "1 - 100696 x 7\n",
      "2 - 108547 x 7\n",
      "3 - 120813 x 7\n",
      "4 - 132606 x 7\n",
      "5 - 117431 x 7\n",
      "6 - 135090 x 7\n",
      "7 - 124196 x 7\n",
      "8 - 113181 x 7\n",
      "9 - 122129 x 7\n",
      "10 - 126738 x 7\n",
      "11 - 98115 x 7\n",
      "12 - 118733 x 7\n",
      "13 - 107179 x 7\n",
      "14 - 118714 x 7\n",
      "15 - 110326 x 7\n",
      "16 - 107065 x 7\n",
      "17 - 95015 x 7\n",
      "18 - 95839 x 7\n",
      "19 - 83687 x 7\n",
      "20 - 26561 x 7\n"
     ]
    }
   ],
   "source": [
    "# Tamanho de cada arquivo\n",
    "for i in range(0, len(tamanho)):\n",
    "    print(f'{tamanho[i][0]:} - {tamanho[i][1]} x {tamanho[i][2]}')"
   ]
  },
  {
   "cell_type": "code",
   "execution_count": 130,
   "id": "0a1bfc65",
   "metadata": {},
   "outputs": [
    {
     "data": {
      "application/vnd.microsoft.datawrangler.viewer.v0+json": {
       "columns": [
        {
         "name": "index",
         "rawType": "int64",
         "type": "integer"
        },
        {
         "name": "id_exemplar",
         "rawType": "int64",
         "type": "integer"
        },
        {
         "name": "codigo_barras",
         "rawType": "object",
         "type": "string"
        },
        {
         "name": "colecao",
         "rawType": "object",
         "type": "string"
        },
        {
         "name": "biblioteca",
         "rawType": "object",
         "type": "string"
        },
        {
         "name": "status_material",
         "rawType": "object",
         "type": "string"
        },
        {
         "name": "localizacao",
         "rawType": "int64",
         "type": "integer"
        },
        {
         "name": "registro_sistema",
         "rawType": "int64",
         "type": "integer"
        }
       ],
       "ref": "a1ac50f2-368c-443d-98ff-a33205f78834",
       "rows": [
        [
         "0",
         "5",
         "L000003",
         "Acervo Circulante",
         "Biblioteca Central Zila Mamede",
         "REGULAR",
         "694",
         "1"
        ],
        [
         "1",
         "4",
         "L000002",
         "Acervo Circulante",
         "Biblioteca Central Zila Mamede",
         "REGULAR",
         "688",
         "1"
        ],
        [
         "2",
         "3",
         "L000001",
         "Acervo Circulante",
         "Biblioteca Central Zila Mamede",
         "ESPECIAL",
         "638",
         "1"
        ],
        [
         "3",
         "7",
         "L000114",
         "Acervo Circulante",
         "Biblioteca Central Zila Mamede",
         "REGULAR",
         "616",
         "5"
        ],
        [
         "5",
         "10",
         "L000041",
         "Acervo Circulante",
         "Biblioteca Central Zila Mamede",
         "ESPECIAL",
         "657",
         "15"
        ],
        [
         "7",
         "13",
         "L000924",
         "Dissertações",
         "Biblioteca Central Zila Mamede",
         "REGULAR",
         "651",
         "18"
        ],
        [
         "8",
         "12",
         "L000056",
         "Dissertações",
         "Biblioteca Central Zila Mamede",
         "NÃO CIRCULA",
         "647",
         "18"
        ],
        [
         "12",
         "19",
         "L116810_23/09/2020 00:01:33",
         "Acervo Circulante",
         "Biblioteca Central Zila Mamede",
         "REGULAR",
         "661",
         "32"
        ],
        [
         "13",
         "20",
         "L000088",
         "Acervo Circulante",
         "Biblioteca Central Zila Mamede",
         "ESPECIAL",
         "683",
         "33"
        ],
        [
         "14",
         "21",
         "L117745",
         "Acervo Circulante",
         "Biblioteca Central Zila Mamede",
         "REGULAR",
         "655",
         "35"
        ],
        [
         "15",
         "23",
         "L000102",
         "Acervo Circulante",
         "Biblioteca Central Zila Mamede",
         "REGULAR",
         "690",
         "37"
        ],
        [
         "16",
         "22",
         "L000100",
         "Acervo Circulante",
         "Biblioteca Central Zila Mamede",
         "ESPECIAL",
         "684",
         "37"
        ],
        [
         "17",
         "25",
         "L000131",
         "Acervo Circulante",
         "Biblioteca Central Zila Mamede",
         "REGULAR",
         "612",
         "37"
        ],
        [
         "18",
         "26",
         "L000132",
         "Acervo Circulante",
         "Biblioteca Central Zila Mamede",
         "REGULAR",
         "662",
         "37"
        ],
        [
         "19",
         "27",
         "L000133_11/05/2018 08:57:56",
         "Acervo Circulante",
         "Biblioteca Central Zila Mamede",
         "REGULAR",
         "691",
         "37"
        ],
        [
         "20",
         "28",
         "FD00103",
         "Acervo Circulante",
         "Biblioteca Central Zila Mamede",
         "ESPECIAL",
         "659",
         "38"
        ],
        [
         "22",
         "31",
         "EE00198_05/08/2020 17:40:51",
         "Acervo Circulante",
         "Biblioteca Central Zila Mamede",
         "REGULAR",
         "604",
         "44"
        ],
        [
         "24",
         "34",
         "L000134_09/09/2020 11:02:36",
         "Acervo Circulante",
         "Biblioteca Central Zila Mamede",
         "ESPECIAL",
         "601",
         "50"
        ],
        [
         "25",
         "35",
         "FD00138_08/08/2020 11:52:00",
         "Acervo Circulante",
         "Biblioteca Central Zila Mamede",
         "REGULAR",
         "686",
         "51"
        ],
        [
         "26",
         "36",
         "L000141_26/11/2019 09:53:38",
         "Acervo Circulante",
         "Biblioteca Central Zila Mamede",
         "NÃO CIRCULA",
         "679",
         "52"
        ],
        [
         "28",
         "39",
         "EE00148",
         "Acervo Circulante",
         "Biblioteca Central Zila Mamede",
         "REGULAR",
         "632",
         "55"
        ],
        [
         "29",
         "40",
         "EE00729",
         "Acervo Circulante",
         "Biblioteca Central Zila Mamede",
         "REGULAR",
         "609",
         "55"
        ],
        [
         "30",
         "41",
         "L000149_09/10/2018 07:48:47",
         "Acervo Circulante",
         "Biblioteca Central Zila Mamede",
         "NÃO CIRCULA",
         "606",
         "56"
        ],
        [
         "31",
         "42",
         "L178870",
         "Acervo Circulante",
         "Biblioteca Central Zila Mamede",
         "ESPECIAL",
         "657",
         "57"
        ],
        [
         "32",
         "43",
         "L000154",
         "Acervo Circulante",
         "Biblioteca Central Zila Mamede",
         "REGULAR",
         "616",
         "59"
        ],
        [
         "33",
         "44",
         "FE00163_09/08/2019 16:26:03",
         "Acervo Circulante",
         "Biblioteca Central Zila Mamede",
         "REGULAR",
         "666",
         "61"
        ],
        [
         "34",
         "45",
         "L162424",
         "Acervo Circulante",
         "Biblioteca Central Zila Mamede",
         "REGULAR",
         "673",
         "61"
        ],
        [
         "35",
         "47",
         "IA00175_09/09/2020 10:59:47",
         "Acervo Circulante",
         "Biblioteca Central Zila Mamede",
         "ESPECIAL",
         "618",
         "64"
        ],
        [
         "36",
         "48",
         "SCB0185_15/07/2020 12:16:02",
         "Acervo Circulante",
         "Biblioteca Central Zila Mamede",
         "ESPECIAL",
         "687",
         "65"
        ],
        [
         "37",
         "49",
         "FD00187_08/08/2020 12:04:33",
         "Acervo Circulante",
         "Biblioteca Central Zila Mamede",
         "REGULAR",
         "655",
         "66"
        ],
        [
         "38",
         "50",
         "L000217",
         "Acervo Circulante",
         "Biblioteca Central Zila Mamede",
         "REGULAR",
         "686",
         "69"
        ],
        [
         "39",
         "51",
         "ES00219_05/08/2020 17:52:11",
         "Acervo Circulante",
         "Biblioteca Central Zila Mamede",
         "REGULAR",
         "638",
         "71"
        ],
        [
         "40",
         "52",
         "FD00220_08/08/2020 12:12:58",
         "Acervo Circulante",
         "Biblioteca Central Zila Mamede",
         "REGULAR",
         "608",
         "72"
        ],
        [
         "41",
         "53",
         "L000225_26/11/2019 09:55:29",
         "Acervo Circulante",
         "Biblioteca Central Zila Mamede",
         "NÃO CIRCULA",
         "699",
         "75"
        ],
        [
         "42",
         "55",
         "L000238",
         "Acervo Circulante",
         "Biblioteca Central Zila Mamede",
         "NÃO CIRCULA",
         "639",
         "79"
        ],
        [
         "43",
         "56",
         "FD00244_18/08/2011 09:36:02",
         "Acervo Circulante",
         "Biblioteca Central Zila Mamede",
         "REGULAR",
         "609",
         "80"
        ],
        [
         "46",
         "59",
         "L000258",
         "Acervo Circulante",
         "Biblioteca Central Zila Mamede",
         "NÃO CIRCULA",
         "696",
         "85"
        ],
        [
         "47",
         "60",
         "IA00264_09/09/2020 11:00:12",
         "Acervo Circulante",
         "Biblioteca Central Zila Mamede",
         "ESPECIAL",
         "685",
         "89"
        ],
        [
         "48",
         "61",
         "L000267_14/07/2017 09:31:00",
         "Dissertações",
         "Biblioteca Central Zila Mamede",
         "ESPECIAL",
         "690",
         "90"
        ],
        [
         "49",
         "62",
         "L00121300_14/07/2017 09:22:19",
         "Acervo Circulante",
         "Biblioteca Central Zila Mamede",
         "REGULAR",
         "639",
         "90"
        ],
        [
         "50",
         "63",
         "A003778",
         "Dissertações",
         "Biblioteca Setorial Moacyr de Góes - CE",
         "ESPECIAL",
         "640",
         "90"
        ],
        [
         "51",
         "64",
         "A004031",
         "Dissertações",
         "Biblioteca Setorial Moacyr de Góes - CE",
         "ESPECIAL",
         "621",
         "90"
        ],
        [
         "52",
         "81",
         "L000298",
         "Acervo Circulante",
         "Biblioteca Central Zila Mamede",
         "NÃO CIRCULA",
         "635",
         "107"
        ],
        [
         "53",
         "82",
         "ES00305_05/08/2020 17:54:10",
         "Acervo Circulante",
         "Biblioteca Central Zila Mamede",
         "ESPECIAL",
         "649",
         "108"
        ],
        [
         "55",
         "84",
         "L002180_09/09/2020 11:50:25",
         "Acervo Circulante",
         "Biblioteca Central Zila Mamede",
         "REGULAR",
         "679",
         "113"
        ],
        [
         "56",
         "85",
         "L000324",
         "Acervo Circulante",
         "Biblioteca Central Zila Mamede",
         "NÃO CIRCULA",
         "633",
         "114"
        ],
        [
         "57",
         "86",
         "2009011434",
         "Acervo Circulante",
         "Biblioteca Setorial do Centro de Ciências Humanas, Letras e Artes - CCHLA",
         "ESPECIAL",
         "642",
         "118"
        ],
        [
         "58",
         "90",
         "FD00357_24/08/2020 13:43:06",
         "Acervo Circulante",
         "Biblioteca Central Zila Mamede",
         "ESPECIAL",
         "656",
         "122"
        ],
        [
         "59",
         "91",
         "L000361",
         "Acervo Circulante",
         "Biblioteca Central Zila Mamede",
         "NÃO CIRCULA",
         "663",
         "123"
        ],
        [
         "60",
         "94",
         "L000395",
         "Acervo Circulante",
         "Biblioteca Central Zila Mamede",
         "NÃO CIRCULA",
         "629",
         "131"
        ]
       ],
       "shape": {
        "columns": 7,
        "rows": 546237
       }
      },
      "text/html": [
       "<div>\n",
       "<style scoped>\n",
       "    .dataframe tbody tr th:only-of-type {\n",
       "        vertical-align: middle;\n",
       "    }\n",
       "\n",
       "    .dataframe tbody tr th {\n",
       "        vertical-align: top;\n",
       "    }\n",
       "\n",
       "    .dataframe thead th {\n",
       "        text-align: right;\n",
       "    }\n",
       "</style>\n",
       "<table border=\"1\" class=\"dataframe\">\n",
       "  <thead>\n",
       "    <tr style=\"text-align: right;\">\n",
       "      <th></th>\n",
       "      <th>id_exemplar</th>\n",
       "      <th>codigo_barras</th>\n",
       "      <th>colecao</th>\n",
       "      <th>biblioteca</th>\n",
       "      <th>status_material</th>\n",
       "      <th>localizacao</th>\n",
       "      <th>registro_sistema</th>\n",
       "    </tr>\n",
       "    <tr>\n",
       "      <th>index</th>\n",
       "      <th></th>\n",
       "      <th></th>\n",
       "      <th></th>\n",
       "      <th></th>\n",
       "      <th></th>\n",
       "      <th></th>\n",
       "      <th></th>\n",
       "    </tr>\n",
       "  </thead>\n",
       "  <tbody>\n",
       "    <tr>\n",
       "      <th>0</th>\n",
       "      <td>5</td>\n",
       "      <td>L000003</td>\n",
       "      <td>Acervo Circulante</td>\n",
       "      <td>Biblioteca Central Zila Mamede</td>\n",
       "      <td>REGULAR</td>\n",
       "      <td>694</td>\n",
       "      <td>1</td>\n",
       "    </tr>\n",
       "    <tr>\n",
       "      <th>1</th>\n",
       "      <td>4</td>\n",
       "      <td>L000002</td>\n",
       "      <td>Acervo Circulante</td>\n",
       "      <td>Biblioteca Central Zila Mamede</td>\n",
       "      <td>REGULAR</td>\n",
       "      <td>688</td>\n",
       "      <td>1</td>\n",
       "    </tr>\n",
       "    <tr>\n",
       "      <th>2</th>\n",
       "      <td>3</td>\n",
       "      <td>L000001</td>\n",
       "      <td>Acervo Circulante</td>\n",
       "      <td>Biblioteca Central Zila Mamede</td>\n",
       "      <td>ESPECIAL</td>\n",
       "      <td>638</td>\n",
       "      <td>1</td>\n",
       "    </tr>\n",
       "    <tr>\n",
       "      <th>3</th>\n",
       "      <td>7</td>\n",
       "      <td>L000114</td>\n",
       "      <td>Acervo Circulante</td>\n",
       "      <td>Biblioteca Central Zila Mamede</td>\n",
       "      <td>REGULAR</td>\n",
       "      <td>616</td>\n",
       "      <td>5</td>\n",
       "    </tr>\n",
       "    <tr>\n",
       "      <th>5</th>\n",
       "      <td>10</td>\n",
       "      <td>L000041</td>\n",
       "      <td>Acervo Circulante</td>\n",
       "      <td>Biblioteca Central Zila Mamede</td>\n",
       "      <td>ESPECIAL</td>\n",
       "      <td>657</td>\n",
       "      <td>15</td>\n",
       "    </tr>\n",
       "    <tr>\n",
       "      <th>...</th>\n",
       "      <td>...</td>\n",
       "      <td>...</td>\n",
       "      <td>...</td>\n",
       "      <td>...</td>\n",
       "      <td>...</td>\n",
       "      <td>...</td>\n",
       "      <td>...</td>\n",
       "    </tr>\n",
       "    <tr>\n",
       "      <th>568580</th>\n",
       "      <td>1353472</td>\n",
       "      <td>2021011150</td>\n",
       "      <td>Acervo Circulante</td>\n",
       "      <td>Biblioteca Setorial do Núcleo de Educação da I...</td>\n",
       "      <td>REGULAR</td>\n",
       "      <td>951</td>\n",
       "      <td>268231</td>\n",
       "    </tr>\n",
       "    <tr>\n",
       "      <th>568581</th>\n",
       "      <td>1353473</td>\n",
       "      <td>2019013454</td>\n",
       "      <td>Acervo Circulante</td>\n",
       "      <td>Biblioteca Central Zila Mamede</td>\n",
       "      <td>ESPECIAL</td>\n",
       "      <td>997</td>\n",
       "      <td>268233</td>\n",
       "    </tr>\n",
       "    <tr>\n",
       "      <th>568582</th>\n",
       "      <td>1353474</td>\n",
       "      <td>2019012811</td>\n",
       "      <td>Acervo Circulante</td>\n",
       "      <td>Biblioteca Central Zila Mamede</td>\n",
       "      <td>ESPECIAL</td>\n",
       "      <td>987</td>\n",
       "      <td>268234</td>\n",
       "    </tr>\n",
       "    <tr>\n",
       "      <th>568583</th>\n",
       "      <td>1353475</td>\n",
       "      <td>2019013451</td>\n",
       "      <td>Acervo Circulante</td>\n",
       "      <td>Biblioteca Central Zila Mamede</td>\n",
       "      <td>ESPECIAL</td>\n",
       "      <td>764</td>\n",
       "      <td>268235</td>\n",
       "    </tr>\n",
       "    <tr>\n",
       "      <th>568584</th>\n",
       "      <td>1353476</td>\n",
       "      <td>2019012276</td>\n",
       "      <td>Acervo Circulante</td>\n",
       "      <td>Biblioteca Central Zila Mamede</td>\n",
       "      <td>ESPECIAL</td>\n",
       "      <td>962</td>\n",
       "      <td>268236</td>\n",
       "    </tr>\n",
       "  </tbody>\n",
       "</table>\n",
       "<p>546237 rows × 7 columns</p>\n",
       "</div>"
      ],
      "text/plain": [
       "        id_exemplar codigo_barras            colecao  \\\n",
       "index                                                  \n",
       "0                 5       L000003  Acervo Circulante   \n",
       "1                 4       L000002  Acervo Circulante   \n",
       "2                 3       L000001  Acervo Circulante   \n",
       "3                 7       L000114  Acervo Circulante   \n",
       "5                10       L000041  Acervo Circulante   \n",
       "...             ...           ...                ...   \n",
       "568580      1353472    2021011150  Acervo Circulante   \n",
       "568581      1353473    2019013454  Acervo Circulante   \n",
       "568582      1353474    2019012811  Acervo Circulante   \n",
       "568583      1353475    2019013451  Acervo Circulante   \n",
       "568584      1353476    2019012276  Acervo Circulante   \n",
       "\n",
       "                                               biblioteca status_material  \\\n",
       "index                                                                       \n",
       "0                          Biblioteca Central Zila Mamede         REGULAR   \n",
       "1                          Biblioteca Central Zila Mamede         REGULAR   \n",
       "2                          Biblioteca Central Zila Mamede        ESPECIAL   \n",
       "3                          Biblioteca Central Zila Mamede         REGULAR   \n",
       "5                          Biblioteca Central Zila Mamede        ESPECIAL   \n",
       "...                                                   ...             ...   \n",
       "568580  Biblioteca Setorial do Núcleo de Educação da I...         REGULAR   \n",
       "568581                     Biblioteca Central Zila Mamede        ESPECIAL   \n",
       "568582                     Biblioteca Central Zila Mamede        ESPECIAL   \n",
       "568583                     Biblioteca Central Zila Mamede        ESPECIAL   \n",
       "568584                     Biblioteca Central Zila Mamede        ESPECIAL   \n",
       "\n",
       "        localizacao  registro_sistema  \n",
       "index                                  \n",
       "0               694                 1  \n",
       "1               688                 1  \n",
       "2               638                 1  \n",
       "3               616                 5  \n",
       "5               657                15  \n",
       "...             ...               ...  \n",
       "568580          951            268231  \n",
       "568581          997            268233  \n",
       "568582          987            268234  \n",
       "568583          764            268235  \n",
       "568584          962            268236  \n",
       "\n",
       "[546237 rows x 7 columns]"
      ]
     },
     "execution_count": 130,
     "metadata": {},
     "output_type": "execute_result"
    }
   ],
   "source": [
    "dados_exemplares = pd.read_parquet('https://github.com/FranciscoFoz/7_Days_of_Code_Alura-Python-Pandas/raw/main/Dia_1-Importando_dados/Datasets/dados_exemplares.parquet')\n",
    "dados_exemplares"
   ]
  },
  {
   "cell_type": "code",
   "execution_count": 131,
   "id": "abf7c0de",
   "metadata": {},
   "outputs": [
    {
     "data": {
      "application/vnd.microsoft.datawrangler.viewer.v0+json": {
       "columns": [
        {
         "name": "index",
         "rawType": "int64",
         "type": "integer"
        },
        {
         "name": "id_emprestimo",
         "rawType": "int64",
         "type": "integer"
        },
        {
         "name": "codigo_barras",
         "rawType": "object",
         "type": "string"
        },
        {
         "name": "data_renovacao",
         "rawType": "object",
         "type": "unknown"
        },
        {
         "name": "data_emprestimo",
         "rawType": "object",
         "type": "string"
        },
        {
         "name": "data_devolucao",
         "rawType": "object",
         "type": "unknown"
        },
        {
         "name": "matricula_ou_siape",
         "rawType": "float64",
         "type": "float"
        },
        {
         "name": "tipo_vinculo_usuario",
         "rawType": "object",
         "type": "string"
        },
        {
         "name": "id_exemplar",
         "rawType": "float64",
         "type": "float"
        },
        {
         "name": "colecao",
         "rawType": "object",
         "type": "unknown"
        },
        {
         "name": "biblioteca",
         "rawType": "object",
         "type": "unknown"
        },
        {
         "name": "status_material",
         "rawType": "object",
         "type": "unknown"
        },
        {
         "name": "localizacao",
         "rawType": "float64",
         "type": "float"
        },
        {
         "name": "registro_sistema",
         "rawType": "float64",
         "type": "float"
        }
       ],
       "ref": "49e8eb6b-91db-4201-99e8-7cdb47b1a7d6",
       "rows": [
        [
         "0",
         "709684",
         "L095049",
         null,
         "2010/01/04 07:44:10.721000000",
         "2010/01/05 16:26:12.662000000",
         "2008023265.0",
         "ALUNO DE GRADUAÇÃO",
         "13259.0",
         "Acervo Circulante",
         "Biblioteca Central Zila Mamede",
         "REGULAR",
         "630.0",
         "4225.0"
        ],
        [
         "1",
         "709685",
         "L167050",
         null,
         "2010/01/04 07:44:10.750000000",
         "2010/01/12 07:34:13.934000000",
         "2008023265.0",
         "ALUNO DE GRADUAÇÃO",
         "70865.0",
         "Acervo Circulante",
         "Biblioteca Central Zila Mamede",
         "REGULAR",
         "647.0",
         "25009.0"
        ],
        [
         "2",
         "709686",
         "2006017618",
         "2010/01/26 08:07:01.738000000",
         "2010/01/04 08:08:44.081000000",
         "2010/02/25 07:36:25.800000000",
         "2008112114.0",
         "ALUNO DE PÓS-GRADUAÇÃO",
         "195347.0",
         "Acervo Circulante",
         "Biblioteca Setorial Prof. Rodolfo Helinski - Escola Agrícola de Jundiaí - EAJ  - Macaiba",
         "REGULAR",
         "640.0",
         "75019.0"
        ],
        [
         "3",
         "709687",
         "L184117",
         "2010/01/18 11:07:46.470000000",
         "2010/01/04 08:24:21.284000000",
         "2010/02/03 08:58:45.692000000",
         "200721119.0",
         "ALUNO DE GRADUAÇÃO",
         "131639.0",
         "Acervo Circulante",
         "Biblioteca Central Zila Mamede",
         "REGULAR",
         "609.0",
         "44494.0"
        ],
        [
         "4",
         "709684",
         "L095049",
         null,
         "2010/01/04 07:44:10.721000000",
         "2010/01/05 16:26:12.662000000",
         "2008023265.0",
         "ALUNO DE GRADUAÇÃO",
         "13259.0",
         "Acervo Circulante",
         "Biblioteca Central Zila Mamede",
         "REGULAR",
         "630.0",
         "4225.0"
        ],
        [
         "5",
         "709685",
         "L167050",
         null,
         "2010/01/04 07:44:10.750000000",
         "2010/01/12 07:34:13.934000000",
         "2008023265.0",
         "ALUNO DE GRADUAÇÃO",
         "70865.0",
         "Acervo Circulante",
         "Biblioteca Central Zila Mamede",
         "REGULAR",
         "647.0",
         "25009.0"
        ],
        [
         "6",
         "709686",
         "2006017618",
         "2010/01/26 08:07:01.738000000",
         "2010/01/04 08:08:44.081000000",
         "2010/02/25 07:36:25.800000000",
         "2008112114.0",
         "ALUNO DE PÓS-GRADUAÇÃO",
         "195347.0",
         "Acervo Circulante",
         "Biblioteca Setorial Prof. Rodolfo Helinski - Escola Agrícola de Jundiaí - EAJ  - Macaiba",
         "REGULAR",
         "640.0",
         "75019.0"
        ],
        [
         "7",
         "709687",
         "L184117",
         "2010/01/18 11:07:46.470000000",
         "2010/01/04 08:24:21.284000000",
         "2010/02/03 08:58:45.692000000",
         "200721119.0",
         "ALUNO DE GRADUAÇÃO",
         "131639.0",
         "Acervo Circulante",
         "Biblioteca Central Zila Mamede",
         "REGULAR",
         "609.0",
         "44494.0"
        ],
        [
         "8",
         "709688",
         "2007027500",
         "2010/01/19 15:59:26.464000000",
         "2010/01/04 08:27:33.569000000",
         "2010/02/03 13:06:30.662000000",
         "2009045971.0",
         "ALUNO DE GRADUAÇÃO",
         "225646.0",
         "Acervo Circulante",
         "Biblioteca Central Zila Mamede",
         "REGULAR",
         "686.0",
         "91736.0"
        ],
        [
         "9",
         "709689",
         "L157395",
         "2010/01/19 15:59:26.447000000",
         "2010/01/04 08:27:33.596000000",
         "2010/02/03 13:06:43.125000000",
         "2009045971.0",
         "ALUNO DE GRADUAÇÃO",
         "57040.0",
         "Acervo Circulante",
         "Biblioteca Central Zila Mamede",
         "REGULAR",
         "698.0",
         "20943.0"
        ],
        [
         "10",
         "709690",
         "2007019312",
         null,
         "2010/01/04 08:49:57.857000000",
         "2010/01/13 09:58:25.443000000",
         "200701444.0",
         "ALUNO DE GRADUAÇÃO",
         "225786.0",
         "Acervo Circulante",
         "Biblioteca Central Zila Mamede",
         "REGULAR",
         "698.0",
         "91962.0"
        ],
        [
         "11",
         "709691",
         "2008046357",
         "2010/01/19 11:50:13.404000000",
         "2010/01/04 09:02:30.576000000",
         "2010/02/02 12:13:36.132000000",
         "200507453.0",
         "ALUNO DE GRADUAÇÃO",
         "256537.0",
         "Acervo Circulante",
         "Biblioteca Setorial Bertha Cruz Enders - ­Escola de Saúde da UFRN - ESUFRN",
         "REGULAR",
         "645.0",
         "110273.0"
        ],
        [
         "12",
         "709692",
         "L187962",
         null,
         "2010/01/04 09:07:06.131000000",
         "2010/06/22 18:55:04.000000000",
         "200404369.0",
         "ALUNO DE GRADUAÇÃO",
         "143654.0",
         "Acervo Circulante",
         "Biblioteca Central Zila Mamede",
         "REGULAR",
         "658.0",
         "51005.0"
        ],
        [
         "13",
         "709693",
         "L192776",
         null,
         "2010/01/04 09:07:06.159000000",
         "2010/06/22 18:54:46.000000000",
         "200404369.0",
         "ALUNO DE GRADUAÇÃO",
         "159348.0",
         "Acervo Circulante",
         "Biblioteca Central Zila Mamede",
         "REGULAR",
         "697.0",
         "59235.0"
        ],
        [
         "14",
         "709694",
         "L202783",
         null,
         "2010/01/04 09:09:38.329000000",
         "2010/02/03 13:00:49.746000000",
         "198420637.0",
         "DOCENTE",
         "274136.0",
         "Acervo Circulante",
         "Biblioteca Central Zila Mamede",
         "REGULAR",
         "643.0",
         "120537.0"
        ],
        [
         "15",
         "709695",
         "2007035128",
         null,
         "2010/01/04 09:14:55.681000000",
         "2010/01/14 10:15:08.388000000",
         "2008005020.0",
         "ALUNO DE GRADUAÇÃO",
         "235887.0",
         "Acervo Circulante",
         "Biblioteca Central Zila Mamede",
         "REGULAR",
         "630.0",
         "97666.0"
        ],
        [
         "16",
         "709696",
         "L122346",
         null,
         "2010/01/04 09:14:55.721000000",
         "2010/01/14 10:15:16.041000000",
         "2008005020.0",
         "ALUNO DE GRADUAÇÃO",
         "28681.0",
         "Acervo Circulante",
         "Biblioteca Central Zila Mamede",
         "REGULAR",
         "612.0",
         "10128.0"
        ],
        [
         "17",
         "709697",
         "L048797",
         null,
         "2010/01/04 09:18:17.514000000",
         "2010/01/14 10:14:59.964000000",
         "2008005020.0",
         "ALUNO DE GRADUAÇÃO",
         "131863.0",
         "Acervo Circulante",
         "Biblioteca Central Zila Mamede",
         "REGULAR",
         "673.0",
         "44568.0"
        ],
        [
         "18",
         "709698",
         "2009047725",
         "2010/01/18 14:44:41.163000000",
         "2010/01/04 09:21:19.099000000",
         "2010/02/02 12:02:38.444000000",
         "2009046838.0",
         "ALUNO DE GRADUAÇÃO",
         "281004.0",
         "Acervo Circulante",
         "Biblioteca Setorial do Centro Ciências da Saúde - CCS",
         "REGULAR",
         "651.0",
         "123552.0"
        ],
        [
         "19",
         "709698",
         "2009047725",
         "2010/01/18 14:44:41.163000000",
         "2010/01/04 09:21:19.099000000",
         "2010/02/02 12:02:38.444000000",
         "2009046838.0",
         "ALUNO DE GRADUAÇÃO",
         "281004.0",
         "Acervo Circulante",
         "Biblioteca Setorial do Centro Ciências da Saúde - CCS",
         "REGULAR",
         "651.0",
         "123552.0"
        ],
        [
         "20",
         "709698",
         "2009047725",
         "2010/01/18 14:44:41.163000000",
         "2010/01/04 09:21:19.099000000",
         "2010/02/02 12:02:38.444000000",
         "2009046838.0",
         "ALUNO DE GRADUAÇÃO",
         "281004.0",
         "Acervo Circulante",
         "Biblioteca Setorial do Centro Ciências da Saúde - CCS",
         "REGULAR",
         "651.0",
         "123552.0"
        ],
        [
         "21",
         "709699",
         "2009051872",
         "2010/01/18 14:44:41.144000000",
         "2010/01/04 09:21:19.126000000",
         "2010/02/02 12:03:35.649000000",
         "2009046838.0",
         "ALUNO DE GRADUAÇÃO",
         "281880.0",
         "Acervo Circulante",
         "Biblioteca Setorial do Centro Ciências da Saúde - CCS",
         "REGULAR",
         "647.0",
         "57653.0"
        ],
        [
         "22",
         "709700",
         "L200358",
         null,
         "2010/01/04 09:42:28.589000000",
         "2010/01/04 09:42:56.820000000",
         "2010078996.0",
         "ALUNO DE GRADUAÇÃO",
         "37513.0",
         "Acervo Circulante",
         "Biblioteca Central Zila Mamede",
         "REGULAR",
         "674.0",
         "62489.0"
        ],
        [
         "23",
         "709701",
         "L163841",
         "2010/01/19 19:02:53.450000000",
         "2010/01/04 09:48:05.604000000",
         "2010/02/04 18:23:49.946000000",
         "2008029450.0",
         "ALUNO DE GRADUAÇÃO",
         null,
         null,
         null,
         null,
         null,
         null
        ],
        [
         "24",
         "709702",
         "L200904",
         "2010/01/19 19:02:53.430000000",
         "2010/01/04 09:48:05.637000000",
         "2010/02/04 18:23:55.925000000",
         "2008029450.0",
         "ALUNO DE GRADUAÇÃO",
         "158308.0",
         "Acervo Circulante",
         "Biblioteca Central Zila Mamede",
         "REGULAR",
         "631.0",
         "58789.0"
        ],
        [
         "25",
         "709703",
         "2007020476",
         "2010/01/13 09:39:02.522000000",
         "2010/01/04 09:56:42.325000000",
         "2010/01/21 10:25:28.007000000",
         "200625578.0",
         "ALUNO DE GRADUAÇÃO",
         "221707.0",
         "Acervo Circulante",
         "Biblioteca Central Zila Mamede",
         "ESPECIAL",
         "634.0",
         "90238.0"
        ],
        [
         "26",
         "709704",
         "2006021442",
         "2010/01/17 18:56:43.923000000",
         "2010/01/04 09:58:46.522000000",
         "2010/02/01 13:59:02.528000000",
         "2008009890.0",
         "ALUNO DE GRADUAÇÃO",
         "199419.0",
         "Acervo Circulante",
         "Biblioteca Central Zila Mamede",
         "REGULAR",
         "699.0",
         "77866.0"
        ],
        [
         "27",
         "709705",
         "2009032168",
         "2010/01/17 18:56:43.909000000",
         "2010/01/04 09:58:46.549000000",
         "2010/01/20 13:14:34.464000000",
         "2008009890.0",
         "ALUNO DE GRADUAÇÃO",
         "273487.0",
         "Acervo Circulante",
         "Biblioteca Central Zila Mamede",
         "REGULAR",
         "623.0",
         "120127.0"
        ],
        [
         "28",
         "709704",
         "2006021442",
         "2010/01/17 18:56:43.923000000",
         "2010/01/04 09:58:46.522000000",
         "2010/02/01 13:59:02.528000000",
         "2008009890.0",
         "ALUNO DE GRADUAÇÃO",
         "199419.0",
         "Acervo Circulante",
         "Biblioteca Central Zila Mamede",
         "REGULAR",
         "699.0",
         "77866.0"
        ],
        [
         "29",
         "709705",
         "2009032168",
         "2010/01/17 18:56:43.909000000",
         "2010/01/04 09:58:46.549000000",
         "2010/01/20 13:14:34.464000000",
         "2008009890.0",
         "ALUNO DE GRADUAÇÃO",
         "273487.0",
         "Acervo Circulante",
         "Biblioteca Central Zila Mamede",
         "REGULAR",
         "623.0",
         "120127.0"
        ],
        [
         "30",
         "709704",
         "2006021442",
         "2010/01/17 18:56:43.923000000",
         "2010/01/04 09:58:46.522000000",
         "2010/02/01 13:59:02.528000000",
         "2008009890.0",
         "ALUNO DE GRADUAÇÃO",
         "199419.0",
         "Acervo Circulante",
         "Biblioteca Central Zila Mamede",
         "REGULAR",
         "699.0",
         "77866.0"
        ],
        [
         "31",
         "709705",
         "2009032168",
         "2010/01/17 18:56:43.909000000",
         "2010/01/04 09:58:46.549000000",
         "2010/01/20 13:14:34.464000000",
         "2008009890.0",
         "ALUNO DE GRADUAÇÃO",
         "273487.0",
         "Acervo Circulante",
         "Biblioteca Central Zila Mamede",
         "REGULAR",
         "623.0",
         "120127.0"
        ],
        [
         "32",
         "709704",
         "2006021442",
         "2010/01/17 18:56:43.923000000",
         "2010/01/04 09:58:46.522000000",
         "2010/02/01 13:59:02.528000000",
         "2008009890.0",
         "ALUNO DE GRADUAÇÃO",
         "199419.0",
         "Acervo Circulante",
         "Biblioteca Central Zila Mamede",
         "REGULAR",
         "699.0",
         "77866.0"
        ],
        [
         "33",
         "709705",
         "2009032168",
         "2010/01/17 18:56:43.909000000",
         "2010/01/04 09:58:46.549000000",
         "2010/01/20 13:14:34.464000000",
         "2008009890.0",
         "ALUNO DE GRADUAÇÃO",
         "273487.0",
         "Acervo Circulante",
         "Biblioteca Central Zila Mamede",
         "REGULAR",
         "623.0",
         "120127.0"
        ],
        [
         "34",
         "709704",
         "2006021442",
         "2010/01/17 18:56:43.923000000",
         "2010/01/04 09:58:46.522000000",
         "2010/02/01 13:59:02.528000000",
         "2008009890.0",
         "ALUNO DE GRADUAÇÃO",
         "199419.0",
         "Acervo Circulante",
         "Biblioteca Central Zila Mamede",
         "REGULAR",
         "699.0",
         "77866.0"
        ],
        [
         "35",
         "709705",
         "2009032168",
         "2010/01/17 18:56:43.909000000",
         "2010/01/04 09:58:46.549000000",
         "2010/01/20 13:14:34.464000000",
         "2008009890.0",
         "ALUNO DE GRADUAÇÃO",
         "273487.0",
         "Acervo Circulante",
         "Biblioteca Central Zila Mamede",
         "REGULAR",
         "623.0",
         "120127.0"
        ],
        [
         "36",
         "709704",
         "2006021442",
         "2010/01/17 18:56:43.923000000",
         "2010/01/04 09:58:46.522000000",
         "2010/02/01 13:59:02.528000000",
         "2008009890.0",
         "ALUNO DE GRADUAÇÃO",
         "199419.0",
         "Acervo Circulante",
         "Biblioteca Central Zila Mamede",
         "REGULAR",
         "699.0",
         "77866.0"
        ],
        [
         "37",
         "709705",
         "2009032168",
         "2010/01/17 18:56:43.909000000",
         "2010/01/04 09:58:46.549000000",
         "2010/01/20 13:14:34.464000000",
         "2008009890.0",
         "ALUNO DE GRADUAÇÃO",
         "273487.0",
         "Acervo Circulante",
         "Biblioteca Central Zila Mamede",
         "REGULAR",
         "623.0",
         "120127.0"
        ],
        [
         "38",
         "709704",
         "2006021442",
         "2010/01/17 18:56:43.923000000",
         "2010/01/04 09:58:46.522000000",
         "2010/02/01 13:59:02.528000000",
         "2008009890.0",
         "ALUNO DE GRADUAÇÃO",
         "199419.0",
         "Acervo Circulante",
         "Biblioteca Central Zila Mamede",
         "REGULAR",
         "699.0",
         "77866.0"
        ],
        [
         "39",
         "709705",
         "2009032168",
         "2010/01/17 18:56:43.909000000",
         "2010/01/04 09:58:46.549000000",
         "2010/01/20 13:14:34.464000000",
         "2008009890.0",
         "ALUNO DE GRADUAÇÃO",
         "273487.0",
         "Acervo Circulante",
         "Biblioteca Central Zila Mamede",
         "REGULAR",
         "623.0",
         "120127.0"
        ],
        [
         "40",
         "709706",
         "2009032010",
         "2010/01/17 18:56:43.869000000",
         "2010/01/04 09:58:46.575000000",
         "2010/02/01 13:58:46.387000000",
         "2008009890.0",
         "ALUNO DE GRADUAÇÃO",
         "273783.0",
         "Acervo Circulante",
         "Biblioteca Central Zila Mamede",
         "REGULAR",
         "812.0",
         "252558.0"
        ],
        [
         "41",
         "709707",
         "2008000130",
         null,
         "2010/01/04 10:00:22.435000000",
         "2010/01/13 10:01:45.234000000",
         "200711946.0",
         "ALUNO DE GRADUAÇÃO",
         "246141.0",
         "Acervo Circulante",
         "Biblioteca Central Zila Mamede",
         "REGULAR",
         "615.0",
         "103080.0"
        ],
        [
         "42",
         "709708",
         "L134569",
         null,
         "2010/01/04 10:00:22.459000000",
         "2010/01/18 10:12:44.020000000",
         "200711946.0",
         "ALUNO DE GRADUAÇÃO",
         "116167.0",
         "Acervo Circulante",
         "Biblioteca Central Zila Mamede",
         "REGULAR",
         "669.0",
         "38177.0"
        ],
        [
         "43",
         "709709",
         "2009011815",
         "2010/02/03 12:58:49.734000000",
         "2010/01/04 10:02:59.828000000",
         "2010/03/02 16:38:38.231000000",
         "2008106583.0",
         "ALUNO DE PÓS-GRADUAÇÃO",
         "265828.0",
         "Acervo Circulante",
         "Biblioteca Setorial Prof. Alberto Moreira Campos - ­Departamento de Odontologia",
         "REGULAR",
         "620.0",
         "114878.0"
        ],
        [
         "44",
         "709710",
         "L198816",
         null,
         "2010/01/04 10:04:17.306000000",
         "2010/01/05 11:26:52.938000000",
         "200506718.0",
         "ALUNO DE GRADUAÇÃO",
         "181821.0",
         "Acervo Circulante",
         "Biblioteca Central Zila Mamede",
         "REGULAR",
         "699.0",
         "69931.0"
        ],
        [
         "45",
         "709711",
         "L198806",
         null,
         "2010/01/04 10:04:17.344000000",
         "2010/01/05 11:26:42.492000000",
         "200506718.0",
         "ALUNO DE GRADUAÇÃO",
         "181878.0",
         "Acervo Circulante",
         "Biblioteca Central Zila Mamede",
         "REGULAR",
         "610.0",
         "69950.0"
        ],
        [
         "46",
         "709712",
         "2007033792",
         null,
         "2010/01/04 10:07:00.939000000",
         "2010/01/20 10:30:58.689000000",
         "198423750.0",
         "DOCENTE",
         "167683.0",
         "Acervo Circulante",
         "Biblioteca Setorial Prof. Ronaldo Xavier de Arruda - CCET",
         "REGULAR",
         "679.0",
         "62817.0"
        ],
        [
         "47",
         "709713",
         "2008010513",
         null,
         "2010/01/04 10:23:39.830000000",
         "2010/01/05 11:57:06.156000000",
         "2011101417.0",
         "ALUNO DE PÓS-GRADUAÇÃO",
         "190443.0",
         "Acervo Circulante",
         "Biblioteca Central Zila Mamede",
         "REGULAR",
         "656.0",
         "73080.0"
        ],
        [
         "48",
         "709714",
         "2008046332",
         null,
         "2010/01/04 10:23:39.859000000",
         "2010/01/05 11:57:01.461000000",
         "2011101417.0",
         "ALUNO DE PÓS-GRADUAÇÃO",
         "256856.0",
         "Acervo Circulante",
         "Biblioteca Central Zila Mamede",
         "REGULAR",
         "619.0",
         "110500.0"
        ],
        [
         "49",
         "709715",
         "L200359",
         "2010/01/19 14:38:53.133000000",
         "2010/01/04 10:28:01.480000000",
         "2010/02/01 14:41:13.147000000",
         "2010078996.0",
         "ALUNO DE GRADUAÇÃO",
         "37519.0",
         "Acervo Circulante",
         "Biblioteca Central Zila Mamede",
         "REGULAR",
         "644.0",
         "62489.0"
        ]
       ],
       "shape": {
        "columns": 13,
        "rows": 2261816
       }
      },
      "text/html": [
       "<div>\n",
       "<style scoped>\n",
       "    .dataframe tbody tr th:only-of-type {\n",
       "        vertical-align: middle;\n",
       "    }\n",
       "\n",
       "    .dataframe tbody tr th {\n",
       "        vertical-align: top;\n",
       "    }\n",
       "\n",
       "    .dataframe thead th {\n",
       "        text-align: right;\n",
       "    }\n",
       "</style>\n",
       "<table border=\"1\" class=\"dataframe\">\n",
       "  <thead>\n",
       "    <tr style=\"text-align: right;\">\n",
       "      <th></th>\n",
       "      <th>id_emprestimo</th>\n",
       "      <th>codigo_barras</th>\n",
       "      <th>data_renovacao</th>\n",
       "      <th>data_emprestimo</th>\n",
       "      <th>data_devolucao</th>\n",
       "      <th>matricula_ou_siape</th>\n",
       "      <th>tipo_vinculo_usuario</th>\n",
       "      <th>id_exemplar</th>\n",
       "      <th>colecao</th>\n",
       "      <th>biblioteca</th>\n",
       "      <th>status_material</th>\n",
       "      <th>localizacao</th>\n",
       "      <th>registro_sistema</th>\n",
       "    </tr>\n",
       "  </thead>\n",
       "  <tbody>\n",
       "    <tr>\n",
       "      <th>0</th>\n",
       "      <td>709684</td>\n",
       "      <td>L095049</td>\n",
       "      <td>NaN</td>\n",
       "      <td>2010/01/04 07:44:10.721000000</td>\n",
       "      <td>2010/01/05 16:26:12.662000000</td>\n",
       "      <td>2.008023e+09</td>\n",
       "      <td>ALUNO DE GRADUAÇÃO</td>\n",
       "      <td>13259.0</td>\n",
       "      <td>Acervo Circulante</td>\n",
       "      <td>Biblioteca Central Zila Mamede</td>\n",
       "      <td>REGULAR</td>\n",
       "      <td>630.0</td>\n",
       "      <td>4225.0</td>\n",
       "    </tr>\n",
       "    <tr>\n",
       "      <th>1</th>\n",
       "      <td>709685</td>\n",
       "      <td>L167050</td>\n",
       "      <td>NaN</td>\n",
       "      <td>2010/01/04 07:44:10.750000000</td>\n",
       "      <td>2010/01/12 07:34:13.934000000</td>\n",
       "      <td>2.008023e+09</td>\n",
       "      <td>ALUNO DE GRADUAÇÃO</td>\n",
       "      <td>70865.0</td>\n",
       "      <td>Acervo Circulante</td>\n",
       "      <td>Biblioteca Central Zila Mamede</td>\n",
       "      <td>REGULAR</td>\n",
       "      <td>647.0</td>\n",
       "      <td>25009.0</td>\n",
       "    </tr>\n",
       "    <tr>\n",
       "      <th>2</th>\n",
       "      <td>709686</td>\n",
       "      <td>2006017618</td>\n",
       "      <td>2010/01/26 08:07:01.738000000</td>\n",
       "      <td>2010/01/04 08:08:44.081000000</td>\n",
       "      <td>2010/02/25 07:36:25.800000000</td>\n",
       "      <td>2.008112e+09</td>\n",
       "      <td>ALUNO DE PÓS-GRADUAÇÃO</td>\n",
       "      <td>195347.0</td>\n",
       "      <td>Acervo Circulante</td>\n",
       "      <td>Biblioteca Setorial Prof. Rodolfo Helinski - E...</td>\n",
       "      <td>REGULAR</td>\n",
       "      <td>640.0</td>\n",
       "      <td>75019.0</td>\n",
       "    </tr>\n",
       "    <tr>\n",
       "      <th>3</th>\n",
       "      <td>709687</td>\n",
       "      <td>L184117</td>\n",
       "      <td>2010/01/18 11:07:46.470000000</td>\n",
       "      <td>2010/01/04 08:24:21.284000000</td>\n",
       "      <td>2010/02/03 08:58:45.692000000</td>\n",
       "      <td>2.007211e+08</td>\n",
       "      <td>ALUNO DE GRADUAÇÃO</td>\n",
       "      <td>131639.0</td>\n",
       "      <td>Acervo Circulante</td>\n",
       "      <td>Biblioteca Central Zila Mamede</td>\n",
       "      <td>REGULAR</td>\n",
       "      <td>609.0</td>\n",
       "      <td>44494.0</td>\n",
       "    </tr>\n",
       "    <tr>\n",
       "      <th>4</th>\n",
       "      <td>709684</td>\n",
       "      <td>L095049</td>\n",
       "      <td>NaN</td>\n",
       "      <td>2010/01/04 07:44:10.721000000</td>\n",
       "      <td>2010/01/05 16:26:12.662000000</td>\n",
       "      <td>2.008023e+09</td>\n",
       "      <td>ALUNO DE GRADUAÇÃO</td>\n",
       "      <td>13259.0</td>\n",
       "      <td>Acervo Circulante</td>\n",
       "      <td>Biblioteca Central Zila Mamede</td>\n",
       "      <td>REGULAR</td>\n",
       "      <td>630.0</td>\n",
       "      <td>4225.0</td>\n",
       "    </tr>\n",
       "    <tr>\n",
       "      <th>...</th>\n",
       "      <td>...</td>\n",
       "      <td>...</td>\n",
       "      <td>...</td>\n",
       "      <td>...</td>\n",
       "      <td>...</td>\n",
       "      <td>...</td>\n",
       "      <td>...</td>\n",
       "      <td>...</td>\n",
       "      <td>...</td>\n",
       "      <td>...</td>\n",
       "      <td>...</td>\n",
       "      <td>...</td>\n",
       "      <td>...</td>\n",
       "    </tr>\n",
       "    <tr>\n",
       "      <th>2261811</th>\n",
       "      <td>2989086</td>\n",
       "      <td>2008047044</td>\n",
       "      <td>NaN</td>\n",
       "      <td>2020/05/05 19:51:06.059000000</td>\n",
       "      <td>2021/05/13 14:53:31.000000000</td>\n",
       "      <td>3.067431e+06</td>\n",
       "      <td>SERVIDOR TÉCNICO-ADMINISTRATIVO</td>\n",
       "      <td>256297.0</td>\n",
       "      <td>Acervo Circulante</td>\n",
       "      <td>Biblioteca Setorial da Faculdade de Ciências d...</td>\n",
       "      <td>REGULAR</td>\n",
       "      <td>684.0</td>\n",
       "      <td>110098.0</td>\n",
       "    </tr>\n",
       "    <tr>\n",
       "      <th>2261812</th>\n",
       "      <td>2989087</td>\n",
       "      <td>2008047047</td>\n",
       "      <td>NaN</td>\n",
       "      <td>2020/05/05 19:51:06.135000000</td>\n",
       "      <td>2021/05/13 14:53:38.000000000</td>\n",
       "      <td>3.067431e+06</td>\n",
       "      <td>SERVIDOR TÉCNICO-ADMINISTRATIVO</td>\n",
       "      <td>256406.0</td>\n",
       "      <td>Acervo Circulante</td>\n",
       "      <td>Biblioteca Setorial da Faculdade de Ciências d...</td>\n",
       "      <td>REGULAR</td>\n",
       "      <td>628.0</td>\n",
       "      <td>110171.0</td>\n",
       "    </tr>\n",
       "    <tr>\n",
       "      <th>2261813</th>\n",
       "      <td>2989088</td>\n",
       "      <td>2010052905</td>\n",
       "      <td>NaN</td>\n",
       "      <td>2020/05/05 19:51:06.164000000</td>\n",
       "      <td>2021/05/13 15:01:46.000000000</td>\n",
       "      <td>3.067431e+06</td>\n",
       "      <td>SERVIDOR TÉCNICO-ADMINISTRATIVO</td>\n",
       "      <td>807821.0</td>\n",
       "      <td>Acervo Circulante</td>\n",
       "      <td>Biblioteca Setorial da Faculdade de Ciências d...</td>\n",
       "      <td>REGULAR</td>\n",
       "      <td>653.0</td>\n",
       "      <td>134173.0</td>\n",
       "    </tr>\n",
       "    <tr>\n",
       "      <th>2261814</th>\n",
       "      <td>2989089</td>\n",
       "      <td>2010048023</td>\n",
       "      <td>NaN</td>\n",
       "      <td>2020/06/09 11:54:02.669000000</td>\n",
       "      <td>2021/07/21 15:33:55.000000000</td>\n",
       "      <td>2.020101e+10</td>\n",
       "      <td>ALUNO DE PÓS-GRADUAÇÃO</td>\n",
       "      <td>804885.0</td>\n",
       "      <td>Acervo Circulante</td>\n",
       "      <td>Biblioteca Central Zila Mamede</td>\n",
       "      <td>REGULAR</td>\n",
       "      <td>675.0</td>\n",
       "      <td>67712.0</td>\n",
       "    </tr>\n",
       "    <tr>\n",
       "      <th>2261815</th>\n",
       "      <td>2989090</td>\n",
       "      <td>2013106838</td>\n",
       "      <td>NaN</td>\n",
       "      <td>2020/06/09 11:54:02.852000000</td>\n",
       "      <td>2021/07/21 15:33:45.000000000</td>\n",
       "      <td>2.020101e+10</td>\n",
       "      <td>ALUNO DE PÓS-GRADUAÇÃO</td>\n",
       "      <td>1099777.0</td>\n",
       "      <td>Acervo Circulante</td>\n",
       "      <td>Biblioteca Central Zila Mamede</td>\n",
       "      <td>REGULAR</td>\n",
       "      <td>14.0</td>\n",
       "      <td>205153.0</td>\n",
       "    </tr>\n",
       "  </tbody>\n",
       "</table>\n",
       "<p>2261816 rows × 13 columns</p>\n",
       "</div>"
      ],
      "text/plain": [
       "         id_emprestimo codigo_barras                 data_renovacao  \\\n",
       "0               709684       L095049                            NaN   \n",
       "1               709685       L167050                            NaN   \n",
       "2               709686    2006017618  2010/01/26 08:07:01.738000000   \n",
       "3               709687       L184117  2010/01/18 11:07:46.470000000   \n",
       "4               709684       L095049                            NaN   \n",
       "...                ...           ...                            ...   \n",
       "2261811        2989086    2008047044                            NaN   \n",
       "2261812        2989087    2008047047                            NaN   \n",
       "2261813        2989088    2010052905                            NaN   \n",
       "2261814        2989089    2010048023                            NaN   \n",
       "2261815        2989090    2013106838                            NaN   \n",
       "\n",
       "                       data_emprestimo                 data_devolucao  \\\n",
       "0        2010/01/04 07:44:10.721000000  2010/01/05 16:26:12.662000000   \n",
       "1        2010/01/04 07:44:10.750000000  2010/01/12 07:34:13.934000000   \n",
       "2        2010/01/04 08:08:44.081000000  2010/02/25 07:36:25.800000000   \n",
       "3        2010/01/04 08:24:21.284000000  2010/02/03 08:58:45.692000000   \n",
       "4        2010/01/04 07:44:10.721000000  2010/01/05 16:26:12.662000000   \n",
       "...                                ...                            ...   \n",
       "2261811  2020/05/05 19:51:06.059000000  2021/05/13 14:53:31.000000000   \n",
       "2261812  2020/05/05 19:51:06.135000000  2021/05/13 14:53:38.000000000   \n",
       "2261813  2020/05/05 19:51:06.164000000  2021/05/13 15:01:46.000000000   \n",
       "2261814  2020/06/09 11:54:02.669000000  2021/07/21 15:33:55.000000000   \n",
       "2261815  2020/06/09 11:54:02.852000000  2021/07/21 15:33:45.000000000   \n",
       "\n",
       "         matricula_ou_siape             tipo_vinculo_usuario  id_exemplar  \\\n",
       "0              2.008023e+09               ALUNO DE GRADUAÇÃO      13259.0   \n",
       "1              2.008023e+09               ALUNO DE GRADUAÇÃO      70865.0   \n",
       "2              2.008112e+09           ALUNO DE PÓS-GRADUAÇÃO     195347.0   \n",
       "3              2.007211e+08               ALUNO DE GRADUAÇÃO     131639.0   \n",
       "4              2.008023e+09               ALUNO DE GRADUAÇÃO      13259.0   \n",
       "...                     ...                              ...          ...   \n",
       "2261811        3.067431e+06  SERVIDOR TÉCNICO-ADMINISTRATIVO     256297.0   \n",
       "2261812        3.067431e+06  SERVIDOR TÉCNICO-ADMINISTRATIVO     256406.0   \n",
       "2261813        3.067431e+06  SERVIDOR TÉCNICO-ADMINISTRATIVO     807821.0   \n",
       "2261814        2.020101e+10           ALUNO DE PÓS-GRADUAÇÃO     804885.0   \n",
       "2261815        2.020101e+10           ALUNO DE PÓS-GRADUAÇÃO    1099777.0   \n",
       "\n",
       "                   colecao                                         biblioteca  \\\n",
       "0        Acervo Circulante                     Biblioteca Central Zila Mamede   \n",
       "1        Acervo Circulante                     Biblioteca Central Zila Mamede   \n",
       "2        Acervo Circulante  Biblioteca Setorial Prof. Rodolfo Helinski - E...   \n",
       "3        Acervo Circulante                     Biblioteca Central Zila Mamede   \n",
       "4        Acervo Circulante                     Biblioteca Central Zila Mamede   \n",
       "...                    ...                                                ...   \n",
       "2261811  Acervo Circulante  Biblioteca Setorial da Faculdade de Ciências d...   \n",
       "2261812  Acervo Circulante  Biblioteca Setorial da Faculdade de Ciências d...   \n",
       "2261813  Acervo Circulante  Biblioteca Setorial da Faculdade de Ciências d...   \n",
       "2261814  Acervo Circulante                     Biblioteca Central Zila Mamede   \n",
       "2261815  Acervo Circulante                     Biblioteca Central Zila Mamede   \n",
       "\n",
       "        status_material  localizacao  registro_sistema  \n",
       "0               REGULAR        630.0            4225.0  \n",
       "1               REGULAR        647.0           25009.0  \n",
       "2               REGULAR        640.0           75019.0  \n",
       "3               REGULAR        609.0           44494.0  \n",
       "4               REGULAR        630.0            4225.0  \n",
       "...                 ...          ...               ...  \n",
       "2261811         REGULAR        684.0          110098.0  \n",
       "2261812         REGULAR        628.0          110171.0  \n",
       "2261813         REGULAR        653.0          134173.0  \n",
       "2261814         REGULAR        675.0           67712.0  \n",
       "2261815         REGULAR         14.0          205153.0  \n",
       "\n",
       "[2261816 rows x 13 columns]"
      ]
     },
     "execution_count": 131,
     "metadata": {},
     "output_type": "execute_result"
    }
   ],
   "source": [
    "df_mesclado = pd.merge(df, dados_exemplares, on='codigo_barras', how='left')\n",
    "df_mesclado"
   ]
  },
  {
   "cell_type": "markdown",
   "id": "10b7f134",
   "metadata": {},
   "source": [
    "### Fazendo a limpeza básica"
   ]
  },
  {
   "cell_type": "code",
   "execution_count": 132,
   "id": "aeeda249",
   "metadata": {},
   "outputs": [
    {
     "data": {
      "application/vnd.microsoft.datawrangler.viewer.v0+json": {
       "columns": [
        {
         "name": "index",
         "rawType": "object",
         "type": "string"
        },
        {
         "name": "0",
         "rawType": "int64",
         "type": "integer"
        }
       ],
       "ref": "fa0f6c67-2d70-4bbe-9117-a5b94b55af07",
       "rows": [
        [
         "id_emprestimo",
         "0"
        ],
        [
         "codigo_barras",
         "0"
        ],
        [
         "data_renovacao",
         "1287963"
        ],
        [
         "data_emprestimo",
         "0"
        ],
        [
         "data_devolucao",
         "6484"
        ],
        [
         "matricula_ou_siape",
         "3171"
        ],
        [
         "tipo_vinculo_usuario",
         "0"
        ],
        [
         "id_exemplar",
         "189258"
        ],
        [
         "colecao",
         "189258"
        ],
        [
         "biblioteca",
         "189258"
        ],
        [
         "status_material",
         "189258"
        ],
        [
         "localizacao",
         "189258"
        ],
        [
         "registro_sistema",
         "189258"
        ]
       ],
       "shape": {
        "columns": 1,
        "rows": 13
       }
      },
      "text/plain": [
       "id_emprestimo                 0\n",
       "codigo_barras                 0\n",
       "data_renovacao          1287963\n",
       "data_emprestimo               0\n",
       "data_devolucao             6484\n",
       "matricula_ou_siape         3171\n",
       "tipo_vinculo_usuario          0\n",
       "id_exemplar              189258\n",
       "colecao                  189258\n",
       "biblioteca               189258\n",
       "status_material          189258\n",
       "localizacao              189258\n",
       "registro_sistema         189258\n",
       "dtype: int64"
      ]
     },
     "execution_count": 132,
     "metadata": {},
     "output_type": "execute_result"
    }
   ],
   "source": [
    "df_mesclado.isnull().sum()"
   ]
  },
  {
   "cell_type": "code",
   "execution_count": 133,
   "id": "e060a764",
   "metadata": {},
   "outputs": [],
   "source": [
    "df_limpo = df_mesclado.dropna(subset='id_exemplar')"
   ]
  },
  {
   "cell_type": "code",
   "execution_count": 134,
   "id": "52bcbf68",
   "metadata": {},
   "outputs": [
    {
     "data": {
      "application/vnd.microsoft.datawrangler.viewer.v0+json": {
       "columns": [
        {
         "name": "index",
         "rawType": "object",
         "type": "string"
        },
        {
         "name": "0",
         "rawType": "int64",
         "type": "integer"
        }
       ],
       "ref": "9b2f5223-33bd-4c5f-bfd7-374be8600413",
       "rows": [
        [
         "id_emprestimo",
         "0"
        ],
        [
         "codigo_barras",
         "0"
        ],
        [
         "data_renovacao",
         "1162088"
        ],
        [
         "data_emprestimo",
         "0"
        ],
        [
         "data_devolucao",
         "6178"
        ],
        [
         "matricula_ou_siape",
         "2893"
        ],
        [
         "tipo_vinculo_usuario",
         "0"
        ],
        [
         "id_exemplar",
         "0"
        ],
        [
         "colecao",
         "0"
        ],
        [
         "biblioteca",
         "0"
        ],
        [
         "status_material",
         "0"
        ],
        [
         "localizacao",
         "0"
        ],
        [
         "registro_sistema",
         "0"
        ]
       ],
       "shape": {
        "columns": 1,
        "rows": 13
       }
      },
      "text/plain": [
       "id_emprestimo                 0\n",
       "codigo_barras                 0\n",
       "data_renovacao          1162088\n",
       "data_emprestimo               0\n",
       "data_devolucao             6178\n",
       "matricula_ou_siape         2893\n",
       "tipo_vinculo_usuario          0\n",
       "id_exemplar                   0\n",
       "colecao                       0\n",
       "biblioteca                    0\n",
       "status_material               0\n",
       "localizacao                   0\n",
       "registro_sistema              0\n",
       "dtype: int64"
      ]
     },
     "execution_count": 134,
     "metadata": {},
     "output_type": "execute_result"
    }
   ],
   "source": [
    "df_limpo.isnull().sum()"
   ]
  },
  {
   "cell_type": "markdown",
   "id": "23dc1d73",
   "metadata": {},
   "source": [
    "Data renovação é quando pega empprestado e aumenta o prazo\n",
    "\n",
    "Data devolução em branco são os que estão em emprestimo\n",
    "\n"
   ]
  },
  {
   "cell_type": "code",
   "execution_count": 135,
   "id": "7e099094",
   "metadata": {},
   "outputs": [
    {
     "data": {
      "application/vnd.microsoft.datawrangler.viewer.v0+json": {
       "columns": [
        {
         "name": "index",
         "rawType": "int64",
         "type": "integer"
        },
        {
         "name": "id_emprestimo",
         "rawType": "int64",
         "type": "integer"
        },
        {
         "name": "codigo_barras",
         "rawType": "object",
         "type": "string"
        },
        {
         "name": "data_renovacao",
         "rawType": "object",
         "type": "unknown"
        },
        {
         "name": "data_emprestimo",
         "rawType": "object",
         "type": "string"
        },
        {
         "name": "data_devolucao",
         "rawType": "object",
         "type": "unknown"
        },
        {
         "name": "matricula_ou_siape",
         "rawType": "float64",
         "type": "float"
        },
        {
         "name": "tipo_vinculo_usuario",
         "rawType": "object",
         "type": "string"
        },
        {
         "name": "id_exemplar",
         "rawType": "float64",
         "type": "float"
        },
        {
         "name": "colecao",
         "rawType": "object",
         "type": "string"
        },
        {
         "name": "biblioteca",
         "rawType": "object",
         "type": "string"
        },
        {
         "name": "status_material",
         "rawType": "object",
         "type": "string"
        },
        {
         "name": "localizacao",
         "rawType": "float64",
         "type": "float"
        },
        {
         "name": "registro_sistema",
         "rawType": "float64",
         "type": "float"
        }
       ],
       "ref": "caacef48-0f0e-4a32-b741-2ae42f2a1877",
       "rows": [
        [
         "0",
         "709684",
         "L095049",
         null,
         "2010/01/04 07:44:10.721000000",
         "2010/01/05 16:26:12.662000000",
         "2008023265.0",
         "ALUNO DE GRADUAÇÃO",
         "13259.0",
         "Acervo Circulante",
         "Biblioteca Central Zila Mamede",
         "REGULAR",
         "630.0",
         "4225.0"
        ],
        [
         "1",
         "709685",
         "L167050",
         null,
         "2010/01/04 07:44:10.750000000",
         "2010/01/12 07:34:13.934000000",
         "2008023265.0",
         "ALUNO DE GRADUAÇÃO",
         "70865.0",
         "Acervo Circulante",
         "Biblioteca Central Zila Mamede",
         "REGULAR",
         "647.0",
         "25009.0"
        ],
        [
         "2",
         "709686",
         "2006017618",
         "2010/01/26 08:07:01.738000000",
         "2010/01/04 08:08:44.081000000",
         "2010/02/25 07:36:25.800000000",
         "2008112114.0",
         "ALUNO DE PÓS-GRADUAÇÃO",
         "195347.0",
         "Acervo Circulante",
         "Biblioteca Setorial Prof. Rodolfo Helinski - Escola Agrícola de Jundiaí - EAJ  - Macaiba",
         "REGULAR",
         "640.0",
         "75019.0"
        ],
        [
         "3",
         "709687",
         "L184117",
         "2010/01/18 11:07:46.470000000",
         "2010/01/04 08:24:21.284000000",
         "2010/02/03 08:58:45.692000000",
         "200721119.0",
         "ALUNO DE GRADUAÇÃO",
         "131639.0",
         "Acervo Circulante",
         "Biblioteca Central Zila Mamede",
         "REGULAR",
         "609.0",
         "44494.0"
        ],
        [
         "8",
         "709688",
         "2007027500",
         "2010/01/19 15:59:26.464000000",
         "2010/01/04 08:27:33.569000000",
         "2010/02/03 13:06:30.662000000",
         "2009045971.0",
         "ALUNO DE GRADUAÇÃO",
         "225646.0",
         "Acervo Circulante",
         "Biblioteca Central Zila Mamede",
         "REGULAR",
         "686.0",
         "91736.0"
        ],
        [
         "9",
         "709689",
         "L157395",
         "2010/01/19 15:59:26.447000000",
         "2010/01/04 08:27:33.596000000",
         "2010/02/03 13:06:43.125000000",
         "2009045971.0",
         "ALUNO DE GRADUAÇÃO",
         "57040.0",
         "Acervo Circulante",
         "Biblioteca Central Zila Mamede",
         "REGULAR",
         "698.0",
         "20943.0"
        ],
        [
         "10",
         "709690",
         "2007019312",
         null,
         "2010/01/04 08:49:57.857000000",
         "2010/01/13 09:58:25.443000000",
         "200701444.0",
         "ALUNO DE GRADUAÇÃO",
         "225786.0",
         "Acervo Circulante",
         "Biblioteca Central Zila Mamede",
         "REGULAR",
         "698.0",
         "91962.0"
        ],
        [
         "11",
         "709691",
         "2008046357",
         "2010/01/19 11:50:13.404000000",
         "2010/01/04 09:02:30.576000000",
         "2010/02/02 12:13:36.132000000",
         "200507453.0",
         "ALUNO DE GRADUAÇÃO",
         "256537.0",
         "Acervo Circulante",
         "Biblioteca Setorial Bertha Cruz Enders - ­Escola de Saúde da UFRN - ESUFRN",
         "REGULAR",
         "645.0",
         "110273.0"
        ],
        [
         "12",
         "709692",
         "L187962",
         null,
         "2010/01/04 09:07:06.131000000",
         "2010/06/22 18:55:04.000000000",
         "200404369.0",
         "ALUNO DE GRADUAÇÃO",
         "143654.0",
         "Acervo Circulante",
         "Biblioteca Central Zila Mamede",
         "REGULAR",
         "658.0",
         "51005.0"
        ],
        [
         "13",
         "709693",
         "L192776",
         null,
         "2010/01/04 09:07:06.159000000",
         "2010/06/22 18:54:46.000000000",
         "200404369.0",
         "ALUNO DE GRADUAÇÃO",
         "159348.0",
         "Acervo Circulante",
         "Biblioteca Central Zila Mamede",
         "REGULAR",
         "697.0",
         "59235.0"
        ],
        [
         "14",
         "709694",
         "L202783",
         null,
         "2010/01/04 09:09:38.329000000",
         "2010/02/03 13:00:49.746000000",
         "198420637.0",
         "DOCENTE",
         "274136.0",
         "Acervo Circulante",
         "Biblioteca Central Zila Mamede",
         "REGULAR",
         "643.0",
         "120537.0"
        ],
        [
         "15",
         "709695",
         "2007035128",
         null,
         "2010/01/04 09:14:55.681000000",
         "2010/01/14 10:15:08.388000000",
         "2008005020.0",
         "ALUNO DE GRADUAÇÃO",
         "235887.0",
         "Acervo Circulante",
         "Biblioteca Central Zila Mamede",
         "REGULAR",
         "630.0",
         "97666.0"
        ],
        [
         "16",
         "709696",
         "L122346",
         null,
         "2010/01/04 09:14:55.721000000",
         "2010/01/14 10:15:16.041000000",
         "2008005020.0",
         "ALUNO DE GRADUAÇÃO",
         "28681.0",
         "Acervo Circulante",
         "Biblioteca Central Zila Mamede",
         "REGULAR",
         "612.0",
         "10128.0"
        ],
        [
         "17",
         "709697",
         "L048797",
         null,
         "2010/01/04 09:18:17.514000000",
         "2010/01/14 10:14:59.964000000",
         "2008005020.0",
         "ALUNO DE GRADUAÇÃO",
         "131863.0",
         "Acervo Circulante",
         "Biblioteca Central Zila Mamede",
         "REGULAR",
         "673.0",
         "44568.0"
        ],
        [
         "18",
         "709698",
         "2009047725",
         "2010/01/18 14:44:41.163000000",
         "2010/01/04 09:21:19.099000000",
         "2010/02/02 12:02:38.444000000",
         "2009046838.0",
         "ALUNO DE GRADUAÇÃO",
         "281004.0",
         "Acervo Circulante",
         "Biblioteca Setorial do Centro Ciências da Saúde - CCS",
         "REGULAR",
         "651.0",
         "123552.0"
        ],
        [
         "21",
         "709699",
         "2009051872",
         "2010/01/18 14:44:41.144000000",
         "2010/01/04 09:21:19.126000000",
         "2010/02/02 12:03:35.649000000",
         "2009046838.0",
         "ALUNO DE GRADUAÇÃO",
         "281880.0",
         "Acervo Circulante",
         "Biblioteca Setorial do Centro Ciências da Saúde - CCS",
         "REGULAR",
         "647.0",
         "57653.0"
        ],
        [
         "22",
         "709700",
         "L200358",
         null,
         "2010/01/04 09:42:28.589000000",
         "2010/01/04 09:42:56.820000000",
         "2010078996.0",
         "ALUNO DE GRADUAÇÃO",
         "37513.0",
         "Acervo Circulante",
         "Biblioteca Central Zila Mamede",
         "REGULAR",
         "674.0",
         "62489.0"
        ],
        [
         "24",
         "709702",
         "L200904",
         "2010/01/19 19:02:53.430000000",
         "2010/01/04 09:48:05.637000000",
         "2010/02/04 18:23:55.925000000",
         "2008029450.0",
         "ALUNO DE GRADUAÇÃO",
         "158308.0",
         "Acervo Circulante",
         "Biblioteca Central Zila Mamede",
         "REGULAR",
         "631.0",
         "58789.0"
        ],
        [
         "25",
         "709703",
         "2007020476",
         "2010/01/13 09:39:02.522000000",
         "2010/01/04 09:56:42.325000000",
         "2010/01/21 10:25:28.007000000",
         "200625578.0",
         "ALUNO DE GRADUAÇÃO",
         "221707.0",
         "Acervo Circulante",
         "Biblioteca Central Zila Mamede",
         "ESPECIAL",
         "634.0",
         "90238.0"
        ],
        [
         "26",
         "709704",
         "2006021442",
         "2010/01/17 18:56:43.923000000",
         "2010/01/04 09:58:46.522000000",
         "2010/02/01 13:59:02.528000000",
         "2008009890.0",
         "ALUNO DE GRADUAÇÃO",
         "199419.0",
         "Acervo Circulante",
         "Biblioteca Central Zila Mamede",
         "REGULAR",
         "699.0",
         "77866.0"
        ],
        [
         "27",
         "709705",
         "2009032168",
         "2010/01/17 18:56:43.909000000",
         "2010/01/04 09:58:46.549000000",
         "2010/01/20 13:14:34.464000000",
         "2008009890.0",
         "ALUNO DE GRADUAÇÃO",
         "273487.0",
         "Acervo Circulante",
         "Biblioteca Central Zila Mamede",
         "REGULAR",
         "623.0",
         "120127.0"
        ],
        [
         "40",
         "709706",
         "2009032010",
         "2010/01/17 18:56:43.869000000",
         "2010/01/04 09:58:46.575000000",
         "2010/02/01 13:58:46.387000000",
         "2008009890.0",
         "ALUNO DE GRADUAÇÃO",
         "273783.0",
         "Acervo Circulante",
         "Biblioteca Central Zila Mamede",
         "REGULAR",
         "812.0",
         "252558.0"
        ],
        [
         "41",
         "709707",
         "2008000130",
         null,
         "2010/01/04 10:00:22.435000000",
         "2010/01/13 10:01:45.234000000",
         "200711946.0",
         "ALUNO DE GRADUAÇÃO",
         "246141.0",
         "Acervo Circulante",
         "Biblioteca Central Zila Mamede",
         "REGULAR",
         "615.0",
         "103080.0"
        ],
        [
         "42",
         "709708",
         "L134569",
         null,
         "2010/01/04 10:00:22.459000000",
         "2010/01/18 10:12:44.020000000",
         "200711946.0",
         "ALUNO DE GRADUAÇÃO",
         "116167.0",
         "Acervo Circulante",
         "Biblioteca Central Zila Mamede",
         "REGULAR",
         "669.0",
         "38177.0"
        ],
        [
         "43",
         "709709",
         "2009011815",
         "2010/02/03 12:58:49.734000000",
         "2010/01/04 10:02:59.828000000",
         "2010/03/02 16:38:38.231000000",
         "2008106583.0",
         "ALUNO DE PÓS-GRADUAÇÃO",
         "265828.0",
         "Acervo Circulante",
         "Biblioteca Setorial Prof. Alberto Moreira Campos - ­Departamento de Odontologia",
         "REGULAR",
         "620.0",
         "114878.0"
        ],
        [
         "44",
         "709710",
         "L198816",
         null,
         "2010/01/04 10:04:17.306000000",
         "2010/01/05 11:26:52.938000000",
         "200506718.0",
         "ALUNO DE GRADUAÇÃO",
         "181821.0",
         "Acervo Circulante",
         "Biblioteca Central Zila Mamede",
         "REGULAR",
         "699.0",
         "69931.0"
        ],
        [
         "45",
         "709711",
         "L198806",
         null,
         "2010/01/04 10:04:17.344000000",
         "2010/01/05 11:26:42.492000000",
         "200506718.0",
         "ALUNO DE GRADUAÇÃO",
         "181878.0",
         "Acervo Circulante",
         "Biblioteca Central Zila Mamede",
         "REGULAR",
         "610.0",
         "69950.0"
        ],
        [
         "46",
         "709712",
         "2007033792",
         null,
         "2010/01/04 10:07:00.939000000",
         "2010/01/20 10:30:58.689000000",
         "198423750.0",
         "DOCENTE",
         "167683.0",
         "Acervo Circulante",
         "Biblioteca Setorial Prof. Ronaldo Xavier de Arruda - CCET",
         "REGULAR",
         "679.0",
         "62817.0"
        ],
        [
         "47",
         "709713",
         "2008010513",
         null,
         "2010/01/04 10:23:39.830000000",
         "2010/01/05 11:57:06.156000000",
         "2011101417.0",
         "ALUNO DE PÓS-GRADUAÇÃO",
         "190443.0",
         "Acervo Circulante",
         "Biblioteca Central Zila Mamede",
         "REGULAR",
         "656.0",
         "73080.0"
        ],
        [
         "48",
         "709714",
         "2008046332",
         null,
         "2010/01/04 10:23:39.859000000",
         "2010/01/05 11:57:01.461000000",
         "2011101417.0",
         "ALUNO DE PÓS-GRADUAÇÃO",
         "256856.0",
         "Acervo Circulante",
         "Biblioteca Central Zila Mamede",
         "REGULAR",
         "619.0",
         "110500.0"
        ],
        [
         "49",
         "709715",
         "L200359",
         "2010/01/19 14:38:53.133000000",
         "2010/01/04 10:28:01.480000000",
         "2010/02/01 14:41:13.147000000",
         "2010078996.0",
         "ALUNO DE GRADUAÇÃO",
         "37519.0",
         "Acervo Circulante",
         "Biblioteca Central Zila Mamede",
         "REGULAR",
         "644.0",
         "62489.0"
        ],
        [
         "50",
         "709716",
         "L107038",
         "2010/01/19 13:46:16.556000000",
         "2010/01/04 10:29:19.747000000",
         "2010/02/03 08:06:24.253000000",
         "200615610.0",
         "ALUNO DE GRADUAÇÃO",
         "22448.0",
         "Acervo Circulante",
         "Biblioteca Central Zila Mamede",
         "REGULAR",
         "677.0",
         "7643.0"
        ],
        [
         "51",
         "709717",
         "2007019241",
         "2010/01/19 13:46:16.545000000",
         "2010/01/04 10:29:19.777000000",
         "2010/02/03 08:06:10.018000000",
         "200615610.0",
         "ALUNO DE GRADUAÇÃO",
         "220637.0",
         "Acervo Circulante",
         "Biblioteca Central Zila Mamede",
         "REGULAR",
         "693.0",
         "89838.0"
        ],
        [
         "52",
         "709718",
         "2007034241",
         null,
         "2010/01/04 10:39:25.441000000",
         "2010/01/14 10:21:53.603000000",
         "2008004058.0",
         "ALUNO DE GRADUAÇÃO",
         "234612.0",
         "Acervo Circulante",
         "Biblioteca Central Zila Mamede",
         "REGULAR",
         "615.0",
         "97231.0"
        ],
        [
         "53",
         "709719",
         "2009001847",
         null,
         "2010/01/04 10:39:25.469000000",
         "2010/01/14 10:22:07.734000000",
         "2008004058.0",
         "ALUNO DE GRADUAÇÃO",
         "259883.0",
         "Acervo Circulante",
         "Biblioteca Central Zila Mamede",
         "REGULAR",
         "619.0",
         "112361.0"
        ],
        [
         "54",
         "709720",
         "001218",
         "2010/01/18 08:53:10.259000000",
         "2010/01/04 10:42:37.839000000",
         "2010/02/05 08:28:58.837000000",
         "2009067784.0",
         "ALUNO DE GRADUAÇÃO",
         "257846.0",
         "Acervo Circulante",
         "Biblioteca Setorial Bertha Cruz Enders - ­Escola de Saúde da UFRN - ESUFRN",
         "REGULAR",
         "633.0",
         "111192.0"
        ],
        [
         "55",
         "709721",
         "001352",
         "2010/01/18 08:53:10.244000000",
         "2010/01/04 10:42:37.870000000",
         "2010/02/05 08:28:52.964000000",
         "2009067784.0",
         "ALUNO DE GRADUAÇÃO",
         "258082.0",
         "Acervo Circulante",
         "Biblioteca Setorial Bertha Cruz Enders - ­Escola de Saúde da UFRN - ESUFRN",
         "REGULAR",
         "662.0",
         "111396.0"
        ],
        [
         "56",
         "709722",
         "001207",
         "2010/01/18 08:53:10.213000000",
         "2010/01/04 10:42:37.896000000",
         "2010/02/05 08:29:05.961000000",
         "2009067784.0",
         "ALUNO DE GRADUAÇÃO",
         "258122.0",
         "Acervo Circulante",
         "Biblioteca Setorial Bertha Cruz Enders - ­Escola de Saúde da UFRN - ESUFRN",
         "REGULAR",
         "644.0",
         "111432.0"
        ],
        [
         "57",
         "709723",
         "2008052803",
         null,
         "2010/01/04 10:43:33.249000000",
         "2010/01/20 12:44:06.049000000",
         "200505001.0",
         "ALUNO DE GRADUAÇÃO",
         "260042.0",
         "Acervo Circulante",
         "Biblioteca Central Zila Mamede",
         "REGULAR",
         "340.0",
         "185280.0"
        ],
        [
         "58",
         "709724",
         "2009022118",
         null,
         "2010/01/04 10:44:44.282000000",
         "2010/01/28 10:53:00.346000000",
         "2009064639.0",
         "ALUNO DE GRADUAÇÃO",
         "259469.0",
         "Acervo Circulante",
         "Biblioteca Central Zila Mamede",
         "REGULAR",
         "602.0",
         "101891.0"
        ],
        [
         "59",
         "709725",
         "2009022349",
         null,
         "2010/01/04 10:44:44.311000000",
         "2010/01/28 10:53:21.511000000",
         "2009064639.0",
         "ALUNO DE GRADUAÇÃO",
         "270247.0",
         "Acervo Circulante",
         "Biblioteca Central Zila Mamede",
         "REGULAR",
         "625.0",
         "117791.0"
        ],
        [
         "60",
         "709726",
         "2008033768",
         null,
         "2010/01/04 10:55:05.694000000",
         "2010/01/14 14:49:22.521000000",
         "2011063343.0",
         "ALUNO DE GRADUAÇÃO",
         "265767.0",
         "Acervo Circulante",
         "Biblioteca Setorial do Centro de Ciências Humanas, Letras e Artes - CCHLA",
         "REGULAR",
         "694.0",
         "114845.0"
        ],
        [
         "61",
         "709727",
         "2007032237",
         null,
         "2010/01/04 10:56:34.814000000",
         "2010/01/28 11:12:34.011000000",
         "2011113122.0",
         "ALUNO DE PÓS-GRADUAÇÃO",
         "228451.0",
         "Acervo Circulante",
         "Biblioteca Central Zila Mamede",
         "REGULAR",
         "692.0",
         "93879.0"
        ],
        [
         "62",
         "709728",
         "L159441",
         null,
         "2010/01/04 10:56:34.863000000",
         "2010/01/28 11:12:19.000000000",
         "2011113122.0",
         "ALUNO DE PÓS-GRADUAÇÃO",
         "63094.0",
         "Acervo Circulante",
         "Biblioteca Central Zila Mamede",
         "REGULAR",
         "685.0",
         "22538.0"
        ],
        [
         "63",
         "709729",
         "L193787",
         null,
         "2010/01/04 10:56:34.892000000",
         "2010/01/28 11:12:27.348000000",
         "2011113122.0",
         "ALUNO DE PÓS-GRADUAÇÃO",
         "162957.0",
         "Acervo Circulante",
         "Biblioteca Central Zila Mamede",
         "REGULAR",
         "608.0",
         "60631.0"
        ],
        [
         "64",
         "709730",
         "2006040088",
         "2010/01/19 09:16:57.265000000",
         "2010/01/04 10:57:59.104000000",
         "2010/02/12 11:30:47.029000000",
         "200633139.0",
         "ALUNO DE GRADUAÇÃO",
         "159996.0",
         "Acervo Circulante",
         "Biblioteca Setorial do Centro Ciências da Saúde - CCS",
         "REGULAR",
         "628.0",
         "59475.0"
        ],
        [
         "65",
         "709731",
         "S014019",
         "2010/01/19 09:16:57.251000000",
         "2010/01/04 10:57:59.136000000",
         "2010/02/12 11:30:28.193000000",
         "200633139.0",
         "ALUNO DE GRADUAÇÃO",
         "159137.0",
         "Acervo Circulante",
         "Biblioteca Setorial do Centro Ciências da Saúde - CCS",
         "REGULAR",
         "624.0",
         "59130.0"
        ],
        [
         "66",
         "709732",
         "S019596",
         "2010/01/19 09:16:57.225000000",
         "2010/01/04 10:57:59.167000000",
         "2010/02/12 11:31:04.703000000",
         "200633139.0",
         "ALUNO DE GRADUAÇÃO",
         "189440.0",
         "Acervo Circulante",
         "Biblioteca Setorial do Centro Ciências da Saúde - CCS",
         "REGULAR",
         "664.0",
         "72724.0"
        ],
        [
         "67",
         "709733",
         "L075035",
         null,
         "2010/01/04 10:58:54.260000000",
         "2010/01/05 11:35:03.000000000",
         "2010110903.0",
         "ALUNO DE PÓS-GRADUAÇÃO",
         "166423.0",
         "Acervo Circulante",
         "Biblioteca Central Zila Mamede",
         "REGULAR",
         "663.0",
         "62285.0"
        ],
        [
         "68",
         "709734",
         "L075039",
         null,
         "2010/01/04 10:58:54.283000000",
         "2010/01/05 11:35:24.711000000",
         "2010110903.0",
         "ALUNO DE PÓS-GRADUAÇÃO",
         "166468.0",
         "Acervo Circulante",
         "Biblioteca Central Zila Mamede",
         "REGULAR",
         "691.0",
         "62285.0"
        ]
       ],
       "shape": {
        "columns": 13,
        "rows": 2072522
       }
      },
      "text/html": [
       "<div>\n",
       "<style scoped>\n",
       "    .dataframe tbody tr th:only-of-type {\n",
       "        vertical-align: middle;\n",
       "    }\n",
       "\n",
       "    .dataframe tbody tr th {\n",
       "        vertical-align: top;\n",
       "    }\n",
       "\n",
       "    .dataframe thead th {\n",
       "        text-align: right;\n",
       "    }\n",
       "</style>\n",
       "<table border=\"1\" class=\"dataframe\">\n",
       "  <thead>\n",
       "    <tr style=\"text-align: right;\">\n",
       "      <th></th>\n",
       "      <th>id_emprestimo</th>\n",
       "      <th>codigo_barras</th>\n",
       "      <th>data_renovacao</th>\n",
       "      <th>data_emprestimo</th>\n",
       "      <th>data_devolucao</th>\n",
       "      <th>matricula_ou_siape</th>\n",
       "      <th>tipo_vinculo_usuario</th>\n",
       "      <th>id_exemplar</th>\n",
       "      <th>colecao</th>\n",
       "      <th>biblioteca</th>\n",
       "      <th>status_material</th>\n",
       "      <th>localizacao</th>\n",
       "      <th>registro_sistema</th>\n",
       "    </tr>\n",
       "  </thead>\n",
       "  <tbody>\n",
       "    <tr>\n",
       "      <th>0</th>\n",
       "      <td>709684</td>\n",
       "      <td>L095049</td>\n",
       "      <td>NaN</td>\n",
       "      <td>2010/01/04 07:44:10.721000000</td>\n",
       "      <td>2010/01/05 16:26:12.662000000</td>\n",
       "      <td>2.008023e+09</td>\n",
       "      <td>ALUNO DE GRADUAÇÃO</td>\n",
       "      <td>13259.0</td>\n",
       "      <td>Acervo Circulante</td>\n",
       "      <td>Biblioteca Central Zila Mamede</td>\n",
       "      <td>REGULAR</td>\n",
       "      <td>630.0</td>\n",
       "      <td>4225.0</td>\n",
       "    </tr>\n",
       "    <tr>\n",
       "      <th>1</th>\n",
       "      <td>709685</td>\n",
       "      <td>L167050</td>\n",
       "      <td>NaN</td>\n",
       "      <td>2010/01/04 07:44:10.750000000</td>\n",
       "      <td>2010/01/12 07:34:13.934000000</td>\n",
       "      <td>2.008023e+09</td>\n",
       "      <td>ALUNO DE GRADUAÇÃO</td>\n",
       "      <td>70865.0</td>\n",
       "      <td>Acervo Circulante</td>\n",
       "      <td>Biblioteca Central Zila Mamede</td>\n",
       "      <td>REGULAR</td>\n",
       "      <td>647.0</td>\n",
       "      <td>25009.0</td>\n",
       "    </tr>\n",
       "    <tr>\n",
       "      <th>2</th>\n",
       "      <td>709686</td>\n",
       "      <td>2006017618</td>\n",
       "      <td>2010/01/26 08:07:01.738000000</td>\n",
       "      <td>2010/01/04 08:08:44.081000000</td>\n",
       "      <td>2010/02/25 07:36:25.800000000</td>\n",
       "      <td>2.008112e+09</td>\n",
       "      <td>ALUNO DE PÓS-GRADUAÇÃO</td>\n",
       "      <td>195347.0</td>\n",
       "      <td>Acervo Circulante</td>\n",
       "      <td>Biblioteca Setorial Prof. Rodolfo Helinski - E...</td>\n",
       "      <td>REGULAR</td>\n",
       "      <td>640.0</td>\n",
       "      <td>75019.0</td>\n",
       "    </tr>\n",
       "    <tr>\n",
       "      <th>3</th>\n",
       "      <td>709687</td>\n",
       "      <td>L184117</td>\n",
       "      <td>2010/01/18 11:07:46.470000000</td>\n",
       "      <td>2010/01/04 08:24:21.284000000</td>\n",
       "      <td>2010/02/03 08:58:45.692000000</td>\n",
       "      <td>2.007211e+08</td>\n",
       "      <td>ALUNO DE GRADUAÇÃO</td>\n",
       "      <td>131639.0</td>\n",
       "      <td>Acervo Circulante</td>\n",
       "      <td>Biblioteca Central Zila Mamede</td>\n",
       "      <td>REGULAR</td>\n",
       "      <td>609.0</td>\n",
       "      <td>44494.0</td>\n",
       "    </tr>\n",
       "    <tr>\n",
       "      <th>8</th>\n",
       "      <td>709688</td>\n",
       "      <td>2007027500</td>\n",
       "      <td>2010/01/19 15:59:26.464000000</td>\n",
       "      <td>2010/01/04 08:27:33.569000000</td>\n",
       "      <td>2010/02/03 13:06:30.662000000</td>\n",
       "      <td>2.009046e+09</td>\n",
       "      <td>ALUNO DE GRADUAÇÃO</td>\n",
       "      <td>225646.0</td>\n",
       "      <td>Acervo Circulante</td>\n",
       "      <td>Biblioteca Central Zila Mamede</td>\n",
       "      <td>REGULAR</td>\n",
       "      <td>686.0</td>\n",
       "      <td>91736.0</td>\n",
       "    </tr>\n",
       "    <tr>\n",
       "      <th>...</th>\n",
       "      <td>...</td>\n",
       "      <td>...</td>\n",
       "      <td>...</td>\n",
       "      <td>...</td>\n",
       "      <td>...</td>\n",
       "      <td>...</td>\n",
       "      <td>...</td>\n",
       "      <td>...</td>\n",
       "      <td>...</td>\n",
       "      <td>...</td>\n",
       "      <td>...</td>\n",
       "      <td>...</td>\n",
       "      <td>...</td>\n",
       "    </tr>\n",
       "    <tr>\n",
       "      <th>2261811</th>\n",
       "      <td>2989086</td>\n",
       "      <td>2008047044</td>\n",
       "      <td>NaN</td>\n",
       "      <td>2020/05/05 19:51:06.059000000</td>\n",
       "      <td>2021/05/13 14:53:31.000000000</td>\n",
       "      <td>3.067431e+06</td>\n",
       "      <td>SERVIDOR TÉCNICO-ADMINISTRATIVO</td>\n",
       "      <td>256297.0</td>\n",
       "      <td>Acervo Circulante</td>\n",
       "      <td>Biblioteca Setorial da Faculdade de Ciências d...</td>\n",
       "      <td>REGULAR</td>\n",
       "      <td>684.0</td>\n",
       "      <td>110098.0</td>\n",
       "    </tr>\n",
       "    <tr>\n",
       "      <th>2261812</th>\n",
       "      <td>2989087</td>\n",
       "      <td>2008047047</td>\n",
       "      <td>NaN</td>\n",
       "      <td>2020/05/05 19:51:06.135000000</td>\n",
       "      <td>2021/05/13 14:53:38.000000000</td>\n",
       "      <td>3.067431e+06</td>\n",
       "      <td>SERVIDOR TÉCNICO-ADMINISTRATIVO</td>\n",
       "      <td>256406.0</td>\n",
       "      <td>Acervo Circulante</td>\n",
       "      <td>Biblioteca Setorial da Faculdade de Ciências d...</td>\n",
       "      <td>REGULAR</td>\n",
       "      <td>628.0</td>\n",
       "      <td>110171.0</td>\n",
       "    </tr>\n",
       "    <tr>\n",
       "      <th>2261813</th>\n",
       "      <td>2989088</td>\n",
       "      <td>2010052905</td>\n",
       "      <td>NaN</td>\n",
       "      <td>2020/05/05 19:51:06.164000000</td>\n",
       "      <td>2021/05/13 15:01:46.000000000</td>\n",
       "      <td>3.067431e+06</td>\n",
       "      <td>SERVIDOR TÉCNICO-ADMINISTRATIVO</td>\n",
       "      <td>807821.0</td>\n",
       "      <td>Acervo Circulante</td>\n",
       "      <td>Biblioteca Setorial da Faculdade de Ciências d...</td>\n",
       "      <td>REGULAR</td>\n",
       "      <td>653.0</td>\n",
       "      <td>134173.0</td>\n",
       "    </tr>\n",
       "    <tr>\n",
       "      <th>2261814</th>\n",
       "      <td>2989089</td>\n",
       "      <td>2010048023</td>\n",
       "      <td>NaN</td>\n",
       "      <td>2020/06/09 11:54:02.669000000</td>\n",
       "      <td>2021/07/21 15:33:55.000000000</td>\n",
       "      <td>2.020101e+10</td>\n",
       "      <td>ALUNO DE PÓS-GRADUAÇÃO</td>\n",
       "      <td>804885.0</td>\n",
       "      <td>Acervo Circulante</td>\n",
       "      <td>Biblioteca Central Zila Mamede</td>\n",
       "      <td>REGULAR</td>\n",
       "      <td>675.0</td>\n",
       "      <td>67712.0</td>\n",
       "    </tr>\n",
       "    <tr>\n",
       "      <th>2261815</th>\n",
       "      <td>2989090</td>\n",
       "      <td>2013106838</td>\n",
       "      <td>NaN</td>\n",
       "      <td>2020/06/09 11:54:02.852000000</td>\n",
       "      <td>2021/07/21 15:33:45.000000000</td>\n",
       "      <td>2.020101e+10</td>\n",
       "      <td>ALUNO DE PÓS-GRADUAÇÃO</td>\n",
       "      <td>1099777.0</td>\n",
       "      <td>Acervo Circulante</td>\n",
       "      <td>Biblioteca Central Zila Mamede</td>\n",
       "      <td>REGULAR</td>\n",
       "      <td>14.0</td>\n",
       "      <td>205153.0</td>\n",
       "    </tr>\n",
       "  </tbody>\n",
       "</table>\n",
       "<p>2072522 rows × 13 columns</p>\n",
       "</div>"
      ],
      "text/plain": [
       "         id_emprestimo codigo_barras                 data_renovacao  \\\n",
       "0               709684       L095049                            NaN   \n",
       "1               709685       L167050                            NaN   \n",
       "2               709686    2006017618  2010/01/26 08:07:01.738000000   \n",
       "3               709687       L184117  2010/01/18 11:07:46.470000000   \n",
       "8               709688    2007027500  2010/01/19 15:59:26.464000000   \n",
       "...                ...           ...                            ...   \n",
       "2261811        2989086    2008047044                            NaN   \n",
       "2261812        2989087    2008047047                            NaN   \n",
       "2261813        2989088    2010052905                            NaN   \n",
       "2261814        2989089    2010048023                            NaN   \n",
       "2261815        2989090    2013106838                            NaN   \n",
       "\n",
       "                       data_emprestimo                 data_devolucao  \\\n",
       "0        2010/01/04 07:44:10.721000000  2010/01/05 16:26:12.662000000   \n",
       "1        2010/01/04 07:44:10.750000000  2010/01/12 07:34:13.934000000   \n",
       "2        2010/01/04 08:08:44.081000000  2010/02/25 07:36:25.800000000   \n",
       "3        2010/01/04 08:24:21.284000000  2010/02/03 08:58:45.692000000   \n",
       "8        2010/01/04 08:27:33.569000000  2010/02/03 13:06:30.662000000   \n",
       "...                                ...                            ...   \n",
       "2261811  2020/05/05 19:51:06.059000000  2021/05/13 14:53:31.000000000   \n",
       "2261812  2020/05/05 19:51:06.135000000  2021/05/13 14:53:38.000000000   \n",
       "2261813  2020/05/05 19:51:06.164000000  2021/05/13 15:01:46.000000000   \n",
       "2261814  2020/06/09 11:54:02.669000000  2021/07/21 15:33:55.000000000   \n",
       "2261815  2020/06/09 11:54:02.852000000  2021/07/21 15:33:45.000000000   \n",
       "\n",
       "         matricula_ou_siape             tipo_vinculo_usuario  id_exemplar  \\\n",
       "0              2.008023e+09               ALUNO DE GRADUAÇÃO      13259.0   \n",
       "1              2.008023e+09               ALUNO DE GRADUAÇÃO      70865.0   \n",
       "2              2.008112e+09           ALUNO DE PÓS-GRADUAÇÃO     195347.0   \n",
       "3              2.007211e+08               ALUNO DE GRADUAÇÃO     131639.0   \n",
       "8              2.009046e+09               ALUNO DE GRADUAÇÃO     225646.0   \n",
       "...                     ...                              ...          ...   \n",
       "2261811        3.067431e+06  SERVIDOR TÉCNICO-ADMINISTRATIVO     256297.0   \n",
       "2261812        3.067431e+06  SERVIDOR TÉCNICO-ADMINISTRATIVO     256406.0   \n",
       "2261813        3.067431e+06  SERVIDOR TÉCNICO-ADMINISTRATIVO     807821.0   \n",
       "2261814        2.020101e+10           ALUNO DE PÓS-GRADUAÇÃO     804885.0   \n",
       "2261815        2.020101e+10           ALUNO DE PÓS-GRADUAÇÃO    1099777.0   \n",
       "\n",
       "                   colecao                                         biblioteca  \\\n",
       "0        Acervo Circulante                     Biblioteca Central Zila Mamede   \n",
       "1        Acervo Circulante                     Biblioteca Central Zila Mamede   \n",
       "2        Acervo Circulante  Biblioteca Setorial Prof. Rodolfo Helinski - E...   \n",
       "3        Acervo Circulante                     Biblioteca Central Zila Mamede   \n",
       "8        Acervo Circulante                     Biblioteca Central Zila Mamede   \n",
       "...                    ...                                                ...   \n",
       "2261811  Acervo Circulante  Biblioteca Setorial da Faculdade de Ciências d...   \n",
       "2261812  Acervo Circulante  Biblioteca Setorial da Faculdade de Ciências d...   \n",
       "2261813  Acervo Circulante  Biblioteca Setorial da Faculdade de Ciências d...   \n",
       "2261814  Acervo Circulante                     Biblioteca Central Zila Mamede   \n",
       "2261815  Acervo Circulante                     Biblioteca Central Zila Mamede   \n",
       "\n",
       "        status_material  localizacao  registro_sistema  \n",
       "0               REGULAR        630.0            4225.0  \n",
       "1               REGULAR        647.0           25009.0  \n",
       "2               REGULAR        640.0           75019.0  \n",
       "3               REGULAR        609.0           44494.0  \n",
       "8               REGULAR        686.0           91736.0  \n",
       "...                 ...          ...               ...  \n",
       "2261811         REGULAR        684.0          110098.0  \n",
       "2261812         REGULAR        628.0          110171.0  \n",
       "2261813         REGULAR        653.0          134173.0  \n",
       "2261814         REGULAR        675.0           67712.0  \n",
       "2261815         REGULAR         14.0          205153.0  \n",
       "\n",
       "[2072522 rows x 13 columns]"
      ]
     },
     "execution_count": 135,
     "metadata": {},
     "output_type": "execute_result"
    }
   ],
   "source": [
    "df_limpo.drop_duplicates()"
   ]
  },
  {
   "cell_type": "markdown",
   "id": "3d40be5a",
   "metadata": {},
   "source": [
    "## Alteração"
   ]
  },
  {
   "cell_type": "markdown",
   "id": "49f8c142",
   "metadata": {},
   "source": [
    "### Criação coluna de classificação"
   ]
  },
  {
   "cell_type": "code",
   "execution_count": 136,
   "id": "69e21b8d",
   "metadata": {},
   "outputs": [
    {
     "name": "stderr",
     "output_type": "stream",
     "text": [
      "C:\\Users\\guico\\AppData\\Local\\Temp\\ipykernel_10384\\164830911.py:1: SettingWithCopyWarning:\n",
      "\n",
      "\n",
      "A value is trying to be set on a copy of a slice from a DataFrame.\n",
      "Try using .loc[row_indexer,col_indexer] = value instead\n",
      "\n",
      "See the caveats in the documentation: https://pandas.pydata.org/pandas-docs/stable/user_guide/indexing.html#returning-a-view-versus-a-copy\n",
      "\n"
     ]
    }
   ],
   "source": [
    "df_limpo['Classificação'] = df_limpo['localizacao'].astype(str).str[0]"
   ]
  },
  {
   "cell_type": "code",
   "execution_count": 137,
   "id": "99e1de50",
   "metadata": {},
   "outputs": [
    {
     "name": "stderr",
     "output_type": "stream",
     "text": [
      "C:\\Users\\guico\\AppData\\Local\\Temp\\ipykernel_10384\\4142527767.py:1: SettingWithCopyWarning:\n",
      "\n",
      "\n",
      "A value is trying to be set on a copy of a slice from a DataFrame.\n",
      "Try using .loc[row_indexer,col_indexer] = value instead\n",
      "\n",
      "See the caveats in the documentation: https://pandas.pydata.org/pandas-docs/stable/user_guide/indexing.html#returning-a-view-versus-a-copy\n",
      "\n",
      "C:\\Users\\guico\\AppData\\Local\\Temp\\ipykernel_10384\\4142527767.py:2: SettingWithCopyWarning:\n",
      "\n",
      "\n",
      "A value is trying to be set on a copy of a slice from a DataFrame.\n",
      "Try using .loc[row_indexer,col_indexer] = value instead\n",
      "\n",
      "See the caveats in the documentation: https://pandas.pydata.org/pandas-docs/stable/user_guide/indexing.html#returning-a-view-versus-a-copy\n",
      "\n",
      "C:\\Users\\guico\\AppData\\Local\\Temp\\ipykernel_10384\\4142527767.py:3: SettingWithCopyWarning:\n",
      "\n",
      "\n",
      "A value is trying to be set on a copy of a slice from a DataFrame.\n",
      "Try using .loc[row_indexer,col_indexer] = value instead\n",
      "\n",
      "See the caveats in the documentation: https://pandas.pydata.org/pandas-docs/stable/user_guide/indexing.html#returning-a-view-versus-a-copy\n",
      "\n",
      "C:\\Users\\guico\\AppData\\Local\\Temp\\ipykernel_10384\\4142527767.py:4: SettingWithCopyWarning:\n",
      "\n",
      "\n",
      "A value is trying to be set on a copy of a slice from a DataFrame.\n",
      "Try using .loc[row_indexer,col_indexer] = value instead\n",
      "\n",
      "See the caveats in the documentation: https://pandas.pydata.org/pandas-docs/stable/user_guide/indexing.html#returning-a-view-versus-a-copy\n",
      "\n",
      "C:\\Users\\guico\\AppData\\Local\\Temp\\ipykernel_10384\\4142527767.py:5: SettingWithCopyWarning:\n",
      "\n",
      "\n",
      "A value is trying to be set on a copy of a slice from a DataFrame.\n",
      "Try using .loc[row_indexer,col_indexer] = value instead\n",
      "\n",
      "See the caveats in the documentation: https://pandas.pydata.org/pandas-docs/stable/user_guide/indexing.html#returning-a-view-versus-a-copy\n",
      "\n",
      "C:\\Users\\guico\\AppData\\Local\\Temp\\ipykernel_10384\\4142527767.py:6: SettingWithCopyWarning:\n",
      "\n",
      "\n",
      "A value is trying to be set on a copy of a slice from a DataFrame.\n",
      "Try using .loc[row_indexer,col_indexer] = value instead\n",
      "\n",
      "See the caveats in the documentation: https://pandas.pydata.org/pandas-docs/stable/user_guide/indexing.html#returning-a-view-versus-a-copy\n",
      "\n",
      "C:\\Users\\guico\\AppData\\Local\\Temp\\ipykernel_10384\\4142527767.py:7: SettingWithCopyWarning:\n",
      "\n",
      "\n",
      "A value is trying to be set on a copy of a slice from a DataFrame.\n",
      "Try using .loc[row_indexer,col_indexer] = value instead\n",
      "\n",
      "See the caveats in the documentation: https://pandas.pydata.org/pandas-docs/stable/user_guide/indexing.html#returning-a-view-versus-a-copy\n",
      "\n",
      "C:\\Users\\guico\\AppData\\Local\\Temp\\ipykernel_10384\\4142527767.py:8: SettingWithCopyWarning:\n",
      "\n",
      "\n",
      "A value is trying to be set on a copy of a slice from a DataFrame.\n",
      "Try using .loc[row_indexer,col_indexer] = value instead\n",
      "\n",
      "See the caveats in the documentation: https://pandas.pydata.org/pandas-docs/stable/user_guide/indexing.html#returning-a-view-versus-a-copy\n",
      "\n",
      "C:\\Users\\guico\\AppData\\Local\\Temp\\ipykernel_10384\\4142527767.py:9: SettingWithCopyWarning:\n",
      "\n",
      "\n",
      "A value is trying to be set on a copy of a slice from a DataFrame.\n",
      "Try using .loc[row_indexer,col_indexer] = value instead\n",
      "\n",
      "See the caveats in the documentation: https://pandas.pydata.org/pandas-docs/stable/user_guide/indexing.html#returning-a-view-versus-a-copy\n",
      "\n",
      "C:\\Users\\guico\\AppData\\Local\\Temp\\ipykernel_10384\\4142527767.py:10: SettingWithCopyWarning:\n",
      "\n",
      "\n",
      "A value is trying to be set on a copy of a slice from a DataFrame.\n",
      "Try using .loc[row_indexer,col_indexer] = value instead\n",
      "\n",
      "See the caveats in the documentation: https://pandas.pydata.org/pandas-docs/stable/user_guide/indexing.html#returning-a-view-versus-a-copy\n",
      "\n"
     ]
    }
   ],
   "source": [
    "df_limpo['Classificação'] = df_limpo['Classificação'].replace('0', 'Generalidades. Ciência e conhecimento')\n",
    "df_limpo['Classificação'] = df_limpo['Classificação'].replace('1', 'Filosofia e psicologia')\n",
    "df_limpo['Classificação'] = df_limpo['Classificação'].replace('2', 'Religião')\n",
    "df_limpo['Classificação'] = df_limpo['Classificação'].replace('3', 'Ciências sociais')\n",
    "df_limpo['Classificação'] = df_limpo['Classificação'].replace('4', 'Classe vaga. Provisoriamente não ocupada')\n",
    "df_limpo['Classificação'] = df_limpo['Classificação'].replace('5', 'Matemática e ciências naturais.')\n",
    "df_limpo['Classificação'] = df_limpo['Classificação'].replace('6', 'Ciências aplicadas')\n",
    "df_limpo['Classificação'] = df_limpo['Classificação'].replace('7', 'Belas artes')\n",
    "df_limpo['Classificação'] = df_limpo['Classificação'].replace('8', 'Linguagem. Língua. Linguística')\n",
    "df_limpo['Classificação'] = df_limpo['Classificação'].replace('9', 'Geografia. Biografia. História.')"
   ]
  },
  {
   "cell_type": "code",
   "execution_count": 138,
   "id": "adc31cae",
   "metadata": {},
   "outputs": [
    {
     "data": {
      "application/vnd.microsoft.datawrangler.viewer.v0+json": {
       "columns": [
        {
         "name": "index",
         "rawType": "int64",
         "type": "integer"
        },
        {
         "name": "id_emprestimo",
         "rawType": "int64",
         "type": "integer"
        },
        {
         "name": "codigo_barras",
         "rawType": "object",
         "type": "string"
        },
        {
         "name": "data_renovacao",
         "rawType": "object",
         "type": "unknown"
        },
        {
         "name": "data_emprestimo",
         "rawType": "object",
         "type": "string"
        },
        {
         "name": "data_devolucao",
         "rawType": "object",
         "type": "unknown"
        },
        {
         "name": "matricula_ou_siape",
         "rawType": "float64",
         "type": "float"
        },
        {
         "name": "tipo_vinculo_usuario",
         "rawType": "object",
         "type": "string"
        },
        {
         "name": "id_exemplar",
         "rawType": "float64",
         "type": "float"
        },
        {
         "name": "colecao",
         "rawType": "object",
         "type": "string"
        },
        {
         "name": "biblioteca",
         "rawType": "object",
         "type": "string"
        },
        {
         "name": "status_material",
         "rawType": "object",
         "type": "string"
        },
        {
         "name": "localizacao",
         "rawType": "float64",
         "type": "float"
        },
        {
         "name": "registro_sistema",
         "rawType": "float64",
         "type": "float"
        },
        {
         "name": "Classificação",
         "rawType": "object",
         "type": "string"
        }
       ],
       "ref": "541dc6a8-a169-4169-92b4-c61a2cd854fc",
       "rows": [
        [
         "0",
         "709684",
         "L095049",
         null,
         "2010/01/04 07:44:10.721000000",
         "2010/01/05 16:26:12.662000000",
         "2008023265.0",
         "ALUNO DE GRADUAÇÃO",
         "13259.0",
         "Acervo Circulante",
         "Biblioteca Central Zila Mamede",
         "REGULAR",
         "630.0",
         "4225.0",
         "Ciências aplicadas"
        ],
        [
         "1",
         "709685",
         "L167050",
         null,
         "2010/01/04 07:44:10.750000000",
         "2010/01/12 07:34:13.934000000",
         "2008023265.0",
         "ALUNO DE GRADUAÇÃO",
         "70865.0",
         "Acervo Circulante",
         "Biblioteca Central Zila Mamede",
         "REGULAR",
         "647.0",
         "25009.0",
         "Ciências aplicadas"
        ],
        [
         "2",
         "709686",
         "2006017618",
         "2010/01/26 08:07:01.738000000",
         "2010/01/04 08:08:44.081000000",
         "2010/02/25 07:36:25.800000000",
         "2008112114.0",
         "ALUNO DE PÓS-GRADUAÇÃO",
         "195347.0",
         "Acervo Circulante",
         "Biblioteca Setorial Prof. Rodolfo Helinski - Escola Agrícola de Jundiaí - EAJ  - Macaiba",
         "REGULAR",
         "640.0",
         "75019.0",
         "Ciências aplicadas"
        ],
        [
         "3",
         "709687",
         "L184117",
         "2010/01/18 11:07:46.470000000",
         "2010/01/04 08:24:21.284000000",
         "2010/02/03 08:58:45.692000000",
         "200721119.0",
         "ALUNO DE GRADUAÇÃO",
         "131639.0",
         "Acervo Circulante",
         "Biblioteca Central Zila Mamede",
         "REGULAR",
         "609.0",
         "44494.0",
         "Ciências aplicadas"
        ],
        [
         "4",
         "709684",
         "L095049",
         null,
         "2010/01/04 07:44:10.721000000",
         "2010/01/05 16:26:12.662000000",
         "2008023265.0",
         "ALUNO DE GRADUAÇÃO",
         "13259.0",
         "Acervo Circulante",
         "Biblioteca Central Zila Mamede",
         "REGULAR",
         "630.0",
         "4225.0",
         "Ciências aplicadas"
        ],
        [
         "5",
         "709685",
         "L167050",
         null,
         "2010/01/04 07:44:10.750000000",
         "2010/01/12 07:34:13.934000000",
         "2008023265.0",
         "ALUNO DE GRADUAÇÃO",
         "70865.0",
         "Acervo Circulante",
         "Biblioteca Central Zila Mamede",
         "REGULAR",
         "647.0",
         "25009.0",
         "Ciências aplicadas"
        ],
        [
         "6",
         "709686",
         "2006017618",
         "2010/01/26 08:07:01.738000000",
         "2010/01/04 08:08:44.081000000",
         "2010/02/25 07:36:25.800000000",
         "2008112114.0",
         "ALUNO DE PÓS-GRADUAÇÃO",
         "195347.0",
         "Acervo Circulante",
         "Biblioteca Setorial Prof. Rodolfo Helinski - Escola Agrícola de Jundiaí - EAJ  - Macaiba",
         "REGULAR",
         "640.0",
         "75019.0",
         "Ciências aplicadas"
        ],
        [
         "7",
         "709687",
         "L184117",
         "2010/01/18 11:07:46.470000000",
         "2010/01/04 08:24:21.284000000",
         "2010/02/03 08:58:45.692000000",
         "200721119.0",
         "ALUNO DE GRADUAÇÃO",
         "131639.0",
         "Acervo Circulante",
         "Biblioteca Central Zila Mamede",
         "REGULAR",
         "609.0",
         "44494.0",
         "Ciências aplicadas"
        ],
        [
         "8",
         "709688",
         "2007027500",
         "2010/01/19 15:59:26.464000000",
         "2010/01/04 08:27:33.569000000",
         "2010/02/03 13:06:30.662000000",
         "2009045971.0",
         "ALUNO DE GRADUAÇÃO",
         "225646.0",
         "Acervo Circulante",
         "Biblioteca Central Zila Mamede",
         "REGULAR",
         "686.0",
         "91736.0",
         "Ciências aplicadas"
        ],
        [
         "9",
         "709689",
         "L157395",
         "2010/01/19 15:59:26.447000000",
         "2010/01/04 08:27:33.596000000",
         "2010/02/03 13:06:43.125000000",
         "2009045971.0",
         "ALUNO DE GRADUAÇÃO",
         "57040.0",
         "Acervo Circulante",
         "Biblioteca Central Zila Mamede",
         "REGULAR",
         "698.0",
         "20943.0",
         "Ciências aplicadas"
        ],
        [
         "10",
         "709690",
         "2007019312",
         null,
         "2010/01/04 08:49:57.857000000",
         "2010/01/13 09:58:25.443000000",
         "200701444.0",
         "ALUNO DE GRADUAÇÃO",
         "225786.0",
         "Acervo Circulante",
         "Biblioteca Central Zila Mamede",
         "REGULAR",
         "698.0",
         "91962.0",
         "Ciências aplicadas"
        ],
        [
         "11",
         "709691",
         "2008046357",
         "2010/01/19 11:50:13.404000000",
         "2010/01/04 09:02:30.576000000",
         "2010/02/02 12:13:36.132000000",
         "200507453.0",
         "ALUNO DE GRADUAÇÃO",
         "256537.0",
         "Acervo Circulante",
         "Biblioteca Setorial Bertha Cruz Enders - ­Escola de Saúde da UFRN - ESUFRN",
         "REGULAR",
         "645.0",
         "110273.0",
         "Ciências aplicadas"
        ],
        [
         "12",
         "709692",
         "L187962",
         null,
         "2010/01/04 09:07:06.131000000",
         "2010/06/22 18:55:04.000000000",
         "200404369.0",
         "ALUNO DE GRADUAÇÃO",
         "143654.0",
         "Acervo Circulante",
         "Biblioteca Central Zila Mamede",
         "REGULAR",
         "658.0",
         "51005.0",
         "Ciências aplicadas"
        ],
        [
         "13",
         "709693",
         "L192776",
         null,
         "2010/01/04 09:07:06.159000000",
         "2010/06/22 18:54:46.000000000",
         "200404369.0",
         "ALUNO DE GRADUAÇÃO",
         "159348.0",
         "Acervo Circulante",
         "Biblioteca Central Zila Mamede",
         "REGULAR",
         "697.0",
         "59235.0",
         "Ciências aplicadas"
        ],
        [
         "14",
         "709694",
         "L202783",
         null,
         "2010/01/04 09:09:38.329000000",
         "2010/02/03 13:00:49.746000000",
         "198420637.0",
         "DOCENTE",
         "274136.0",
         "Acervo Circulante",
         "Biblioteca Central Zila Mamede",
         "REGULAR",
         "643.0",
         "120537.0",
         "Ciências aplicadas"
        ],
        [
         "15",
         "709695",
         "2007035128",
         null,
         "2010/01/04 09:14:55.681000000",
         "2010/01/14 10:15:08.388000000",
         "2008005020.0",
         "ALUNO DE GRADUAÇÃO",
         "235887.0",
         "Acervo Circulante",
         "Biblioteca Central Zila Mamede",
         "REGULAR",
         "630.0",
         "97666.0",
         "Ciências aplicadas"
        ],
        [
         "16",
         "709696",
         "L122346",
         null,
         "2010/01/04 09:14:55.721000000",
         "2010/01/14 10:15:16.041000000",
         "2008005020.0",
         "ALUNO DE GRADUAÇÃO",
         "28681.0",
         "Acervo Circulante",
         "Biblioteca Central Zila Mamede",
         "REGULAR",
         "612.0",
         "10128.0",
         "Ciências aplicadas"
        ],
        [
         "17",
         "709697",
         "L048797",
         null,
         "2010/01/04 09:18:17.514000000",
         "2010/01/14 10:14:59.964000000",
         "2008005020.0",
         "ALUNO DE GRADUAÇÃO",
         "131863.0",
         "Acervo Circulante",
         "Biblioteca Central Zila Mamede",
         "REGULAR",
         "673.0",
         "44568.0",
         "Ciências aplicadas"
        ],
        [
         "18",
         "709698",
         "2009047725",
         "2010/01/18 14:44:41.163000000",
         "2010/01/04 09:21:19.099000000",
         "2010/02/02 12:02:38.444000000",
         "2009046838.0",
         "ALUNO DE GRADUAÇÃO",
         "281004.0",
         "Acervo Circulante",
         "Biblioteca Setorial do Centro Ciências da Saúde - CCS",
         "REGULAR",
         "651.0",
         "123552.0",
         "Ciências aplicadas"
        ],
        [
         "19",
         "709698",
         "2009047725",
         "2010/01/18 14:44:41.163000000",
         "2010/01/04 09:21:19.099000000",
         "2010/02/02 12:02:38.444000000",
         "2009046838.0",
         "ALUNO DE GRADUAÇÃO",
         "281004.0",
         "Acervo Circulante",
         "Biblioteca Setorial do Centro Ciências da Saúde - CCS",
         "REGULAR",
         "651.0",
         "123552.0",
         "Ciências aplicadas"
        ],
        [
         "20",
         "709698",
         "2009047725",
         "2010/01/18 14:44:41.163000000",
         "2010/01/04 09:21:19.099000000",
         "2010/02/02 12:02:38.444000000",
         "2009046838.0",
         "ALUNO DE GRADUAÇÃO",
         "281004.0",
         "Acervo Circulante",
         "Biblioteca Setorial do Centro Ciências da Saúde - CCS",
         "REGULAR",
         "651.0",
         "123552.0",
         "Ciências aplicadas"
        ],
        [
         "21",
         "709699",
         "2009051872",
         "2010/01/18 14:44:41.144000000",
         "2010/01/04 09:21:19.126000000",
         "2010/02/02 12:03:35.649000000",
         "2009046838.0",
         "ALUNO DE GRADUAÇÃO",
         "281880.0",
         "Acervo Circulante",
         "Biblioteca Setorial do Centro Ciências da Saúde - CCS",
         "REGULAR",
         "647.0",
         "57653.0",
         "Ciências aplicadas"
        ],
        [
         "22",
         "709700",
         "L200358",
         null,
         "2010/01/04 09:42:28.589000000",
         "2010/01/04 09:42:56.820000000",
         "2010078996.0",
         "ALUNO DE GRADUAÇÃO",
         "37513.0",
         "Acervo Circulante",
         "Biblioteca Central Zila Mamede",
         "REGULAR",
         "674.0",
         "62489.0",
         "Ciências aplicadas"
        ],
        [
         "24",
         "709702",
         "L200904",
         "2010/01/19 19:02:53.430000000",
         "2010/01/04 09:48:05.637000000",
         "2010/02/04 18:23:55.925000000",
         "2008029450.0",
         "ALUNO DE GRADUAÇÃO",
         "158308.0",
         "Acervo Circulante",
         "Biblioteca Central Zila Mamede",
         "REGULAR",
         "631.0",
         "58789.0",
         "Ciências aplicadas"
        ],
        [
         "25",
         "709703",
         "2007020476",
         "2010/01/13 09:39:02.522000000",
         "2010/01/04 09:56:42.325000000",
         "2010/01/21 10:25:28.007000000",
         "200625578.0",
         "ALUNO DE GRADUAÇÃO",
         "221707.0",
         "Acervo Circulante",
         "Biblioteca Central Zila Mamede",
         "ESPECIAL",
         "634.0",
         "90238.0",
         "Ciências aplicadas"
        ],
        [
         "26",
         "709704",
         "2006021442",
         "2010/01/17 18:56:43.923000000",
         "2010/01/04 09:58:46.522000000",
         "2010/02/01 13:59:02.528000000",
         "2008009890.0",
         "ALUNO DE GRADUAÇÃO",
         "199419.0",
         "Acervo Circulante",
         "Biblioteca Central Zila Mamede",
         "REGULAR",
         "699.0",
         "77866.0",
         "Ciências aplicadas"
        ],
        [
         "27",
         "709705",
         "2009032168",
         "2010/01/17 18:56:43.909000000",
         "2010/01/04 09:58:46.549000000",
         "2010/01/20 13:14:34.464000000",
         "2008009890.0",
         "ALUNO DE GRADUAÇÃO",
         "273487.0",
         "Acervo Circulante",
         "Biblioteca Central Zila Mamede",
         "REGULAR",
         "623.0",
         "120127.0",
         "Ciências aplicadas"
        ],
        [
         "28",
         "709704",
         "2006021442",
         "2010/01/17 18:56:43.923000000",
         "2010/01/04 09:58:46.522000000",
         "2010/02/01 13:59:02.528000000",
         "2008009890.0",
         "ALUNO DE GRADUAÇÃO",
         "199419.0",
         "Acervo Circulante",
         "Biblioteca Central Zila Mamede",
         "REGULAR",
         "699.0",
         "77866.0",
         "Ciências aplicadas"
        ],
        [
         "29",
         "709705",
         "2009032168",
         "2010/01/17 18:56:43.909000000",
         "2010/01/04 09:58:46.549000000",
         "2010/01/20 13:14:34.464000000",
         "2008009890.0",
         "ALUNO DE GRADUAÇÃO",
         "273487.0",
         "Acervo Circulante",
         "Biblioteca Central Zila Mamede",
         "REGULAR",
         "623.0",
         "120127.0",
         "Ciências aplicadas"
        ],
        [
         "30",
         "709704",
         "2006021442",
         "2010/01/17 18:56:43.923000000",
         "2010/01/04 09:58:46.522000000",
         "2010/02/01 13:59:02.528000000",
         "2008009890.0",
         "ALUNO DE GRADUAÇÃO",
         "199419.0",
         "Acervo Circulante",
         "Biblioteca Central Zila Mamede",
         "REGULAR",
         "699.0",
         "77866.0",
         "Ciências aplicadas"
        ],
        [
         "31",
         "709705",
         "2009032168",
         "2010/01/17 18:56:43.909000000",
         "2010/01/04 09:58:46.549000000",
         "2010/01/20 13:14:34.464000000",
         "2008009890.0",
         "ALUNO DE GRADUAÇÃO",
         "273487.0",
         "Acervo Circulante",
         "Biblioteca Central Zila Mamede",
         "REGULAR",
         "623.0",
         "120127.0",
         "Ciências aplicadas"
        ],
        [
         "32",
         "709704",
         "2006021442",
         "2010/01/17 18:56:43.923000000",
         "2010/01/04 09:58:46.522000000",
         "2010/02/01 13:59:02.528000000",
         "2008009890.0",
         "ALUNO DE GRADUAÇÃO",
         "199419.0",
         "Acervo Circulante",
         "Biblioteca Central Zila Mamede",
         "REGULAR",
         "699.0",
         "77866.0",
         "Ciências aplicadas"
        ],
        [
         "33",
         "709705",
         "2009032168",
         "2010/01/17 18:56:43.909000000",
         "2010/01/04 09:58:46.549000000",
         "2010/01/20 13:14:34.464000000",
         "2008009890.0",
         "ALUNO DE GRADUAÇÃO",
         "273487.0",
         "Acervo Circulante",
         "Biblioteca Central Zila Mamede",
         "REGULAR",
         "623.0",
         "120127.0",
         "Ciências aplicadas"
        ],
        [
         "34",
         "709704",
         "2006021442",
         "2010/01/17 18:56:43.923000000",
         "2010/01/04 09:58:46.522000000",
         "2010/02/01 13:59:02.528000000",
         "2008009890.0",
         "ALUNO DE GRADUAÇÃO",
         "199419.0",
         "Acervo Circulante",
         "Biblioteca Central Zila Mamede",
         "REGULAR",
         "699.0",
         "77866.0",
         "Ciências aplicadas"
        ],
        [
         "35",
         "709705",
         "2009032168",
         "2010/01/17 18:56:43.909000000",
         "2010/01/04 09:58:46.549000000",
         "2010/01/20 13:14:34.464000000",
         "2008009890.0",
         "ALUNO DE GRADUAÇÃO",
         "273487.0",
         "Acervo Circulante",
         "Biblioteca Central Zila Mamede",
         "REGULAR",
         "623.0",
         "120127.0",
         "Ciências aplicadas"
        ],
        [
         "36",
         "709704",
         "2006021442",
         "2010/01/17 18:56:43.923000000",
         "2010/01/04 09:58:46.522000000",
         "2010/02/01 13:59:02.528000000",
         "2008009890.0",
         "ALUNO DE GRADUAÇÃO",
         "199419.0",
         "Acervo Circulante",
         "Biblioteca Central Zila Mamede",
         "REGULAR",
         "699.0",
         "77866.0",
         "Ciências aplicadas"
        ],
        [
         "37",
         "709705",
         "2009032168",
         "2010/01/17 18:56:43.909000000",
         "2010/01/04 09:58:46.549000000",
         "2010/01/20 13:14:34.464000000",
         "2008009890.0",
         "ALUNO DE GRADUAÇÃO",
         "273487.0",
         "Acervo Circulante",
         "Biblioteca Central Zila Mamede",
         "REGULAR",
         "623.0",
         "120127.0",
         "Ciências aplicadas"
        ],
        [
         "38",
         "709704",
         "2006021442",
         "2010/01/17 18:56:43.923000000",
         "2010/01/04 09:58:46.522000000",
         "2010/02/01 13:59:02.528000000",
         "2008009890.0",
         "ALUNO DE GRADUAÇÃO",
         "199419.0",
         "Acervo Circulante",
         "Biblioteca Central Zila Mamede",
         "REGULAR",
         "699.0",
         "77866.0",
         "Ciências aplicadas"
        ],
        [
         "39",
         "709705",
         "2009032168",
         "2010/01/17 18:56:43.909000000",
         "2010/01/04 09:58:46.549000000",
         "2010/01/20 13:14:34.464000000",
         "2008009890.0",
         "ALUNO DE GRADUAÇÃO",
         "273487.0",
         "Acervo Circulante",
         "Biblioteca Central Zila Mamede",
         "REGULAR",
         "623.0",
         "120127.0",
         "Ciências aplicadas"
        ],
        [
         "40",
         "709706",
         "2009032010",
         "2010/01/17 18:56:43.869000000",
         "2010/01/04 09:58:46.575000000",
         "2010/02/01 13:58:46.387000000",
         "2008009890.0",
         "ALUNO DE GRADUAÇÃO",
         "273783.0",
         "Acervo Circulante",
         "Biblioteca Central Zila Mamede",
         "REGULAR",
         "812.0",
         "252558.0",
         "Linguagem. Língua. Linguística"
        ],
        [
         "41",
         "709707",
         "2008000130",
         null,
         "2010/01/04 10:00:22.435000000",
         "2010/01/13 10:01:45.234000000",
         "200711946.0",
         "ALUNO DE GRADUAÇÃO",
         "246141.0",
         "Acervo Circulante",
         "Biblioteca Central Zila Mamede",
         "REGULAR",
         "615.0",
         "103080.0",
         "Ciências aplicadas"
        ],
        [
         "42",
         "709708",
         "L134569",
         null,
         "2010/01/04 10:00:22.459000000",
         "2010/01/18 10:12:44.020000000",
         "200711946.0",
         "ALUNO DE GRADUAÇÃO",
         "116167.0",
         "Acervo Circulante",
         "Biblioteca Central Zila Mamede",
         "REGULAR",
         "669.0",
         "38177.0",
         "Ciências aplicadas"
        ],
        [
         "43",
         "709709",
         "2009011815",
         "2010/02/03 12:58:49.734000000",
         "2010/01/04 10:02:59.828000000",
         "2010/03/02 16:38:38.231000000",
         "2008106583.0",
         "ALUNO DE PÓS-GRADUAÇÃO",
         "265828.0",
         "Acervo Circulante",
         "Biblioteca Setorial Prof. Alberto Moreira Campos - ­Departamento de Odontologia",
         "REGULAR",
         "620.0",
         "114878.0",
         "Ciências aplicadas"
        ],
        [
         "44",
         "709710",
         "L198816",
         null,
         "2010/01/04 10:04:17.306000000",
         "2010/01/05 11:26:52.938000000",
         "200506718.0",
         "ALUNO DE GRADUAÇÃO",
         "181821.0",
         "Acervo Circulante",
         "Biblioteca Central Zila Mamede",
         "REGULAR",
         "699.0",
         "69931.0",
         "Ciências aplicadas"
        ],
        [
         "45",
         "709711",
         "L198806",
         null,
         "2010/01/04 10:04:17.344000000",
         "2010/01/05 11:26:42.492000000",
         "200506718.0",
         "ALUNO DE GRADUAÇÃO",
         "181878.0",
         "Acervo Circulante",
         "Biblioteca Central Zila Mamede",
         "REGULAR",
         "610.0",
         "69950.0",
         "Ciências aplicadas"
        ],
        [
         "46",
         "709712",
         "2007033792",
         null,
         "2010/01/04 10:07:00.939000000",
         "2010/01/20 10:30:58.689000000",
         "198423750.0",
         "DOCENTE",
         "167683.0",
         "Acervo Circulante",
         "Biblioteca Setorial Prof. Ronaldo Xavier de Arruda - CCET",
         "REGULAR",
         "679.0",
         "62817.0",
         "Ciências aplicadas"
        ],
        [
         "47",
         "709713",
         "2008010513",
         null,
         "2010/01/04 10:23:39.830000000",
         "2010/01/05 11:57:06.156000000",
         "2011101417.0",
         "ALUNO DE PÓS-GRADUAÇÃO",
         "190443.0",
         "Acervo Circulante",
         "Biblioteca Central Zila Mamede",
         "REGULAR",
         "656.0",
         "73080.0",
         "Ciências aplicadas"
        ],
        [
         "48",
         "709714",
         "2008046332",
         null,
         "2010/01/04 10:23:39.859000000",
         "2010/01/05 11:57:01.461000000",
         "2011101417.0",
         "ALUNO DE PÓS-GRADUAÇÃO",
         "256856.0",
         "Acervo Circulante",
         "Biblioteca Central Zila Mamede",
         "REGULAR",
         "619.0",
         "110500.0",
         "Ciências aplicadas"
        ],
        [
         "49",
         "709715",
         "L200359",
         "2010/01/19 14:38:53.133000000",
         "2010/01/04 10:28:01.480000000",
         "2010/02/01 14:41:13.147000000",
         "2010078996.0",
         "ALUNO DE GRADUAÇÃO",
         "37519.0",
         "Acervo Circulante",
         "Biblioteca Central Zila Mamede",
         "REGULAR",
         "644.0",
         "62489.0",
         "Ciências aplicadas"
        ],
        [
         "50",
         "709716",
         "L107038",
         "2010/01/19 13:46:16.556000000",
         "2010/01/04 10:29:19.747000000",
         "2010/02/03 08:06:24.253000000",
         "200615610.0",
         "ALUNO DE GRADUAÇÃO",
         "22448.0",
         "Acervo Circulante",
         "Biblioteca Central Zila Mamede",
         "REGULAR",
         "677.0",
         "7643.0",
         "Ciências aplicadas"
        ]
       ],
       "shape": {
        "columns": 14,
        "rows": 2072558
       }
      },
      "text/html": [
       "<div>\n",
       "<style scoped>\n",
       "    .dataframe tbody tr th:only-of-type {\n",
       "        vertical-align: middle;\n",
       "    }\n",
       "\n",
       "    .dataframe tbody tr th {\n",
       "        vertical-align: top;\n",
       "    }\n",
       "\n",
       "    .dataframe thead th {\n",
       "        text-align: right;\n",
       "    }\n",
       "</style>\n",
       "<table border=\"1\" class=\"dataframe\">\n",
       "  <thead>\n",
       "    <tr style=\"text-align: right;\">\n",
       "      <th></th>\n",
       "      <th>id_emprestimo</th>\n",
       "      <th>codigo_barras</th>\n",
       "      <th>data_renovacao</th>\n",
       "      <th>data_emprestimo</th>\n",
       "      <th>data_devolucao</th>\n",
       "      <th>matricula_ou_siape</th>\n",
       "      <th>tipo_vinculo_usuario</th>\n",
       "      <th>id_exemplar</th>\n",
       "      <th>colecao</th>\n",
       "      <th>biblioteca</th>\n",
       "      <th>status_material</th>\n",
       "      <th>localizacao</th>\n",
       "      <th>registro_sistema</th>\n",
       "      <th>Classificação</th>\n",
       "    </tr>\n",
       "  </thead>\n",
       "  <tbody>\n",
       "    <tr>\n",
       "      <th>0</th>\n",
       "      <td>709684</td>\n",
       "      <td>L095049</td>\n",
       "      <td>NaN</td>\n",
       "      <td>2010/01/04 07:44:10.721000000</td>\n",
       "      <td>2010/01/05 16:26:12.662000000</td>\n",
       "      <td>2.008023e+09</td>\n",
       "      <td>ALUNO DE GRADUAÇÃO</td>\n",
       "      <td>13259.0</td>\n",
       "      <td>Acervo Circulante</td>\n",
       "      <td>Biblioteca Central Zila Mamede</td>\n",
       "      <td>REGULAR</td>\n",
       "      <td>630.0</td>\n",
       "      <td>4225.0</td>\n",
       "      <td>Ciências aplicadas</td>\n",
       "    </tr>\n",
       "    <tr>\n",
       "      <th>1</th>\n",
       "      <td>709685</td>\n",
       "      <td>L167050</td>\n",
       "      <td>NaN</td>\n",
       "      <td>2010/01/04 07:44:10.750000000</td>\n",
       "      <td>2010/01/12 07:34:13.934000000</td>\n",
       "      <td>2.008023e+09</td>\n",
       "      <td>ALUNO DE GRADUAÇÃO</td>\n",
       "      <td>70865.0</td>\n",
       "      <td>Acervo Circulante</td>\n",
       "      <td>Biblioteca Central Zila Mamede</td>\n",
       "      <td>REGULAR</td>\n",
       "      <td>647.0</td>\n",
       "      <td>25009.0</td>\n",
       "      <td>Ciências aplicadas</td>\n",
       "    </tr>\n",
       "    <tr>\n",
       "      <th>2</th>\n",
       "      <td>709686</td>\n",
       "      <td>2006017618</td>\n",
       "      <td>2010/01/26 08:07:01.738000000</td>\n",
       "      <td>2010/01/04 08:08:44.081000000</td>\n",
       "      <td>2010/02/25 07:36:25.800000000</td>\n",
       "      <td>2.008112e+09</td>\n",
       "      <td>ALUNO DE PÓS-GRADUAÇÃO</td>\n",
       "      <td>195347.0</td>\n",
       "      <td>Acervo Circulante</td>\n",
       "      <td>Biblioteca Setorial Prof. Rodolfo Helinski - E...</td>\n",
       "      <td>REGULAR</td>\n",
       "      <td>640.0</td>\n",
       "      <td>75019.0</td>\n",
       "      <td>Ciências aplicadas</td>\n",
       "    </tr>\n",
       "    <tr>\n",
       "      <th>3</th>\n",
       "      <td>709687</td>\n",
       "      <td>L184117</td>\n",
       "      <td>2010/01/18 11:07:46.470000000</td>\n",
       "      <td>2010/01/04 08:24:21.284000000</td>\n",
       "      <td>2010/02/03 08:58:45.692000000</td>\n",
       "      <td>2.007211e+08</td>\n",
       "      <td>ALUNO DE GRADUAÇÃO</td>\n",
       "      <td>131639.0</td>\n",
       "      <td>Acervo Circulante</td>\n",
       "      <td>Biblioteca Central Zila Mamede</td>\n",
       "      <td>REGULAR</td>\n",
       "      <td>609.0</td>\n",
       "      <td>44494.0</td>\n",
       "      <td>Ciências aplicadas</td>\n",
       "    </tr>\n",
       "    <tr>\n",
       "      <th>4</th>\n",
       "      <td>709684</td>\n",
       "      <td>L095049</td>\n",
       "      <td>NaN</td>\n",
       "      <td>2010/01/04 07:44:10.721000000</td>\n",
       "      <td>2010/01/05 16:26:12.662000000</td>\n",
       "      <td>2.008023e+09</td>\n",
       "      <td>ALUNO DE GRADUAÇÃO</td>\n",
       "      <td>13259.0</td>\n",
       "      <td>Acervo Circulante</td>\n",
       "      <td>Biblioteca Central Zila Mamede</td>\n",
       "      <td>REGULAR</td>\n",
       "      <td>630.0</td>\n",
       "      <td>4225.0</td>\n",
       "      <td>Ciências aplicadas</td>\n",
       "    </tr>\n",
       "    <tr>\n",
       "      <th>...</th>\n",
       "      <td>...</td>\n",
       "      <td>...</td>\n",
       "      <td>...</td>\n",
       "      <td>...</td>\n",
       "      <td>...</td>\n",
       "      <td>...</td>\n",
       "      <td>...</td>\n",
       "      <td>...</td>\n",
       "      <td>...</td>\n",
       "      <td>...</td>\n",
       "      <td>...</td>\n",
       "      <td>...</td>\n",
       "      <td>...</td>\n",
       "      <td>...</td>\n",
       "    </tr>\n",
       "    <tr>\n",
       "      <th>2261811</th>\n",
       "      <td>2989086</td>\n",
       "      <td>2008047044</td>\n",
       "      <td>NaN</td>\n",
       "      <td>2020/05/05 19:51:06.059000000</td>\n",
       "      <td>2021/05/13 14:53:31.000000000</td>\n",
       "      <td>3.067431e+06</td>\n",
       "      <td>SERVIDOR TÉCNICO-ADMINISTRATIVO</td>\n",
       "      <td>256297.0</td>\n",
       "      <td>Acervo Circulante</td>\n",
       "      <td>Biblioteca Setorial da Faculdade de Ciências d...</td>\n",
       "      <td>REGULAR</td>\n",
       "      <td>684.0</td>\n",
       "      <td>110098.0</td>\n",
       "      <td>Ciências aplicadas</td>\n",
       "    </tr>\n",
       "    <tr>\n",
       "      <th>2261812</th>\n",
       "      <td>2989087</td>\n",
       "      <td>2008047047</td>\n",
       "      <td>NaN</td>\n",
       "      <td>2020/05/05 19:51:06.135000000</td>\n",
       "      <td>2021/05/13 14:53:38.000000000</td>\n",
       "      <td>3.067431e+06</td>\n",
       "      <td>SERVIDOR TÉCNICO-ADMINISTRATIVO</td>\n",
       "      <td>256406.0</td>\n",
       "      <td>Acervo Circulante</td>\n",
       "      <td>Biblioteca Setorial da Faculdade de Ciências d...</td>\n",
       "      <td>REGULAR</td>\n",
       "      <td>628.0</td>\n",
       "      <td>110171.0</td>\n",
       "      <td>Ciências aplicadas</td>\n",
       "    </tr>\n",
       "    <tr>\n",
       "      <th>2261813</th>\n",
       "      <td>2989088</td>\n",
       "      <td>2010052905</td>\n",
       "      <td>NaN</td>\n",
       "      <td>2020/05/05 19:51:06.164000000</td>\n",
       "      <td>2021/05/13 15:01:46.000000000</td>\n",
       "      <td>3.067431e+06</td>\n",
       "      <td>SERVIDOR TÉCNICO-ADMINISTRATIVO</td>\n",
       "      <td>807821.0</td>\n",
       "      <td>Acervo Circulante</td>\n",
       "      <td>Biblioteca Setorial da Faculdade de Ciências d...</td>\n",
       "      <td>REGULAR</td>\n",
       "      <td>653.0</td>\n",
       "      <td>134173.0</td>\n",
       "      <td>Ciências aplicadas</td>\n",
       "    </tr>\n",
       "    <tr>\n",
       "      <th>2261814</th>\n",
       "      <td>2989089</td>\n",
       "      <td>2010048023</td>\n",
       "      <td>NaN</td>\n",
       "      <td>2020/06/09 11:54:02.669000000</td>\n",
       "      <td>2021/07/21 15:33:55.000000000</td>\n",
       "      <td>2.020101e+10</td>\n",
       "      <td>ALUNO DE PÓS-GRADUAÇÃO</td>\n",
       "      <td>804885.0</td>\n",
       "      <td>Acervo Circulante</td>\n",
       "      <td>Biblioteca Central Zila Mamede</td>\n",
       "      <td>REGULAR</td>\n",
       "      <td>675.0</td>\n",
       "      <td>67712.0</td>\n",
       "      <td>Ciências aplicadas</td>\n",
       "    </tr>\n",
       "    <tr>\n",
       "      <th>2261815</th>\n",
       "      <td>2989090</td>\n",
       "      <td>2013106838</td>\n",
       "      <td>NaN</td>\n",
       "      <td>2020/06/09 11:54:02.852000000</td>\n",
       "      <td>2021/07/21 15:33:45.000000000</td>\n",
       "      <td>2.020101e+10</td>\n",
       "      <td>ALUNO DE PÓS-GRADUAÇÃO</td>\n",
       "      <td>1099777.0</td>\n",
       "      <td>Acervo Circulante</td>\n",
       "      <td>Biblioteca Central Zila Mamede</td>\n",
       "      <td>REGULAR</td>\n",
       "      <td>14.0</td>\n",
       "      <td>205153.0</td>\n",
       "      <td>Filosofia e psicologia</td>\n",
       "    </tr>\n",
       "  </tbody>\n",
       "</table>\n",
       "<p>2072558 rows × 14 columns</p>\n",
       "</div>"
      ],
      "text/plain": [
       "         id_emprestimo codigo_barras                 data_renovacao  \\\n",
       "0               709684       L095049                            NaN   \n",
       "1               709685       L167050                            NaN   \n",
       "2               709686    2006017618  2010/01/26 08:07:01.738000000   \n",
       "3               709687       L184117  2010/01/18 11:07:46.470000000   \n",
       "4               709684       L095049                            NaN   \n",
       "...                ...           ...                            ...   \n",
       "2261811        2989086    2008047044                            NaN   \n",
       "2261812        2989087    2008047047                            NaN   \n",
       "2261813        2989088    2010052905                            NaN   \n",
       "2261814        2989089    2010048023                            NaN   \n",
       "2261815        2989090    2013106838                            NaN   \n",
       "\n",
       "                       data_emprestimo                 data_devolucao  \\\n",
       "0        2010/01/04 07:44:10.721000000  2010/01/05 16:26:12.662000000   \n",
       "1        2010/01/04 07:44:10.750000000  2010/01/12 07:34:13.934000000   \n",
       "2        2010/01/04 08:08:44.081000000  2010/02/25 07:36:25.800000000   \n",
       "3        2010/01/04 08:24:21.284000000  2010/02/03 08:58:45.692000000   \n",
       "4        2010/01/04 07:44:10.721000000  2010/01/05 16:26:12.662000000   \n",
       "...                                ...                            ...   \n",
       "2261811  2020/05/05 19:51:06.059000000  2021/05/13 14:53:31.000000000   \n",
       "2261812  2020/05/05 19:51:06.135000000  2021/05/13 14:53:38.000000000   \n",
       "2261813  2020/05/05 19:51:06.164000000  2021/05/13 15:01:46.000000000   \n",
       "2261814  2020/06/09 11:54:02.669000000  2021/07/21 15:33:55.000000000   \n",
       "2261815  2020/06/09 11:54:02.852000000  2021/07/21 15:33:45.000000000   \n",
       "\n",
       "         matricula_ou_siape             tipo_vinculo_usuario  id_exemplar  \\\n",
       "0              2.008023e+09               ALUNO DE GRADUAÇÃO      13259.0   \n",
       "1              2.008023e+09               ALUNO DE GRADUAÇÃO      70865.0   \n",
       "2              2.008112e+09           ALUNO DE PÓS-GRADUAÇÃO     195347.0   \n",
       "3              2.007211e+08               ALUNO DE GRADUAÇÃO     131639.0   \n",
       "4              2.008023e+09               ALUNO DE GRADUAÇÃO      13259.0   \n",
       "...                     ...                              ...          ...   \n",
       "2261811        3.067431e+06  SERVIDOR TÉCNICO-ADMINISTRATIVO     256297.0   \n",
       "2261812        3.067431e+06  SERVIDOR TÉCNICO-ADMINISTRATIVO     256406.0   \n",
       "2261813        3.067431e+06  SERVIDOR TÉCNICO-ADMINISTRATIVO     807821.0   \n",
       "2261814        2.020101e+10           ALUNO DE PÓS-GRADUAÇÃO     804885.0   \n",
       "2261815        2.020101e+10           ALUNO DE PÓS-GRADUAÇÃO    1099777.0   \n",
       "\n",
       "                   colecao                                         biblioteca  \\\n",
       "0        Acervo Circulante                     Biblioteca Central Zila Mamede   \n",
       "1        Acervo Circulante                     Biblioteca Central Zila Mamede   \n",
       "2        Acervo Circulante  Biblioteca Setorial Prof. Rodolfo Helinski - E...   \n",
       "3        Acervo Circulante                     Biblioteca Central Zila Mamede   \n",
       "4        Acervo Circulante                     Biblioteca Central Zila Mamede   \n",
       "...                    ...                                                ...   \n",
       "2261811  Acervo Circulante  Biblioteca Setorial da Faculdade de Ciências d...   \n",
       "2261812  Acervo Circulante  Biblioteca Setorial da Faculdade de Ciências d...   \n",
       "2261813  Acervo Circulante  Biblioteca Setorial da Faculdade de Ciências d...   \n",
       "2261814  Acervo Circulante                     Biblioteca Central Zila Mamede   \n",
       "2261815  Acervo Circulante                     Biblioteca Central Zila Mamede   \n",
       "\n",
       "        status_material  localizacao  registro_sistema           Classificação  \n",
       "0               REGULAR        630.0            4225.0      Ciências aplicadas  \n",
       "1               REGULAR        647.0           25009.0      Ciências aplicadas  \n",
       "2               REGULAR        640.0           75019.0      Ciências aplicadas  \n",
       "3               REGULAR        609.0           44494.0      Ciências aplicadas  \n",
       "4               REGULAR        630.0            4225.0      Ciências aplicadas  \n",
       "...                 ...          ...               ...                     ...  \n",
       "2261811         REGULAR        684.0          110098.0      Ciências aplicadas  \n",
       "2261812         REGULAR        628.0          110171.0      Ciências aplicadas  \n",
       "2261813         REGULAR        653.0          134173.0      Ciências aplicadas  \n",
       "2261814         REGULAR        675.0           67712.0      Ciências aplicadas  \n",
       "2261815         REGULAR         14.0          205153.0  Filosofia e psicologia  \n",
       "\n",
       "[2072558 rows x 14 columns]"
      ]
     },
     "execution_count": 138,
     "metadata": {},
     "output_type": "execute_result"
    }
   ],
   "source": [
    "df_limpo"
   ]
  },
  {
   "cell_type": "markdown",
   "id": "1b19ef29",
   "metadata": {},
   "source": [
    "### Altera o tipo das colunas"
   ]
  },
  {
   "cell_type": "code",
   "execution_count": 139,
   "id": "0767e95c",
   "metadata": {},
   "outputs": [
    {
     "name": "stderr",
     "output_type": "stream",
     "text": [
      "C:\\Users\\guico\\AppData\\Local\\Temp\\ipykernel_10384\\813632782.py:1: SettingWithCopyWarning:\n",
      "\n",
      "\n",
      "A value is trying to be set on a copy of a slice from a DataFrame.\n",
      "Try using .loc[row_indexer,col_indexer] = value instead\n",
      "\n",
      "See the caveats in the documentation: https://pandas.pydata.org/pandas-docs/stable/user_guide/indexing.html#returning-a-view-versus-a-copy\n",
      "\n",
      "C:\\Users\\guico\\AppData\\Local\\Temp\\ipykernel_10384\\813632782.py:3: SettingWithCopyWarning:\n",
      "\n",
      "\n",
      "A value is trying to be set on a copy of a slice from a DataFrame.\n",
      "Try using .loc[row_indexer,col_indexer] = value instead\n",
      "\n",
      "See the caveats in the documentation: https://pandas.pydata.org/pandas-docs/stable/user_guide/indexing.html#returning-a-view-versus-a-copy\n",
      "\n",
      "C:\\Users\\guico\\AppData\\Local\\Temp\\ipykernel_10384\\813632782.py:4: SettingWithCopyWarning:\n",
      "\n",
      "\n",
      "A value is trying to be set on a copy of a slice from a DataFrame.\n",
      "Try using .loc[row_indexer,col_indexer] = value instead\n",
      "\n",
      "See the caveats in the documentation: https://pandas.pydata.org/pandas-docs/stable/user_guide/indexing.html#returning-a-view-versus-a-copy\n",
      "\n",
      "C:\\Users\\guico\\AppData\\Local\\Temp\\ipykernel_10384\\813632782.py:5: SettingWithCopyWarning:\n",
      "\n",
      "\n",
      "A value is trying to be set on a copy of a slice from a DataFrame.\n",
      "Try using .loc[row_indexer,col_indexer] = value instead\n",
      "\n",
      "See the caveats in the documentation: https://pandas.pydata.org/pandas-docs/stable/user_guide/indexing.html#returning-a-view-versus-a-copy\n",
      "\n"
     ]
    }
   ],
   "source": [
    "df_limpo['matricula_ou_siape'] = df_limpo['matricula_ou_siape'].astype(str)\n",
    "\n",
    "df_limpo[\"data_emprestimo\"] = pd.to_datetime(df_limpo[\"data_emprestimo\"], errors='coerce')\n",
    "df_limpo[\"data_devolucao\"] = pd.to_datetime(df_limpo[\"data_devolucao\"], errors='coerce')\n",
    "df_limpo[\"data_renovacao\"] = pd.to_datetime(df_limpo[\"data_renovacao\"], errors='coerce')"
   ]
  },
  {
   "cell_type": "markdown",
   "id": "481dcf1f",
   "metadata": {},
   "source": [
    "### Exclui a coluna Registro_sistema"
   ]
  },
  {
   "cell_type": "code",
   "execution_count": 140,
   "id": "c6f50b6e",
   "metadata": {},
   "outputs": [],
   "source": [
    "df_limpo = df_limpo.drop('registro_sistema', axis=1)"
   ]
  },
  {
   "cell_type": "code",
   "execution_count": 141,
   "id": "80e209bc",
   "metadata": {},
   "outputs": [
    {
     "data": {
      "application/vnd.microsoft.datawrangler.viewer.v0+json": {
       "columns": [
        {
         "name": "index",
         "rawType": "int64",
         "type": "integer"
        },
        {
         "name": "id_emprestimo",
         "rawType": "int64",
         "type": "integer"
        },
        {
         "name": "codigo_barras",
         "rawType": "object",
         "type": "string"
        },
        {
         "name": "data_renovacao",
         "rawType": "datetime64[ns]",
         "type": "datetime"
        },
        {
         "name": "data_emprestimo",
         "rawType": "datetime64[ns]",
         "type": "datetime"
        },
        {
         "name": "data_devolucao",
         "rawType": "datetime64[ns]",
         "type": "datetime"
        },
        {
         "name": "matricula_ou_siape",
         "rawType": "object",
         "type": "string"
        },
        {
         "name": "tipo_vinculo_usuario",
         "rawType": "object",
         "type": "string"
        },
        {
         "name": "id_exemplar",
         "rawType": "float64",
         "type": "float"
        },
        {
         "name": "colecao",
         "rawType": "object",
         "type": "string"
        },
        {
         "name": "biblioteca",
         "rawType": "object",
         "type": "string"
        },
        {
         "name": "status_material",
         "rawType": "object",
         "type": "string"
        },
        {
         "name": "localizacao",
         "rawType": "float64",
         "type": "float"
        },
        {
         "name": "Classificação",
         "rawType": "object",
         "type": "string"
        }
       ],
       "ref": "35be75b2-e33d-46eb-b823-ecce02ec5099",
       "rows": [
        [
         "0",
         "709684",
         "L095049",
         null,
         "2010-01-04 07:44:10.721000",
         "2010-01-05 16:26:12.662000",
         "2008023265.0",
         "ALUNO DE GRADUAÇÃO",
         "13259.0",
         "Acervo Circulante",
         "Biblioteca Central Zila Mamede",
         "REGULAR",
         "630.0",
         "Ciências aplicadas"
        ],
        [
         "1",
         "709685",
         "L167050",
         null,
         "2010-01-04 07:44:10.750000",
         "2010-01-12 07:34:13.934000",
         "2008023265.0",
         "ALUNO DE GRADUAÇÃO",
         "70865.0",
         "Acervo Circulante",
         "Biblioteca Central Zila Mamede",
         "REGULAR",
         "647.0",
         "Ciências aplicadas"
        ],
        [
         "2",
         "709686",
         "2006017618",
         "2010-01-26 08:07:01.738000",
         "2010-01-04 08:08:44.081000",
         "2010-02-25 07:36:25.800000",
         "2008112114.0",
         "ALUNO DE PÓS-GRADUAÇÃO",
         "195347.0",
         "Acervo Circulante",
         "Biblioteca Setorial Prof. Rodolfo Helinski - Escola Agrícola de Jundiaí - EAJ  - Macaiba",
         "REGULAR",
         "640.0",
         "Ciências aplicadas"
        ],
        [
         "3",
         "709687",
         "L184117",
         "2010-01-18 11:07:46.470000",
         "2010-01-04 08:24:21.284000",
         "2010-02-03 08:58:45.692000",
         "200721119.0",
         "ALUNO DE GRADUAÇÃO",
         "131639.0",
         "Acervo Circulante",
         "Biblioteca Central Zila Mamede",
         "REGULAR",
         "609.0",
         "Ciências aplicadas"
        ],
        [
         "4",
         "709684",
         "L095049",
         null,
         "2010-01-04 07:44:10.721000",
         "2010-01-05 16:26:12.662000",
         "2008023265.0",
         "ALUNO DE GRADUAÇÃO",
         "13259.0",
         "Acervo Circulante",
         "Biblioteca Central Zila Mamede",
         "REGULAR",
         "630.0",
         "Ciências aplicadas"
        ],
        [
         "5",
         "709685",
         "L167050",
         null,
         "2010-01-04 07:44:10.750000",
         "2010-01-12 07:34:13.934000",
         "2008023265.0",
         "ALUNO DE GRADUAÇÃO",
         "70865.0",
         "Acervo Circulante",
         "Biblioteca Central Zila Mamede",
         "REGULAR",
         "647.0",
         "Ciências aplicadas"
        ],
        [
         "6",
         "709686",
         "2006017618",
         "2010-01-26 08:07:01.738000",
         "2010-01-04 08:08:44.081000",
         "2010-02-25 07:36:25.800000",
         "2008112114.0",
         "ALUNO DE PÓS-GRADUAÇÃO",
         "195347.0",
         "Acervo Circulante",
         "Biblioteca Setorial Prof. Rodolfo Helinski - Escola Agrícola de Jundiaí - EAJ  - Macaiba",
         "REGULAR",
         "640.0",
         "Ciências aplicadas"
        ],
        [
         "7",
         "709687",
         "L184117",
         "2010-01-18 11:07:46.470000",
         "2010-01-04 08:24:21.284000",
         "2010-02-03 08:58:45.692000",
         "200721119.0",
         "ALUNO DE GRADUAÇÃO",
         "131639.0",
         "Acervo Circulante",
         "Biblioteca Central Zila Mamede",
         "REGULAR",
         "609.0",
         "Ciências aplicadas"
        ],
        [
         "8",
         "709688",
         "2007027500",
         "2010-01-19 15:59:26.464000",
         "2010-01-04 08:27:33.569000",
         "2010-02-03 13:06:30.662000",
         "2009045971.0",
         "ALUNO DE GRADUAÇÃO",
         "225646.0",
         "Acervo Circulante",
         "Biblioteca Central Zila Mamede",
         "REGULAR",
         "686.0",
         "Ciências aplicadas"
        ],
        [
         "9",
         "709689",
         "L157395",
         "2010-01-19 15:59:26.447000",
         "2010-01-04 08:27:33.596000",
         "2010-02-03 13:06:43.125000",
         "2009045971.0",
         "ALUNO DE GRADUAÇÃO",
         "57040.0",
         "Acervo Circulante",
         "Biblioteca Central Zila Mamede",
         "REGULAR",
         "698.0",
         "Ciências aplicadas"
        ],
        [
         "10",
         "709690",
         "2007019312",
         null,
         "2010-01-04 08:49:57.857000",
         "2010-01-13 09:58:25.443000",
         "200701444.0",
         "ALUNO DE GRADUAÇÃO",
         "225786.0",
         "Acervo Circulante",
         "Biblioteca Central Zila Mamede",
         "REGULAR",
         "698.0",
         "Ciências aplicadas"
        ],
        [
         "11",
         "709691",
         "2008046357",
         "2010-01-19 11:50:13.404000",
         "2010-01-04 09:02:30.576000",
         "2010-02-02 12:13:36.132000",
         "200507453.0",
         "ALUNO DE GRADUAÇÃO",
         "256537.0",
         "Acervo Circulante",
         "Biblioteca Setorial Bertha Cruz Enders - ­Escola de Saúde da UFRN - ESUFRN",
         "REGULAR",
         "645.0",
         "Ciências aplicadas"
        ],
        [
         "12",
         "709692",
         "L187962",
         null,
         "2010-01-04 09:07:06.131000",
         "2010-06-22 18:55:04",
         "200404369.0",
         "ALUNO DE GRADUAÇÃO",
         "143654.0",
         "Acervo Circulante",
         "Biblioteca Central Zila Mamede",
         "REGULAR",
         "658.0",
         "Ciências aplicadas"
        ],
        [
         "13",
         "709693",
         "L192776",
         null,
         "2010-01-04 09:07:06.159000",
         "2010-06-22 18:54:46",
         "200404369.0",
         "ALUNO DE GRADUAÇÃO",
         "159348.0",
         "Acervo Circulante",
         "Biblioteca Central Zila Mamede",
         "REGULAR",
         "697.0",
         "Ciências aplicadas"
        ],
        [
         "14",
         "709694",
         "L202783",
         null,
         "2010-01-04 09:09:38.329000",
         "2010-02-03 13:00:49.746000",
         "198420637.0",
         "DOCENTE",
         "274136.0",
         "Acervo Circulante",
         "Biblioteca Central Zila Mamede",
         "REGULAR",
         "643.0",
         "Ciências aplicadas"
        ],
        [
         "15",
         "709695",
         "2007035128",
         null,
         "2010-01-04 09:14:55.681000",
         "2010-01-14 10:15:08.388000",
         "2008005020.0",
         "ALUNO DE GRADUAÇÃO",
         "235887.0",
         "Acervo Circulante",
         "Biblioteca Central Zila Mamede",
         "REGULAR",
         "630.0",
         "Ciências aplicadas"
        ],
        [
         "16",
         "709696",
         "L122346",
         null,
         "2010-01-04 09:14:55.721000",
         "2010-01-14 10:15:16.041000",
         "2008005020.0",
         "ALUNO DE GRADUAÇÃO",
         "28681.0",
         "Acervo Circulante",
         "Biblioteca Central Zila Mamede",
         "REGULAR",
         "612.0",
         "Ciências aplicadas"
        ],
        [
         "17",
         "709697",
         "L048797",
         null,
         "2010-01-04 09:18:17.514000",
         "2010-01-14 10:14:59.964000",
         "2008005020.0",
         "ALUNO DE GRADUAÇÃO",
         "131863.0",
         "Acervo Circulante",
         "Biblioteca Central Zila Mamede",
         "REGULAR",
         "673.0",
         "Ciências aplicadas"
        ],
        [
         "18",
         "709698",
         "2009047725",
         "2010-01-18 14:44:41.163000",
         "2010-01-04 09:21:19.099000",
         "2010-02-02 12:02:38.444000",
         "2009046838.0",
         "ALUNO DE GRADUAÇÃO",
         "281004.0",
         "Acervo Circulante",
         "Biblioteca Setorial do Centro Ciências da Saúde - CCS",
         "REGULAR",
         "651.0",
         "Ciências aplicadas"
        ],
        [
         "19",
         "709698",
         "2009047725",
         "2010-01-18 14:44:41.163000",
         "2010-01-04 09:21:19.099000",
         "2010-02-02 12:02:38.444000",
         "2009046838.0",
         "ALUNO DE GRADUAÇÃO",
         "281004.0",
         "Acervo Circulante",
         "Biblioteca Setorial do Centro Ciências da Saúde - CCS",
         "REGULAR",
         "651.0",
         "Ciências aplicadas"
        ],
        [
         "20",
         "709698",
         "2009047725",
         "2010-01-18 14:44:41.163000",
         "2010-01-04 09:21:19.099000",
         "2010-02-02 12:02:38.444000",
         "2009046838.0",
         "ALUNO DE GRADUAÇÃO",
         "281004.0",
         "Acervo Circulante",
         "Biblioteca Setorial do Centro Ciências da Saúde - CCS",
         "REGULAR",
         "651.0",
         "Ciências aplicadas"
        ],
        [
         "21",
         "709699",
         "2009051872",
         "2010-01-18 14:44:41.144000",
         "2010-01-04 09:21:19.126000",
         "2010-02-02 12:03:35.649000",
         "2009046838.0",
         "ALUNO DE GRADUAÇÃO",
         "281880.0",
         "Acervo Circulante",
         "Biblioteca Setorial do Centro Ciências da Saúde - CCS",
         "REGULAR",
         "647.0",
         "Ciências aplicadas"
        ],
        [
         "22",
         "709700",
         "L200358",
         null,
         "2010-01-04 09:42:28.589000",
         "2010-01-04 09:42:56.820000",
         "2010078996.0",
         "ALUNO DE GRADUAÇÃO",
         "37513.0",
         "Acervo Circulante",
         "Biblioteca Central Zila Mamede",
         "REGULAR",
         "674.0",
         "Ciências aplicadas"
        ],
        [
         "24",
         "709702",
         "L200904",
         "2010-01-19 19:02:53.430000",
         "2010-01-04 09:48:05.637000",
         "2010-02-04 18:23:55.925000",
         "2008029450.0",
         "ALUNO DE GRADUAÇÃO",
         "158308.0",
         "Acervo Circulante",
         "Biblioteca Central Zila Mamede",
         "REGULAR",
         "631.0",
         "Ciências aplicadas"
        ],
        [
         "25",
         "709703",
         "2007020476",
         "2010-01-13 09:39:02.522000",
         "2010-01-04 09:56:42.325000",
         "2010-01-21 10:25:28.007000",
         "200625578.0",
         "ALUNO DE GRADUAÇÃO",
         "221707.0",
         "Acervo Circulante",
         "Biblioteca Central Zila Mamede",
         "ESPECIAL",
         "634.0",
         "Ciências aplicadas"
        ],
        [
         "26",
         "709704",
         "2006021442",
         "2010-01-17 18:56:43.923000",
         "2010-01-04 09:58:46.522000",
         "2010-02-01 13:59:02.528000",
         "2008009890.0",
         "ALUNO DE GRADUAÇÃO",
         "199419.0",
         "Acervo Circulante",
         "Biblioteca Central Zila Mamede",
         "REGULAR",
         "699.0",
         "Ciências aplicadas"
        ],
        [
         "27",
         "709705",
         "2009032168",
         "2010-01-17 18:56:43.909000",
         "2010-01-04 09:58:46.549000",
         "2010-01-20 13:14:34.464000",
         "2008009890.0",
         "ALUNO DE GRADUAÇÃO",
         "273487.0",
         "Acervo Circulante",
         "Biblioteca Central Zila Mamede",
         "REGULAR",
         "623.0",
         "Ciências aplicadas"
        ],
        [
         "28",
         "709704",
         "2006021442",
         "2010-01-17 18:56:43.923000",
         "2010-01-04 09:58:46.522000",
         "2010-02-01 13:59:02.528000",
         "2008009890.0",
         "ALUNO DE GRADUAÇÃO",
         "199419.0",
         "Acervo Circulante",
         "Biblioteca Central Zila Mamede",
         "REGULAR",
         "699.0",
         "Ciências aplicadas"
        ],
        [
         "29",
         "709705",
         "2009032168",
         "2010-01-17 18:56:43.909000",
         "2010-01-04 09:58:46.549000",
         "2010-01-20 13:14:34.464000",
         "2008009890.0",
         "ALUNO DE GRADUAÇÃO",
         "273487.0",
         "Acervo Circulante",
         "Biblioteca Central Zila Mamede",
         "REGULAR",
         "623.0",
         "Ciências aplicadas"
        ],
        [
         "30",
         "709704",
         "2006021442",
         "2010-01-17 18:56:43.923000",
         "2010-01-04 09:58:46.522000",
         "2010-02-01 13:59:02.528000",
         "2008009890.0",
         "ALUNO DE GRADUAÇÃO",
         "199419.0",
         "Acervo Circulante",
         "Biblioteca Central Zila Mamede",
         "REGULAR",
         "699.0",
         "Ciências aplicadas"
        ],
        [
         "31",
         "709705",
         "2009032168",
         "2010-01-17 18:56:43.909000",
         "2010-01-04 09:58:46.549000",
         "2010-01-20 13:14:34.464000",
         "2008009890.0",
         "ALUNO DE GRADUAÇÃO",
         "273487.0",
         "Acervo Circulante",
         "Biblioteca Central Zila Mamede",
         "REGULAR",
         "623.0",
         "Ciências aplicadas"
        ],
        [
         "32",
         "709704",
         "2006021442",
         "2010-01-17 18:56:43.923000",
         "2010-01-04 09:58:46.522000",
         "2010-02-01 13:59:02.528000",
         "2008009890.0",
         "ALUNO DE GRADUAÇÃO",
         "199419.0",
         "Acervo Circulante",
         "Biblioteca Central Zila Mamede",
         "REGULAR",
         "699.0",
         "Ciências aplicadas"
        ],
        [
         "33",
         "709705",
         "2009032168",
         "2010-01-17 18:56:43.909000",
         "2010-01-04 09:58:46.549000",
         "2010-01-20 13:14:34.464000",
         "2008009890.0",
         "ALUNO DE GRADUAÇÃO",
         "273487.0",
         "Acervo Circulante",
         "Biblioteca Central Zila Mamede",
         "REGULAR",
         "623.0",
         "Ciências aplicadas"
        ],
        [
         "34",
         "709704",
         "2006021442",
         "2010-01-17 18:56:43.923000",
         "2010-01-04 09:58:46.522000",
         "2010-02-01 13:59:02.528000",
         "2008009890.0",
         "ALUNO DE GRADUAÇÃO",
         "199419.0",
         "Acervo Circulante",
         "Biblioteca Central Zila Mamede",
         "REGULAR",
         "699.0",
         "Ciências aplicadas"
        ],
        [
         "35",
         "709705",
         "2009032168",
         "2010-01-17 18:56:43.909000",
         "2010-01-04 09:58:46.549000",
         "2010-01-20 13:14:34.464000",
         "2008009890.0",
         "ALUNO DE GRADUAÇÃO",
         "273487.0",
         "Acervo Circulante",
         "Biblioteca Central Zila Mamede",
         "REGULAR",
         "623.0",
         "Ciências aplicadas"
        ],
        [
         "36",
         "709704",
         "2006021442",
         "2010-01-17 18:56:43.923000",
         "2010-01-04 09:58:46.522000",
         "2010-02-01 13:59:02.528000",
         "2008009890.0",
         "ALUNO DE GRADUAÇÃO",
         "199419.0",
         "Acervo Circulante",
         "Biblioteca Central Zila Mamede",
         "REGULAR",
         "699.0",
         "Ciências aplicadas"
        ],
        [
         "37",
         "709705",
         "2009032168",
         "2010-01-17 18:56:43.909000",
         "2010-01-04 09:58:46.549000",
         "2010-01-20 13:14:34.464000",
         "2008009890.0",
         "ALUNO DE GRADUAÇÃO",
         "273487.0",
         "Acervo Circulante",
         "Biblioteca Central Zila Mamede",
         "REGULAR",
         "623.0",
         "Ciências aplicadas"
        ],
        [
         "38",
         "709704",
         "2006021442",
         "2010-01-17 18:56:43.923000",
         "2010-01-04 09:58:46.522000",
         "2010-02-01 13:59:02.528000",
         "2008009890.0",
         "ALUNO DE GRADUAÇÃO",
         "199419.0",
         "Acervo Circulante",
         "Biblioteca Central Zila Mamede",
         "REGULAR",
         "699.0",
         "Ciências aplicadas"
        ],
        [
         "39",
         "709705",
         "2009032168",
         "2010-01-17 18:56:43.909000",
         "2010-01-04 09:58:46.549000",
         "2010-01-20 13:14:34.464000",
         "2008009890.0",
         "ALUNO DE GRADUAÇÃO",
         "273487.0",
         "Acervo Circulante",
         "Biblioteca Central Zila Mamede",
         "REGULAR",
         "623.0",
         "Ciências aplicadas"
        ],
        [
         "40",
         "709706",
         "2009032010",
         "2010-01-17 18:56:43.869000",
         "2010-01-04 09:58:46.575000",
         "2010-02-01 13:58:46.387000",
         "2008009890.0",
         "ALUNO DE GRADUAÇÃO",
         "273783.0",
         "Acervo Circulante",
         "Biblioteca Central Zila Mamede",
         "REGULAR",
         "812.0",
         "Linguagem. Língua. Linguística"
        ],
        [
         "41",
         "709707",
         "2008000130",
         null,
         "2010-01-04 10:00:22.435000",
         "2010-01-13 10:01:45.234000",
         "200711946.0",
         "ALUNO DE GRADUAÇÃO",
         "246141.0",
         "Acervo Circulante",
         "Biblioteca Central Zila Mamede",
         "REGULAR",
         "615.0",
         "Ciências aplicadas"
        ],
        [
         "42",
         "709708",
         "L134569",
         null,
         "2010-01-04 10:00:22.459000",
         "2010-01-18 10:12:44.020000",
         "200711946.0",
         "ALUNO DE GRADUAÇÃO",
         "116167.0",
         "Acervo Circulante",
         "Biblioteca Central Zila Mamede",
         "REGULAR",
         "669.0",
         "Ciências aplicadas"
        ],
        [
         "43",
         "709709",
         "2009011815",
         "2010-02-03 12:58:49.734000",
         "2010-01-04 10:02:59.828000",
         "2010-03-02 16:38:38.231000",
         "2008106583.0",
         "ALUNO DE PÓS-GRADUAÇÃO",
         "265828.0",
         "Acervo Circulante",
         "Biblioteca Setorial Prof. Alberto Moreira Campos - ­Departamento de Odontologia",
         "REGULAR",
         "620.0",
         "Ciências aplicadas"
        ],
        [
         "44",
         "709710",
         "L198816",
         null,
         "2010-01-04 10:04:17.306000",
         "2010-01-05 11:26:52.938000",
         "200506718.0",
         "ALUNO DE GRADUAÇÃO",
         "181821.0",
         "Acervo Circulante",
         "Biblioteca Central Zila Mamede",
         "REGULAR",
         "699.0",
         "Ciências aplicadas"
        ],
        [
         "45",
         "709711",
         "L198806",
         null,
         "2010-01-04 10:04:17.344000",
         "2010-01-05 11:26:42.492000",
         "200506718.0",
         "ALUNO DE GRADUAÇÃO",
         "181878.0",
         "Acervo Circulante",
         "Biblioteca Central Zila Mamede",
         "REGULAR",
         "610.0",
         "Ciências aplicadas"
        ],
        [
         "46",
         "709712",
         "2007033792",
         null,
         "2010-01-04 10:07:00.939000",
         "2010-01-20 10:30:58.689000",
         "198423750.0",
         "DOCENTE",
         "167683.0",
         "Acervo Circulante",
         "Biblioteca Setorial Prof. Ronaldo Xavier de Arruda - CCET",
         "REGULAR",
         "679.0",
         "Ciências aplicadas"
        ],
        [
         "47",
         "709713",
         "2008010513",
         null,
         "2010-01-04 10:23:39.830000",
         "2010-01-05 11:57:06.156000",
         "2011101417.0",
         "ALUNO DE PÓS-GRADUAÇÃO",
         "190443.0",
         "Acervo Circulante",
         "Biblioteca Central Zila Mamede",
         "REGULAR",
         "656.0",
         "Ciências aplicadas"
        ],
        [
         "48",
         "709714",
         "2008046332",
         null,
         "2010-01-04 10:23:39.859000",
         "2010-01-05 11:57:01.461000",
         "2011101417.0",
         "ALUNO DE PÓS-GRADUAÇÃO",
         "256856.0",
         "Acervo Circulante",
         "Biblioteca Central Zila Mamede",
         "REGULAR",
         "619.0",
         "Ciências aplicadas"
        ],
        [
         "49",
         "709715",
         "L200359",
         "2010-01-19 14:38:53.133000",
         "2010-01-04 10:28:01.480000",
         "2010-02-01 14:41:13.147000",
         "2010078996.0",
         "ALUNO DE GRADUAÇÃO",
         "37519.0",
         "Acervo Circulante",
         "Biblioteca Central Zila Mamede",
         "REGULAR",
         "644.0",
         "Ciências aplicadas"
        ],
        [
         "50",
         "709716",
         "L107038",
         "2010-01-19 13:46:16.556000",
         "2010-01-04 10:29:19.747000",
         "2010-02-03 08:06:24.253000",
         "200615610.0",
         "ALUNO DE GRADUAÇÃO",
         "22448.0",
         "Acervo Circulante",
         "Biblioteca Central Zila Mamede",
         "REGULAR",
         "677.0",
         "Ciências aplicadas"
        ]
       ],
       "shape": {
        "columns": 13,
        "rows": 2072558
       }
      },
      "text/html": [
       "<div>\n",
       "<style scoped>\n",
       "    .dataframe tbody tr th:only-of-type {\n",
       "        vertical-align: middle;\n",
       "    }\n",
       "\n",
       "    .dataframe tbody tr th {\n",
       "        vertical-align: top;\n",
       "    }\n",
       "\n",
       "    .dataframe thead th {\n",
       "        text-align: right;\n",
       "    }\n",
       "</style>\n",
       "<table border=\"1\" class=\"dataframe\">\n",
       "  <thead>\n",
       "    <tr style=\"text-align: right;\">\n",
       "      <th></th>\n",
       "      <th>id_emprestimo</th>\n",
       "      <th>codigo_barras</th>\n",
       "      <th>data_renovacao</th>\n",
       "      <th>data_emprestimo</th>\n",
       "      <th>data_devolucao</th>\n",
       "      <th>matricula_ou_siape</th>\n",
       "      <th>tipo_vinculo_usuario</th>\n",
       "      <th>id_exemplar</th>\n",
       "      <th>colecao</th>\n",
       "      <th>biblioteca</th>\n",
       "      <th>status_material</th>\n",
       "      <th>localizacao</th>\n",
       "      <th>Classificação</th>\n",
       "    </tr>\n",
       "  </thead>\n",
       "  <tbody>\n",
       "    <tr>\n",
       "      <th>0</th>\n",
       "      <td>709684</td>\n",
       "      <td>L095049</td>\n",
       "      <td>NaT</td>\n",
       "      <td>2010-01-04 07:44:10.721</td>\n",
       "      <td>2010-01-05 16:26:12.662</td>\n",
       "      <td>2008023265.0</td>\n",
       "      <td>ALUNO DE GRADUAÇÃO</td>\n",
       "      <td>13259.0</td>\n",
       "      <td>Acervo Circulante</td>\n",
       "      <td>Biblioteca Central Zila Mamede</td>\n",
       "      <td>REGULAR</td>\n",
       "      <td>630.0</td>\n",
       "      <td>Ciências aplicadas</td>\n",
       "    </tr>\n",
       "    <tr>\n",
       "      <th>1</th>\n",
       "      <td>709685</td>\n",
       "      <td>L167050</td>\n",
       "      <td>NaT</td>\n",
       "      <td>2010-01-04 07:44:10.750</td>\n",
       "      <td>2010-01-12 07:34:13.934</td>\n",
       "      <td>2008023265.0</td>\n",
       "      <td>ALUNO DE GRADUAÇÃO</td>\n",
       "      <td>70865.0</td>\n",
       "      <td>Acervo Circulante</td>\n",
       "      <td>Biblioteca Central Zila Mamede</td>\n",
       "      <td>REGULAR</td>\n",
       "      <td>647.0</td>\n",
       "      <td>Ciências aplicadas</td>\n",
       "    </tr>\n",
       "    <tr>\n",
       "      <th>2</th>\n",
       "      <td>709686</td>\n",
       "      <td>2006017618</td>\n",
       "      <td>2010-01-26 08:07:01.738</td>\n",
       "      <td>2010-01-04 08:08:44.081</td>\n",
       "      <td>2010-02-25 07:36:25.800</td>\n",
       "      <td>2008112114.0</td>\n",
       "      <td>ALUNO DE PÓS-GRADUAÇÃO</td>\n",
       "      <td>195347.0</td>\n",
       "      <td>Acervo Circulante</td>\n",
       "      <td>Biblioteca Setorial Prof. Rodolfo Helinski - E...</td>\n",
       "      <td>REGULAR</td>\n",
       "      <td>640.0</td>\n",
       "      <td>Ciências aplicadas</td>\n",
       "    </tr>\n",
       "    <tr>\n",
       "      <th>3</th>\n",
       "      <td>709687</td>\n",
       "      <td>L184117</td>\n",
       "      <td>2010-01-18 11:07:46.470</td>\n",
       "      <td>2010-01-04 08:24:21.284</td>\n",
       "      <td>2010-02-03 08:58:45.692</td>\n",
       "      <td>200721119.0</td>\n",
       "      <td>ALUNO DE GRADUAÇÃO</td>\n",
       "      <td>131639.0</td>\n",
       "      <td>Acervo Circulante</td>\n",
       "      <td>Biblioteca Central Zila Mamede</td>\n",
       "      <td>REGULAR</td>\n",
       "      <td>609.0</td>\n",
       "      <td>Ciências aplicadas</td>\n",
       "    </tr>\n",
       "    <tr>\n",
       "      <th>4</th>\n",
       "      <td>709684</td>\n",
       "      <td>L095049</td>\n",
       "      <td>NaT</td>\n",
       "      <td>2010-01-04 07:44:10.721</td>\n",
       "      <td>2010-01-05 16:26:12.662</td>\n",
       "      <td>2008023265.0</td>\n",
       "      <td>ALUNO DE GRADUAÇÃO</td>\n",
       "      <td>13259.0</td>\n",
       "      <td>Acervo Circulante</td>\n",
       "      <td>Biblioteca Central Zila Mamede</td>\n",
       "      <td>REGULAR</td>\n",
       "      <td>630.0</td>\n",
       "      <td>Ciências aplicadas</td>\n",
       "    </tr>\n",
       "    <tr>\n",
       "      <th>...</th>\n",
       "      <td>...</td>\n",
       "      <td>...</td>\n",
       "      <td>...</td>\n",
       "      <td>...</td>\n",
       "      <td>...</td>\n",
       "      <td>...</td>\n",
       "      <td>...</td>\n",
       "      <td>...</td>\n",
       "      <td>...</td>\n",
       "      <td>...</td>\n",
       "      <td>...</td>\n",
       "      <td>...</td>\n",
       "      <td>...</td>\n",
       "    </tr>\n",
       "    <tr>\n",
       "      <th>2261811</th>\n",
       "      <td>2989086</td>\n",
       "      <td>2008047044</td>\n",
       "      <td>NaT</td>\n",
       "      <td>2020-05-05 19:51:06.059</td>\n",
       "      <td>2021-05-13 14:53:31.000</td>\n",
       "      <td>3067431.0</td>\n",
       "      <td>SERVIDOR TÉCNICO-ADMINISTRATIVO</td>\n",
       "      <td>256297.0</td>\n",
       "      <td>Acervo Circulante</td>\n",
       "      <td>Biblioteca Setorial da Faculdade de Ciências d...</td>\n",
       "      <td>REGULAR</td>\n",
       "      <td>684.0</td>\n",
       "      <td>Ciências aplicadas</td>\n",
       "    </tr>\n",
       "    <tr>\n",
       "      <th>2261812</th>\n",
       "      <td>2989087</td>\n",
       "      <td>2008047047</td>\n",
       "      <td>NaT</td>\n",
       "      <td>2020-05-05 19:51:06.135</td>\n",
       "      <td>2021-05-13 14:53:38.000</td>\n",
       "      <td>3067431.0</td>\n",
       "      <td>SERVIDOR TÉCNICO-ADMINISTRATIVO</td>\n",
       "      <td>256406.0</td>\n",
       "      <td>Acervo Circulante</td>\n",
       "      <td>Biblioteca Setorial da Faculdade de Ciências d...</td>\n",
       "      <td>REGULAR</td>\n",
       "      <td>628.0</td>\n",
       "      <td>Ciências aplicadas</td>\n",
       "    </tr>\n",
       "    <tr>\n",
       "      <th>2261813</th>\n",
       "      <td>2989088</td>\n",
       "      <td>2010052905</td>\n",
       "      <td>NaT</td>\n",
       "      <td>2020-05-05 19:51:06.164</td>\n",
       "      <td>2021-05-13 15:01:46.000</td>\n",
       "      <td>3067431.0</td>\n",
       "      <td>SERVIDOR TÉCNICO-ADMINISTRATIVO</td>\n",
       "      <td>807821.0</td>\n",
       "      <td>Acervo Circulante</td>\n",
       "      <td>Biblioteca Setorial da Faculdade de Ciências d...</td>\n",
       "      <td>REGULAR</td>\n",
       "      <td>653.0</td>\n",
       "      <td>Ciências aplicadas</td>\n",
       "    </tr>\n",
       "    <tr>\n",
       "      <th>2261814</th>\n",
       "      <td>2989089</td>\n",
       "      <td>2010048023</td>\n",
       "      <td>NaT</td>\n",
       "      <td>2020-06-09 11:54:02.669</td>\n",
       "      <td>2021-07-21 15:33:55.000</td>\n",
       "      <td>20201014993.0</td>\n",
       "      <td>ALUNO DE PÓS-GRADUAÇÃO</td>\n",
       "      <td>804885.0</td>\n",
       "      <td>Acervo Circulante</td>\n",
       "      <td>Biblioteca Central Zila Mamede</td>\n",
       "      <td>REGULAR</td>\n",
       "      <td>675.0</td>\n",
       "      <td>Ciências aplicadas</td>\n",
       "    </tr>\n",
       "    <tr>\n",
       "      <th>2261815</th>\n",
       "      <td>2989090</td>\n",
       "      <td>2013106838</td>\n",
       "      <td>NaT</td>\n",
       "      <td>2020-06-09 11:54:02.852</td>\n",
       "      <td>2021-07-21 15:33:45.000</td>\n",
       "      <td>20201014993.0</td>\n",
       "      <td>ALUNO DE PÓS-GRADUAÇÃO</td>\n",
       "      <td>1099777.0</td>\n",
       "      <td>Acervo Circulante</td>\n",
       "      <td>Biblioteca Central Zila Mamede</td>\n",
       "      <td>REGULAR</td>\n",
       "      <td>14.0</td>\n",
       "      <td>Filosofia e psicologia</td>\n",
       "    </tr>\n",
       "  </tbody>\n",
       "</table>\n",
       "<p>2072558 rows × 13 columns</p>\n",
       "</div>"
      ],
      "text/plain": [
       "         id_emprestimo codigo_barras          data_renovacao  \\\n",
       "0               709684       L095049                     NaT   \n",
       "1               709685       L167050                     NaT   \n",
       "2               709686    2006017618 2010-01-26 08:07:01.738   \n",
       "3               709687       L184117 2010-01-18 11:07:46.470   \n",
       "4               709684       L095049                     NaT   \n",
       "...                ...           ...                     ...   \n",
       "2261811        2989086    2008047044                     NaT   \n",
       "2261812        2989087    2008047047                     NaT   \n",
       "2261813        2989088    2010052905                     NaT   \n",
       "2261814        2989089    2010048023                     NaT   \n",
       "2261815        2989090    2013106838                     NaT   \n",
       "\n",
       "                data_emprestimo          data_devolucao matricula_ou_siape  \\\n",
       "0       2010-01-04 07:44:10.721 2010-01-05 16:26:12.662       2008023265.0   \n",
       "1       2010-01-04 07:44:10.750 2010-01-12 07:34:13.934       2008023265.0   \n",
       "2       2010-01-04 08:08:44.081 2010-02-25 07:36:25.800       2008112114.0   \n",
       "3       2010-01-04 08:24:21.284 2010-02-03 08:58:45.692        200721119.0   \n",
       "4       2010-01-04 07:44:10.721 2010-01-05 16:26:12.662       2008023265.0   \n",
       "...                         ...                     ...                ...   \n",
       "2261811 2020-05-05 19:51:06.059 2021-05-13 14:53:31.000          3067431.0   \n",
       "2261812 2020-05-05 19:51:06.135 2021-05-13 14:53:38.000          3067431.0   \n",
       "2261813 2020-05-05 19:51:06.164 2021-05-13 15:01:46.000          3067431.0   \n",
       "2261814 2020-06-09 11:54:02.669 2021-07-21 15:33:55.000      20201014993.0   \n",
       "2261815 2020-06-09 11:54:02.852 2021-07-21 15:33:45.000      20201014993.0   \n",
       "\n",
       "                    tipo_vinculo_usuario  id_exemplar            colecao  \\\n",
       "0                     ALUNO DE GRADUAÇÃO      13259.0  Acervo Circulante   \n",
       "1                     ALUNO DE GRADUAÇÃO      70865.0  Acervo Circulante   \n",
       "2                 ALUNO DE PÓS-GRADUAÇÃO     195347.0  Acervo Circulante   \n",
       "3                     ALUNO DE GRADUAÇÃO     131639.0  Acervo Circulante   \n",
       "4                     ALUNO DE GRADUAÇÃO      13259.0  Acervo Circulante   \n",
       "...                                  ...          ...                ...   \n",
       "2261811  SERVIDOR TÉCNICO-ADMINISTRATIVO     256297.0  Acervo Circulante   \n",
       "2261812  SERVIDOR TÉCNICO-ADMINISTRATIVO     256406.0  Acervo Circulante   \n",
       "2261813  SERVIDOR TÉCNICO-ADMINISTRATIVO     807821.0  Acervo Circulante   \n",
       "2261814           ALUNO DE PÓS-GRADUAÇÃO     804885.0  Acervo Circulante   \n",
       "2261815           ALUNO DE PÓS-GRADUAÇÃO    1099777.0  Acervo Circulante   \n",
       "\n",
       "                                                biblioteca status_material  \\\n",
       "0                           Biblioteca Central Zila Mamede         REGULAR   \n",
       "1                           Biblioteca Central Zila Mamede         REGULAR   \n",
       "2        Biblioteca Setorial Prof. Rodolfo Helinski - E...         REGULAR   \n",
       "3                           Biblioteca Central Zila Mamede         REGULAR   \n",
       "4                           Biblioteca Central Zila Mamede         REGULAR   \n",
       "...                                                    ...             ...   \n",
       "2261811  Biblioteca Setorial da Faculdade de Ciências d...         REGULAR   \n",
       "2261812  Biblioteca Setorial da Faculdade de Ciências d...         REGULAR   \n",
       "2261813  Biblioteca Setorial da Faculdade de Ciências d...         REGULAR   \n",
       "2261814                     Biblioteca Central Zila Mamede         REGULAR   \n",
       "2261815                     Biblioteca Central Zila Mamede         REGULAR   \n",
       "\n",
       "         localizacao           Classificação  \n",
       "0              630.0      Ciências aplicadas  \n",
       "1              647.0      Ciências aplicadas  \n",
       "2              640.0      Ciências aplicadas  \n",
       "3              609.0      Ciências aplicadas  \n",
       "4              630.0      Ciências aplicadas  \n",
       "...              ...                     ...  \n",
       "2261811        684.0      Ciências aplicadas  \n",
       "2261812        628.0      Ciências aplicadas  \n",
       "2261813        653.0      Ciências aplicadas  \n",
       "2261814        675.0      Ciências aplicadas  \n",
       "2261815         14.0  Filosofia e psicologia  \n",
       "\n",
       "[2072558 rows x 13 columns]"
      ]
     },
     "execution_count": 141,
     "metadata": {},
     "output_type": "execute_result"
    }
   ],
   "source": [
    "df_limpo"
   ]
  },
  {
   "cell_type": "markdown",
   "id": "2a12ad5a",
   "metadata": {},
   "source": [
    "## Primeiras visualizações"
   ]
  },
  {
   "cell_type": "markdown",
   "id": "634edf31",
   "metadata": {},
   "source": [
    "### Desempenho dos emprestimos ao longo dos anos\n",
    "\n",
    "A diretoria da biblioteca gostaria de entender se a quantidade de empréstimos está diminuindo, aumentando ou permanecendo igual ao decorrer dos últimos anos.\n",
    "\n",
    "Gráfico de linhas \n",
    "\n",
    "    x - Anos\n",
    "    Y - Qtd emprestada"
   ]
  },
  {
   "cell_type": "code",
   "execution_count": 142,
   "id": "48f614a6",
   "metadata": {},
   "outputs": [
    {
     "data": {
      "application/vnd.microsoft.datawrangler.viewer.v0+json": {
       "columns": [
        {
         "name": "index",
         "rawType": "int64",
         "type": "integer"
        },
        {
         "name": "id_emprestimo",
         "rawType": "int64",
         "type": "integer"
        },
        {
         "name": "codigo_barras",
         "rawType": "object",
         "type": "string"
        },
        {
         "name": "data_renovacao",
         "rawType": "datetime64[ns]",
         "type": "datetime"
        },
        {
         "name": "data_emprestimo",
         "rawType": "datetime64[ns]",
         "type": "datetime"
        },
        {
         "name": "data_devolucao",
         "rawType": "datetime64[ns]",
         "type": "datetime"
        },
        {
         "name": "matricula_ou_siape",
         "rawType": "object",
         "type": "string"
        },
        {
         "name": "tipo_vinculo_usuario",
         "rawType": "object",
         "type": "string"
        },
        {
         "name": "id_exemplar",
         "rawType": "float64",
         "type": "float"
        },
        {
         "name": "colecao",
         "rawType": "object",
         "type": "string"
        },
        {
         "name": "biblioteca",
         "rawType": "object",
         "type": "string"
        },
        {
         "name": "status_material",
         "rawType": "object",
         "type": "string"
        },
        {
         "name": "localizacao",
         "rawType": "float64",
         "type": "float"
        },
        {
         "name": "Classificação",
         "rawType": "object",
         "type": "string"
        },
        {
         "name": "Ano_emprestimo",
         "rawType": "int32",
         "type": "integer"
        }
       ],
       "ref": "920b81cb-c37b-4ef3-807e-9fbc64e470b9",
       "rows": [
        [
         "0",
         "709684",
         "L095049",
         null,
         "2010-01-04 07:44:10.721000",
         "2010-01-05 16:26:12.662000",
         "2008023265.0",
         "ALUNO DE GRADUAÇÃO",
         "13259.0",
         "Acervo Circulante",
         "Biblioteca Central Zila Mamede",
         "REGULAR",
         "630.0",
         "Ciências aplicadas",
         "2010"
        ],
        [
         "1",
         "709685",
         "L167050",
         null,
         "2010-01-04 07:44:10.750000",
         "2010-01-12 07:34:13.934000",
         "2008023265.0",
         "ALUNO DE GRADUAÇÃO",
         "70865.0",
         "Acervo Circulante",
         "Biblioteca Central Zila Mamede",
         "REGULAR",
         "647.0",
         "Ciências aplicadas",
         "2010"
        ],
        [
         "2",
         "709686",
         "2006017618",
         "2010-01-26 08:07:01.738000",
         "2010-01-04 08:08:44.081000",
         "2010-02-25 07:36:25.800000",
         "2008112114.0",
         "ALUNO DE PÓS-GRADUAÇÃO",
         "195347.0",
         "Acervo Circulante",
         "Biblioteca Setorial Prof. Rodolfo Helinski - Escola Agrícola de Jundiaí - EAJ  - Macaiba",
         "REGULAR",
         "640.0",
         "Ciências aplicadas",
         "2010"
        ],
        [
         "3",
         "709687",
         "L184117",
         "2010-01-18 11:07:46.470000",
         "2010-01-04 08:24:21.284000",
         "2010-02-03 08:58:45.692000",
         "200721119.0",
         "ALUNO DE GRADUAÇÃO",
         "131639.0",
         "Acervo Circulante",
         "Biblioteca Central Zila Mamede",
         "REGULAR",
         "609.0",
         "Ciências aplicadas",
         "2010"
        ],
        [
         "4",
         "709684",
         "L095049",
         null,
         "2010-01-04 07:44:10.721000",
         "2010-01-05 16:26:12.662000",
         "2008023265.0",
         "ALUNO DE GRADUAÇÃO",
         "13259.0",
         "Acervo Circulante",
         "Biblioteca Central Zila Mamede",
         "REGULAR",
         "630.0",
         "Ciências aplicadas",
         "2010"
        ],
        [
         "5",
         "709685",
         "L167050",
         null,
         "2010-01-04 07:44:10.750000",
         "2010-01-12 07:34:13.934000",
         "2008023265.0",
         "ALUNO DE GRADUAÇÃO",
         "70865.0",
         "Acervo Circulante",
         "Biblioteca Central Zila Mamede",
         "REGULAR",
         "647.0",
         "Ciências aplicadas",
         "2010"
        ],
        [
         "6",
         "709686",
         "2006017618",
         "2010-01-26 08:07:01.738000",
         "2010-01-04 08:08:44.081000",
         "2010-02-25 07:36:25.800000",
         "2008112114.0",
         "ALUNO DE PÓS-GRADUAÇÃO",
         "195347.0",
         "Acervo Circulante",
         "Biblioteca Setorial Prof. Rodolfo Helinski - Escola Agrícola de Jundiaí - EAJ  - Macaiba",
         "REGULAR",
         "640.0",
         "Ciências aplicadas",
         "2010"
        ],
        [
         "7",
         "709687",
         "L184117",
         "2010-01-18 11:07:46.470000",
         "2010-01-04 08:24:21.284000",
         "2010-02-03 08:58:45.692000",
         "200721119.0",
         "ALUNO DE GRADUAÇÃO",
         "131639.0",
         "Acervo Circulante",
         "Biblioteca Central Zila Mamede",
         "REGULAR",
         "609.0",
         "Ciências aplicadas",
         "2010"
        ],
        [
         "8",
         "709688",
         "2007027500",
         "2010-01-19 15:59:26.464000",
         "2010-01-04 08:27:33.569000",
         "2010-02-03 13:06:30.662000",
         "2009045971.0",
         "ALUNO DE GRADUAÇÃO",
         "225646.0",
         "Acervo Circulante",
         "Biblioteca Central Zila Mamede",
         "REGULAR",
         "686.0",
         "Ciências aplicadas",
         "2010"
        ],
        [
         "9",
         "709689",
         "L157395",
         "2010-01-19 15:59:26.447000",
         "2010-01-04 08:27:33.596000",
         "2010-02-03 13:06:43.125000",
         "2009045971.0",
         "ALUNO DE GRADUAÇÃO",
         "57040.0",
         "Acervo Circulante",
         "Biblioteca Central Zila Mamede",
         "REGULAR",
         "698.0",
         "Ciências aplicadas",
         "2010"
        ],
        [
         "10",
         "709690",
         "2007019312",
         null,
         "2010-01-04 08:49:57.857000",
         "2010-01-13 09:58:25.443000",
         "200701444.0",
         "ALUNO DE GRADUAÇÃO",
         "225786.0",
         "Acervo Circulante",
         "Biblioteca Central Zila Mamede",
         "REGULAR",
         "698.0",
         "Ciências aplicadas",
         "2010"
        ],
        [
         "11",
         "709691",
         "2008046357",
         "2010-01-19 11:50:13.404000",
         "2010-01-04 09:02:30.576000",
         "2010-02-02 12:13:36.132000",
         "200507453.0",
         "ALUNO DE GRADUAÇÃO",
         "256537.0",
         "Acervo Circulante",
         "Biblioteca Setorial Bertha Cruz Enders - ­Escola de Saúde da UFRN - ESUFRN",
         "REGULAR",
         "645.0",
         "Ciências aplicadas",
         "2010"
        ],
        [
         "12",
         "709692",
         "L187962",
         null,
         "2010-01-04 09:07:06.131000",
         "2010-06-22 18:55:04",
         "200404369.0",
         "ALUNO DE GRADUAÇÃO",
         "143654.0",
         "Acervo Circulante",
         "Biblioteca Central Zila Mamede",
         "REGULAR",
         "658.0",
         "Ciências aplicadas",
         "2010"
        ],
        [
         "13",
         "709693",
         "L192776",
         null,
         "2010-01-04 09:07:06.159000",
         "2010-06-22 18:54:46",
         "200404369.0",
         "ALUNO DE GRADUAÇÃO",
         "159348.0",
         "Acervo Circulante",
         "Biblioteca Central Zila Mamede",
         "REGULAR",
         "697.0",
         "Ciências aplicadas",
         "2010"
        ],
        [
         "14",
         "709694",
         "L202783",
         null,
         "2010-01-04 09:09:38.329000",
         "2010-02-03 13:00:49.746000",
         "198420637.0",
         "DOCENTE",
         "274136.0",
         "Acervo Circulante",
         "Biblioteca Central Zila Mamede",
         "REGULAR",
         "643.0",
         "Ciências aplicadas",
         "2010"
        ],
        [
         "15",
         "709695",
         "2007035128",
         null,
         "2010-01-04 09:14:55.681000",
         "2010-01-14 10:15:08.388000",
         "2008005020.0",
         "ALUNO DE GRADUAÇÃO",
         "235887.0",
         "Acervo Circulante",
         "Biblioteca Central Zila Mamede",
         "REGULAR",
         "630.0",
         "Ciências aplicadas",
         "2010"
        ],
        [
         "16",
         "709696",
         "L122346",
         null,
         "2010-01-04 09:14:55.721000",
         "2010-01-14 10:15:16.041000",
         "2008005020.0",
         "ALUNO DE GRADUAÇÃO",
         "28681.0",
         "Acervo Circulante",
         "Biblioteca Central Zila Mamede",
         "REGULAR",
         "612.0",
         "Ciências aplicadas",
         "2010"
        ],
        [
         "17",
         "709697",
         "L048797",
         null,
         "2010-01-04 09:18:17.514000",
         "2010-01-14 10:14:59.964000",
         "2008005020.0",
         "ALUNO DE GRADUAÇÃO",
         "131863.0",
         "Acervo Circulante",
         "Biblioteca Central Zila Mamede",
         "REGULAR",
         "673.0",
         "Ciências aplicadas",
         "2010"
        ],
        [
         "18",
         "709698",
         "2009047725",
         "2010-01-18 14:44:41.163000",
         "2010-01-04 09:21:19.099000",
         "2010-02-02 12:02:38.444000",
         "2009046838.0",
         "ALUNO DE GRADUAÇÃO",
         "281004.0",
         "Acervo Circulante",
         "Biblioteca Setorial do Centro Ciências da Saúde - CCS",
         "REGULAR",
         "651.0",
         "Ciências aplicadas",
         "2010"
        ],
        [
         "19",
         "709698",
         "2009047725",
         "2010-01-18 14:44:41.163000",
         "2010-01-04 09:21:19.099000",
         "2010-02-02 12:02:38.444000",
         "2009046838.0",
         "ALUNO DE GRADUAÇÃO",
         "281004.0",
         "Acervo Circulante",
         "Biblioteca Setorial do Centro Ciências da Saúde - CCS",
         "REGULAR",
         "651.0",
         "Ciências aplicadas",
         "2010"
        ],
        [
         "20",
         "709698",
         "2009047725",
         "2010-01-18 14:44:41.163000",
         "2010-01-04 09:21:19.099000",
         "2010-02-02 12:02:38.444000",
         "2009046838.0",
         "ALUNO DE GRADUAÇÃO",
         "281004.0",
         "Acervo Circulante",
         "Biblioteca Setorial do Centro Ciências da Saúde - CCS",
         "REGULAR",
         "651.0",
         "Ciências aplicadas",
         "2010"
        ],
        [
         "21",
         "709699",
         "2009051872",
         "2010-01-18 14:44:41.144000",
         "2010-01-04 09:21:19.126000",
         "2010-02-02 12:03:35.649000",
         "2009046838.0",
         "ALUNO DE GRADUAÇÃO",
         "281880.0",
         "Acervo Circulante",
         "Biblioteca Setorial do Centro Ciências da Saúde - CCS",
         "REGULAR",
         "647.0",
         "Ciências aplicadas",
         "2010"
        ],
        [
         "22",
         "709700",
         "L200358",
         null,
         "2010-01-04 09:42:28.589000",
         "2010-01-04 09:42:56.820000",
         "2010078996.0",
         "ALUNO DE GRADUAÇÃO",
         "37513.0",
         "Acervo Circulante",
         "Biblioteca Central Zila Mamede",
         "REGULAR",
         "674.0",
         "Ciências aplicadas",
         "2010"
        ],
        [
         "24",
         "709702",
         "L200904",
         "2010-01-19 19:02:53.430000",
         "2010-01-04 09:48:05.637000",
         "2010-02-04 18:23:55.925000",
         "2008029450.0",
         "ALUNO DE GRADUAÇÃO",
         "158308.0",
         "Acervo Circulante",
         "Biblioteca Central Zila Mamede",
         "REGULAR",
         "631.0",
         "Ciências aplicadas",
         "2010"
        ],
        [
         "25",
         "709703",
         "2007020476",
         "2010-01-13 09:39:02.522000",
         "2010-01-04 09:56:42.325000",
         "2010-01-21 10:25:28.007000",
         "200625578.0",
         "ALUNO DE GRADUAÇÃO",
         "221707.0",
         "Acervo Circulante",
         "Biblioteca Central Zila Mamede",
         "ESPECIAL",
         "634.0",
         "Ciências aplicadas",
         "2010"
        ],
        [
         "26",
         "709704",
         "2006021442",
         "2010-01-17 18:56:43.923000",
         "2010-01-04 09:58:46.522000",
         "2010-02-01 13:59:02.528000",
         "2008009890.0",
         "ALUNO DE GRADUAÇÃO",
         "199419.0",
         "Acervo Circulante",
         "Biblioteca Central Zila Mamede",
         "REGULAR",
         "699.0",
         "Ciências aplicadas",
         "2010"
        ],
        [
         "27",
         "709705",
         "2009032168",
         "2010-01-17 18:56:43.909000",
         "2010-01-04 09:58:46.549000",
         "2010-01-20 13:14:34.464000",
         "2008009890.0",
         "ALUNO DE GRADUAÇÃO",
         "273487.0",
         "Acervo Circulante",
         "Biblioteca Central Zila Mamede",
         "REGULAR",
         "623.0",
         "Ciências aplicadas",
         "2010"
        ],
        [
         "28",
         "709704",
         "2006021442",
         "2010-01-17 18:56:43.923000",
         "2010-01-04 09:58:46.522000",
         "2010-02-01 13:59:02.528000",
         "2008009890.0",
         "ALUNO DE GRADUAÇÃO",
         "199419.0",
         "Acervo Circulante",
         "Biblioteca Central Zila Mamede",
         "REGULAR",
         "699.0",
         "Ciências aplicadas",
         "2010"
        ],
        [
         "29",
         "709705",
         "2009032168",
         "2010-01-17 18:56:43.909000",
         "2010-01-04 09:58:46.549000",
         "2010-01-20 13:14:34.464000",
         "2008009890.0",
         "ALUNO DE GRADUAÇÃO",
         "273487.0",
         "Acervo Circulante",
         "Biblioteca Central Zila Mamede",
         "REGULAR",
         "623.0",
         "Ciências aplicadas",
         "2010"
        ],
        [
         "30",
         "709704",
         "2006021442",
         "2010-01-17 18:56:43.923000",
         "2010-01-04 09:58:46.522000",
         "2010-02-01 13:59:02.528000",
         "2008009890.0",
         "ALUNO DE GRADUAÇÃO",
         "199419.0",
         "Acervo Circulante",
         "Biblioteca Central Zila Mamede",
         "REGULAR",
         "699.0",
         "Ciências aplicadas",
         "2010"
        ],
        [
         "31",
         "709705",
         "2009032168",
         "2010-01-17 18:56:43.909000",
         "2010-01-04 09:58:46.549000",
         "2010-01-20 13:14:34.464000",
         "2008009890.0",
         "ALUNO DE GRADUAÇÃO",
         "273487.0",
         "Acervo Circulante",
         "Biblioteca Central Zila Mamede",
         "REGULAR",
         "623.0",
         "Ciências aplicadas",
         "2010"
        ],
        [
         "32",
         "709704",
         "2006021442",
         "2010-01-17 18:56:43.923000",
         "2010-01-04 09:58:46.522000",
         "2010-02-01 13:59:02.528000",
         "2008009890.0",
         "ALUNO DE GRADUAÇÃO",
         "199419.0",
         "Acervo Circulante",
         "Biblioteca Central Zila Mamede",
         "REGULAR",
         "699.0",
         "Ciências aplicadas",
         "2010"
        ],
        [
         "33",
         "709705",
         "2009032168",
         "2010-01-17 18:56:43.909000",
         "2010-01-04 09:58:46.549000",
         "2010-01-20 13:14:34.464000",
         "2008009890.0",
         "ALUNO DE GRADUAÇÃO",
         "273487.0",
         "Acervo Circulante",
         "Biblioteca Central Zila Mamede",
         "REGULAR",
         "623.0",
         "Ciências aplicadas",
         "2010"
        ],
        [
         "34",
         "709704",
         "2006021442",
         "2010-01-17 18:56:43.923000",
         "2010-01-04 09:58:46.522000",
         "2010-02-01 13:59:02.528000",
         "2008009890.0",
         "ALUNO DE GRADUAÇÃO",
         "199419.0",
         "Acervo Circulante",
         "Biblioteca Central Zila Mamede",
         "REGULAR",
         "699.0",
         "Ciências aplicadas",
         "2010"
        ],
        [
         "35",
         "709705",
         "2009032168",
         "2010-01-17 18:56:43.909000",
         "2010-01-04 09:58:46.549000",
         "2010-01-20 13:14:34.464000",
         "2008009890.0",
         "ALUNO DE GRADUAÇÃO",
         "273487.0",
         "Acervo Circulante",
         "Biblioteca Central Zila Mamede",
         "REGULAR",
         "623.0",
         "Ciências aplicadas",
         "2010"
        ],
        [
         "36",
         "709704",
         "2006021442",
         "2010-01-17 18:56:43.923000",
         "2010-01-04 09:58:46.522000",
         "2010-02-01 13:59:02.528000",
         "2008009890.0",
         "ALUNO DE GRADUAÇÃO",
         "199419.0",
         "Acervo Circulante",
         "Biblioteca Central Zila Mamede",
         "REGULAR",
         "699.0",
         "Ciências aplicadas",
         "2010"
        ],
        [
         "37",
         "709705",
         "2009032168",
         "2010-01-17 18:56:43.909000",
         "2010-01-04 09:58:46.549000",
         "2010-01-20 13:14:34.464000",
         "2008009890.0",
         "ALUNO DE GRADUAÇÃO",
         "273487.0",
         "Acervo Circulante",
         "Biblioteca Central Zila Mamede",
         "REGULAR",
         "623.0",
         "Ciências aplicadas",
         "2010"
        ],
        [
         "38",
         "709704",
         "2006021442",
         "2010-01-17 18:56:43.923000",
         "2010-01-04 09:58:46.522000",
         "2010-02-01 13:59:02.528000",
         "2008009890.0",
         "ALUNO DE GRADUAÇÃO",
         "199419.0",
         "Acervo Circulante",
         "Biblioteca Central Zila Mamede",
         "REGULAR",
         "699.0",
         "Ciências aplicadas",
         "2010"
        ],
        [
         "39",
         "709705",
         "2009032168",
         "2010-01-17 18:56:43.909000",
         "2010-01-04 09:58:46.549000",
         "2010-01-20 13:14:34.464000",
         "2008009890.0",
         "ALUNO DE GRADUAÇÃO",
         "273487.0",
         "Acervo Circulante",
         "Biblioteca Central Zila Mamede",
         "REGULAR",
         "623.0",
         "Ciências aplicadas",
         "2010"
        ],
        [
         "40",
         "709706",
         "2009032010",
         "2010-01-17 18:56:43.869000",
         "2010-01-04 09:58:46.575000",
         "2010-02-01 13:58:46.387000",
         "2008009890.0",
         "ALUNO DE GRADUAÇÃO",
         "273783.0",
         "Acervo Circulante",
         "Biblioteca Central Zila Mamede",
         "REGULAR",
         "812.0",
         "Linguagem. Língua. Linguística",
         "2010"
        ],
        [
         "41",
         "709707",
         "2008000130",
         null,
         "2010-01-04 10:00:22.435000",
         "2010-01-13 10:01:45.234000",
         "200711946.0",
         "ALUNO DE GRADUAÇÃO",
         "246141.0",
         "Acervo Circulante",
         "Biblioteca Central Zila Mamede",
         "REGULAR",
         "615.0",
         "Ciências aplicadas",
         "2010"
        ],
        [
         "42",
         "709708",
         "L134569",
         null,
         "2010-01-04 10:00:22.459000",
         "2010-01-18 10:12:44.020000",
         "200711946.0",
         "ALUNO DE GRADUAÇÃO",
         "116167.0",
         "Acervo Circulante",
         "Biblioteca Central Zila Mamede",
         "REGULAR",
         "669.0",
         "Ciências aplicadas",
         "2010"
        ],
        [
         "43",
         "709709",
         "2009011815",
         "2010-02-03 12:58:49.734000",
         "2010-01-04 10:02:59.828000",
         "2010-03-02 16:38:38.231000",
         "2008106583.0",
         "ALUNO DE PÓS-GRADUAÇÃO",
         "265828.0",
         "Acervo Circulante",
         "Biblioteca Setorial Prof. Alberto Moreira Campos - ­Departamento de Odontologia",
         "REGULAR",
         "620.0",
         "Ciências aplicadas",
         "2010"
        ],
        [
         "44",
         "709710",
         "L198816",
         null,
         "2010-01-04 10:04:17.306000",
         "2010-01-05 11:26:52.938000",
         "200506718.0",
         "ALUNO DE GRADUAÇÃO",
         "181821.0",
         "Acervo Circulante",
         "Biblioteca Central Zila Mamede",
         "REGULAR",
         "699.0",
         "Ciências aplicadas",
         "2010"
        ],
        [
         "45",
         "709711",
         "L198806",
         null,
         "2010-01-04 10:04:17.344000",
         "2010-01-05 11:26:42.492000",
         "200506718.0",
         "ALUNO DE GRADUAÇÃO",
         "181878.0",
         "Acervo Circulante",
         "Biblioteca Central Zila Mamede",
         "REGULAR",
         "610.0",
         "Ciências aplicadas",
         "2010"
        ],
        [
         "46",
         "709712",
         "2007033792",
         null,
         "2010-01-04 10:07:00.939000",
         "2010-01-20 10:30:58.689000",
         "198423750.0",
         "DOCENTE",
         "167683.0",
         "Acervo Circulante",
         "Biblioteca Setorial Prof. Ronaldo Xavier de Arruda - CCET",
         "REGULAR",
         "679.0",
         "Ciências aplicadas",
         "2010"
        ],
        [
         "47",
         "709713",
         "2008010513",
         null,
         "2010-01-04 10:23:39.830000",
         "2010-01-05 11:57:06.156000",
         "2011101417.0",
         "ALUNO DE PÓS-GRADUAÇÃO",
         "190443.0",
         "Acervo Circulante",
         "Biblioteca Central Zila Mamede",
         "REGULAR",
         "656.0",
         "Ciências aplicadas",
         "2010"
        ],
        [
         "48",
         "709714",
         "2008046332",
         null,
         "2010-01-04 10:23:39.859000",
         "2010-01-05 11:57:01.461000",
         "2011101417.0",
         "ALUNO DE PÓS-GRADUAÇÃO",
         "256856.0",
         "Acervo Circulante",
         "Biblioteca Central Zila Mamede",
         "REGULAR",
         "619.0",
         "Ciências aplicadas",
         "2010"
        ],
        [
         "49",
         "709715",
         "L200359",
         "2010-01-19 14:38:53.133000",
         "2010-01-04 10:28:01.480000",
         "2010-02-01 14:41:13.147000",
         "2010078996.0",
         "ALUNO DE GRADUAÇÃO",
         "37519.0",
         "Acervo Circulante",
         "Biblioteca Central Zila Mamede",
         "REGULAR",
         "644.0",
         "Ciências aplicadas",
         "2010"
        ],
        [
         "50",
         "709716",
         "L107038",
         "2010-01-19 13:46:16.556000",
         "2010-01-04 10:29:19.747000",
         "2010-02-03 08:06:24.253000",
         "200615610.0",
         "ALUNO DE GRADUAÇÃO",
         "22448.0",
         "Acervo Circulante",
         "Biblioteca Central Zila Mamede",
         "REGULAR",
         "677.0",
         "Ciências aplicadas",
         "2010"
        ]
       ],
       "shape": {
        "columns": 14,
        "rows": 2072558
       }
      },
      "text/html": [
       "<div>\n",
       "<style scoped>\n",
       "    .dataframe tbody tr th:only-of-type {\n",
       "        vertical-align: middle;\n",
       "    }\n",
       "\n",
       "    .dataframe tbody tr th {\n",
       "        vertical-align: top;\n",
       "    }\n",
       "\n",
       "    .dataframe thead th {\n",
       "        text-align: right;\n",
       "    }\n",
       "</style>\n",
       "<table border=\"1\" class=\"dataframe\">\n",
       "  <thead>\n",
       "    <tr style=\"text-align: right;\">\n",
       "      <th></th>\n",
       "      <th>id_emprestimo</th>\n",
       "      <th>codigo_barras</th>\n",
       "      <th>data_renovacao</th>\n",
       "      <th>data_emprestimo</th>\n",
       "      <th>data_devolucao</th>\n",
       "      <th>matricula_ou_siape</th>\n",
       "      <th>tipo_vinculo_usuario</th>\n",
       "      <th>id_exemplar</th>\n",
       "      <th>colecao</th>\n",
       "      <th>biblioteca</th>\n",
       "      <th>status_material</th>\n",
       "      <th>localizacao</th>\n",
       "      <th>Classificação</th>\n",
       "      <th>Ano_emprestimo</th>\n",
       "    </tr>\n",
       "  </thead>\n",
       "  <tbody>\n",
       "    <tr>\n",
       "      <th>0</th>\n",
       "      <td>709684</td>\n",
       "      <td>L095049</td>\n",
       "      <td>NaT</td>\n",
       "      <td>2010-01-04 07:44:10.721</td>\n",
       "      <td>2010-01-05 16:26:12.662</td>\n",
       "      <td>2008023265.0</td>\n",
       "      <td>ALUNO DE GRADUAÇÃO</td>\n",
       "      <td>13259.0</td>\n",
       "      <td>Acervo Circulante</td>\n",
       "      <td>Biblioteca Central Zila Mamede</td>\n",
       "      <td>REGULAR</td>\n",
       "      <td>630.0</td>\n",
       "      <td>Ciências aplicadas</td>\n",
       "      <td>2010</td>\n",
       "    </tr>\n",
       "    <tr>\n",
       "      <th>1</th>\n",
       "      <td>709685</td>\n",
       "      <td>L167050</td>\n",
       "      <td>NaT</td>\n",
       "      <td>2010-01-04 07:44:10.750</td>\n",
       "      <td>2010-01-12 07:34:13.934</td>\n",
       "      <td>2008023265.0</td>\n",
       "      <td>ALUNO DE GRADUAÇÃO</td>\n",
       "      <td>70865.0</td>\n",
       "      <td>Acervo Circulante</td>\n",
       "      <td>Biblioteca Central Zila Mamede</td>\n",
       "      <td>REGULAR</td>\n",
       "      <td>647.0</td>\n",
       "      <td>Ciências aplicadas</td>\n",
       "      <td>2010</td>\n",
       "    </tr>\n",
       "    <tr>\n",
       "      <th>2</th>\n",
       "      <td>709686</td>\n",
       "      <td>2006017618</td>\n",
       "      <td>2010-01-26 08:07:01.738</td>\n",
       "      <td>2010-01-04 08:08:44.081</td>\n",
       "      <td>2010-02-25 07:36:25.800</td>\n",
       "      <td>2008112114.0</td>\n",
       "      <td>ALUNO DE PÓS-GRADUAÇÃO</td>\n",
       "      <td>195347.0</td>\n",
       "      <td>Acervo Circulante</td>\n",
       "      <td>Biblioteca Setorial Prof. Rodolfo Helinski - E...</td>\n",
       "      <td>REGULAR</td>\n",
       "      <td>640.0</td>\n",
       "      <td>Ciências aplicadas</td>\n",
       "      <td>2010</td>\n",
       "    </tr>\n",
       "    <tr>\n",
       "      <th>3</th>\n",
       "      <td>709687</td>\n",
       "      <td>L184117</td>\n",
       "      <td>2010-01-18 11:07:46.470</td>\n",
       "      <td>2010-01-04 08:24:21.284</td>\n",
       "      <td>2010-02-03 08:58:45.692</td>\n",
       "      <td>200721119.0</td>\n",
       "      <td>ALUNO DE GRADUAÇÃO</td>\n",
       "      <td>131639.0</td>\n",
       "      <td>Acervo Circulante</td>\n",
       "      <td>Biblioteca Central Zila Mamede</td>\n",
       "      <td>REGULAR</td>\n",
       "      <td>609.0</td>\n",
       "      <td>Ciências aplicadas</td>\n",
       "      <td>2010</td>\n",
       "    </tr>\n",
       "    <tr>\n",
       "      <th>4</th>\n",
       "      <td>709684</td>\n",
       "      <td>L095049</td>\n",
       "      <td>NaT</td>\n",
       "      <td>2010-01-04 07:44:10.721</td>\n",
       "      <td>2010-01-05 16:26:12.662</td>\n",
       "      <td>2008023265.0</td>\n",
       "      <td>ALUNO DE GRADUAÇÃO</td>\n",
       "      <td>13259.0</td>\n",
       "      <td>Acervo Circulante</td>\n",
       "      <td>Biblioteca Central Zila Mamede</td>\n",
       "      <td>REGULAR</td>\n",
       "      <td>630.0</td>\n",
       "      <td>Ciências aplicadas</td>\n",
       "      <td>2010</td>\n",
       "    </tr>\n",
       "    <tr>\n",
       "      <th>...</th>\n",
       "      <td>...</td>\n",
       "      <td>...</td>\n",
       "      <td>...</td>\n",
       "      <td>...</td>\n",
       "      <td>...</td>\n",
       "      <td>...</td>\n",
       "      <td>...</td>\n",
       "      <td>...</td>\n",
       "      <td>...</td>\n",
       "      <td>...</td>\n",
       "      <td>...</td>\n",
       "      <td>...</td>\n",
       "      <td>...</td>\n",
       "      <td>...</td>\n",
       "    </tr>\n",
       "    <tr>\n",
       "      <th>2261811</th>\n",
       "      <td>2989086</td>\n",
       "      <td>2008047044</td>\n",
       "      <td>NaT</td>\n",
       "      <td>2020-05-05 19:51:06.059</td>\n",
       "      <td>2021-05-13 14:53:31.000</td>\n",
       "      <td>3067431.0</td>\n",
       "      <td>SERVIDOR TÉCNICO-ADMINISTRATIVO</td>\n",
       "      <td>256297.0</td>\n",
       "      <td>Acervo Circulante</td>\n",
       "      <td>Biblioteca Setorial da Faculdade de Ciências d...</td>\n",
       "      <td>REGULAR</td>\n",
       "      <td>684.0</td>\n",
       "      <td>Ciências aplicadas</td>\n",
       "      <td>2020</td>\n",
       "    </tr>\n",
       "    <tr>\n",
       "      <th>2261812</th>\n",
       "      <td>2989087</td>\n",
       "      <td>2008047047</td>\n",
       "      <td>NaT</td>\n",
       "      <td>2020-05-05 19:51:06.135</td>\n",
       "      <td>2021-05-13 14:53:38.000</td>\n",
       "      <td>3067431.0</td>\n",
       "      <td>SERVIDOR TÉCNICO-ADMINISTRATIVO</td>\n",
       "      <td>256406.0</td>\n",
       "      <td>Acervo Circulante</td>\n",
       "      <td>Biblioteca Setorial da Faculdade de Ciências d...</td>\n",
       "      <td>REGULAR</td>\n",
       "      <td>628.0</td>\n",
       "      <td>Ciências aplicadas</td>\n",
       "      <td>2020</td>\n",
       "    </tr>\n",
       "    <tr>\n",
       "      <th>2261813</th>\n",
       "      <td>2989088</td>\n",
       "      <td>2010052905</td>\n",
       "      <td>NaT</td>\n",
       "      <td>2020-05-05 19:51:06.164</td>\n",
       "      <td>2021-05-13 15:01:46.000</td>\n",
       "      <td>3067431.0</td>\n",
       "      <td>SERVIDOR TÉCNICO-ADMINISTRATIVO</td>\n",
       "      <td>807821.0</td>\n",
       "      <td>Acervo Circulante</td>\n",
       "      <td>Biblioteca Setorial da Faculdade de Ciências d...</td>\n",
       "      <td>REGULAR</td>\n",
       "      <td>653.0</td>\n",
       "      <td>Ciências aplicadas</td>\n",
       "      <td>2020</td>\n",
       "    </tr>\n",
       "    <tr>\n",
       "      <th>2261814</th>\n",
       "      <td>2989089</td>\n",
       "      <td>2010048023</td>\n",
       "      <td>NaT</td>\n",
       "      <td>2020-06-09 11:54:02.669</td>\n",
       "      <td>2021-07-21 15:33:55.000</td>\n",
       "      <td>20201014993.0</td>\n",
       "      <td>ALUNO DE PÓS-GRADUAÇÃO</td>\n",
       "      <td>804885.0</td>\n",
       "      <td>Acervo Circulante</td>\n",
       "      <td>Biblioteca Central Zila Mamede</td>\n",
       "      <td>REGULAR</td>\n",
       "      <td>675.0</td>\n",
       "      <td>Ciências aplicadas</td>\n",
       "      <td>2020</td>\n",
       "    </tr>\n",
       "    <tr>\n",
       "      <th>2261815</th>\n",
       "      <td>2989090</td>\n",
       "      <td>2013106838</td>\n",
       "      <td>NaT</td>\n",
       "      <td>2020-06-09 11:54:02.852</td>\n",
       "      <td>2021-07-21 15:33:45.000</td>\n",
       "      <td>20201014993.0</td>\n",
       "      <td>ALUNO DE PÓS-GRADUAÇÃO</td>\n",
       "      <td>1099777.0</td>\n",
       "      <td>Acervo Circulante</td>\n",
       "      <td>Biblioteca Central Zila Mamede</td>\n",
       "      <td>REGULAR</td>\n",
       "      <td>14.0</td>\n",
       "      <td>Filosofia e psicologia</td>\n",
       "      <td>2020</td>\n",
       "    </tr>\n",
       "  </tbody>\n",
       "</table>\n",
       "<p>2072558 rows × 14 columns</p>\n",
       "</div>"
      ],
      "text/plain": [
       "         id_emprestimo codigo_barras          data_renovacao  \\\n",
       "0               709684       L095049                     NaT   \n",
       "1               709685       L167050                     NaT   \n",
       "2               709686    2006017618 2010-01-26 08:07:01.738   \n",
       "3               709687       L184117 2010-01-18 11:07:46.470   \n",
       "4               709684       L095049                     NaT   \n",
       "...                ...           ...                     ...   \n",
       "2261811        2989086    2008047044                     NaT   \n",
       "2261812        2989087    2008047047                     NaT   \n",
       "2261813        2989088    2010052905                     NaT   \n",
       "2261814        2989089    2010048023                     NaT   \n",
       "2261815        2989090    2013106838                     NaT   \n",
       "\n",
       "                data_emprestimo          data_devolucao matricula_ou_siape  \\\n",
       "0       2010-01-04 07:44:10.721 2010-01-05 16:26:12.662       2008023265.0   \n",
       "1       2010-01-04 07:44:10.750 2010-01-12 07:34:13.934       2008023265.0   \n",
       "2       2010-01-04 08:08:44.081 2010-02-25 07:36:25.800       2008112114.0   \n",
       "3       2010-01-04 08:24:21.284 2010-02-03 08:58:45.692        200721119.0   \n",
       "4       2010-01-04 07:44:10.721 2010-01-05 16:26:12.662       2008023265.0   \n",
       "...                         ...                     ...                ...   \n",
       "2261811 2020-05-05 19:51:06.059 2021-05-13 14:53:31.000          3067431.0   \n",
       "2261812 2020-05-05 19:51:06.135 2021-05-13 14:53:38.000          3067431.0   \n",
       "2261813 2020-05-05 19:51:06.164 2021-05-13 15:01:46.000          3067431.0   \n",
       "2261814 2020-06-09 11:54:02.669 2021-07-21 15:33:55.000      20201014993.0   \n",
       "2261815 2020-06-09 11:54:02.852 2021-07-21 15:33:45.000      20201014993.0   \n",
       "\n",
       "                    tipo_vinculo_usuario  id_exemplar            colecao  \\\n",
       "0                     ALUNO DE GRADUAÇÃO      13259.0  Acervo Circulante   \n",
       "1                     ALUNO DE GRADUAÇÃO      70865.0  Acervo Circulante   \n",
       "2                 ALUNO DE PÓS-GRADUAÇÃO     195347.0  Acervo Circulante   \n",
       "3                     ALUNO DE GRADUAÇÃO     131639.0  Acervo Circulante   \n",
       "4                     ALUNO DE GRADUAÇÃO      13259.0  Acervo Circulante   \n",
       "...                                  ...          ...                ...   \n",
       "2261811  SERVIDOR TÉCNICO-ADMINISTRATIVO     256297.0  Acervo Circulante   \n",
       "2261812  SERVIDOR TÉCNICO-ADMINISTRATIVO     256406.0  Acervo Circulante   \n",
       "2261813  SERVIDOR TÉCNICO-ADMINISTRATIVO     807821.0  Acervo Circulante   \n",
       "2261814           ALUNO DE PÓS-GRADUAÇÃO     804885.0  Acervo Circulante   \n",
       "2261815           ALUNO DE PÓS-GRADUAÇÃO    1099777.0  Acervo Circulante   \n",
       "\n",
       "                                                biblioteca status_material  \\\n",
       "0                           Biblioteca Central Zila Mamede         REGULAR   \n",
       "1                           Biblioteca Central Zila Mamede         REGULAR   \n",
       "2        Biblioteca Setorial Prof. Rodolfo Helinski - E...         REGULAR   \n",
       "3                           Biblioteca Central Zila Mamede         REGULAR   \n",
       "4                           Biblioteca Central Zila Mamede         REGULAR   \n",
       "...                                                    ...             ...   \n",
       "2261811  Biblioteca Setorial da Faculdade de Ciências d...         REGULAR   \n",
       "2261812  Biblioteca Setorial da Faculdade de Ciências d...         REGULAR   \n",
       "2261813  Biblioteca Setorial da Faculdade de Ciências d...         REGULAR   \n",
       "2261814                     Biblioteca Central Zila Mamede         REGULAR   \n",
       "2261815                     Biblioteca Central Zila Mamede         REGULAR   \n",
       "\n",
       "         localizacao           Classificação  Ano_emprestimo  \n",
       "0              630.0      Ciências aplicadas            2010  \n",
       "1              647.0      Ciências aplicadas            2010  \n",
       "2              640.0      Ciências aplicadas            2010  \n",
       "3              609.0      Ciências aplicadas            2010  \n",
       "4              630.0      Ciências aplicadas            2010  \n",
       "...              ...                     ...             ...  \n",
       "2261811        684.0      Ciências aplicadas            2020  \n",
       "2261812        628.0      Ciências aplicadas            2020  \n",
       "2261813        653.0      Ciências aplicadas            2020  \n",
       "2261814        675.0      Ciências aplicadas            2020  \n",
       "2261815         14.0  Filosofia e psicologia            2020  \n",
       "\n",
       "[2072558 rows x 14 columns]"
      ]
     },
     "execution_count": 142,
     "metadata": {},
     "output_type": "execute_result"
    }
   ],
   "source": [
    "df_limpo['Ano_emprestimo'] = df_limpo['data_emprestimo'].dt.year\n",
    "df_limpo"
   ]
  },
  {
   "cell_type": "code",
   "execution_count": 143,
   "id": "8a8074d4",
   "metadata": {},
   "outputs": [],
   "source": [
    "emprestimos_ano = df_limpo.groupby('Ano_emprestimo')['id_emprestimo'].count().reset_index()\n",
    "emprestimos_ano = pd.DataFrame(emprestimos_ano)"
   ]
  },
  {
   "cell_type": "code",
   "execution_count": 144,
   "id": "376f7cd4",
   "metadata": {},
   "outputs": [
    {
     "data": {
      "text/plain": [
       "pandas.core.frame.DataFrame"
      ]
     },
     "execution_count": 144,
     "metadata": {},
     "output_type": "execute_result"
    }
   ],
   "source": [
    "type(emprestimos_ano)"
   ]
  },
  {
   "cell_type": "code",
   "execution_count": 145,
   "id": "d028aa67",
   "metadata": {},
   "outputs": [],
   "source": [
    "emprestimos_ano.rename(columns={'Ano_emprestimo':'Ano', 'id_emprestimo':'Quantidade'}, inplace=True)"
   ]
  },
  {
   "cell_type": "code",
   "execution_count": 146,
   "id": "4c3237fe",
   "metadata": {},
   "outputs": [
    {
     "data": {
      "application/vnd.microsoft.datawrangler.viewer.v0+json": {
       "columns": [
        {
         "name": "index",
         "rawType": "int64",
         "type": "integer"
        },
        {
         "name": "Ano",
         "rawType": "int32",
         "type": "integer"
        },
        {
         "name": "Quantidade",
         "rawType": "int64",
         "type": "integer"
        }
       ],
       "ref": "c61ce197-7ad0-4d15-ac62-757a6cd0030d",
       "rows": [
        [
         "0",
         "2010",
         "161412"
        ],
        [
         "1",
         "2011",
         "196390"
        ],
        [
         "2",
         "2012",
         "221365"
        ],
        [
         "3",
         "2013",
         "234749"
        ],
        [
         "4",
         "2014",
         "219189"
        ],
        [
         "5",
         "2015",
         "213582"
        ],
        [
         "6",
         "2016",
         "215918"
        ],
        [
         "7",
         "2017",
         "218462"
        ],
        [
         "8",
         "2018",
         "194080"
        ],
        [
         "9",
         "2019",
         "171801"
        ],
        [
         "10",
         "2020",
         "25610"
        ]
       ],
       "shape": {
        "columns": 2,
        "rows": 11
       }
      },
      "text/html": [
       "<div>\n",
       "<style scoped>\n",
       "    .dataframe tbody tr th:only-of-type {\n",
       "        vertical-align: middle;\n",
       "    }\n",
       "\n",
       "    .dataframe tbody tr th {\n",
       "        vertical-align: top;\n",
       "    }\n",
       "\n",
       "    .dataframe thead th {\n",
       "        text-align: right;\n",
       "    }\n",
       "</style>\n",
       "<table border=\"1\" class=\"dataframe\">\n",
       "  <thead>\n",
       "    <tr style=\"text-align: right;\">\n",
       "      <th></th>\n",
       "      <th>Ano</th>\n",
       "      <th>Quantidade</th>\n",
       "    </tr>\n",
       "  </thead>\n",
       "  <tbody>\n",
       "    <tr>\n",
       "      <th>0</th>\n",
       "      <td>2010</td>\n",
       "      <td>161412</td>\n",
       "    </tr>\n",
       "    <tr>\n",
       "      <th>1</th>\n",
       "      <td>2011</td>\n",
       "      <td>196390</td>\n",
       "    </tr>\n",
       "    <tr>\n",
       "      <th>2</th>\n",
       "      <td>2012</td>\n",
       "      <td>221365</td>\n",
       "    </tr>\n",
       "    <tr>\n",
       "      <th>3</th>\n",
       "      <td>2013</td>\n",
       "      <td>234749</td>\n",
       "    </tr>\n",
       "    <tr>\n",
       "      <th>4</th>\n",
       "      <td>2014</td>\n",
       "      <td>219189</td>\n",
       "    </tr>\n",
       "    <tr>\n",
       "      <th>5</th>\n",
       "      <td>2015</td>\n",
       "      <td>213582</td>\n",
       "    </tr>\n",
       "    <tr>\n",
       "      <th>6</th>\n",
       "      <td>2016</td>\n",
       "      <td>215918</td>\n",
       "    </tr>\n",
       "    <tr>\n",
       "      <th>7</th>\n",
       "      <td>2017</td>\n",
       "      <td>218462</td>\n",
       "    </tr>\n",
       "    <tr>\n",
       "      <th>8</th>\n",
       "      <td>2018</td>\n",
       "      <td>194080</td>\n",
       "    </tr>\n",
       "    <tr>\n",
       "      <th>9</th>\n",
       "      <td>2019</td>\n",
       "      <td>171801</td>\n",
       "    </tr>\n",
       "    <tr>\n",
       "      <th>10</th>\n",
       "      <td>2020</td>\n",
       "      <td>25610</td>\n",
       "    </tr>\n",
       "  </tbody>\n",
       "</table>\n",
       "</div>"
      ],
      "text/plain": [
       "     Ano  Quantidade\n",
       "0   2010      161412\n",
       "1   2011      196390\n",
       "2   2012      221365\n",
       "3   2013      234749\n",
       "4   2014      219189\n",
       "5   2015      213582\n",
       "6   2016      215918\n",
       "7   2017      218462\n",
       "8   2018      194080\n",
       "9   2019      171801\n",
       "10  2020       25610"
      ]
     },
     "execution_count": 146,
     "metadata": {},
     "output_type": "execute_result"
    }
   ],
   "source": [
    "emprestimos_ano"
   ]
  },
  {
   "cell_type": "markdown",
   "id": "ed1e825b",
   "metadata": {},
   "source": [
    "Importando a biblioteca plotly que será utilizada"
   ]
  },
  {
   "cell_type": "code",
   "execution_count": 147,
   "id": "0a5ed7c1",
   "metadata": {},
   "outputs": [],
   "source": [
    "import plotly.express as px"
   ]
  },
  {
   "cell_type": "code",
   "execution_count": 148,
   "id": "68d0544d",
   "metadata": {},
   "outputs": [
    {
     "data": {
      "application/vnd.plotly.v1+json": {
       "config": {
        "plotlyServerURL": "https://plot.ly"
       },
       "data": [
        {
         "hovertemplate": "Ano=%{x}<br>Quantidade=%{y}<extra></extra>",
         "legendgroup": "",
         "line": {
          "color": "#636efa",
          "dash": "solid"
         },
         "marker": {
          "symbol": "circle"
         },
         "mode": "lines",
         "name": "",
         "orientation": "v",
         "showlegend": false,
         "type": "scatter",
         "x": [
          2010,
          2011,
          2012,
          2013,
          2014,
          2015,
          2016,
          2017,
          2018,
          2019,
          2020
         ],
         "xaxis": "x",
         "y": [
          161412,
          196390,
          221365,
          234749,
          219189,
          213582,
          215918,
          218462,
          194080,
          171801,
          25610
         ],
         "yaxis": "y"
        }
       ],
       "layout": {
        "legend": {
         "tracegroupgap": 0
        },
        "template": {
         "data": {
          "bar": [
           {
            "error_x": {
             "color": "#2a3f5f"
            },
            "error_y": {
             "color": "#2a3f5f"
            },
            "marker": {
             "line": {
              "color": "#E5ECF6",
              "width": 0.5
             },
             "pattern": {
              "fillmode": "overlay",
              "size": 10,
              "solidity": 0.2
             }
            },
            "type": "bar"
           }
          ],
          "barpolar": [
           {
            "marker": {
             "line": {
              "color": "#E5ECF6",
              "width": 0.5
             },
             "pattern": {
              "fillmode": "overlay",
              "size": 10,
              "solidity": 0.2
             }
            },
            "type": "barpolar"
           }
          ],
          "carpet": [
           {
            "aaxis": {
             "endlinecolor": "#2a3f5f",
             "gridcolor": "white",
             "linecolor": "white",
             "minorgridcolor": "white",
             "startlinecolor": "#2a3f5f"
            },
            "baxis": {
             "endlinecolor": "#2a3f5f",
             "gridcolor": "white",
             "linecolor": "white",
             "minorgridcolor": "white",
             "startlinecolor": "#2a3f5f"
            },
            "type": "carpet"
           }
          ],
          "choropleth": [
           {
            "colorbar": {
             "outlinewidth": 0,
             "ticks": ""
            },
            "type": "choropleth"
           }
          ],
          "contour": [
           {
            "colorbar": {
             "outlinewidth": 0,
             "ticks": ""
            },
            "colorscale": [
             [
              0,
              "#0d0887"
             ],
             [
              0.1111111111111111,
              "#46039f"
             ],
             [
              0.2222222222222222,
              "#7201a8"
             ],
             [
              0.3333333333333333,
              "#9c179e"
             ],
             [
              0.4444444444444444,
              "#bd3786"
             ],
             [
              0.5555555555555556,
              "#d8576b"
             ],
             [
              0.6666666666666666,
              "#ed7953"
             ],
             [
              0.7777777777777778,
              "#fb9f3a"
             ],
             [
              0.8888888888888888,
              "#fdca26"
             ],
             [
              1,
              "#f0f921"
             ]
            ],
            "type": "contour"
           }
          ],
          "contourcarpet": [
           {
            "colorbar": {
             "outlinewidth": 0,
             "ticks": ""
            },
            "type": "contourcarpet"
           }
          ],
          "heatmap": [
           {
            "colorbar": {
             "outlinewidth": 0,
             "ticks": ""
            },
            "colorscale": [
             [
              0,
              "#0d0887"
             ],
             [
              0.1111111111111111,
              "#46039f"
             ],
             [
              0.2222222222222222,
              "#7201a8"
             ],
             [
              0.3333333333333333,
              "#9c179e"
             ],
             [
              0.4444444444444444,
              "#bd3786"
             ],
             [
              0.5555555555555556,
              "#d8576b"
             ],
             [
              0.6666666666666666,
              "#ed7953"
             ],
             [
              0.7777777777777778,
              "#fb9f3a"
             ],
             [
              0.8888888888888888,
              "#fdca26"
             ],
             [
              1,
              "#f0f921"
             ]
            ],
            "type": "heatmap"
           }
          ],
          "heatmapgl": [
           {
            "colorbar": {
             "outlinewidth": 0,
             "ticks": ""
            },
            "colorscale": [
             [
              0,
              "#0d0887"
             ],
             [
              0.1111111111111111,
              "#46039f"
             ],
             [
              0.2222222222222222,
              "#7201a8"
             ],
             [
              0.3333333333333333,
              "#9c179e"
             ],
             [
              0.4444444444444444,
              "#bd3786"
             ],
             [
              0.5555555555555556,
              "#d8576b"
             ],
             [
              0.6666666666666666,
              "#ed7953"
             ],
             [
              0.7777777777777778,
              "#fb9f3a"
             ],
             [
              0.8888888888888888,
              "#fdca26"
             ],
             [
              1,
              "#f0f921"
             ]
            ],
            "type": "heatmapgl"
           }
          ],
          "histogram": [
           {
            "marker": {
             "pattern": {
              "fillmode": "overlay",
              "size": 10,
              "solidity": 0.2
             }
            },
            "type": "histogram"
           }
          ],
          "histogram2d": [
           {
            "colorbar": {
             "outlinewidth": 0,
             "ticks": ""
            },
            "colorscale": [
             [
              0,
              "#0d0887"
             ],
             [
              0.1111111111111111,
              "#46039f"
             ],
             [
              0.2222222222222222,
              "#7201a8"
             ],
             [
              0.3333333333333333,
              "#9c179e"
             ],
             [
              0.4444444444444444,
              "#bd3786"
             ],
             [
              0.5555555555555556,
              "#d8576b"
             ],
             [
              0.6666666666666666,
              "#ed7953"
             ],
             [
              0.7777777777777778,
              "#fb9f3a"
             ],
             [
              0.8888888888888888,
              "#fdca26"
             ],
             [
              1,
              "#f0f921"
             ]
            ],
            "type": "histogram2d"
           }
          ],
          "histogram2dcontour": [
           {
            "colorbar": {
             "outlinewidth": 0,
             "ticks": ""
            },
            "colorscale": [
             [
              0,
              "#0d0887"
             ],
             [
              0.1111111111111111,
              "#46039f"
             ],
             [
              0.2222222222222222,
              "#7201a8"
             ],
             [
              0.3333333333333333,
              "#9c179e"
             ],
             [
              0.4444444444444444,
              "#bd3786"
             ],
             [
              0.5555555555555556,
              "#d8576b"
             ],
             [
              0.6666666666666666,
              "#ed7953"
             ],
             [
              0.7777777777777778,
              "#fb9f3a"
             ],
             [
              0.8888888888888888,
              "#fdca26"
             ],
             [
              1,
              "#f0f921"
             ]
            ],
            "type": "histogram2dcontour"
           }
          ],
          "mesh3d": [
           {
            "colorbar": {
             "outlinewidth": 0,
             "ticks": ""
            },
            "type": "mesh3d"
           }
          ],
          "parcoords": [
           {
            "line": {
             "colorbar": {
              "outlinewidth": 0,
              "ticks": ""
             }
            },
            "type": "parcoords"
           }
          ],
          "pie": [
           {
            "automargin": true,
            "type": "pie"
           }
          ],
          "scatter": [
           {
            "fillpattern": {
             "fillmode": "overlay",
             "size": 10,
             "solidity": 0.2
            },
            "type": "scatter"
           }
          ],
          "scatter3d": [
           {
            "line": {
             "colorbar": {
              "outlinewidth": 0,
              "ticks": ""
             }
            },
            "marker": {
             "colorbar": {
              "outlinewidth": 0,
              "ticks": ""
             }
            },
            "type": "scatter3d"
           }
          ],
          "scattercarpet": [
           {
            "marker": {
             "colorbar": {
              "outlinewidth": 0,
              "ticks": ""
             }
            },
            "type": "scattercarpet"
           }
          ],
          "scattergeo": [
           {
            "marker": {
             "colorbar": {
              "outlinewidth": 0,
              "ticks": ""
             }
            },
            "type": "scattergeo"
           }
          ],
          "scattergl": [
           {
            "marker": {
             "colorbar": {
              "outlinewidth": 0,
              "ticks": ""
             }
            },
            "type": "scattergl"
           }
          ],
          "scattermapbox": [
           {
            "marker": {
             "colorbar": {
              "outlinewidth": 0,
              "ticks": ""
             }
            },
            "type": "scattermapbox"
           }
          ],
          "scatterpolar": [
           {
            "marker": {
             "colorbar": {
              "outlinewidth": 0,
              "ticks": ""
             }
            },
            "type": "scatterpolar"
           }
          ],
          "scatterpolargl": [
           {
            "marker": {
             "colorbar": {
              "outlinewidth": 0,
              "ticks": ""
             }
            },
            "type": "scatterpolargl"
           }
          ],
          "scatterternary": [
           {
            "marker": {
             "colorbar": {
              "outlinewidth": 0,
              "ticks": ""
             }
            },
            "type": "scatterternary"
           }
          ],
          "surface": [
           {
            "colorbar": {
             "outlinewidth": 0,
             "ticks": ""
            },
            "colorscale": [
             [
              0,
              "#0d0887"
             ],
             [
              0.1111111111111111,
              "#46039f"
             ],
             [
              0.2222222222222222,
              "#7201a8"
             ],
             [
              0.3333333333333333,
              "#9c179e"
             ],
             [
              0.4444444444444444,
              "#bd3786"
             ],
             [
              0.5555555555555556,
              "#d8576b"
             ],
             [
              0.6666666666666666,
              "#ed7953"
             ],
             [
              0.7777777777777778,
              "#fb9f3a"
             ],
             [
              0.8888888888888888,
              "#fdca26"
             ],
             [
              1,
              "#f0f921"
             ]
            ],
            "type": "surface"
           }
          ],
          "table": [
           {
            "cells": {
             "fill": {
              "color": "#EBF0F8"
             },
             "line": {
              "color": "white"
             }
            },
            "header": {
             "fill": {
              "color": "#C8D4E3"
             },
             "line": {
              "color": "white"
             }
            },
            "type": "table"
           }
          ]
         },
         "layout": {
          "annotationdefaults": {
           "arrowcolor": "#2a3f5f",
           "arrowhead": 0,
           "arrowwidth": 1
          },
          "autotypenumbers": "strict",
          "coloraxis": {
           "colorbar": {
            "outlinewidth": 0,
            "ticks": ""
           }
          },
          "colorscale": {
           "diverging": [
            [
             0,
             "#8e0152"
            ],
            [
             0.1,
             "#c51b7d"
            ],
            [
             0.2,
             "#de77ae"
            ],
            [
             0.3,
             "#f1b6da"
            ],
            [
             0.4,
             "#fde0ef"
            ],
            [
             0.5,
             "#f7f7f7"
            ],
            [
             0.6,
             "#e6f5d0"
            ],
            [
             0.7,
             "#b8e186"
            ],
            [
             0.8,
             "#7fbc41"
            ],
            [
             0.9,
             "#4d9221"
            ],
            [
             1,
             "#276419"
            ]
           ],
           "sequential": [
            [
             0,
             "#0d0887"
            ],
            [
             0.1111111111111111,
             "#46039f"
            ],
            [
             0.2222222222222222,
             "#7201a8"
            ],
            [
             0.3333333333333333,
             "#9c179e"
            ],
            [
             0.4444444444444444,
             "#bd3786"
            ],
            [
             0.5555555555555556,
             "#d8576b"
            ],
            [
             0.6666666666666666,
             "#ed7953"
            ],
            [
             0.7777777777777778,
             "#fb9f3a"
            ],
            [
             0.8888888888888888,
             "#fdca26"
            ],
            [
             1,
             "#f0f921"
            ]
           ],
           "sequentialminus": [
            [
             0,
             "#0d0887"
            ],
            [
             0.1111111111111111,
             "#46039f"
            ],
            [
             0.2222222222222222,
             "#7201a8"
            ],
            [
             0.3333333333333333,
             "#9c179e"
            ],
            [
             0.4444444444444444,
             "#bd3786"
            ],
            [
             0.5555555555555556,
             "#d8576b"
            ],
            [
             0.6666666666666666,
             "#ed7953"
            ],
            [
             0.7777777777777778,
             "#fb9f3a"
            ],
            [
             0.8888888888888888,
             "#fdca26"
            ],
            [
             1,
             "#f0f921"
            ]
           ]
          },
          "colorway": [
           "#636efa",
           "#EF553B",
           "#00cc96",
           "#ab63fa",
           "#FFA15A",
           "#19d3f3",
           "#FF6692",
           "#B6E880",
           "#FF97FF",
           "#FECB52"
          ],
          "font": {
           "color": "#2a3f5f"
          },
          "geo": {
           "bgcolor": "white",
           "lakecolor": "white",
           "landcolor": "#E5ECF6",
           "showlakes": true,
           "showland": true,
           "subunitcolor": "white"
          },
          "hoverlabel": {
           "align": "left"
          },
          "hovermode": "closest",
          "mapbox": {
           "style": "light"
          },
          "paper_bgcolor": "white",
          "plot_bgcolor": "#E5ECF6",
          "polar": {
           "angularaxis": {
            "gridcolor": "white",
            "linecolor": "white",
            "ticks": ""
           },
           "bgcolor": "#E5ECF6",
           "radialaxis": {
            "gridcolor": "white",
            "linecolor": "white",
            "ticks": ""
           }
          },
          "scene": {
           "xaxis": {
            "backgroundcolor": "#E5ECF6",
            "gridcolor": "white",
            "gridwidth": 2,
            "linecolor": "white",
            "showbackground": true,
            "ticks": "",
            "zerolinecolor": "white"
           },
           "yaxis": {
            "backgroundcolor": "#E5ECF6",
            "gridcolor": "white",
            "gridwidth": 2,
            "linecolor": "white",
            "showbackground": true,
            "ticks": "",
            "zerolinecolor": "white"
           },
           "zaxis": {
            "backgroundcolor": "#E5ECF6",
            "gridcolor": "white",
            "gridwidth": 2,
            "linecolor": "white",
            "showbackground": true,
            "ticks": "",
            "zerolinecolor": "white"
           }
          },
          "shapedefaults": {
           "line": {
            "color": "#2a3f5f"
           }
          },
          "ternary": {
           "aaxis": {
            "gridcolor": "white",
            "linecolor": "white",
            "ticks": ""
           },
           "baxis": {
            "gridcolor": "white",
            "linecolor": "white",
            "ticks": ""
           },
           "bgcolor": "#E5ECF6",
           "caxis": {
            "gridcolor": "white",
            "linecolor": "white",
            "ticks": ""
           }
          },
          "title": {
           "x": 0.05
          },
          "xaxis": {
           "automargin": true,
           "gridcolor": "white",
           "linecolor": "white",
           "ticks": "",
           "title": {
            "standoff": 15
           },
           "zerolinecolor": "white",
           "zerolinewidth": 2
          },
          "yaxis": {
           "automargin": true,
           "gridcolor": "white",
           "linecolor": "white",
           "ticks": "",
           "title": {
            "standoff": 15
           },
           "zerolinecolor": "white",
           "zerolinewidth": 2
          }
         }
        },
        "title": {
         "text": "Quantidade de emprestimo ao ano | 2012-2020"
        },
        "xaxis": {
         "anchor": "y",
         "domain": [
          0,
          1
         ],
         "title": {
          "text": "Ano"
         }
        },
        "yaxis": {
         "anchor": "x",
         "domain": [
          0,
          1
         ],
         "title": {
          "text": "Quantidade"
         }
        }
       }
      }
     },
     "metadata": {},
     "output_type": "display_data"
    }
   ],
   "source": [
    "grafico = px.line(emprestimos_ano, x='Ano', y='Quantidade', title='Quantidade de emprestimo ao ano | 2012-2020')\n",
    "\n",
    "grafico.show()"
   ]
  },
  {
   "cell_type": "markdown",
   "id": "fdbb0bc6",
   "metadata": {},
   "source": [
    "Análise\n",
    "\n",
    "De 2013 para cá vem caindo a quantidade de empréstimos realizados, resalto que o ano de 2020 deve ser desconsiderado pois ainda não está completo.\n",
    "\n",
    "Pode ser análisado o que ouve entre 2010 e 2013 que a quantidade de emprestimos sempre esteve em alta, quais ações foram feitas?\n",
    "\n",
    "Cabe analisar se a quantidade de alunos tem diminuido."
   ]
  },
  {
   "cell_type": "markdown",
   "id": "4be5e7c8",
   "metadata": {},
   "source": [
    "### Programação de férias\n",
    "\n",
    "Qual seria a melhor forma de gerenciar a programação de férias dos colaboradores de acordo com os meses de menor demanda?"
   ]
  },
  {
   "cell_type": "code",
   "execution_count": 149,
   "id": "ad5543d6",
   "metadata": {},
   "outputs": [],
   "source": [
    "#Criar a variável de meses de emprestomo\n",
    "df_limpo['Mes_emprestimo_ext'] = df_limpo['data_emprestimo'].dt.month\n",
    "df_limpo['Mes_emprestimo'] = df_limpo['data_emprestimo'].dt.month"
   ]
  },
  {
   "cell_type": "code",
   "execution_count": 150,
   "id": "a2ebe961",
   "metadata": {},
   "outputs": [
    {
     "data": {
      "application/vnd.microsoft.datawrangler.viewer.v0+json": {
       "columns": [
        {
         "name": "index",
         "rawType": "int64",
         "type": "integer"
        },
        {
         "name": "id_emprestimo",
         "rawType": "int64",
         "type": "integer"
        },
        {
         "name": "codigo_barras",
         "rawType": "object",
         "type": "string"
        },
        {
         "name": "data_renovacao",
         "rawType": "datetime64[ns]",
         "type": "datetime"
        },
        {
         "name": "data_emprestimo",
         "rawType": "datetime64[ns]",
         "type": "datetime"
        },
        {
         "name": "data_devolucao",
         "rawType": "datetime64[ns]",
         "type": "datetime"
        },
        {
         "name": "matricula_ou_siape",
         "rawType": "object",
         "type": "string"
        },
        {
         "name": "tipo_vinculo_usuario",
         "rawType": "object",
         "type": "string"
        },
        {
         "name": "id_exemplar",
         "rawType": "float64",
         "type": "float"
        },
        {
         "name": "colecao",
         "rawType": "object",
         "type": "string"
        },
        {
         "name": "biblioteca",
         "rawType": "object",
         "type": "string"
        },
        {
         "name": "status_material",
         "rawType": "object",
         "type": "string"
        },
        {
         "name": "localizacao",
         "rawType": "float64",
         "type": "float"
        },
        {
         "name": "Classificação",
         "rawType": "object",
         "type": "string"
        },
        {
         "name": "Ano_emprestimo",
         "rawType": "int32",
         "type": "integer"
        },
        {
         "name": "Mes_emprestimo_ext",
         "rawType": "int32",
         "type": "integer"
        },
        {
         "name": "Mes_emprestimo",
         "rawType": "int32",
         "type": "integer"
        }
       ],
       "ref": "1255b622-edc9-4eb4-96a4-7842a8cb07d9",
       "rows": [
        [
         "0",
         "709684",
         "L095049",
         null,
         "2010-01-04 07:44:10.721000",
         "2010-01-05 16:26:12.662000",
         "2008023265.0",
         "ALUNO DE GRADUAÇÃO",
         "13259.0",
         "Acervo Circulante",
         "Biblioteca Central Zila Mamede",
         "REGULAR",
         "630.0",
         "Ciências aplicadas",
         "2010",
         "1",
         "1"
        ],
        [
         "1",
         "709685",
         "L167050",
         null,
         "2010-01-04 07:44:10.750000",
         "2010-01-12 07:34:13.934000",
         "2008023265.0",
         "ALUNO DE GRADUAÇÃO",
         "70865.0",
         "Acervo Circulante",
         "Biblioteca Central Zila Mamede",
         "REGULAR",
         "647.0",
         "Ciências aplicadas",
         "2010",
         "1",
         "1"
        ],
        [
         "2",
         "709686",
         "2006017618",
         "2010-01-26 08:07:01.738000",
         "2010-01-04 08:08:44.081000",
         "2010-02-25 07:36:25.800000",
         "2008112114.0",
         "ALUNO DE PÓS-GRADUAÇÃO",
         "195347.0",
         "Acervo Circulante",
         "Biblioteca Setorial Prof. Rodolfo Helinski - Escola Agrícola de Jundiaí - EAJ  - Macaiba",
         "REGULAR",
         "640.0",
         "Ciências aplicadas",
         "2010",
         "1",
         "1"
        ],
        [
         "3",
         "709687",
         "L184117",
         "2010-01-18 11:07:46.470000",
         "2010-01-04 08:24:21.284000",
         "2010-02-03 08:58:45.692000",
         "200721119.0",
         "ALUNO DE GRADUAÇÃO",
         "131639.0",
         "Acervo Circulante",
         "Biblioteca Central Zila Mamede",
         "REGULAR",
         "609.0",
         "Ciências aplicadas",
         "2010",
         "1",
         "1"
        ],
        [
         "4",
         "709684",
         "L095049",
         null,
         "2010-01-04 07:44:10.721000",
         "2010-01-05 16:26:12.662000",
         "2008023265.0",
         "ALUNO DE GRADUAÇÃO",
         "13259.0",
         "Acervo Circulante",
         "Biblioteca Central Zila Mamede",
         "REGULAR",
         "630.0",
         "Ciências aplicadas",
         "2010",
         "1",
         "1"
        ],
        [
         "5",
         "709685",
         "L167050",
         null,
         "2010-01-04 07:44:10.750000",
         "2010-01-12 07:34:13.934000",
         "2008023265.0",
         "ALUNO DE GRADUAÇÃO",
         "70865.0",
         "Acervo Circulante",
         "Biblioteca Central Zila Mamede",
         "REGULAR",
         "647.0",
         "Ciências aplicadas",
         "2010",
         "1",
         "1"
        ],
        [
         "6",
         "709686",
         "2006017618",
         "2010-01-26 08:07:01.738000",
         "2010-01-04 08:08:44.081000",
         "2010-02-25 07:36:25.800000",
         "2008112114.0",
         "ALUNO DE PÓS-GRADUAÇÃO",
         "195347.0",
         "Acervo Circulante",
         "Biblioteca Setorial Prof. Rodolfo Helinski - Escola Agrícola de Jundiaí - EAJ  - Macaiba",
         "REGULAR",
         "640.0",
         "Ciências aplicadas",
         "2010",
         "1",
         "1"
        ],
        [
         "7",
         "709687",
         "L184117",
         "2010-01-18 11:07:46.470000",
         "2010-01-04 08:24:21.284000",
         "2010-02-03 08:58:45.692000",
         "200721119.0",
         "ALUNO DE GRADUAÇÃO",
         "131639.0",
         "Acervo Circulante",
         "Biblioteca Central Zila Mamede",
         "REGULAR",
         "609.0",
         "Ciências aplicadas",
         "2010",
         "1",
         "1"
        ],
        [
         "8",
         "709688",
         "2007027500",
         "2010-01-19 15:59:26.464000",
         "2010-01-04 08:27:33.569000",
         "2010-02-03 13:06:30.662000",
         "2009045971.0",
         "ALUNO DE GRADUAÇÃO",
         "225646.0",
         "Acervo Circulante",
         "Biblioteca Central Zila Mamede",
         "REGULAR",
         "686.0",
         "Ciências aplicadas",
         "2010",
         "1",
         "1"
        ],
        [
         "9",
         "709689",
         "L157395",
         "2010-01-19 15:59:26.447000",
         "2010-01-04 08:27:33.596000",
         "2010-02-03 13:06:43.125000",
         "2009045971.0",
         "ALUNO DE GRADUAÇÃO",
         "57040.0",
         "Acervo Circulante",
         "Biblioteca Central Zila Mamede",
         "REGULAR",
         "698.0",
         "Ciências aplicadas",
         "2010",
         "1",
         "1"
        ],
        [
         "10",
         "709690",
         "2007019312",
         null,
         "2010-01-04 08:49:57.857000",
         "2010-01-13 09:58:25.443000",
         "200701444.0",
         "ALUNO DE GRADUAÇÃO",
         "225786.0",
         "Acervo Circulante",
         "Biblioteca Central Zila Mamede",
         "REGULAR",
         "698.0",
         "Ciências aplicadas",
         "2010",
         "1",
         "1"
        ],
        [
         "11",
         "709691",
         "2008046357",
         "2010-01-19 11:50:13.404000",
         "2010-01-04 09:02:30.576000",
         "2010-02-02 12:13:36.132000",
         "200507453.0",
         "ALUNO DE GRADUAÇÃO",
         "256537.0",
         "Acervo Circulante",
         "Biblioteca Setorial Bertha Cruz Enders - ­Escola de Saúde da UFRN - ESUFRN",
         "REGULAR",
         "645.0",
         "Ciências aplicadas",
         "2010",
         "1",
         "1"
        ],
        [
         "12",
         "709692",
         "L187962",
         null,
         "2010-01-04 09:07:06.131000",
         "2010-06-22 18:55:04",
         "200404369.0",
         "ALUNO DE GRADUAÇÃO",
         "143654.0",
         "Acervo Circulante",
         "Biblioteca Central Zila Mamede",
         "REGULAR",
         "658.0",
         "Ciências aplicadas",
         "2010",
         "1",
         "1"
        ],
        [
         "13",
         "709693",
         "L192776",
         null,
         "2010-01-04 09:07:06.159000",
         "2010-06-22 18:54:46",
         "200404369.0",
         "ALUNO DE GRADUAÇÃO",
         "159348.0",
         "Acervo Circulante",
         "Biblioteca Central Zila Mamede",
         "REGULAR",
         "697.0",
         "Ciências aplicadas",
         "2010",
         "1",
         "1"
        ],
        [
         "14",
         "709694",
         "L202783",
         null,
         "2010-01-04 09:09:38.329000",
         "2010-02-03 13:00:49.746000",
         "198420637.0",
         "DOCENTE",
         "274136.0",
         "Acervo Circulante",
         "Biblioteca Central Zila Mamede",
         "REGULAR",
         "643.0",
         "Ciências aplicadas",
         "2010",
         "1",
         "1"
        ],
        [
         "15",
         "709695",
         "2007035128",
         null,
         "2010-01-04 09:14:55.681000",
         "2010-01-14 10:15:08.388000",
         "2008005020.0",
         "ALUNO DE GRADUAÇÃO",
         "235887.0",
         "Acervo Circulante",
         "Biblioteca Central Zila Mamede",
         "REGULAR",
         "630.0",
         "Ciências aplicadas",
         "2010",
         "1",
         "1"
        ],
        [
         "16",
         "709696",
         "L122346",
         null,
         "2010-01-04 09:14:55.721000",
         "2010-01-14 10:15:16.041000",
         "2008005020.0",
         "ALUNO DE GRADUAÇÃO",
         "28681.0",
         "Acervo Circulante",
         "Biblioteca Central Zila Mamede",
         "REGULAR",
         "612.0",
         "Ciências aplicadas",
         "2010",
         "1",
         "1"
        ],
        [
         "17",
         "709697",
         "L048797",
         null,
         "2010-01-04 09:18:17.514000",
         "2010-01-14 10:14:59.964000",
         "2008005020.0",
         "ALUNO DE GRADUAÇÃO",
         "131863.0",
         "Acervo Circulante",
         "Biblioteca Central Zila Mamede",
         "REGULAR",
         "673.0",
         "Ciências aplicadas",
         "2010",
         "1",
         "1"
        ],
        [
         "18",
         "709698",
         "2009047725",
         "2010-01-18 14:44:41.163000",
         "2010-01-04 09:21:19.099000",
         "2010-02-02 12:02:38.444000",
         "2009046838.0",
         "ALUNO DE GRADUAÇÃO",
         "281004.0",
         "Acervo Circulante",
         "Biblioteca Setorial do Centro Ciências da Saúde - CCS",
         "REGULAR",
         "651.0",
         "Ciências aplicadas",
         "2010",
         "1",
         "1"
        ],
        [
         "19",
         "709698",
         "2009047725",
         "2010-01-18 14:44:41.163000",
         "2010-01-04 09:21:19.099000",
         "2010-02-02 12:02:38.444000",
         "2009046838.0",
         "ALUNO DE GRADUAÇÃO",
         "281004.0",
         "Acervo Circulante",
         "Biblioteca Setorial do Centro Ciências da Saúde - CCS",
         "REGULAR",
         "651.0",
         "Ciências aplicadas",
         "2010",
         "1",
         "1"
        ],
        [
         "20",
         "709698",
         "2009047725",
         "2010-01-18 14:44:41.163000",
         "2010-01-04 09:21:19.099000",
         "2010-02-02 12:02:38.444000",
         "2009046838.0",
         "ALUNO DE GRADUAÇÃO",
         "281004.0",
         "Acervo Circulante",
         "Biblioteca Setorial do Centro Ciências da Saúde - CCS",
         "REGULAR",
         "651.0",
         "Ciências aplicadas",
         "2010",
         "1",
         "1"
        ],
        [
         "21",
         "709699",
         "2009051872",
         "2010-01-18 14:44:41.144000",
         "2010-01-04 09:21:19.126000",
         "2010-02-02 12:03:35.649000",
         "2009046838.0",
         "ALUNO DE GRADUAÇÃO",
         "281880.0",
         "Acervo Circulante",
         "Biblioteca Setorial do Centro Ciências da Saúde - CCS",
         "REGULAR",
         "647.0",
         "Ciências aplicadas",
         "2010",
         "1",
         "1"
        ],
        [
         "22",
         "709700",
         "L200358",
         null,
         "2010-01-04 09:42:28.589000",
         "2010-01-04 09:42:56.820000",
         "2010078996.0",
         "ALUNO DE GRADUAÇÃO",
         "37513.0",
         "Acervo Circulante",
         "Biblioteca Central Zila Mamede",
         "REGULAR",
         "674.0",
         "Ciências aplicadas",
         "2010",
         "1",
         "1"
        ],
        [
         "24",
         "709702",
         "L200904",
         "2010-01-19 19:02:53.430000",
         "2010-01-04 09:48:05.637000",
         "2010-02-04 18:23:55.925000",
         "2008029450.0",
         "ALUNO DE GRADUAÇÃO",
         "158308.0",
         "Acervo Circulante",
         "Biblioteca Central Zila Mamede",
         "REGULAR",
         "631.0",
         "Ciências aplicadas",
         "2010",
         "1",
         "1"
        ],
        [
         "25",
         "709703",
         "2007020476",
         "2010-01-13 09:39:02.522000",
         "2010-01-04 09:56:42.325000",
         "2010-01-21 10:25:28.007000",
         "200625578.0",
         "ALUNO DE GRADUAÇÃO",
         "221707.0",
         "Acervo Circulante",
         "Biblioteca Central Zila Mamede",
         "ESPECIAL",
         "634.0",
         "Ciências aplicadas",
         "2010",
         "1",
         "1"
        ],
        [
         "26",
         "709704",
         "2006021442",
         "2010-01-17 18:56:43.923000",
         "2010-01-04 09:58:46.522000",
         "2010-02-01 13:59:02.528000",
         "2008009890.0",
         "ALUNO DE GRADUAÇÃO",
         "199419.0",
         "Acervo Circulante",
         "Biblioteca Central Zila Mamede",
         "REGULAR",
         "699.0",
         "Ciências aplicadas",
         "2010",
         "1",
         "1"
        ],
        [
         "27",
         "709705",
         "2009032168",
         "2010-01-17 18:56:43.909000",
         "2010-01-04 09:58:46.549000",
         "2010-01-20 13:14:34.464000",
         "2008009890.0",
         "ALUNO DE GRADUAÇÃO",
         "273487.0",
         "Acervo Circulante",
         "Biblioteca Central Zila Mamede",
         "REGULAR",
         "623.0",
         "Ciências aplicadas",
         "2010",
         "1",
         "1"
        ],
        [
         "28",
         "709704",
         "2006021442",
         "2010-01-17 18:56:43.923000",
         "2010-01-04 09:58:46.522000",
         "2010-02-01 13:59:02.528000",
         "2008009890.0",
         "ALUNO DE GRADUAÇÃO",
         "199419.0",
         "Acervo Circulante",
         "Biblioteca Central Zila Mamede",
         "REGULAR",
         "699.0",
         "Ciências aplicadas",
         "2010",
         "1",
         "1"
        ],
        [
         "29",
         "709705",
         "2009032168",
         "2010-01-17 18:56:43.909000",
         "2010-01-04 09:58:46.549000",
         "2010-01-20 13:14:34.464000",
         "2008009890.0",
         "ALUNO DE GRADUAÇÃO",
         "273487.0",
         "Acervo Circulante",
         "Biblioteca Central Zila Mamede",
         "REGULAR",
         "623.0",
         "Ciências aplicadas",
         "2010",
         "1",
         "1"
        ],
        [
         "30",
         "709704",
         "2006021442",
         "2010-01-17 18:56:43.923000",
         "2010-01-04 09:58:46.522000",
         "2010-02-01 13:59:02.528000",
         "2008009890.0",
         "ALUNO DE GRADUAÇÃO",
         "199419.0",
         "Acervo Circulante",
         "Biblioteca Central Zila Mamede",
         "REGULAR",
         "699.0",
         "Ciências aplicadas",
         "2010",
         "1",
         "1"
        ],
        [
         "31",
         "709705",
         "2009032168",
         "2010-01-17 18:56:43.909000",
         "2010-01-04 09:58:46.549000",
         "2010-01-20 13:14:34.464000",
         "2008009890.0",
         "ALUNO DE GRADUAÇÃO",
         "273487.0",
         "Acervo Circulante",
         "Biblioteca Central Zila Mamede",
         "REGULAR",
         "623.0",
         "Ciências aplicadas",
         "2010",
         "1",
         "1"
        ],
        [
         "32",
         "709704",
         "2006021442",
         "2010-01-17 18:56:43.923000",
         "2010-01-04 09:58:46.522000",
         "2010-02-01 13:59:02.528000",
         "2008009890.0",
         "ALUNO DE GRADUAÇÃO",
         "199419.0",
         "Acervo Circulante",
         "Biblioteca Central Zila Mamede",
         "REGULAR",
         "699.0",
         "Ciências aplicadas",
         "2010",
         "1",
         "1"
        ],
        [
         "33",
         "709705",
         "2009032168",
         "2010-01-17 18:56:43.909000",
         "2010-01-04 09:58:46.549000",
         "2010-01-20 13:14:34.464000",
         "2008009890.0",
         "ALUNO DE GRADUAÇÃO",
         "273487.0",
         "Acervo Circulante",
         "Biblioteca Central Zila Mamede",
         "REGULAR",
         "623.0",
         "Ciências aplicadas",
         "2010",
         "1",
         "1"
        ],
        [
         "34",
         "709704",
         "2006021442",
         "2010-01-17 18:56:43.923000",
         "2010-01-04 09:58:46.522000",
         "2010-02-01 13:59:02.528000",
         "2008009890.0",
         "ALUNO DE GRADUAÇÃO",
         "199419.0",
         "Acervo Circulante",
         "Biblioteca Central Zila Mamede",
         "REGULAR",
         "699.0",
         "Ciências aplicadas",
         "2010",
         "1",
         "1"
        ],
        [
         "35",
         "709705",
         "2009032168",
         "2010-01-17 18:56:43.909000",
         "2010-01-04 09:58:46.549000",
         "2010-01-20 13:14:34.464000",
         "2008009890.0",
         "ALUNO DE GRADUAÇÃO",
         "273487.0",
         "Acervo Circulante",
         "Biblioteca Central Zila Mamede",
         "REGULAR",
         "623.0",
         "Ciências aplicadas",
         "2010",
         "1",
         "1"
        ],
        [
         "36",
         "709704",
         "2006021442",
         "2010-01-17 18:56:43.923000",
         "2010-01-04 09:58:46.522000",
         "2010-02-01 13:59:02.528000",
         "2008009890.0",
         "ALUNO DE GRADUAÇÃO",
         "199419.0",
         "Acervo Circulante",
         "Biblioteca Central Zila Mamede",
         "REGULAR",
         "699.0",
         "Ciências aplicadas",
         "2010",
         "1",
         "1"
        ],
        [
         "37",
         "709705",
         "2009032168",
         "2010-01-17 18:56:43.909000",
         "2010-01-04 09:58:46.549000",
         "2010-01-20 13:14:34.464000",
         "2008009890.0",
         "ALUNO DE GRADUAÇÃO",
         "273487.0",
         "Acervo Circulante",
         "Biblioteca Central Zila Mamede",
         "REGULAR",
         "623.0",
         "Ciências aplicadas",
         "2010",
         "1",
         "1"
        ],
        [
         "38",
         "709704",
         "2006021442",
         "2010-01-17 18:56:43.923000",
         "2010-01-04 09:58:46.522000",
         "2010-02-01 13:59:02.528000",
         "2008009890.0",
         "ALUNO DE GRADUAÇÃO",
         "199419.0",
         "Acervo Circulante",
         "Biblioteca Central Zila Mamede",
         "REGULAR",
         "699.0",
         "Ciências aplicadas",
         "2010",
         "1",
         "1"
        ],
        [
         "39",
         "709705",
         "2009032168",
         "2010-01-17 18:56:43.909000",
         "2010-01-04 09:58:46.549000",
         "2010-01-20 13:14:34.464000",
         "2008009890.0",
         "ALUNO DE GRADUAÇÃO",
         "273487.0",
         "Acervo Circulante",
         "Biblioteca Central Zila Mamede",
         "REGULAR",
         "623.0",
         "Ciências aplicadas",
         "2010",
         "1",
         "1"
        ],
        [
         "40",
         "709706",
         "2009032010",
         "2010-01-17 18:56:43.869000",
         "2010-01-04 09:58:46.575000",
         "2010-02-01 13:58:46.387000",
         "2008009890.0",
         "ALUNO DE GRADUAÇÃO",
         "273783.0",
         "Acervo Circulante",
         "Biblioteca Central Zila Mamede",
         "REGULAR",
         "812.0",
         "Linguagem. Língua. Linguística",
         "2010",
         "1",
         "1"
        ],
        [
         "41",
         "709707",
         "2008000130",
         null,
         "2010-01-04 10:00:22.435000",
         "2010-01-13 10:01:45.234000",
         "200711946.0",
         "ALUNO DE GRADUAÇÃO",
         "246141.0",
         "Acervo Circulante",
         "Biblioteca Central Zila Mamede",
         "REGULAR",
         "615.0",
         "Ciências aplicadas",
         "2010",
         "1",
         "1"
        ],
        [
         "42",
         "709708",
         "L134569",
         null,
         "2010-01-04 10:00:22.459000",
         "2010-01-18 10:12:44.020000",
         "200711946.0",
         "ALUNO DE GRADUAÇÃO",
         "116167.0",
         "Acervo Circulante",
         "Biblioteca Central Zila Mamede",
         "REGULAR",
         "669.0",
         "Ciências aplicadas",
         "2010",
         "1",
         "1"
        ],
        [
         "43",
         "709709",
         "2009011815",
         "2010-02-03 12:58:49.734000",
         "2010-01-04 10:02:59.828000",
         "2010-03-02 16:38:38.231000",
         "2008106583.0",
         "ALUNO DE PÓS-GRADUAÇÃO",
         "265828.0",
         "Acervo Circulante",
         "Biblioteca Setorial Prof. Alberto Moreira Campos - ­Departamento de Odontologia",
         "REGULAR",
         "620.0",
         "Ciências aplicadas",
         "2010",
         "1",
         "1"
        ],
        [
         "44",
         "709710",
         "L198816",
         null,
         "2010-01-04 10:04:17.306000",
         "2010-01-05 11:26:52.938000",
         "200506718.0",
         "ALUNO DE GRADUAÇÃO",
         "181821.0",
         "Acervo Circulante",
         "Biblioteca Central Zila Mamede",
         "REGULAR",
         "699.0",
         "Ciências aplicadas",
         "2010",
         "1",
         "1"
        ],
        [
         "45",
         "709711",
         "L198806",
         null,
         "2010-01-04 10:04:17.344000",
         "2010-01-05 11:26:42.492000",
         "200506718.0",
         "ALUNO DE GRADUAÇÃO",
         "181878.0",
         "Acervo Circulante",
         "Biblioteca Central Zila Mamede",
         "REGULAR",
         "610.0",
         "Ciências aplicadas",
         "2010",
         "1",
         "1"
        ],
        [
         "46",
         "709712",
         "2007033792",
         null,
         "2010-01-04 10:07:00.939000",
         "2010-01-20 10:30:58.689000",
         "198423750.0",
         "DOCENTE",
         "167683.0",
         "Acervo Circulante",
         "Biblioteca Setorial Prof. Ronaldo Xavier de Arruda - CCET",
         "REGULAR",
         "679.0",
         "Ciências aplicadas",
         "2010",
         "1",
         "1"
        ],
        [
         "47",
         "709713",
         "2008010513",
         null,
         "2010-01-04 10:23:39.830000",
         "2010-01-05 11:57:06.156000",
         "2011101417.0",
         "ALUNO DE PÓS-GRADUAÇÃO",
         "190443.0",
         "Acervo Circulante",
         "Biblioteca Central Zila Mamede",
         "REGULAR",
         "656.0",
         "Ciências aplicadas",
         "2010",
         "1",
         "1"
        ],
        [
         "48",
         "709714",
         "2008046332",
         null,
         "2010-01-04 10:23:39.859000",
         "2010-01-05 11:57:01.461000",
         "2011101417.0",
         "ALUNO DE PÓS-GRADUAÇÃO",
         "256856.0",
         "Acervo Circulante",
         "Biblioteca Central Zila Mamede",
         "REGULAR",
         "619.0",
         "Ciências aplicadas",
         "2010",
         "1",
         "1"
        ],
        [
         "49",
         "709715",
         "L200359",
         "2010-01-19 14:38:53.133000",
         "2010-01-04 10:28:01.480000",
         "2010-02-01 14:41:13.147000",
         "2010078996.0",
         "ALUNO DE GRADUAÇÃO",
         "37519.0",
         "Acervo Circulante",
         "Biblioteca Central Zila Mamede",
         "REGULAR",
         "644.0",
         "Ciências aplicadas",
         "2010",
         "1",
         "1"
        ],
        [
         "50",
         "709716",
         "L107038",
         "2010-01-19 13:46:16.556000",
         "2010-01-04 10:29:19.747000",
         "2010-02-03 08:06:24.253000",
         "200615610.0",
         "ALUNO DE GRADUAÇÃO",
         "22448.0",
         "Acervo Circulante",
         "Biblioteca Central Zila Mamede",
         "REGULAR",
         "677.0",
         "Ciências aplicadas",
         "2010",
         "1",
         "1"
        ]
       ],
       "shape": {
        "columns": 16,
        "rows": 2072558
       }
      },
      "text/html": [
       "<div>\n",
       "<style scoped>\n",
       "    .dataframe tbody tr th:only-of-type {\n",
       "        vertical-align: middle;\n",
       "    }\n",
       "\n",
       "    .dataframe tbody tr th {\n",
       "        vertical-align: top;\n",
       "    }\n",
       "\n",
       "    .dataframe thead th {\n",
       "        text-align: right;\n",
       "    }\n",
       "</style>\n",
       "<table border=\"1\" class=\"dataframe\">\n",
       "  <thead>\n",
       "    <tr style=\"text-align: right;\">\n",
       "      <th></th>\n",
       "      <th>id_emprestimo</th>\n",
       "      <th>codigo_barras</th>\n",
       "      <th>data_renovacao</th>\n",
       "      <th>data_emprestimo</th>\n",
       "      <th>data_devolucao</th>\n",
       "      <th>matricula_ou_siape</th>\n",
       "      <th>tipo_vinculo_usuario</th>\n",
       "      <th>id_exemplar</th>\n",
       "      <th>colecao</th>\n",
       "      <th>biblioteca</th>\n",
       "      <th>status_material</th>\n",
       "      <th>localizacao</th>\n",
       "      <th>Classificação</th>\n",
       "      <th>Ano_emprestimo</th>\n",
       "      <th>Mes_emprestimo_ext</th>\n",
       "      <th>Mes_emprestimo</th>\n",
       "    </tr>\n",
       "  </thead>\n",
       "  <tbody>\n",
       "    <tr>\n",
       "      <th>0</th>\n",
       "      <td>709684</td>\n",
       "      <td>L095049</td>\n",
       "      <td>NaT</td>\n",
       "      <td>2010-01-04 07:44:10.721</td>\n",
       "      <td>2010-01-05 16:26:12.662</td>\n",
       "      <td>2008023265.0</td>\n",
       "      <td>ALUNO DE GRADUAÇÃO</td>\n",
       "      <td>13259.0</td>\n",
       "      <td>Acervo Circulante</td>\n",
       "      <td>Biblioteca Central Zila Mamede</td>\n",
       "      <td>REGULAR</td>\n",
       "      <td>630.0</td>\n",
       "      <td>Ciências aplicadas</td>\n",
       "      <td>2010</td>\n",
       "      <td>1</td>\n",
       "      <td>1</td>\n",
       "    </tr>\n",
       "    <tr>\n",
       "      <th>1</th>\n",
       "      <td>709685</td>\n",
       "      <td>L167050</td>\n",
       "      <td>NaT</td>\n",
       "      <td>2010-01-04 07:44:10.750</td>\n",
       "      <td>2010-01-12 07:34:13.934</td>\n",
       "      <td>2008023265.0</td>\n",
       "      <td>ALUNO DE GRADUAÇÃO</td>\n",
       "      <td>70865.0</td>\n",
       "      <td>Acervo Circulante</td>\n",
       "      <td>Biblioteca Central Zila Mamede</td>\n",
       "      <td>REGULAR</td>\n",
       "      <td>647.0</td>\n",
       "      <td>Ciências aplicadas</td>\n",
       "      <td>2010</td>\n",
       "      <td>1</td>\n",
       "      <td>1</td>\n",
       "    </tr>\n",
       "    <tr>\n",
       "      <th>2</th>\n",
       "      <td>709686</td>\n",
       "      <td>2006017618</td>\n",
       "      <td>2010-01-26 08:07:01.738</td>\n",
       "      <td>2010-01-04 08:08:44.081</td>\n",
       "      <td>2010-02-25 07:36:25.800</td>\n",
       "      <td>2008112114.0</td>\n",
       "      <td>ALUNO DE PÓS-GRADUAÇÃO</td>\n",
       "      <td>195347.0</td>\n",
       "      <td>Acervo Circulante</td>\n",
       "      <td>Biblioteca Setorial Prof. Rodolfo Helinski - E...</td>\n",
       "      <td>REGULAR</td>\n",
       "      <td>640.0</td>\n",
       "      <td>Ciências aplicadas</td>\n",
       "      <td>2010</td>\n",
       "      <td>1</td>\n",
       "      <td>1</td>\n",
       "    </tr>\n",
       "    <tr>\n",
       "      <th>3</th>\n",
       "      <td>709687</td>\n",
       "      <td>L184117</td>\n",
       "      <td>2010-01-18 11:07:46.470</td>\n",
       "      <td>2010-01-04 08:24:21.284</td>\n",
       "      <td>2010-02-03 08:58:45.692</td>\n",
       "      <td>200721119.0</td>\n",
       "      <td>ALUNO DE GRADUAÇÃO</td>\n",
       "      <td>131639.0</td>\n",
       "      <td>Acervo Circulante</td>\n",
       "      <td>Biblioteca Central Zila Mamede</td>\n",
       "      <td>REGULAR</td>\n",
       "      <td>609.0</td>\n",
       "      <td>Ciências aplicadas</td>\n",
       "      <td>2010</td>\n",
       "      <td>1</td>\n",
       "      <td>1</td>\n",
       "    </tr>\n",
       "    <tr>\n",
       "      <th>4</th>\n",
       "      <td>709684</td>\n",
       "      <td>L095049</td>\n",
       "      <td>NaT</td>\n",
       "      <td>2010-01-04 07:44:10.721</td>\n",
       "      <td>2010-01-05 16:26:12.662</td>\n",
       "      <td>2008023265.0</td>\n",
       "      <td>ALUNO DE GRADUAÇÃO</td>\n",
       "      <td>13259.0</td>\n",
       "      <td>Acervo Circulante</td>\n",
       "      <td>Biblioteca Central Zila Mamede</td>\n",
       "      <td>REGULAR</td>\n",
       "      <td>630.0</td>\n",
       "      <td>Ciências aplicadas</td>\n",
       "      <td>2010</td>\n",
       "      <td>1</td>\n",
       "      <td>1</td>\n",
       "    </tr>\n",
       "    <tr>\n",
       "      <th>...</th>\n",
       "      <td>...</td>\n",
       "      <td>...</td>\n",
       "      <td>...</td>\n",
       "      <td>...</td>\n",
       "      <td>...</td>\n",
       "      <td>...</td>\n",
       "      <td>...</td>\n",
       "      <td>...</td>\n",
       "      <td>...</td>\n",
       "      <td>...</td>\n",
       "      <td>...</td>\n",
       "      <td>...</td>\n",
       "      <td>...</td>\n",
       "      <td>...</td>\n",
       "      <td>...</td>\n",
       "      <td>...</td>\n",
       "    </tr>\n",
       "    <tr>\n",
       "      <th>2261811</th>\n",
       "      <td>2989086</td>\n",
       "      <td>2008047044</td>\n",
       "      <td>NaT</td>\n",
       "      <td>2020-05-05 19:51:06.059</td>\n",
       "      <td>2021-05-13 14:53:31.000</td>\n",
       "      <td>3067431.0</td>\n",
       "      <td>SERVIDOR TÉCNICO-ADMINISTRATIVO</td>\n",
       "      <td>256297.0</td>\n",
       "      <td>Acervo Circulante</td>\n",
       "      <td>Biblioteca Setorial da Faculdade de Ciências d...</td>\n",
       "      <td>REGULAR</td>\n",
       "      <td>684.0</td>\n",
       "      <td>Ciências aplicadas</td>\n",
       "      <td>2020</td>\n",
       "      <td>5</td>\n",
       "      <td>5</td>\n",
       "    </tr>\n",
       "    <tr>\n",
       "      <th>2261812</th>\n",
       "      <td>2989087</td>\n",
       "      <td>2008047047</td>\n",
       "      <td>NaT</td>\n",
       "      <td>2020-05-05 19:51:06.135</td>\n",
       "      <td>2021-05-13 14:53:38.000</td>\n",
       "      <td>3067431.0</td>\n",
       "      <td>SERVIDOR TÉCNICO-ADMINISTRATIVO</td>\n",
       "      <td>256406.0</td>\n",
       "      <td>Acervo Circulante</td>\n",
       "      <td>Biblioteca Setorial da Faculdade de Ciências d...</td>\n",
       "      <td>REGULAR</td>\n",
       "      <td>628.0</td>\n",
       "      <td>Ciências aplicadas</td>\n",
       "      <td>2020</td>\n",
       "      <td>5</td>\n",
       "      <td>5</td>\n",
       "    </tr>\n",
       "    <tr>\n",
       "      <th>2261813</th>\n",
       "      <td>2989088</td>\n",
       "      <td>2010052905</td>\n",
       "      <td>NaT</td>\n",
       "      <td>2020-05-05 19:51:06.164</td>\n",
       "      <td>2021-05-13 15:01:46.000</td>\n",
       "      <td>3067431.0</td>\n",
       "      <td>SERVIDOR TÉCNICO-ADMINISTRATIVO</td>\n",
       "      <td>807821.0</td>\n",
       "      <td>Acervo Circulante</td>\n",
       "      <td>Biblioteca Setorial da Faculdade de Ciências d...</td>\n",
       "      <td>REGULAR</td>\n",
       "      <td>653.0</td>\n",
       "      <td>Ciências aplicadas</td>\n",
       "      <td>2020</td>\n",
       "      <td>5</td>\n",
       "      <td>5</td>\n",
       "    </tr>\n",
       "    <tr>\n",
       "      <th>2261814</th>\n",
       "      <td>2989089</td>\n",
       "      <td>2010048023</td>\n",
       "      <td>NaT</td>\n",
       "      <td>2020-06-09 11:54:02.669</td>\n",
       "      <td>2021-07-21 15:33:55.000</td>\n",
       "      <td>20201014993.0</td>\n",
       "      <td>ALUNO DE PÓS-GRADUAÇÃO</td>\n",
       "      <td>804885.0</td>\n",
       "      <td>Acervo Circulante</td>\n",
       "      <td>Biblioteca Central Zila Mamede</td>\n",
       "      <td>REGULAR</td>\n",
       "      <td>675.0</td>\n",
       "      <td>Ciências aplicadas</td>\n",
       "      <td>2020</td>\n",
       "      <td>6</td>\n",
       "      <td>6</td>\n",
       "    </tr>\n",
       "    <tr>\n",
       "      <th>2261815</th>\n",
       "      <td>2989090</td>\n",
       "      <td>2013106838</td>\n",
       "      <td>NaT</td>\n",
       "      <td>2020-06-09 11:54:02.852</td>\n",
       "      <td>2021-07-21 15:33:45.000</td>\n",
       "      <td>20201014993.0</td>\n",
       "      <td>ALUNO DE PÓS-GRADUAÇÃO</td>\n",
       "      <td>1099777.0</td>\n",
       "      <td>Acervo Circulante</td>\n",
       "      <td>Biblioteca Central Zila Mamede</td>\n",
       "      <td>REGULAR</td>\n",
       "      <td>14.0</td>\n",
       "      <td>Filosofia e psicologia</td>\n",
       "      <td>2020</td>\n",
       "      <td>6</td>\n",
       "      <td>6</td>\n",
       "    </tr>\n",
       "  </tbody>\n",
       "</table>\n",
       "<p>2072558 rows × 16 columns</p>\n",
       "</div>"
      ],
      "text/plain": [
       "         id_emprestimo codigo_barras          data_renovacao  \\\n",
       "0               709684       L095049                     NaT   \n",
       "1               709685       L167050                     NaT   \n",
       "2               709686    2006017618 2010-01-26 08:07:01.738   \n",
       "3               709687       L184117 2010-01-18 11:07:46.470   \n",
       "4               709684       L095049                     NaT   \n",
       "...                ...           ...                     ...   \n",
       "2261811        2989086    2008047044                     NaT   \n",
       "2261812        2989087    2008047047                     NaT   \n",
       "2261813        2989088    2010052905                     NaT   \n",
       "2261814        2989089    2010048023                     NaT   \n",
       "2261815        2989090    2013106838                     NaT   \n",
       "\n",
       "                data_emprestimo          data_devolucao matricula_ou_siape  \\\n",
       "0       2010-01-04 07:44:10.721 2010-01-05 16:26:12.662       2008023265.0   \n",
       "1       2010-01-04 07:44:10.750 2010-01-12 07:34:13.934       2008023265.0   \n",
       "2       2010-01-04 08:08:44.081 2010-02-25 07:36:25.800       2008112114.0   \n",
       "3       2010-01-04 08:24:21.284 2010-02-03 08:58:45.692        200721119.0   \n",
       "4       2010-01-04 07:44:10.721 2010-01-05 16:26:12.662       2008023265.0   \n",
       "...                         ...                     ...                ...   \n",
       "2261811 2020-05-05 19:51:06.059 2021-05-13 14:53:31.000          3067431.0   \n",
       "2261812 2020-05-05 19:51:06.135 2021-05-13 14:53:38.000          3067431.0   \n",
       "2261813 2020-05-05 19:51:06.164 2021-05-13 15:01:46.000          3067431.0   \n",
       "2261814 2020-06-09 11:54:02.669 2021-07-21 15:33:55.000      20201014993.0   \n",
       "2261815 2020-06-09 11:54:02.852 2021-07-21 15:33:45.000      20201014993.0   \n",
       "\n",
       "                    tipo_vinculo_usuario  id_exemplar            colecao  \\\n",
       "0                     ALUNO DE GRADUAÇÃO      13259.0  Acervo Circulante   \n",
       "1                     ALUNO DE GRADUAÇÃO      70865.0  Acervo Circulante   \n",
       "2                 ALUNO DE PÓS-GRADUAÇÃO     195347.0  Acervo Circulante   \n",
       "3                     ALUNO DE GRADUAÇÃO     131639.0  Acervo Circulante   \n",
       "4                     ALUNO DE GRADUAÇÃO      13259.0  Acervo Circulante   \n",
       "...                                  ...          ...                ...   \n",
       "2261811  SERVIDOR TÉCNICO-ADMINISTRATIVO     256297.0  Acervo Circulante   \n",
       "2261812  SERVIDOR TÉCNICO-ADMINISTRATIVO     256406.0  Acervo Circulante   \n",
       "2261813  SERVIDOR TÉCNICO-ADMINISTRATIVO     807821.0  Acervo Circulante   \n",
       "2261814           ALUNO DE PÓS-GRADUAÇÃO     804885.0  Acervo Circulante   \n",
       "2261815           ALUNO DE PÓS-GRADUAÇÃO    1099777.0  Acervo Circulante   \n",
       "\n",
       "                                                biblioteca status_material  \\\n",
       "0                           Biblioteca Central Zila Mamede         REGULAR   \n",
       "1                           Biblioteca Central Zila Mamede         REGULAR   \n",
       "2        Biblioteca Setorial Prof. Rodolfo Helinski - E...         REGULAR   \n",
       "3                           Biblioteca Central Zila Mamede         REGULAR   \n",
       "4                           Biblioteca Central Zila Mamede         REGULAR   \n",
       "...                                                    ...             ...   \n",
       "2261811  Biblioteca Setorial da Faculdade de Ciências d...         REGULAR   \n",
       "2261812  Biblioteca Setorial da Faculdade de Ciências d...         REGULAR   \n",
       "2261813  Biblioteca Setorial da Faculdade de Ciências d...         REGULAR   \n",
       "2261814                     Biblioteca Central Zila Mamede         REGULAR   \n",
       "2261815                     Biblioteca Central Zila Mamede         REGULAR   \n",
       "\n",
       "         localizacao           Classificação  Ano_emprestimo  \\\n",
       "0              630.0      Ciências aplicadas            2010   \n",
       "1              647.0      Ciências aplicadas            2010   \n",
       "2              640.0      Ciências aplicadas            2010   \n",
       "3              609.0      Ciências aplicadas            2010   \n",
       "4              630.0      Ciências aplicadas            2010   \n",
       "...              ...                     ...             ...   \n",
       "2261811        684.0      Ciências aplicadas            2020   \n",
       "2261812        628.0      Ciências aplicadas            2020   \n",
       "2261813        653.0      Ciências aplicadas            2020   \n",
       "2261814        675.0      Ciências aplicadas            2020   \n",
       "2261815         14.0  Filosofia e psicologia            2020   \n",
       "\n",
       "         Mes_emprestimo_ext  Mes_emprestimo  \n",
       "0                         1               1  \n",
       "1                         1               1  \n",
       "2                         1               1  \n",
       "3                         1               1  \n",
       "4                         1               1  \n",
       "...                     ...             ...  \n",
       "2261811                   5               5  \n",
       "2261812                   5               5  \n",
       "2261813                   5               5  \n",
       "2261814                   6               6  \n",
       "2261815                   6               6  \n",
       "\n",
       "[2072558 rows x 16 columns]"
      ]
     },
     "execution_count": 150,
     "metadata": {},
     "output_type": "execute_result"
    }
   ],
   "source": [
    "df_limpo"
   ]
  },
  {
   "cell_type": "code",
   "execution_count": 151,
   "id": "3fd80f79",
   "metadata": {},
   "outputs": [
    {
     "data": {
      "application/vnd.microsoft.datawrangler.viewer.v0+json": {
       "columns": [
        {
         "name": "index",
         "rawType": "int64",
         "type": "integer"
        },
        {
         "name": "Mes_emprestimo",
         "rawType": "int32",
         "type": "integer"
        },
        {
         "name": "id_emprestimo",
         "rawType": "int64",
         "type": "integer"
        }
       ],
       "ref": "4f07b6c9-83d9-47fb-ae88-234862a6ce93",
       "rows": [
        [
         "0",
         "1",
         "67542"
        ],
        [
         "1",
         "2",
         "210200"
        ],
        [
         "2",
         "3",
         "252185"
        ],
        [
         "3",
         "4",
         "208725"
        ],
        [
         "4",
         "5",
         "202530"
        ],
        [
         "5",
         "6",
         "138131"
        ],
        [
         "6",
         "7",
         "123790"
        ],
        [
         "7",
         "8",
         "232793"
        ],
        [
         "8",
         "9",
         "208234"
        ],
        [
         "9",
         "10",
         "188410"
        ],
        [
         "10",
         "11",
         "164222"
        ],
        [
         "11",
         "12",
         "75796"
        ]
       ],
       "shape": {
        "columns": 2,
        "rows": 12
       }
      },
      "text/html": [
       "<div>\n",
       "<style scoped>\n",
       "    .dataframe tbody tr th:only-of-type {\n",
       "        vertical-align: middle;\n",
       "    }\n",
       "\n",
       "    .dataframe tbody tr th {\n",
       "        vertical-align: top;\n",
       "    }\n",
       "\n",
       "    .dataframe thead th {\n",
       "        text-align: right;\n",
       "    }\n",
       "</style>\n",
       "<table border=\"1\" class=\"dataframe\">\n",
       "  <thead>\n",
       "    <tr style=\"text-align: right;\">\n",
       "      <th></th>\n",
       "      <th>Mes_emprestimo</th>\n",
       "      <th>id_emprestimo</th>\n",
       "    </tr>\n",
       "  </thead>\n",
       "  <tbody>\n",
       "    <tr>\n",
       "      <th>0</th>\n",
       "      <td>1</td>\n",
       "      <td>67542</td>\n",
       "    </tr>\n",
       "    <tr>\n",
       "      <th>1</th>\n",
       "      <td>2</td>\n",
       "      <td>210200</td>\n",
       "    </tr>\n",
       "    <tr>\n",
       "      <th>2</th>\n",
       "      <td>3</td>\n",
       "      <td>252185</td>\n",
       "    </tr>\n",
       "    <tr>\n",
       "      <th>3</th>\n",
       "      <td>4</td>\n",
       "      <td>208725</td>\n",
       "    </tr>\n",
       "    <tr>\n",
       "      <th>4</th>\n",
       "      <td>5</td>\n",
       "      <td>202530</td>\n",
       "    </tr>\n",
       "    <tr>\n",
       "      <th>5</th>\n",
       "      <td>6</td>\n",
       "      <td>138131</td>\n",
       "    </tr>\n",
       "    <tr>\n",
       "      <th>6</th>\n",
       "      <td>7</td>\n",
       "      <td>123790</td>\n",
       "    </tr>\n",
       "    <tr>\n",
       "      <th>7</th>\n",
       "      <td>8</td>\n",
       "      <td>232793</td>\n",
       "    </tr>\n",
       "    <tr>\n",
       "      <th>8</th>\n",
       "      <td>9</td>\n",
       "      <td>208234</td>\n",
       "    </tr>\n",
       "    <tr>\n",
       "      <th>9</th>\n",
       "      <td>10</td>\n",
       "      <td>188410</td>\n",
       "    </tr>\n",
       "    <tr>\n",
       "      <th>10</th>\n",
       "      <td>11</td>\n",
       "      <td>164222</td>\n",
       "    </tr>\n",
       "    <tr>\n",
       "      <th>11</th>\n",
       "      <td>12</td>\n",
       "      <td>75796</td>\n",
       "    </tr>\n",
       "  </tbody>\n",
       "</table>\n",
       "</div>"
      ],
      "text/plain": [
       "    Mes_emprestimo  id_emprestimo\n",
       "0                1          67542\n",
       "1                2         210200\n",
       "2                3         252185\n",
       "3                4         208725\n",
       "4                5         202530\n",
       "5                6         138131\n",
       "6                7         123790\n",
       "7                8         232793\n",
       "8                9         208234\n",
       "9               10         188410\n",
       "10              11         164222\n",
       "11              12          75796"
      ]
     },
     "execution_count": 151,
     "metadata": {},
     "output_type": "execute_result"
    }
   ],
   "source": [
    "emprestimos_mes = df_limpo.groupby(['Mes_emprestimo'])['id_emprestimo'].count().reset_index()\n",
    "pd.DataFrame(emprestimos_mes)"
   ]
  },
  {
   "cell_type": "code",
   "execution_count": 152,
   "id": "cea030c1",
   "metadata": {},
   "outputs": [
    {
     "name": "stderr",
     "output_type": "stream",
     "text": [
      "C:\\Users\\guico\\AppData\\Local\\Temp\\ipykernel_10384\\2117585276.py:2: FutureWarning:\n",
      "\n",
      "A value is trying to be set on a copy of a DataFrame or Series through chained assignment using an inplace method.\n",
      "The behavior will change in pandas 3.0. This inplace method will never work because the intermediate object on which we are setting values always behaves as a copy.\n",
      "\n",
      "For example, when doing 'df[col].method(value, inplace=True)', try using 'df.method({col: value}, inplace=True)' or df[col] = df[col].method(value) instead, to perform the operation inplace on the original object.\n",
      "\n",
      "\n",
      "\n"
     ]
    },
    {
     "data": {
      "application/vnd.microsoft.datawrangler.viewer.v0+json": {
       "columns": [
        {
         "name": "index",
         "rawType": "int64",
         "type": "integer"
        },
        {
         "name": "Mes_emprestimo",
         "rawType": "int32",
         "type": "integer"
        },
        {
         "name": "id_emprestimo",
         "rawType": "int64",
         "type": "integer"
        },
        {
         "name": "Mes_emprestimo_ext",
         "rawType": "object",
         "type": "string"
        }
       ],
       "ref": "9602e0a3-1997-47b1-8f5c-45256619ac12",
       "rows": [
        [
         "0",
         "1",
         "67542",
         "Jan"
        ],
        [
         "1",
         "2",
         "210200",
         "Fev"
        ],
        [
         "2",
         "3",
         "252185",
         "Mar"
        ],
        [
         "3",
         "4",
         "208725",
         "Abr"
        ],
        [
         "4",
         "5",
         "202530",
         "Mai"
        ],
        [
         "5",
         "6",
         "138131",
         "Jun"
        ],
        [
         "6",
         "7",
         "123790",
         "Jul"
        ],
        [
         "7",
         "8",
         "232793",
         "Ago"
        ],
        [
         "8",
         "9",
         "208234",
         "Set"
        ],
        [
         "9",
         "10",
         "188410",
         "Out"
        ],
        [
         "10",
         "11",
         "164222",
         "Nov"
        ],
        [
         "11",
         "12",
         "75796",
         "Dez"
        ]
       ],
       "shape": {
        "columns": 3,
        "rows": 12
       }
      },
      "text/html": [
       "<div>\n",
       "<style scoped>\n",
       "    .dataframe tbody tr th:only-of-type {\n",
       "        vertical-align: middle;\n",
       "    }\n",
       "\n",
       "    .dataframe tbody tr th {\n",
       "        vertical-align: top;\n",
       "    }\n",
       "\n",
       "    .dataframe thead th {\n",
       "        text-align: right;\n",
       "    }\n",
       "</style>\n",
       "<table border=\"1\" class=\"dataframe\">\n",
       "  <thead>\n",
       "    <tr style=\"text-align: right;\">\n",
       "      <th></th>\n",
       "      <th>Mes_emprestimo</th>\n",
       "      <th>id_emprestimo</th>\n",
       "      <th>Mes_emprestimo_ext</th>\n",
       "    </tr>\n",
       "  </thead>\n",
       "  <tbody>\n",
       "    <tr>\n",
       "      <th>0</th>\n",
       "      <td>1</td>\n",
       "      <td>67542</td>\n",
       "      <td>Jan</td>\n",
       "    </tr>\n",
       "    <tr>\n",
       "      <th>1</th>\n",
       "      <td>2</td>\n",
       "      <td>210200</td>\n",
       "      <td>Fev</td>\n",
       "    </tr>\n",
       "    <tr>\n",
       "      <th>2</th>\n",
       "      <td>3</td>\n",
       "      <td>252185</td>\n",
       "      <td>Mar</td>\n",
       "    </tr>\n",
       "    <tr>\n",
       "      <th>3</th>\n",
       "      <td>4</td>\n",
       "      <td>208725</td>\n",
       "      <td>Abr</td>\n",
       "    </tr>\n",
       "    <tr>\n",
       "      <th>4</th>\n",
       "      <td>5</td>\n",
       "      <td>202530</td>\n",
       "      <td>Mai</td>\n",
       "    </tr>\n",
       "    <tr>\n",
       "      <th>5</th>\n",
       "      <td>6</td>\n",
       "      <td>138131</td>\n",
       "      <td>Jun</td>\n",
       "    </tr>\n",
       "    <tr>\n",
       "      <th>6</th>\n",
       "      <td>7</td>\n",
       "      <td>123790</td>\n",
       "      <td>Jul</td>\n",
       "    </tr>\n",
       "    <tr>\n",
       "      <th>7</th>\n",
       "      <td>8</td>\n",
       "      <td>232793</td>\n",
       "      <td>Ago</td>\n",
       "    </tr>\n",
       "    <tr>\n",
       "      <th>8</th>\n",
       "      <td>9</td>\n",
       "      <td>208234</td>\n",
       "      <td>Set</td>\n",
       "    </tr>\n",
       "    <tr>\n",
       "      <th>9</th>\n",
       "      <td>10</td>\n",
       "      <td>188410</td>\n",
       "      <td>Out</td>\n",
       "    </tr>\n",
       "    <tr>\n",
       "      <th>10</th>\n",
       "      <td>11</td>\n",
       "      <td>164222</td>\n",
       "      <td>Nov</td>\n",
       "    </tr>\n",
       "    <tr>\n",
       "      <th>11</th>\n",
       "      <td>12</td>\n",
       "      <td>75796</td>\n",
       "      <td>Dez</td>\n",
       "    </tr>\n",
       "  </tbody>\n",
       "</table>\n",
       "</div>"
      ],
      "text/plain": [
       "    Mes_emprestimo  id_emprestimo Mes_emprestimo_ext\n",
       "0                1          67542                Jan\n",
       "1                2         210200                Fev\n",
       "2                3         252185                Mar\n",
       "3                4         208725                Abr\n",
       "4                5         202530                Mai\n",
       "5                6         138131                Jun\n",
       "6                7         123790                Jul\n",
       "7                8         232793                Ago\n",
       "8                9         208234                Set\n",
       "9               10         188410                Out\n",
       "10              11         164222                Nov\n",
       "11              12          75796                Dez"
      ]
     },
     "execution_count": 152,
     "metadata": {},
     "output_type": "execute_result"
    }
   ],
   "source": [
    "emprestimos_mes['Mes_emprestimo_ext'] = emprestimos_mes['Mes_emprestimo']\n",
    "emprestimos_mes['Mes_emprestimo_ext'].replace(\n",
    "    {\n",
    "    1:'Jan',\n",
    "    2:'Fev',\n",
    "    3:'Mar',\n",
    "    4:'Abr',\n",
    "    5:'Mai',\n",
    "    6:'Jun',\n",
    "    7:'Jul',\n",
    "    8:'Ago',\n",
    "    9:'Set',\n",
    "    10:'Out',\n",
    "    11:'Nov',\n",
    "    12:'Dez'\n",
    "    },\n",
    "    inplace=True\n",
    ")\n",
    "emprestimos_mes"
   ]
  },
  {
   "cell_type": "code",
   "execution_count": 153,
   "id": "f75f6a22",
   "metadata": {},
   "outputs": [
    {
     "data": {
      "application/vnd.plotly.v1+json": {
       "config": {
        "plotlyServerURL": "https://plot.ly"
       },
       "data": [
        {
         "alignmentgroup": "True",
         "hovertemplate": "=%{x}<br>Quantidade=%{y}<extra></extra>",
         "legendgroup": "",
         "marker": {
          "color": "#636efa",
          "pattern": {
           "shape": ""
          }
         },
         "name": "",
         "offsetgroup": "",
         "orientation": "v",
         "showlegend": false,
         "textposition": "auto",
         "type": "bar",
         "x": [
          "Jan",
          "Fev",
          "Mar",
          "Abr",
          "Mai",
          "Jun",
          "Jul",
          "Ago",
          "Set",
          "Out",
          "Nov",
          "Dez"
         ],
         "xaxis": "x",
         "y": [
          67542,
          210200,
          252185,
          208725,
          202530,
          138131,
          123790,
          232793,
          208234,
          188410,
          164222,
          75796
         ],
         "yaxis": "y"
        }
       ],
       "layout": {
        "barmode": "relative",
        "legend": {
         "tracegroupgap": 0
        },
        "template": {
         "data": {
          "bar": [
           {
            "error_x": {
             "color": "#2a3f5f"
            },
            "error_y": {
             "color": "#2a3f5f"
            },
            "marker": {
             "line": {
              "color": "#E5ECF6",
              "width": 0.5
             },
             "pattern": {
              "fillmode": "overlay",
              "size": 10,
              "solidity": 0.2
             }
            },
            "type": "bar"
           }
          ],
          "barpolar": [
           {
            "marker": {
             "line": {
              "color": "#E5ECF6",
              "width": 0.5
             },
             "pattern": {
              "fillmode": "overlay",
              "size": 10,
              "solidity": 0.2
             }
            },
            "type": "barpolar"
           }
          ],
          "carpet": [
           {
            "aaxis": {
             "endlinecolor": "#2a3f5f",
             "gridcolor": "white",
             "linecolor": "white",
             "minorgridcolor": "white",
             "startlinecolor": "#2a3f5f"
            },
            "baxis": {
             "endlinecolor": "#2a3f5f",
             "gridcolor": "white",
             "linecolor": "white",
             "minorgridcolor": "white",
             "startlinecolor": "#2a3f5f"
            },
            "type": "carpet"
           }
          ],
          "choropleth": [
           {
            "colorbar": {
             "outlinewidth": 0,
             "ticks": ""
            },
            "type": "choropleth"
           }
          ],
          "contour": [
           {
            "colorbar": {
             "outlinewidth": 0,
             "ticks": ""
            },
            "colorscale": [
             [
              0,
              "#0d0887"
             ],
             [
              0.1111111111111111,
              "#46039f"
             ],
             [
              0.2222222222222222,
              "#7201a8"
             ],
             [
              0.3333333333333333,
              "#9c179e"
             ],
             [
              0.4444444444444444,
              "#bd3786"
             ],
             [
              0.5555555555555556,
              "#d8576b"
             ],
             [
              0.6666666666666666,
              "#ed7953"
             ],
             [
              0.7777777777777778,
              "#fb9f3a"
             ],
             [
              0.8888888888888888,
              "#fdca26"
             ],
             [
              1,
              "#f0f921"
             ]
            ],
            "type": "contour"
           }
          ],
          "contourcarpet": [
           {
            "colorbar": {
             "outlinewidth": 0,
             "ticks": ""
            },
            "type": "contourcarpet"
           }
          ],
          "heatmap": [
           {
            "colorbar": {
             "outlinewidth": 0,
             "ticks": ""
            },
            "colorscale": [
             [
              0,
              "#0d0887"
             ],
             [
              0.1111111111111111,
              "#46039f"
             ],
             [
              0.2222222222222222,
              "#7201a8"
             ],
             [
              0.3333333333333333,
              "#9c179e"
             ],
             [
              0.4444444444444444,
              "#bd3786"
             ],
             [
              0.5555555555555556,
              "#d8576b"
             ],
             [
              0.6666666666666666,
              "#ed7953"
             ],
             [
              0.7777777777777778,
              "#fb9f3a"
             ],
             [
              0.8888888888888888,
              "#fdca26"
             ],
             [
              1,
              "#f0f921"
             ]
            ],
            "type": "heatmap"
           }
          ],
          "heatmapgl": [
           {
            "colorbar": {
             "outlinewidth": 0,
             "ticks": ""
            },
            "colorscale": [
             [
              0,
              "#0d0887"
             ],
             [
              0.1111111111111111,
              "#46039f"
             ],
             [
              0.2222222222222222,
              "#7201a8"
             ],
             [
              0.3333333333333333,
              "#9c179e"
             ],
             [
              0.4444444444444444,
              "#bd3786"
             ],
             [
              0.5555555555555556,
              "#d8576b"
             ],
             [
              0.6666666666666666,
              "#ed7953"
             ],
             [
              0.7777777777777778,
              "#fb9f3a"
             ],
             [
              0.8888888888888888,
              "#fdca26"
             ],
             [
              1,
              "#f0f921"
             ]
            ],
            "type": "heatmapgl"
           }
          ],
          "histogram": [
           {
            "marker": {
             "pattern": {
              "fillmode": "overlay",
              "size": 10,
              "solidity": 0.2
             }
            },
            "type": "histogram"
           }
          ],
          "histogram2d": [
           {
            "colorbar": {
             "outlinewidth": 0,
             "ticks": ""
            },
            "colorscale": [
             [
              0,
              "#0d0887"
             ],
             [
              0.1111111111111111,
              "#46039f"
             ],
             [
              0.2222222222222222,
              "#7201a8"
             ],
             [
              0.3333333333333333,
              "#9c179e"
             ],
             [
              0.4444444444444444,
              "#bd3786"
             ],
             [
              0.5555555555555556,
              "#d8576b"
             ],
             [
              0.6666666666666666,
              "#ed7953"
             ],
             [
              0.7777777777777778,
              "#fb9f3a"
             ],
             [
              0.8888888888888888,
              "#fdca26"
             ],
             [
              1,
              "#f0f921"
             ]
            ],
            "type": "histogram2d"
           }
          ],
          "histogram2dcontour": [
           {
            "colorbar": {
             "outlinewidth": 0,
             "ticks": ""
            },
            "colorscale": [
             [
              0,
              "#0d0887"
             ],
             [
              0.1111111111111111,
              "#46039f"
             ],
             [
              0.2222222222222222,
              "#7201a8"
             ],
             [
              0.3333333333333333,
              "#9c179e"
             ],
             [
              0.4444444444444444,
              "#bd3786"
             ],
             [
              0.5555555555555556,
              "#d8576b"
             ],
             [
              0.6666666666666666,
              "#ed7953"
             ],
             [
              0.7777777777777778,
              "#fb9f3a"
             ],
             [
              0.8888888888888888,
              "#fdca26"
             ],
             [
              1,
              "#f0f921"
             ]
            ],
            "type": "histogram2dcontour"
           }
          ],
          "mesh3d": [
           {
            "colorbar": {
             "outlinewidth": 0,
             "ticks": ""
            },
            "type": "mesh3d"
           }
          ],
          "parcoords": [
           {
            "line": {
             "colorbar": {
              "outlinewidth": 0,
              "ticks": ""
             }
            },
            "type": "parcoords"
           }
          ],
          "pie": [
           {
            "automargin": true,
            "type": "pie"
           }
          ],
          "scatter": [
           {
            "fillpattern": {
             "fillmode": "overlay",
             "size": 10,
             "solidity": 0.2
            },
            "type": "scatter"
           }
          ],
          "scatter3d": [
           {
            "line": {
             "colorbar": {
              "outlinewidth": 0,
              "ticks": ""
             }
            },
            "marker": {
             "colorbar": {
              "outlinewidth": 0,
              "ticks": ""
             }
            },
            "type": "scatter3d"
           }
          ],
          "scattercarpet": [
           {
            "marker": {
             "colorbar": {
              "outlinewidth": 0,
              "ticks": ""
             }
            },
            "type": "scattercarpet"
           }
          ],
          "scattergeo": [
           {
            "marker": {
             "colorbar": {
              "outlinewidth": 0,
              "ticks": ""
             }
            },
            "type": "scattergeo"
           }
          ],
          "scattergl": [
           {
            "marker": {
             "colorbar": {
              "outlinewidth": 0,
              "ticks": ""
             }
            },
            "type": "scattergl"
           }
          ],
          "scattermapbox": [
           {
            "marker": {
             "colorbar": {
              "outlinewidth": 0,
              "ticks": ""
             }
            },
            "type": "scattermapbox"
           }
          ],
          "scatterpolar": [
           {
            "marker": {
             "colorbar": {
              "outlinewidth": 0,
              "ticks": ""
             }
            },
            "type": "scatterpolar"
           }
          ],
          "scatterpolargl": [
           {
            "marker": {
             "colorbar": {
              "outlinewidth": 0,
              "ticks": ""
             }
            },
            "type": "scatterpolargl"
           }
          ],
          "scatterternary": [
           {
            "marker": {
             "colorbar": {
              "outlinewidth": 0,
              "ticks": ""
             }
            },
            "type": "scatterternary"
           }
          ],
          "surface": [
           {
            "colorbar": {
             "outlinewidth": 0,
             "ticks": ""
            },
            "colorscale": [
             [
              0,
              "#0d0887"
             ],
             [
              0.1111111111111111,
              "#46039f"
             ],
             [
              0.2222222222222222,
              "#7201a8"
             ],
             [
              0.3333333333333333,
              "#9c179e"
             ],
             [
              0.4444444444444444,
              "#bd3786"
             ],
             [
              0.5555555555555556,
              "#d8576b"
             ],
             [
              0.6666666666666666,
              "#ed7953"
             ],
             [
              0.7777777777777778,
              "#fb9f3a"
             ],
             [
              0.8888888888888888,
              "#fdca26"
             ],
             [
              1,
              "#f0f921"
             ]
            ],
            "type": "surface"
           }
          ],
          "table": [
           {
            "cells": {
             "fill": {
              "color": "#EBF0F8"
             },
             "line": {
              "color": "white"
             }
            },
            "header": {
             "fill": {
              "color": "#C8D4E3"
             },
             "line": {
              "color": "white"
             }
            },
            "type": "table"
           }
          ]
         },
         "layout": {
          "annotationdefaults": {
           "arrowcolor": "#2a3f5f",
           "arrowhead": 0,
           "arrowwidth": 1
          },
          "autotypenumbers": "strict",
          "coloraxis": {
           "colorbar": {
            "outlinewidth": 0,
            "ticks": ""
           }
          },
          "colorscale": {
           "diverging": [
            [
             0,
             "#8e0152"
            ],
            [
             0.1,
             "#c51b7d"
            ],
            [
             0.2,
             "#de77ae"
            ],
            [
             0.3,
             "#f1b6da"
            ],
            [
             0.4,
             "#fde0ef"
            ],
            [
             0.5,
             "#f7f7f7"
            ],
            [
             0.6,
             "#e6f5d0"
            ],
            [
             0.7,
             "#b8e186"
            ],
            [
             0.8,
             "#7fbc41"
            ],
            [
             0.9,
             "#4d9221"
            ],
            [
             1,
             "#276419"
            ]
           ],
           "sequential": [
            [
             0,
             "#0d0887"
            ],
            [
             0.1111111111111111,
             "#46039f"
            ],
            [
             0.2222222222222222,
             "#7201a8"
            ],
            [
             0.3333333333333333,
             "#9c179e"
            ],
            [
             0.4444444444444444,
             "#bd3786"
            ],
            [
             0.5555555555555556,
             "#d8576b"
            ],
            [
             0.6666666666666666,
             "#ed7953"
            ],
            [
             0.7777777777777778,
             "#fb9f3a"
            ],
            [
             0.8888888888888888,
             "#fdca26"
            ],
            [
             1,
             "#f0f921"
            ]
           ],
           "sequentialminus": [
            [
             0,
             "#0d0887"
            ],
            [
             0.1111111111111111,
             "#46039f"
            ],
            [
             0.2222222222222222,
             "#7201a8"
            ],
            [
             0.3333333333333333,
             "#9c179e"
            ],
            [
             0.4444444444444444,
             "#bd3786"
            ],
            [
             0.5555555555555556,
             "#d8576b"
            ],
            [
             0.6666666666666666,
             "#ed7953"
            ],
            [
             0.7777777777777778,
             "#fb9f3a"
            ],
            [
             0.8888888888888888,
             "#fdca26"
            ],
            [
             1,
             "#f0f921"
            ]
           ]
          },
          "colorway": [
           "#636efa",
           "#EF553B",
           "#00cc96",
           "#ab63fa",
           "#FFA15A",
           "#19d3f3",
           "#FF6692",
           "#B6E880",
           "#FF97FF",
           "#FECB52"
          ],
          "font": {
           "color": "#2a3f5f"
          },
          "geo": {
           "bgcolor": "white",
           "lakecolor": "white",
           "landcolor": "#E5ECF6",
           "showlakes": true,
           "showland": true,
           "subunitcolor": "white"
          },
          "hoverlabel": {
           "align": "left"
          },
          "hovermode": "closest",
          "mapbox": {
           "style": "light"
          },
          "paper_bgcolor": "white",
          "plot_bgcolor": "#E5ECF6",
          "polar": {
           "angularaxis": {
            "gridcolor": "white",
            "linecolor": "white",
            "ticks": ""
           },
           "bgcolor": "#E5ECF6",
           "radialaxis": {
            "gridcolor": "white",
            "linecolor": "white",
            "ticks": ""
           }
          },
          "scene": {
           "xaxis": {
            "backgroundcolor": "#E5ECF6",
            "gridcolor": "white",
            "gridwidth": 2,
            "linecolor": "white",
            "showbackground": true,
            "ticks": "",
            "zerolinecolor": "white"
           },
           "yaxis": {
            "backgroundcolor": "#E5ECF6",
            "gridcolor": "white",
            "gridwidth": 2,
            "linecolor": "white",
            "showbackground": true,
            "ticks": "",
            "zerolinecolor": "white"
           },
           "zaxis": {
            "backgroundcolor": "#E5ECF6",
            "gridcolor": "white",
            "gridwidth": 2,
            "linecolor": "white",
            "showbackground": true,
            "ticks": "",
            "zerolinecolor": "white"
           }
          },
          "shapedefaults": {
           "line": {
            "color": "#2a3f5f"
           }
          },
          "ternary": {
           "aaxis": {
            "gridcolor": "white",
            "linecolor": "white",
            "ticks": ""
           },
           "baxis": {
            "gridcolor": "white",
            "linecolor": "white",
            "ticks": ""
           },
           "bgcolor": "#E5ECF6",
           "caxis": {
            "gridcolor": "white",
            "linecolor": "white",
            "ticks": ""
           }
          },
          "title": {
           "x": 0.05
          },
          "xaxis": {
           "automargin": true,
           "gridcolor": "white",
           "linecolor": "white",
           "ticks": "",
           "title": {
            "standoff": 15
           },
           "zerolinecolor": "white",
           "zerolinewidth": 2
          },
          "yaxis": {
           "automargin": true,
           "gridcolor": "white",
           "linecolor": "white",
           "ticks": "",
           "title": {
            "standoff": 15
           },
           "zerolinecolor": "white",
           "zerolinewidth": 2
          }
         }
        },
        "title": {
         "text": "Emprestimos ao longo dos Meses"
        },
        "xaxis": {
         "anchor": "y",
         "domain": [
          0,
          1
         ],
         "title": {
          "text": ""
         }
        },
        "yaxis": {
         "anchor": "x",
         "domain": [
          0,
          1
         ],
         "title": {
          "text": "Quantidade"
         }
        }
       }
      }
     },
     "metadata": {},
     "output_type": "display_data"
    }
   ],
   "source": [
    "#Mais completo\n",
    "#grafico = px.bar(emprestimos_mes, x='Mes_emprestimo_ext', labels=({'id_emprestimo':'Quantidade', 'Mes_emprestimo_ext':''}), text='id_emprestimo', y='id_emprestimo', title='Emprestimos ao longo dos Meses')\n",
    "#grafico.update_traces(texttemplate=\"%{y:,}\")   # mostra y com separador de milhar \n",
    "\n",
    "\n",
    "#Mais simples\n",
    "grafico = px.bar(emprestimos_mes, x='Mes_emprestimo_ext', labels=({'id_emprestimo':'Quantidade', 'Mes_emprestimo_ext':''}), y='id_emprestimo', title='Emprestimos ao longo dos Meses')\n",
    "grafico.show()"
   ]
  },
  {
   "cell_type": "markdown",
   "id": "d1b13a12",
   "metadata": {},
   "source": [
    "Análise\n",
    "\n",
    "Se analizarmos apenas referente as demandas, seria em janeiro, julho e dezembro."
   ]
  },
  {
   "cell_type": "markdown",
   "id": "34c783e4",
   "metadata": {},
   "source": [
    "### Atividades fora atendimento\n",
    "\n",
    "Qual seria o melhor horário para programar atividades que não sejam de atendimento ao usuário para períodos específicos de menor demanda?"
   ]
  },
  {
   "cell_type": "code",
   "execution_count": 157,
   "id": "8dfc2a3a",
   "metadata": {},
   "outputs": [
    {
     "data": {
      "application/vnd.microsoft.datawrangler.viewer.v0+json": {
       "columns": [
        {
         "name": "index",
         "rawType": "int64",
         "type": "integer"
        },
        {
         "name": "id_emprestimo",
         "rawType": "int64",
         "type": "integer"
        },
        {
         "name": "codigo_barras",
         "rawType": "object",
         "type": "string"
        },
        {
         "name": "data_renovacao",
         "rawType": "datetime64[ns]",
         "type": "datetime"
        },
        {
         "name": "data_emprestimo",
         "rawType": "datetime64[ns]",
         "type": "datetime"
        },
        {
         "name": "data_devolucao",
         "rawType": "datetime64[ns]",
         "type": "datetime"
        },
        {
         "name": "matricula_ou_siape",
         "rawType": "object",
         "type": "string"
        },
        {
         "name": "tipo_vinculo_usuario",
         "rawType": "object",
         "type": "string"
        },
        {
         "name": "id_exemplar",
         "rawType": "float64",
         "type": "float"
        },
        {
         "name": "colecao",
         "rawType": "object",
         "type": "string"
        },
        {
         "name": "biblioteca",
         "rawType": "object",
         "type": "string"
        },
        {
         "name": "status_material",
         "rawType": "object",
         "type": "string"
        },
        {
         "name": "localizacao",
         "rawType": "float64",
         "type": "float"
        },
        {
         "name": "Classificação",
         "rawType": "object",
         "type": "string"
        },
        {
         "name": "Ano_emprestimo",
         "rawType": "int32",
         "type": "integer"
        },
        {
         "name": "Mes_emprestimo_ext",
         "rawType": "int32",
         "type": "integer"
        },
        {
         "name": "Mes_emprestimo",
         "rawType": "int32",
         "type": "integer"
        },
        {
         "name": "Hora_emprestimo",
         "rawType": "int32",
         "type": "integer"
        },
        {
         "name": "dia_emprestimo",
         "rawType": "object",
         "type": "string"
        }
       ],
       "ref": "0580ce21-87ce-489d-a66f-d621281e4823",
       "rows": [
        [
         "0",
         "709684",
         "L095049",
         null,
         "2010-01-04 07:44:10.721000",
         "2010-01-05 16:26:12.662000",
         "2008023265.0",
         "ALUNO DE GRADUAÇÃO",
         "13259.0",
         "Acervo Circulante",
         "Biblioteca Central Zila Mamede",
         "REGULAR",
         "630.0",
         "Ciências aplicadas",
         "2010",
         "1",
         "1",
         "7",
         "Monday"
        ],
        [
         "1",
         "709685",
         "L167050",
         null,
         "2010-01-04 07:44:10.750000",
         "2010-01-12 07:34:13.934000",
         "2008023265.0",
         "ALUNO DE GRADUAÇÃO",
         "70865.0",
         "Acervo Circulante",
         "Biblioteca Central Zila Mamede",
         "REGULAR",
         "647.0",
         "Ciências aplicadas",
         "2010",
         "1",
         "1",
         "7",
         "Monday"
        ],
        [
         "2",
         "709686",
         "2006017618",
         "2010-01-26 08:07:01.738000",
         "2010-01-04 08:08:44.081000",
         "2010-02-25 07:36:25.800000",
         "2008112114.0",
         "ALUNO DE PÓS-GRADUAÇÃO",
         "195347.0",
         "Acervo Circulante",
         "Biblioteca Setorial Prof. Rodolfo Helinski - Escola Agrícola de Jundiaí - EAJ  - Macaiba",
         "REGULAR",
         "640.0",
         "Ciências aplicadas",
         "2010",
         "1",
         "1",
         "8",
         "Monday"
        ],
        [
         "3",
         "709687",
         "L184117",
         "2010-01-18 11:07:46.470000",
         "2010-01-04 08:24:21.284000",
         "2010-02-03 08:58:45.692000",
         "200721119.0",
         "ALUNO DE GRADUAÇÃO",
         "131639.0",
         "Acervo Circulante",
         "Biblioteca Central Zila Mamede",
         "REGULAR",
         "609.0",
         "Ciências aplicadas",
         "2010",
         "1",
         "1",
         "8",
         "Monday"
        ],
        [
         "4",
         "709684",
         "L095049",
         null,
         "2010-01-04 07:44:10.721000",
         "2010-01-05 16:26:12.662000",
         "2008023265.0",
         "ALUNO DE GRADUAÇÃO",
         "13259.0",
         "Acervo Circulante",
         "Biblioteca Central Zila Mamede",
         "REGULAR",
         "630.0",
         "Ciências aplicadas",
         "2010",
         "1",
         "1",
         "7",
         "Monday"
        ],
        [
         "5",
         "709685",
         "L167050",
         null,
         "2010-01-04 07:44:10.750000",
         "2010-01-12 07:34:13.934000",
         "2008023265.0",
         "ALUNO DE GRADUAÇÃO",
         "70865.0",
         "Acervo Circulante",
         "Biblioteca Central Zila Mamede",
         "REGULAR",
         "647.0",
         "Ciências aplicadas",
         "2010",
         "1",
         "1",
         "7",
         "Monday"
        ],
        [
         "6",
         "709686",
         "2006017618",
         "2010-01-26 08:07:01.738000",
         "2010-01-04 08:08:44.081000",
         "2010-02-25 07:36:25.800000",
         "2008112114.0",
         "ALUNO DE PÓS-GRADUAÇÃO",
         "195347.0",
         "Acervo Circulante",
         "Biblioteca Setorial Prof. Rodolfo Helinski - Escola Agrícola de Jundiaí - EAJ  - Macaiba",
         "REGULAR",
         "640.0",
         "Ciências aplicadas",
         "2010",
         "1",
         "1",
         "8",
         "Monday"
        ],
        [
         "7",
         "709687",
         "L184117",
         "2010-01-18 11:07:46.470000",
         "2010-01-04 08:24:21.284000",
         "2010-02-03 08:58:45.692000",
         "200721119.0",
         "ALUNO DE GRADUAÇÃO",
         "131639.0",
         "Acervo Circulante",
         "Biblioteca Central Zila Mamede",
         "REGULAR",
         "609.0",
         "Ciências aplicadas",
         "2010",
         "1",
         "1",
         "8",
         "Monday"
        ],
        [
         "8",
         "709688",
         "2007027500",
         "2010-01-19 15:59:26.464000",
         "2010-01-04 08:27:33.569000",
         "2010-02-03 13:06:30.662000",
         "2009045971.0",
         "ALUNO DE GRADUAÇÃO",
         "225646.0",
         "Acervo Circulante",
         "Biblioteca Central Zila Mamede",
         "REGULAR",
         "686.0",
         "Ciências aplicadas",
         "2010",
         "1",
         "1",
         "8",
         "Monday"
        ],
        [
         "9",
         "709689",
         "L157395",
         "2010-01-19 15:59:26.447000",
         "2010-01-04 08:27:33.596000",
         "2010-02-03 13:06:43.125000",
         "2009045971.0",
         "ALUNO DE GRADUAÇÃO",
         "57040.0",
         "Acervo Circulante",
         "Biblioteca Central Zila Mamede",
         "REGULAR",
         "698.0",
         "Ciências aplicadas",
         "2010",
         "1",
         "1",
         "8",
         "Monday"
        ],
        [
         "10",
         "709690",
         "2007019312",
         null,
         "2010-01-04 08:49:57.857000",
         "2010-01-13 09:58:25.443000",
         "200701444.0",
         "ALUNO DE GRADUAÇÃO",
         "225786.0",
         "Acervo Circulante",
         "Biblioteca Central Zila Mamede",
         "REGULAR",
         "698.0",
         "Ciências aplicadas",
         "2010",
         "1",
         "1",
         "8",
         "Monday"
        ],
        [
         "11",
         "709691",
         "2008046357",
         "2010-01-19 11:50:13.404000",
         "2010-01-04 09:02:30.576000",
         "2010-02-02 12:13:36.132000",
         "200507453.0",
         "ALUNO DE GRADUAÇÃO",
         "256537.0",
         "Acervo Circulante",
         "Biblioteca Setorial Bertha Cruz Enders - ­Escola de Saúde da UFRN - ESUFRN",
         "REGULAR",
         "645.0",
         "Ciências aplicadas",
         "2010",
         "1",
         "1",
         "9",
         "Monday"
        ],
        [
         "12",
         "709692",
         "L187962",
         null,
         "2010-01-04 09:07:06.131000",
         "2010-06-22 18:55:04",
         "200404369.0",
         "ALUNO DE GRADUAÇÃO",
         "143654.0",
         "Acervo Circulante",
         "Biblioteca Central Zila Mamede",
         "REGULAR",
         "658.0",
         "Ciências aplicadas",
         "2010",
         "1",
         "1",
         "9",
         "Monday"
        ],
        [
         "13",
         "709693",
         "L192776",
         null,
         "2010-01-04 09:07:06.159000",
         "2010-06-22 18:54:46",
         "200404369.0",
         "ALUNO DE GRADUAÇÃO",
         "159348.0",
         "Acervo Circulante",
         "Biblioteca Central Zila Mamede",
         "REGULAR",
         "697.0",
         "Ciências aplicadas",
         "2010",
         "1",
         "1",
         "9",
         "Monday"
        ],
        [
         "14",
         "709694",
         "L202783",
         null,
         "2010-01-04 09:09:38.329000",
         "2010-02-03 13:00:49.746000",
         "198420637.0",
         "DOCENTE",
         "274136.0",
         "Acervo Circulante",
         "Biblioteca Central Zila Mamede",
         "REGULAR",
         "643.0",
         "Ciências aplicadas",
         "2010",
         "1",
         "1",
         "9",
         "Monday"
        ],
        [
         "15",
         "709695",
         "2007035128",
         null,
         "2010-01-04 09:14:55.681000",
         "2010-01-14 10:15:08.388000",
         "2008005020.0",
         "ALUNO DE GRADUAÇÃO",
         "235887.0",
         "Acervo Circulante",
         "Biblioteca Central Zila Mamede",
         "REGULAR",
         "630.0",
         "Ciências aplicadas",
         "2010",
         "1",
         "1",
         "9",
         "Monday"
        ],
        [
         "16",
         "709696",
         "L122346",
         null,
         "2010-01-04 09:14:55.721000",
         "2010-01-14 10:15:16.041000",
         "2008005020.0",
         "ALUNO DE GRADUAÇÃO",
         "28681.0",
         "Acervo Circulante",
         "Biblioteca Central Zila Mamede",
         "REGULAR",
         "612.0",
         "Ciências aplicadas",
         "2010",
         "1",
         "1",
         "9",
         "Monday"
        ],
        [
         "17",
         "709697",
         "L048797",
         null,
         "2010-01-04 09:18:17.514000",
         "2010-01-14 10:14:59.964000",
         "2008005020.0",
         "ALUNO DE GRADUAÇÃO",
         "131863.0",
         "Acervo Circulante",
         "Biblioteca Central Zila Mamede",
         "REGULAR",
         "673.0",
         "Ciências aplicadas",
         "2010",
         "1",
         "1",
         "9",
         "Monday"
        ],
        [
         "18",
         "709698",
         "2009047725",
         "2010-01-18 14:44:41.163000",
         "2010-01-04 09:21:19.099000",
         "2010-02-02 12:02:38.444000",
         "2009046838.0",
         "ALUNO DE GRADUAÇÃO",
         "281004.0",
         "Acervo Circulante",
         "Biblioteca Setorial do Centro Ciências da Saúde - CCS",
         "REGULAR",
         "651.0",
         "Ciências aplicadas",
         "2010",
         "1",
         "1",
         "9",
         "Monday"
        ],
        [
         "19",
         "709698",
         "2009047725",
         "2010-01-18 14:44:41.163000",
         "2010-01-04 09:21:19.099000",
         "2010-02-02 12:02:38.444000",
         "2009046838.0",
         "ALUNO DE GRADUAÇÃO",
         "281004.0",
         "Acervo Circulante",
         "Biblioteca Setorial do Centro Ciências da Saúde - CCS",
         "REGULAR",
         "651.0",
         "Ciências aplicadas",
         "2010",
         "1",
         "1",
         "9",
         "Monday"
        ],
        [
         "20",
         "709698",
         "2009047725",
         "2010-01-18 14:44:41.163000",
         "2010-01-04 09:21:19.099000",
         "2010-02-02 12:02:38.444000",
         "2009046838.0",
         "ALUNO DE GRADUAÇÃO",
         "281004.0",
         "Acervo Circulante",
         "Biblioteca Setorial do Centro Ciências da Saúde - CCS",
         "REGULAR",
         "651.0",
         "Ciências aplicadas",
         "2010",
         "1",
         "1",
         "9",
         "Monday"
        ],
        [
         "21",
         "709699",
         "2009051872",
         "2010-01-18 14:44:41.144000",
         "2010-01-04 09:21:19.126000",
         "2010-02-02 12:03:35.649000",
         "2009046838.0",
         "ALUNO DE GRADUAÇÃO",
         "281880.0",
         "Acervo Circulante",
         "Biblioteca Setorial do Centro Ciências da Saúde - CCS",
         "REGULAR",
         "647.0",
         "Ciências aplicadas",
         "2010",
         "1",
         "1",
         "9",
         "Monday"
        ],
        [
         "22",
         "709700",
         "L200358",
         null,
         "2010-01-04 09:42:28.589000",
         "2010-01-04 09:42:56.820000",
         "2010078996.0",
         "ALUNO DE GRADUAÇÃO",
         "37513.0",
         "Acervo Circulante",
         "Biblioteca Central Zila Mamede",
         "REGULAR",
         "674.0",
         "Ciências aplicadas",
         "2010",
         "1",
         "1",
         "9",
         "Monday"
        ],
        [
         "24",
         "709702",
         "L200904",
         "2010-01-19 19:02:53.430000",
         "2010-01-04 09:48:05.637000",
         "2010-02-04 18:23:55.925000",
         "2008029450.0",
         "ALUNO DE GRADUAÇÃO",
         "158308.0",
         "Acervo Circulante",
         "Biblioteca Central Zila Mamede",
         "REGULAR",
         "631.0",
         "Ciências aplicadas",
         "2010",
         "1",
         "1",
         "9",
         "Monday"
        ],
        [
         "25",
         "709703",
         "2007020476",
         "2010-01-13 09:39:02.522000",
         "2010-01-04 09:56:42.325000",
         "2010-01-21 10:25:28.007000",
         "200625578.0",
         "ALUNO DE GRADUAÇÃO",
         "221707.0",
         "Acervo Circulante",
         "Biblioteca Central Zila Mamede",
         "ESPECIAL",
         "634.0",
         "Ciências aplicadas",
         "2010",
         "1",
         "1",
         "9",
         "Monday"
        ],
        [
         "26",
         "709704",
         "2006021442",
         "2010-01-17 18:56:43.923000",
         "2010-01-04 09:58:46.522000",
         "2010-02-01 13:59:02.528000",
         "2008009890.0",
         "ALUNO DE GRADUAÇÃO",
         "199419.0",
         "Acervo Circulante",
         "Biblioteca Central Zila Mamede",
         "REGULAR",
         "699.0",
         "Ciências aplicadas",
         "2010",
         "1",
         "1",
         "9",
         "Monday"
        ],
        [
         "27",
         "709705",
         "2009032168",
         "2010-01-17 18:56:43.909000",
         "2010-01-04 09:58:46.549000",
         "2010-01-20 13:14:34.464000",
         "2008009890.0",
         "ALUNO DE GRADUAÇÃO",
         "273487.0",
         "Acervo Circulante",
         "Biblioteca Central Zila Mamede",
         "REGULAR",
         "623.0",
         "Ciências aplicadas",
         "2010",
         "1",
         "1",
         "9",
         "Monday"
        ],
        [
         "28",
         "709704",
         "2006021442",
         "2010-01-17 18:56:43.923000",
         "2010-01-04 09:58:46.522000",
         "2010-02-01 13:59:02.528000",
         "2008009890.0",
         "ALUNO DE GRADUAÇÃO",
         "199419.0",
         "Acervo Circulante",
         "Biblioteca Central Zila Mamede",
         "REGULAR",
         "699.0",
         "Ciências aplicadas",
         "2010",
         "1",
         "1",
         "9",
         "Monday"
        ],
        [
         "29",
         "709705",
         "2009032168",
         "2010-01-17 18:56:43.909000",
         "2010-01-04 09:58:46.549000",
         "2010-01-20 13:14:34.464000",
         "2008009890.0",
         "ALUNO DE GRADUAÇÃO",
         "273487.0",
         "Acervo Circulante",
         "Biblioteca Central Zila Mamede",
         "REGULAR",
         "623.0",
         "Ciências aplicadas",
         "2010",
         "1",
         "1",
         "9",
         "Monday"
        ],
        [
         "30",
         "709704",
         "2006021442",
         "2010-01-17 18:56:43.923000",
         "2010-01-04 09:58:46.522000",
         "2010-02-01 13:59:02.528000",
         "2008009890.0",
         "ALUNO DE GRADUAÇÃO",
         "199419.0",
         "Acervo Circulante",
         "Biblioteca Central Zila Mamede",
         "REGULAR",
         "699.0",
         "Ciências aplicadas",
         "2010",
         "1",
         "1",
         "9",
         "Monday"
        ],
        [
         "31",
         "709705",
         "2009032168",
         "2010-01-17 18:56:43.909000",
         "2010-01-04 09:58:46.549000",
         "2010-01-20 13:14:34.464000",
         "2008009890.0",
         "ALUNO DE GRADUAÇÃO",
         "273487.0",
         "Acervo Circulante",
         "Biblioteca Central Zila Mamede",
         "REGULAR",
         "623.0",
         "Ciências aplicadas",
         "2010",
         "1",
         "1",
         "9",
         "Monday"
        ],
        [
         "32",
         "709704",
         "2006021442",
         "2010-01-17 18:56:43.923000",
         "2010-01-04 09:58:46.522000",
         "2010-02-01 13:59:02.528000",
         "2008009890.0",
         "ALUNO DE GRADUAÇÃO",
         "199419.0",
         "Acervo Circulante",
         "Biblioteca Central Zila Mamede",
         "REGULAR",
         "699.0",
         "Ciências aplicadas",
         "2010",
         "1",
         "1",
         "9",
         "Monday"
        ],
        [
         "33",
         "709705",
         "2009032168",
         "2010-01-17 18:56:43.909000",
         "2010-01-04 09:58:46.549000",
         "2010-01-20 13:14:34.464000",
         "2008009890.0",
         "ALUNO DE GRADUAÇÃO",
         "273487.0",
         "Acervo Circulante",
         "Biblioteca Central Zila Mamede",
         "REGULAR",
         "623.0",
         "Ciências aplicadas",
         "2010",
         "1",
         "1",
         "9",
         "Monday"
        ],
        [
         "34",
         "709704",
         "2006021442",
         "2010-01-17 18:56:43.923000",
         "2010-01-04 09:58:46.522000",
         "2010-02-01 13:59:02.528000",
         "2008009890.0",
         "ALUNO DE GRADUAÇÃO",
         "199419.0",
         "Acervo Circulante",
         "Biblioteca Central Zila Mamede",
         "REGULAR",
         "699.0",
         "Ciências aplicadas",
         "2010",
         "1",
         "1",
         "9",
         "Monday"
        ],
        [
         "35",
         "709705",
         "2009032168",
         "2010-01-17 18:56:43.909000",
         "2010-01-04 09:58:46.549000",
         "2010-01-20 13:14:34.464000",
         "2008009890.0",
         "ALUNO DE GRADUAÇÃO",
         "273487.0",
         "Acervo Circulante",
         "Biblioteca Central Zila Mamede",
         "REGULAR",
         "623.0",
         "Ciências aplicadas",
         "2010",
         "1",
         "1",
         "9",
         "Monday"
        ],
        [
         "36",
         "709704",
         "2006021442",
         "2010-01-17 18:56:43.923000",
         "2010-01-04 09:58:46.522000",
         "2010-02-01 13:59:02.528000",
         "2008009890.0",
         "ALUNO DE GRADUAÇÃO",
         "199419.0",
         "Acervo Circulante",
         "Biblioteca Central Zila Mamede",
         "REGULAR",
         "699.0",
         "Ciências aplicadas",
         "2010",
         "1",
         "1",
         "9",
         "Monday"
        ],
        [
         "37",
         "709705",
         "2009032168",
         "2010-01-17 18:56:43.909000",
         "2010-01-04 09:58:46.549000",
         "2010-01-20 13:14:34.464000",
         "2008009890.0",
         "ALUNO DE GRADUAÇÃO",
         "273487.0",
         "Acervo Circulante",
         "Biblioteca Central Zila Mamede",
         "REGULAR",
         "623.0",
         "Ciências aplicadas",
         "2010",
         "1",
         "1",
         "9",
         "Monday"
        ],
        [
         "38",
         "709704",
         "2006021442",
         "2010-01-17 18:56:43.923000",
         "2010-01-04 09:58:46.522000",
         "2010-02-01 13:59:02.528000",
         "2008009890.0",
         "ALUNO DE GRADUAÇÃO",
         "199419.0",
         "Acervo Circulante",
         "Biblioteca Central Zila Mamede",
         "REGULAR",
         "699.0",
         "Ciências aplicadas",
         "2010",
         "1",
         "1",
         "9",
         "Monday"
        ],
        [
         "39",
         "709705",
         "2009032168",
         "2010-01-17 18:56:43.909000",
         "2010-01-04 09:58:46.549000",
         "2010-01-20 13:14:34.464000",
         "2008009890.0",
         "ALUNO DE GRADUAÇÃO",
         "273487.0",
         "Acervo Circulante",
         "Biblioteca Central Zila Mamede",
         "REGULAR",
         "623.0",
         "Ciências aplicadas",
         "2010",
         "1",
         "1",
         "9",
         "Monday"
        ],
        [
         "40",
         "709706",
         "2009032010",
         "2010-01-17 18:56:43.869000",
         "2010-01-04 09:58:46.575000",
         "2010-02-01 13:58:46.387000",
         "2008009890.0",
         "ALUNO DE GRADUAÇÃO",
         "273783.0",
         "Acervo Circulante",
         "Biblioteca Central Zila Mamede",
         "REGULAR",
         "812.0",
         "Linguagem. Língua. Linguística",
         "2010",
         "1",
         "1",
         "9",
         "Monday"
        ],
        [
         "41",
         "709707",
         "2008000130",
         null,
         "2010-01-04 10:00:22.435000",
         "2010-01-13 10:01:45.234000",
         "200711946.0",
         "ALUNO DE GRADUAÇÃO",
         "246141.0",
         "Acervo Circulante",
         "Biblioteca Central Zila Mamede",
         "REGULAR",
         "615.0",
         "Ciências aplicadas",
         "2010",
         "1",
         "1",
         "10",
         "Monday"
        ],
        [
         "42",
         "709708",
         "L134569",
         null,
         "2010-01-04 10:00:22.459000",
         "2010-01-18 10:12:44.020000",
         "200711946.0",
         "ALUNO DE GRADUAÇÃO",
         "116167.0",
         "Acervo Circulante",
         "Biblioteca Central Zila Mamede",
         "REGULAR",
         "669.0",
         "Ciências aplicadas",
         "2010",
         "1",
         "1",
         "10",
         "Monday"
        ],
        [
         "43",
         "709709",
         "2009011815",
         "2010-02-03 12:58:49.734000",
         "2010-01-04 10:02:59.828000",
         "2010-03-02 16:38:38.231000",
         "2008106583.0",
         "ALUNO DE PÓS-GRADUAÇÃO",
         "265828.0",
         "Acervo Circulante",
         "Biblioteca Setorial Prof. Alberto Moreira Campos - ­Departamento de Odontologia",
         "REGULAR",
         "620.0",
         "Ciências aplicadas",
         "2010",
         "1",
         "1",
         "10",
         "Monday"
        ],
        [
         "44",
         "709710",
         "L198816",
         null,
         "2010-01-04 10:04:17.306000",
         "2010-01-05 11:26:52.938000",
         "200506718.0",
         "ALUNO DE GRADUAÇÃO",
         "181821.0",
         "Acervo Circulante",
         "Biblioteca Central Zila Mamede",
         "REGULAR",
         "699.0",
         "Ciências aplicadas",
         "2010",
         "1",
         "1",
         "10",
         "Monday"
        ],
        [
         "45",
         "709711",
         "L198806",
         null,
         "2010-01-04 10:04:17.344000",
         "2010-01-05 11:26:42.492000",
         "200506718.0",
         "ALUNO DE GRADUAÇÃO",
         "181878.0",
         "Acervo Circulante",
         "Biblioteca Central Zila Mamede",
         "REGULAR",
         "610.0",
         "Ciências aplicadas",
         "2010",
         "1",
         "1",
         "10",
         "Monday"
        ],
        [
         "46",
         "709712",
         "2007033792",
         null,
         "2010-01-04 10:07:00.939000",
         "2010-01-20 10:30:58.689000",
         "198423750.0",
         "DOCENTE",
         "167683.0",
         "Acervo Circulante",
         "Biblioteca Setorial Prof. Ronaldo Xavier de Arruda - CCET",
         "REGULAR",
         "679.0",
         "Ciências aplicadas",
         "2010",
         "1",
         "1",
         "10",
         "Monday"
        ],
        [
         "47",
         "709713",
         "2008010513",
         null,
         "2010-01-04 10:23:39.830000",
         "2010-01-05 11:57:06.156000",
         "2011101417.0",
         "ALUNO DE PÓS-GRADUAÇÃO",
         "190443.0",
         "Acervo Circulante",
         "Biblioteca Central Zila Mamede",
         "REGULAR",
         "656.0",
         "Ciências aplicadas",
         "2010",
         "1",
         "1",
         "10",
         "Monday"
        ],
        [
         "48",
         "709714",
         "2008046332",
         null,
         "2010-01-04 10:23:39.859000",
         "2010-01-05 11:57:01.461000",
         "2011101417.0",
         "ALUNO DE PÓS-GRADUAÇÃO",
         "256856.0",
         "Acervo Circulante",
         "Biblioteca Central Zila Mamede",
         "REGULAR",
         "619.0",
         "Ciências aplicadas",
         "2010",
         "1",
         "1",
         "10",
         "Monday"
        ],
        [
         "49",
         "709715",
         "L200359",
         "2010-01-19 14:38:53.133000",
         "2010-01-04 10:28:01.480000",
         "2010-02-01 14:41:13.147000",
         "2010078996.0",
         "ALUNO DE GRADUAÇÃO",
         "37519.0",
         "Acervo Circulante",
         "Biblioteca Central Zila Mamede",
         "REGULAR",
         "644.0",
         "Ciências aplicadas",
         "2010",
         "1",
         "1",
         "10",
         "Monday"
        ],
        [
         "50",
         "709716",
         "L107038",
         "2010-01-19 13:46:16.556000",
         "2010-01-04 10:29:19.747000",
         "2010-02-03 08:06:24.253000",
         "200615610.0",
         "ALUNO DE GRADUAÇÃO",
         "22448.0",
         "Acervo Circulante",
         "Biblioteca Central Zila Mamede",
         "REGULAR",
         "677.0",
         "Ciências aplicadas",
         "2010",
         "1",
         "1",
         "10",
         "Monday"
        ]
       ],
       "shape": {
        "columns": 18,
        "rows": 2072558
       }
      },
      "text/html": [
       "<div>\n",
       "<style scoped>\n",
       "    .dataframe tbody tr th:only-of-type {\n",
       "        vertical-align: middle;\n",
       "    }\n",
       "\n",
       "    .dataframe tbody tr th {\n",
       "        vertical-align: top;\n",
       "    }\n",
       "\n",
       "    .dataframe thead th {\n",
       "        text-align: right;\n",
       "    }\n",
       "</style>\n",
       "<table border=\"1\" class=\"dataframe\">\n",
       "  <thead>\n",
       "    <tr style=\"text-align: right;\">\n",
       "      <th></th>\n",
       "      <th>id_emprestimo</th>\n",
       "      <th>codigo_barras</th>\n",
       "      <th>data_renovacao</th>\n",
       "      <th>data_emprestimo</th>\n",
       "      <th>data_devolucao</th>\n",
       "      <th>matricula_ou_siape</th>\n",
       "      <th>tipo_vinculo_usuario</th>\n",
       "      <th>id_exemplar</th>\n",
       "      <th>colecao</th>\n",
       "      <th>biblioteca</th>\n",
       "      <th>status_material</th>\n",
       "      <th>localizacao</th>\n",
       "      <th>Classificação</th>\n",
       "      <th>Ano_emprestimo</th>\n",
       "      <th>Mes_emprestimo_ext</th>\n",
       "      <th>Mes_emprestimo</th>\n",
       "      <th>Hora_emprestimo</th>\n",
       "      <th>dia_emprestimo</th>\n",
       "    </tr>\n",
       "  </thead>\n",
       "  <tbody>\n",
       "    <tr>\n",
       "      <th>0</th>\n",
       "      <td>709684</td>\n",
       "      <td>L095049</td>\n",
       "      <td>NaT</td>\n",
       "      <td>2010-01-04 07:44:10.721</td>\n",
       "      <td>2010-01-05 16:26:12.662</td>\n",
       "      <td>2008023265.0</td>\n",
       "      <td>ALUNO DE GRADUAÇÃO</td>\n",
       "      <td>13259.0</td>\n",
       "      <td>Acervo Circulante</td>\n",
       "      <td>Biblioteca Central Zila Mamede</td>\n",
       "      <td>REGULAR</td>\n",
       "      <td>630.0</td>\n",
       "      <td>Ciências aplicadas</td>\n",
       "      <td>2010</td>\n",
       "      <td>1</td>\n",
       "      <td>1</td>\n",
       "      <td>7</td>\n",
       "      <td>Monday</td>\n",
       "    </tr>\n",
       "    <tr>\n",
       "      <th>1</th>\n",
       "      <td>709685</td>\n",
       "      <td>L167050</td>\n",
       "      <td>NaT</td>\n",
       "      <td>2010-01-04 07:44:10.750</td>\n",
       "      <td>2010-01-12 07:34:13.934</td>\n",
       "      <td>2008023265.0</td>\n",
       "      <td>ALUNO DE GRADUAÇÃO</td>\n",
       "      <td>70865.0</td>\n",
       "      <td>Acervo Circulante</td>\n",
       "      <td>Biblioteca Central Zila Mamede</td>\n",
       "      <td>REGULAR</td>\n",
       "      <td>647.0</td>\n",
       "      <td>Ciências aplicadas</td>\n",
       "      <td>2010</td>\n",
       "      <td>1</td>\n",
       "      <td>1</td>\n",
       "      <td>7</td>\n",
       "      <td>Monday</td>\n",
       "    </tr>\n",
       "    <tr>\n",
       "      <th>2</th>\n",
       "      <td>709686</td>\n",
       "      <td>2006017618</td>\n",
       "      <td>2010-01-26 08:07:01.738</td>\n",
       "      <td>2010-01-04 08:08:44.081</td>\n",
       "      <td>2010-02-25 07:36:25.800</td>\n",
       "      <td>2008112114.0</td>\n",
       "      <td>ALUNO DE PÓS-GRADUAÇÃO</td>\n",
       "      <td>195347.0</td>\n",
       "      <td>Acervo Circulante</td>\n",
       "      <td>Biblioteca Setorial Prof. Rodolfo Helinski - E...</td>\n",
       "      <td>REGULAR</td>\n",
       "      <td>640.0</td>\n",
       "      <td>Ciências aplicadas</td>\n",
       "      <td>2010</td>\n",
       "      <td>1</td>\n",
       "      <td>1</td>\n",
       "      <td>8</td>\n",
       "      <td>Monday</td>\n",
       "    </tr>\n",
       "    <tr>\n",
       "      <th>3</th>\n",
       "      <td>709687</td>\n",
       "      <td>L184117</td>\n",
       "      <td>2010-01-18 11:07:46.470</td>\n",
       "      <td>2010-01-04 08:24:21.284</td>\n",
       "      <td>2010-02-03 08:58:45.692</td>\n",
       "      <td>200721119.0</td>\n",
       "      <td>ALUNO DE GRADUAÇÃO</td>\n",
       "      <td>131639.0</td>\n",
       "      <td>Acervo Circulante</td>\n",
       "      <td>Biblioteca Central Zila Mamede</td>\n",
       "      <td>REGULAR</td>\n",
       "      <td>609.0</td>\n",
       "      <td>Ciências aplicadas</td>\n",
       "      <td>2010</td>\n",
       "      <td>1</td>\n",
       "      <td>1</td>\n",
       "      <td>8</td>\n",
       "      <td>Monday</td>\n",
       "    </tr>\n",
       "    <tr>\n",
       "      <th>4</th>\n",
       "      <td>709684</td>\n",
       "      <td>L095049</td>\n",
       "      <td>NaT</td>\n",
       "      <td>2010-01-04 07:44:10.721</td>\n",
       "      <td>2010-01-05 16:26:12.662</td>\n",
       "      <td>2008023265.0</td>\n",
       "      <td>ALUNO DE GRADUAÇÃO</td>\n",
       "      <td>13259.0</td>\n",
       "      <td>Acervo Circulante</td>\n",
       "      <td>Biblioteca Central Zila Mamede</td>\n",
       "      <td>REGULAR</td>\n",
       "      <td>630.0</td>\n",
       "      <td>Ciências aplicadas</td>\n",
       "      <td>2010</td>\n",
       "      <td>1</td>\n",
       "      <td>1</td>\n",
       "      <td>7</td>\n",
       "      <td>Monday</td>\n",
       "    </tr>\n",
       "    <tr>\n",
       "      <th>...</th>\n",
       "      <td>...</td>\n",
       "      <td>...</td>\n",
       "      <td>...</td>\n",
       "      <td>...</td>\n",
       "      <td>...</td>\n",
       "      <td>...</td>\n",
       "      <td>...</td>\n",
       "      <td>...</td>\n",
       "      <td>...</td>\n",
       "      <td>...</td>\n",
       "      <td>...</td>\n",
       "      <td>...</td>\n",
       "      <td>...</td>\n",
       "      <td>...</td>\n",
       "      <td>...</td>\n",
       "      <td>...</td>\n",
       "      <td>...</td>\n",
       "      <td>...</td>\n",
       "    </tr>\n",
       "    <tr>\n",
       "      <th>2261811</th>\n",
       "      <td>2989086</td>\n",
       "      <td>2008047044</td>\n",
       "      <td>NaT</td>\n",
       "      <td>2020-05-05 19:51:06.059</td>\n",
       "      <td>2021-05-13 14:53:31.000</td>\n",
       "      <td>3067431.0</td>\n",
       "      <td>SERVIDOR TÉCNICO-ADMINISTRATIVO</td>\n",
       "      <td>256297.0</td>\n",
       "      <td>Acervo Circulante</td>\n",
       "      <td>Biblioteca Setorial da Faculdade de Ciências d...</td>\n",
       "      <td>REGULAR</td>\n",
       "      <td>684.0</td>\n",
       "      <td>Ciências aplicadas</td>\n",
       "      <td>2020</td>\n",
       "      <td>5</td>\n",
       "      <td>5</td>\n",
       "      <td>19</td>\n",
       "      <td>Tuesday</td>\n",
       "    </tr>\n",
       "    <tr>\n",
       "      <th>2261812</th>\n",
       "      <td>2989087</td>\n",
       "      <td>2008047047</td>\n",
       "      <td>NaT</td>\n",
       "      <td>2020-05-05 19:51:06.135</td>\n",
       "      <td>2021-05-13 14:53:38.000</td>\n",
       "      <td>3067431.0</td>\n",
       "      <td>SERVIDOR TÉCNICO-ADMINISTRATIVO</td>\n",
       "      <td>256406.0</td>\n",
       "      <td>Acervo Circulante</td>\n",
       "      <td>Biblioteca Setorial da Faculdade de Ciências d...</td>\n",
       "      <td>REGULAR</td>\n",
       "      <td>628.0</td>\n",
       "      <td>Ciências aplicadas</td>\n",
       "      <td>2020</td>\n",
       "      <td>5</td>\n",
       "      <td>5</td>\n",
       "      <td>19</td>\n",
       "      <td>Tuesday</td>\n",
       "    </tr>\n",
       "    <tr>\n",
       "      <th>2261813</th>\n",
       "      <td>2989088</td>\n",
       "      <td>2010052905</td>\n",
       "      <td>NaT</td>\n",
       "      <td>2020-05-05 19:51:06.164</td>\n",
       "      <td>2021-05-13 15:01:46.000</td>\n",
       "      <td>3067431.0</td>\n",
       "      <td>SERVIDOR TÉCNICO-ADMINISTRATIVO</td>\n",
       "      <td>807821.0</td>\n",
       "      <td>Acervo Circulante</td>\n",
       "      <td>Biblioteca Setorial da Faculdade de Ciências d...</td>\n",
       "      <td>REGULAR</td>\n",
       "      <td>653.0</td>\n",
       "      <td>Ciências aplicadas</td>\n",
       "      <td>2020</td>\n",
       "      <td>5</td>\n",
       "      <td>5</td>\n",
       "      <td>19</td>\n",
       "      <td>Tuesday</td>\n",
       "    </tr>\n",
       "    <tr>\n",
       "      <th>2261814</th>\n",
       "      <td>2989089</td>\n",
       "      <td>2010048023</td>\n",
       "      <td>NaT</td>\n",
       "      <td>2020-06-09 11:54:02.669</td>\n",
       "      <td>2021-07-21 15:33:55.000</td>\n",
       "      <td>20201014993.0</td>\n",
       "      <td>ALUNO DE PÓS-GRADUAÇÃO</td>\n",
       "      <td>804885.0</td>\n",
       "      <td>Acervo Circulante</td>\n",
       "      <td>Biblioteca Central Zila Mamede</td>\n",
       "      <td>REGULAR</td>\n",
       "      <td>675.0</td>\n",
       "      <td>Ciências aplicadas</td>\n",
       "      <td>2020</td>\n",
       "      <td>6</td>\n",
       "      <td>6</td>\n",
       "      <td>11</td>\n",
       "      <td>Tuesday</td>\n",
       "    </tr>\n",
       "    <tr>\n",
       "      <th>2261815</th>\n",
       "      <td>2989090</td>\n",
       "      <td>2013106838</td>\n",
       "      <td>NaT</td>\n",
       "      <td>2020-06-09 11:54:02.852</td>\n",
       "      <td>2021-07-21 15:33:45.000</td>\n",
       "      <td>20201014993.0</td>\n",
       "      <td>ALUNO DE PÓS-GRADUAÇÃO</td>\n",
       "      <td>1099777.0</td>\n",
       "      <td>Acervo Circulante</td>\n",
       "      <td>Biblioteca Central Zila Mamede</td>\n",
       "      <td>REGULAR</td>\n",
       "      <td>14.0</td>\n",
       "      <td>Filosofia e psicologia</td>\n",
       "      <td>2020</td>\n",
       "      <td>6</td>\n",
       "      <td>6</td>\n",
       "      <td>11</td>\n",
       "      <td>Tuesday</td>\n",
       "    </tr>\n",
       "  </tbody>\n",
       "</table>\n",
       "<p>2072558 rows × 18 columns</p>\n",
       "</div>"
      ],
      "text/plain": [
       "         id_emprestimo codigo_barras          data_renovacao  \\\n",
       "0               709684       L095049                     NaT   \n",
       "1               709685       L167050                     NaT   \n",
       "2               709686    2006017618 2010-01-26 08:07:01.738   \n",
       "3               709687       L184117 2010-01-18 11:07:46.470   \n",
       "4               709684       L095049                     NaT   \n",
       "...                ...           ...                     ...   \n",
       "2261811        2989086    2008047044                     NaT   \n",
       "2261812        2989087    2008047047                     NaT   \n",
       "2261813        2989088    2010052905                     NaT   \n",
       "2261814        2989089    2010048023                     NaT   \n",
       "2261815        2989090    2013106838                     NaT   \n",
       "\n",
       "                data_emprestimo          data_devolucao matricula_ou_siape  \\\n",
       "0       2010-01-04 07:44:10.721 2010-01-05 16:26:12.662       2008023265.0   \n",
       "1       2010-01-04 07:44:10.750 2010-01-12 07:34:13.934       2008023265.0   \n",
       "2       2010-01-04 08:08:44.081 2010-02-25 07:36:25.800       2008112114.0   \n",
       "3       2010-01-04 08:24:21.284 2010-02-03 08:58:45.692        200721119.0   \n",
       "4       2010-01-04 07:44:10.721 2010-01-05 16:26:12.662       2008023265.0   \n",
       "...                         ...                     ...                ...   \n",
       "2261811 2020-05-05 19:51:06.059 2021-05-13 14:53:31.000          3067431.0   \n",
       "2261812 2020-05-05 19:51:06.135 2021-05-13 14:53:38.000          3067431.0   \n",
       "2261813 2020-05-05 19:51:06.164 2021-05-13 15:01:46.000          3067431.0   \n",
       "2261814 2020-06-09 11:54:02.669 2021-07-21 15:33:55.000      20201014993.0   \n",
       "2261815 2020-06-09 11:54:02.852 2021-07-21 15:33:45.000      20201014993.0   \n",
       "\n",
       "                    tipo_vinculo_usuario  id_exemplar            colecao  \\\n",
       "0                     ALUNO DE GRADUAÇÃO      13259.0  Acervo Circulante   \n",
       "1                     ALUNO DE GRADUAÇÃO      70865.0  Acervo Circulante   \n",
       "2                 ALUNO DE PÓS-GRADUAÇÃO     195347.0  Acervo Circulante   \n",
       "3                     ALUNO DE GRADUAÇÃO     131639.0  Acervo Circulante   \n",
       "4                     ALUNO DE GRADUAÇÃO      13259.0  Acervo Circulante   \n",
       "...                                  ...          ...                ...   \n",
       "2261811  SERVIDOR TÉCNICO-ADMINISTRATIVO     256297.0  Acervo Circulante   \n",
       "2261812  SERVIDOR TÉCNICO-ADMINISTRATIVO     256406.0  Acervo Circulante   \n",
       "2261813  SERVIDOR TÉCNICO-ADMINISTRATIVO     807821.0  Acervo Circulante   \n",
       "2261814           ALUNO DE PÓS-GRADUAÇÃO     804885.0  Acervo Circulante   \n",
       "2261815           ALUNO DE PÓS-GRADUAÇÃO    1099777.0  Acervo Circulante   \n",
       "\n",
       "                                                biblioteca status_material  \\\n",
       "0                           Biblioteca Central Zila Mamede         REGULAR   \n",
       "1                           Biblioteca Central Zila Mamede         REGULAR   \n",
       "2        Biblioteca Setorial Prof. Rodolfo Helinski - E...         REGULAR   \n",
       "3                           Biblioteca Central Zila Mamede         REGULAR   \n",
       "4                           Biblioteca Central Zila Mamede         REGULAR   \n",
       "...                                                    ...             ...   \n",
       "2261811  Biblioteca Setorial da Faculdade de Ciências d...         REGULAR   \n",
       "2261812  Biblioteca Setorial da Faculdade de Ciências d...         REGULAR   \n",
       "2261813  Biblioteca Setorial da Faculdade de Ciências d...         REGULAR   \n",
       "2261814                     Biblioteca Central Zila Mamede         REGULAR   \n",
       "2261815                     Biblioteca Central Zila Mamede         REGULAR   \n",
       "\n",
       "         localizacao           Classificação  Ano_emprestimo  \\\n",
       "0              630.0      Ciências aplicadas            2010   \n",
       "1              647.0      Ciências aplicadas            2010   \n",
       "2              640.0      Ciências aplicadas            2010   \n",
       "3              609.0      Ciências aplicadas            2010   \n",
       "4              630.0      Ciências aplicadas            2010   \n",
       "...              ...                     ...             ...   \n",
       "2261811        684.0      Ciências aplicadas            2020   \n",
       "2261812        628.0      Ciências aplicadas            2020   \n",
       "2261813        653.0      Ciências aplicadas            2020   \n",
       "2261814        675.0      Ciências aplicadas            2020   \n",
       "2261815         14.0  Filosofia e psicologia            2020   \n",
       "\n",
       "         Mes_emprestimo_ext  Mes_emprestimo  Hora_emprestimo dia_emprestimo  \n",
       "0                         1               1                7         Monday  \n",
       "1                         1               1                7         Monday  \n",
       "2                         1               1                8         Monday  \n",
       "3                         1               1                8         Monday  \n",
       "4                         1               1                7         Monday  \n",
       "...                     ...             ...              ...            ...  \n",
       "2261811                   5               5               19        Tuesday  \n",
       "2261812                   5               5               19        Tuesday  \n",
       "2261813                   5               5               19        Tuesday  \n",
       "2261814                   6               6               11        Tuesday  \n",
       "2261815                   6               6               11        Tuesday  \n",
       "\n",
       "[2072558 rows x 18 columns]"
      ]
     },
     "execution_count": 157,
     "metadata": {},
     "output_type": "execute_result"
    }
   ],
   "source": [
    "df_limpo['Hora_emprestimo'] = df_limpo['data_emprestimo'].dt.hour\n",
    "df_limpo['dia_emprestimo'] = df_limpo['data_emprestimo'].dt.day_name()\n",
    "df_limpo"
   ]
  },
  {
   "cell_type": "code",
   "execution_count": 164,
   "id": "6883a42d",
   "metadata": {},
   "outputs": [
    {
     "data": {
      "application/vnd.microsoft.datawrangler.viewer.v0+json": {
       "columns": [
        {
         "name": "index",
         "rawType": "int64",
         "type": "integer"
        },
        {
         "name": "Hora_emprestimo",
         "rawType": "int32",
         "type": "integer"
        },
        {
         "name": "id_emprestimo",
         "rawType": "int64",
         "type": "integer"
        }
       ],
       "ref": "3a9a5782-8112-48b4-b8ff-685a5cefd86e",
       "rows": [
        [
         "0",
         "0",
         "17"
        ],
        [
         "1",
         "6",
         "14"
        ],
        [
         "2",
         "7",
         "18779"
        ],
        [
         "3",
         "8",
         "103420"
        ],
        [
         "4",
         "9",
         "131287"
        ],
        [
         "5",
         "10",
         "185847"
        ],
        [
         "6",
         "11",
         "180056"
        ],
        [
         "7",
         "12",
         "148754"
        ],
        [
         "8",
         "13",
         "126987"
        ],
        [
         "9",
         "14",
         "150876"
        ],
        [
         "10",
         "15",
         "166672"
        ],
        [
         "11",
         "16",
         "210655"
        ],
        [
         "12",
         "17",
         "185340"
        ],
        [
         "13",
         "18",
         "182520"
        ],
        [
         "14",
         "19",
         "102129"
        ],
        [
         "15",
         "20",
         "127716"
        ],
        [
         "16",
         "21",
         "51191"
        ],
        [
         "17",
         "22",
         "247"
        ],
        [
         "18",
         "23",
         "51"
        ]
       ],
       "shape": {
        "columns": 2,
        "rows": 19
       }
      },
      "text/html": [
       "<div>\n",
       "<style scoped>\n",
       "    .dataframe tbody tr th:only-of-type {\n",
       "        vertical-align: middle;\n",
       "    }\n",
       "\n",
       "    .dataframe tbody tr th {\n",
       "        vertical-align: top;\n",
       "    }\n",
       "\n",
       "    .dataframe thead th {\n",
       "        text-align: right;\n",
       "    }\n",
       "</style>\n",
       "<table border=\"1\" class=\"dataframe\">\n",
       "  <thead>\n",
       "    <tr style=\"text-align: right;\">\n",
       "      <th></th>\n",
       "      <th>Hora_emprestimo</th>\n",
       "      <th>id_emprestimo</th>\n",
       "    </tr>\n",
       "  </thead>\n",
       "  <tbody>\n",
       "    <tr>\n",
       "      <th>0</th>\n",
       "      <td>0</td>\n",
       "      <td>17</td>\n",
       "    </tr>\n",
       "    <tr>\n",
       "      <th>1</th>\n",
       "      <td>6</td>\n",
       "      <td>14</td>\n",
       "    </tr>\n",
       "    <tr>\n",
       "      <th>2</th>\n",
       "      <td>7</td>\n",
       "      <td>18779</td>\n",
       "    </tr>\n",
       "    <tr>\n",
       "      <th>3</th>\n",
       "      <td>8</td>\n",
       "      <td>103420</td>\n",
       "    </tr>\n",
       "    <tr>\n",
       "      <th>4</th>\n",
       "      <td>9</td>\n",
       "      <td>131287</td>\n",
       "    </tr>\n",
       "    <tr>\n",
       "      <th>5</th>\n",
       "      <td>10</td>\n",
       "      <td>185847</td>\n",
       "    </tr>\n",
       "    <tr>\n",
       "      <th>6</th>\n",
       "      <td>11</td>\n",
       "      <td>180056</td>\n",
       "    </tr>\n",
       "    <tr>\n",
       "      <th>7</th>\n",
       "      <td>12</td>\n",
       "      <td>148754</td>\n",
       "    </tr>\n",
       "    <tr>\n",
       "      <th>8</th>\n",
       "      <td>13</td>\n",
       "      <td>126987</td>\n",
       "    </tr>\n",
       "    <tr>\n",
       "      <th>9</th>\n",
       "      <td>14</td>\n",
       "      <td>150876</td>\n",
       "    </tr>\n",
       "    <tr>\n",
       "      <th>10</th>\n",
       "      <td>15</td>\n",
       "      <td>166672</td>\n",
       "    </tr>\n",
       "    <tr>\n",
       "      <th>11</th>\n",
       "      <td>16</td>\n",
       "      <td>210655</td>\n",
       "    </tr>\n",
       "    <tr>\n",
       "      <th>12</th>\n",
       "      <td>17</td>\n",
       "      <td>185340</td>\n",
       "    </tr>\n",
       "    <tr>\n",
       "      <th>13</th>\n",
       "      <td>18</td>\n",
       "      <td>182520</td>\n",
       "    </tr>\n",
       "    <tr>\n",
       "      <th>14</th>\n",
       "      <td>19</td>\n",
       "      <td>102129</td>\n",
       "    </tr>\n",
       "    <tr>\n",
       "      <th>15</th>\n",
       "      <td>20</td>\n",
       "      <td>127716</td>\n",
       "    </tr>\n",
       "    <tr>\n",
       "      <th>16</th>\n",
       "      <td>21</td>\n",
       "      <td>51191</td>\n",
       "    </tr>\n",
       "    <tr>\n",
       "      <th>17</th>\n",
       "      <td>22</td>\n",
       "      <td>247</td>\n",
       "    </tr>\n",
       "    <tr>\n",
       "      <th>18</th>\n",
       "      <td>23</td>\n",
       "      <td>51</td>\n",
       "    </tr>\n",
       "  </tbody>\n",
       "</table>\n",
       "</div>"
      ],
      "text/plain": [
       "    Hora_emprestimo  id_emprestimo\n",
       "0                 0             17\n",
       "1                 6             14\n",
       "2                 7          18779\n",
       "3                 8         103420\n",
       "4                 9         131287\n",
       "5                10         185847\n",
       "6                11         180056\n",
       "7                12         148754\n",
       "8                13         126987\n",
       "9                14         150876\n",
       "10               15         166672\n",
       "11               16         210655\n",
       "12               17         185340\n",
       "13               18         182520\n",
       "14               19         102129\n",
       "15               20         127716\n",
       "16               21          51191\n",
       "17               22            247\n",
       "18               23             51"
      ]
     },
     "execution_count": 164,
     "metadata": {},
     "output_type": "execute_result"
    }
   ],
   "source": [
    "emprestimos_Hora = df_limpo.groupby(['Hora_emprestimo'])['id_emprestimo'].count().reset_index()\n",
    "emprestimos_Hora"
   ]
  },
  {
   "cell_type": "code",
   "execution_count": 190,
   "id": "ca1b1ed7",
   "metadata": {},
   "outputs": [
    {
     "data": {
      "application/vnd.plotly.v1+json": {
       "config": {
        "plotlyServerURL": "https://plot.ly"
       },
       "data": [
        {
         "alignmentgroup": "True",
         "hovertemplate": "Hora_emprestimo=%{x}<br>id_emprestimo=%{y}<extra></extra>",
         "legendgroup": "",
         "marker": {
          "color": "#636efa",
          "pattern": {
           "shape": ""
          }
         },
         "name": "",
         "offsetgroup": "",
         "orientation": "v",
         "showlegend": false,
         "textposition": "auto",
         "type": "bar",
         "x": [
          0,
          6,
          7,
          8,
          9,
          10,
          11,
          12,
          13,
          14,
          15,
          16,
          17,
          18,
          19,
          20,
          21,
          22,
          23
         ],
         "xaxis": "x",
         "y": [
          17,
          14,
          18779,
          103420,
          131287,
          185847,
          180056,
          148754,
          126987,
          150876,
          166672,
          210655,
          185340,
          182520,
          102129,
          127716,
          51191,
          247,
          51
         ],
         "yaxis": "y"
        }
       ],
       "layout": {
        "barmode": "relative",
        "legend": {
         "tracegroupgap": 0
        },
        "template": {
         "data": {
          "bar": [
           {
            "error_x": {
             "color": "#2a3f5f"
            },
            "error_y": {
             "color": "#2a3f5f"
            },
            "marker": {
             "line": {
              "color": "#E5ECF6",
              "width": 0.5
             },
             "pattern": {
              "fillmode": "overlay",
              "size": 10,
              "solidity": 0.2
             }
            },
            "type": "bar"
           }
          ],
          "barpolar": [
           {
            "marker": {
             "line": {
              "color": "#E5ECF6",
              "width": 0.5
             },
             "pattern": {
              "fillmode": "overlay",
              "size": 10,
              "solidity": 0.2
             }
            },
            "type": "barpolar"
           }
          ],
          "carpet": [
           {
            "aaxis": {
             "endlinecolor": "#2a3f5f",
             "gridcolor": "white",
             "linecolor": "white",
             "minorgridcolor": "white",
             "startlinecolor": "#2a3f5f"
            },
            "baxis": {
             "endlinecolor": "#2a3f5f",
             "gridcolor": "white",
             "linecolor": "white",
             "minorgridcolor": "white",
             "startlinecolor": "#2a3f5f"
            },
            "type": "carpet"
           }
          ],
          "choropleth": [
           {
            "colorbar": {
             "outlinewidth": 0,
             "ticks": ""
            },
            "type": "choropleth"
           }
          ],
          "contour": [
           {
            "colorbar": {
             "outlinewidth": 0,
             "ticks": ""
            },
            "colorscale": [
             [
              0,
              "#0d0887"
             ],
             [
              0.1111111111111111,
              "#46039f"
             ],
             [
              0.2222222222222222,
              "#7201a8"
             ],
             [
              0.3333333333333333,
              "#9c179e"
             ],
             [
              0.4444444444444444,
              "#bd3786"
             ],
             [
              0.5555555555555556,
              "#d8576b"
             ],
             [
              0.6666666666666666,
              "#ed7953"
             ],
             [
              0.7777777777777778,
              "#fb9f3a"
             ],
             [
              0.8888888888888888,
              "#fdca26"
             ],
             [
              1,
              "#f0f921"
             ]
            ],
            "type": "contour"
           }
          ],
          "contourcarpet": [
           {
            "colorbar": {
             "outlinewidth": 0,
             "ticks": ""
            },
            "type": "contourcarpet"
           }
          ],
          "heatmap": [
           {
            "colorbar": {
             "outlinewidth": 0,
             "ticks": ""
            },
            "colorscale": [
             [
              0,
              "#0d0887"
             ],
             [
              0.1111111111111111,
              "#46039f"
             ],
             [
              0.2222222222222222,
              "#7201a8"
             ],
             [
              0.3333333333333333,
              "#9c179e"
             ],
             [
              0.4444444444444444,
              "#bd3786"
             ],
             [
              0.5555555555555556,
              "#d8576b"
             ],
             [
              0.6666666666666666,
              "#ed7953"
             ],
             [
              0.7777777777777778,
              "#fb9f3a"
             ],
             [
              0.8888888888888888,
              "#fdca26"
             ],
             [
              1,
              "#f0f921"
             ]
            ],
            "type": "heatmap"
           }
          ],
          "heatmapgl": [
           {
            "colorbar": {
             "outlinewidth": 0,
             "ticks": ""
            },
            "colorscale": [
             [
              0,
              "#0d0887"
             ],
             [
              0.1111111111111111,
              "#46039f"
             ],
             [
              0.2222222222222222,
              "#7201a8"
             ],
             [
              0.3333333333333333,
              "#9c179e"
             ],
             [
              0.4444444444444444,
              "#bd3786"
             ],
             [
              0.5555555555555556,
              "#d8576b"
             ],
             [
              0.6666666666666666,
              "#ed7953"
             ],
             [
              0.7777777777777778,
              "#fb9f3a"
             ],
             [
              0.8888888888888888,
              "#fdca26"
             ],
             [
              1,
              "#f0f921"
             ]
            ],
            "type": "heatmapgl"
           }
          ],
          "histogram": [
           {
            "marker": {
             "pattern": {
              "fillmode": "overlay",
              "size": 10,
              "solidity": 0.2
             }
            },
            "type": "histogram"
           }
          ],
          "histogram2d": [
           {
            "colorbar": {
             "outlinewidth": 0,
             "ticks": ""
            },
            "colorscale": [
             [
              0,
              "#0d0887"
             ],
             [
              0.1111111111111111,
              "#46039f"
             ],
             [
              0.2222222222222222,
              "#7201a8"
             ],
             [
              0.3333333333333333,
              "#9c179e"
             ],
             [
              0.4444444444444444,
              "#bd3786"
             ],
             [
              0.5555555555555556,
              "#d8576b"
             ],
             [
              0.6666666666666666,
              "#ed7953"
             ],
             [
              0.7777777777777778,
              "#fb9f3a"
             ],
             [
              0.8888888888888888,
              "#fdca26"
             ],
             [
              1,
              "#f0f921"
             ]
            ],
            "type": "histogram2d"
           }
          ],
          "histogram2dcontour": [
           {
            "colorbar": {
             "outlinewidth": 0,
             "ticks": ""
            },
            "colorscale": [
             [
              0,
              "#0d0887"
             ],
             [
              0.1111111111111111,
              "#46039f"
             ],
             [
              0.2222222222222222,
              "#7201a8"
             ],
             [
              0.3333333333333333,
              "#9c179e"
             ],
             [
              0.4444444444444444,
              "#bd3786"
             ],
             [
              0.5555555555555556,
              "#d8576b"
             ],
             [
              0.6666666666666666,
              "#ed7953"
             ],
             [
              0.7777777777777778,
              "#fb9f3a"
             ],
             [
              0.8888888888888888,
              "#fdca26"
             ],
             [
              1,
              "#f0f921"
             ]
            ],
            "type": "histogram2dcontour"
           }
          ],
          "mesh3d": [
           {
            "colorbar": {
             "outlinewidth": 0,
             "ticks": ""
            },
            "type": "mesh3d"
           }
          ],
          "parcoords": [
           {
            "line": {
             "colorbar": {
              "outlinewidth": 0,
              "ticks": ""
             }
            },
            "type": "parcoords"
           }
          ],
          "pie": [
           {
            "automargin": true,
            "type": "pie"
           }
          ],
          "scatter": [
           {
            "fillpattern": {
             "fillmode": "overlay",
             "size": 10,
             "solidity": 0.2
            },
            "type": "scatter"
           }
          ],
          "scatter3d": [
           {
            "line": {
             "colorbar": {
              "outlinewidth": 0,
              "ticks": ""
             }
            },
            "marker": {
             "colorbar": {
              "outlinewidth": 0,
              "ticks": ""
             }
            },
            "type": "scatter3d"
           }
          ],
          "scattercarpet": [
           {
            "marker": {
             "colorbar": {
              "outlinewidth": 0,
              "ticks": ""
             }
            },
            "type": "scattercarpet"
           }
          ],
          "scattergeo": [
           {
            "marker": {
             "colorbar": {
              "outlinewidth": 0,
              "ticks": ""
             }
            },
            "type": "scattergeo"
           }
          ],
          "scattergl": [
           {
            "marker": {
             "colorbar": {
              "outlinewidth": 0,
              "ticks": ""
             }
            },
            "type": "scattergl"
           }
          ],
          "scattermapbox": [
           {
            "marker": {
             "colorbar": {
              "outlinewidth": 0,
              "ticks": ""
             }
            },
            "type": "scattermapbox"
           }
          ],
          "scatterpolar": [
           {
            "marker": {
             "colorbar": {
              "outlinewidth": 0,
              "ticks": ""
             }
            },
            "type": "scatterpolar"
           }
          ],
          "scatterpolargl": [
           {
            "marker": {
             "colorbar": {
              "outlinewidth": 0,
              "ticks": ""
             }
            },
            "type": "scatterpolargl"
           }
          ],
          "scatterternary": [
           {
            "marker": {
             "colorbar": {
              "outlinewidth": 0,
              "ticks": ""
             }
            },
            "type": "scatterternary"
           }
          ],
          "surface": [
           {
            "colorbar": {
             "outlinewidth": 0,
             "ticks": ""
            },
            "colorscale": [
             [
              0,
              "#0d0887"
             ],
             [
              0.1111111111111111,
              "#46039f"
             ],
             [
              0.2222222222222222,
              "#7201a8"
             ],
             [
              0.3333333333333333,
              "#9c179e"
             ],
             [
              0.4444444444444444,
              "#bd3786"
             ],
             [
              0.5555555555555556,
              "#d8576b"
             ],
             [
              0.6666666666666666,
              "#ed7953"
             ],
             [
              0.7777777777777778,
              "#fb9f3a"
             ],
             [
              0.8888888888888888,
              "#fdca26"
             ],
             [
              1,
              "#f0f921"
             ]
            ],
            "type": "surface"
           }
          ],
          "table": [
           {
            "cells": {
             "fill": {
              "color": "#EBF0F8"
             },
             "line": {
              "color": "white"
             }
            },
            "header": {
             "fill": {
              "color": "#C8D4E3"
             },
             "line": {
              "color": "white"
             }
            },
            "type": "table"
           }
          ]
         },
         "layout": {
          "annotationdefaults": {
           "arrowcolor": "#2a3f5f",
           "arrowhead": 0,
           "arrowwidth": 1
          },
          "autotypenumbers": "strict",
          "coloraxis": {
           "colorbar": {
            "outlinewidth": 0,
            "ticks": ""
           }
          },
          "colorscale": {
           "diverging": [
            [
             0,
             "#8e0152"
            ],
            [
             0.1,
             "#c51b7d"
            ],
            [
             0.2,
             "#de77ae"
            ],
            [
             0.3,
             "#f1b6da"
            ],
            [
             0.4,
             "#fde0ef"
            ],
            [
             0.5,
             "#f7f7f7"
            ],
            [
             0.6,
             "#e6f5d0"
            ],
            [
             0.7,
             "#b8e186"
            ],
            [
             0.8,
             "#7fbc41"
            ],
            [
             0.9,
             "#4d9221"
            ],
            [
             1,
             "#276419"
            ]
           ],
           "sequential": [
            [
             0,
             "#0d0887"
            ],
            [
             0.1111111111111111,
             "#46039f"
            ],
            [
             0.2222222222222222,
             "#7201a8"
            ],
            [
             0.3333333333333333,
             "#9c179e"
            ],
            [
             0.4444444444444444,
             "#bd3786"
            ],
            [
             0.5555555555555556,
             "#d8576b"
            ],
            [
             0.6666666666666666,
             "#ed7953"
            ],
            [
             0.7777777777777778,
             "#fb9f3a"
            ],
            [
             0.8888888888888888,
             "#fdca26"
            ],
            [
             1,
             "#f0f921"
            ]
           ],
           "sequentialminus": [
            [
             0,
             "#0d0887"
            ],
            [
             0.1111111111111111,
             "#46039f"
            ],
            [
             0.2222222222222222,
             "#7201a8"
            ],
            [
             0.3333333333333333,
             "#9c179e"
            ],
            [
             0.4444444444444444,
             "#bd3786"
            ],
            [
             0.5555555555555556,
             "#d8576b"
            ],
            [
             0.6666666666666666,
             "#ed7953"
            ],
            [
             0.7777777777777778,
             "#fb9f3a"
            ],
            [
             0.8888888888888888,
             "#fdca26"
            ],
            [
             1,
             "#f0f921"
            ]
           ]
          },
          "colorway": [
           "#636efa",
           "#EF553B",
           "#00cc96",
           "#ab63fa",
           "#FFA15A",
           "#19d3f3",
           "#FF6692",
           "#B6E880",
           "#FF97FF",
           "#FECB52"
          ],
          "font": {
           "color": "#2a3f5f"
          },
          "geo": {
           "bgcolor": "white",
           "lakecolor": "white",
           "landcolor": "#E5ECF6",
           "showlakes": true,
           "showland": true,
           "subunitcolor": "white"
          },
          "hoverlabel": {
           "align": "left"
          },
          "hovermode": "closest",
          "mapbox": {
           "style": "light"
          },
          "paper_bgcolor": "white",
          "plot_bgcolor": "#E5ECF6",
          "polar": {
           "angularaxis": {
            "gridcolor": "white",
            "linecolor": "white",
            "ticks": ""
           },
           "bgcolor": "#E5ECF6",
           "radialaxis": {
            "gridcolor": "white",
            "linecolor": "white",
            "ticks": ""
           }
          },
          "scene": {
           "xaxis": {
            "backgroundcolor": "#E5ECF6",
            "gridcolor": "white",
            "gridwidth": 2,
            "linecolor": "white",
            "showbackground": true,
            "ticks": "",
            "zerolinecolor": "white"
           },
           "yaxis": {
            "backgroundcolor": "#E5ECF6",
            "gridcolor": "white",
            "gridwidth": 2,
            "linecolor": "white",
            "showbackground": true,
            "ticks": "",
            "zerolinecolor": "white"
           },
           "zaxis": {
            "backgroundcolor": "#E5ECF6",
            "gridcolor": "white",
            "gridwidth": 2,
            "linecolor": "white",
            "showbackground": true,
            "ticks": "",
            "zerolinecolor": "white"
           }
          },
          "shapedefaults": {
           "line": {
            "color": "#2a3f5f"
           }
          },
          "ternary": {
           "aaxis": {
            "gridcolor": "white",
            "linecolor": "white",
            "ticks": ""
           },
           "baxis": {
            "gridcolor": "white",
            "linecolor": "white",
            "ticks": ""
           },
           "bgcolor": "#E5ECF6",
           "caxis": {
            "gridcolor": "white",
            "linecolor": "white",
            "ticks": ""
           }
          },
          "title": {
           "x": 0.05
          },
          "xaxis": {
           "automargin": true,
           "gridcolor": "white",
           "linecolor": "white",
           "ticks": "",
           "title": {
            "standoff": 15
           },
           "zerolinecolor": "white",
           "zerolinewidth": 2
          },
          "yaxis": {
           "automargin": true,
           "gridcolor": "white",
           "linecolor": "white",
           "ticks": "",
           "title": {
            "standoff": 15
           },
           "zerolinecolor": "white",
           "zerolinewidth": 2
          }
         }
        },
        "title": {
         "text": "Emprestimos por hora"
        },
        "xaxis": {
         "anchor": "y",
         "domain": [
          0,
          1
         ],
         "dtick": 1,
         "title": {
          "text": "Horas"
         }
        },
        "yaxis": {
         "anchor": "x",
         "domain": [
          0,
          1
         ],
         "title": {
          "text": "Quantidade"
         }
        }
       }
      }
     },
     "metadata": {},
     "output_type": "display_data"
    }
   ],
   "source": [
    "grafico = px.bar(emprestimos_Hora,x='Hora_emprestimo',y='id_emprestimo', title='Emprestimos por hora')\n",
    "grafico.update_layout(xaxis = dict(title = 'Horas', dtick = 1), yaxis_title = 'Quantidade') # Usando o dtick para forçar exibir todos os itens de x\n",
    "grafico.show()"
   ]
  },
  {
   "cell_type": "markdown",
   "id": "ac7d4917",
   "metadata": {},
   "source": [
    "Análise\n",
    "\n",
    "Os melhores horários para outras atividades seria até as 10 da manha, e após as 19 da noite."
   ]
  },
  {
   "cell_type": "markdown",
   "id": "af3c2260",
   "metadata": {},
   "source": [
    "### Meses de maior demanda\n",
    "\n",
    "Há uma suspeita interna de que os meses com maior número de exemplares emprestados sejam março e setembro, mas não foi realizada uma análise real sobre isso.\n",
    "\n",
    "Portanto, gere uma tabela com a quantidade total de exemplares emprestados por mês e descubra quais meses são os que possuem a maior quantidade de empréstimos realizados. Plote um gráfico de linhas."
   ]
  },
  {
   "cell_type": "code",
   "execution_count": null,
   "id": "fa3129a3",
   "metadata": {},
   "outputs": [
    {
     "data": {
      "application/vnd.plotly.v1+json": {
       "config": {
        "plotlyServerURL": "https://plot.ly"
       },
       "data": [
        {
         "hovertemplate": "=%{x}<br>Quantidade=%{y}<extra></extra>",
         "legendgroup": "",
         "line": {
          "color": "#636efa",
          "dash": "solid"
         },
         "marker": {
          "symbol": "circle"
         },
         "mode": "lines",
         "name": "",
         "orientation": "v",
         "showlegend": false,
         "type": "scatter",
         "x": [
          "Jan",
          "Fev",
          "Mar",
          "Abr",
          "Mai",
          "Jun",
          "Jul",
          "Ago",
          "Set",
          "Out",
          "Nov",
          "Dez"
         ],
         "xaxis": "x",
         "y": [
          67542,
          210200,
          252185,
          208725,
          202530,
          138131,
          123790,
          232793,
          208234,
          188410,
          164222,
          75796
         ],
         "yaxis": "y"
        }
       ],
       "layout": {
        "legend": {
         "tracegroupgap": 0
        },
        "template": {
         "data": {
          "bar": [
           {
            "error_x": {
             "color": "#2a3f5f"
            },
            "error_y": {
             "color": "#2a3f5f"
            },
            "marker": {
             "line": {
              "color": "#E5ECF6",
              "width": 0.5
             },
             "pattern": {
              "fillmode": "overlay",
              "size": 10,
              "solidity": 0.2
             }
            },
            "type": "bar"
           }
          ],
          "barpolar": [
           {
            "marker": {
             "line": {
              "color": "#E5ECF6",
              "width": 0.5
             },
             "pattern": {
              "fillmode": "overlay",
              "size": 10,
              "solidity": 0.2
             }
            },
            "type": "barpolar"
           }
          ],
          "carpet": [
           {
            "aaxis": {
             "endlinecolor": "#2a3f5f",
             "gridcolor": "white",
             "linecolor": "white",
             "minorgridcolor": "white",
             "startlinecolor": "#2a3f5f"
            },
            "baxis": {
             "endlinecolor": "#2a3f5f",
             "gridcolor": "white",
             "linecolor": "white",
             "minorgridcolor": "white",
             "startlinecolor": "#2a3f5f"
            },
            "type": "carpet"
           }
          ],
          "choropleth": [
           {
            "colorbar": {
             "outlinewidth": 0,
             "ticks": ""
            },
            "type": "choropleth"
           }
          ],
          "contour": [
           {
            "colorbar": {
             "outlinewidth": 0,
             "ticks": ""
            },
            "colorscale": [
             [
              0,
              "#0d0887"
             ],
             [
              0.1111111111111111,
              "#46039f"
             ],
             [
              0.2222222222222222,
              "#7201a8"
             ],
             [
              0.3333333333333333,
              "#9c179e"
             ],
             [
              0.4444444444444444,
              "#bd3786"
             ],
             [
              0.5555555555555556,
              "#d8576b"
             ],
             [
              0.6666666666666666,
              "#ed7953"
             ],
             [
              0.7777777777777778,
              "#fb9f3a"
             ],
             [
              0.8888888888888888,
              "#fdca26"
             ],
             [
              1,
              "#f0f921"
             ]
            ],
            "type": "contour"
           }
          ],
          "contourcarpet": [
           {
            "colorbar": {
             "outlinewidth": 0,
             "ticks": ""
            },
            "type": "contourcarpet"
           }
          ],
          "heatmap": [
           {
            "colorbar": {
             "outlinewidth": 0,
             "ticks": ""
            },
            "colorscale": [
             [
              0,
              "#0d0887"
             ],
             [
              0.1111111111111111,
              "#46039f"
             ],
             [
              0.2222222222222222,
              "#7201a8"
             ],
             [
              0.3333333333333333,
              "#9c179e"
             ],
             [
              0.4444444444444444,
              "#bd3786"
             ],
             [
              0.5555555555555556,
              "#d8576b"
             ],
             [
              0.6666666666666666,
              "#ed7953"
             ],
             [
              0.7777777777777778,
              "#fb9f3a"
             ],
             [
              0.8888888888888888,
              "#fdca26"
             ],
             [
              1,
              "#f0f921"
             ]
            ],
            "type": "heatmap"
           }
          ],
          "heatmapgl": [
           {
            "colorbar": {
             "outlinewidth": 0,
             "ticks": ""
            },
            "colorscale": [
             [
              0,
              "#0d0887"
             ],
             [
              0.1111111111111111,
              "#46039f"
             ],
             [
              0.2222222222222222,
              "#7201a8"
             ],
             [
              0.3333333333333333,
              "#9c179e"
             ],
             [
              0.4444444444444444,
              "#bd3786"
             ],
             [
              0.5555555555555556,
              "#d8576b"
             ],
             [
              0.6666666666666666,
              "#ed7953"
             ],
             [
              0.7777777777777778,
              "#fb9f3a"
             ],
             [
              0.8888888888888888,
              "#fdca26"
             ],
             [
              1,
              "#f0f921"
             ]
            ],
            "type": "heatmapgl"
           }
          ],
          "histogram": [
           {
            "marker": {
             "pattern": {
              "fillmode": "overlay",
              "size": 10,
              "solidity": 0.2
             }
            },
            "type": "histogram"
           }
          ],
          "histogram2d": [
           {
            "colorbar": {
             "outlinewidth": 0,
             "ticks": ""
            },
            "colorscale": [
             [
              0,
              "#0d0887"
             ],
             [
              0.1111111111111111,
              "#46039f"
             ],
             [
              0.2222222222222222,
              "#7201a8"
             ],
             [
              0.3333333333333333,
              "#9c179e"
             ],
             [
              0.4444444444444444,
              "#bd3786"
             ],
             [
              0.5555555555555556,
              "#d8576b"
             ],
             [
              0.6666666666666666,
              "#ed7953"
             ],
             [
              0.7777777777777778,
              "#fb9f3a"
             ],
             [
              0.8888888888888888,
              "#fdca26"
             ],
             [
              1,
              "#f0f921"
             ]
            ],
            "type": "histogram2d"
           }
          ],
          "histogram2dcontour": [
           {
            "colorbar": {
             "outlinewidth": 0,
             "ticks": ""
            },
            "colorscale": [
             [
              0,
              "#0d0887"
             ],
             [
              0.1111111111111111,
              "#46039f"
             ],
             [
              0.2222222222222222,
              "#7201a8"
             ],
             [
              0.3333333333333333,
              "#9c179e"
             ],
             [
              0.4444444444444444,
              "#bd3786"
             ],
             [
              0.5555555555555556,
              "#d8576b"
             ],
             [
              0.6666666666666666,
              "#ed7953"
             ],
             [
              0.7777777777777778,
              "#fb9f3a"
             ],
             [
              0.8888888888888888,
              "#fdca26"
             ],
             [
              1,
              "#f0f921"
             ]
            ],
            "type": "histogram2dcontour"
           }
          ],
          "mesh3d": [
           {
            "colorbar": {
             "outlinewidth": 0,
             "ticks": ""
            },
            "type": "mesh3d"
           }
          ],
          "parcoords": [
           {
            "line": {
             "colorbar": {
              "outlinewidth": 0,
              "ticks": ""
             }
            },
            "type": "parcoords"
           }
          ],
          "pie": [
           {
            "automargin": true,
            "type": "pie"
           }
          ],
          "scatter": [
           {
            "fillpattern": {
             "fillmode": "overlay",
             "size": 10,
             "solidity": 0.2
            },
            "type": "scatter"
           }
          ],
          "scatter3d": [
           {
            "line": {
             "colorbar": {
              "outlinewidth": 0,
              "ticks": ""
             }
            },
            "marker": {
             "colorbar": {
              "outlinewidth": 0,
              "ticks": ""
             }
            },
            "type": "scatter3d"
           }
          ],
          "scattercarpet": [
           {
            "marker": {
             "colorbar": {
              "outlinewidth": 0,
              "ticks": ""
             }
            },
            "type": "scattercarpet"
           }
          ],
          "scattergeo": [
           {
            "marker": {
             "colorbar": {
              "outlinewidth": 0,
              "ticks": ""
             }
            },
            "type": "scattergeo"
           }
          ],
          "scattergl": [
           {
            "marker": {
             "colorbar": {
              "outlinewidth": 0,
              "ticks": ""
             }
            },
            "type": "scattergl"
           }
          ],
          "scattermapbox": [
           {
            "marker": {
             "colorbar": {
              "outlinewidth": 0,
              "ticks": ""
             }
            },
            "type": "scattermapbox"
           }
          ],
          "scatterpolar": [
           {
            "marker": {
             "colorbar": {
              "outlinewidth": 0,
              "ticks": ""
             }
            },
            "type": "scatterpolar"
           }
          ],
          "scatterpolargl": [
           {
            "marker": {
             "colorbar": {
              "outlinewidth": 0,
              "ticks": ""
             }
            },
            "type": "scatterpolargl"
           }
          ],
          "scatterternary": [
           {
            "marker": {
             "colorbar": {
              "outlinewidth": 0,
              "ticks": ""
             }
            },
            "type": "scatterternary"
           }
          ],
          "surface": [
           {
            "colorbar": {
             "outlinewidth": 0,
             "ticks": ""
            },
            "colorscale": [
             [
              0,
              "#0d0887"
             ],
             [
              0.1111111111111111,
              "#46039f"
             ],
             [
              0.2222222222222222,
              "#7201a8"
             ],
             [
              0.3333333333333333,
              "#9c179e"
             ],
             [
              0.4444444444444444,
              "#bd3786"
             ],
             [
              0.5555555555555556,
              "#d8576b"
             ],
             [
              0.6666666666666666,
              "#ed7953"
             ],
             [
              0.7777777777777778,
              "#fb9f3a"
             ],
             [
              0.8888888888888888,
              "#fdca26"
             ],
             [
              1,
              "#f0f921"
             ]
            ],
            "type": "surface"
           }
          ],
          "table": [
           {
            "cells": {
             "fill": {
              "color": "#EBF0F8"
             },
             "line": {
              "color": "white"
             }
            },
            "header": {
             "fill": {
              "color": "#C8D4E3"
             },
             "line": {
              "color": "white"
             }
            },
            "type": "table"
           }
          ]
         },
         "layout": {
          "annotationdefaults": {
           "arrowcolor": "#2a3f5f",
           "arrowhead": 0,
           "arrowwidth": 1
          },
          "autotypenumbers": "strict",
          "coloraxis": {
           "colorbar": {
            "outlinewidth": 0,
            "ticks": ""
           }
          },
          "colorscale": {
           "diverging": [
            [
             0,
             "#8e0152"
            ],
            [
             0.1,
             "#c51b7d"
            ],
            [
             0.2,
             "#de77ae"
            ],
            [
             0.3,
             "#f1b6da"
            ],
            [
             0.4,
             "#fde0ef"
            ],
            [
             0.5,
             "#f7f7f7"
            ],
            [
             0.6,
             "#e6f5d0"
            ],
            [
             0.7,
             "#b8e186"
            ],
            [
             0.8,
             "#7fbc41"
            ],
            [
             0.9,
             "#4d9221"
            ],
            [
             1,
             "#276419"
            ]
           ],
           "sequential": [
            [
             0,
             "#0d0887"
            ],
            [
             0.1111111111111111,
             "#46039f"
            ],
            [
             0.2222222222222222,
             "#7201a8"
            ],
            [
             0.3333333333333333,
             "#9c179e"
            ],
            [
             0.4444444444444444,
             "#bd3786"
            ],
            [
             0.5555555555555556,
             "#d8576b"
            ],
            [
             0.6666666666666666,
             "#ed7953"
            ],
            [
             0.7777777777777778,
             "#fb9f3a"
            ],
            [
             0.8888888888888888,
             "#fdca26"
            ],
            [
             1,
             "#f0f921"
            ]
           ],
           "sequentialminus": [
            [
             0,
             "#0d0887"
            ],
            [
             0.1111111111111111,
             "#46039f"
            ],
            [
             0.2222222222222222,
             "#7201a8"
            ],
            [
             0.3333333333333333,
             "#9c179e"
            ],
            [
             0.4444444444444444,
             "#bd3786"
            ],
            [
             0.5555555555555556,
             "#d8576b"
            ],
            [
             0.6666666666666666,
             "#ed7953"
            ],
            [
             0.7777777777777778,
             "#fb9f3a"
            ],
            [
             0.8888888888888888,
             "#fdca26"
            ],
            [
             1,
             "#f0f921"
            ]
           ]
          },
          "colorway": [
           "#636efa",
           "#EF553B",
           "#00cc96",
           "#ab63fa",
           "#FFA15A",
           "#19d3f3",
           "#FF6692",
           "#B6E880",
           "#FF97FF",
           "#FECB52"
          ],
          "font": {
           "color": "#2a3f5f"
          },
          "geo": {
           "bgcolor": "white",
           "lakecolor": "white",
           "landcolor": "#E5ECF6",
           "showlakes": true,
           "showland": true,
           "subunitcolor": "white"
          },
          "hoverlabel": {
           "align": "left"
          },
          "hovermode": "closest",
          "mapbox": {
           "style": "light"
          },
          "paper_bgcolor": "white",
          "plot_bgcolor": "#E5ECF6",
          "polar": {
           "angularaxis": {
            "gridcolor": "white",
            "linecolor": "white",
            "ticks": ""
           },
           "bgcolor": "#E5ECF6",
           "radialaxis": {
            "gridcolor": "white",
            "linecolor": "white",
            "ticks": ""
           }
          },
          "scene": {
           "xaxis": {
            "backgroundcolor": "#E5ECF6",
            "gridcolor": "white",
            "gridwidth": 2,
            "linecolor": "white",
            "showbackground": true,
            "ticks": "",
            "zerolinecolor": "white"
           },
           "yaxis": {
            "backgroundcolor": "#E5ECF6",
            "gridcolor": "white",
            "gridwidth": 2,
            "linecolor": "white",
            "showbackground": true,
            "ticks": "",
            "zerolinecolor": "white"
           },
           "zaxis": {
            "backgroundcolor": "#E5ECF6",
            "gridcolor": "white",
            "gridwidth": 2,
            "linecolor": "white",
            "showbackground": true,
            "ticks": "",
            "zerolinecolor": "white"
           }
          },
          "shapedefaults": {
           "line": {
            "color": "#2a3f5f"
           }
          },
          "ternary": {
           "aaxis": {
            "gridcolor": "white",
            "linecolor": "white",
            "ticks": ""
           },
           "baxis": {
            "gridcolor": "white",
            "linecolor": "white",
            "ticks": ""
           },
           "bgcolor": "#E5ECF6",
           "caxis": {
            "gridcolor": "white",
            "linecolor": "white",
            "ticks": ""
           }
          },
          "title": {
           "x": 0.05
          },
          "xaxis": {
           "automargin": true,
           "gridcolor": "white",
           "linecolor": "white",
           "ticks": "",
           "title": {
            "standoff": 15
           },
           "zerolinecolor": "white",
           "zerolinewidth": 2
          },
          "yaxis": {
           "automargin": true,
           "gridcolor": "white",
           "linecolor": "white",
           "ticks": "",
           "title": {
            "standoff": 15
           },
           "zerolinecolor": "white",
           "zerolinewidth": 2
          }
         }
        },
        "title": {
         "text": "Emprestimos ao longo dos Meses"
        },
        "xaxis": {
         "anchor": "y",
         "domain": [
          0,
          1
         ],
         "title": {
          "text": ""
         }
        },
        "yaxis": {
         "anchor": "x",
         "domain": [
          0,
          1
         ],
         "title": {
          "text": "Quantidade"
         }
        }
       }
      }
     },
     "metadata": {},
     "output_type": "display_data"
    }
   ],
   "source": [
    "grafico = px.line(emprestimos_mes, x='Mes_emprestimo_ext', labels=({'id_emprestimo':'Quantidade', 'Mes_emprestimo_ext':''}),  y='id_emprestimo', title='Emprestimos ao longo dos Meses')\n",
    "grafico.show()"
   ]
  },
  {
   "cell_type": "markdown",
   "id": "d450def9",
   "metadata": {},
   "source": [
    "Análise\n",
    "\n",
    "Na realidade os picos são em março e agosto."
   ]
  }
 ],
 "metadata": {
  "kernelspec": {
   "display_name": "base",
   "language": "python",
   "name": "python3"
  },
  "language_info": {
   "codemirror_mode": {
    "name": "ipython",
    "version": 3
   },
   "file_extension": ".py",
   "mimetype": "text/x-python",
   "name": "python",
   "nbconvert_exporter": "python",
   "pygments_lexer": "ipython3",
   "version": "3.12.7"
  }
 },
 "nbformat": 4,
 "nbformat_minor": 5
}
