{
 "cells": [
  {
   "cell_type": "markdown",
   "id": "a9786610",
   "metadata": {},
   "source": [
    "# *Projeto Dados Biblioteca*"
   ]
  },
  {
   "cell_type": "markdown",
   "id": "d36b396a",
   "metadata": {},
   "source": [
    "## Importando os dados"
   ]
  },
  {
   "cell_type": "code",
   "execution_count": 9,
   "id": "ff4fa70c",
   "metadata": {},
   "outputs": [],
   "source": [
    "import pandas as pd\n",
    "\n",
    "caminho = ['https://raw.githubusercontent.com/FranciscoFoz/7_Days_of_Code_Alura-Python-Pandas/refs/heads/main/Dia_1-Importando_dados/Datasets/dados_emprestimos/emprestimos-20101.csv',\n",
    "           'https://raw.githubusercontent.com/FranciscoFoz/7_Days_of_Code_Alura-Python-Pandas/refs/heads/main/Dia_1-Importando_dados/Datasets/dados_emprestimos/emprestimos-20102.csv',\n",
    "           'https://raw.githubusercontent.com/FranciscoFoz/7_Days_of_Code_Alura-Python-Pandas/refs/heads/main/Dia_1-Importando_dados/Datasets/dados_emprestimos/emprestimos-20111.csv',\n",
    "           'https://raw.githubusercontent.com/FranciscoFoz/7_Days_of_Code_Alura-Python-Pandas/refs/heads/main/Dia_1-Importando_dados/Datasets/dados_emprestimos/emprestimos-20112.csv',\n",
    "           'https://raw.githubusercontent.com/FranciscoFoz/7_Days_of_Code_Alura-Python-Pandas/refs/heads/main/Dia_1-Importando_dados/Datasets/dados_emprestimos/emprestimos-20121.csv',\n",
    "           'https://raw.githubusercontent.com/FranciscoFoz/7_Days_of_Code_Alura-Python-Pandas/refs/heads/main/Dia_1-Importando_dados/Datasets/dados_emprestimos/emprestimos-20122.csv',\n",
    "           'https://raw.githubusercontent.com/FranciscoFoz/7_Days_of_Code_Alura-Python-Pandas/refs/heads/main/Dia_1-Importando_dados/Datasets/dados_emprestimos/emprestimos-20131.csv',\n",
    "           'https://raw.githubusercontent.com/FranciscoFoz/7_Days_of_Code_Alura-Python-Pandas/refs/heads/main/Dia_1-Importando_dados/Datasets/dados_emprestimos/emprestimos-20132.csv',\n",
    "           'https://raw.githubusercontent.com/FranciscoFoz/7_Days_of_Code_Alura-Python-Pandas/refs/heads/main/Dia_1-Importando_dados/Datasets/dados_emprestimos/emprestimos-20141.csv',\n",
    "           'https://raw.githubusercontent.com/FranciscoFoz/7_Days_of_Code_Alura-Python-Pandas/refs/heads/main/Dia_1-Importando_dados/Datasets/dados_emprestimos/emprestimos-20142.csv',\n",
    "           'https://raw.githubusercontent.com/FranciscoFoz/7_Days_of_Code_Alura-Python-Pandas/refs/heads/main/Dia_1-Importando_dados/Datasets/dados_emprestimos/emprestimos-20151.csv',\n",
    "           'https://raw.githubusercontent.com/FranciscoFoz/7_Days_of_Code_Alura-Python-Pandas/refs/heads/main/Dia_1-Importando_dados/Datasets/dados_emprestimos/emprestimos-20152.csv',\n",
    "           'https://raw.githubusercontent.com/FranciscoFoz/7_Days_of_Code_Alura-Python-Pandas/refs/heads/main/Dia_1-Importando_dados/Datasets/dados_emprestimos/emprestimos-20161.csv',\n",
    "           'https://raw.githubusercontent.com/FranciscoFoz/7_Days_of_Code_Alura-Python-Pandas/refs/heads/main/Dia_1-Importando_dados/Datasets/dados_emprestimos/emprestimos-20162.csv',\n",
    "           'https://raw.githubusercontent.com/FranciscoFoz/7_Days_of_Code_Alura-Python-Pandas/refs/heads/main/Dia_1-Importando_dados/Datasets/dados_emprestimos/emprestimos-20171.csv',\n",
    "           'https://raw.githubusercontent.com/FranciscoFoz/7_Days_of_Code_Alura-Python-Pandas/refs/heads/main/Dia_1-Importando_dados/Datasets/dados_emprestimos/emprestimos-20172.csv',\n",
    "           'https://raw.githubusercontent.com/FranciscoFoz/7_Days_of_Code_Alura-Python-Pandas/refs/heads/main/Dia_1-Importando_dados/Datasets/dados_emprestimos/emprestimos-20181.csv',\n",
    "           'https://raw.githubusercontent.com/FranciscoFoz/7_Days_of_Code_Alura-Python-Pandas/refs/heads/main/Dia_1-Importando_dados/Datasets/dados_emprestimos/emprestimos-20182.csv',\n",
    "           'https://raw.githubusercontent.com/FranciscoFoz/7_Days_of_Code_Alura-Python-Pandas/refs/heads/main/Dia_1-Importando_dados/Datasets/dados_emprestimos/emprestimos-20191.csv', \n",
    "           'https://raw.githubusercontent.com/FranciscoFoz/7_Days_of_Code_Alura-Python-Pandas/refs/heads/main/Dia_1-Importando_dados/Datasets/dados_emprestimos/emprestimos-20192.csv',\n",
    "           'https://raw.githubusercontent.com/FranciscoFoz/7_Days_of_Code_Alura-Python-Pandas/refs/heads/main/Dia_1-Importando_dados/Datasets/dados_emprestimos/emprestimos-20201.csv']\n",
    "tamanho = []\n",
    "pre_tam = []\n",
    "df = pd.read_csv(caminho[0], sep = ',', encoding='utf-8')\n",
    "\n",
    "# Só para ter uma noção do tamanho de cada arquivo e saber se está batendo o arquivo final\n",
    "pre_tam.append(0)\n",
    "pre_tam.append(df.shape[0])\n",
    "pre_tam.append(df.shape[1])\n",
    "tamanho.append(pre_tam.copy())\n",
    "pre_tam.clear()\n",
    "\n",
    "# Um loop para ler todos os arquivos\n",
    "for i in range(1, len(caminho)):\n",
    "    df_temp = pd.read_csv(caminho[i], sep = ',', encoding='utf-8')\n",
    "    pre_tam.append(i)\n",
    "    pre_tam.append(df_temp.shape[0])\n",
    "    pre_tam.append(df_temp.shape[1])\n",
    "    tamanho.append(pre_tam.copy())\n",
    "    pre_tam.clear()\n",
    "    df = pd.concat([df,df_temp], ignore_index=True)"
   ]
  },
  {
   "cell_type": "code",
   "execution_count": 10,
   "id": "5ddd78e0",
   "metadata": {},
   "outputs": [
    {
     "name": "stdout",
     "output_type": "stream",
     "text": [
      "0 - 95357 x 7\n",
      "1 - 100696 x 7\n",
      "2 - 108547 x 7\n",
      "3 - 120813 x 7\n",
      "4 - 132606 x 7\n",
      "5 - 117431 x 7\n",
      "6 - 135090 x 7\n",
      "7 - 124196 x 7\n",
      "8 - 113181 x 7\n",
      "9 - 122129 x 7\n",
      "10 - 126738 x 7\n",
      "11 - 98115 x 7\n",
      "12 - 118733 x 7\n",
      "13 - 107179 x 7\n",
      "14 - 118714 x 7\n",
      "15 - 110326 x 7\n",
      "16 - 107065 x 7\n",
      "17 - 95015 x 7\n",
      "18 - 95839 x 7\n",
      "19 - 83687 x 7\n",
      "20 - 26561 x 7\n"
     ]
    }
   ],
   "source": [
    "# Tamanho de cada arquivo\n",
    "for i in range(0, len(tamanho)):\n",
    "    print(f'{tamanho[i][0]:} - {tamanho[i][1]} x {tamanho[i][2]}')"
   ]
  },
  {
   "cell_type": "code",
   "execution_count": 12,
   "id": "0a1bfc65",
   "metadata": {},
   "outputs": [
    {
     "ename": "ImportError",
     "evalue": "Unable to find a usable engine; tried using: 'pyarrow', 'fastparquet'.\nA suitable version of pyarrow or fastparquet is required for parquet support.\nTrying to import the above resulted in these errors:\n - Missing optional dependency 'pyarrow'. pyarrow is required for parquet support. Use pip or conda to install pyarrow.\n - Missing optional dependency 'fastparquet'. fastparquet is required for parquet support. Use pip or conda to install fastparquet.",
     "output_type": "error",
     "traceback": [
      "\u001b[31m---------------------------------------------------------------------------\u001b[39m",
      "\u001b[31mImportError\u001b[39m                               Traceback (most recent call last)",
      "\u001b[36mCell\u001b[39m\u001b[36m \u001b[39m\u001b[32mIn[12]\u001b[39m\u001b[32m, line 1\u001b[39m\n\u001b[32m----> \u001b[39m\u001b[32m1\u001b[39m dados_exemplares = \u001b[43mpd\u001b[49m\u001b[43m.\u001b[49m\u001b[43mread_parquet\u001b[49m\u001b[43m(\u001b[49m\u001b[33;43m'\u001b[39;49m\u001b[33;43mhttps://github.com/FranciscoFoz/7_Days_of_Code_Alura-Python-Pandas/raw/main/Dia_1-Importando_dados/Datasets/dados_exemplares.parquet\u001b[39;49m\u001b[33;43m'\u001b[39;49m\u001b[43m)\u001b[49m\n\u001b[32m      2\u001b[39m dados_exemplares\n",
      "\u001b[36mFile \u001b[39m\u001b[32mc:\\Users\\guico\\AppData\\Local\\Programs\\Python\\Python313\\Lib\\site-packages\\pandas\\io\\parquet.py:651\u001b[39m, in \u001b[36mread_parquet\u001b[39m\u001b[34m(path, engine, columns, storage_options, use_nullable_dtypes, dtype_backend, filesystem, filters, **kwargs)\u001b[39m\n\u001b[32m    498\u001b[39m \u001b[38;5;129m@doc\u001b[39m(storage_options=_shared_docs[\u001b[33m\"\u001b[39m\u001b[33mstorage_options\u001b[39m\u001b[33m\"\u001b[39m])\n\u001b[32m    499\u001b[39m \u001b[38;5;28;01mdef\u001b[39;00m\u001b[38;5;250m \u001b[39m\u001b[34mread_parquet\u001b[39m(\n\u001b[32m    500\u001b[39m     path: FilePath | ReadBuffer[\u001b[38;5;28mbytes\u001b[39m],\n\u001b[32m   (...)\u001b[39m\u001b[32m    508\u001b[39m     **kwargs,\n\u001b[32m    509\u001b[39m ) -> DataFrame:\n\u001b[32m    510\u001b[39m \u001b[38;5;250m    \u001b[39m\u001b[33;03m\"\"\"\u001b[39;00m\n\u001b[32m    511\u001b[39m \u001b[33;03m    Load a parquet object from the file path, returning a DataFrame.\u001b[39;00m\n\u001b[32m    512\u001b[39m \n\u001b[32m   (...)\u001b[39m\u001b[32m    648\u001b[39m \u001b[33;03m    1    4    9\u001b[39;00m\n\u001b[32m    649\u001b[39m \u001b[33;03m    \"\"\"\u001b[39;00m\n\u001b[32m--> \u001b[39m\u001b[32m651\u001b[39m     impl = \u001b[43mget_engine\u001b[49m\u001b[43m(\u001b[49m\u001b[43mengine\u001b[49m\u001b[43m)\u001b[49m\n\u001b[32m    653\u001b[39m     \u001b[38;5;28;01mif\u001b[39;00m use_nullable_dtypes \u001b[38;5;129;01mis\u001b[39;00m \u001b[38;5;129;01mnot\u001b[39;00m lib.no_default:\n\u001b[32m    654\u001b[39m         msg = (\n\u001b[32m    655\u001b[39m             \u001b[33m\"\u001b[39m\u001b[33mThe argument \u001b[39m\u001b[33m'\u001b[39m\u001b[33muse_nullable_dtypes\u001b[39m\u001b[33m'\u001b[39m\u001b[33m is deprecated and will be removed \u001b[39m\u001b[33m\"\u001b[39m\n\u001b[32m    656\u001b[39m             \u001b[33m\"\u001b[39m\u001b[33min a future version.\u001b[39m\u001b[33m\"\u001b[39m\n\u001b[32m    657\u001b[39m         )\n",
      "\u001b[36mFile \u001b[39m\u001b[32mc:\\Users\\guico\\AppData\\Local\\Programs\\Python\\Python313\\Lib\\site-packages\\pandas\\io\\parquet.py:67\u001b[39m, in \u001b[36mget_engine\u001b[39m\u001b[34m(engine)\u001b[39m\n\u001b[32m     64\u001b[39m         \u001b[38;5;28;01mexcept\u001b[39;00m \u001b[38;5;167;01mImportError\u001b[39;00m \u001b[38;5;28;01mas\u001b[39;00m err:\n\u001b[32m     65\u001b[39m             error_msgs += \u001b[33m\"\u001b[39m\u001b[38;5;130;01m\\n\u001b[39;00m\u001b[33m - \u001b[39m\u001b[33m\"\u001b[39m + \u001b[38;5;28mstr\u001b[39m(err)\n\u001b[32m---> \u001b[39m\u001b[32m67\u001b[39m     \u001b[38;5;28;01mraise\u001b[39;00m \u001b[38;5;167;01mImportError\u001b[39;00m(\n\u001b[32m     68\u001b[39m         \u001b[33m\"\u001b[39m\u001b[33mUnable to find a usable engine; \u001b[39m\u001b[33m\"\u001b[39m\n\u001b[32m     69\u001b[39m         \u001b[33m\"\u001b[39m\u001b[33mtried using: \u001b[39m\u001b[33m'\u001b[39m\u001b[33mpyarrow\u001b[39m\u001b[33m'\u001b[39m\u001b[33m, \u001b[39m\u001b[33m'\u001b[39m\u001b[33mfastparquet\u001b[39m\u001b[33m'\u001b[39m\u001b[33m.\u001b[39m\u001b[38;5;130;01m\\n\u001b[39;00m\u001b[33m\"\u001b[39m\n\u001b[32m     70\u001b[39m         \u001b[33m\"\u001b[39m\u001b[33mA suitable version of \u001b[39m\u001b[33m\"\u001b[39m\n\u001b[32m     71\u001b[39m         \u001b[33m\"\u001b[39m\u001b[33mpyarrow or fastparquet is required for parquet \u001b[39m\u001b[33m\"\u001b[39m\n\u001b[32m     72\u001b[39m         \u001b[33m\"\u001b[39m\u001b[33msupport.\u001b[39m\u001b[38;5;130;01m\\n\u001b[39;00m\u001b[33m\"\u001b[39m\n\u001b[32m     73\u001b[39m         \u001b[33m\"\u001b[39m\u001b[33mTrying to import the above resulted in these errors:\u001b[39m\u001b[33m\"\u001b[39m\n\u001b[32m     74\u001b[39m         \u001b[33mf\u001b[39m\u001b[33m\"\u001b[39m\u001b[38;5;132;01m{\u001b[39;00merror_msgs\u001b[38;5;132;01m}\u001b[39;00m\u001b[33m\"\u001b[39m\n\u001b[32m     75\u001b[39m     )\n\u001b[32m     77\u001b[39m \u001b[38;5;28;01mif\u001b[39;00m engine == \u001b[33m\"\u001b[39m\u001b[33mpyarrow\u001b[39m\u001b[33m\"\u001b[39m:\n\u001b[32m     78\u001b[39m     \u001b[38;5;28;01mreturn\u001b[39;00m PyArrowImpl()\n",
      "\u001b[31mImportError\u001b[39m: Unable to find a usable engine; tried using: 'pyarrow', 'fastparquet'.\nA suitable version of pyarrow or fastparquet is required for parquet support.\nTrying to import the above resulted in these errors:\n - Missing optional dependency 'pyarrow'. pyarrow is required for parquet support. Use pip or conda to install pyarrow.\n - Missing optional dependency 'fastparquet'. fastparquet is required for parquet support. Use pip or conda to install fastparquet."
     ]
    }
   ],
   "source": [
    "dados_exemplares = pd.read_parquet('https://github.com/FranciscoFoz/7_Days_of_Code_Alura-Python-Pandas/raw/main/Dia_1-Importando_dados/Datasets/dados_exemplares.parquet')\n",
    "dados_exemplares"
   ]
  },
  {
   "cell_type": "markdown",
   "id": "1d72b911",
   "metadata": {},
   "source": [
    "Junta os dois datasets"
   ]
  },
  {
   "cell_type": "code",
   "execution_count": null,
   "id": "abf7c0de",
   "metadata": {},
   "outputs": [],
   "source": [
    "df_mesclado = pd.merge(df, dados_exemplares, on='codigo_barras', how='left')\n",
    "df_mesclado"
   ]
  },
  {
   "cell_type": "markdown",
   "id": "10b7f134",
   "metadata": {},
   "source": [
    "### Fazendo a limpeza básica"
   ]
  },
  {
   "cell_type": "code",
   "execution_count": null,
   "id": "aeeda249",
   "metadata": {},
   "outputs": [],
   "source": [
    "df_mesclado.isnull().sum()"
   ]
  },
  {
   "cell_type": "code",
   "execution_count": null,
   "id": "e060a764",
   "metadata": {},
   "outputs": [],
   "source": [
    "df_limpo = df_mesclado.dropna(subset='id_exemplar')"
   ]
  },
  {
   "cell_type": "code",
   "execution_count": null,
   "id": "52bcbf68",
   "metadata": {},
   "outputs": [],
   "source": [
    "df_limpo.isnull().sum()"
   ]
  },
  {
   "cell_type": "markdown",
   "id": "23dc1d73",
   "metadata": {},
   "source": [
    "Data renovação é quando pega empprestado e aumenta o prazo\n",
    "\n",
    "Data devolução em branco são os que estão em emprestimo\n",
    "\n"
   ]
  },
  {
   "cell_type": "code",
   "execution_count": null,
   "id": "7e099094",
   "metadata": {},
   "outputs": [],
   "source": [
    "df_limpo.drop_duplicates()"
   ]
  },
  {
   "cell_type": "code",
   "execution_count": null,
   "id": "a243d0c9",
   "metadata": {},
   "outputs": [],
   "source": []
  },
  {
   "cell_type": "markdown",
   "id": "3d40be5a",
   "metadata": {},
   "source": [
    "## Alteração"
   ]
  },
  {
   "cell_type": "markdown",
   "id": "49f8c142",
   "metadata": {},
   "source": [
    "### Criação coluna de classificação"
   ]
  },
  {
   "cell_type": "code",
   "execution_count": null,
   "id": "69e21b8d",
   "metadata": {},
   "outputs": [],
   "source": [
    "df_limpo['Classificação'] = df_limpo['localizacao'].astype(str).str[0]"
   ]
  },
  {
   "cell_type": "code",
   "execution_count": null,
   "id": "99e1de50",
   "metadata": {},
   "outputs": [],
   "source": [
    "df_limpo['Classificação'] = df_limpo['Classificação'].replace('0', 'Generalidades. Ciência e conhecimento')\n",
    "df_limpo['Classificação'] = df_limpo['Classificação'].replace('1', 'Filosofia e psicologia')\n",
    "df_limpo['Classificação'] = df_limpo['Classificação'].replace('2', 'Religião')\n",
    "df_limpo['Classificação'] = df_limpo['Classificação'].replace('3', 'Ciências sociais')\n",
    "df_limpo['Classificação'] = df_limpo['Classificação'].replace('4', 'Classe vaga. Provisoriamente não ocupada')\n",
    "df_limpo['Classificação'] = df_limpo['Classificação'].replace('5', 'Matemática e ciências naturais.')\n",
    "df_limpo['Classificação'] = df_limpo['Classificação'].replace('6', 'Ciências aplicadas')\n",
    "df_limpo['Classificação'] = df_limpo['Classificação'].replace('7', 'Belas artes')\n",
    "df_limpo['Classificação'] = df_limpo['Classificação'].replace('8', 'Linguagem. Língua. Linguística')\n",
    "df_limpo['Classificação'] = df_limpo['Classificação'].replace('9', 'Geografia. Biografia. História.')"
   ]
  },
  {
   "cell_type": "code",
   "execution_count": null,
   "id": "adc31cae",
   "metadata": {},
   "outputs": [],
   "source": [
    "df_limpo"
   ]
  },
  {
   "cell_type": "markdown",
   "id": "1b19ef29",
   "metadata": {},
   "source": [
    "### Altera o tipo das colunas"
   ]
  },
  {
   "cell_type": "code",
   "execution_count": null,
   "id": "0767e95c",
   "metadata": {},
   "outputs": [],
   "source": [
    "df_limpo['matricula_ou_siape'] = df_limpo['matricula_ou_siape'].astype(str)\n",
    "\n",
    "df_limpo[\"data_emprestimo\"] = pd.to_datetime(df_limpo[\"data_emprestimo\"], errors='coerce')\n",
    "df_limpo[\"data_devolucao\"] = pd.to_datetime(df_limpo[\"data_devolucao\"], errors='coerce')\n",
    "df_limpo[\"data_renovacao\"] = pd.to_datetime(df_limpo[\"data_renovacao\"], errors='coerce')"
   ]
  },
  {
   "cell_type": "markdown",
   "id": "481dcf1f",
   "metadata": {},
   "source": [
    "### Exclui a coluna Registro_sistema"
   ]
  },
  {
   "cell_type": "code",
   "execution_count": null,
   "id": "c6f50b6e",
   "metadata": {},
   "outputs": [],
   "source": [
    "df_limpo = df_limpo.drop('registro_sistema', axis=1)"
   ]
  },
  {
   "cell_type": "code",
   "execution_count": null,
   "id": "80e209bc",
   "metadata": {},
   "outputs": [],
   "source": [
    "df_limpo"
   ]
  },
  {
   "cell_type": "markdown",
   "id": "2a12ad5a",
   "metadata": {},
   "source": [
    "## Primeiras visualizações"
   ]
  },
  {
   "cell_type": "markdown",
   "id": "634edf31",
   "metadata": {},
   "source": [
    "### Desempenho dos emprestimos ao longo dos anos\n",
    "\n",
    "A diretoria da biblioteca gostaria de entender se a quantidade de empréstimos está diminuindo, aumentando ou permanecendo igual ao decorrer dos últimos anos.\n",
    "\n",
    "Gráfico de linhas \n",
    "\n",
    "    x - Anos\n",
    "    Y - Qtd emprestada"
   ]
  },
  {
   "cell_type": "code",
   "execution_count": null,
   "id": "48f614a6",
   "metadata": {},
   "outputs": [],
   "source": [
    "df_limpo['Ano_emprestimo'] = df_limpo['data_emprestimo'].dt.year\n",
    "df_limpo"
   ]
  },
  {
   "cell_type": "code",
   "execution_count": null,
   "id": "8a8074d4",
   "metadata": {},
   "outputs": [],
   "source": [
    "emprestimos_ano = df_limpo.groupby('Ano_emprestimo')['id_emprestimo'].count().reset_index()\n",
    "emprestimos_ano = pd.DataFrame(emprestimos_ano)"
   ]
  },
  {
   "cell_type": "code",
   "execution_count": null,
   "id": "376f7cd4",
   "metadata": {},
   "outputs": [],
   "source": [
    "type(emprestimos_ano)"
   ]
  },
  {
   "cell_type": "code",
   "execution_count": null,
   "id": "d028aa67",
   "metadata": {},
   "outputs": [],
   "source": [
    "emprestimos_ano.rename(columns={'Ano_emprestimo':'Ano', 'id_emprestimo':'Quantidade'}, inplace=True)"
   ]
  },
  {
   "cell_type": "code",
   "execution_count": null,
   "id": "4c3237fe",
   "metadata": {},
   "outputs": [],
   "source": [
    "emprestimos_ano"
   ]
  },
  {
   "cell_type": "markdown",
   "id": "ed1e825b",
   "metadata": {},
   "source": [
    "Importando a biblioteca plotly que será utilizada"
   ]
  },
  {
   "cell_type": "code",
   "execution_count": null,
   "id": "0a5ed7c1",
   "metadata": {},
   "outputs": [],
   "source": [
    "import plotly.express as px"
   ]
  },
  {
   "cell_type": "code",
   "execution_count": null,
   "id": "68d0544d",
   "metadata": {},
   "outputs": [],
   "source": [
    "grafico = px.line(emprestimos_ano, x='Ano', y='Quantidade', title='Quantidade de emprestimo ao ano | 2012-2020')\n",
    "\n",
    "grafico.show()"
   ]
  },
  {
   "cell_type": "markdown",
   "id": "fdbb0bc6",
   "metadata": {},
   "source": [
    "Análise\n",
    "\n",
    "De 2013 para cá vem caindo a quantidade de empréstimos realizados, resalto que o ano de 2020 deve ser desconsiderado pois ainda não está completo.\n",
    "\n",
    "Pode ser análisado o que ouve entre 2010 e 2013 que a quantidade de emprestimos sempre esteve em alta, quais ações foram feitas?\n",
    "\n",
    "Cabe analisar se a quantidade de alunos tem diminuido."
   ]
  },
  {
   "cell_type": "markdown",
   "id": "4be5e7c8",
   "metadata": {},
   "source": [
    "### Programação de férias\n",
    "\n",
    "Qual seria a melhor forma de gerenciar a programação de férias dos colaboradores de acordo com os meses de menor demanda?"
   ]
  },
  {
   "cell_type": "code",
   "execution_count": null,
   "id": "ad5543d6",
   "metadata": {},
   "outputs": [],
   "source": [
    "#Criar a variável de meses de emprestomo\n",
    "df_limpo['Mes_emprestimo_ext'] = df_limpo['data_emprestimo'].dt.month\n",
    "df_limpo['Mes_emprestimo'] = df_limpo['data_emprestimo'].dt.month"
   ]
  },
  {
   "cell_type": "code",
   "execution_count": null,
   "id": "a2ebe961",
   "metadata": {},
   "outputs": [],
   "source": [
    "df_limpo"
   ]
  },
  {
   "cell_type": "code",
   "execution_count": null,
   "id": "3fd80f79",
   "metadata": {},
   "outputs": [],
   "source": [
    "emprestimos_mes = df_limpo.groupby(['Mes_emprestimo'])['id_emprestimo'].count().reset_index()\n",
    "pd.DataFrame(emprestimos_mes)"
   ]
  },
  {
   "cell_type": "code",
   "execution_count": null,
   "id": "cea030c1",
   "metadata": {},
   "outputs": [],
   "source": [
    "emprestimos_mes['Mes_emprestimo_ext'] = emprestimos_mes['Mes_emprestimo']\n",
    "emprestimos_mes['Mes_emprestimo_ext'].replace(\n",
    "    {\n",
    "    1:'Jan',\n",
    "    2:'Fev',\n",
    "    3:'Mar',\n",
    "    4:'Abr',\n",
    "    5:'Mai',\n",
    "    6:'Jun',\n",
    "    7:'Jul',\n",
    "    8:'Ago',\n",
    "    9:'Set',\n",
    "    10:'Out',\n",
    "    11:'Nov',\n",
    "    12:'Dez'\n",
    "    },\n",
    "    inplace=True\n",
    ")\n",
    "emprestimos_mes"
   ]
  },
  {
   "cell_type": "code",
   "execution_count": null,
   "id": "f75f6a22",
   "metadata": {},
   "outputs": [],
   "source": [
    "#Mais completo\n",
    "#grafico = px.bar(emprestimos_mes, x='Mes_emprestimo_ext', labels=({'id_emprestimo':'Quantidade', 'Mes_emprestimo_ext':''}), text='id_emprestimo', y='id_emprestimo', title='Emprestimos ao longo dos Meses')\n",
    "#grafico.update_traces(texttemplate=\"%{y:,}\")   # mostra y com separador de milhar \n",
    "\n",
    "\n",
    "#Mais simples\n",
    "grafico = px.bar(emprestimos_mes, x='Mes_emprestimo_ext', labels=({'id_emprestimo':'Quantidade', 'Mes_emprestimo_ext':''}), y='id_emprestimo', title='Emprestimos ao longo dos Meses')\n",
    "grafico.show()"
   ]
  },
  {
   "cell_type": "markdown",
   "id": "d1b13a12",
   "metadata": {},
   "source": [
    "Análise\n",
    "\n",
    "Se analizarmos apenas referente as demandas, seria em janeiro, julho e dezembro."
   ]
  },
  {
   "cell_type": "markdown",
   "id": "34c783e4",
   "metadata": {},
   "source": [
    "### Atividades fora atendimento\n",
    "\n",
    "Qual seria o melhor horário para programar atividades que não sejam de atendimento ao usuário para períodos específicos de menor demanda?"
   ]
  },
  {
   "cell_type": "code",
   "execution_count": null,
   "id": "8dfc2a3a",
   "metadata": {},
   "outputs": [],
   "source": [
    "df_limpo['Hora_emprestimo'] = df_limpo['data_emprestimo'].dt.hour\n",
    "df_limpo['dia_emprestimo'] = df_limpo['data_emprestimo'].dt.day_name()\n",
    "df_limpo"
   ]
  },
  {
   "cell_type": "code",
   "execution_count": null,
   "id": "6883a42d",
   "metadata": {},
   "outputs": [],
   "source": [
    "emprestimos_Hora = df_limpo.groupby(['Hora_emprestimo'])['id_emprestimo'].count().reset_index()\n",
    "emprestimos_Hora"
   ]
  },
  {
   "cell_type": "code",
   "execution_count": null,
   "id": "ca1b1ed7",
   "metadata": {},
   "outputs": [],
   "source": [
    "grafico = px.bar(emprestimos_Hora,x='Hora_emprestimo',y='id_emprestimo', title='Emprestimos por hora')\n",
    "grafico.update_layout(xaxis = dict(title = 'Horas', dtick = 1), yaxis_title = 'Quantidade') # Usando o dtick para forçar exibir todos os itens de x\n",
    "grafico.show()"
   ]
  },
  {
   "cell_type": "markdown",
   "id": "ac7d4917",
   "metadata": {},
   "source": [
    "Análise\n",
    "\n",
    "Os melhores horários para outras atividades seria até as 10 da manha, e após as 19 da noite."
   ]
  },
  {
   "cell_type": "markdown",
   "id": "af3c2260",
   "metadata": {},
   "source": [
    "### Meses de maior demanda\n",
    "\n",
    "Há uma suspeita interna de que os meses com maior número de exemplares emprestados sejam março e setembro, mas não foi realizada uma análise real sobre isso.\n",
    "\n",
    "Portanto, gere uma tabela com a quantidade total de exemplares emprestados por mês e descubra quais meses são os que possuem a maior quantidade de empréstimos realizados. Plote um gráfico de linhas."
   ]
  },
  {
   "cell_type": "code",
   "execution_count": null,
   "id": "fa3129a3",
   "metadata": {},
   "outputs": [],
   "source": [
    "grafico = px.line(emprestimos_mes, x='Mes_emprestimo_ext', labels=({'id_emprestimo':'Quantidade', 'Mes_emprestimo_ext':''}),  y='id_emprestimo', title='Emprestimos ao longo dos Meses')\n",
    "grafico.show()"
   ]
  },
  {
   "cell_type": "markdown",
   "id": "d450def9",
   "metadata": {},
   "source": [
    "Análise\n",
    "\n",
    "Na realidade os picos são em março e agosto."
   ]
  },
  {
   "cell_type": "markdown",
   "id": "beb55829",
   "metadata": {},
   "source": [
    "### Como se distribuem os empréstimos de exemplares pelos tipos de vínculo dos usuários?"
   ]
  },
  {
   "cell_type": "markdown",
   "id": "5d0d9708",
   "metadata": {},
   "source": [
    "### Quais coleções são mais emprestadas?"
   ]
  },
  {
   "cell_type": "markdown",
   "id": "3098ffe7",
   "metadata": {},
   "source": [
    "### Quais são as bibliotecas com mais ou menos quantidade de empréstimos?"
   ]
  },
  {
   "cell_type": "markdown",
   "id": "1d931238",
   "metadata": {},
   "source": [
    "### De quais temas da CDU são os exemplares emprestados?"
   ]
  },
  {
   "cell_type": "code",
   "execution_count": null,
   "id": "bf17136b",
   "metadata": {},
   "outputs": [],
   "source": [
    "import Fun_calc as calc"
   ]
  },
  {
   "cell_type": "code",
   "execution_count": null,
   "id": "7a1dee00",
   "metadata": {},
   "outputs": [],
   "source": [
    "def Valores_Variavel(df, variável, nome_coluna):\n",
    "    '''\n",
    "    Retorna qual a distribuição da variável a ser analizada analizando a coluna id_emprestimo como valor.\n",
    "\n",
    "    df = DataFrame\n",
    "\n",
    "    Variável = Coluna alvo da análise\n",
    "    '''\n",
    "    resumo = df.groupby([variável])['id_emprestimo'].count().reset_index()\n",
    "    resumo = pd.DataFrame(resumo)\n",
    "    resumo.rename(columns={variável:nome_coluna, 'id_emprestimo':'Quantidade'}, inplace=True)\n",
    "    resumo.sort_values(['Quantidade'], ascending=False, inplace=True)\n",
    "    return resumo\n",
    "\n",
    "#def grafico()"
   ]
  },
  {
   "cell_type": "code",
   "execution_count": null,
   "id": "586b6553",
   "metadata": {},
   "outputs": [],
   "source": [
    "vinculo_usuario = Valores_Variavel(df_limpo,'tipo_vinculo_usuario', 'Vinculo')\n",
    "vinculo_usuario"
   ]
  },
  {
   "cell_type": "code",
   "execution_count": null,
   "id": "7f09e7ed",
   "metadata": {},
   "outputs": [],
   "source": [
    "colecao = Valores_Variavel(df_limpo,'colecao', 'Coleção')\n",
    "colecao"
   ]
  },
  {
   "cell_type": "code",
   "execution_count": null,
   "id": "476db193",
   "metadata": {},
   "outputs": [],
   "source": [
    "biblioteca = Valores_Variavel(df_limpo,'biblioteca', 'Biblioteca')\n",
    "biblioteca"
   ]
  },
  {
   "cell_type": "code",
   "execution_count": null,
   "id": "df7bd66a",
   "metadata": {},
   "outputs": [],
   "source": [
    "# Gerar histograma\n",
    "Classificação = Valores_Variavel(df_limpo, 'Classificação', 'Classificação')\n",
    "Classificação['% Share'] = Classificação['Quantidade']/sum(Classificação['Quantidade'])\n",
    "Classificação"
   ]
  }
 ],
 "metadata": {
  "kernelspec": {
   "display_name": "Python 3",
   "language": "python",
   "name": "python3"
  },
  "language_info": {
   "codemirror_mode": {
    "name": "ipython",
    "version": 3
   },
   "file_extension": ".py",
   "mimetype": "text/x-python",
   "name": "python",
   "nbconvert_exporter": "python",
   "pygments_lexer": "ipython3",
   "version": "3.13.2"
  }
 },
 "nbformat": 4,
 "nbformat_minor": 5
}
