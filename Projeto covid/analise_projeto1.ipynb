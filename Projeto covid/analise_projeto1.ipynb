{
  "cells": [
    {
      "cell_type": "markdown",
      "metadata": {
        "id": "fQJ5CYV9Te0X"
      },
      "source": [
        "# **PROJETO ANÁLISE DOS DADOS DO COVID 19 NO ESTADO DE SÃO PAULO**"
      ]
    },
    {
      "cell_type": "markdown",
      "metadata": {
        "id": "kXFCCsVHTtTP"
      },
      "source": [
        "Este projeto analisa os dados dos casos de covid 19 no estado de São Paulo do período de fevereiro de 2020 a setembro de 2021."
      ]
    },
    {
      "cell_type": "markdown",
      "metadata": {
        "id": "5ZQ2nYhQUc3G"
      },
      "source": [
        "Os dados estão disponíveis nos sites:\n",
        "\n",
        "https://www.seade.gov.br/coronavirus/#\n",
        "\n",
        "https://github.com/seade-R/dados-covid-sp\n",
        "\n",
        "https://www.seade.gov.br/\n"
      ]
    },
    {
      "cell_type": "markdown",
      "metadata": {
        "id": "9_XcXErv4VIU"
      },
      "source": [
        "## **Importação dos Dados**"
      ]
    },
    {
      "cell_type": "code",
      "execution_count": 1,
      "metadata": {
        "id": "nWvIcticlCs2"
      },
      "outputs": [],
      "source": [
        "import numpy as np\n",
        "import pandas as pd"
      ]
    },
    {
      "cell_type": "code",
      "execution_count": 2,
      "metadata": {
        "id": "LRIrwcC8kUhT"
      },
      "outputs": [],
      "source": [
        "covid = pd.read_csv('covid_sp_tratado.csv',\n",
        "                    sep=';', encoding='utf-8')"
      ]
    },
    {
      "cell_type": "code",
      "execution_count": 3,
      "metadata": {
        "id": "GkFTnV4UmHNw"
      },
      "outputs": [
        {
          "data": {
            "application/vnd.microsoft.datawrangler.viewer.v0+json": {
              "columns": [
                {
                  "name": "index",
                  "rawType": "int64",
                  "type": "integer"
                },
                {
                  "name": "indice",
                  "rawType": "int64",
                  "type": "integer"
                },
                {
                  "name": "municipio",
                  "rawType": "object",
                  "type": "string"
                },
                {
                  "name": "dia",
                  "rawType": "int64",
                  "type": "integer"
                },
                {
                  "name": "mes",
                  "rawType": "int64",
                  "type": "integer"
                },
                {
                  "name": "data",
                  "rawType": "object",
                  "type": "string"
                },
                {
                  "name": "casos",
                  "rawType": "int64",
                  "type": "integer"
                },
                {
                  "name": "casos_novos",
                  "rawType": "int64",
                  "type": "integer"
                },
                {
                  "name": "casos_pc",
                  "rawType": "float64",
                  "type": "float"
                },
                {
                  "name": "casos_mm7d",
                  "rawType": "float64",
                  "type": "float"
                },
                {
                  "name": "obitos",
                  "rawType": "int64",
                  "type": "integer"
                },
                {
                  "name": "obitos_novos",
                  "rawType": "int64",
                  "type": "integer"
                },
                {
                  "name": "obitos_pc",
                  "rawType": "float64",
                  "type": "float"
                },
                {
                  "name": "obitos_mm7d",
                  "rawType": "float64",
                  "type": "float"
                },
                {
                  "name": "letalidade",
                  "rawType": "float64",
                  "type": "float"
                },
                {
                  "name": "pop",
                  "rawType": "int64",
                  "type": "integer"
                },
                {
                  "name": "pop_60",
                  "rawType": "int64",
                  "type": "integer"
                },
                {
                  "name": "area",
                  "rawType": "float64",
                  "type": "float"
                },
                {
                  "name": "semana_epidem",
                  "rawType": "int64",
                  "type": "integer"
                },
                {
                  "name": "densidade",
                  "rawType": "float64",
                  "type": "float"
                }
              ],
              "ref": "b0e8dc07-408d-48c1-bfc4-6de3eac72676",
              "rows": [
                [
                  "0",
                  "1",
                  "Adamantina",
                  "25",
                  "2",
                  "2020-02-25",
                  "0",
                  "0",
                  "0.0",
                  "0.0",
                  "0",
                  "0",
                  "0.0",
                  "0.0",
                  "0.0",
                  "33894",
                  "7398",
                  "411.99",
                  "9",
                  "82.26898711133765"
                ],
                [
                  "1",
                  "2",
                  "Adolfo",
                  "25",
                  "2",
                  "2020-02-25",
                  "0",
                  "0",
                  "0.0",
                  "0.0",
                  "0",
                  "0",
                  "0.0",
                  "0.0",
                  "0.0",
                  "3447",
                  "761",
                  "211.06",
                  "9",
                  "16.33184876338482"
                ],
                [
                  "2",
                  "3",
                  "Aguaí",
                  "25",
                  "2",
                  "2020-02-25",
                  "0",
                  "0",
                  "0.0",
                  "0.0",
                  "0",
                  "0",
                  "0.0",
                  "0.0",
                  "0.0",
                  "35608",
                  "5245",
                  "474.55",
                  "9",
                  "75.0352965967759"
                ],
                [
                  "3",
                  "4",
                  "Águas da Prata",
                  "25",
                  "2",
                  "2020-02-25",
                  "0",
                  "0",
                  "0.0",
                  "0.0",
                  "0",
                  "0",
                  "0.0",
                  "0.0",
                  "0.0",
                  "7797",
                  "1729",
                  "142.67",
                  "9",
                  "54.65059227588141"
                ],
                [
                  "4",
                  "5",
                  "Águas de Lindóia",
                  "25",
                  "2",
                  "2020-02-25",
                  "0",
                  "0",
                  "0.0",
                  "0.0",
                  "0",
                  "0",
                  "0.0",
                  "0.0",
                  "0.0",
                  "18374",
                  "3275",
                  "60.13",
                  "9",
                  "305.5712622650923"
                ]
              ],
              "shape": {
                "columns": 19,
                "rows": 5
              }
            },
            "text/html": [
              "<div>\n",
              "<style scoped>\n",
              "    .dataframe tbody tr th:only-of-type {\n",
              "        vertical-align: middle;\n",
              "    }\n",
              "\n",
              "    .dataframe tbody tr th {\n",
              "        vertical-align: top;\n",
              "    }\n",
              "\n",
              "    .dataframe thead th {\n",
              "        text-align: right;\n",
              "    }\n",
              "</style>\n",
              "<table border=\"1\" class=\"dataframe\">\n",
              "  <thead>\n",
              "    <tr style=\"text-align: right;\">\n",
              "      <th></th>\n",
              "      <th>indice</th>\n",
              "      <th>municipio</th>\n",
              "      <th>dia</th>\n",
              "      <th>mes</th>\n",
              "      <th>data</th>\n",
              "      <th>casos</th>\n",
              "      <th>casos_novos</th>\n",
              "      <th>casos_pc</th>\n",
              "      <th>casos_mm7d</th>\n",
              "      <th>obitos</th>\n",
              "      <th>obitos_novos</th>\n",
              "      <th>obitos_pc</th>\n",
              "      <th>obitos_mm7d</th>\n",
              "      <th>letalidade</th>\n",
              "      <th>pop</th>\n",
              "      <th>pop_60</th>\n",
              "      <th>area</th>\n",
              "      <th>semana_epidem</th>\n",
              "      <th>densidade</th>\n",
              "    </tr>\n",
              "  </thead>\n",
              "  <tbody>\n",
              "    <tr>\n",
              "      <th>0</th>\n",
              "      <td>1</td>\n",
              "      <td>Adamantina</td>\n",
              "      <td>25</td>\n",
              "      <td>2</td>\n",
              "      <td>2020-02-25</td>\n",
              "      <td>0</td>\n",
              "      <td>0</td>\n",
              "      <td>0.0</td>\n",
              "      <td>0.0</td>\n",
              "      <td>0</td>\n",
              "      <td>0</td>\n",
              "      <td>0.0</td>\n",
              "      <td>0.0</td>\n",
              "      <td>0.0</td>\n",
              "      <td>33894</td>\n",
              "      <td>7398</td>\n",
              "      <td>411.99</td>\n",
              "      <td>9</td>\n",
              "      <td>82.268987</td>\n",
              "    </tr>\n",
              "    <tr>\n",
              "      <th>1</th>\n",
              "      <td>2</td>\n",
              "      <td>Adolfo</td>\n",
              "      <td>25</td>\n",
              "      <td>2</td>\n",
              "      <td>2020-02-25</td>\n",
              "      <td>0</td>\n",
              "      <td>0</td>\n",
              "      <td>0.0</td>\n",
              "      <td>0.0</td>\n",
              "      <td>0</td>\n",
              "      <td>0</td>\n",
              "      <td>0.0</td>\n",
              "      <td>0.0</td>\n",
              "      <td>0.0</td>\n",
              "      <td>3447</td>\n",
              "      <td>761</td>\n",
              "      <td>211.06</td>\n",
              "      <td>9</td>\n",
              "      <td>16.331849</td>\n",
              "    </tr>\n",
              "    <tr>\n",
              "      <th>2</th>\n",
              "      <td>3</td>\n",
              "      <td>Aguaí</td>\n",
              "      <td>25</td>\n",
              "      <td>2</td>\n",
              "      <td>2020-02-25</td>\n",
              "      <td>0</td>\n",
              "      <td>0</td>\n",
              "      <td>0.0</td>\n",
              "      <td>0.0</td>\n",
              "      <td>0</td>\n",
              "      <td>0</td>\n",
              "      <td>0.0</td>\n",
              "      <td>0.0</td>\n",
              "      <td>0.0</td>\n",
              "      <td>35608</td>\n",
              "      <td>5245</td>\n",
              "      <td>474.55</td>\n",
              "      <td>9</td>\n",
              "      <td>75.035297</td>\n",
              "    </tr>\n",
              "    <tr>\n",
              "      <th>3</th>\n",
              "      <td>4</td>\n",
              "      <td>Águas da Prata</td>\n",
              "      <td>25</td>\n",
              "      <td>2</td>\n",
              "      <td>2020-02-25</td>\n",
              "      <td>0</td>\n",
              "      <td>0</td>\n",
              "      <td>0.0</td>\n",
              "      <td>0.0</td>\n",
              "      <td>0</td>\n",
              "      <td>0</td>\n",
              "      <td>0.0</td>\n",
              "      <td>0.0</td>\n",
              "      <td>0.0</td>\n",
              "      <td>7797</td>\n",
              "      <td>1729</td>\n",
              "      <td>142.67</td>\n",
              "      <td>9</td>\n",
              "      <td>54.650592</td>\n",
              "    </tr>\n",
              "    <tr>\n",
              "      <th>4</th>\n",
              "      <td>5</td>\n",
              "      <td>Águas de Lindóia</td>\n",
              "      <td>25</td>\n",
              "      <td>2</td>\n",
              "      <td>2020-02-25</td>\n",
              "      <td>0</td>\n",
              "      <td>0</td>\n",
              "      <td>0.0</td>\n",
              "      <td>0.0</td>\n",
              "      <td>0</td>\n",
              "      <td>0</td>\n",
              "      <td>0.0</td>\n",
              "      <td>0.0</td>\n",
              "      <td>0.0</td>\n",
              "      <td>18374</td>\n",
              "      <td>3275</td>\n",
              "      <td>60.13</td>\n",
              "      <td>9</td>\n",
              "      <td>305.571262</td>\n",
              "    </tr>\n",
              "  </tbody>\n",
              "</table>\n",
              "</div>"
            ],
            "text/plain": [
              "   indice         municipio  dia  mes        data  casos  casos_novos  \\\n",
              "0       1        Adamantina   25    2  2020-02-25      0            0   \n",
              "1       2            Adolfo   25    2  2020-02-25      0            0   \n",
              "2       3             Aguaí   25    2  2020-02-25      0            0   \n",
              "3       4    Águas da Prata   25    2  2020-02-25      0            0   \n",
              "4       5  Águas de Lindóia   25    2  2020-02-25      0            0   \n",
              "\n",
              "   casos_pc  casos_mm7d  obitos  obitos_novos  obitos_pc  obitos_mm7d  \\\n",
              "0       0.0         0.0       0             0        0.0          0.0   \n",
              "1       0.0         0.0       0             0        0.0          0.0   \n",
              "2       0.0         0.0       0             0        0.0          0.0   \n",
              "3       0.0         0.0       0             0        0.0          0.0   \n",
              "4       0.0         0.0       0             0        0.0          0.0   \n",
              "\n",
              "   letalidade    pop  pop_60    area  semana_epidem   densidade  \n",
              "0         0.0  33894    7398  411.99              9   82.268987  \n",
              "1         0.0   3447     761  211.06              9   16.331849  \n",
              "2         0.0  35608    5245  474.55              9   75.035297  \n",
              "3         0.0   7797    1729  142.67              9   54.650592  \n",
              "4         0.0  18374    3275   60.13              9  305.571262  "
            ]
          },
          "execution_count": 3,
          "metadata": {},
          "output_type": "execute_result"
        }
      ],
      "source": [
        "covid.head()"
      ]
    },
    {
      "cell_type": "code",
      "execution_count": 4,
      "metadata": {
        "id": "6pnxBXvi4WVL"
      },
      "outputs": [
        {
          "data": {
            "text/plain": [
              "(373455, 19)"
            ]
          },
          "execution_count": 4,
          "metadata": {},
          "output_type": "execute_result"
        }
      ],
      "source": [
        "covid.shape"
      ]
    },
    {
      "cell_type": "code",
      "execution_count": 5,
      "metadata": {
        "id": "k-h3oN5lYlbP"
      },
      "outputs": [
        {
          "data": {
            "application/vnd.microsoft.datawrangler.viewer.v0+json": {
              "columns": [
                {
                  "name": "index",
                  "rawType": "object",
                  "type": "string"
                },
                {
                  "name": "0",
                  "rawType": "object",
                  "type": "unknown"
                }
              ],
              "ref": "f2991572-c4ab-458a-8c61-695e0d27642d",
              "rows": [
                [
                  "indice",
                  "int64"
                ],
                [
                  "municipio",
                  "object"
                ],
                [
                  "dia",
                  "int64"
                ],
                [
                  "mes",
                  "int64"
                ],
                [
                  "data",
                  "object"
                ],
                [
                  "casos",
                  "int64"
                ],
                [
                  "casos_novos",
                  "int64"
                ],
                [
                  "casos_pc",
                  "float64"
                ],
                [
                  "casos_mm7d",
                  "float64"
                ],
                [
                  "obitos",
                  "int64"
                ],
                [
                  "obitos_novos",
                  "int64"
                ],
                [
                  "obitos_pc",
                  "float64"
                ],
                [
                  "obitos_mm7d",
                  "float64"
                ],
                [
                  "letalidade",
                  "float64"
                ],
                [
                  "pop",
                  "int64"
                ],
                [
                  "pop_60",
                  "int64"
                ],
                [
                  "area",
                  "float64"
                ],
                [
                  "semana_epidem",
                  "int64"
                ],
                [
                  "densidade",
                  "float64"
                ]
              ],
              "shape": {
                "columns": 1,
                "rows": 19
              }
            },
            "text/plain": [
              "indice             int64\n",
              "municipio         object\n",
              "dia                int64\n",
              "mes                int64\n",
              "data              object\n",
              "casos              int64\n",
              "casos_novos        int64\n",
              "casos_pc         float64\n",
              "casos_mm7d       float64\n",
              "obitos             int64\n",
              "obitos_novos       int64\n",
              "obitos_pc        float64\n",
              "obitos_mm7d      float64\n",
              "letalidade       float64\n",
              "pop                int64\n",
              "pop_60             int64\n",
              "area             float64\n",
              "semana_epidem      int64\n",
              "densidade        float64\n",
              "dtype: object"
            ]
          },
          "execution_count": 5,
          "metadata": {},
          "output_type": "execute_result"
        }
      ],
      "source": [
        "# Análise dos atributos\n",
        "covid.dtypes"
      ]
    },
    {
      "cell_type": "markdown",
      "metadata": {
        "id": "vbJVyveHZK52"
      },
      "source": [
        "## Filtrando duas cidades: Campinas e Guarulhos"
      ]
    },
    {
      "cell_type": "code",
      "execution_count": 6,
      "metadata": {
        "id": "gs74ePudY2d3"
      },
      "outputs": [
        {
          "data": {
            "application/vnd.microsoft.datawrangler.viewer.v0+json": {
              "columns": [
                {
                  "name": "index",
                  "rawType": "int64",
                  "type": "integer"
                },
                {
                  "name": "indice",
                  "rawType": "int64",
                  "type": "integer"
                },
                {
                  "name": "municipio",
                  "rawType": "object",
                  "type": "string"
                },
                {
                  "name": "dia",
                  "rawType": "int64",
                  "type": "integer"
                },
                {
                  "name": "mes",
                  "rawType": "int64",
                  "type": "integer"
                },
                {
                  "name": "data",
                  "rawType": "object",
                  "type": "string"
                },
                {
                  "name": "casos",
                  "rawType": "int64",
                  "type": "integer"
                },
                {
                  "name": "casos_novos",
                  "rawType": "int64",
                  "type": "integer"
                },
                {
                  "name": "casos_pc",
                  "rawType": "float64",
                  "type": "float"
                },
                {
                  "name": "casos_mm7d",
                  "rawType": "float64",
                  "type": "float"
                },
                {
                  "name": "obitos",
                  "rawType": "int64",
                  "type": "integer"
                },
                {
                  "name": "obitos_novos",
                  "rawType": "int64",
                  "type": "integer"
                },
                {
                  "name": "obitos_pc",
                  "rawType": "float64",
                  "type": "float"
                },
                {
                  "name": "obitos_mm7d",
                  "rawType": "float64",
                  "type": "float"
                },
                {
                  "name": "letalidade",
                  "rawType": "float64",
                  "type": "float"
                },
                {
                  "name": "pop",
                  "rawType": "int64",
                  "type": "integer"
                },
                {
                  "name": "pop_60",
                  "rawType": "int64",
                  "type": "integer"
                },
                {
                  "name": "area",
                  "rawType": "float64",
                  "type": "float"
                },
                {
                  "name": "semana_epidem",
                  "rawType": "int64",
                  "type": "integer"
                },
                {
                  "name": "densidade",
                  "rawType": "float64",
                  "type": "float"
                }
              ],
              "ref": "23528ea6-2d42-4124-819c-dddd3cbbeff0",
              "rows": [
                [
                  "108",
                  "109",
                  "Campinas",
                  "25",
                  "2",
                  "2020-02-25",
                  "0",
                  "0",
                  "0.0",
                  "0.0",
                  "0",
                  "0",
                  "0.0",
                  "0.0",
                  "0.0",
                  "1175501",
                  "192796",
                  "794.57",
                  "9",
                  "1479.417798306002"
                ],
                [
                  "753",
                  "754",
                  "Campinas",
                  "26",
                  "2",
                  "2020-02-26",
                  "0",
                  "0",
                  "0.0",
                  "0.0",
                  "0",
                  "0",
                  "0.0",
                  "0.0",
                  "0.0",
                  "1175501",
                  "192796",
                  "794.57",
                  "9",
                  "1479.417798306002"
                ],
                [
                  "1398",
                  "1399",
                  "Campinas",
                  "27",
                  "2",
                  "2020-02-27",
                  "0",
                  "0",
                  "0.0",
                  "0.0",
                  "0",
                  "0",
                  "0.0",
                  "0.0",
                  "0.0",
                  "1175501",
                  "192796",
                  "794.57",
                  "9",
                  "1479.417798306002"
                ]
              ],
              "shape": {
                "columns": 19,
                "rows": 3
              }
            },
            "text/html": [
              "<div>\n",
              "<style scoped>\n",
              "    .dataframe tbody tr th:only-of-type {\n",
              "        vertical-align: middle;\n",
              "    }\n",
              "\n",
              "    .dataframe tbody tr th {\n",
              "        vertical-align: top;\n",
              "    }\n",
              "\n",
              "    .dataframe thead th {\n",
              "        text-align: right;\n",
              "    }\n",
              "</style>\n",
              "<table border=\"1\" class=\"dataframe\">\n",
              "  <thead>\n",
              "    <tr style=\"text-align: right;\">\n",
              "      <th></th>\n",
              "      <th>indice</th>\n",
              "      <th>municipio</th>\n",
              "      <th>dia</th>\n",
              "      <th>mes</th>\n",
              "      <th>data</th>\n",
              "      <th>casos</th>\n",
              "      <th>casos_novos</th>\n",
              "      <th>casos_pc</th>\n",
              "      <th>casos_mm7d</th>\n",
              "      <th>obitos</th>\n",
              "      <th>obitos_novos</th>\n",
              "      <th>obitos_pc</th>\n",
              "      <th>obitos_mm7d</th>\n",
              "      <th>letalidade</th>\n",
              "      <th>pop</th>\n",
              "      <th>pop_60</th>\n",
              "      <th>area</th>\n",
              "      <th>semana_epidem</th>\n",
              "      <th>densidade</th>\n",
              "    </tr>\n",
              "  </thead>\n",
              "  <tbody>\n",
              "    <tr>\n",
              "      <th>108</th>\n",
              "      <td>109</td>\n",
              "      <td>Campinas</td>\n",
              "      <td>25</td>\n",
              "      <td>2</td>\n",
              "      <td>2020-02-25</td>\n",
              "      <td>0</td>\n",
              "      <td>0</td>\n",
              "      <td>0.0</td>\n",
              "      <td>0.0</td>\n",
              "      <td>0</td>\n",
              "      <td>0</td>\n",
              "      <td>0.0</td>\n",
              "      <td>0.0</td>\n",
              "      <td>0.0</td>\n",
              "      <td>1175501</td>\n",
              "      <td>192796</td>\n",
              "      <td>794.57</td>\n",
              "      <td>9</td>\n",
              "      <td>1479.417798</td>\n",
              "    </tr>\n",
              "    <tr>\n",
              "      <th>753</th>\n",
              "      <td>754</td>\n",
              "      <td>Campinas</td>\n",
              "      <td>26</td>\n",
              "      <td>2</td>\n",
              "      <td>2020-02-26</td>\n",
              "      <td>0</td>\n",
              "      <td>0</td>\n",
              "      <td>0.0</td>\n",
              "      <td>0.0</td>\n",
              "      <td>0</td>\n",
              "      <td>0</td>\n",
              "      <td>0.0</td>\n",
              "      <td>0.0</td>\n",
              "      <td>0.0</td>\n",
              "      <td>1175501</td>\n",
              "      <td>192796</td>\n",
              "      <td>794.57</td>\n",
              "      <td>9</td>\n",
              "      <td>1479.417798</td>\n",
              "    </tr>\n",
              "    <tr>\n",
              "      <th>1398</th>\n",
              "      <td>1399</td>\n",
              "      <td>Campinas</td>\n",
              "      <td>27</td>\n",
              "      <td>2</td>\n",
              "      <td>2020-02-27</td>\n",
              "      <td>0</td>\n",
              "      <td>0</td>\n",
              "      <td>0.0</td>\n",
              "      <td>0.0</td>\n",
              "      <td>0</td>\n",
              "      <td>0</td>\n",
              "      <td>0.0</td>\n",
              "      <td>0.0</td>\n",
              "      <td>0.0</td>\n",
              "      <td>1175501</td>\n",
              "      <td>192796</td>\n",
              "      <td>794.57</td>\n",
              "      <td>9</td>\n",
              "      <td>1479.417798</td>\n",
              "    </tr>\n",
              "  </tbody>\n",
              "</table>\n",
              "</div>"
            ],
            "text/plain": [
              "      indice municipio  dia  mes        data  casos  casos_novos  casos_pc  \\\n",
              "108      109  Campinas   25    2  2020-02-25      0            0       0.0   \n",
              "753      754  Campinas   26    2  2020-02-26      0            0       0.0   \n",
              "1398    1399  Campinas   27    2  2020-02-27      0            0       0.0   \n",
              "\n",
              "      casos_mm7d  obitos  obitos_novos  obitos_pc  obitos_mm7d  letalidade  \\\n",
              "108          0.0       0             0        0.0          0.0         0.0   \n",
              "753          0.0       0             0        0.0          0.0         0.0   \n",
              "1398         0.0       0             0        0.0          0.0         0.0   \n",
              "\n",
              "          pop  pop_60    area  semana_epidem    densidade  \n",
              "108   1175501  192796  794.57              9  1479.417798  \n",
              "753   1175501  192796  794.57              9  1479.417798  \n",
              "1398  1175501  192796  794.57              9  1479.417798  "
            ]
          },
          "execution_count": 6,
          "metadata": {},
          "output_type": "execute_result"
        }
      ],
      "source": [
        "covid_campinas = covid.loc[covid.municipio == 'Campinas'] \n",
        "covid_campinas.head(3)"
      ]
    },
    {
      "cell_type": "code",
      "execution_count": 7,
      "metadata": {
        "id": "BfzikN6TZ8LZ"
      },
      "outputs": [
        {
          "name": "stderr",
          "output_type": "stream",
          "text": [
            "C:\\Users\\guico\\AppData\\Local\\Temp\\ipykernel_28136\\2686898998.py:2: SettingWithCopyWarning: \n",
            "A value is trying to be set on a copy of a slice from a DataFrame.\n",
            "Try using .loc[row_indexer,col_indexer] = value instead\n",
            "\n",
            "See the caveats in the documentation: https://pandas.pydata.org/pandas-docs/stable/user_guide/indexing.html#returning-a-view-versus-a-copy\n",
            "  covid_campinas['porcentagem_idosos'] = 100*covid_campinas['pop_60'] / covid_campinas['pop']\n"
          ]
        },
        {
          "data": {
            "application/vnd.microsoft.datawrangler.viewer.v0+json": {
              "columns": [
                {
                  "name": "index",
                  "rawType": "int64",
                  "type": "integer"
                },
                {
                  "name": "indice",
                  "rawType": "int64",
                  "type": "integer"
                },
                {
                  "name": "municipio",
                  "rawType": "object",
                  "type": "string"
                },
                {
                  "name": "dia",
                  "rawType": "int64",
                  "type": "integer"
                },
                {
                  "name": "mes",
                  "rawType": "int64",
                  "type": "integer"
                },
                {
                  "name": "data",
                  "rawType": "object",
                  "type": "string"
                },
                {
                  "name": "casos",
                  "rawType": "int64",
                  "type": "integer"
                },
                {
                  "name": "casos_novos",
                  "rawType": "int64",
                  "type": "integer"
                },
                {
                  "name": "casos_pc",
                  "rawType": "float64",
                  "type": "float"
                },
                {
                  "name": "casos_mm7d",
                  "rawType": "float64",
                  "type": "float"
                },
                {
                  "name": "obitos",
                  "rawType": "int64",
                  "type": "integer"
                },
                {
                  "name": "obitos_novos",
                  "rawType": "int64",
                  "type": "integer"
                },
                {
                  "name": "obitos_pc",
                  "rawType": "float64",
                  "type": "float"
                },
                {
                  "name": "obitos_mm7d",
                  "rawType": "float64",
                  "type": "float"
                },
                {
                  "name": "letalidade",
                  "rawType": "float64",
                  "type": "float"
                },
                {
                  "name": "pop",
                  "rawType": "int64",
                  "type": "integer"
                },
                {
                  "name": "pop_60",
                  "rawType": "int64",
                  "type": "integer"
                },
                {
                  "name": "area",
                  "rawType": "float64",
                  "type": "float"
                },
                {
                  "name": "semana_epidem",
                  "rawType": "int64",
                  "type": "integer"
                },
                {
                  "name": "densidade",
                  "rawType": "float64",
                  "type": "float"
                },
                {
                  "name": "porcentagem_idosos",
                  "rawType": "float64",
                  "type": "float"
                }
              ],
              "ref": "c0bc28b1-318d-43c0-8847-e013ffe662ae",
              "rows": [
                [
                  "108",
                  "109",
                  "Campinas",
                  "25",
                  "2",
                  "2020-02-25",
                  "0",
                  "0",
                  "0.0",
                  "0.0",
                  "0",
                  "0",
                  "0.0",
                  "0.0",
                  "0.0",
                  "1175501",
                  "192796",
                  "794.57",
                  "9",
                  "1479.417798306002",
                  "16.401177030049315"
                ],
                [
                  "753",
                  "754",
                  "Campinas",
                  "26",
                  "2",
                  "2020-02-26",
                  "0",
                  "0",
                  "0.0",
                  "0.0",
                  "0",
                  "0",
                  "0.0",
                  "0.0",
                  "0.0",
                  "1175501",
                  "192796",
                  "794.57",
                  "9",
                  "1479.417798306002",
                  "16.401177030049315"
                ],
                [
                  "1398",
                  "1399",
                  "Campinas",
                  "27",
                  "2",
                  "2020-02-27",
                  "0",
                  "0",
                  "0.0",
                  "0.0",
                  "0",
                  "0",
                  "0.0",
                  "0.0",
                  "0.0",
                  "1175501",
                  "192796",
                  "794.57",
                  "9",
                  "1479.417798306002",
                  "16.401177030049315"
                ]
              ],
              "shape": {
                "columns": 20,
                "rows": 3
              }
            },
            "text/html": [
              "<div>\n",
              "<style scoped>\n",
              "    .dataframe tbody tr th:only-of-type {\n",
              "        vertical-align: middle;\n",
              "    }\n",
              "\n",
              "    .dataframe tbody tr th {\n",
              "        vertical-align: top;\n",
              "    }\n",
              "\n",
              "    .dataframe thead th {\n",
              "        text-align: right;\n",
              "    }\n",
              "</style>\n",
              "<table border=\"1\" class=\"dataframe\">\n",
              "  <thead>\n",
              "    <tr style=\"text-align: right;\">\n",
              "      <th></th>\n",
              "      <th>indice</th>\n",
              "      <th>municipio</th>\n",
              "      <th>dia</th>\n",
              "      <th>mes</th>\n",
              "      <th>data</th>\n",
              "      <th>casos</th>\n",
              "      <th>casos_novos</th>\n",
              "      <th>casos_pc</th>\n",
              "      <th>casos_mm7d</th>\n",
              "      <th>obitos</th>\n",
              "      <th>obitos_novos</th>\n",
              "      <th>obitos_pc</th>\n",
              "      <th>obitos_mm7d</th>\n",
              "      <th>letalidade</th>\n",
              "      <th>pop</th>\n",
              "      <th>pop_60</th>\n",
              "      <th>area</th>\n",
              "      <th>semana_epidem</th>\n",
              "      <th>densidade</th>\n",
              "      <th>porcentagem_idosos</th>\n",
              "    </tr>\n",
              "  </thead>\n",
              "  <tbody>\n",
              "    <tr>\n",
              "      <th>108</th>\n",
              "      <td>109</td>\n",
              "      <td>Campinas</td>\n",
              "      <td>25</td>\n",
              "      <td>2</td>\n",
              "      <td>2020-02-25</td>\n",
              "      <td>0</td>\n",
              "      <td>0</td>\n",
              "      <td>0.0</td>\n",
              "      <td>0.0</td>\n",
              "      <td>0</td>\n",
              "      <td>0</td>\n",
              "      <td>0.0</td>\n",
              "      <td>0.0</td>\n",
              "      <td>0.0</td>\n",
              "      <td>1175501</td>\n",
              "      <td>192796</td>\n",
              "      <td>794.57</td>\n",
              "      <td>9</td>\n",
              "      <td>1479.417798</td>\n",
              "      <td>16.401177</td>\n",
              "    </tr>\n",
              "    <tr>\n",
              "      <th>753</th>\n",
              "      <td>754</td>\n",
              "      <td>Campinas</td>\n",
              "      <td>26</td>\n",
              "      <td>2</td>\n",
              "      <td>2020-02-26</td>\n",
              "      <td>0</td>\n",
              "      <td>0</td>\n",
              "      <td>0.0</td>\n",
              "      <td>0.0</td>\n",
              "      <td>0</td>\n",
              "      <td>0</td>\n",
              "      <td>0.0</td>\n",
              "      <td>0.0</td>\n",
              "      <td>0.0</td>\n",
              "      <td>1175501</td>\n",
              "      <td>192796</td>\n",
              "      <td>794.57</td>\n",
              "      <td>9</td>\n",
              "      <td>1479.417798</td>\n",
              "      <td>16.401177</td>\n",
              "    </tr>\n",
              "    <tr>\n",
              "      <th>1398</th>\n",
              "      <td>1399</td>\n",
              "      <td>Campinas</td>\n",
              "      <td>27</td>\n",
              "      <td>2</td>\n",
              "      <td>2020-02-27</td>\n",
              "      <td>0</td>\n",
              "      <td>0</td>\n",
              "      <td>0.0</td>\n",
              "      <td>0.0</td>\n",
              "      <td>0</td>\n",
              "      <td>0</td>\n",
              "      <td>0.0</td>\n",
              "      <td>0.0</td>\n",
              "      <td>0.0</td>\n",
              "      <td>1175501</td>\n",
              "      <td>192796</td>\n",
              "      <td>794.57</td>\n",
              "      <td>9</td>\n",
              "      <td>1479.417798</td>\n",
              "      <td>16.401177</td>\n",
              "    </tr>\n",
              "  </tbody>\n",
              "</table>\n",
              "</div>"
            ],
            "text/plain": [
              "      indice municipio  dia  mes        data  casos  casos_novos  casos_pc  \\\n",
              "108      109  Campinas   25    2  2020-02-25      0            0       0.0   \n",
              "753      754  Campinas   26    2  2020-02-26      0            0       0.0   \n",
              "1398    1399  Campinas   27    2  2020-02-27      0            0       0.0   \n",
              "\n",
              "      casos_mm7d  obitos  obitos_novos  obitos_pc  obitos_mm7d  letalidade  \\\n",
              "108          0.0       0             0        0.0          0.0         0.0   \n",
              "753          0.0       0             0        0.0          0.0         0.0   \n",
              "1398         0.0       0             0        0.0          0.0         0.0   \n",
              "\n",
              "          pop  pop_60    area  semana_epidem    densidade  porcentagem_idosos  \n",
              "108   1175501  192796  794.57              9  1479.417798           16.401177  \n",
              "753   1175501  192796  794.57              9  1479.417798           16.401177  \n",
              "1398  1175501  192796  794.57              9  1479.417798           16.401177  "
            ]
          },
          "execution_count": 7,
          "metadata": {},
          "output_type": "execute_result"
        }
      ],
      "source": [
        "# Criação de uma coluna com a porcentagem de idosos\n",
        "covid_campinas['porcentagem_idosos'] = 100*covid_campinas['pop_60'] / covid_campinas['pop']\n",
        "covid_campinas.head(3) "
      ]
    },
    {
      "cell_type": "code",
      "execution_count": 8,
      "metadata": {
        "id": "JyBawOqMZqjD"
      },
      "outputs": [
        {
          "data": {
            "application/vnd.microsoft.datawrangler.viewer.v0+json": {
              "columns": [
                {
                  "name": "index",
                  "rawType": "int64",
                  "type": "integer"
                },
                {
                  "name": "indice",
                  "rawType": "int64",
                  "type": "integer"
                },
                {
                  "name": "municipio",
                  "rawType": "object",
                  "type": "string"
                },
                {
                  "name": "dia",
                  "rawType": "int64",
                  "type": "integer"
                },
                {
                  "name": "mes",
                  "rawType": "int64",
                  "type": "integer"
                },
                {
                  "name": "data",
                  "rawType": "object",
                  "type": "string"
                },
                {
                  "name": "casos",
                  "rawType": "int64",
                  "type": "integer"
                },
                {
                  "name": "casos_novos",
                  "rawType": "int64",
                  "type": "integer"
                },
                {
                  "name": "casos_pc",
                  "rawType": "float64",
                  "type": "float"
                },
                {
                  "name": "casos_mm7d",
                  "rawType": "float64",
                  "type": "float"
                },
                {
                  "name": "obitos",
                  "rawType": "int64",
                  "type": "integer"
                },
                {
                  "name": "obitos_novos",
                  "rawType": "int64",
                  "type": "integer"
                },
                {
                  "name": "obitos_pc",
                  "rawType": "float64",
                  "type": "float"
                },
                {
                  "name": "obitos_mm7d",
                  "rawType": "float64",
                  "type": "float"
                },
                {
                  "name": "letalidade",
                  "rawType": "float64",
                  "type": "float"
                },
                {
                  "name": "pop",
                  "rawType": "int64",
                  "type": "integer"
                },
                {
                  "name": "pop_60",
                  "rawType": "int64",
                  "type": "integer"
                },
                {
                  "name": "area",
                  "rawType": "float64",
                  "type": "float"
                },
                {
                  "name": "semana_epidem",
                  "rawType": "int64",
                  "type": "integer"
                },
                {
                  "name": "densidade",
                  "rawType": "float64",
                  "type": "float"
                }
              ],
              "ref": "c9b6bbf5-c846-4cda-9b0f-22441b0706ff",
              "rows": [
                [
                  "212",
                  "213",
                  "Guarulhos",
                  "25",
                  "2",
                  "2020-02-25",
                  "0",
                  "0",
                  "0.0",
                  "0.0",
                  "0",
                  "0",
                  "0.0",
                  "0.0",
                  "0.0",
                  "1351275",
                  "162662",
                  "318.68",
                  "9",
                  "4240.2253043805695"
                ],
                [
                  "857",
                  "858",
                  "Guarulhos",
                  "26",
                  "2",
                  "2020-02-26",
                  "0",
                  "0",
                  "0.0",
                  "0.0",
                  "0",
                  "0",
                  "0.0",
                  "0.0",
                  "0.0",
                  "1351275",
                  "162662",
                  "318.68",
                  "9",
                  "4240.2253043805695"
                ],
                [
                  "1502",
                  "1503",
                  "Guarulhos",
                  "27",
                  "2",
                  "2020-02-27",
                  "0",
                  "0",
                  "0.0",
                  "0.0",
                  "0",
                  "0",
                  "0.0",
                  "0.0",
                  "0.0",
                  "1351275",
                  "162662",
                  "318.68",
                  "9",
                  "4240.2253043805695"
                ]
              ],
              "shape": {
                "columns": 19,
                "rows": 3
              }
            },
            "text/html": [
              "<div>\n",
              "<style scoped>\n",
              "    .dataframe tbody tr th:only-of-type {\n",
              "        vertical-align: middle;\n",
              "    }\n",
              "\n",
              "    .dataframe tbody tr th {\n",
              "        vertical-align: top;\n",
              "    }\n",
              "\n",
              "    .dataframe thead th {\n",
              "        text-align: right;\n",
              "    }\n",
              "</style>\n",
              "<table border=\"1\" class=\"dataframe\">\n",
              "  <thead>\n",
              "    <tr style=\"text-align: right;\">\n",
              "      <th></th>\n",
              "      <th>indice</th>\n",
              "      <th>municipio</th>\n",
              "      <th>dia</th>\n",
              "      <th>mes</th>\n",
              "      <th>data</th>\n",
              "      <th>casos</th>\n",
              "      <th>casos_novos</th>\n",
              "      <th>casos_pc</th>\n",
              "      <th>casos_mm7d</th>\n",
              "      <th>obitos</th>\n",
              "      <th>obitos_novos</th>\n",
              "      <th>obitos_pc</th>\n",
              "      <th>obitos_mm7d</th>\n",
              "      <th>letalidade</th>\n",
              "      <th>pop</th>\n",
              "      <th>pop_60</th>\n",
              "      <th>area</th>\n",
              "      <th>semana_epidem</th>\n",
              "      <th>densidade</th>\n",
              "    </tr>\n",
              "  </thead>\n",
              "  <tbody>\n",
              "    <tr>\n",
              "      <th>212</th>\n",
              "      <td>213</td>\n",
              "      <td>Guarulhos</td>\n",
              "      <td>25</td>\n",
              "      <td>2</td>\n",
              "      <td>2020-02-25</td>\n",
              "      <td>0</td>\n",
              "      <td>0</td>\n",
              "      <td>0.0</td>\n",
              "      <td>0.0</td>\n",
              "      <td>0</td>\n",
              "      <td>0</td>\n",
              "      <td>0.0</td>\n",
              "      <td>0.0</td>\n",
              "      <td>0.0</td>\n",
              "      <td>1351275</td>\n",
              "      <td>162662</td>\n",
              "      <td>318.68</td>\n",
              "      <td>9</td>\n",
              "      <td>4240.225304</td>\n",
              "    </tr>\n",
              "    <tr>\n",
              "      <th>857</th>\n",
              "      <td>858</td>\n",
              "      <td>Guarulhos</td>\n",
              "      <td>26</td>\n",
              "      <td>2</td>\n",
              "      <td>2020-02-26</td>\n",
              "      <td>0</td>\n",
              "      <td>0</td>\n",
              "      <td>0.0</td>\n",
              "      <td>0.0</td>\n",
              "      <td>0</td>\n",
              "      <td>0</td>\n",
              "      <td>0.0</td>\n",
              "      <td>0.0</td>\n",
              "      <td>0.0</td>\n",
              "      <td>1351275</td>\n",
              "      <td>162662</td>\n",
              "      <td>318.68</td>\n",
              "      <td>9</td>\n",
              "      <td>4240.225304</td>\n",
              "    </tr>\n",
              "    <tr>\n",
              "      <th>1502</th>\n",
              "      <td>1503</td>\n",
              "      <td>Guarulhos</td>\n",
              "      <td>27</td>\n",
              "      <td>2</td>\n",
              "      <td>2020-02-27</td>\n",
              "      <td>0</td>\n",
              "      <td>0</td>\n",
              "      <td>0.0</td>\n",
              "      <td>0.0</td>\n",
              "      <td>0</td>\n",
              "      <td>0</td>\n",
              "      <td>0.0</td>\n",
              "      <td>0.0</td>\n",
              "      <td>0.0</td>\n",
              "      <td>1351275</td>\n",
              "      <td>162662</td>\n",
              "      <td>318.68</td>\n",
              "      <td>9</td>\n",
              "      <td>4240.225304</td>\n",
              "    </tr>\n",
              "  </tbody>\n",
              "</table>\n",
              "</div>"
            ],
            "text/plain": [
              "      indice  municipio  dia  mes        data  casos  casos_novos  casos_pc  \\\n",
              "212      213  Guarulhos   25    2  2020-02-25      0            0       0.0   \n",
              "857      858  Guarulhos   26    2  2020-02-26      0            0       0.0   \n",
              "1502    1503  Guarulhos   27    2  2020-02-27      0            0       0.0   \n",
              "\n",
              "      casos_mm7d  obitos  obitos_novos  obitos_pc  obitos_mm7d  letalidade  \\\n",
              "212          0.0       0             0        0.0          0.0         0.0   \n",
              "857          0.0       0             0        0.0          0.0         0.0   \n",
              "1502         0.0       0             0        0.0          0.0         0.0   \n",
              "\n",
              "          pop  pop_60    area  semana_epidem    densidade  \n",
              "212   1351275  162662  318.68              9  4240.225304  \n",
              "857   1351275  162662  318.68              9  4240.225304  \n",
              "1502  1351275  162662  318.68              9  4240.225304  "
            ]
          },
          "execution_count": 8,
          "metadata": {},
          "output_type": "execute_result"
        }
      ],
      "source": [
        "covid_guarulhos = covid.loc[covid.municipio == 'Guarulhos'] \n",
        "covid_guarulhos.head(3)"
      ]
    },
    {
      "cell_type": "code",
      "execution_count": 9,
      "metadata": {
        "id": "WA7kyrC6adZ7"
      },
      "outputs": [
        {
          "name": "stderr",
          "output_type": "stream",
          "text": [
            "C:\\Users\\guico\\AppData\\Local\\Temp\\ipykernel_28136\\1791474848.py:2: SettingWithCopyWarning: \n",
            "A value is trying to be set on a copy of a slice from a DataFrame.\n",
            "Try using .loc[row_indexer,col_indexer] = value instead\n",
            "\n",
            "See the caveats in the documentation: https://pandas.pydata.org/pandas-docs/stable/user_guide/indexing.html#returning-a-view-versus-a-copy\n",
            "  covid_guarulhos['porcentagem_idosos'] = 100*covid_guarulhos['pop_60'] / covid_guarulhos['pop']\n"
          ]
        },
        {
          "data": {
            "application/vnd.microsoft.datawrangler.viewer.v0+json": {
              "columns": [
                {
                  "name": "index",
                  "rawType": "int64",
                  "type": "integer"
                },
                {
                  "name": "indice",
                  "rawType": "int64",
                  "type": "integer"
                },
                {
                  "name": "municipio",
                  "rawType": "object",
                  "type": "string"
                },
                {
                  "name": "dia",
                  "rawType": "int64",
                  "type": "integer"
                },
                {
                  "name": "mes",
                  "rawType": "int64",
                  "type": "integer"
                },
                {
                  "name": "data",
                  "rawType": "object",
                  "type": "string"
                },
                {
                  "name": "casos",
                  "rawType": "int64",
                  "type": "integer"
                },
                {
                  "name": "casos_novos",
                  "rawType": "int64",
                  "type": "integer"
                },
                {
                  "name": "casos_pc",
                  "rawType": "float64",
                  "type": "float"
                },
                {
                  "name": "casos_mm7d",
                  "rawType": "float64",
                  "type": "float"
                },
                {
                  "name": "obitos",
                  "rawType": "int64",
                  "type": "integer"
                },
                {
                  "name": "obitos_novos",
                  "rawType": "int64",
                  "type": "integer"
                },
                {
                  "name": "obitos_pc",
                  "rawType": "float64",
                  "type": "float"
                },
                {
                  "name": "obitos_mm7d",
                  "rawType": "float64",
                  "type": "float"
                },
                {
                  "name": "letalidade",
                  "rawType": "float64",
                  "type": "float"
                },
                {
                  "name": "pop",
                  "rawType": "int64",
                  "type": "integer"
                },
                {
                  "name": "pop_60",
                  "rawType": "int64",
                  "type": "integer"
                },
                {
                  "name": "area",
                  "rawType": "float64",
                  "type": "float"
                },
                {
                  "name": "semana_epidem",
                  "rawType": "int64",
                  "type": "integer"
                },
                {
                  "name": "densidade",
                  "rawType": "float64",
                  "type": "float"
                },
                {
                  "name": "porcentagem_idosos",
                  "rawType": "float64",
                  "type": "float"
                }
              ],
              "ref": "7e39d2bb-b00a-44a9-822e-97024dbad4cc",
              "rows": [
                [
                  "212",
                  "213",
                  "Guarulhos",
                  "25",
                  "2",
                  "2020-02-25",
                  "0",
                  "0",
                  "0.0",
                  "0.0",
                  "0",
                  "0",
                  "0.0",
                  "0.0",
                  "0.0",
                  "1351275",
                  "162662",
                  "318.68",
                  "9",
                  "4240.2253043805695",
                  "12.037668128249246"
                ],
                [
                  "857",
                  "858",
                  "Guarulhos",
                  "26",
                  "2",
                  "2020-02-26",
                  "0",
                  "0",
                  "0.0",
                  "0.0",
                  "0",
                  "0",
                  "0.0",
                  "0.0",
                  "0.0",
                  "1351275",
                  "162662",
                  "318.68",
                  "9",
                  "4240.2253043805695",
                  "12.037668128249246"
                ],
                [
                  "1502",
                  "1503",
                  "Guarulhos",
                  "27",
                  "2",
                  "2020-02-27",
                  "0",
                  "0",
                  "0.0",
                  "0.0",
                  "0",
                  "0",
                  "0.0",
                  "0.0",
                  "0.0",
                  "1351275",
                  "162662",
                  "318.68",
                  "9",
                  "4240.2253043805695",
                  "12.037668128249246"
                ]
              ],
              "shape": {
                "columns": 20,
                "rows": 3
              }
            },
            "text/html": [
              "<div>\n",
              "<style scoped>\n",
              "    .dataframe tbody tr th:only-of-type {\n",
              "        vertical-align: middle;\n",
              "    }\n",
              "\n",
              "    .dataframe tbody tr th {\n",
              "        vertical-align: top;\n",
              "    }\n",
              "\n",
              "    .dataframe thead th {\n",
              "        text-align: right;\n",
              "    }\n",
              "</style>\n",
              "<table border=\"1\" class=\"dataframe\">\n",
              "  <thead>\n",
              "    <tr style=\"text-align: right;\">\n",
              "      <th></th>\n",
              "      <th>indice</th>\n",
              "      <th>municipio</th>\n",
              "      <th>dia</th>\n",
              "      <th>mes</th>\n",
              "      <th>data</th>\n",
              "      <th>casos</th>\n",
              "      <th>casos_novos</th>\n",
              "      <th>casos_pc</th>\n",
              "      <th>casos_mm7d</th>\n",
              "      <th>obitos</th>\n",
              "      <th>obitos_novos</th>\n",
              "      <th>obitos_pc</th>\n",
              "      <th>obitos_mm7d</th>\n",
              "      <th>letalidade</th>\n",
              "      <th>pop</th>\n",
              "      <th>pop_60</th>\n",
              "      <th>area</th>\n",
              "      <th>semana_epidem</th>\n",
              "      <th>densidade</th>\n",
              "      <th>porcentagem_idosos</th>\n",
              "    </tr>\n",
              "  </thead>\n",
              "  <tbody>\n",
              "    <tr>\n",
              "      <th>212</th>\n",
              "      <td>213</td>\n",
              "      <td>Guarulhos</td>\n",
              "      <td>25</td>\n",
              "      <td>2</td>\n",
              "      <td>2020-02-25</td>\n",
              "      <td>0</td>\n",
              "      <td>0</td>\n",
              "      <td>0.0</td>\n",
              "      <td>0.0</td>\n",
              "      <td>0</td>\n",
              "      <td>0</td>\n",
              "      <td>0.0</td>\n",
              "      <td>0.0</td>\n",
              "      <td>0.0</td>\n",
              "      <td>1351275</td>\n",
              "      <td>162662</td>\n",
              "      <td>318.68</td>\n",
              "      <td>9</td>\n",
              "      <td>4240.225304</td>\n",
              "      <td>12.037668</td>\n",
              "    </tr>\n",
              "    <tr>\n",
              "      <th>857</th>\n",
              "      <td>858</td>\n",
              "      <td>Guarulhos</td>\n",
              "      <td>26</td>\n",
              "      <td>2</td>\n",
              "      <td>2020-02-26</td>\n",
              "      <td>0</td>\n",
              "      <td>0</td>\n",
              "      <td>0.0</td>\n",
              "      <td>0.0</td>\n",
              "      <td>0</td>\n",
              "      <td>0</td>\n",
              "      <td>0.0</td>\n",
              "      <td>0.0</td>\n",
              "      <td>0.0</td>\n",
              "      <td>1351275</td>\n",
              "      <td>162662</td>\n",
              "      <td>318.68</td>\n",
              "      <td>9</td>\n",
              "      <td>4240.225304</td>\n",
              "      <td>12.037668</td>\n",
              "    </tr>\n",
              "    <tr>\n",
              "      <th>1502</th>\n",
              "      <td>1503</td>\n",
              "      <td>Guarulhos</td>\n",
              "      <td>27</td>\n",
              "      <td>2</td>\n",
              "      <td>2020-02-27</td>\n",
              "      <td>0</td>\n",
              "      <td>0</td>\n",
              "      <td>0.0</td>\n",
              "      <td>0.0</td>\n",
              "      <td>0</td>\n",
              "      <td>0</td>\n",
              "      <td>0.0</td>\n",
              "      <td>0.0</td>\n",
              "      <td>0.0</td>\n",
              "      <td>1351275</td>\n",
              "      <td>162662</td>\n",
              "      <td>318.68</td>\n",
              "      <td>9</td>\n",
              "      <td>4240.225304</td>\n",
              "      <td>12.037668</td>\n",
              "    </tr>\n",
              "  </tbody>\n",
              "</table>\n",
              "</div>"
            ],
            "text/plain": [
              "      indice  municipio  dia  mes        data  casos  casos_novos  casos_pc  \\\n",
              "212      213  Guarulhos   25    2  2020-02-25      0            0       0.0   \n",
              "857      858  Guarulhos   26    2  2020-02-26      0            0       0.0   \n",
              "1502    1503  Guarulhos   27    2  2020-02-27      0            0       0.0   \n",
              "\n",
              "      casos_mm7d  obitos  obitos_novos  obitos_pc  obitos_mm7d  letalidade  \\\n",
              "212          0.0       0             0        0.0          0.0         0.0   \n",
              "857          0.0       0             0        0.0          0.0         0.0   \n",
              "1502         0.0       0             0        0.0          0.0         0.0   \n",
              "\n",
              "          pop  pop_60    area  semana_epidem    densidade  porcentagem_idosos  \n",
              "212   1351275  162662  318.68              9  4240.225304           12.037668  \n",
              "857   1351275  162662  318.68              9  4240.225304           12.037668  \n",
              "1502  1351275  162662  318.68              9  4240.225304           12.037668  "
            ]
          },
          "execution_count": 9,
          "metadata": {},
          "output_type": "execute_result"
        }
      ],
      "source": [
        "# Criação de uma coluna com a porcentagem de idosos\n",
        "covid_guarulhos['porcentagem_idosos'] = 100*covid_guarulhos['pop_60'] / covid_guarulhos['pop']\n",
        "covid_guarulhos.head(3)"
      ]
    },
    {
      "cell_type": "code",
      "execution_count": 10,
      "metadata": {
        "id": "s6vqeMJ6wScu"
      },
      "outputs": [
        {
          "data": {
            "text/plain": [
              "(579, 20)"
            ]
          },
          "execution_count": 10,
          "metadata": {},
          "output_type": "execute_result"
        }
      ],
      "source": [
        "covid_campinas.shape"
      ]
    },
    {
      "cell_type": "code",
      "execution_count": 11,
      "metadata": {
        "id": "Go16RtCMwVp-"
      },
      "outputs": [
        {
          "data": {
            "text/plain": [
              "(579, 20)"
            ]
          },
          "execution_count": 11,
          "metadata": {},
          "output_type": "execute_result"
        }
      ],
      "source": [
        "covid_guarulhos.shape"
      ]
    },
    {
      "cell_type": "markdown",
      "metadata": {},
      "source": [
        "## *Medidas de tendência central*"
      ]
    },
    {
      "cell_type": "markdown",
      "metadata": {},
      "source": [
        "### Média\n",
        "A soma dos valores dividido pela quantidade de valores\n",
        "\n",
        "    Utiliza-se .mean()"
      ]
    },
    {
      "cell_type": "code",
      "execution_count": 12,
      "metadata": {},
      "outputs": [
        {
          "data": {
            "text/plain": [
              "194.88946459412782"
            ]
          },
          "execution_count": 12,
          "metadata": {},
          "output_type": "execute_result"
        }
      ],
      "source": [
        "# Média de todos os valores da coluna\n",
        "covid_campinas['obitos_novos'].mean()\n",
        "# Mesma coisa mas usando como se fosse umn método\n",
        "covid_campinas.casos_novos.mean()   "
      ]
    },
    {
      "cell_type": "code",
      "execution_count": 13,
      "metadata": {},
      "outputs": [
        {
          "data": {
            "text/plain": [
              "8.404145077720207"
            ]
          },
          "execution_count": 13,
          "metadata": {},
          "output_type": "execute_result"
        }
      ],
      "source": [
        "# Agora de guarulhos\n",
        "covid_guarulhos['obitos_novos'].mean()\n"
      ]
    },
    {
      "cell_type": "code",
      "execution_count": 14,
      "metadata": {},
      "outputs": [
        {
          "data": {
            "text/plain": [
              "109.496"
            ]
          },
          "execution_count": 14,
          "metadata": {},
          "output_type": "execute_result"
        }
      ],
      "source": [
        "round(covid_guarulhos['casos_novos'].mean(),3)"
      ]
    },
    {
      "cell_type": "markdown",
      "metadata": {},
      "source": [
        "### Mediana\n",
        "A posição central dos dados\n",
        "\n",
        "    Utiliza-se .median()"
      ]
    },
    {
      "cell_type": "code",
      "execution_count": 15,
      "metadata": {},
      "outputs": [
        {
          "name": "stdout",
          "output_type": "stream",
          "text": [
            "A Mediana de Campinas é 148.0 e Guarulhos é 87.0.\n"
          ]
        }
      ],
      "source": [
        "campinas = round(covid_campinas['casos_novos'].median(),2)\n",
        "guarulhos = round(covid_guarulhos['casos_novos'].median(),2)\n",
        "\n",
        "print(f'A Mediana de Campinas é {campinas} e Guarulhos é {guarulhos}.')"
      ]
    },
    {
      "cell_type": "code",
      "execution_count": 16,
      "metadata": {},
      "outputs": [
        {
          "name": "stdout",
          "output_type": "stream",
          "text": [
            "A Mediana de obitos_novos em Campinas é 5.0 e Guarulhos é 4.0.\n"
          ]
        }
      ],
      "source": [
        "campinas = round(covid_campinas['obitos_novos'].median(),2)\n",
        "guarulhos = round(covid_guarulhos['obitos_novos'].median(),2)\n",
        "\n",
        "print(f'A Mediana de obitos_novos em Campinas é {campinas} e Guarulhos é {guarulhos}.')"
      ]
    },
    {
      "cell_type": "markdown",
      "metadata": {},
      "source": [
        "### Moda\n",
        "Valor que aparece com mais frequência\n",
        "\n",
        "    ******Utiliza-se .mode()******\n",
        "\n",
        "- Amodal  - Não tem repetição nas entradas\n",
        "- Bimodal - Duas Modas\n",
        "- Trimodal - três modas"
      ]
    },
    {
      "cell_type": "code",
      "execution_count": 17,
      "metadata": {},
      "outputs": [
        {
          "data": {
            "application/vnd.microsoft.datawrangler.viewer.v0+json": {
              "columns": [
                {
                  "name": "index",
                  "rawType": "int64",
                  "type": "integer"
                },
                {
                  "name": "mes",
                  "rawType": "int64",
                  "type": "integer"
                }
              ],
              "ref": "44eef327-b9cc-41c0-aa91-7956a26451c4",
              "rows": [
                [
                  "0",
                  "3"
                ],
                [
                  "1",
                  "5"
                ],
                [
                  "2",
                  "7"
                ],
                [
                  "3",
                  "8"
                ]
              ],
              "shape": {
                "columns": 1,
                "rows": 4
              }
            },
            "text/plain": [
              "0    3\n",
              "1    5\n",
              "2    7\n",
              "3    8\n",
              "Name: mes, dtype: int64"
            ]
          },
          "execution_count": 17,
          "metadata": {},
          "output_type": "execute_result"
        }
      ],
      "source": [
        "\"\"\"\n",
        "São os meses que tem 31 dias\n",
        "Como moda pega os valores que mais se repetem, e o registro é diário\n",
        "Quantos mais dias por mês mais vai aparecer\n",
        "\"\"\"\n",
        "covid_campinas['mes'].mode()        "
      ]
    },
    {
      "cell_type": "code",
      "execution_count": 18,
      "metadata": {},
      "outputs": [
        {
          "data": {
            "application/vnd.microsoft.datawrangler.viewer.v0+json": {
              "columns": [
                {
                  "name": "index",
                  "rawType": "object",
                  "type": "string"
                },
                {
                  "name": "indice",
                  "rawType": "float64",
                  "type": "float"
                },
                {
                  "name": "dia",
                  "rawType": "float64",
                  "type": "float"
                },
                {
                  "name": "mes",
                  "rawType": "float64",
                  "type": "float"
                },
                {
                  "name": "casos",
                  "rawType": "float64",
                  "type": "float"
                },
                {
                  "name": "casos_novos",
                  "rawType": "float64",
                  "type": "float"
                },
                {
                  "name": "casos_pc",
                  "rawType": "float64",
                  "type": "float"
                },
                {
                  "name": "casos_mm7d",
                  "rawType": "float64",
                  "type": "float"
                },
                {
                  "name": "obitos",
                  "rawType": "float64",
                  "type": "float"
                },
                {
                  "name": "obitos_novos",
                  "rawType": "float64",
                  "type": "float"
                },
                {
                  "name": "obitos_pc",
                  "rawType": "float64",
                  "type": "float"
                },
                {
                  "name": "obitos_mm7d",
                  "rawType": "float64",
                  "type": "float"
                },
                {
                  "name": "letalidade",
                  "rawType": "float64",
                  "type": "float"
                },
                {
                  "name": "pop",
                  "rawType": "float64",
                  "type": "float"
                },
                {
                  "name": "pop_60",
                  "rawType": "float64",
                  "type": "float"
                },
                {
                  "name": "area",
                  "rawType": "float64",
                  "type": "float"
                },
                {
                  "name": "semana_epidem",
                  "rawType": "float64",
                  "type": "float"
                },
                {
                  "name": "densidade",
                  "rawType": "float64",
                  "type": "float"
                },
                {
                  "name": "porcentagem_idosos",
                  "rawType": "float64",
                  "type": "float"
                }
              ],
              "ref": "4c980662-4d07-45b1-96ce-73d68e53cd2c",
              "rows": [
                [
                  "count",
                  "579.0",
                  "579.0",
                  "579.0",
                  "579.0",
                  "579.0",
                  "579.0",
                  "579.0",
                  "579.0",
                  "579.0",
                  "579.0",
                  "579.0",
                  "579.0",
                  "579.0",
                  "579.0",
                  "579.0",
                  "579.0",
                  "579.0",
                  "579.0"
                ],
                [
                  "mean",
                  "186514.0",
                  "15.74",
                  "6.27",
                  "46549.33",
                  "194.89",
                  "3959.96",
                  "194.43",
                  "1763.33",
                  "7.72",
                  "150.01",
                  "7.7",
                  "0.04",
                  "1175501.0",
                  "192796.0",
                  "794.57",
                  "25.79",
                  "1479.42",
                  "16.4"
                ],
                [
                  "std",
                  "107900.23",
                  "8.8",
                  "3.02",
                  "36212.35",
                  "173.93",
                  "3080.59",
                  "115.73",
                  "1427.15",
                  "8.96",
                  "121.41",
                  "5.99",
                  "0.01",
                  "0.0",
                  "0.0",
                  "0.0",
                  "13.39",
                  "0.0",
                  "0.0"
                ],
                [
                  "min",
                  "109.0",
                  "1.0",
                  "1.0",
                  "0.0",
                  "0.0",
                  "0.0",
                  "0.0",
                  "0.0",
                  "0.0",
                  "0.0",
                  "0.0",
                  "0.0",
                  "1175501.0",
                  "192796.0",
                  "794.57",
                  "1.0",
                  "1479.42",
                  "16.4"
                ],
                [
                  "25%",
                  "93311.5",
                  "8.0",
                  "4.0",
                  "12926.0",
                  "39.0",
                  "1099.62",
                  "91.64",
                  "540.5",
                  "1.0",
                  "45.98",
                  "2.57",
                  "0.04",
                  "1175501.0",
                  "192796.0",
                  "794.57",
                  "15.0",
                  "1479.42",
                  "16.4"
                ],
                [
                  "50%",
                  "186514.0",
                  "16.0",
                  "6.0",
                  "39112.0",
                  "148.0",
                  "3327.26",
                  "216.71",
                  "1407.0",
                  "5.0",
                  "119.69",
                  "7.43",
                  "0.04",
                  "1175501.0",
                  "192796.0",
                  "794.57",
                  "25.0",
                  "1479.42",
                  "16.4"
                ],
                [
                  "75%",
                  "279716.5",
                  "23.0",
                  "9.0",
                  "77445.5",
                  "326.0",
                  "6588.3",
                  "283.36",
                  "3048.5",
                  "12.0",
                  "259.34",
                  "11.0",
                  "0.04",
                  "1175501.0",
                  "192796.0",
                  "794.57",
                  "36.0",
                  "1479.42",
                  "16.4"
                ],
                [
                  "max",
                  "372919.0",
                  "31.0",
                  "12.0",
                  "112841.0",
                  "1080.0",
                  "9599.4",
                  "442.43",
                  "4471.0",
                  "67.0",
                  "380.35",
                  "29.29",
                  "0.15",
                  "1175501.0",
                  "192796.0",
                  "794.57",
                  "53.0",
                  "1479.42",
                  "16.4"
                ]
              ],
              "shape": {
                "columns": 18,
                "rows": 8
              }
            },
            "text/html": [
              "<div>\n",
              "<style scoped>\n",
              "    .dataframe tbody tr th:only-of-type {\n",
              "        vertical-align: middle;\n",
              "    }\n",
              "\n",
              "    .dataframe tbody tr th {\n",
              "        vertical-align: top;\n",
              "    }\n",
              "\n",
              "    .dataframe thead th {\n",
              "        text-align: right;\n",
              "    }\n",
              "</style>\n",
              "<table border=\"1\" class=\"dataframe\">\n",
              "  <thead>\n",
              "    <tr style=\"text-align: right;\">\n",
              "      <th></th>\n",
              "      <th>indice</th>\n",
              "      <th>dia</th>\n",
              "      <th>mes</th>\n",
              "      <th>casos</th>\n",
              "      <th>casos_novos</th>\n",
              "      <th>casos_pc</th>\n",
              "      <th>casos_mm7d</th>\n",
              "      <th>obitos</th>\n",
              "      <th>obitos_novos</th>\n",
              "      <th>obitos_pc</th>\n",
              "      <th>obitos_mm7d</th>\n",
              "      <th>letalidade</th>\n",
              "      <th>pop</th>\n",
              "      <th>pop_60</th>\n",
              "      <th>area</th>\n",
              "      <th>semana_epidem</th>\n",
              "      <th>densidade</th>\n",
              "      <th>porcentagem_idosos</th>\n",
              "    </tr>\n",
              "  </thead>\n",
              "  <tbody>\n",
              "    <tr>\n",
              "      <th>count</th>\n",
              "      <td>579.00</td>\n",
              "      <td>579.00</td>\n",
              "      <td>579.00</td>\n",
              "      <td>579.00</td>\n",
              "      <td>579.00</td>\n",
              "      <td>579.00</td>\n",
              "      <td>579.00</td>\n",
              "      <td>579.00</td>\n",
              "      <td>579.00</td>\n",
              "      <td>579.00</td>\n",
              "      <td>579.00</td>\n",
              "      <td>579.00</td>\n",
              "      <td>579.0</td>\n",
              "      <td>579.0</td>\n",
              "      <td>579.00</td>\n",
              "      <td>579.00</td>\n",
              "      <td>579.00</td>\n",
              "      <td>579.0</td>\n",
              "    </tr>\n",
              "    <tr>\n",
              "      <th>mean</th>\n",
              "      <td>186514.00</td>\n",
              "      <td>15.74</td>\n",
              "      <td>6.27</td>\n",
              "      <td>46549.33</td>\n",
              "      <td>194.89</td>\n",
              "      <td>3959.96</td>\n",
              "      <td>194.43</td>\n",
              "      <td>1763.33</td>\n",
              "      <td>7.72</td>\n",
              "      <td>150.01</td>\n",
              "      <td>7.70</td>\n",
              "      <td>0.04</td>\n",
              "      <td>1175501.0</td>\n",
              "      <td>192796.0</td>\n",
              "      <td>794.57</td>\n",
              "      <td>25.79</td>\n",
              "      <td>1479.42</td>\n",
              "      <td>16.4</td>\n",
              "    </tr>\n",
              "    <tr>\n",
              "      <th>std</th>\n",
              "      <td>107900.23</td>\n",
              "      <td>8.80</td>\n",
              "      <td>3.02</td>\n",
              "      <td>36212.35</td>\n",
              "      <td>173.93</td>\n",
              "      <td>3080.59</td>\n",
              "      <td>115.73</td>\n",
              "      <td>1427.15</td>\n",
              "      <td>8.96</td>\n",
              "      <td>121.41</td>\n",
              "      <td>5.99</td>\n",
              "      <td>0.01</td>\n",
              "      <td>0.0</td>\n",
              "      <td>0.0</td>\n",
              "      <td>0.00</td>\n",
              "      <td>13.39</td>\n",
              "      <td>0.00</td>\n",
              "      <td>0.0</td>\n",
              "    </tr>\n",
              "    <tr>\n",
              "      <th>min</th>\n",
              "      <td>109.00</td>\n",
              "      <td>1.00</td>\n",
              "      <td>1.00</td>\n",
              "      <td>0.00</td>\n",
              "      <td>0.00</td>\n",
              "      <td>0.00</td>\n",
              "      <td>0.00</td>\n",
              "      <td>0.00</td>\n",
              "      <td>0.00</td>\n",
              "      <td>0.00</td>\n",
              "      <td>0.00</td>\n",
              "      <td>0.00</td>\n",
              "      <td>1175501.0</td>\n",
              "      <td>192796.0</td>\n",
              "      <td>794.57</td>\n",
              "      <td>1.00</td>\n",
              "      <td>1479.42</td>\n",
              "      <td>16.4</td>\n",
              "    </tr>\n",
              "    <tr>\n",
              "      <th>25%</th>\n",
              "      <td>93311.50</td>\n",
              "      <td>8.00</td>\n",
              "      <td>4.00</td>\n",
              "      <td>12926.00</td>\n",
              "      <td>39.00</td>\n",
              "      <td>1099.62</td>\n",
              "      <td>91.64</td>\n",
              "      <td>540.50</td>\n",
              "      <td>1.00</td>\n",
              "      <td>45.98</td>\n",
              "      <td>2.57</td>\n",
              "      <td>0.04</td>\n",
              "      <td>1175501.0</td>\n",
              "      <td>192796.0</td>\n",
              "      <td>794.57</td>\n",
              "      <td>15.00</td>\n",
              "      <td>1479.42</td>\n",
              "      <td>16.4</td>\n",
              "    </tr>\n",
              "    <tr>\n",
              "      <th>50%</th>\n",
              "      <td>186514.00</td>\n",
              "      <td>16.00</td>\n",
              "      <td>6.00</td>\n",
              "      <td>39112.00</td>\n",
              "      <td>148.00</td>\n",
              "      <td>3327.26</td>\n",
              "      <td>216.71</td>\n",
              "      <td>1407.00</td>\n",
              "      <td>5.00</td>\n",
              "      <td>119.69</td>\n",
              "      <td>7.43</td>\n",
              "      <td>0.04</td>\n",
              "      <td>1175501.0</td>\n",
              "      <td>192796.0</td>\n",
              "      <td>794.57</td>\n",
              "      <td>25.00</td>\n",
              "      <td>1479.42</td>\n",
              "      <td>16.4</td>\n",
              "    </tr>\n",
              "    <tr>\n",
              "      <th>75%</th>\n",
              "      <td>279716.50</td>\n",
              "      <td>23.00</td>\n",
              "      <td>9.00</td>\n",
              "      <td>77445.50</td>\n",
              "      <td>326.00</td>\n",
              "      <td>6588.30</td>\n",
              "      <td>283.36</td>\n",
              "      <td>3048.50</td>\n",
              "      <td>12.00</td>\n",
              "      <td>259.34</td>\n",
              "      <td>11.00</td>\n",
              "      <td>0.04</td>\n",
              "      <td>1175501.0</td>\n",
              "      <td>192796.0</td>\n",
              "      <td>794.57</td>\n",
              "      <td>36.00</td>\n",
              "      <td>1479.42</td>\n",
              "      <td>16.4</td>\n",
              "    </tr>\n",
              "    <tr>\n",
              "      <th>max</th>\n",
              "      <td>372919.00</td>\n",
              "      <td>31.00</td>\n",
              "      <td>12.00</td>\n",
              "      <td>112841.00</td>\n",
              "      <td>1080.00</td>\n",
              "      <td>9599.40</td>\n",
              "      <td>442.43</td>\n",
              "      <td>4471.00</td>\n",
              "      <td>67.00</td>\n",
              "      <td>380.35</td>\n",
              "      <td>29.29</td>\n",
              "      <td>0.15</td>\n",
              "      <td>1175501.0</td>\n",
              "      <td>192796.0</td>\n",
              "      <td>794.57</td>\n",
              "      <td>53.00</td>\n",
              "      <td>1479.42</td>\n",
              "      <td>16.4</td>\n",
              "    </tr>\n",
              "  </tbody>\n",
              "</table>\n",
              "</div>"
            ],
            "text/plain": [
              "          indice     dia     mes      casos  casos_novos  casos_pc  \\\n",
              "count     579.00  579.00  579.00     579.00       579.00    579.00   \n",
              "mean   186514.00   15.74    6.27   46549.33       194.89   3959.96   \n",
              "std    107900.23    8.80    3.02   36212.35       173.93   3080.59   \n",
              "min       109.00    1.00    1.00       0.00         0.00      0.00   \n",
              "25%     93311.50    8.00    4.00   12926.00        39.00   1099.62   \n",
              "50%    186514.00   16.00    6.00   39112.00       148.00   3327.26   \n",
              "75%    279716.50   23.00    9.00   77445.50       326.00   6588.30   \n",
              "max    372919.00   31.00   12.00  112841.00      1080.00   9599.40   \n",
              "\n",
              "       casos_mm7d   obitos  obitos_novos  obitos_pc  obitos_mm7d  letalidade  \\\n",
              "count      579.00   579.00        579.00     579.00       579.00      579.00   \n",
              "mean       194.43  1763.33          7.72     150.01         7.70        0.04   \n",
              "std        115.73  1427.15          8.96     121.41         5.99        0.01   \n",
              "min          0.00     0.00          0.00       0.00         0.00        0.00   \n",
              "25%         91.64   540.50          1.00      45.98         2.57        0.04   \n",
              "50%        216.71  1407.00          5.00     119.69         7.43        0.04   \n",
              "75%        283.36  3048.50         12.00     259.34        11.00        0.04   \n",
              "max        442.43  4471.00         67.00     380.35        29.29        0.15   \n",
              "\n",
              "             pop    pop_60    area  semana_epidem  densidade  \\\n",
              "count      579.0     579.0  579.00         579.00     579.00   \n",
              "mean   1175501.0  192796.0  794.57          25.79    1479.42   \n",
              "std          0.0       0.0    0.00          13.39       0.00   \n",
              "min    1175501.0  192796.0  794.57           1.00    1479.42   \n",
              "25%    1175501.0  192796.0  794.57          15.00    1479.42   \n",
              "50%    1175501.0  192796.0  794.57          25.00    1479.42   \n",
              "75%    1175501.0  192796.0  794.57          36.00    1479.42   \n",
              "max    1175501.0  192796.0  794.57          53.00    1479.42   \n",
              "\n",
              "       porcentagem_idosos  \n",
              "count               579.0  \n",
              "mean                 16.4  \n",
              "std                   0.0  \n",
              "min                  16.4  \n",
              "25%                  16.4  \n",
              "50%                  16.4  \n",
              "75%                  16.4  \n",
              "max                  16.4  "
            ]
          },
          "execution_count": 18,
          "metadata": {},
          "output_type": "execute_result"
        }
      ],
      "source": [
        "'''\n",
        "O .describe() Já traz a contagem, max, min, média(mean), as % são os quartis\n",
        "std é o desvio padrão\n",
        "'''\n",
        "round(covid_campinas.describe(),2)"
      ]
    },
    {
      "cell_type": "code",
      "execution_count": 19,
      "metadata": {},
      "outputs": [
        {
          "data": {
            "application/vnd.microsoft.datawrangler.viewer.v0+json": {
              "columns": [
                {
                  "name": "index",
                  "rawType": "object",
                  "type": "string"
                },
                {
                  "name": "casos_novos",
                  "rawType": "float64",
                  "type": "float"
                }
              ],
              "ref": "fb943cab-42cd-469d-98fc-3b2f58a72532",
              "rows": [
                [
                  "count",
                  "579.0"
                ],
                [
                  "mean",
                  "194.89"
                ],
                [
                  "std",
                  "173.93"
                ],
                [
                  "min",
                  "0.0"
                ],
                [
                  "25%",
                  "39.0"
                ],
                [
                  "50%",
                  "148.0"
                ],
                [
                  "75%",
                  "326.0"
                ],
                [
                  "max",
                  "1080.0"
                ]
              ],
              "shape": {
                "columns": 1,
                "rows": 8
              }
            },
            "text/plain": [
              "count     579.00\n",
              "mean      194.89\n",
              "std       173.93\n",
              "min         0.00\n",
              "25%        39.00\n",
              "50%       148.00\n",
              "75%       326.00\n",
              "max      1080.00\n",
              "Name: casos_novos, dtype: float64"
            ]
          },
          "execution_count": 19,
          "metadata": {},
          "output_type": "execute_result"
        }
      ],
      "source": [
        "round(covid_campinas['casos_novos'].describe(),2)"
      ]
    },
    {
      "cell_type": "code",
      "execution_count": 20,
      "metadata": {},
      "outputs": [
        {
          "data": {
            "application/vnd.microsoft.datawrangler.viewer.v0+json": {
              "columns": [
                {
                  "name": "index",
                  "rawType": "int64",
                  "type": "integer"
                },
                {
                  "name": "indice",
                  "rawType": "int64",
                  "type": "integer"
                },
                {
                  "name": "municipio",
                  "rawType": "object",
                  "type": "string"
                },
                {
                  "name": "dia",
                  "rawType": "int64",
                  "type": "integer"
                },
                {
                  "name": "mes",
                  "rawType": "int64",
                  "type": "integer"
                },
                {
                  "name": "data",
                  "rawType": "object",
                  "type": "string"
                },
                {
                  "name": "casos",
                  "rawType": "int64",
                  "type": "integer"
                },
                {
                  "name": "casos_novos",
                  "rawType": "int64",
                  "type": "integer"
                },
                {
                  "name": "casos_pc",
                  "rawType": "float64",
                  "type": "float"
                },
                {
                  "name": "casos_mm7d",
                  "rawType": "float64",
                  "type": "float"
                },
                {
                  "name": "obitos",
                  "rawType": "int64",
                  "type": "integer"
                },
                {
                  "name": "obitos_novos",
                  "rawType": "int64",
                  "type": "integer"
                },
                {
                  "name": "obitos_pc",
                  "rawType": "float64",
                  "type": "float"
                },
                {
                  "name": "obitos_mm7d",
                  "rawType": "float64",
                  "type": "float"
                },
                {
                  "name": "letalidade",
                  "rawType": "float64",
                  "type": "float"
                },
                {
                  "name": "pop",
                  "rawType": "int64",
                  "type": "integer"
                },
                {
                  "name": "pop_60",
                  "rawType": "int64",
                  "type": "integer"
                },
                {
                  "name": "area",
                  "rawType": "float64",
                  "type": "float"
                },
                {
                  "name": "semana_epidem",
                  "rawType": "int64",
                  "type": "integer"
                },
                {
                  "name": "densidade",
                  "rawType": "float64",
                  "type": "float"
                },
                {
                  "name": "porcentagem_idosos",
                  "rawType": "float64",
                  "type": "float"
                }
              ],
              "ref": "e286459f-4d23-4e20-80ce-852296ceeb43",
              "rows": [
                [
                  "200703",
                  "200704",
                  "Campinas",
                  "1",
                  "1",
                  "2021-01-01",
                  "43502",
                  "92",
                  "3700.71994834543",
                  "205.28571428571428",
                  "1474",
                  "0",
                  "125.39334292357",
                  "4.285714285714286",
                  "0.0338834996092133",
                  "1175501",
                  "192796",
                  "794.57",
                  "53",
                  "1479.417798306002",
                  "16.401177030049315"
                ],
                [
                  "201348",
                  "201349",
                  "Campinas",
                  "2",
                  "1",
                  "2021-01-02",
                  "43508",
                  "6",
                  "3701.23036900862",
                  "203.8571428571429",
                  "1475",
                  "1",
                  "125.478413034102",
                  "4.428571428571429",
                  "0.0339018111611657",
                  "1175501",
                  "192796",
                  "794.57",
                  "53",
                  "1479.417798306002",
                  "16.401177030049315"
                ],
                [
                  "201993",
                  "201994",
                  "Campinas",
                  "3",
                  "1",
                  "2021-01-03",
                  "43561",
                  "53",
                  "3705.73908486679",
                  "207.42857142857144",
                  "1476",
                  "1",
                  "125.563483144634",
                  "4.285714285714286",
                  "0.033883519662083",
                  "1175501",
                  "192796",
                  "794.57",
                  "1",
                  "1479.417798306002",
                  "16.401177030049315"
                ],
                [
                  "202638",
                  "202639",
                  "Campinas",
                  "4",
                  "1",
                  "2021-01-04",
                  "43603",
                  "42",
                  "3709.31202950912",
                  "205.8571428571429",
                  "1476",
                  "0",
                  "125.563483144634",
                  "4.0",
                  "0.0338508818200582",
                  "1175501",
                  "192796",
                  "794.57",
                  "1",
                  "1479.417798306002",
                  "16.401177030049315"
                ],
                [
                  "203283",
                  "203284",
                  "Campinas",
                  "5",
                  "1",
                  "2021-01-05",
                  "44035",
                  "432",
                  "3746.06231725877",
                  "186.28571428571428",
                  "1487",
                  "11",
                  "126.499254360481",
                  "3.428571428571428",
                  "0.0337685931645282",
                  "1175501",
                  "192796",
                  "794.57",
                  "1",
                  "1479.417798306002",
                  "16.401177030049315"
                ],
                [
                  "203928",
                  "203929",
                  "Campinas",
                  "6",
                  "1",
                  "2021-01-06",
                  "44429",
                  "394",
                  "3779.57994080822",
                  "186.0",
                  "1493",
                  "6",
                  "127.009675023671",
                  "3.857142857142857",
                  "0.0336041774516644",
                  "1175501",
                  "192796",
                  "794.57",
                  "1",
                  "1479.417798306002",
                  "16.401177030049315"
                ],
                [
                  "204573",
                  "204574",
                  "Campinas",
                  "7",
                  "1",
                  "2021-01-07",
                  "44822",
                  "393",
                  "3813.01249424713",
                  "201.7142857142857",
                  "1501",
                  "8",
                  "127.690235907924",
                  "3.857142857142857",
                  "0.0334880192762482",
                  "1175501",
                  "192796",
                  "794.57",
                  "1",
                  "1479.417798306002",
                  "16.401177030049315"
                ],
                [
                  "205218",
                  "205219",
                  "Campinas",
                  "8",
                  "1",
                  "2021-01-08",
                  "45155",
                  "333",
                  "3841.34084105415",
                  "236.14285714285717",
                  "1505",
                  "4",
                  "128.03051635005",
                  "4.428571428571429",
                  "0.0333296423430406",
                  "1175501",
                  "192796",
                  "794.57",
                  "1",
                  "1479.417798306002",
                  "16.401177030049315"
                ],
                [
                  "205863",
                  "205864",
                  "Campinas",
                  "9",
                  "1",
                  "2021-01-09",
                  "45602",
                  "447",
                  "3879.36718046178",
                  "299.1428571428572",
                  "1513",
                  "8",
                  "128.711077234303",
                  "5.428571428571429",
                  "0.0331783693697644",
                  "1175501",
                  "192796",
                  "794.57",
                  "1",
                  "1479.417798306002",
                  "16.401177030049315"
                ],
                [
                  "206508",
                  "206509",
                  "Campinas",
                  "10",
                  "1",
                  "2021-01-10",
                  "45671",
                  "69",
                  "3885.23701808846",
                  "301.42857142857144",
                  "1515",
                  "2",
                  "128.881217455366",
                  "5.571428571428571",
                  "0.0331720347704232",
                  "1175501",
                  "192796",
                  "794.57",
                  "2",
                  "1479.417798306002",
                  "16.401177030049315"
                ],
                [
                  "207153",
                  "207154",
                  "Campinas",
                  "11",
                  "1",
                  "2021-01-11",
                  "45748",
                  "77",
                  "3891.78741659939",
                  "306.42857142857144",
                  "1516",
                  "1",
                  "128.966287565897",
                  "5.714285714285714",
                  "0.0331380606802483",
                  "1175501",
                  "192796",
                  "794.57",
                  "2",
                  "1479.417798306002",
                  "16.401177030049315"
                ],
                [
                  "207798",
                  "207799",
                  "Campinas",
                  "12",
                  "1",
                  "2021-01-12",
                  "46165",
                  "417",
                  "3927.26165269107",
                  "304.2857142857143",
                  "1529",
                  "13",
                  "130.072199002808",
                  "6.0",
                  "0.0331203292537636",
                  "1175501",
                  "192796",
                  "794.57",
                  "2",
                  "1479.417798306002",
                  "16.401177030049315"
                ],
                [
                  "208443",
                  "208444",
                  "Campinas",
                  "13",
                  "1",
                  "2021-01-13",
                  "46506",
                  "341",
                  "3956.27056038234",
                  "296.7142857142857",
                  "1535",
                  "6",
                  "130.582619665998",
                  "6.0",
                  "0.033006493785748",
                  "1175501",
                  "192796",
                  "794.57",
                  "2",
                  "1479.417798306002",
                  "16.401177030049315"
                ],
                [
                  "209088",
                  "209089",
                  "Campinas",
                  "14",
                  "1",
                  "2021-01-14",
                  "46882",
                  "376",
                  "3988.25692194222",
                  "294.2857142857143",
                  "1539",
                  "4",
                  "130.922900108124",
                  "5.428571428571429",
                  "0.0328270978200588",
                  "1175501",
                  "192796",
                  "794.57",
                  "2",
                  "1479.417798306002",
                  "16.401177030049315"
                ],
                [
                  "209733",
                  "209734",
                  "Campinas",
                  "15",
                  "1",
                  "2021-01-15",
                  "47258",
                  "376",
                  "4020.2432835021",
                  "300.42857142857144",
                  "1552",
                  "13",
                  "132.028811545035",
                  "6.714285714285714",
                  "0.0328410004655296",
                  "1175501",
                  "192796",
                  "794.57",
                  "2",
                  "1479.417798306002",
                  "16.401177030049315"
                ],
                [
                  "210378",
                  "210379",
                  "Campinas",
                  "16",
                  "1",
                  "2021-01-16",
                  "47597",
                  "339",
                  "4049.08205097231",
                  "285.0",
                  "1555",
                  "3",
                  "132.28402187663",
                  "6.0",
                  "0.0326701262684622",
                  "1175501",
                  "192796",
                  "794.57",
                  "2",
                  "1479.417798306002",
                  "16.401177030049315"
                ],
                [
                  "211023",
                  "211024",
                  "Campinas",
                  "17",
                  "1",
                  "2021-01-17",
                  "47731",
                  "134",
                  "4060.48144578354",
                  "294.2857142857143",
                  "1559",
                  "4",
                  "132.624302318756",
                  "6.285714285714286",
                  "0.032662211141606",
                  "1175501",
                  "192796",
                  "794.57",
                  "3",
                  "1479.417798306002",
                  "16.401177030049315"
                ],
                [
                  "211668",
                  "211669",
                  "Campinas",
                  "18",
                  "1",
                  "2021-01-18",
                  "47767",
                  "36",
                  "4063.54396976268",
                  "288.42857142857144",
                  "1560",
                  "1",
                  "132.709372429288",
                  "6.285714285714286",
                  "0.0326585299474532",
                  "1175501",
                  "192796",
                  "794.57",
                  "3",
                  "1479.417798306002",
                  "16.401177030049315"
                ],
                [
                  "212313",
                  "212314",
                  "Campinas",
                  "19",
                  "1",
                  "2021-01-19",
                  "48222",
                  "455",
                  "4102.25087005455",
                  "293.85714285714283",
                  "1567",
                  "7",
                  "133.304863203009",
                  "5.428571428571429",
                  "0.032495541454108",
                  "1175501",
                  "192796",
                  "794.57",
                  "3",
                  "1479.417798306002",
                  "16.401177030049315"
                ],
                [
                  "212958",
                  "212959",
                  "Campinas",
                  "20",
                  "1",
                  "2021-01-20",
                  "48739",
                  "517",
                  "4146.23211719939",
                  "319.0",
                  "1579",
                  "12",
                  "134.325704529388",
                  "6.285714285714286",
                  "0.0323970536941668",
                  "1175501",
                  "192796",
                  "794.57",
                  "3",
                  "1479.417798306002",
                  "16.401177030049315"
                ],
                [
                  "213603",
                  "213604",
                  "Campinas",
                  "21",
                  "1",
                  "2021-01-21",
                  "49024",
                  "285",
                  "4170.47709870089",
                  "306.0",
                  "1588",
                  "9",
                  "135.091335524172",
                  "7.0",
                  "0.0323922976501305",
                  "1175501",
                  "192796",
                  "794.57",
                  "3",
                  "1479.417798306002",
                  "16.401177030049315"
                ],
                [
                  "214248",
                  "214249",
                  "Campinas",
                  "22",
                  "1",
                  "2021-01-22",
                  "49217",
                  "193",
                  "4186.89563003349",
                  "279.85714285714283",
                  "1596",
                  "8",
                  "135.771896408425",
                  "6.285714285714286",
                  "0.0324278196558099",
                  "1175501",
                  "192796",
                  "794.57",
                  "3",
                  "1479.417798306002",
                  "16.401177030049315"
                ],
                [
                  "214893",
                  "214894",
                  "Campinas",
                  "23",
                  "1",
                  "2021-01-23",
                  "49677",
                  "460",
                  "4226.02788087803",
                  "297.1428571428572",
                  "1602",
                  "6",
                  "136.282317071615",
                  "6.714285714285714",
                  "0.0322483241741651",
                  "1175501",
                  "192796",
                  "794.57",
                  "3",
                  "1479.417798306002",
                  "16.401177030049315"
                ],
                [
                  "215538",
                  "215539",
                  "Campinas",
                  "24",
                  "1",
                  "2021-01-24",
                  "49825",
                  "148",
                  "4238.6182572367",
                  "299.1428571428572",
                  "1602",
                  "0",
                  "136.282317071615",
                  "6.142857142857143",
                  "0.0321525338685398",
                  "1175501",
                  "192796",
                  "794.57",
                  "4",
                  "1479.417798306002",
                  "16.401177030049315"
                ],
                [
                  "216183",
                  "216184",
                  "Campinas",
                  "25",
                  "1",
                  "2021-01-25",
                  "49894",
                  "69",
                  "4244.48809486338",
                  "303.85714285714283",
                  "1603",
                  "1",
                  "136.367387182146",
                  "6.142857142857143",
                  "0.0321281115965847",
                  "1175501",
                  "192796",
                  "794.57",
                  "4",
                  "1479.417798306002",
                  "16.401177030049315"
                ],
                [
                  "216828",
                  "216829",
                  "Campinas",
                  "26",
                  "1",
                  "2021-01-26",
                  "50372",
                  "478",
                  "4285.15160769748",
                  "307.1428571428572",
                  "1612",
                  "9",
                  "137.133018176931",
                  "6.428571428571429",
                  "0.032001905820694",
                  "1175501",
                  "192796",
                  "794.57",
                  "4",
                  "1479.417798306002",
                  "16.401177030049315"
                ],
                [
                  "217473",
                  "217474",
                  "Campinas",
                  "27",
                  "1",
                  "2021-01-27",
                  "50870",
                  "498",
                  "4327.51652274222",
                  "304.42857142857144",
                  "1621",
                  "9",
                  "137.898649171715",
                  "6.0",
                  "0.0318655396107725",
                  "1175501",
                  "192796",
                  "794.57",
                  "4",
                  "1479.417798306002",
                  "16.401177030049315"
                ],
                [
                  "218118",
                  "218119",
                  "Campinas",
                  "28",
                  "1",
                  "2021-01-28",
                  "51177",
                  "307",
                  "4353.63304667542",
                  "307.57142857142856",
                  "1633",
                  "12",
                  "138.919490498094",
                  "6.428571428571429",
                  "0.0319088653105887",
                  "1175501",
                  "192796",
                  "794.57",
                  "4",
                  "1479.417798306002",
                  "16.401177030049315"
                ],
                [
                  "218763",
                  "218764",
                  "Campinas",
                  "29",
                  "1",
                  "2021-01-29",
                  "51476",
                  "299",
                  "4379.06900972436",
                  "322.7142857142857",
                  "1640",
                  "7",
                  "139.514981271815",
                  "6.285714285714286",
                  "0.0318595073432279",
                  "1175501",
                  "192796",
                  "794.57",
                  "4",
                  "1479.417798306002",
                  "16.401177030049315"
                ],
                [
                  "219408",
                  "219409",
                  "Campinas",
                  "30",
                  "1",
                  "2021-01-30",
                  "51747",
                  "271",
                  "4402.12300967843",
                  "295.7142857142857",
                  "1646",
                  "6",
                  "140.025401935005",
                  "6.285714285714286",
                  "0.0318086072622567",
                  "1175501",
                  "192796",
                  "794.57",
                  "4",
                  "1479.417798306002",
                  "16.401177030049315"
                ],
                [
                  "220053",
                  "220054",
                  "Campinas",
                  "31",
                  "1",
                  "2021-01-31",
                  "51795",
                  "48",
                  "4406.20637498394",
                  "281.42857142857144",
                  "1646",
                  "0",
                  "140.025401935005",
                  "6.285714285714286",
                  "0.031779129259581",
                  "1175501",
                  "192796",
                  "794.57",
                  "5",
                  "1479.417798306002",
                  "16.401177030049315"
                ],
                [
                  "220698",
                  "220699",
                  "Campinas",
                  "1",
                  "2",
                  "2021-02-01",
                  "51873",
                  "78",
                  "4412.84184360541",
                  "282.7142857142857",
                  "1646",
                  "0",
                  "140.025401935005",
                  "6.142857142857143",
                  "0.0317313438590403",
                  "1175501",
                  "192796",
                  "794.57",
                  "5",
                  "1479.417798306002",
                  "16.401177030049315"
                ],
                [
                  "221343",
                  "221344",
                  "Campinas",
                  "2",
                  "2",
                  "2021-02-02",
                  "52140",
                  "267",
                  "4435.55556311734",
                  "252.57142857142856",
                  "1658",
                  "12",
                  "141.046243261384",
                  "6.571428571428571",
                  "0.0317990026850786",
                  "1175501",
                  "192796",
                  "794.57",
                  "5",
                  "1479.417798306002",
                  "16.401177030049315"
                ],
                [
                  "221988",
                  "221989",
                  "Campinas",
                  "3",
                  "2",
                  "2021-02-03",
                  "52336",
                  "196",
                  "4452.22930478154",
                  "209.42857142857144",
                  "1669",
                  "11",
                  "141.982014477231",
                  "6.857142857142857",
                  "0.0318900947722409",
                  "1175501",
                  "192796",
                  "794.57",
                  "5",
                  "1479.417798306002",
                  "16.401177030049315"
                ],
                [
                  "222633",
                  "222634",
                  "Campinas",
                  "4",
                  "2",
                  "2021-02-04",
                  "52725",
                  "389",
                  "4485.32157777833",
                  "221.14285714285717",
                  "1683",
                  "14",
                  "143.172996024674",
                  "7.142857142857143",
                  "0.0319203413940256",
                  "1175501",
                  "192796",
                  "794.57",
                  "5",
                  "1479.417798306002",
                  "16.401177030049315"
                ],
                [
                  "223278",
                  "223279",
                  "Campinas",
                  "5",
                  "2",
                  "2021-02-05",
                  "53055",
                  "330",
                  "4513.39471425375",
                  "225.57142857142856",
                  "1692",
                  "9",
                  "143.938627019458",
                  "7.428571428571429",
                  "0.0318914334181509",
                  "1175501",
                  "192796",
                  "794.57",
                  "5",
                  "1479.417798306002",
                  "16.401177030049315"
                ],
                [
                  "223923",
                  "223924",
                  "Campinas",
                  "6",
                  "2",
                  "2021-02-06",
                  "53391",
                  "336",
                  "4541.97827139237",
                  "234.8571428571429",
                  "1699",
                  "7",
                  "144.534117793179",
                  "7.571428571428571",
                  "0.0318218426326534",
                  "1175501",
                  "192796",
                  "794.57",
                  "5",
                  "1479.417798306002",
                  "16.401177030049315"
                ],
                [
                  "224568",
                  "224569",
                  "Campinas",
                  "7",
                  "2",
                  "2021-02-07",
                  "53489",
                  "98",
                  "4550.31514222446",
                  "242.0",
                  "1699",
                  "0",
                  "144.534117793179",
                  "7.571428571428571",
                  "0.0317635401671371",
                  "1175501",
                  "192796",
                  "794.57",
                  "6",
                  "1479.417798306002",
                  "16.401177030049315"
                ],
                [
                  "225213",
                  "225214",
                  "Campinas",
                  "8",
                  "2",
                  "2021-02-08",
                  "53515",
                  "26",
                  "4552.52696509829",
                  "234.57142857142856",
                  "1699",
                  "0",
                  "144.534117793179",
                  "7.571428571428571",
                  "0.0317481080071008",
                  "1175501",
                  "192796",
                  "794.57",
                  "6",
                  "1479.417798306002",
                  "16.401177030049315"
                ],
                [
                  "225858",
                  "225859",
                  "Campinas",
                  "9",
                  "2",
                  "2021-02-09",
                  "53835",
                  "320",
                  "4579.7494004684",
                  "242.14285714285717",
                  "1713",
                  "14",
                  "145.725099340622",
                  "7.857142857142857",
                  "0.0318194483142936",
                  "1175501",
                  "192796",
                  "794.57",
                  "6",
                  "1479.417798306002",
                  "16.401177030049315"
                ],
                [
                  "226503",
                  "226504",
                  "Campinas",
                  "10",
                  "2",
                  "2021-02-10",
                  "54187",
                  "352",
                  "4609.69407937552",
                  "264.42857142857144",
                  "1734",
                  "21",
                  "147.511571661785",
                  "9.285714285714286",
                  "0.0320002952737741",
                  "1175501",
                  "192796",
                  "794.57",
                  "6",
                  "1479.417798306002",
                  "16.401177030049315"
                ],
                [
                  "227148",
                  "227149",
                  "Campinas",
                  "11",
                  "2",
                  "2021-02-11",
                  "54446",
                  "259",
                  "4631.7272380032",
                  "245.8571428571429",
                  "1746",
                  "12",
                  "148.532412988164",
                  "9.0",
                  "0.0320684715130588",
                  "1175501",
                  "192796",
                  "794.57",
                  "6",
                  "1479.417798306002",
                  "16.401177030049315"
                ],
                [
                  "227793",
                  "227794",
                  "Campinas",
                  "12",
                  "2",
                  "2021-02-12",
                  "54799",
                  "353",
                  "4661.75698702085",
                  "249.14285714285717",
                  "1750",
                  "4",
                  "148.872693430291",
                  "8.285714285714286",
                  "0.0319348893227978",
                  "1175501",
                  "192796",
                  "794.57",
                  "6",
                  "1479.417798306002",
                  "16.401177030049315"
                ],
                [
                  "228438",
                  "228439",
                  "Campinas",
                  "13",
                  "2",
                  "2021-02-13",
                  "55035",
                  "236",
                  "4681.83353310631",
                  "234.8571428571429",
                  "1759",
                  "9",
                  "149.638324425075",
                  "8.571428571428571",
                  "0.0319614790587807",
                  "1175501",
                  "192796",
                  "794.57",
                  "6",
                  "1479.417798306002",
                  "16.401177030049315"
                ],
                [
                  "229083",
                  "229084",
                  "Campinas",
                  "14",
                  "2",
                  "2021-02-14",
                  "55112",
                  "77",
                  "4688.38393161724",
                  "231.8571428571429",
                  "1760",
                  "1",
                  "149.723394535607",
                  "8.714285714285714",
                  "0.0319349687908259",
                  "1175501",
                  "192796",
                  "794.57",
                  "7",
                  "1479.417798306002",
                  "16.401177030049315"
                ],
                [
                  "229728",
                  "229729",
                  "Campinas",
                  "15",
                  "2",
                  "2021-02-15",
                  "55171",
                  "59",
                  "4693.40306813861",
                  "236.57142857142856",
                  "1760",
                  "0",
                  "149.723394535607",
                  "8.714285714285714",
                  "0.0319008174584473",
                  "1175501",
                  "192796",
                  "794.57",
                  "7",
                  "1479.417798306002",
                  "16.401177030049315"
                ],
                [
                  "230373",
                  "230374",
                  "Campinas",
                  "16",
                  "2",
                  "2021-02-16",
                  "55449",
                  "278",
                  "4717.05255886639",
                  "230.57142857142856",
                  "1775",
                  "15",
                  "150.99944619358",
                  "8.857142857142858",
                  "0.0320113978610975",
                  "1175501",
                  "192796",
                  "794.57",
                  "7",
                  "1479.417798306002",
                  "16.401177030049315"
                ],
                [
                  "231018",
                  "231019",
                  "Campinas",
                  "17",
                  "2",
                  "2021-02-17",
                  "55765",
                  "316",
                  "4743.93471379437",
                  "225.42857142857144",
                  "1786",
                  "11",
                  "151.935217409428",
                  "7.428571428571429",
                  "0.0320272572402044",
                  "1175501",
                  "192796",
                  "794.57",
                  "7",
                  "1479.417798306002",
                  "16.401177030049315"
                ],
                [
                  "231663",
                  "231664",
                  "Campinas",
                  "18",
                  "2",
                  "2021-02-18",
                  "56065",
                  "300",
                  "4769.45574695385",
                  "231.28571428571428",
                  "1795",
                  "9",
                  "152.700848404212",
                  "7.0",
                  "0.0320164095246588",
                  "1175501",
                  "192796",
                  "794.57",
                  "7",
                  "1479.417798306002",
                  "16.401177030049315"
                ],
                [
                  "232308",
                  "232309",
                  "Campinas",
                  "19",
                  "2",
                  "2021-02-19",
                  "56311",
                  "246",
                  "4790.38299414462",
                  "216.0",
                  "1801",
                  "6",
                  "153.211269067402",
                  "7.285714285714286",
                  "0.0319830938892933",
                  "1175501",
                  "192796",
                  "794.57",
                  "7",
                  "1479.417798306002",
                  "16.401177030049315"
                ]
              ],
              "shape": {
                "columns": 20,
                "rows": 268
              }
            },
            "text/html": [
              "<div>\n",
              "<style scoped>\n",
              "    .dataframe tbody tr th:only-of-type {\n",
              "        vertical-align: middle;\n",
              "    }\n",
              "\n",
              "    .dataframe tbody tr th {\n",
              "        vertical-align: top;\n",
              "    }\n",
              "\n",
              "    .dataframe thead th {\n",
              "        text-align: right;\n",
              "    }\n",
              "</style>\n",
              "<table border=\"1\" class=\"dataframe\">\n",
              "  <thead>\n",
              "    <tr style=\"text-align: right;\">\n",
              "      <th></th>\n",
              "      <th>indice</th>\n",
              "      <th>municipio</th>\n",
              "      <th>dia</th>\n",
              "      <th>mes</th>\n",
              "      <th>data</th>\n",
              "      <th>casos</th>\n",
              "      <th>casos_novos</th>\n",
              "      <th>casos_pc</th>\n",
              "      <th>casos_mm7d</th>\n",
              "      <th>obitos</th>\n",
              "      <th>obitos_novos</th>\n",
              "      <th>obitos_pc</th>\n",
              "      <th>obitos_mm7d</th>\n",
              "      <th>letalidade</th>\n",
              "      <th>pop</th>\n",
              "      <th>pop_60</th>\n",
              "      <th>area</th>\n",
              "      <th>semana_epidem</th>\n",
              "      <th>densidade</th>\n",
              "      <th>porcentagem_idosos</th>\n",
              "    </tr>\n",
              "  </thead>\n",
              "  <tbody>\n",
              "    <tr>\n",
              "      <th>200703</th>\n",
              "      <td>200704</td>\n",
              "      <td>Campinas</td>\n",
              "      <td>1</td>\n",
              "      <td>1</td>\n",
              "      <td>2021-01-01</td>\n",
              "      <td>43502</td>\n",
              "      <td>92</td>\n",
              "      <td>3700.719948</td>\n",
              "      <td>205.285714</td>\n",
              "      <td>1474</td>\n",
              "      <td>0</td>\n",
              "      <td>125.393343</td>\n",
              "      <td>4.285714</td>\n",
              "      <td>0.033883</td>\n",
              "      <td>1175501</td>\n",
              "      <td>192796</td>\n",
              "      <td>794.57</td>\n",
              "      <td>53</td>\n",
              "      <td>1479.417798</td>\n",
              "      <td>16.401177</td>\n",
              "    </tr>\n",
              "    <tr>\n",
              "      <th>201348</th>\n",
              "      <td>201349</td>\n",
              "      <td>Campinas</td>\n",
              "      <td>2</td>\n",
              "      <td>1</td>\n",
              "      <td>2021-01-02</td>\n",
              "      <td>43508</td>\n",
              "      <td>6</td>\n",
              "      <td>3701.230369</td>\n",
              "      <td>203.857143</td>\n",
              "      <td>1475</td>\n",
              "      <td>1</td>\n",
              "      <td>125.478413</td>\n",
              "      <td>4.428571</td>\n",
              "      <td>0.033902</td>\n",
              "      <td>1175501</td>\n",
              "      <td>192796</td>\n",
              "      <td>794.57</td>\n",
              "      <td>53</td>\n",
              "      <td>1479.417798</td>\n",
              "      <td>16.401177</td>\n",
              "    </tr>\n",
              "    <tr>\n",
              "      <th>201993</th>\n",
              "      <td>201994</td>\n",
              "      <td>Campinas</td>\n",
              "      <td>3</td>\n",
              "      <td>1</td>\n",
              "      <td>2021-01-03</td>\n",
              "      <td>43561</td>\n",
              "      <td>53</td>\n",
              "      <td>3705.739085</td>\n",
              "      <td>207.428571</td>\n",
              "      <td>1476</td>\n",
              "      <td>1</td>\n",
              "      <td>125.563483</td>\n",
              "      <td>4.285714</td>\n",
              "      <td>0.033884</td>\n",
              "      <td>1175501</td>\n",
              "      <td>192796</td>\n",
              "      <td>794.57</td>\n",
              "      <td>1</td>\n",
              "      <td>1479.417798</td>\n",
              "      <td>16.401177</td>\n",
              "    </tr>\n",
              "    <tr>\n",
              "      <th>202638</th>\n",
              "      <td>202639</td>\n",
              "      <td>Campinas</td>\n",
              "      <td>4</td>\n",
              "      <td>1</td>\n",
              "      <td>2021-01-04</td>\n",
              "      <td>43603</td>\n",
              "      <td>42</td>\n",
              "      <td>3709.312030</td>\n",
              "      <td>205.857143</td>\n",
              "      <td>1476</td>\n",
              "      <td>0</td>\n",
              "      <td>125.563483</td>\n",
              "      <td>4.000000</td>\n",
              "      <td>0.033851</td>\n",
              "      <td>1175501</td>\n",
              "      <td>192796</td>\n",
              "      <td>794.57</td>\n",
              "      <td>1</td>\n",
              "      <td>1479.417798</td>\n",
              "      <td>16.401177</td>\n",
              "    </tr>\n",
              "    <tr>\n",
              "      <th>203283</th>\n",
              "      <td>203284</td>\n",
              "      <td>Campinas</td>\n",
              "      <td>5</td>\n",
              "      <td>1</td>\n",
              "      <td>2021-01-05</td>\n",
              "      <td>44035</td>\n",
              "      <td>432</td>\n",
              "      <td>3746.062317</td>\n",
              "      <td>186.285714</td>\n",
              "      <td>1487</td>\n",
              "      <td>11</td>\n",
              "      <td>126.499254</td>\n",
              "      <td>3.428571</td>\n",
              "      <td>0.033769</td>\n",
              "      <td>1175501</td>\n",
              "      <td>192796</td>\n",
              "      <td>794.57</td>\n",
              "      <td>1</td>\n",
              "      <td>1479.417798</td>\n",
              "      <td>16.401177</td>\n",
              "    </tr>\n",
              "    <tr>\n",
              "      <th>...</th>\n",
              "      <td>...</td>\n",
              "      <td>...</td>\n",
              "      <td>...</td>\n",
              "      <td>...</td>\n",
              "      <td>...</td>\n",
              "      <td>...</td>\n",
              "      <td>...</td>\n",
              "      <td>...</td>\n",
              "      <td>...</td>\n",
              "      <td>...</td>\n",
              "      <td>...</td>\n",
              "      <td>...</td>\n",
              "      <td>...</td>\n",
              "      <td>...</td>\n",
              "      <td>...</td>\n",
              "      <td>...</td>\n",
              "      <td>...</td>\n",
              "      <td>...</td>\n",
              "      <td>...</td>\n",
              "      <td>...</td>\n",
              "    </tr>\n",
              "    <tr>\n",
              "      <th>370338</th>\n",
              "      <td>370339</td>\n",
              "      <td>Campinas</td>\n",
              "      <td>21</td>\n",
              "      <td>9</td>\n",
              "      <td>2021-09-21</td>\n",
              "      <td>112492</td>\n",
              "      <td>207</td>\n",
              "      <td>9569.706874</td>\n",
              "      <td>192.714286</td>\n",
              "      <td>4449</td>\n",
              "      <td>3</td>\n",
              "      <td>378.476922</td>\n",
              "      <td>3.428571</td>\n",
              "      <td>0.039549</td>\n",
              "      <td>1175501</td>\n",
              "      <td>192796</td>\n",
              "      <td>794.57</td>\n",
              "      <td>38</td>\n",
              "      <td>1479.417798</td>\n",
              "      <td>16.401177</td>\n",
              "    </tr>\n",
              "    <tr>\n",
              "      <th>370983</th>\n",
              "      <td>370984</td>\n",
              "      <td>Campinas</td>\n",
              "      <td>22</td>\n",
              "      <td>9</td>\n",
              "      <td>2021-09-22</td>\n",
              "      <td>112624</td>\n",
              "      <td>132</td>\n",
              "      <td>9580.936129</td>\n",
              "      <td>211.000000</td>\n",
              "      <td>4461</td>\n",
              "      <td>12</td>\n",
              "      <td>379.497763</td>\n",
              "      <td>3.428571</td>\n",
              "      <td>0.039610</td>\n",
              "      <td>1175501</td>\n",
              "      <td>192796</td>\n",
              "      <td>794.57</td>\n",
              "      <td>38</td>\n",
              "      <td>1479.417798</td>\n",
              "      <td>16.401177</td>\n",
              "    </tr>\n",
              "    <tr>\n",
              "      <th>371628</th>\n",
              "      <td>371629</td>\n",
              "      <td>Campinas</td>\n",
              "      <td>23</td>\n",
              "      <td>9</td>\n",
              "      <td>2021-09-23</td>\n",
              "      <td>112745</td>\n",
              "      <td>121</td>\n",
              "      <td>9591.229612</td>\n",
              "      <td>227.571429</td>\n",
              "      <td>4464</td>\n",
              "      <td>3</td>\n",
              "      <td>379.752973</td>\n",
              "      <td>3.571429</td>\n",
              "      <td>0.039594</td>\n",
              "      <td>1175501</td>\n",
              "      <td>192796</td>\n",
              "      <td>794.57</td>\n",
              "      <td>38</td>\n",
              "      <td>1479.417798</td>\n",
              "      <td>16.401177</td>\n",
              "    </tr>\n",
              "    <tr>\n",
              "      <th>372273</th>\n",
              "      <td>372274</td>\n",
              "      <td>Campinas</td>\n",
              "      <td>24</td>\n",
              "      <td>9</td>\n",
              "      <td>2021-09-24</td>\n",
              "      <td>112773</td>\n",
              "      <td>28</td>\n",
              "      <td>9593.611575</td>\n",
              "      <td>77.285714</td>\n",
              "      <td>4467</td>\n",
              "      <td>3</td>\n",
              "      <td>380.008184</td>\n",
              "      <td>3.428571</td>\n",
              "      <td>0.039611</td>\n",
              "      <td>1175501</td>\n",
              "      <td>192796</td>\n",
              "      <td>794.57</td>\n",
              "      <td>38</td>\n",
              "      <td>1479.417798</td>\n",
              "      <td>16.401177</td>\n",
              "    </tr>\n",
              "    <tr>\n",
              "      <th>372918</th>\n",
              "      <td>372919</td>\n",
              "      <td>Campinas</td>\n",
              "      <td>25</td>\n",
              "      <td>9</td>\n",
              "      <td>2021-09-25</td>\n",
              "      <td>112841</td>\n",
              "      <td>68</td>\n",
              "      <td>9599.396342</td>\n",
              "      <td>83.285714</td>\n",
              "      <td>4471</td>\n",
              "      <td>4</td>\n",
              "      <td>380.348464</td>\n",
              "      <td>3.571429</td>\n",
              "      <td>0.039622</td>\n",
              "      <td>1175501</td>\n",
              "      <td>192796</td>\n",
              "      <td>794.57</td>\n",
              "      <td>38</td>\n",
              "      <td>1479.417798</td>\n",
              "      <td>16.401177</td>\n",
              "    </tr>\n",
              "  </tbody>\n",
              "</table>\n",
              "<p>268 rows × 20 columns</p>\n",
              "</div>"
            ],
            "text/plain": [
              "        indice municipio  dia  mes        data   casos  casos_novos  \\\n",
              "200703  200704  Campinas    1    1  2021-01-01   43502           92   \n",
              "201348  201349  Campinas    2    1  2021-01-02   43508            6   \n",
              "201993  201994  Campinas    3    1  2021-01-03   43561           53   \n",
              "202638  202639  Campinas    4    1  2021-01-04   43603           42   \n",
              "203283  203284  Campinas    5    1  2021-01-05   44035          432   \n",
              "...        ...       ...  ...  ...         ...     ...          ...   \n",
              "370338  370339  Campinas   21    9  2021-09-21  112492          207   \n",
              "370983  370984  Campinas   22    9  2021-09-22  112624          132   \n",
              "371628  371629  Campinas   23    9  2021-09-23  112745          121   \n",
              "372273  372274  Campinas   24    9  2021-09-24  112773           28   \n",
              "372918  372919  Campinas   25    9  2021-09-25  112841           68   \n",
              "\n",
              "           casos_pc  casos_mm7d  obitos  obitos_novos   obitos_pc  \\\n",
              "200703  3700.719948  205.285714    1474             0  125.393343   \n",
              "201348  3701.230369  203.857143    1475             1  125.478413   \n",
              "201993  3705.739085  207.428571    1476             1  125.563483   \n",
              "202638  3709.312030  205.857143    1476             0  125.563483   \n",
              "203283  3746.062317  186.285714    1487            11  126.499254   \n",
              "...             ...         ...     ...           ...         ...   \n",
              "370338  9569.706874  192.714286    4449             3  378.476922   \n",
              "370983  9580.936129  211.000000    4461            12  379.497763   \n",
              "371628  9591.229612  227.571429    4464             3  379.752973   \n",
              "372273  9593.611575   77.285714    4467             3  380.008184   \n",
              "372918  9599.396342   83.285714    4471             4  380.348464   \n",
              "\n",
              "        obitos_mm7d  letalidade      pop  pop_60    area  semana_epidem  \\\n",
              "200703     4.285714    0.033883  1175501  192796  794.57             53   \n",
              "201348     4.428571    0.033902  1175501  192796  794.57             53   \n",
              "201993     4.285714    0.033884  1175501  192796  794.57              1   \n",
              "202638     4.000000    0.033851  1175501  192796  794.57              1   \n",
              "203283     3.428571    0.033769  1175501  192796  794.57              1   \n",
              "...             ...         ...      ...     ...     ...            ...   \n",
              "370338     3.428571    0.039549  1175501  192796  794.57             38   \n",
              "370983     3.428571    0.039610  1175501  192796  794.57             38   \n",
              "371628     3.571429    0.039594  1175501  192796  794.57             38   \n",
              "372273     3.428571    0.039611  1175501  192796  794.57             38   \n",
              "372918     3.571429    0.039622  1175501  192796  794.57             38   \n",
              "\n",
              "          densidade  porcentagem_idosos  \n",
              "200703  1479.417798           16.401177  \n",
              "201348  1479.417798           16.401177  \n",
              "201993  1479.417798           16.401177  \n",
              "202638  1479.417798           16.401177  \n",
              "203283  1479.417798           16.401177  \n",
              "...             ...                 ...  \n",
              "370338  1479.417798           16.401177  \n",
              "370983  1479.417798           16.401177  \n",
              "371628  1479.417798           16.401177  \n",
              "372273  1479.417798           16.401177  \n",
              "372918  1479.417798           16.401177  \n",
              "\n",
              "[268 rows x 20 columns]"
            ]
          },
          "execution_count": 20,
          "metadata": {},
          "output_type": "execute_result"
        }
      ],
      "source": [
        "covid_campinas2021 = covid_campinas.loc[covid_campinas['data'] > '2020-12-31']\n",
        "covid_campinas2021"
      ]
    },
    {
      "cell_type": "code",
      "execution_count": 21,
      "metadata": {},
      "outputs": [
        {
          "data": {
            "text/plain": [
              "(268, 20)"
            ]
          },
          "execution_count": 21,
          "metadata": {},
          "output_type": "execute_result"
        }
      ],
      "source": [
        "covid_campinas2021.shape"
      ]
    },
    {
      "cell_type": "code",
      "execution_count": 22,
      "metadata": {},
      "outputs": [
        {
          "name": "stdout",
          "output_type": "stream",
          "text": [
            "Referente a cidade de Campinas  temos os seguintes dados:\n",
            "A média é 11.\n",
            "A mediana é 9.\n",
            "A moda é 0    0\n",
            "Name: obitos_novos, dtype: int64.\n"
          ]
        }
      ],
      "source": [
        "media = covid_campinas2021['obitos_novos'].mean()\n",
        "mediana = covid_campinas2021['obitos_novos'].median()\n",
        "moda = covid_campinas2021['obitos_novos'].mode()\n",
        "\n",
        "print( 'Referente a cidade de Campinas  temos os seguintes dados:')\n",
        "print(f'A média é {media :.0f}.')\n",
        "print(f'A mediana é {mediana :.0f}.')\n",
        "print(f'A moda é {moda}.')"
      ]
    },
    {
      "cell_type": "markdown",
      "metadata": {},
      "source": [
        "### Plotando os resultados"
      ]
    },
    {
      "cell_type": "code",
      "execution_count": 23,
      "metadata": {},
      "outputs": [],
      "source": [
        "import plotly.express as px"
      ]
    },
    {
      "cell_type": "code",
      "execution_count": 24,
      "metadata": {},
      "outputs": [
        {
          "data": {
            "application/vnd.plotly.v1+json": {
              "config": {
                "plotlyServerURL": "https://plot.ly"
              },
              "data": [
                {
                  "alignmentgroup": "True",
                  "bingroup": "x",
                  "hovertemplate": "obitos_novos=%{x}<br>count=%{y}<extra></extra>",
                  "legendgroup": "",
                  "marker": {
                    "color": "#636efa",
                    "pattern": {
                      "shape": ""
                    }
                  },
                  "name": "",
                  "nbinsx": 30,
                  "offsetgroup": "",
                  "orientation": "v",
                  "showlegend": false,
                  "type": "histogram",
                  "x": [
                    0,
                    1,
                    1,
                    0,
                    11,
                    6,
                    8,
                    4,
                    8,
                    2,
                    1,
                    13,
                    6,
                    4,
                    13,
                    3,
                    4,
                    1,
                    7,
                    12,
                    9,
                    8,
                    6,
                    0,
                    1,
                    9,
                    9,
                    12,
                    7,
                    6,
                    0,
                    0,
                    12,
                    11,
                    14,
                    9,
                    7,
                    0,
                    0,
                    14,
                    21,
                    12,
                    4,
                    9,
                    1,
                    0,
                    15,
                    11,
                    9,
                    6,
                    7,
                    3,
                    0,
                    17,
                    7,
                    18,
                    7,
                    8,
                    1,
                    2,
                    12,
                    20,
                    9,
                    13,
                    18,
                    0,
                    0,
                    18,
                    12,
                    10,
                    12,
                    16,
                    5,
                    2,
                    24,
                    25,
                    29,
                    23,
                    24,
                    8,
                    1,
                    33,
                    14,
                    27,
                    26,
                    49,
                    8,
                    4,
                    49,
                    30,
                    39,
                    20,
                    7,
                    0,
                    6,
                    67,
                    28,
                    43,
                    24,
                    24,
                    10,
                    3,
                    43,
                    34,
                    28,
                    15,
                    35,
                    5,
                    2,
                    19,
                    27,
                    9,
                    17,
                    23,
                    0,
                    7,
                    37,
                    22,
                    26,
                    6,
                    16,
                    5,
                    1,
                    17,
                    19,
                    22,
                    12,
                    19,
                    0,
                    0,
                    31,
                    14,
                    10,
                    9,
                    8,
                    0,
                    0,
                    17,
                    13,
                    10,
                    11,
                    11,
                    2,
                    1,
                    25,
                    17,
                    4,
                    3,
                    12,
                    0,
                    2,
                    23,
                    8,
                    13,
                    0,
                    8,
                    4,
                    0,
                    23,
                    20,
                    24,
                    20,
                    9,
                    2,
                    0,
                    20,
                    18,
                    22,
                    17,
                    27,
                    4,
                    2,
                    22,
                    21,
                    15,
                    21,
                    16,
                    2,
                    2,
                    19,
                    26,
                    23,
                    20,
                    8,
                    1,
                    2,
                    27,
                    20,
                    15,
                    13,
                    3,
                    1,
                    0,
                    40,
                    13,
                    13,
                    6,
                    22,
                    0,
                    4,
                    27,
                    9,
                    17,
                    6,
                    15,
                    0,
                    0,
                    10,
                    12,
                    16,
                    8,
                    9,
                    2,
                    0,
                    14,
                    18,
                    9,
                    6,
                    8,
                    0,
                    0,
                    16,
                    12,
                    13,
                    3,
                    21,
                    5,
                    0,
                    18,
                    7,
                    6,
                    6,
                    11,
                    0,
                    2,
                    7,
                    20,
                    10,
                    8,
                    7,
                    1,
                    0,
                    9,
                    10,
                    6,
                    20,
                    6,
                    0,
                    0,
                    2,
                    0,
                    11,
                    12,
                    10,
                    0,
                    3,
                    9,
                    12,
                    2,
                    4,
                    3,
                    0,
                    0,
                    3,
                    12,
                    3,
                    3,
                    4
                  ],
                  "xaxis": "x",
                  "yaxis": "y"
                }
              ],
              "layout": {
                "barmode": "relative",
                "height": 400,
                "legend": {
                  "tracegroupgap": 0
                },
                "margin": {
                  "t": 60
                },
                "template": {
                  "data": {
                    "bar": [
                      {
                        "error_x": {
                          "color": "#2a3f5f"
                        },
                        "error_y": {
                          "color": "#2a3f5f"
                        },
                        "marker": {
                          "line": {
                            "color": "#E5ECF6",
                            "width": 0.5
                          },
                          "pattern": {
                            "fillmode": "overlay",
                            "size": 10,
                            "solidity": 0.2
                          }
                        },
                        "type": "bar"
                      }
                    ],
                    "barpolar": [
                      {
                        "marker": {
                          "line": {
                            "color": "#E5ECF6",
                            "width": 0.5
                          },
                          "pattern": {
                            "fillmode": "overlay",
                            "size": 10,
                            "solidity": 0.2
                          }
                        },
                        "type": "barpolar"
                      }
                    ],
                    "carpet": [
                      {
                        "aaxis": {
                          "endlinecolor": "#2a3f5f",
                          "gridcolor": "white",
                          "linecolor": "white",
                          "minorgridcolor": "white",
                          "startlinecolor": "#2a3f5f"
                        },
                        "baxis": {
                          "endlinecolor": "#2a3f5f",
                          "gridcolor": "white",
                          "linecolor": "white",
                          "minorgridcolor": "white",
                          "startlinecolor": "#2a3f5f"
                        },
                        "type": "carpet"
                      }
                    ],
                    "choropleth": [
                      {
                        "colorbar": {
                          "outlinewidth": 0,
                          "ticks": ""
                        },
                        "type": "choropleth"
                      }
                    ],
                    "contour": [
                      {
                        "colorbar": {
                          "outlinewidth": 0,
                          "ticks": ""
                        },
                        "colorscale": [
                          [
                            0,
                            "#0d0887"
                          ],
                          [
                            0.1111111111111111,
                            "#46039f"
                          ],
                          [
                            0.2222222222222222,
                            "#7201a8"
                          ],
                          [
                            0.3333333333333333,
                            "#9c179e"
                          ],
                          [
                            0.4444444444444444,
                            "#bd3786"
                          ],
                          [
                            0.5555555555555556,
                            "#d8576b"
                          ],
                          [
                            0.6666666666666666,
                            "#ed7953"
                          ],
                          [
                            0.7777777777777778,
                            "#fb9f3a"
                          ],
                          [
                            0.8888888888888888,
                            "#fdca26"
                          ],
                          [
                            1,
                            "#f0f921"
                          ]
                        ],
                        "type": "contour"
                      }
                    ],
                    "contourcarpet": [
                      {
                        "colorbar": {
                          "outlinewidth": 0,
                          "ticks": ""
                        },
                        "type": "contourcarpet"
                      }
                    ],
                    "heatmap": [
                      {
                        "colorbar": {
                          "outlinewidth": 0,
                          "ticks": ""
                        },
                        "colorscale": [
                          [
                            0,
                            "#0d0887"
                          ],
                          [
                            0.1111111111111111,
                            "#46039f"
                          ],
                          [
                            0.2222222222222222,
                            "#7201a8"
                          ],
                          [
                            0.3333333333333333,
                            "#9c179e"
                          ],
                          [
                            0.4444444444444444,
                            "#bd3786"
                          ],
                          [
                            0.5555555555555556,
                            "#d8576b"
                          ],
                          [
                            0.6666666666666666,
                            "#ed7953"
                          ],
                          [
                            0.7777777777777778,
                            "#fb9f3a"
                          ],
                          [
                            0.8888888888888888,
                            "#fdca26"
                          ],
                          [
                            1,
                            "#f0f921"
                          ]
                        ],
                        "type": "heatmap"
                      }
                    ],
                    "heatmapgl": [
                      {
                        "colorbar": {
                          "outlinewidth": 0,
                          "ticks": ""
                        },
                        "colorscale": [
                          [
                            0,
                            "#0d0887"
                          ],
                          [
                            0.1111111111111111,
                            "#46039f"
                          ],
                          [
                            0.2222222222222222,
                            "#7201a8"
                          ],
                          [
                            0.3333333333333333,
                            "#9c179e"
                          ],
                          [
                            0.4444444444444444,
                            "#bd3786"
                          ],
                          [
                            0.5555555555555556,
                            "#d8576b"
                          ],
                          [
                            0.6666666666666666,
                            "#ed7953"
                          ],
                          [
                            0.7777777777777778,
                            "#fb9f3a"
                          ],
                          [
                            0.8888888888888888,
                            "#fdca26"
                          ],
                          [
                            1,
                            "#f0f921"
                          ]
                        ],
                        "type": "heatmapgl"
                      }
                    ],
                    "histogram": [
                      {
                        "marker": {
                          "pattern": {
                            "fillmode": "overlay",
                            "size": 10,
                            "solidity": 0.2
                          }
                        },
                        "type": "histogram"
                      }
                    ],
                    "histogram2d": [
                      {
                        "colorbar": {
                          "outlinewidth": 0,
                          "ticks": ""
                        },
                        "colorscale": [
                          [
                            0,
                            "#0d0887"
                          ],
                          [
                            0.1111111111111111,
                            "#46039f"
                          ],
                          [
                            0.2222222222222222,
                            "#7201a8"
                          ],
                          [
                            0.3333333333333333,
                            "#9c179e"
                          ],
                          [
                            0.4444444444444444,
                            "#bd3786"
                          ],
                          [
                            0.5555555555555556,
                            "#d8576b"
                          ],
                          [
                            0.6666666666666666,
                            "#ed7953"
                          ],
                          [
                            0.7777777777777778,
                            "#fb9f3a"
                          ],
                          [
                            0.8888888888888888,
                            "#fdca26"
                          ],
                          [
                            1,
                            "#f0f921"
                          ]
                        ],
                        "type": "histogram2d"
                      }
                    ],
                    "histogram2dcontour": [
                      {
                        "colorbar": {
                          "outlinewidth": 0,
                          "ticks": ""
                        },
                        "colorscale": [
                          [
                            0,
                            "#0d0887"
                          ],
                          [
                            0.1111111111111111,
                            "#46039f"
                          ],
                          [
                            0.2222222222222222,
                            "#7201a8"
                          ],
                          [
                            0.3333333333333333,
                            "#9c179e"
                          ],
                          [
                            0.4444444444444444,
                            "#bd3786"
                          ],
                          [
                            0.5555555555555556,
                            "#d8576b"
                          ],
                          [
                            0.6666666666666666,
                            "#ed7953"
                          ],
                          [
                            0.7777777777777778,
                            "#fb9f3a"
                          ],
                          [
                            0.8888888888888888,
                            "#fdca26"
                          ],
                          [
                            1,
                            "#f0f921"
                          ]
                        ],
                        "type": "histogram2dcontour"
                      }
                    ],
                    "mesh3d": [
                      {
                        "colorbar": {
                          "outlinewidth": 0,
                          "ticks": ""
                        },
                        "type": "mesh3d"
                      }
                    ],
                    "parcoords": [
                      {
                        "line": {
                          "colorbar": {
                            "outlinewidth": 0,
                            "ticks": ""
                          }
                        },
                        "type": "parcoords"
                      }
                    ],
                    "pie": [
                      {
                        "automargin": true,
                        "type": "pie"
                      }
                    ],
                    "scatter": [
                      {
                        "fillpattern": {
                          "fillmode": "overlay",
                          "size": 10,
                          "solidity": 0.2
                        },
                        "type": "scatter"
                      }
                    ],
                    "scatter3d": [
                      {
                        "line": {
                          "colorbar": {
                            "outlinewidth": 0,
                            "ticks": ""
                          }
                        },
                        "marker": {
                          "colorbar": {
                            "outlinewidth": 0,
                            "ticks": ""
                          }
                        },
                        "type": "scatter3d"
                      }
                    ],
                    "scattercarpet": [
                      {
                        "marker": {
                          "colorbar": {
                            "outlinewidth": 0,
                            "ticks": ""
                          }
                        },
                        "type": "scattercarpet"
                      }
                    ],
                    "scattergeo": [
                      {
                        "marker": {
                          "colorbar": {
                            "outlinewidth": 0,
                            "ticks": ""
                          }
                        },
                        "type": "scattergeo"
                      }
                    ],
                    "scattergl": [
                      {
                        "marker": {
                          "colorbar": {
                            "outlinewidth": 0,
                            "ticks": ""
                          }
                        },
                        "type": "scattergl"
                      }
                    ],
                    "scattermapbox": [
                      {
                        "marker": {
                          "colorbar": {
                            "outlinewidth": 0,
                            "ticks": ""
                          }
                        },
                        "type": "scattermapbox"
                      }
                    ],
                    "scatterpolar": [
                      {
                        "marker": {
                          "colorbar": {
                            "outlinewidth": 0,
                            "ticks": ""
                          }
                        },
                        "type": "scatterpolar"
                      }
                    ],
                    "scatterpolargl": [
                      {
                        "marker": {
                          "colorbar": {
                            "outlinewidth": 0,
                            "ticks": ""
                          }
                        },
                        "type": "scatterpolargl"
                      }
                    ],
                    "scatterternary": [
                      {
                        "marker": {
                          "colorbar": {
                            "outlinewidth": 0,
                            "ticks": ""
                          }
                        },
                        "type": "scatterternary"
                      }
                    ],
                    "surface": [
                      {
                        "colorbar": {
                          "outlinewidth": 0,
                          "ticks": ""
                        },
                        "colorscale": [
                          [
                            0,
                            "#0d0887"
                          ],
                          [
                            0.1111111111111111,
                            "#46039f"
                          ],
                          [
                            0.2222222222222222,
                            "#7201a8"
                          ],
                          [
                            0.3333333333333333,
                            "#9c179e"
                          ],
                          [
                            0.4444444444444444,
                            "#bd3786"
                          ],
                          [
                            0.5555555555555556,
                            "#d8576b"
                          ],
                          [
                            0.6666666666666666,
                            "#ed7953"
                          ],
                          [
                            0.7777777777777778,
                            "#fb9f3a"
                          ],
                          [
                            0.8888888888888888,
                            "#fdca26"
                          ],
                          [
                            1,
                            "#f0f921"
                          ]
                        ],
                        "type": "surface"
                      }
                    ],
                    "table": [
                      {
                        "cells": {
                          "fill": {
                            "color": "#EBF0F8"
                          },
                          "line": {
                            "color": "white"
                          }
                        },
                        "header": {
                          "fill": {
                            "color": "#C8D4E3"
                          },
                          "line": {
                            "color": "white"
                          }
                        },
                        "type": "table"
                      }
                    ]
                  },
                  "layout": {
                    "annotationdefaults": {
                      "arrowcolor": "#2a3f5f",
                      "arrowhead": 0,
                      "arrowwidth": 1
                    },
                    "autotypenumbers": "strict",
                    "coloraxis": {
                      "colorbar": {
                        "outlinewidth": 0,
                        "ticks": ""
                      }
                    },
                    "colorscale": {
                      "diverging": [
                        [
                          0,
                          "#8e0152"
                        ],
                        [
                          0.1,
                          "#c51b7d"
                        ],
                        [
                          0.2,
                          "#de77ae"
                        ],
                        [
                          0.3,
                          "#f1b6da"
                        ],
                        [
                          0.4,
                          "#fde0ef"
                        ],
                        [
                          0.5,
                          "#f7f7f7"
                        ],
                        [
                          0.6,
                          "#e6f5d0"
                        ],
                        [
                          0.7,
                          "#b8e186"
                        ],
                        [
                          0.8,
                          "#7fbc41"
                        ],
                        [
                          0.9,
                          "#4d9221"
                        ],
                        [
                          1,
                          "#276419"
                        ]
                      ],
                      "sequential": [
                        [
                          0,
                          "#0d0887"
                        ],
                        [
                          0.1111111111111111,
                          "#46039f"
                        ],
                        [
                          0.2222222222222222,
                          "#7201a8"
                        ],
                        [
                          0.3333333333333333,
                          "#9c179e"
                        ],
                        [
                          0.4444444444444444,
                          "#bd3786"
                        ],
                        [
                          0.5555555555555556,
                          "#d8576b"
                        ],
                        [
                          0.6666666666666666,
                          "#ed7953"
                        ],
                        [
                          0.7777777777777778,
                          "#fb9f3a"
                        ],
                        [
                          0.8888888888888888,
                          "#fdca26"
                        ],
                        [
                          1,
                          "#f0f921"
                        ]
                      ],
                      "sequentialminus": [
                        [
                          0,
                          "#0d0887"
                        ],
                        [
                          0.1111111111111111,
                          "#46039f"
                        ],
                        [
                          0.2222222222222222,
                          "#7201a8"
                        ],
                        [
                          0.3333333333333333,
                          "#9c179e"
                        ],
                        [
                          0.4444444444444444,
                          "#bd3786"
                        ],
                        [
                          0.5555555555555556,
                          "#d8576b"
                        ],
                        [
                          0.6666666666666666,
                          "#ed7953"
                        ],
                        [
                          0.7777777777777778,
                          "#fb9f3a"
                        ],
                        [
                          0.8888888888888888,
                          "#fdca26"
                        ],
                        [
                          1,
                          "#f0f921"
                        ]
                      ]
                    },
                    "colorway": [
                      "#636efa",
                      "#EF553B",
                      "#00cc96",
                      "#ab63fa",
                      "#FFA15A",
                      "#19d3f3",
                      "#FF6692",
                      "#B6E880",
                      "#FF97FF",
                      "#FECB52"
                    ],
                    "font": {
                      "color": "#2a3f5f"
                    },
                    "geo": {
                      "bgcolor": "white",
                      "lakecolor": "white",
                      "landcolor": "#E5ECF6",
                      "showlakes": true,
                      "showland": true,
                      "subunitcolor": "white"
                    },
                    "hoverlabel": {
                      "align": "left"
                    },
                    "hovermode": "closest",
                    "mapbox": {
                      "style": "light"
                    },
                    "paper_bgcolor": "white",
                    "plot_bgcolor": "#E5ECF6",
                    "polar": {
                      "angularaxis": {
                        "gridcolor": "white",
                        "linecolor": "white",
                        "ticks": ""
                      },
                      "bgcolor": "#E5ECF6",
                      "radialaxis": {
                        "gridcolor": "white",
                        "linecolor": "white",
                        "ticks": ""
                      }
                    },
                    "scene": {
                      "xaxis": {
                        "backgroundcolor": "#E5ECF6",
                        "gridcolor": "white",
                        "gridwidth": 2,
                        "linecolor": "white",
                        "showbackground": true,
                        "ticks": "",
                        "zerolinecolor": "white"
                      },
                      "yaxis": {
                        "backgroundcolor": "#E5ECF6",
                        "gridcolor": "white",
                        "gridwidth": 2,
                        "linecolor": "white",
                        "showbackground": true,
                        "ticks": "",
                        "zerolinecolor": "white"
                      },
                      "zaxis": {
                        "backgroundcolor": "#E5ECF6",
                        "gridcolor": "white",
                        "gridwidth": 2,
                        "linecolor": "white",
                        "showbackground": true,
                        "ticks": "",
                        "zerolinecolor": "white"
                      }
                    },
                    "shapedefaults": {
                      "line": {
                        "color": "#2a3f5f"
                      }
                    },
                    "ternary": {
                      "aaxis": {
                        "gridcolor": "white",
                        "linecolor": "white",
                        "ticks": ""
                      },
                      "baxis": {
                        "gridcolor": "white",
                        "linecolor": "white",
                        "ticks": ""
                      },
                      "bgcolor": "#E5ECF6",
                      "caxis": {
                        "gridcolor": "white",
                        "linecolor": "white",
                        "ticks": ""
                      }
                    },
                    "title": {
                      "x": 0.05
                    },
                    "xaxis": {
                      "automargin": true,
                      "gridcolor": "white",
                      "linecolor": "white",
                      "ticks": "",
                      "title": {
                        "standoff": 15
                      },
                      "zerolinecolor": "white",
                      "zerolinewidth": 2
                    },
                    "yaxis": {
                      "automargin": true,
                      "gridcolor": "white",
                      "linecolor": "white",
                      "ticks": "",
                      "title": {
                        "standoff": 15
                      },
                      "zerolinecolor": "white",
                      "zerolinewidth": 2
                    }
                  }
                },
                "title": {
                  "text": "Obitos novos em Campinas em 2021"
                },
                "width": 400,
                "xaxis": {
                  "anchor": "y",
                  "domain": [
                    0,
                    1
                  ],
                  "title": {
                    "text": "obitos_novos"
                  }
                },
                "yaxis": {
                  "anchor": "x",
                  "domain": [
                    0,
                    1
                  ],
                  "title": {
                    "text": "count"
                  }
                }
              }
            }
          },
          "metadata": {},
          "output_type": "display_data"
        }
      ],
      "source": [
        "grafico = px.histogram(covid_campinas2021, x='obitos_novos', nbins=30, labels=True) #nbins é a largura das barras\n",
        "grafico.update_layout(width = 400, height = 400, title_text = 'Obitos novos em Campinas em 2021')\n",
        "grafico.show()"
      ]
    },
    {
      "cell_type": "code",
      "execution_count": 25,
      "metadata": {},
      "outputs": [
        {
          "data": {
            "application/vnd.plotly.v1+json": {
              "config": {
                "plotlyServerURL": "https://plot.ly"
              },
              "data": [
                {
                  "alignmentgroup": "True",
                  "bingroup": "x",
                  "hovertemplate": "obitos_novos=%{x}<br>count=%{y}<extra></extra>",
                  "legendgroup": "",
                  "marker": {
                    "color": "#636efa",
                    "pattern": {
                      "shape": ""
                    }
                  },
                  "name": "",
                  "nbinsx": 10,
                  "offsetgroup": "",
                  "orientation": "v",
                  "showlegend": false,
                  "type": "histogram",
                  "x": [
                    0,
                    1,
                    1,
                    0,
                    11,
                    6,
                    8,
                    4,
                    8,
                    2,
                    1,
                    13,
                    6,
                    4,
                    13,
                    3,
                    4,
                    1,
                    7,
                    12,
                    9,
                    8,
                    6,
                    0,
                    1,
                    9,
                    9,
                    12,
                    7,
                    6,
                    0,
                    0,
                    12,
                    11,
                    14,
                    9,
                    7,
                    0,
                    0,
                    14,
                    21,
                    12,
                    4,
                    9,
                    1,
                    0,
                    15,
                    11,
                    9,
                    6,
                    7,
                    3,
                    0,
                    17,
                    7,
                    18,
                    7,
                    8,
                    1,
                    2,
                    12,
                    20,
                    9,
                    13,
                    18,
                    0,
                    0,
                    18,
                    12,
                    10,
                    12,
                    16,
                    5,
                    2,
                    24,
                    25,
                    29,
                    23,
                    24,
                    8,
                    1,
                    33,
                    14,
                    27,
                    26,
                    49,
                    8,
                    4,
                    49,
                    30,
                    39,
                    20,
                    7,
                    0,
                    6,
                    67,
                    28,
                    43,
                    24,
                    24,
                    10,
                    3,
                    43,
                    34,
                    28,
                    15,
                    35,
                    5,
                    2,
                    19,
                    27,
                    9,
                    17,
                    23,
                    0,
                    7,
                    37,
                    22,
                    26,
                    6,
                    16,
                    5,
                    1,
                    17,
                    19,
                    22,
                    12,
                    19,
                    0,
                    0,
                    31,
                    14,
                    10,
                    9,
                    8,
                    0,
                    0,
                    17,
                    13,
                    10,
                    11,
                    11,
                    2,
                    1,
                    25,
                    17,
                    4,
                    3,
                    12,
                    0,
                    2,
                    23,
                    8,
                    13,
                    0,
                    8,
                    4,
                    0,
                    23,
                    20,
                    24,
                    20,
                    9,
                    2,
                    0,
                    20,
                    18,
                    22,
                    17,
                    27,
                    4,
                    2,
                    22,
                    21,
                    15,
                    21,
                    16,
                    2,
                    2,
                    19,
                    26,
                    23,
                    20,
                    8,
                    1,
                    2,
                    27,
                    20,
                    15,
                    13,
                    3,
                    1,
                    0,
                    40,
                    13,
                    13,
                    6,
                    22,
                    0,
                    4,
                    27,
                    9,
                    17,
                    6,
                    15,
                    0,
                    0,
                    10,
                    12,
                    16,
                    8,
                    9,
                    2,
                    0,
                    14,
                    18,
                    9,
                    6,
                    8,
                    0,
                    0,
                    16,
                    12,
                    13,
                    3,
                    21,
                    5,
                    0,
                    18,
                    7,
                    6,
                    6,
                    11,
                    0,
                    2,
                    7,
                    20,
                    10,
                    8,
                    7,
                    1,
                    0,
                    9,
                    10,
                    6,
                    20,
                    6,
                    0,
                    0,
                    2,
                    0,
                    11,
                    12,
                    10,
                    0,
                    3,
                    9,
                    12,
                    2,
                    4,
                    3,
                    0,
                    0,
                    3,
                    12,
                    3,
                    3,
                    4
                  ],
                  "xaxis": "x",
                  "yaxis": "y"
                }
              ],
              "layout": {
                "barmode": "relative",
                "height": 400,
                "legend": {
                  "tracegroupgap": 0
                },
                "margin": {
                  "t": 60
                },
                "template": {
                  "data": {
                    "bar": [
                      {
                        "error_x": {
                          "color": "#2a3f5f"
                        },
                        "error_y": {
                          "color": "#2a3f5f"
                        },
                        "marker": {
                          "line": {
                            "color": "#E5ECF6",
                            "width": 0.5
                          },
                          "pattern": {
                            "fillmode": "overlay",
                            "size": 10,
                            "solidity": 0.2
                          }
                        },
                        "type": "bar"
                      }
                    ],
                    "barpolar": [
                      {
                        "marker": {
                          "line": {
                            "color": "#E5ECF6",
                            "width": 0.5
                          },
                          "pattern": {
                            "fillmode": "overlay",
                            "size": 10,
                            "solidity": 0.2
                          }
                        },
                        "type": "barpolar"
                      }
                    ],
                    "carpet": [
                      {
                        "aaxis": {
                          "endlinecolor": "#2a3f5f",
                          "gridcolor": "white",
                          "linecolor": "white",
                          "minorgridcolor": "white",
                          "startlinecolor": "#2a3f5f"
                        },
                        "baxis": {
                          "endlinecolor": "#2a3f5f",
                          "gridcolor": "white",
                          "linecolor": "white",
                          "minorgridcolor": "white",
                          "startlinecolor": "#2a3f5f"
                        },
                        "type": "carpet"
                      }
                    ],
                    "choropleth": [
                      {
                        "colorbar": {
                          "outlinewidth": 0,
                          "ticks": ""
                        },
                        "type": "choropleth"
                      }
                    ],
                    "contour": [
                      {
                        "colorbar": {
                          "outlinewidth": 0,
                          "ticks": ""
                        },
                        "colorscale": [
                          [
                            0,
                            "#0d0887"
                          ],
                          [
                            0.1111111111111111,
                            "#46039f"
                          ],
                          [
                            0.2222222222222222,
                            "#7201a8"
                          ],
                          [
                            0.3333333333333333,
                            "#9c179e"
                          ],
                          [
                            0.4444444444444444,
                            "#bd3786"
                          ],
                          [
                            0.5555555555555556,
                            "#d8576b"
                          ],
                          [
                            0.6666666666666666,
                            "#ed7953"
                          ],
                          [
                            0.7777777777777778,
                            "#fb9f3a"
                          ],
                          [
                            0.8888888888888888,
                            "#fdca26"
                          ],
                          [
                            1,
                            "#f0f921"
                          ]
                        ],
                        "type": "contour"
                      }
                    ],
                    "contourcarpet": [
                      {
                        "colorbar": {
                          "outlinewidth": 0,
                          "ticks": ""
                        },
                        "type": "contourcarpet"
                      }
                    ],
                    "heatmap": [
                      {
                        "colorbar": {
                          "outlinewidth": 0,
                          "ticks": ""
                        },
                        "colorscale": [
                          [
                            0,
                            "#0d0887"
                          ],
                          [
                            0.1111111111111111,
                            "#46039f"
                          ],
                          [
                            0.2222222222222222,
                            "#7201a8"
                          ],
                          [
                            0.3333333333333333,
                            "#9c179e"
                          ],
                          [
                            0.4444444444444444,
                            "#bd3786"
                          ],
                          [
                            0.5555555555555556,
                            "#d8576b"
                          ],
                          [
                            0.6666666666666666,
                            "#ed7953"
                          ],
                          [
                            0.7777777777777778,
                            "#fb9f3a"
                          ],
                          [
                            0.8888888888888888,
                            "#fdca26"
                          ],
                          [
                            1,
                            "#f0f921"
                          ]
                        ],
                        "type": "heatmap"
                      }
                    ],
                    "heatmapgl": [
                      {
                        "colorbar": {
                          "outlinewidth": 0,
                          "ticks": ""
                        },
                        "colorscale": [
                          [
                            0,
                            "#0d0887"
                          ],
                          [
                            0.1111111111111111,
                            "#46039f"
                          ],
                          [
                            0.2222222222222222,
                            "#7201a8"
                          ],
                          [
                            0.3333333333333333,
                            "#9c179e"
                          ],
                          [
                            0.4444444444444444,
                            "#bd3786"
                          ],
                          [
                            0.5555555555555556,
                            "#d8576b"
                          ],
                          [
                            0.6666666666666666,
                            "#ed7953"
                          ],
                          [
                            0.7777777777777778,
                            "#fb9f3a"
                          ],
                          [
                            0.8888888888888888,
                            "#fdca26"
                          ],
                          [
                            1,
                            "#f0f921"
                          ]
                        ],
                        "type": "heatmapgl"
                      }
                    ],
                    "histogram": [
                      {
                        "marker": {
                          "pattern": {
                            "fillmode": "overlay",
                            "size": 10,
                            "solidity": 0.2
                          }
                        },
                        "type": "histogram"
                      }
                    ],
                    "histogram2d": [
                      {
                        "colorbar": {
                          "outlinewidth": 0,
                          "ticks": ""
                        },
                        "colorscale": [
                          [
                            0,
                            "#0d0887"
                          ],
                          [
                            0.1111111111111111,
                            "#46039f"
                          ],
                          [
                            0.2222222222222222,
                            "#7201a8"
                          ],
                          [
                            0.3333333333333333,
                            "#9c179e"
                          ],
                          [
                            0.4444444444444444,
                            "#bd3786"
                          ],
                          [
                            0.5555555555555556,
                            "#d8576b"
                          ],
                          [
                            0.6666666666666666,
                            "#ed7953"
                          ],
                          [
                            0.7777777777777778,
                            "#fb9f3a"
                          ],
                          [
                            0.8888888888888888,
                            "#fdca26"
                          ],
                          [
                            1,
                            "#f0f921"
                          ]
                        ],
                        "type": "histogram2d"
                      }
                    ],
                    "histogram2dcontour": [
                      {
                        "colorbar": {
                          "outlinewidth": 0,
                          "ticks": ""
                        },
                        "colorscale": [
                          [
                            0,
                            "#0d0887"
                          ],
                          [
                            0.1111111111111111,
                            "#46039f"
                          ],
                          [
                            0.2222222222222222,
                            "#7201a8"
                          ],
                          [
                            0.3333333333333333,
                            "#9c179e"
                          ],
                          [
                            0.4444444444444444,
                            "#bd3786"
                          ],
                          [
                            0.5555555555555556,
                            "#d8576b"
                          ],
                          [
                            0.6666666666666666,
                            "#ed7953"
                          ],
                          [
                            0.7777777777777778,
                            "#fb9f3a"
                          ],
                          [
                            0.8888888888888888,
                            "#fdca26"
                          ],
                          [
                            1,
                            "#f0f921"
                          ]
                        ],
                        "type": "histogram2dcontour"
                      }
                    ],
                    "mesh3d": [
                      {
                        "colorbar": {
                          "outlinewidth": 0,
                          "ticks": ""
                        },
                        "type": "mesh3d"
                      }
                    ],
                    "parcoords": [
                      {
                        "line": {
                          "colorbar": {
                            "outlinewidth": 0,
                            "ticks": ""
                          }
                        },
                        "type": "parcoords"
                      }
                    ],
                    "pie": [
                      {
                        "automargin": true,
                        "type": "pie"
                      }
                    ],
                    "scatter": [
                      {
                        "fillpattern": {
                          "fillmode": "overlay",
                          "size": 10,
                          "solidity": 0.2
                        },
                        "type": "scatter"
                      }
                    ],
                    "scatter3d": [
                      {
                        "line": {
                          "colorbar": {
                            "outlinewidth": 0,
                            "ticks": ""
                          }
                        },
                        "marker": {
                          "colorbar": {
                            "outlinewidth": 0,
                            "ticks": ""
                          }
                        },
                        "type": "scatter3d"
                      }
                    ],
                    "scattercarpet": [
                      {
                        "marker": {
                          "colorbar": {
                            "outlinewidth": 0,
                            "ticks": ""
                          }
                        },
                        "type": "scattercarpet"
                      }
                    ],
                    "scattergeo": [
                      {
                        "marker": {
                          "colorbar": {
                            "outlinewidth": 0,
                            "ticks": ""
                          }
                        },
                        "type": "scattergeo"
                      }
                    ],
                    "scattergl": [
                      {
                        "marker": {
                          "colorbar": {
                            "outlinewidth": 0,
                            "ticks": ""
                          }
                        },
                        "type": "scattergl"
                      }
                    ],
                    "scattermapbox": [
                      {
                        "marker": {
                          "colorbar": {
                            "outlinewidth": 0,
                            "ticks": ""
                          }
                        },
                        "type": "scattermapbox"
                      }
                    ],
                    "scatterpolar": [
                      {
                        "marker": {
                          "colorbar": {
                            "outlinewidth": 0,
                            "ticks": ""
                          }
                        },
                        "type": "scatterpolar"
                      }
                    ],
                    "scatterpolargl": [
                      {
                        "marker": {
                          "colorbar": {
                            "outlinewidth": 0,
                            "ticks": ""
                          }
                        },
                        "type": "scatterpolargl"
                      }
                    ],
                    "scatterternary": [
                      {
                        "marker": {
                          "colorbar": {
                            "outlinewidth": 0,
                            "ticks": ""
                          }
                        },
                        "type": "scatterternary"
                      }
                    ],
                    "surface": [
                      {
                        "colorbar": {
                          "outlinewidth": 0,
                          "ticks": ""
                        },
                        "colorscale": [
                          [
                            0,
                            "#0d0887"
                          ],
                          [
                            0.1111111111111111,
                            "#46039f"
                          ],
                          [
                            0.2222222222222222,
                            "#7201a8"
                          ],
                          [
                            0.3333333333333333,
                            "#9c179e"
                          ],
                          [
                            0.4444444444444444,
                            "#bd3786"
                          ],
                          [
                            0.5555555555555556,
                            "#d8576b"
                          ],
                          [
                            0.6666666666666666,
                            "#ed7953"
                          ],
                          [
                            0.7777777777777778,
                            "#fb9f3a"
                          ],
                          [
                            0.8888888888888888,
                            "#fdca26"
                          ],
                          [
                            1,
                            "#f0f921"
                          ]
                        ],
                        "type": "surface"
                      }
                    ],
                    "table": [
                      {
                        "cells": {
                          "fill": {
                            "color": "#EBF0F8"
                          },
                          "line": {
                            "color": "white"
                          }
                        },
                        "header": {
                          "fill": {
                            "color": "#C8D4E3"
                          },
                          "line": {
                            "color": "white"
                          }
                        },
                        "type": "table"
                      }
                    ]
                  },
                  "layout": {
                    "annotationdefaults": {
                      "arrowcolor": "#2a3f5f",
                      "arrowhead": 0,
                      "arrowwidth": 1
                    },
                    "autotypenumbers": "strict",
                    "coloraxis": {
                      "colorbar": {
                        "outlinewidth": 0,
                        "ticks": ""
                      }
                    },
                    "colorscale": {
                      "diverging": [
                        [
                          0,
                          "#8e0152"
                        ],
                        [
                          0.1,
                          "#c51b7d"
                        ],
                        [
                          0.2,
                          "#de77ae"
                        ],
                        [
                          0.3,
                          "#f1b6da"
                        ],
                        [
                          0.4,
                          "#fde0ef"
                        ],
                        [
                          0.5,
                          "#f7f7f7"
                        ],
                        [
                          0.6,
                          "#e6f5d0"
                        ],
                        [
                          0.7,
                          "#b8e186"
                        ],
                        [
                          0.8,
                          "#7fbc41"
                        ],
                        [
                          0.9,
                          "#4d9221"
                        ],
                        [
                          1,
                          "#276419"
                        ]
                      ],
                      "sequential": [
                        [
                          0,
                          "#0d0887"
                        ],
                        [
                          0.1111111111111111,
                          "#46039f"
                        ],
                        [
                          0.2222222222222222,
                          "#7201a8"
                        ],
                        [
                          0.3333333333333333,
                          "#9c179e"
                        ],
                        [
                          0.4444444444444444,
                          "#bd3786"
                        ],
                        [
                          0.5555555555555556,
                          "#d8576b"
                        ],
                        [
                          0.6666666666666666,
                          "#ed7953"
                        ],
                        [
                          0.7777777777777778,
                          "#fb9f3a"
                        ],
                        [
                          0.8888888888888888,
                          "#fdca26"
                        ],
                        [
                          1,
                          "#f0f921"
                        ]
                      ],
                      "sequentialminus": [
                        [
                          0,
                          "#0d0887"
                        ],
                        [
                          0.1111111111111111,
                          "#46039f"
                        ],
                        [
                          0.2222222222222222,
                          "#7201a8"
                        ],
                        [
                          0.3333333333333333,
                          "#9c179e"
                        ],
                        [
                          0.4444444444444444,
                          "#bd3786"
                        ],
                        [
                          0.5555555555555556,
                          "#d8576b"
                        ],
                        [
                          0.6666666666666666,
                          "#ed7953"
                        ],
                        [
                          0.7777777777777778,
                          "#fb9f3a"
                        ],
                        [
                          0.8888888888888888,
                          "#fdca26"
                        ],
                        [
                          1,
                          "#f0f921"
                        ]
                      ]
                    },
                    "colorway": [
                      "#636efa",
                      "#EF553B",
                      "#00cc96",
                      "#ab63fa",
                      "#FFA15A",
                      "#19d3f3",
                      "#FF6692",
                      "#B6E880",
                      "#FF97FF",
                      "#FECB52"
                    ],
                    "font": {
                      "color": "#2a3f5f"
                    },
                    "geo": {
                      "bgcolor": "white",
                      "lakecolor": "white",
                      "landcolor": "#E5ECF6",
                      "showlakes": true,
                      "showland": true,
                      "subunitcolor": "white"
                    },
                    "hoverlabel": {
                      "align": "left"
                    },
                    "hovermode": "closest",
                    "mapbox": {
                      "style": "light"
                    },
                    "paper_bgcolor": "white",
                    "plot_bgcolor": "#E5ECF6",
                    "polar": {
                      "angularaxis": {
                        "gridcolor": "white",
                        "linecolor": "white",
                        "ticks": ""
                      },
                      "bgcolor": "#E5ECF6",
                      "radialaxis": {
                        "gridcolor": "white",
                        "linecolor": "white",
                        "ticks": ""
                      }
                    },
                    "scene": {
                      "xaxis": {
                        "backgroundcolor": "#E5ECF6",
                        "gridcolor": "white",
                        "gridwidth": 2,
                        "linecolor": "white",
                        "showbackground": true,
                        "ticks": "",
                        "zerolinecolor": "white"
                      },
                      "yaxis": {
                        "backgroundcolor": "#E5ECF6",
                        "gridcolor": "white",
                        "gridwidth": 2,
                        "linecolor": "white",
                        "showbackground": true,
                        "ticks": "",
                        "zerolinecolor": "white"
                      },
                      "zaxis": {
                        "backgroundcolor": "#E5ECF6",
                        "gridcolor": "white",
                        "gridwidth": 2,
                        "linecolor": "white",
                        "showbackground": true,
                        "ticks": "",
                        "zerolinecolor": "white"
                      }
                    },
                    "shapedefaults": {
                      "line": {
                        "color": "#2a3f5f"
                      }
                    },
                    "ternary": {
                      "aaxis": {
                        "gridcolor": "white",
                        "linecolor": "white",
                        "ticks": ""
                      },
                      "baxis": {
                        "gridcolor": "white",
                        "linecolor": "white",
                        "ticks": ""
                      },
                      "bgcolor": "#E5ECF6",
                      "caxis": {
                        "gridcolor": "white",
                        "linecolor": "white",
                        "ticks": ""
                      }
                    },
                    "title": {
                      "x": 0.05
                    },
                    "xaxis": {
                      "automargin": true,
                      "gridcolor": "white",
                      "linecolor": "white",
                      "ticks": "",
                      "title": {
                        "standoff": 15
                      },
                      "zerolinecolor": "white",
                      "zerolinewidth": 2
                    },
                    "yaxis": {
                      "automargin": true,
                      "gridcolor": "white",
                      "linecolor": "white",
                      "ticks": "",
                      "title": {
                        "standoff": 15
                      },
                      "zerolinecolor": "white",
                      "zerolinewidth": 2
                    }
                  }
                },
                "title": {
                  "text": "Obitos novos em Campinas em 2021"
                },
                "width": 400,
                "xaxis": {
                  "anchor": "y",
                  "domain": [
                    0,
                    1
                  ],
                  "title": {
                    "text": "obitos_novos"
                  }
                },
                "yaxis": {
                  "anchor": "x",
                  "domain": [
                    0,
                    1
                  ],
                  "title": {
                    "text": "count"
                  }
                }
              }
            }
          },
          "metadata": {},
          "output_type": "display_data"
        }
      ],
      "source": [
        "grafico = px.histogram(covid_campinas2021, x='obitos_novos', nbins=10) \n",
        "#nbins é a largura das classes, é a diferença entre os intervalos das classes\n",
        "# exemplo nbins = 10, a classe vai de 0 a 9, de 10 a 19, \n",
        "# nbins = 20, 0 a 20\n",
        "grafico.update_layout(width = 400, height = 400, title_text = 'Obitos novos em Campinas em 2021')\n",
        "grafico.show()"
      ]
    },
    {
      "cell_type": "markdown",
      "metadata": {},
      "source": [
        "## Medidas de posição"
      ]
    },
    {
      "cell_type": "markdown",
      "metadata": {},
      "source": [
        "### Outliers"
      ]
    },
    {
      "cell_type": "markdown",
      "metadata": {},
      "source": [
        "#### Calculando"
      ]
    },
    {
      "cell_type": "code",
      "execution_count": 26,
      "metadata": {},
      "outputs": [
        {
          "data": {
            "text/plain": [
              "0"
            ]
          },
          "execution_count": 26,
          "metadata": {},
          "output_type": "execute_result"
        }
      ],
      "source": [
        "# primeiro de tudo\n",
        "covid_campinas['casos_novos'].min()"
      ]
    },
    {
      "cell_type": "code",
      "execution_count": 27,
      "metadata": {},
      "outputs": [
        {
          "data": {
            "text/plain": [
              "39.0"
            ]
          },
          "execution_count": 27,
          "metadata": {},
          "output_type": "execute_result"
        }
      ],
      "source": [
        "# Primeiro quartil\n",
        "covid_campinas['casos_novos'].quantile(0.25)"
      ]
    },
    {
      "cell_type": "code",
      "execution_count": 28,
      "metadata": {},
      "outputs": [
        {
          "data": {
            "text/plain": [
              "148.0"
            ]
          },
          "execution_count": 28,
          "metadata": {},
          "output_type": "execute_result"
        }
      ],
      "source": [
        "# Segundo Quartil - Mediana\n",
        "covid_campinas['casos_novos'].quantile(0.5)"
      ]
    },
    {
      "cell_type": "code",
      "execution_count": 29,
      "metadata": {},
      "outputs": [
        {
          "data": {
            "text/plain": [
              "326.0"
            ]
          },
          "execution_count": 29,
          "metadata": {},
          "output_type": "execute_result"
        }
      ],
      "source": [
        "# Terceriro quartil\n",
        "covid_campinas['casos_novos'].quantile(0.75)"
      ]
    },
    {
      "cell_type": "code",
      "execution_count": 30,
      "metadata": {},
      "outputs": [
        {
          "data": {
            "text/plain": [
              "1080"
            ]
          },
          "execution_count": 30,
          "metadata": {},
          "output_type": "execute_result"
        }
      ],
      "source": [
        "covid_campinas['casos_novos'].max()"
      ]
    },
    {
      "cell_type": "code",
      "execution_count": 31,
      "metadata": {},
      "outputs": [
        {
          "data": {
            "application/vnd.microsoft.datawrangler.viewer.v0+json": {
              "columns": [
                {
                  "name": "index",
                  "rawType": "object",
                  "type": "string"
                },
                {
                  "name": "casos_novos",
                  "rawType": "float64",
                  "type": "float"
                }
              ],
              "ref": "8becdc5c-dd7e-44a6-86fb-f6debdd791b3",
              "rows": [
                [
                  "count",
                  "579.0"
                ],
                [
                  "mean",
                  "194.88946459412782"
                ],
                [
                  "std",
                  "173.93366136729622"
                ],
                [
                  "min",
                  "0.0"
                ],
                [
                  "25%",
                  "39.0"
                ],
                [
                  "50%",
                  "148.0"
                ],
                [
                  "75%",
                  "326.0"
                ],
                [
                  "max",
                  "1080.0"
                ]
              ],
              "shape": {
                "columns": 1,
                "rows": 8
              }
            },
            "text/plain": [
              "count     579.000000\n",
              "mean      194.889465\n",
              "std       173.933661\n",
              "min         0.000000\n",
              "25%        39.000000\n",
              "50%       148.000000\n",
              "75%       326.000000\n",
              "max      1080.000000\n",
              "Name: casos_novos, dtype: float64"
            ]
          },
          "execution_count": 31,
          "metadata": {},
          "output_type": "execute_result"
        }
      ],
      "source": [
        "covid_campinas['casos_novos'].describe()"
      ]
    },
    {
      "cell_type": "markdown",
      "metadata": {},
      "source": [
        "#### Plotando "
      ]
    },
    {
      "cell_type": "code",
      "execution_count": 32,
      "metadata": {},
      "outputs": [],
      "source": [
        "import plotly.express as px"
      ]
    },
    {
      "cell_type": "code",
      "execution_count": 33,
      "metadata": {},
      "outputs": [
        {
          "data": {
            "application/vnd.plotly.v1+json": {
              "config": {
                "plotlyServerURL": "https://plot.ly"
              },
              "data": [
                {
                  "alignmentgroup": "True",
                  "hovertemplate": "casos_novos=%{y}<extra></extra>",
                  "legendgroup": "",
                  "marker": {
                    "color": "#636efa"
                  },
                  "name": "",
                  "notched": false,
                  "offsetgroup": "",
                  "orientation": "v",
                  "showlegend": false,
                  "type": "box",
                  "x0": " ",
                  "xaxis": "x",
                  "y": [
                    0,
                    0,
                    0,
                    0,
                    0,
                    0,
                    0,
                    0,
                    0,
                    0,
                    0,
                    0,
                    0,
                    0,
                    0,
                    0,
                    0,
                    0,
                    0,
                    0,
                    0,
                    0,
                    1,
                    0,
                    0,
                    0,
                    0,
                    0,
                    0,
                    3,
                    0,
                    1,
                    0,
                    0,
                    6,
                    4,
                    7,
                    1,
                    1,
                    2,
                    0,
                    2,
                    22,
                    22,
                    11,
                    17,
                    0,
                    6,
                    1,
                    5,
                    30,
                    7,
                    15,
                    20,
                    0,
                    8,
                    7,
                    3,
                    9,
                    18,
                    27,
                    6,
                    17,
                    41,
                    24,
                    25,
                    3,
                    8,
                    22,
                    1,
                    27,
                    32,
                    33,
                    32,
                    68,
                    14,
                    6,
                    28,
                    87,
                    39,
                    71,
                    106,
                    41,
                    19,
                    67,
                    59,
                    60,
                    55,
                    59,
                    29,
                    47,
                    33,
                    39,
                    66,
                    107,
                    106,
                    20,
                    69,
                    106,
                    171,
                    148,
                    167,
                    190,
                    113,
                    35,
                    162,
                    207,
                    170,
                    199,
                    192,
                    170,
                    32,
                    373,
                    45,
                    28,
                    797,
                    190,
                    142,
                    179,
                    252,
                    434,
                    280,
                    340,
                    330,
                    352,
                    117,
                    277,
                    404,
                    349,
                    278,
                    79,
                    303,
                    191,
                    430,
                    406,
                    316,
                    303,
                    288,
                    146,
                    138,
                    314,
                    292,
                    300,
                    200,
                    127,
                    84,
                    245,
                    153,
                    701,
                    475,
                    624,
                    510,
                    133,
                    172,
                    482,
                    483,
                    355,
                    441,
                    291,
                    356,
                    179,
                    449,
                    361,
                    414,
                    357,
                    450,
                    157,
                    133,
                    524,
                    579,
                    660,
                    370,
                    509,
                    89,
                    205,
                    223,
                    208,
                    450,
                    137,
                    405,
                    184,
                    85,
                    488,
                    223,
                    258,
                    267,
                    170,
                    79,
                    11,
                    205,
                    383,
                    400,
                    161,
                    294,
                    79,
                    39,
                    60,
                    108,
                    237,
                    198,
                    97,
                    17,
                    75,
                    216,
                    210,
                    183,
                    141,
                    161,
                    138,
                    11,
                    119,
                    124,
                    136,
                    108,
                    202,
                    12,
                    21,
                    108,
                    121,
                    75,
                    86,
                    94,
                    3,
                    32,
                    122,
                    154,
                    131,
                    107,
                    118,
                    60,
                    7,
                    22,
                    114,
                    128,
                    128,
                    93,
                    6,
                    4,
                    174,
                    107,
                    68,
                    83,
                    126,
                    42,
                    11,
                    136,
                    141,
                    73,
                    100,
                    36,
                    10,
                    11,
                    5,
                    116,
                    73,
                    0,
                    0,
                    0,
                    0,
                    426,
                    47,
                    90,
                    113,
                    88,
                    7,
                    13,
                    196,
                    213,
                    138,
                    182,
                    215,
                    65,
                    12,
                    123,
                    218,
                    126,
                    116,
                    124,
                    27,
                    23,
                    366,
                    334,
                    328,
                    270,
                    212,
                    45,
                    2,
                    287,
                    114,
                    419,
                    228,
                    204,
                    3,
                    27,
                    197,
                    0,
                    420,
                    386,
                    359,
                    0,
                    106,
                    395,
                    252,
                    353,
                    23,
                    16,
                    28,
                    53,
                    569,
                    396,
                    283,
                    92,
                    6,
                    53,
                    42,
                    432,
                    394,
                    393,
                    333,
                    447,
                    69,
                    77,
                    417,
                    341,
                    376,
                    376,
                    339,
                    134,
                    36,
                    455,
                    517,
                    285,
                    193,
                    460,
                    148,
                    69,
                    478,
                    498,
                    307,
                    299,
                    271,
                    48,
                    78,
                    267,
                    196,
                    389,
                    330,
                    336,
                    98,
                    26,
                    320,
                    352,
                    259,
                    353,
                    236,
                    77,
                    59,
                    278,
                    316,
                    300,
                    246,
                    218,
                    143,
                    69,
                    328,
                    348,
                    188,
                    297,
                    265,
                    83,
                    29,
                    316,
                    390,
                    241,
                    278,
                    403,
                    81,
                    36,
                    452,
                    367,
                    347,
                    309,
                    478,
                    176,
                    37,
                    382,
                    434,
                    380,
                    319,
                    423,
                    212,
                    59,
                    409,
                    487,
                    364,
                    394,
                    432,
                    210,
                    89,
                    496,
                    416,
                    503,
                    277,
                    88,
                    75,
                    63,
                    520,
                    377,
                    388,
                    407,
                    384,
                    95,
                    140,
                    454,
                    396,
                    506,
                    360,
                    406,
                    52,
                    45,
                    412,
                    457,
                    135,
                    523,
                    449,
                    89,
                    35,
                    618,
                    276,
                    303,
                    313,
                    319,
                    44,
                    24,
                    433,
                    443,
                    305,
                    414,
                    277,
                    45,
                    20,
                    302,
                    185,
                    186,
                    327,
                    530,
                    38,
                    33,
                    448,
                    311,
                    336,
                    256,
                    569,
                    192,
                    76,
                    387,
                    221,
                    242,
                    24,
                    282,
                    85,
                    40,
                    432,
                    446,
                    286,
                    75,
                    285,
                    45,
                    71,
                    218,
                    69,
                    518,
                    425,
                    417,
                    105,
                    78,
                    634,
                    504,
                    379,
                    633,
                    583,
                    153,
                    142,
                    541,
                    507,
                    476,
                    481,
                    521,
                    168,
                    63,
                    550,
                    222,
                    395,
                    588,
                    413,
                    57,
                    77,
                    527,
                    365,
                    306,
                    408,
                    108,
                    64,
                    65,
                    239,
                    408,
                    278,
                    404,
                    581,
                    57,
                    37,
                    102,
                    451,
                    407,
                    380,
                    261,
                    56,
                    38,
                    335,
                    526,
                    298,
                    239,
                    309,
                    63,
                    57,
                    480,
                    515,
                    258,
                    214,
                    272,
                    70,
                    43,
                    335,
                    253,
                    325,
                    299,
                    300,
                    191,
                    14,
                    272,
                    181,
                    241,
                    204,
                    195,
                    153,
                    23,
                    282,
                    180,
                    228,
                    407,
                    193,
                    70,
                    38,
                    230,
                    181,
                    234,
                    232,
                    281,
                    120,
                    60,
                    164,
                    133,
                    41,
                    22,
                    19,
                    18,
                    5,
                    5,
                    4,
                    5,
                    1080,
                    26,
                    27,
                    0,
                    207,
                    132,
                    121,
                    28,
                    68
                  ],
                  "y0": " ",
                  "yaxis": "y"
                }
              ],
              "layout": {
                "boxmode": "group",
                "legend": {
                  "tracegroupgap": 0
                },
                "margin": {
                  "t": 60
                },
                "template": {
                  "data": {
                    "bar": [
                      {
                        "error_x": {
                          "color": "#2a3f5f"
                        },
                        "error_y": {
                          "color": "#2a3f5f"
                        },
                        "marker": {
                          "line": {
                            "color": "#E5ECF6",
                            "width": 0.5
                          },
                          "pattern": {
                            "fillmode": "overlay",
                            "size": 10,
                            "solidity": 0.2
                          }
                        },
                        "type": "bar"
                      }
                    ],
                    "barpolar": [
                      {
                        "marker": {
                          "line": {
                            "color": "#E5ECF6",
                            "width": 0.5
                          },
                          "pattern": {
                            "fillmode": "overlay",
                            "size": 10,
                            "solidity": 0.2
                          }
                        },
                        "type": "barpolar"
                      }
                    ],
                    "carpet": [
                      {
                        "aaxis": {
                          "endlinecolor": "#2a3f5f",
                          "gridcolor": "white",
                          "linecolor": "white",
                          "minorgridcolor": "white",
                          "startlinecolor": "#2a3f5f"
                        },
                        "baxis": {
                          "endlinecolor": "#2a3f5f",
                          "gridcolor": "white",
                          "linecolor": "white",
                          "minorgridcolor": "white",
                          "startlinecolor": "#2a3f5f"
                        },
                        "type": "carpet"
                      }
                    ],
                    "choropleth": [
                      {
                        "colorbar": {
                          "outlinewidth": 0,
                          "ticks": ""
                        },
                        "type": "choropleth"
                      }
                    ],
                    "contour": [
                      {
                        "colorbar": {
                          "outlinewidth": 0,
                          "ticks": ""
                        },
                        "colorscale": [
                          [
                            0,
                            "#0d0887"
                          ],
                          [
                            0.1111111111111111,
                            "#46039f"
                          ],
                          [
                            0.2222222222222222,
                            "#7201a8"
                          ],
                          [
                            0.3333333333333333,
                            "#9c179e"
                          ],
                          [
                            0.4444444444444444,
                            "#bd3786"
                          ],
                          [
                            0.5555555555555556,
                            "#d8576b"
                          ],
                          [
                            0.6666666666666666,
                            "#ed7953"
                          ],
                          [
                            0.7777777777777778,
                            "#fb9f3a"
                          ],
                          [
                            0.8888888888888888,
                            "#fdca26"
                          ],
                          [
                            1,
                            "#f0f921"
                          ]
                        ],
                        "type": "contour"
                      }
                    ],
                    "contourcarpet": [
                      {
                        "colorbar": {
                          "outlinewidth": 0,
                          "ticks": ""
                        },
                        "type": "contourcarpet"
                      }
                    ],
                    "heatmap": [
                      {
                        "colorbar": {
                          "outlinewidth": 0,
                          "ticks": ""
                        },
                        "colorscale": [
                          [
                            0,
                            "#0d0887"
                          ],
                          [
                            0.1111111111111111,
                            "#46039f"
                          ],
                          [
                            0.2222222222222222,
                            "#7201a8"
                          ],
                          [
                            0.3333333333333333,
                            "#9c179e"
                          ],
                          [
                            0.4444444444444444,
                            "#bd3786"
                          ],
                          [
                            0.5555555555555556,
                            "#d8576b"
                          ],
                          [
                            0.6666666666666666,
                            "#ed7953"
                          ],
                          [
                            0.7777777777777778,
                            "#fb9f3a"
                          ],
                          [
                            0.8888888888888888,
                            "#fdca26"
                          ],
                          [
                            1,
                            "#f0f921"
                          ]
                        ],
                        "type": "heatmap"
                      }
                    ],
                    "heatmapgl": [
                      {
                        "colorbar": {
                          "outlinewidth": 0,
                          "ticks": ""
                        },
                        "colorscale": [
                          [
                            0,
                            "#0d0887"
                          ],
                          [
                            0.1111111111111111,
                            "#46039f"
                          ],
                          [
                            0.2222222222222222,
                            "#7201a8"
                          ],
                          [
                            0.3333333333333333,
                            "#9c179e"
                          ],
                          [
                            0.4444444444444444,
                            "#bd3786"
                          ],
                          [
                            0.5555555555555556,
                            "#d8576b"
                          ],
                          [
                            0.6666666666666666,
                            "#ed7953"
                          ],
                          [
                            0.7777777777777778,
                            "#fb9f3a"
                          ],
                          [
                            0.8888888888888888,
                            "#fdca26"
                          ],
                          [
                            1,
                            "#f0f921"
                          ]
                        ],
                        "type": "heatmapgl"
                      }
                    ],
                    "histogram": [
                      {
                        "marker": {
                          "pattern": {
                            "fillmode": "overlay",
                            "size": 10,
                            "solidity": 0.2
                          }
                        },
                        "type": "histogram"
                      }
                    ],
                    "histogram2d": [
                      {
                        "colorbar": {
                          "outlinewidth": 0,
                          "ticks": ""
                        },
                        "colorscale": [
                          [
                            0,
                            "#0d0887"
                          ],
                          [
                            0.1111111111111111,
                            "#46039f"
                          ],
                          [
                            0.2222222222222222,
                            "#7201a8"
                          ],
                          [
                            0.3333333333333333,
                            "#9c179e"
                          ],
                          [
                            0.4444444444444444,
                            "#bd3786"
                          ],
                          [
                            0.5555555555555556,
                            "#d8576b"
                          ],
                          [
                            0.6666666666666666,
                            "#ed7953"
                          ],
                          [
                            0.7777777777777778,
                            "#fb9f3a"
                          ],
                          [
                            0.8888888888888888,
                            "#fdca26"
                          ],
                          [
                            1,
                            "#f0f921"
                          ]
                        ],
                        "type": "histogram2d"
                      }
                    ],
                    "histogram2dcontour": [
                      {
                        "colorbar": {
                          "outlinewidth": 0,
                          "ticks": ""
                        },
                        "colorscale": [
                          [
                            0,
                            "#0d0887"
                          ],
                          [
                            0.1111111111111111,
                            "#46039f"
                          ],
                          [
                            0.2222222222222222,
                            "#7201a8"
                          ],
                          [
                            0.3333333333333333,
                            "#9c179e"
                          ],
                          [
                            0.4444444444444444,
                            "#bd3786"
                          ],
                          [
                            0.5555555555555556,
                            "#d8576b"
                          ],
                          [
                            0.6666666666666666,
                            "#ed7953"
                          ],
                          [
                            0.7777777777777778,
                            "#fb9f3a"
                          ],
                          [
                            0.8888888888888888,
                            "#fdca26"
                          ],
                          [
                            1,
                            "#f0f921"
                          ]
                        ],
                        "type": "histogram2dcontour"
                      }
                    ],
                    "mesh3d": [
                      {
                        "colorbar": {
                          "outlinewidth": 0,
                          "ticks": ""
                        },
                        "type": "mesh3d"
                      }
                    ],
                    "parcoords": [
                      {
                        "line": {
                          "colorbar": {
                            "outlinewidth": 0,
                            "ticks": ""
                          }
                        },
                        "type": "parcoords"
                      }
                    ],
                    "pie": [
                      {
                        "automargin": true,
                        "type": "pie"
                      }
                    ],
                    "scatter": [
                      {
                        "fillpattern": {
                          "fillmode": "overlay",
                          "size": 10,
                          "solidity": 0.2
                        },
                        "type": "scatter"
                      }
                    ],
                    "scatter3d": [
                      {
                        "line": {
                          "colorbar": {
                            "outlinewidth": 0,
                            "ticks": ""
                          }
                        },
                        "marker": {
                          "colorbar": {
                            "outlinewidth": 0,
                            "ticks": ""
                          }
                        },
                        "type": "scatter3d"
                      }
                    ],
                    "scattercarpet": [
                      {
                        "marker": {
                          "colorbar": {
                            "outlinewidth": 0,
                            "ticks": ""
                          }
                        },
                        "type": "scattercarpet"
                      }
                    ],
                    "scattergeo": [
                      {
                        "marker": {
                          "colorbar": {
                            "outlinewidth": 0,
                            "ticks": ""
                          }
                        },
                        "type": "scattergeo"
                      }
                    ],
                    "scattergl": [
                      {
                        "marker": {
                          "colorbar": {
                            "outlinewidth": 0,
                            "ticks": ""
                          }
                        },
                        "type": "scattergl"
                      }
                    ],
                    "scattermapbox": [
                      {
                        "marker": {
                          "colorbar": {
                            "outlinewidth": 0,
                            "ticks": ""
                          }
                        },
                        "type": "scattermapbox"
                      }
                    ],
                    "scatterpolar": [
                      {
                        "marker": {
                          "colorbar": {
                            "outlinewidth": 0,
                            "ticks": ""
                          }
                        },
                        "type": "scatterpolar"
                      }
                    ],
                    "scatterpolargl": [
                      {
                        "marker": {
                          "colorbar": {
                            "outlinewidth": 0,
                            "ticks": ""
                          }
                        },
                        "type": "scatterpolargl"
                      }
                    ],
                    "scatterternary": [
                      {
                        "marker": {
                          "colorbar": {
                            "outlinewidth": 0,
                            "ticks": ""
                          }
                        },
                        "type": "scatterternary"
                      }
                    ],
                    "surface": [
                      {
                        "colorbar": {
                          "outlinewidth": 0,
                          "ticks": ""
                        },
                        "colorscale": [
                          [
                            0,
                            "#0d0887"
                          ],
                          [
                            0.1111111111111111,
                            "#46039f"
                          ],
                          [
                            0.2222222222222222,
                            "#7201a8"
                          ],
                          [
                            0.3333333333333333,
                            "#9c179e"
                          ],
                          [
                            0.4444444444444444,
                            "#bd3786"
                          ],
                          [
                            0.5555555555555556,
                            "#d8576b"
                          ],
                          [
                            0.6666666666666666,
                            "#ed7953"
                          ],
                          [
                            0.7777777777777778,
                            "#fb9f3a"
                          ],
                          [
                            0.8888888888888888,
                            "#fdca26"
                          ],
                          [
                            1,
                            "#f0f921"
                          ]
                        ],
                        "type": "surface"
                      }
                    ],
                    "table": [
                      {
                        "cells": {
                          "fill": {
                            "color": "#EBF0F8"
                          },
                          "line": {
                            "color": "white"
                          }
                        },
                        "header": {
                          "fill": {
                            "color": "#C8D4E3"
                          },
                          "line": {
                            "color": "white"
                          }
                        },
                        "type": "table"
                      }
                    ]
                  },
                  "layout": {
                    "annotationdefaults": {
                      "arrowcolor": "#2a3f5f",
                      "arrowhead": 0,
                      "arrowwidth": 1
                    },
                    "autotypenumbers": "strict",
                    "coloraxis": {
                      "colorbar": {
                        "outlinewidth": 0,
                        "ticks": ""
                      }
                    },
                    "colorscale": {
                      "diverging": [
                        [
                          0,
                          "#8e0152"
                        ],
                        [
                          0.1,
                          "#c51b7d"
                        ],
                        [
                          0.2,
                          "#de77ae"
                        ],
                        [
                          0.3,
                          "#f1b6da"
                        ],
                        [
                          0.4,
                          "#fde0ef"
                        ],
                        [
                          0.5,
                          "#f7f7f7"
                        ],
                        [
                          0.6,
                          "#e6f5d0"
                        ],
                        [
                          0.7,
                          "#b8e186"
                        ],
                        [
                          0.8,
                          "#7fbc41"
                        ],
                        [
                          0.9,
                          "#4d9221"
                        ],
                        [
                          1,
                          "#276419"
                        ]
                      ],
                      "sequential": [
                        [
                          0,
                          "#0d0887"
                        ],
                        [
                          0.1111111111111111,
                          "#46039f"
                        ],
                        [
                          0.2222222222222222,
                          "#7201a8"
                        ],
                        [
                          0.3333333333333333,
                          "#9c179e"
                        ],
                        [
                          0.4444444444444444,
                          "#bd3786"
                        ],
                        [
                          0.5555555555555556,
                          "#d8576b"
                        ],
                        [
                          0.6666666666666666,
                          "#ed7953"
                        ],
                        [
                          0.7777777777777778,
                          "#fb9f3a"
                        ],
                        [
                          0.8888888888888888,
                          "#fdca26"
                        ],
                        [
                          1,
                          "#f0f921"
                        ]
                      ],
                      "sequentialminus": [
                        [
                          0,
                          "#0d0887"
                        ],
                        [
                          0.1111111111111111,
                          "#46039f"
                        ],
                        [
                          0.2222222222222222,
                          "#7201a8"
                        ],
                        [
                          0.3333333333333333,
                          "#9c179e"
                        ],
                        [
                          0.4444444444444444,
                          "#bd3786"
                        ],
                        [
                          0.5555555555555556,
                          "#d8576b"
                        ],
                        [
                          0.6666666666666666,
                          "#ed7953"
                        ],
                        [
                          0.7777777777777778,
                          "#fb9f3a"
                        ],
                        [
                          0.8888888888888888,
                          "#fdca26"
                        ],
                        [
                          1,
                          "#f0f921"
                        ]
                      ]
                    },
                    "colorway": [
                      "#636efa",
                      "#EF553B",
                      "#00cc96",
                      "#ab63fa",
                      "#FFA15A",
                      "#19d3f3",
                      "#FF6692",
                      "#B6E880",
                      "#FF97FF",
                      "#FECB52"
                    ],
                    "font": {
                      "color": "#2a3f5f"
                    },
                    "geo": {
                      "bgcolor": "white",
                      "lakecolor": "white",
                      "landcolor": "#E5ECF6",
                      "showlakes": true,
                      "showland": true,
                      "subunitcolor": "white"
                    },
                    "hoverlabel": {
                      "align": "left"
                    },
                    "hovermode": "closest",
                    "mapbox": {
                      "style": "light"
                    },
                    "paper_bgcolor": "white",
                    "plot_bgcolor": "#E5ECF6",
                    "polar": {
                      "angularaxis": {
                        "gridcolor": "white",
                        "linecolor": "white",
                        "ticks": ""
                      },
                      "bgcolor": "#E5ECF6",
                      "radialaxis": {
                        "gridcolor": "white",
                        "linecolor": "white",
                        "ticks": ""
                      }
                    },
                    "scene": {
                      "xaxis": {
                        "backgroundcolor": "#E5ECF6",
                        "gridcolor": "white",
                        "gridwidth": 2,
                        "linecolor": "white",
                        "showbackground": true,
                        "ticks": "",
                        "zerolinecolor": "white"
                      },
                      "yaxis": {
                        "backgroundcolor": "#E5ECF6",
                        "gridcolor": "white",
                        "gridwidth": 2,
                        "linecolor": "white",
                        "showbackground": true,
                        "ticks": "",
                        "zerolinecolor": "white"
                      },
                      "zaxis": {
                        "backgroundcolor": "#E5ECF6",
                        "gridcolor": "white",
                        "gridwidth": 2,
                        "linecolor": "white",
                        "showbackground": true,
                        "ticks": "",
                        "zerolinecolor": "white"
                      }
                    },
                    "shapedefaults": {
                      "line": {
                        "color": "#2a3f5f"
                      }
                    },
                    "ternary": {
                      "aaxis": {
                        "gridcolor": "white",
                        "linecolor": "white",
                        "ticks": ""
                      },
                      "baxis": {
                        "gridcolor": "white",
                        "linecolor": "white",
                        "ticks": ""
                      },
                      "bgcolor": "#E5ECF6",
                      "caxis": {
                        "gridcolor": "white",
                        "linecolor": "white",
                        "ticks": ""
                      }
                    },
                    "title": {
                      "x": 0.05
                    },
                    "xaxis": {
                      "automargin": true,
                      "gridcolor": "white",
                      "linecolor": "white",
                      "ticks": "",
                      "title": {
                        "standoff": 15
                      },
                      "zerolinecolor": "white",
                      "zerolinewidth": 2
                    },
                    "yaxis": {
                      "automargin": true,
                      "gridcolor": "white",
                      "linecolor": "white",
                      "ticks": "",
                      "title": {
                        "standoff": 15
                      },
                      "zerolinecolor": "white",
                      "zerolinewidth": 2
                    }
                  }
                },
                "xaxis": {
                  "anchor": "y",
                  "domain": [
                    0,
                    1
                  ]
                },
                "yaxis": {
                  "anchor": "x",
                  "domain": [
                    0,
                    1
                  ],
                  "title": {
                    "text": "casos_novos"
                  }
                }
              }
            }
          },
          "metadata": {},
          "output_type": "display_data"
        }
      ],
      "source": [
        "grafico = px.box(covid_campinas, y='casos_novos')\n",
        "grafico.show()"
      ]
    },
    {
      "cell_type": "code",
      "execution_count": 34,
      "metadata": {},
      "outputs": [
        {
          "data": {
            "text/plain": [
              "756.5"
            ]
          },
          "execution_count": 34,
          "metadata": {},
          "output_type": "execute_result"
        }
      ],
      "source": [
        "# Calcula o limite superior do outlier\n",
        "outlier_sup = covid_campinas['casos_novos'].quantile(0.75) + 1.5 * (covid_campinas['casos_novos'].quantile(0.75)-covid_campinas['casos_novos'].quantile(0.25))\n",
        "outlier_sup"
      ]
    },
    {
      "cell_type": "code",
      "execution_count": 35,
      "metadata": {},
      "outputs": [
        {
          "data": {
            "text/plain": [
              "-391.5"
            ]
          },
          "execution_count": 35,
          "metadata": {},
          "output_type": "execute_result"
        }
      ],
      "source": [
        "outlier_inf = covid_campinas['casos_novos'].quantile(0.25) - 1.5 * (covid_campinas['casos_novos'].quantile(0.75)-covid_campinas['casos_novos'].quantile(0.25))\n",
        "outlier_inf"
      ]
    },
    {
      "cell_type": "code",
      "execution_count": 36,
      "metadata": {},
      "outputs": [
        {
          "data": {
            "application/vnd.microsoft.datawrangler.viewer.v0+json": {
              "columns": [
                {
                  "name": "index",
                  "rawType": "int64",
                  "type": "integer"
                },
                {
                  "name": "indice",
                  "rawType": "int64",
                  "type": "integer"
                },
                {
                  "name": "municipio",
                  "rawType": "object",
                  "type": "string"
                },
                {
                  "name": "dia",
                  "rawType": "int64",
                  "type": "integer"
                },
                {
                  "name": "mes",
                  "rawType": "int64",
                  "type": "integer"
                },
                {
                  "name": "data",
                  "rawType": "object",
                  "type": "string"
                },
                {
                  "name": "casos",
                  "rawType": "int64",
                  "type": "integer"
                },
                {
                  "name": "casos_novos",
                  "rawType": "int64",
                  "type": "integer"
                },
                {
                  "name": "casos_pc",
                  "rawType": "float64",
                  "type": "float"
                },
                {
                  "name": "casos_mm7d",
                  "rawType": "float64",
                  "type": "float"
                },
                {
                  "name": "obitos",
                  "rawType": "int64",
                  "type": "integer"
                },
                {
                  "name": "obitos_novos",
                  "rawType": "int64",
                  "type": "integer"
                },
                {
                  "name": "obitos_pc",
                  "rawType": "float64",
                  "type": "float"
                },
                {
                  "name": "obitos_mm7d",
                  "rawType": "float64",
                  "type": "float"
                },
                {
                  "name": "letalidade",
                  "rawType": "float64",
                  "type": "float"
                },
                {
                  "name": "pop",
                  "rawType": "int64",
                  "type": "integer"
                },
                {
                  "name": "pop_60",
                  "rawType": "int64",
                  "type": "integer"
                },
                {
                  "name": "area",
                  "rawType": "float64",
                  "type": "float"
                },
                {
                  "name": "semana_epidem",
                  "rawType": "int64",
                  "type": "integer"
                },
                {
                  "name": "densidade",
                  "rawType": "float64",
                  "type": "float"
                },
                {
                  "name": "porcentagem_idosos",
                  "rawType": "float64",
                  "type": "float"
                }
              ],
              "ref": "e91435c8-dd2f-4cff-bbb4-9c6501e94edb",
              "rows": [
                [
                  "74283",
                  "74284",
                  "Campinas",
                  "19",
                  "6",
                  "2020-06-19",
                  "5127",
                  "797",
                  "436.154456695486",
                  "233.8571428571429",
                  "203",
                  "9",
                  "17.2692324379137",
                  "9.571428571428571",
                  "0.0395943046615954",
                  "1175501",
                  "192796",
                  "794.57",
                  "25",
                  "1479.417798306002",
                  "16.401177030049315"
                ],
                [
                  "367758",
                  "367759",
                  "Campinas",
                  "17",
                  "9",
                  "2021-09-17",
                  "112232",
                  "1080",
                  "9547.58864518193",
                  "162.28571428571428",
                  "4443",
                  "4",
                  "377.966501091875",
                  "5.714285714285714",
                  "0.0395876398888017",
                  "1175501",
                  "192796",
                  "794.57",
                  "37",
                  "1479.417798306002",
                  "16.401177030049315"
                ]
              ],
              "shape": {
                "columns": 20,
                "rows": 2
              }
            },
            "text/html": [
              "<div>\n",
              "<style scoped>\n",
              "    .dataframe tbody tr th:only-of-type {\n",
              "        vertical-align: middle;\n",
              "    }\n",
              "\n",
              "    .dataframe tbody tr th {\n",
              "        vertical-align: top;\n",
              "    }\n",
              "\n",
              "    .dataframe thead th {\n",
              "        text-align: right;\n",
              "    }\n",
              "</style>\n",
              "<table border=\"1\" class=\"dataframe\">\n",
              "  <thead>\n",
              "    <tr style=\"text-align: right;\">\n",
              "      <th></th>\n",
              "      <th>indice</th>\n",
              "      <th>municipio</th>\n",
              "      <th>dia</th>\n",
              "      <th>mes</th>\n",
              "      <th>data</th>\n",
              "      <th>casos</th>\n",
              "      <th>casos_novos</th>\n",
              "      <th>casos_pc</th>\n",
              "      <th>casos_mm7d</th>\n",
              "      <th>obitos</th>\n",
              "      <th>obitos_novos</th>\n",
              "      <th>obitos_pc</th>\n",
              "      <th>obitos_mm7d</th>\n",
              "      <th>letalidade</th>\n",
              "      <th>pop</th>\n",
              "      <th>pop_60</th>\n",
              "      <th>area</th>\n",
              "      <th>semana_epidem</th>\n",
              "      <th>densidade</th>\n",
              "      <th>porcentagem_idosos</th>\n",
              "    </tr>\n",
              "  </thead>\n",
              "  <tbody>\n",
              "    <tr>\n",
              "      <th>74283</th>\n",
              "      <td>74284</td>\n",
              "      <td>Campinas</td>\n",
              "      <td>19</td>\n",
              "      <td>6</td>\n",
              "      <td>2020-06-19</td>\n",
              "      <td>5127</td>\n",
              "      <td>797</td>\n",
              "      <td>436.154457</td>\n",
              "      <td>233.857143</td>\n",
              "      <td>203</td>\n",
              "      <td>9</td>\n",
              "      <td>17.269232</td>\n",
              "      <td>9.571429</td>\n",
              "      <td>0.039594</td>\n",
              "      <td>1175501</td>\n",
              "      <td>192796</td>\n",
              "      <td>794.57</td>\n",
              "      <td>25</td>\n",
              "      <td>1479.417798</td>\n",
              "      <td>16.401177</td>\n",
              "    </tr>\n",
              "    <tr>\n",
              "      <th>367758</th>\n",
              "      <td>367759</td>\n",
              "      <td>Campinas</td>\n",
              "      <td>17</td>\n",
              "      <td>9</td>\n",
              "      <td>2021-09-17</td>\n",
              "      <td>112232</td>\n",
              "      <td>1080</td>\n",
              "      <td>9547.588645</td>\n",
              "      <td>162.285714</td>\n",
              "      <td>4443</td>\n",
              "      <td>4</td>\n",
              "      <td>377.966501</td>\n",
              "      <td>5.714286</td>\n",
              "      <td>0.039588</td>\n",
              "      <td>1175501</td>\n",
              "      <td>192796</td>\n",
              "      <td>794.57</td>\n",
              "      <td>37</td>\n",
              "      <td>1479.417798</td>\n",
              "      <td>16.401177</td>\n",
              "    </tr>\n",
              "  </tbody>\n",
              "</table>\n",
              "</div>"
            ],
            "text/plain": [
              "        indice municipio  dia  mes        data   casos  casos_novos  \\\n",
              "74283    74284  Campinas   19    6  2020-06-19    5127          797   \n",
              "367758  367759  Campinas   17    9  2021-09-17  112232         1080   \n",
              "\n",
              "           casos_pc  casos_mm7d  obitos  obitos_novos   obitos_pc  \\\n",
              "74283    436.154457  233.857143     203             9   17.269232   \n",
              "367758  9547.588645  162.285714    4443             4  377.966501   \n",
              "\n",
              "        obitos_mm7d  letalidade      pop  pop_60    area  semana_epidem  \\\n",
              "74283      9.571429    0.039594  1175501  192796  794.57             25   \n",
              "367758     5.714286    0.039588  1175501  192796  794.57             37   \n",
              "\n",
              "          densidade  porcentagem_idosos  \n",
              "74283   1479.417798           16.401177  \n",
              "367758  1479.417798           16.401177  "
            ]
          },
          "execution_count": 36,
          "metadata": {},
          "output_type": "execute_result"
        }
      ],
      "source": [
        "# Muitas das vezes não faz sentido ver o outlier por causa do volume dos dados, mas caso queira, é so filtrar a tabela\n",
        "ex_covid_campinas_s_out_sup = covid_campinas.loc[covid_campinas['casos_novos'] > outlier_sup]\n",
        "ex_covid_campinas_s_out_sup"
      ]
    },
    {
      "cell_type": "markdown",
      "metadata": {},
      "source": [
        "Excluindo outliers"
      ]
    },
    {
      "cell_type": "code",
      "execution_count": 37,
      "metadata": {},
      "outputs": [
        {
          "data": {
            "application/vnd.microsoft.datawrangler.viewer.v0+json": {
              "columns": [
                {
                  "name": "index",
                  "rawType": "int64",
                  "type": "integer"
                },
                {
                  "name": "indice",
                  "rawType": "int64",
                  "type": "integer"
                },
                {
                  "name": "municipio",
                  "rawType": "object",
                  "type": "string"
                },
                {
                  "name": "dia",
                  "rawType": "int64",
                  "type": "integer"
                },
                {
                  "name": "mes",
                  "rawType": "int64",
                  "type": "integer"
                },
                {
                  "name": "data",
                  "rawType": "object",
                  "type": "string"
                },
                {
                  "name": "casos",
                  "rawType": "int64",
                  "type": "integer"
                },
                {
                  "name": "casos_novos",
                  "rawType": "int64",
                  "type": "integer"
                },
                {
                  "name": "casos_pc",
                  "rawType": "float64",
                  "type": "float"
                },
                {
                  "name": "casos_mm7d",
                  "rawType": "float64",
                  "type": "float"
                },
                {
                  "name": "obitos",
                  "rawType": "int64",
                  "type": "integer"
                },
                {
                  "name": "obitos_novos",
                  "rawType": "int64",
                  "type": "integer"
                },
                {
                  "name": "obitos_pc",
                  "rawType": "float64",
                  "type": "float"
                },
                {
                  "name": "obitos_mm7d",
                  "rawType": "float64",
                  "type": "float"
                },
                {
                  "name": "letalidade",
                  "rawType": "float64",
                  "type": "float"
                },
                {
                  "name": "pop",
                  "rawType": "int64",
                  "type": "integer"
                },
                {
                  "name": "pop_60",
                  "rawType": "int64",
                  "type": "integer"
                },
                {
                  "name": "area",
                  "rawType": "float64",
                  "type": "float"
                },
                {
                  "name": "semana_epidem",
                  "rawType": "int64",
                  "type": "integer"
                },
                {
                  "name": "densidade",
                  "rawType": "float64",
                  "type": "float"
                },
                {
                  "name": "porcentagem_idosos",
                  "rawType": "float64",
                  "type": "float"
                }
              ],
              "ref": "e0c5bb50-dc98-4e83-81ad-d137c36e1325",
              "rows": [
                [
                  "108",
                  "109",
                  "Campinas",
                  "25",
                  "2",
                  "2020-02-25",
                  "0",
                  "0",
                  "0.0",
                  "0.0",
                  "0",
                  "0",
                  "0.0",
                  "0.0",
                  "0.0",
                  "1175501",
                  "192796",
                  "794.57",
                  "9",
                  "1479.417798306002",
                  "16.401177030049315"
                ],
                [
                  "753",
                  "754",
                  "Campinas",
                  "26",
                  "2",
                  "2020-02-26",
                  "0",
                  "0",
                  "0.0",
                  "0.0",
                  "0",
                  "0",
                  "0.0",
                  "0.0",
                  "0.0",
                  "1175501",
                  "192796",
                  "794.57",
                  "9",
                  "1479.417798306002",
                  "16.401177030049315"
                ],
                [
                  "1398",
                  "1399",
                  "Campinas",
                  "27",
                  "2",
                  "2020-02-27",
                  "0",
                  "0",
                  "0.0",
                  "0.0",
                  "0",
                  "0",
                  "0.0",
                  "0.0",
                  "0.0",
                  "1175501",
                  "192796",
                  "794.57",
                  "9",
                  "1479.417798306002",
                  "16.401177030049315"
                ],
                [
                  "2043",
                  "2044",
                  "Campinas",
                  "28",
                  "2",
                  "2020-02-28",
                  "0",
                  "0",
                  "0.0",
                  "0.0",
                  "0",
                  "0",
                  "0.0",
                  "0.0",
                  "0.0",
                  "1175501",
                  "192796",
                  "794.57",
                  "9",
                  "1479.417798306002",
                  "16.401177030049315"
                ],
                [
                  "2688",
                  "2689",
                  "Campinas",
                  "29",
                  "2",
                  "2020-02-29",
                  "0",
                  "0",
                  "0.0",
                  "0.0",
                  "0",
                  "0",
                  "0.0",
                  "0.0",
                  "0.0",
                  "1175501",
                  "192796",
                  "794.57",
                  "9",
                  "1479.417798306002",
                  "16.401177030049315"
                ]
              ],
              "shape": {
                "columns": 20,
                "rows": 5
              }
            },
            "text/html": [
              "<div>\n",
              "<style scoped>\n",
              "    .dataframe tbody tr th:only-of-type {\n",
              "        vertical-align: middle;\n",
              "    }\n",
              "\n",
              "    .dataframe tbody tr th {\n",
              "        vertical-align: top;\n",
              "    }\n",
              "\n",
              "    .dataframe thead th {\n",
              "        text-align: right;\n",
              "    }\n",
              "</style>\n",
              "<table border=\"1\" class=\"dataframe\">\n",
              "  <thead>\n",
              "    <tr style=\"text-align: right;\">\n",
              "      <th></th>\n",
              "      <th>indice</th>\n",
              "      <th>municipio</th>\n",
              "      <th>dia</th>\n",
              "      <th>mes</th>\n",
              "      <th>data</th>\n",
              "      <th>casos</th>\n",
              "      <th>casos_novos</th>\n",
              "      <th>casos_pc</th>\n",
              "      <th>casos_mm7d</th>\n",
              "      <th>obitos</th>\n",
              "      <th>obitos_novos</th>\n",
              "      <th>obitos_pc</th>\n",
              "      <th>obitos_mm7d</th>\n",
              "      <th>letalidade</th>\n",
              "      <th>pop</th>\n",
              "      <th>pop_60</th>\n",
              "      <th>area</th>\n",
              "      <th>semana_epidem</th>\n",
              "      <th>densidade</th>\n",
              "      <th>porcentagem_idosos</th>\n",
              "    </tr>\n",
              "  </thead>\n",
              "  <tbody>\n",
              "    <tr>\n",
              "      <th>108</th>\n",
              "      <td>109</td>\n",
              "      <td>Campinas</td>\n",
              "      <td>25</td>\n",
              "      <td>2</td>\n",
              "      <td>2020-02-25</td>\n",
              "      <td>0</td>\n",
              "      <td>0</td>\n",
              "      <td>0.0</td>\n",
              "      <td>0.0</td>\n",
              "      <td>0</td>\n",
              "      <td>0</td>\n",
              "      <td>0.0</td>\n",
              "      <td>0.0</td>\n",
              "      <td>0.0</td>\n",
              "      <td>1175501</td>\n",
              "      <td>192796</td>\n",
              "      <td>794.57</td>\n",
              "      <td>9</td>\n",
              "      <td>1479.417798</td>\n",
              "      <td>16.401177</td>\n",
              "    </tr>\n",
              "    <tr>\n",
              "      <th>753</th>\n",
              "      <td>754</td>\n",
              "      <td>Campinas</td>\n",
              "      <td>26</td>\n",
              "      <td>2</td>\n",
              "      <td>2020-02-26</td>\n",
              "      <td>0</td>\n",
              "      <td>0</td>\n",
              "      <td>0.0</td>\n",
              "      <td>0.0</td>\n",
              "      <td>0</td>\n",
              "      <td>0</td>\n",
              "      <td>0.0</td>\n",
              "      <td>0.0</td>\n",
              "      <td>0.0</td>\n",
              "      <td>1175501</td>\n",
              "      <td>192796</td>\n",
              "      <td>794.57</td>\n",
              "      <td>9</td>\n",
              "      <td>1479.417798</td>\n",
              "      <td>16.401177</td>\n",
              "    </tr>\n",
              "    <tr>\n",
              "      <th>1398</th>\n",
              "      <td>1399</td>\n",
              "      <td>Campinas</td>\n",
              "      <td>27</td>\n",
              "      <td>2</td>\n",
              "      <td>2020-02-27</td>\n",
              "      <td>0</td>\n",
              "      <td>0</td>\n",
              "      <td>0.0</td>\n",
              "      <td>0.0</td>\n",
              "      <td>0</td>\n",
              "      <td>0</td>\n",
              "      <td>0.0</td>\n",
              "      <td>0.0</td>\n",
              "      <td>0.0</td>\n",
              "      <td>1175501</td>\n",
              "      <td>192796</td>\n",
              "      <td>794.57</td>\n",
              "      <td>9</td>\n",
              "      <td>1479.417798</td>\n",
              "      <td>16.401177</td>\n",
              "    </tr>\n",
              "    <tr>\n",
              "      <th>2043</th>\n",
              "      <td>2044</td>\n",
              "      <td>Campinas</td>\n",
              "      <td>28</td>\n",
              "      <td>2</td>\n",
              "      <td>2020-02-28</td>\n",
              "      <td>0</td>\n",
              "      <td>0</td>\n",
              "      <td>0.0</td>\n",
              "      <td>0.0</td>\n",
              "      <td>0</td>\n",
              "      <td>0</td>\n",
              "      <td>0.0</td>\n",
              "      <td>0.0</td>\n",
              "      <td>0.0</td>\n",
              "      <td>1175501</td>\n",
              "      <td>192796</td>\n",
              "      <td>794.57</td>\n",
              "      <td>9</td>\n",
              "      <td>1479.417798</td>\n",
              "      <td>16.401177</td>\n",
              "    </tr>\n",
              "    <tr>\n",
              "      <th>2688</th>\n",
              "      <td>2689</td>\n",
              "      <td>Campinas</td>\n",
              "      <td>29</td>\n",
              "      <td>2</td>\n",
              "      <td>2020-02-29</td>\n",
              "      <td>0</td>\n",
              "      <td>0</td>\n",
              "      <td>0.0</td>\n",
              "      <td>0.0</td>\n",
              "      <td>0</td>\n",
              "      <td>0</td>\n",
              "      <td>0.0</td>\n",
              "      <td>0.0</td>\n",
              "      <td>0.0</td>\n",
              "      <td>1175501</td>\n",
              "      <td>192796</td>\n",
              "      <td>794.57</td>\n",
              "      <td>9</td>\n",
              "      <td>1479.417798</td>\n",
              "      <td>16.401177</td>\n",
              "    </tr>\n",
              "  </tbody>\n",
              "</table>\n",
              "</div>"
            ],
            "text/plain": [
              "      indice municipio  dia  mes        data  casos  casos_novos  casos_pc  \\\n",
              "108      109  Campinas   25    2  2020-02-25      0            0       0.0   \n",
              "753      754  Campinas   26    2  2020-02-26      0            0       0.0   \n",
              "1398    1399  Campinas   27    2  2020-02-27      0            0       0.0   \n",
              "2043    2044  Campinas   28    2  2020-02-28      0            0       0.0   \n",
              "2688    2689  Campinas   29    2  2020-02-29      0            0       0.0   \n",
              "\n",
              "      casos_mm7d  obitos  obitos_novos  obitos_pc  obitos_mm7d  letalidade  \\\n",
              "108          0.0       0             0        0.0          0.0         0.0   \n",
              "753          0.0       0             0        0.0          0.0         0.0   \n",
              "1398         0.0       0             0        0.0          0.0         0.0   \n",
              "2043         0.0       0             0        0.0          0.0         0.0   \n",
              "2688         0.0       0             0        0.0          0.0         0.0   \n",
              "\n",
              "          pop  pop_60    area  semana_epidem    densidade  porcentagem_idosos  \n",
              "108   1175501  192796  794.57              9  1479.417798           16.401177  \n",
              "753   1175501  192796  794.57              9  1479.417798           16.401177  \n",
              "1398  1175501  192796  794.57              9  1479.417798           16.401177  \n",
              "2043  1175501  192796  794.57              9  1479.417798           16.401177  \n",
              "2688  1175501  192796  794.57              9  1479.417798           16.401177  "
            ]
          },
          "execution_count": 37,
          "metadata": {},
          "output_type": "execute_result"
        }
      ],
      "source": [
        "covid_campinas_s_outliers = covid_campinas.loc[covid_campinas['casos_novos'] <= outlier_sup]\n",
        "covid_campinas_s_outliers.head(5)"
      ]
    },
    {
      "cell_type": "code",
      "execution_count": 38,
      "metadata": {},
      "outputs": [
        {
          "data": {
            "application/vnd.plotly.v1+json": {
              "config": {
                "plotlyServerURL": "https://plot.ly"
              },
              "data": [
                {
                  "alignmentgroup": "True",
                  "hovertemplate": "casos_novos=%{y}<extra></extra>",
                  "legendgroup": "",
                  "marker": {
                    "color": "#636efa"
                  },
                  "name": "",
                  "notched": false,
                  "offsetgroup": "",
                  "orientation": "v",
                  "showlegend": false,
                  "type": "box",
                  "x0": " ",
                  "xaxis": "x",
                  "y": [
                    0,
                    0,
                    0,
                    0,
                    0,
                    0,
                    0,
                    0,
                    0,
                    0,
                    0,
                    0,
                    0,
                    0,
                    0,
                    0,
                    0,
                    0,
                    0,
                    0,
                    0,
                    0,
                    1,
                    0,
                    0,
                    0,
                    0,
                    0,
                    0,
                    3,
                    0,
                    1,
                    0,
                    0,
                    6,
                    4,
                    7,
                    1,
                    1,
                    2,
                    0,
                    2,
                    22,
                    22,
                    11,
                    17,
                    0,
                    6,
                    1,
                    5,
                    30,
                    7,
                    15,
                    20,
                    0,
                    8,
                    7,
                    3,
                    9,
                    18,
                    27,
                    6,
                    17,
                    41,
                    24,
                    25,
                    3,
                    8,
                    22,
                    1,
                    27,
                    32,
                    33,
                    32,
                    68,
                    14,
                    6,
                    28,
                    87,
                    39,
                    71,
                    106,
                    41,
                    19,
                    67,
                    59,
                    60,
                    55,
                    59,
                    29,
                    47,
                    33,
                    39,
                    66,
                    107,
                    106,
                    20,
                    69,
                    106,
                    171,
                    148,
                    167,
                    190,
                    113,
                    35,
                    162,
                    207,
                    170,
                    199,
                    192,
                    170,
                    32,
                    373,
                    45,
                    28,
                    190,
                    142,
                    179,
                    252,
                    434,
                    280,
                    340,
                    330,
                    352,
                    117,
                    277,
                    404,
                    349,
                    278,
                    79,
                    303,
                    191,
                    430,
                    406,
                    316,
                    303,
                    288,
                    146,
                    138,
                    314,
                    292,
                    300,
                    200,
                    127,
                    84,
                    245,
                    153,
                    701,
                    475,
                    624,
                    510,
                    133,
                    172,
                    482,
                    483,
                    355,
                    441,
                    291,
                    356,
                    179,
                    449,
                    361,
                    414,
                    357,
                    450,
                    157,
                    133,
                    524,
                    579,
                    660,
                    370,
                    509,
                    89,
                    205,
                    223,
                    208,
                    450,
                    137,
                    405,
                    184,
                    85,
                    488,
                    223,
                    258,
                    267,
                    170,
                    79,
                    11,
                    205,
                    383,
                    400,
                    161,
                    294,
                    79,
                    39,
                    60,
                    108,
                    237,
                    198,
                    97,
                    17,
                    75,
                    216,
                    210,
                    183,
                    141,
                    161,
                    138,
                    11,
                    119,
                    124,
                    136,
                    108,
                    202,
                    12,
                    21,
                    108,
                    121,
                    75,
                    86,
                    94,
                    3,
                    32,
                    122,
                    154,
                    131,
                    107,
                    118,
                    60,
                    7,
                    22,
                    114,
                    128,
                    128,
                    93,
                    6,
                    4,
                    174,
                    107,
                    68,
                    83,
                    126,
                    42,
                    11,
                    136,
                    141,
                    73,
                    100,
                    36,
                    10,
                    11,
                    5,
                    116,
                    73,
                    0,
                    0,
                    0,
                    0,
                    426,
                    47,
                    90,
                    113,
                    88,
                    7,
                    13,
                    196,
                    213,
                    138,
                    182,
                    215,
                    65,
                    12,
                    123,
                    218,
                    126,
                    116,
                    124,
                    27,
                    23,
                    366,
                    334,
                    328,
                    270,
                    212,
                    45,
                    2,
                    287,
                    114,
                    419,
                    228,
                    204,
                    3,
                    27,
                    197,
                    0,
                    420,
                    386,
                    359,
                    0,
                    106,
                    395,
                    252,
                    353,
                    23,
                    16,
                    28,
                    53,
                    569,
                    396,
                    283,
                    92,
                    6,
                    53,
                    42,
                    432,
                    394,
                    393,
                    333,
                    447,
                    69,
                    77,
                    417,
                    341,
                    376,
                    376,
                    339,
                    134,
                    36,
                    455,
                    517,
                    285,
                    193,
                    460,
                    148,
                    69,
                    478,
                    498,
                    307,
                    299,
                    271,
                    48,
                    78,
                    267,
                    196,
                    389,
                    330,
                    336,
                    98,
                    26,
                    320,
                    352,
                    259,
                    353,
                    236,
                    77,
                    59,
                    278,
                    316,
                    300,
                    246,
                    218,
                    143,
                    69,
                    328,
                    348,
                    188,
                    297,
                    265,
                    83,
                    29,
                    316,
                    390,
                    241,
                    278,
                    403,
                    81,
                    36,
                    452,
                    367,
                    347,
                    309,
                    478,
                    176,
                    37,
                    382,
                    434,
                    380,
                    319,
                    423,
                    212,
                    59,
                    409,
                    487,
                    364,
                    394,
                    432,
                    210,
                    89,
                    496,
                    416,
                    503,
                    277,
                    88,
                    75,
                    63,
                    520,
                    377,
                    388,
                    407,
                    384,
                    95,
                    140,
                    454,
                    396,
                    506,
                    360,
                    406,
                    52,
                    45,
                    412,
                    457,
                    135,
                    523,
                    449,
                    89,
                    35,
                    618,
                    276,
                    303,
                    313,
                    319,
                    44,
                    24,
                    433,
                    443,
                    305,
                    414,
                    277,
                    45,
                    20,
                    302,
                    185,
                    186,
                    327,
                    530,
                    38,
                    33,
                    448,
                    311,
                    336,
                    256,
                    569,
                    192,
                    76,
                    387,
                    221,
                    242,
                    24,
                    282,
                    85,
                    40,
                    432,
                    446,
                    286,
                    75,
                    285,
                    45,
                    71,
                    218,
                    69,
                    518,
                    425,
                    417,
                    105,
                    78,
                    634,
                    504,
                    379,
                    633,
                    583,
                    153,
                    142,
                    541,
                    507,
                    476,
                    481,
                    521,
                    168,
                    63,
                    550,
                    222,
                    395,
                    588,
                    413,
                    57,
                    77,
                    527,
                    365,
                    306,
                    408,
                    108,
                    64,
                    65,
                    239,
                    408,
                    278,
                    404,
                    581,
                    57,
                    37,
                    102,
                    451,
                    407,
                    380,
                    261,
                    56,
                    38,
                    335,
                    526,
                    298,
                    239,
                    309,
                    63,
                    57,
                    480,
                    515,
                    258,
                    214,
                    272,
                    70,
                    43,
                    335,
                    253,
                    325,
                    299,
                    300,
                    191,
                    14,
                    272,
                    181,
                    241,
                    204,
                    195,
                    153,
                    23,
                    282,
                    180,
                    228,
                    407,
                    193,
                    70,
                    38,
                    230,
                    181,
                    234,
                    232,
                    281,
                    120,
                    60,
                    164,
                    133,
                    41,
                    22,
                    19,
                    18,
                    5,
                    5,
                    4,
                    5,
                    26,
                    27,
                    0,
                    207,
                    132,
                    121,
                    28,
                    68
                  ],
                  "y0": " ",
                  "yaxis": "y"
                }
              ],
              "layout": {
                "boxmode": "group",
                "legend": {
                  "tracegroupgap": 0
                },
                "margin": {
                  "t": 60
                },
                "template": {
                  "data": {
                    "bar": [
                      {
                        "error_x": {
                          "color": "#2a3f5f"
                        },
                        "error_y": {
                          "color": "#2a3f5f"
                        },
                        "marker": {
                          "line": {
                            "color": "#E5ECF6",
                            "width": 0.5
                          },
                          "pattern": {
                            "fillmode": "overlay",
                            "size": 10,
                            "solidity": 0.2
                          }
                        },
                        "type": "bar"
                      }
                    ],
                    "barpolar": [
                      {
                        "marker": {
                          "line": {
                            "color": "#E5ECF6",
                            "width": 0.5
                          },
                          "pattern": {
                            "fillmode": "overlay",
                            "size": 10,
                            "solidity": 0.2
                          }
                        },
                        "type": "barpolar"
                      }
                    ],
                    "carpet": [
                      {
                        "aaxis": {
                          "endlinecolor": "#2a3f5f",
                          "gridcolor": "white",
                          "linecolor": "white",
                          "minorgridcolor": "white",
                          "startlinecolor": "#2a3f5f"
                        },
                        "baxis": {
                          "endlinecolor": "#2a3f5f",
                          "gridcolor": "white",
                          "linecolor": "white",
                          "minorgridcolor": "white",
                          "startlinecolor": "#2a3f5f"
                        },
                        "type": "carpet"
                      }
                    ],
                    "choropleth": [
                      {
                        "colorbar": {
                          "outlinewidth": 0,
                          "ticks": ""
                        },
                        "type": "choropleth"
                      }
                    ],
                    "contour": [
                      {
                        "colorbar": {
                          "outlinewidth": 0,
                          "ticks": ""
                        },
                        "colorscale": [
                          [
                            0,
                            "#0d0887"
                          ],
                          [
                            0.1111111111111111,
                            "#46039f"
                          ],
                          [
                            0.2222222222222222,
                            "#7201a8"
                          ],
                          [
                            0.3333333333333333,
                            "#9c179e"
                          ],
                          [
                            0.4444444444444444,
                            "#bd3786"
                          ],
                          [
                            0.5555555555555556,
                            "#d8576b"
                          ],
                          [
                            0.6666666666666666,
                            "#ed7953"
                          ],
                          [
                            0.7777777777777778,
                            "#fb9f3a"
                          ],
                          [
                            0.8888888888888888,
                            "#fdca26"
                          ],
                          [
                            1,
                            "#f0f921"
                          ]
                        ],
                        "type": "contour"
                      }
                    ],
                    "contourcarpet": [
                      {
                        "colorbar": {
                          "outlinewidth": 0,
                          "ticks": ""
                        },
                        "type": "contourcarpet"
                      }
                    ],
                    "heatmap": [
                      {
                        "colorbar": {
                          "outlinewidth": 0,
                          "ticks": ""
                        },
                        "colorscale": [
                          [
                            0,
                            "#0d0887"
                          ],
                          [
                            0.1111111111111111,
                            "#46039f"
                          ],
                          [
                            0.2222222222222222,
                            "#7201a8"
                          ],
                          [
                            0.3333333333333333,
                            "#9c179e"
                          ],
                          [
                            0.4444444444444444,
                            "#bd3786"
                          ],
                          [
                            0.5555555555555556,
                            "#d8576b"
                          ],
                          [
                            0.6666666666666666,
                            "#ed7953"
                          ],
                          [
                            0.7777777777777778,
                            "#fb9f3a"
                          ],
                          [
                            0.8888888888888888,
                            "#fdca26"
                          ],
                          [
                            1,
                            "#f0f921"
                          ]
                        ],
                        "type": "heatmap"
                      }
                    ],
                    "heatmapgl": [
                      {
                        "colorbar": {
                          "outlinewidth": 0,
                          "ticks": ""
                        },
                        "colorscale": [
                          [
                            0,
                            "#0d0887"
                          ],
                          [
                            0.1111111111111111,
                            "#46039f"
                          ],
                          [
                            0.2222222222222222,
                            "#7201a8"
                          ],
                          [
                            0.3333333333333333,
                            "#9c179e"
                          ],
                          [
                            0.4444444444444444,
                            "#bd3786"
                          ],
                          [
                            0.5555555555555556,
                            "#d8576b"
                          ],
                          [
                            0.6666666666666666,
                            "#ed7953"
                          ],
                          [
                            0.7777777777777778,
                            "#fb9f3a"
                          ],
                          [
                            0.8888888888888888,
                            "#fdca26"
                          ],
                          [
                            1,
                            "#f0f921"
                          ]
                        ],
                        "type": "heatmapgl"
                      }
                    ],
                    "histogram": [
                      {
                        "marker": {
                          "pattern": {
                            "fillmode": "overlay",
                            "size": 10,
                            "solidity": 0.2
                          }
                        },
                        "type": "histogram"
                      }
                    ],
                    "histogram2d": [
                      {
                        "colorbar": {
                          "outlinewidth": 0,
                          "ticks": ""
                        },
                        "colorscale": [
                          [
                            0,
                            "#0d0887"
                          ],
                          [
                            0.1111111111111111,
                            "#46039f"
                          ],
                          [
                            0.2222222222222222,
                            "#7201a8"
                          ],
                          [
                            0.3333333333333333,
                            "#9c179e"
                          ],
                          [
                            0.4444444444444444,
                            "#bd3786"
                          ],
                          [
                            0.5555555555555556,
                            "#d8576b"
                          ],
                          [
                            0.6666666666666666,
                            "#ed7953"
                          ],
                          [
                            0.7777777777777778,
                            "#fb9f3a"
                          ],
                          [
                            0.8888888888888888,
                            "#fdca26"
                          ],
                          [
                            1,
                            "#f0f921"
                          ]
                        ],
                        "type": "histogram2d"
                      }
                    ],
                    "histogram2dcontour": [
                      {
                        "colorbar": {
                          "outlinewidth": 0,
                          "ticks": ""
                        },
                        "colorscale": [
                          [
                            0,
                            "#0d0887"
                          ],
                          [
                            0.1111111111111111,
                            "#46039f"
                          ],
                          [
                            0.2222222222222222,
                            "#7201a8"
                          ],
                          [
                            0.3333333333333333,
                            "#9c179e"
                          ],
                          [
                            0.4444444444444444,
                            "#bd3786"
                          ],
                          [
                            0.5555555555555556,
                            "#d8576b"
                          ],
                          [
                            0.6666666666666666,
                            "#ed7953"
                          ],
                          [
                            0.7777777777777778,
                            "#fb9f3a"
                          ],
                          [
                            0.8888888888888888,
                            "#fdca26"
                          ],
                          [
                            1,
                            "#f0f921"
                          ]
                        ],
                        "type": "histogram2dcontour"
                      }
                    ],
                    "mesh3d": [
                      {
                        "colorbar": {
                          "outlinewidth": 0,
                          "ticks": ""
                        },
                        "type": "mesh3d"
                      }
                    ],
                    "parcoords": [
                      {
                        "line": {
                          "colorbar": {
                            "outlinewidth": 0,
                            "ticks": ""
                          }
                        },
                        "type": "parcoords"
                      }
                    ],
                    "pie": [
                      {
                        "automargin": true,
                        "type": "pie"
                      }
                    ],
                    "scatter": [
                      {
                        "fillpattern": {
                          "fillmode": "overlay",
                          "size": 10,
                          "solidity": 0.2
                        },
                        "type": "scatter"
                      }
                    ],
                    "scatter3d": [
                      {
                        "line": {
                          "colorbar": {
                            "outlinewidth": 0,
                            "ticks": ""
                          }
                        },
                        "marker": {
                          "colorbar": {
                            "outlinewidth": 0,
                            "ticks": ""
                          }
                        },
                        "type": "scatter3d"
                      }
                    ],
                    "scattercarpet": [
                      {
                        "marker": {
                          "colorbar": {
                            "outlinewidth": 0,
                            "ticks": ""
                          }
                        },
                        "type": "scattercarpet"
                      }
                    ],
                    "scattergeo": [
                      {
                        "marker": {
                          "colorbar": {
                            "outlinewidth": 0,
                            "ticks": ""
                          }
                        },
                        "type": "scattergeo"
                      }
                    ],
                    "scattergl": [
                      {
                        "marker": {
                          "colorbar": {
                            "outlinewidth": 0,
                            "ticks": ""
                          }
                        },
                        "type": "scattergl"
                      }
                    ],
                    "scattermapbox": [
                      {
                        "marker": {
                          "colorbar": {
                            "outlinewidth": 0,
                            "ticks": ""
                          }
                        },
                        "type": "scattermapbox"
                      }
                    ],
                    "scatterpolar": [
                      {
                        "marker": {
                          "colorbar": {
                            "outlinewidth": 0,
                            "ticks": ""
                          }
                        },
                        "type": "scatterpolar"
                      }
                    ],
                    "scatterpolargl": [
                      {
                        "marker": {
                          "colorbar": {
                            "outlinewidth": 0,
                            "ticks": ""
                          }
                        },
                        "type": "scatterpolargl"
                      }
                    ],
                    "scatterternary": [
                      {
                        "marker": {
                          "colorbar": {
                            "outlinewidth": 0,
                            "ticks": ""
                          }
                        },
                        "type": "scatterternary"
                      }
                    ],
                    "surface": [
                      {
                        "colorbar": {
                          "outlinewidth": 0,
                          "ticks": ""
                        },
                        "colorscale": [
                          [
                            0,
                            "#0d0887"
                          ],
                          [
                            0.1111111111111111,
                            "#46039f"
                          ],
                          [
                            0.2222222222222222,
                            "#7201a8"
                          ],
                          [
                            0.3333333333333333,
                            "#9c179e"
                          ],
                          [
                            0.4444444444444444,
                            "#bd3786"
                          ],
                          [
                            0.5555555555555556,
                            "#d8576b"
                          ],
                          [
                            0.6666666666666666,
                            "#ed7953"
                          ],
                          [
                            0.7777777777777778,
                            "#fb9f3a"
                          ],
                          [
                            0.8888888888888888,
                            "#fdca26"
                          ],
                          [
                            1,
                            "#f0f921"
                          ]
                        ],
                        "type": "surface"
                      }
                    ],
                    "table": [
                      {
                        "cells": {
                          "fill": {
                            "color": "#EBF0F8"
                          },
                          "line": {
                            "color": "white"
                          }
                        },
                        "header": {
                          "fill": {
                            "color": "#C8D4E3"
                          },
                          "line": {
                            "color": "white"
                          }
                        },
                        "type": "table"
                      }
                    ]
                  },
                  "layout": {
                    "annotationdefaults": {
                      "arrowcolor": "#2a3f5f",
                      "arrowhead": 0,
                      "arrowwidth": 1
                    },
                    "autotypenumbers": "strict",
                    "coloraxis": {
                      "colorbar": {
                        "outlinewidth": 0,
                        "ticks": ""
                      }
                    },
                    "colorscale": {
                      "diverging": [
                        [
                          0,
                          "#8e0152"
                        ],
                        [
                          0.1,
                          "#c51b7d"
                        ],
                        [
                          0.2,
                          "#de77ae"
                        ],
                        [
                          0.3,
                          "#f1b6da"
                        ],
                        [
                          0.4,
                          "#fde0ef"
                        ],
                        [
                          0.5,
                          "#f7f7f7"
                        ],
                        [
                          0.6,
                          "#e6f5d0"
                        ],
                        [
                          0.7,
                          "#b8e186"
                        ],
                        [
                          0.8,
                          "#7fbc41"
                        ],
                        [
                          0.9,
                          "#4d9221"
                        ],
                        [
                          1,
                          "#276419"
                        ]
                      ],
                      "sequential": [
                        [
                          0,
                          "#0d0887"
                        ],
                        [
                          0.1111111111111111,
                          "#46039f"
                        ],
                        [
                          0.2222222222222222,
                          "#7201a8"
                        ],
                        [
                          0.3333333333333333,
                          "#9c179e"
                        ],
                        [
                          0.4444444444444444,
                          "#bd3786"
                        ],
                        [
                          0.5555555555555556,
                          "#d8576b"
                        ],
                        [
                          0.6666666666666666,
                          "#ed7953"
                        ],
                        [
                          0.7777777777777778,
                          "#fb9f3a"
                        ],
                        [
                          0.8888888888888888,
                          "#fdca26"
                        ],
                        [
                          1,
                          "#f0f921"
                        ]
                      ],
                      "sequentialminus": [
                        [
                          0,
                          "#0d0887"
                        ],
                        [
                          0.1111111111111111,
                          "#46039f"
                        ],
                        [
                          0.2222222222222222,
                          "#7201a8"
                        ],
                        [
                          0.3333333333333333,
                          "#9c179e"
                        ],
                        [
                          0.4444444444444444,
                          "#bd3786"
                        ],
                        [
                          0.5555555555555556,
                          "#d8576b"
                        ],
                        [
                          0.6666666666666666,
                          "#ed7953"
                        ],
                        [
                          0.7777777777777778,
                          "#fb9f3a"
                        ],
                        [
                          0.8888888888888888,
                          "#fdca26"
                        ],
                        [
                          1,
                          "#f0f921"
                        ]
                      ]
                    },
                    "colorway": [
                      "#636efa",
                      "#EF553B",
                      "#00cc96",
                      "#ab63fa",
                      "#FFA15A",
                      "#19d3f3",
                      "#FF6692",
                      "#B6E880",
                      "#FF97FF",
                      "#FECB52"
                    ],
                    "font": {
                      "color": "#2a3f5f"
                    },
                    "geo": {
                      "bgcolor": "white",
                      "lakecolor": "white",
                      "landcolor": "#E5ECF6",
                      "showlakes": true,
                      "showland": true,
                      "subunitcolor": "white"
                    },
                    "hoverlabel": {
                      "align": "left"
                    },
                    "hovermode": "closest",
                    "mapbox": {
                      "style": "light"
                    },
                    "paper_bgcolor": "white",
                    "plot_bgcolor": "#E5ECF6",
                    "polar": {
                      "angularaxis": {
                        "gridcolor": "white",
                        "linecolor": "white",
                        "ticks": ""
                      },
                      "bgcolor": "#E5ECF6",
                      "radialaxis": {
                        "gridcolor": "white",
                        "linecolor": "white",
                        "ticks": ""
                      }
                    },
                    "scene": {
                      "xaxis": {
                        "backgroundcolor": "#E5ECF6",
                        "gridcolor": "white",
                        "gridwidth": 2,
                        "linecolor": "white",
                        "showbackground": true,
                        "ticks": "",
                        "zerolinecolor": "white"
                      },
                      "yaxis": {
                        "backgroundcolor": "#E5ECF6",
                        "gridcolor": "white",
                        "gridwidth": 2,
                        "linecolor": "white",
                        "showbackground": true,
                        "ticks": "",
                        "zerolinecolor": "white"
                      },
                      "zaxis": {
                        "backgroundcolor": "#E5ECF6",
                        "gridcolor": "white",
                        "gridwidth": 2,
                        "linecolor": "white",
                        "showbackground": true,
                        "ticks": "",
                        "zerolinecolor": "white"
                      }
                    },
                    "shapedefaults": {
                      "line": {
                        "color": "#2a3f5f"
                      }
                    },
                    "ternary": {
                      "aaxis": {
                        "gridcolor": "white",
                        "linecolor": "white",
                        "ticks": ""
                      },
                      "baxis": {
                        "gridcolor": "white",
                        "linecolor": "white",
                        "ticks": ""
                      },
                      "bgcolor": "#E5ECF6",
                      "caxis": {
                        "gridcolor": "white",
                        "linecolor": "white",
                        "ticks": ""
                      }
                    },
                    "title": {
                      "x": 0.05
                    },
                    "xaxis": {
                      "automargin": true,
                      "gridcolor": "white",
                      "linecolor": "white",
                      "ticks": "",
                      "title": {
                        "standoff": 15
                      },
                      "zerolinecolor": "white",
                      "zerolinewidth": 2
                    },
                    "yaxis": {
                      "automargin": true,
                      "gridcolor": "white",
                      "linecolor": "white",
                      "ticks": "",
                      "title": {
                        "standoff": 15
                      },
                      "zerolinecolor": "white",
                      "zerolinewidth": 2
                    }
                  }
                },
                "xaxis": {
                  "anchor": "y",
                  "domain": [
                    0,
                    1
                  ]
                },
                "yaxis": {
                  "anchor": "x",
                  "domain": [
                    0,
                    1
                  ],
                  "title": {
                    "text": "casos_novos"
                  }
                }
              }
            }
          },
          "metadata": {},
          "output_type": "display_data"
        }
      ],
      "source": [
        "grafico = px.box(covid_campinas_s_outliers, y='casos_novos')\n",
        "grafico.show()"
      ]
    },
    {
      "cell_type": "markdown",
      "metadata": {},
      "source": [
        "Agora Guarulhos"
      ]
    },
    {
      "cell_type": "code",
      "execution_count": 39,
      "metadata": {},
      "outputs": [
        {
          "data": {
            "application/vnd.plotly.v1+json": {
              "config": {
                "plotlyServerURL": "https://plot.ly"
              },
              "data": [
                {
                  "alignmentgroup": "True",
                  "hovertemplate": "casos_novos=%{y}<extra></extra>",
                  "legendgroup": "",
                  "marker": {
                    "color": "#636efa"
                  },
                  "name": "",
                  "notched": false,
                  "offsetgroup": "",
                  "orientation": "v",
                  "showlegend": false,
                  "type": "box",
                  "x0": " ",
                  "xaxis": "x",
                  "y": [
                    0,
                    0,
                    0,
                    0,
                    0,
                    0,
                    0,
                    0,
                    0,
                    0,
                    0,
                    0,
                    0,
                    0,
                    0,
                    0,
                    0,
                    0,
                    0,
                    0,
                    0,
                    1,
                    0,
                    0,
                    0,
                    0,
                    0,
                    0,
                    0,
                    4,
                    4,
                    4,
                    0,
                    0,
                    1,
                    7,
                    4,
                    10,
                    17,
                    10,
                    0,
                    1,
                    11,
                    45,
                    35,
                    24,
                    13,
                    7,
                    2,
                    14,
                    39,
                    16,
                    26,
                    10,
                    3,
                    8,
                    14,
                    1,
                    25,
                    43,
                    56,
                    40,
                    3,
                    64,
                    104,
                    71,
                    67,
                    12,
                    17,
                    1,
                    15,
                    97,
                    43,
                    26,
                    48,
                    12,
                    16,
                    34,
                    64,
                    106,
                    131,
                    81,
                    21,
                    16,
                    147,
                    118,
                    80,
                    56,
                    106,
                    21,
                    19,
                    58,
                    87,
                    172,
                    142,
                    173,
                    34,
                    12,
                    220,
                    129,
                    120,
                    116,
                    117,
                    65,
                    24,
                    126,
                    160,
                    152,
                    69,
                    64,
                    71,
                    42,
                    157,
                    63,
                    72,
                    340,
                    87,
                    63,
                    29,
                    119,
                    274,
                    217,
                    267,
                    282,
                    287,
                    100,
                    242,
                    275,
                    245,
                    182,
                    71,
                    84,
                    47,
                    335,
                    237,
                    161,
                    286,
                    244,
                    66,
                    34,
                    301,
                    152,
                    199,
                    125,
                    157,
                    87,
                    20,
                    177,
                    203,
                    197,
                    174,
                    286,
                    52,
                    47,
                    226,
                    304,
                    206,
                    228,
                    140,
                    36,
                    30,
                    232,
                    93,
                    223,
                    118,
                    191,
                    45,
                    37,
                    211,
                    221,
                    340,
                    278,
                    189,
                    13,
                    18,
                    212,
                    255,
                    218,
                    115,
                    336,
                    186,
                    24,
                    217,
                    223,
                    138,
                    141,
                    99,
                    13,
                    15,
                    197,
                    147,
                    266,
                    157,
                    147,
                    17,
                    37,
                    24,
                    165,
                    124,
                    102,
                    128,
                    29,
                    57,
                    136,
                    183,
                    93,
                    174,
                    98,
                    23,
                    26,
                    128,
                    99,
                    108,
                    76,
                    88,
                    10,
                    21,
                    68,
                    113,
                    71,
                    49,
                    123,
                    40,
                    5,
                    81,
                    80,
                    61,
                    131,
                    161,
                    104,
                    2,
                    14,
                    86,
                    62,
                    71,
                    89,
                    76,
                    9,
                    108,
                    100,
                    121,
                    310,
                    150,
                    152,
                    33,
                    119,
                    163,
                    161,
                    60,
                    21,
                    6,
                    4,
                    9,
                    59,
                    58,
                    0,
                    0,
                    0,
                    0,
                    410,
                    68,
                    160,
                    174,
                    130,
                    11,
                    19,
                    272,
                    220,
                    239,
                    194,
                    42,
                    44,
                    12,
                    156,
                    288,
                    65,
                    63,
                    79,
                    61,
                    37,
                    129,
                    55,
                    76,
                    51,
                    35,
                    25,
                    13,
                    53,
                    90,
                    69,
                    55,
                    155,
                    8,
                    37,
                    60,
                    0,
                    190,
                    88,
                    96,
                    0,
                    39,
                    123,
                    126,
                    112,
                    35,
                    9,
                    25,
                    21,
                    181,
                    217,
                    214,
                    67,
                    27,
                    48,
                    25,
                    172,
                    194,
                    201,
                    168,
                    197,
                    85,
                    53,
                    274,
                    232,
                    139,
                    259,
                    192,
                    76,
                    29,
                    168,
                    222,
                    173,
                    177,
                    191,
                    63,
                    27,
                    198,
                    268,
                    200,
                    164,
                    84,
                    25,
                    8,
                    91,
                    106,
                    98,
                    127,
                    129,
                    15,
                    36,
                    89,
                    153,
                    121,
                    110,
                    84,
                    34,
                    20,
                    116,
                    151,
                    132,
                    112,
                    109,
                    20,
                    0,
                    1,
                    84,
                    115,
                    137,
                    154,
                    48,
                    30,
                    116,
                    153,
                    138,
                    173,
                    152,
                    87,
                    76,
                    193,
                    212,
                    301,
                    217,
                    169,
                    104,
                    51,
                    252,
                    155,
                    217,
                    274,
                    250,
                    221,
                    56,
                    309,
                    254,
                    196,
                    303,
                    235,
                    242,
                    54,
                    359,
                    296,
                    465,
                    346,
                    64,
                    56,
                    157,
                    381,
                    334,
                    388,
                    321,
                    276,
                    178,
                    230,
                    269,
                    466,
                    526,
                    597,
                    698,
                    153,
                    81,
                    311,
                    347,
                    208,
                    499,
                    268,
                    97,
                    72,
                    279,
                    162,
                    175,
                    210,
                    141,
                    221,
                    25,
                    159,
                    142,
                    75,
                    206,
                    162,
                    223,
                    28,
                    200,
                    184,
                    122,
                    263,
                    152,
                    39,
                    110,
                    117,
                    227,
                    224,
                    149,
                    124,
                    145,
                    38,
                    152,
                    281,
                    164,
                    42,
                    47,
                    46,
                    155,
                    158,
                    212,
                    195,
                    33,
                    194,
                    99,
                    29,
                    109,
                    138,
                    209,
                    161,
                    181,
                    105,
                    121,
                    219,
                    193,
                    114,
                    350,
                    152,
                    78,
                    58,
                    172,
                    157,
                    122,
                    175,
                    138,
                    93,
                    116,
                    123,
                    81,
                    71,
                    95,
                    78,
                    96,
                    27,
                    142,
                    161,
                    94,
                    130,
                    63,
                    25,
                    35,
                    65,
                    91,
                    95,
                    142,
                    125,
                    5,
                    34,
                    71,
                    115,
                    83,
                    110,
                    67,
                    41,
                    134,
                    102,
                    88,
                    110,
                    139,
                    95,
                    32,
                    35,
                    55,
                    72,
                    111,
                    78,
                    43,
                    17,
                    16,
                    67,
                    80,
                    43,
                    95,
                    62,
                    25,
                    9,
                    96,
                    109,
                    120,
                    68,
                    43,
                    21,
                    13,
                    55,
                    64,
                    70,
                    50,
                    46,
                    21,
                    13,
                    60,
                    86,
                    47,
                    108,
                    68,
                    1,
                    0,
                    0,
                    1,
                    1,
                    0,
                    0,
                    1,
                    1,
                    0,
                    0,
                    1,
                    341,
                    341,
                    7,
                    0,
                    28,
                    17,
                    17,
                    19,
                    11
                  ],
                  "y0": " ",
                  "yaxis": "y"
                }
              ],
              "layout": {
                "boxmode": "group",
                "legend": {
                  "tracegroupgap": 0
                },
                "margin": {
                  "t": 60
                },
                "template": {
                  "data": {
                    "bar": [
                      {
                        "error_x": {
                          "color": "#2a3f5f"
                        },
                        "error_y": {
                          "color": "#2a3f5f"
                        },
                        "marker": {
                          "line": {
                            "color": "#E5ECF6",
                            "width": 0.5
                          },
                          "pattern": {
                            "fillmode": "overlay",
                            "size": 10,
                            "solidity": 0.2
                          }
                        },
                        "type": "bar"
                      }
                    ],
                    "barpolar": [
                      {
                        "marker": {
                          "line": {
                            "color": "#E5ECF6",
                            "width": 0.5
                          },
                          "pattern": {
                            "fillmode": "overlay",
                            "size": 10,
                            "solidity": 0.2
                          }
                        },
                        "type": "barpolar"
                      }
                    ],
                    "carpet": [
                      {
                        "aaxis": {
                          "endlinecolor": "#2a3f5f",
                          "gridcolor": "white",
                          "linecolor": "white",
                          "minorgridcolor": "white",
                          "startlinecolor": "#2a3f5f"
                        },
                        "baxis": {
                          "endlinecolor": "#2a3f5f",
                          "gridcolor": "white",
                          "linecolor": "white",
                          "minorgridcolor": "white",
                          "startlinecolor": "#2a3f5f"
                        },
                        "type": "carpet"
                      }
                    ],
                    "choropleth": [
                      {
                        "colorbar": {
                          "outlinewidth": 0,
                          "ticks": ""
                        },
                        "type": "choropleth"
                      }
                    ],
                    "contour": [
                      {
                        "colorbar": {
                          "outlinewidth": 0,
                          "ticks": ""
                        },
                        "colorscale": [
                          [
                            0,
                            "#0d0887"
                          ],
                          [
                            0.1111111111111111,
                            "#46039f"
                          ],
                          [
                            0.2222222222222222,
                            "#7201a8"
                          ],
                          [
                            0.3333333333333333,
                            "#9c179e"
                          ],
                          [
                            0.4444444444444444,
                            "#bd3786"
                          ],
                          [
                            0.5555555555555556,
                            "#d8576b"
                          ],
                          [
                            0.6666666666666666,
                            "#ed7953"
                          ],
                          [
                            0.7777777777777778,
                            "#fb9f3a"
                          ],
                          [
                            0.8888888888888888,
                            "#fdca26"
                          ],
                          [
                            1,
                            "#f0f921"
                          ]
                        ],
                        "type": "contour"
                      }
                    ],
                    "contourcarpet": [
                      {
                        "colorbar": {
                          "outlinewidth": 0,
                          "ticks": ""
                        },
                        "type": "contourcarpet"
                      }
                    ],
                    "heatmap": [
                      {
                        "colorbar": {
                          "outlinewidth": 0,
                          "ticks": ""
                        },
                        "colorscale": [
                          [
                            0,
                            "#0d0887"
                          ],
                          [
                            0.1111111111111111,
                            "#46039f"
                          ],
                          [
                            0.2222222222222222,
                            "#7201a8"
                          ],
                          [
                            0.3333333333333333,
                            "#9c179e"
                          ],
                          [
                            0.4444444444444444,
                            "#bd3786"
                          ],
                          [
                            0.5555555555555556,
                            "#d8576b"
                          ],
                          [
                            0.6666666666666666,
                            "#ed7953"
                          ],
                          [
                            0.7777777777777778,
                            "#fb9f3a"
                          ],
                          [
                            0.8888888888888888,
                            "#fdca26"
                          ],
                          [
                            1,
                            "#f0f921"
                          ]
                        ],
                        "type": "heatmap"
                      }
                    ],
                    "heatmapgl": [
                      {
                        "colorbar": {
                          "outlinewidth": 0,
                          "ticks": ""
                        },
                        "colorscale": [
                          [
                            0,
                            "#0d0887"
                          ],
                          [
                            0.1111111111111111,
                            "#46039f"
                          ],
                          [
                            0.2222222222222222,
                            "#7201a8"
                          ],
                          [
                            0.3333333333333333,
                            "#9c179e"
                          ],
                          [
                            0.4444444444444444,
                            "#bd3786"
                          ],
                          [
                            0.5555555555555556,
                            "#d8576b"
                          ],
                          [
                            0.6666666666666666,
                            "#ed7953"
                          ],
                          [
                            0.7777777777777778,
                            "#fb9f3a"
                          ],
                          [
                            0.8888888888888888,
                            "#fdca26"
                          ],
                          [
                            1,
                            "#f0f921"
                          ]
                        ],
                        "type": "heatmapgl"
                      }
                    ],
                    "histogram": [
                      {
                        "marker": {
                          "pattern": {
                            "fillmode": "overlay",
                            "size": 10,
                            "solidity": 0.2
                          }
                        },
                        "type": "histogram"
                      }
                    ],
                    "histogram2d": [
                      {
                        "colorbar": {
                          "outlinewidth": 0,
                          "ticks": ""
                        },
                        "colorscale": [
                          [
                            0,
                            "#0d0887"
                          ],
                          [
                            0.1111111111111111,
                            "#46039f"
                          ],
                          [
                            0.2222222222222222,
                            "#7201a8"
                          ],
                          [
                            0.3333333333333333,
                            "#9c179e"
                          ],
                          [
                            0.4444444444444444,
                            "#bd3786"
                          ],
                          [
                            0.5555555555555556,
                            "#d8576b"
                          ],
                          [
                            0.6666666666666666,
                            "#ed7953"
                          ],
                          [
                            0.7777777777777778,
                            "#fb9f3a"
                          ],
                          [
                            0.8888888888888888,
                            "#fdca26"
                          ],
                          [
                            1,
                            "#f0f921"
                          ]
                        ],
                        "type": "histogram2d"
                      }
                    ],
                    "histogram2dcontour": [
                      {
                        "colorbar": {
                          "outlinewidth": 0,
                          "ticks": ""
                        },
                        "colorscale": [
                          [
                            0,
                            "#0d0887"
                          ],
                          [
                            0.1111111111111111,
                            "#46039f"
                          ],
                          [
                            0.2222222222222222,
                            "#7201a8"
                          ],
                          [
                            0.3333333333333333,
                            "#9c179e"
                          ],
                          [
                            0.4444444444444444,
                            "#bd3786"
                          ],
                          [
                            0.5555555555555556,
                            "#d8576b"
                          ],
                          [
                            0.6666666666666666,
                            "#ed7953"
                          ],
                          [
                            0.7777777777777778,
                            "#fb9f3a"
                          ],
                          [
                            0.8888888888888888,
                            "#fdca26"
                          ],
                          [
                            1,
                            "#f0f921"
                          ]
                        ],
                        "type": "histogram2dcontour"
                      }
                    ],
                    "mesh3d": [
                      {
                        "colorbar": {
                          "outlinewidth": 0,
                          "ticks": ""
                        },
                        "type": "mesh3d"
                      }
                    ],
                    "parcoords": [
                      {
                        "line": {
                          "colorbar": {
                            "outlinewidth": 0,
                            "ticks": ""
                          }
                        },
                        "type": "parcoords"
                      }
                    ],
                    "pie": [
                      {
                        "automargin": true,
                        "type": "pie"
                      }
                    ],
                    "scatter": [
                      {
                        "fillpattern": {
                          "fillmode": "overlay",
                          "size": 10,
                          "solidity": 0.2
                        },
                        "type": "scatter"
                      }
                    ],
                    "scatter3d": [
                      {
                        "line": {
                          "colorbar": {
                            "outlinewidth": 0,
                            "ticks": ""
                          }
                        },
                        "marker": {
                          "colorbar": {
                            "outlinewidth": 0,
                            "ticks": ""
                          }
                        },
                        "type": "scatter3d"
                      }
                    ],
                    "scattercarpet": [
                      {
                        "marker": {
                          "colorbar": {
                            "outlinewidth": 0,
                            "ticks": ""
                          }
                        },
                        "type": "scattercarpet"
                      }
                    ],
                    "scattergeo": [
                      {
                        "marker": {
                          "colorbar": {
                            "outlinewidth": 0,
                            "ticks": ""
                          }
                        },
                        "type": "scattergeo"
                      }
                    ],
                    "scattergl": [
                      {
                        "marker": {
                          "colorbar": {
                            "outlinewidth": 0,
                            "ticks": ""
                          }
                        },
                        "type": "scattergl"
                      }
                    ],
                    "scattermapbox": [
                      {
                        "marker": {
                          "colorbar": {
                            "outlinewidth": 0,
                            "ticks": ""
                          }
                        },
                        "type": "scattermapbox"
                      }
                    ],
                    "scatterpolar": [
                      {
                        "marker": {
                          "colorbar": {
                            "outlinewidth": 0,
                            "ticks": ""
                          }
                        },
                        "type": "scatterpolar"
                      }
                    ],
                    "scatterpolargl": [
                      {
                        "marker": {
                          "colorbar": {
                            "outlinewidth": 0,
                            "ticks": ""
                          }
                        },
                        "type": "scatterpolargl"
                      }
                    ],
                    "scatterternary": [
                      {
                        "marker": {
                          "colorbar": {
                            "outlinewidth": 0,
                            "ticks": ""
                          }
                        },
                        "type": "scatterternary"
                      }
                    ],
                    "surface": [
                      {
                        "colorbar": {
                          "outlinewidth": 0,
                          "ticks": ""
                        },
                        "colorscale": [
                          [
                            0,
                            "#0d0887"
                          ],
                          [
                            0.1111111111111111,
                            "#46039f"
                          ],
                          [
                            0.2222222222222222,
                            "#7201a8"
                          ],
                          [
                            0.3333333333333333,
                            "#9c179e"
                          ],
                          [
                            0.4444444444444444,
                            "#bd3786"
                          ],
                          [
                            0.5555555555555556,
                            "#d8576b"
                          ],
                          [
                            0.6666666666666666,
                            "#ed7953"
                          ],
                          [
                            0.7777777777777778,
                            "#fb9f3a"
                          ],
                          [
                            0.8888888888888888,
                            "#fdca26"
                          ],
                          [
                            1,
                            "#f0f921"
                          ]
                        ],
                        "type": "surface"
                      }
                    ],
                    "table": [
                      {
                        "cells": {
                          "fill": {
                            "color": "#EBF0F8"
                          },
                          "line": {
                            "color": "white"
                          }
                        },
                        "header": {
                          "fill": {
                            "color": "#C8D4E3"
                          },
                          "line": {
                            "color": "white"
                          }
                        },
                        "type": "table"
                      }
                    ]
                  },
                  "layout": {
                    "annotationdefaults": {
                      "arrowcolor": "#2a3f5f",
                      "arrowhead": 0,
                      "arrowwidth": 1
                    },
                    "autotypenumbers": "strict",
                    "coloraxis": {
                      "colorbar": {
                        "outlinewidth": 0,
                        "ticks": ""
                      }
                    },
                    "colorscale": {
                      "diverging": [
                        [
                          0,
                          "#8e0152"
                        ],
                        [
                          0.1,
                          "#c51b7d"
                        ],
                        [
                          0.2,
                          "#de77ae"
                        ],
                        [
                          0.3,
                          "#f1b6da"
                        ],
                        [
                          0.4,
                          "#fde0ef"
                        ],
                        [
                          0.5,
                          "#f7f7f7"
                        ],
                        [
                          0.6,
                          "#e6f5d0"
                        ],
                        [
                          0.7,
                          "#b8e186"
                        ],
                        [
                          0.8,
                          "#7fbc41"
                        ],
                        [
                          0.9,
                          "#4d9221"
                        ],
                        [
                          1,
                          "#276419"
                        ]
                      ],
                      "sequential": [
                        [
                          0,
                          "#0d0887"
                        ],
                        [
                          0.1111111111111111,
                          "#46039f"
                        ],
                        [
                          0.2222222222222222,
                          "#7201a8"
                        ],
                        [
                          0.3333333333333333,
                          "#9c179e"
                        ],
                        [
                          0.4444444444444444,
                          "#bd3786"
                        ],
                        [
                          0.5555555555555556,
                          "#d8576b"
                        ],
                        [
                          0.6666666666666666,
                          "#ed7953"
                        ],
                        [
                          0.7777777777777778,
                          "#fb9f3a"
                        ],
                        [
                          0.8888888888888888,
                          "#fdca26"
                        ],
                        [
                          1,
                          "#f0f921"
                        ]
                      ],
                      "sequentialminus": [
                        [
                          0,
                          "#0d0887"
                        ],
                        [
                          0.1111111111111111,
                          "#46039f"
                        ],
                        [
                          0.2222222222222222,
                          "#7201a8"
                        ],
                        [
                          0.3333333333333333,
                          "#9c179e"
                        ],
                        [
                          0.4444444444444444,
                          "#bd3786"
                        ],
                        [
                          0.5555555555555556,
                          "#d8576b"
                        ],
                        [
                          0.6666666666666666,
                          "#ed7953"
                        ],
                        [
                          0.7777777777777778,
                          "#fb9f3a"
                        ],
                        [
                          0.8888888888888888,
                          "#fdca26"
                        ],
                        [
                          1,
                          "#f0f921"
                        ]
                      ]
                    },
                    "colorway": [
                      "#636efa",
                      "#EF553B",
                      "#00cc96",
                      "#ab63fa",
                      "#FFA15A",
                      "#19d3f3",
                      "#FF6692",
                      "#B6E880",
                      "#FF97FF",
                      "#FECB52"
                    ],
                    "font": {
                      "color": "#2a3f5f"
                    },
                    "geo": {
                      "bgcolor": "white",
                      "lakecolor": "white",
                      "landcolor": "#E5ECF6",
                      "showlakes": true,
                      "showland": true,
                      "subunitcolor": "white"
                    },
                    "hoverlabel": {
                      "align": "left"
                    },
                    "hovermode": "closest",
                    "mapbox": {
                      "style": "light"
                    },
                    "paper_bgcolor": "white",
                    "plot_bgcolor": "#E5ECF6",
                    "polar": {
                      "angularaxis": {
                        "gridcolor": "white",
                        "linecolor": "white",
                        "ticks": ""
                      },
                      "bgcolor": "#E5ECF6",
                      "radialaxis": {
                        "gridcolor": "white",
                        "linecolor": "white",
                        "ticks": ""
                      }
                    },
                    "scene": {
                      "xaxis": {
                        "backgroundcolor": "#E5ECF6",
                        "gridcolor": "white",
                        "gridwidth": 2,
                        "linecolor": "white",
                        "showbackground": true,
                        "ticks": "",
                        "zerolinecolor": "white"
                      },
                      "yaxis": {
                        "backgroundcolor": "#E5ECF6",
                        "gridcolor": "white",
                        "gridwidth": 2,
                        "linecolor": "white",
                        "showbackground": true,
                        "ticks": "",
                        "zerolinecolor": "white"
                      },
                      "zaxis": {
                        "backgroundcolor": "#E5ECF6",
                        "gridcolor": "white",
                        "gridwidth": 2,
                        "linecolor": "white",
                        "showbackground": true,
                        "ticks": "",
                        "zerolinecolor": "white"
                      }
                    },
                    "shapedefaults": {
                      "line": {
                        "color": "#2a3f5f"
                      }
                    },
                    "ternary": {
                      "aaxis": {
                        "gridcolor": "white",
                        "linecolor": "white",
                        "ticks": ""
                      },
                      "baxis": {
                        "gridcolor": "white",
                        "linecolor": "white",
                        "ticks": ""
                      },
                      "bgcolor": "#E5ECF6",
                      "caxis": {
                        "gridcolor": "white",
                        "linecolor": "white",
                        "ticks": ""
                      }
                    },
                    "title": {
                      "x": 0.05
                    },
                    "xaxis": {
                      "automargin": true,
                      "gridcolor": "white",
                      "linecolor": "white",
                      "ticks": "",
                      "title": {
                        "standoff": 15
                      },
                      "zerolinecolor": "white",
                      "zerolinewidth": 2
                    },
                    "yaxis": {
                      "automargin": true,
                      "gridcolor": "white",
                      "linecolor": "white",
                      "ticks": "",
                      "title": {
                        "standoff": 15
                      },
                      "zerolinecolor": "white",
                      "zerolinewidth": 2
                    }
                  }
                },
                "xaxis": {
                  "anchor": "y",
                  "domain": [
                    0,
                    1
                  ]
                },
                "yaxis": {
                  "anchor": "x",
                  "domain": [
                    0,
                    1
                  ],
                  "title": {
                    "text": "casos_novos"
                  }
                }
              }
            }
          },
          "metadata": {},
          "output_type": "display_data"
        }
      ],
      "source": [
        "grafico = px.box(covid_guarulhos, y='casos_novos')\n",
        "grafico.show()"
      ]
    },
    {
      "cell_type": "markdown",
      "metadata": {},
      "source": [
        "Exibindo esses outliers"
      ]
    },
    {
      "cell_type": "code",
      "execution_count": 40,
      "metadata": {},
      "outputs": [
        {
          "data": {
            "application/vnd.microsoft.datawrangler.viewer.v0+json": {
              "columns": [
                {
                  "name": "index",
                  "rawType": "int64",
                  "type": "integer"
                },
                {
                  "name": "indice",
                  "rawType": "int64",
                  "type": "integer"
                },
                {
                  "name": "municipio",
                  "rawType": "object",
                  "type": "string"
                },
                {
                  "name": "dia",
                  "rawType": "int64",
                  "type": "integer"
                },
                {
                  "name": "mes",
                  "rawType": "int64",
                  "type": "integer"
                },
                {
                  "name": "data",
                  "rawType": "object",
                  "type": "string"
                },
                {
                  "name": "casos",
                  "rawType": "int64",
                  "type": "integer"
                },
                {
                  "name": "casos_novos",
                  "rawType": "int64",
                  "type": "integer"
                },
                {
                  "name": "casos_pc",
                  "rawType": "float64",
                  "type": "float"
                },
                {
                  "name": "casos_mm7d",
                  "rawType": "float64",
                  "type": "float"
                },
                {
                  "name": "obitos",
                  "rawType": "int64",
                  "type": "integer"
                },
                {
                  "name": "obitos_novos",
                  "rawType": "int64",
                  "type": "integer"
                },
                {
                  "name": "obitos_pc",
                  "rawType": "float64",
                  "type": "float"
                },
                {
                  "name": "obitos_mm7d",
                  "rawType": "float64",
                  "type": "float"
                },
                {
                  "name": "letalidade",
                  "rawType": "float64",
                  "type": "float"
                },
                {
                  "name": "pop",
                  "rawType": "int64",
                  "type": "integer"
                },
                {
                  "name": "pop_60",
                  "rawType": "int64",
                  "type": "integer"
                },
                {
                  "name": "area",
                  "rawType": "float64",
                  "type": "float"
                },
                {
                  "name": "semana_epidem",
                  "rawType": "int64",
                  "type": "integer"
                },
                {
                  "name": "densidade",
                  "rawType": "float64",
                  "type": "float"
                },
                {
                  "name": "porcentagem_idosos",
                  "rawType": "float64",
                  "type": "float"
                }
              ],
              "ref": "5d925f17-eb7d-431d-bc5d-85924f34502f",
              "rows": [
                [
                  "167267",
                  "167268",
                  "Guarulhos",
                  "10",
                  "11",
                  "2020-11-10",
                  "23258",
                  "410",
                  "1721.18924719247",
                  "75.28571428571429",
                  "1546",
                  "0",
                  "114.410464191227",
                  "0.714285714285714",
                  "0.0664717516553444",
                  "1351275",
                  "162662",
                  "318.68",
                  "46",
                  "4240.2253043805695",
                  "12.037668128249246"
                ],
                [
                  "258857",
                  "258858",
                  "Guarulhos",
                  "1",
                  "4",
                  "2021-04-01",
                  "41087",
                  "465",
                  "3040.60979445339",
                  "279.1428571428572",
                  "2691",
                  "77",
                  "199.145251706721",
                  "34.57142857142857",
                  "0.0654951687881811",
                  "1351275",
                  "162662",
                  "318.68",
                  "13",
                  "4240.2253043805695",
                  "12.037668128249246"
                ],
                [
                  "262082",
                  "262083",
                  "Guarulhos",
                  "6",
                  "4",
                  "2021-04-06",
                  "42091",
                  "381",
                  "3114.90999241457",
                  "252.14285714285717",
                  "2781",
                  "61",
                  "205.805628017983",
                  "28.571428571428573",
                  "0.066071131595828",
                  "1351275",
                  "162662",
                  "318.68",
                  "14",
                  "4240.2253043805695",
                  "12.037668128249246"
                ],
                [
                  "263372",
                  "263373",
                  "Guarulhos",
                  "8",
                  "4",
                  "2021-04-08",
                  "42813",
                  "388",
                  "3168.34101126714",
                  "246.57142857142856",
                  "2874",
                  "46",
                  "212.688016872953",
                  "26.142857142857142",
                  "0.0671291430173078",
                  "1351275",
                  "162662",
                  "318.68",
                  "14",
                  "4240.2253043805695",
                  "12.037668128249246"
                ],
                [
                  "267242",
                  "267243",
                  "Guarulhos",
                  "14",
                  "4",
                  "2021-04-14",
                  "44553",
                  "466",
                  "3297.10828661819",
                  "304.0",
                  "3093",
                  "53",
                  "228.89493256369",
                  "37.85714285714285",
                  "0.0694229344825264",
                  "1351275",
                  "162662",
                  "318.68",
                  "15",
                  "4240.2253043805695",
                  "12.037668128249246"
                ],
                [
                  "267887",
                  "267888",
                  "Guarulhos",
                  "15",
                  "4",
                  "2021-04-15",
                  "45079",
                  "526",
                  "3336.03448594846",
                  "323.7142857142857",
                  "3133",
                  "40",
                  "231.855099813139",
                  "37.0",
                  "0.0695002107411433",
                  "1351275",
                  "162662",
                  "318.68",
                  "15",
                  "4240.2253043805695",
                  "12.037668128249246"
                ],
                [
                  "268532",
                  "268533",
                  "Guarulhos",
                  "16",
                  "4",
                  "2021-04-16",
                  "45676",
                  "597",
                  "3380.21498214649",
                  "363.1428571428572",
                  "3158",
                  "25",
                  "233.705204344045",
                  "36.85714285714285",
                  "0.0691391540415097",
                  "1351275",
                  "162662",
                  "318.68",
                  "15",
                  "4240.2253043805695",
                  "12.037668128249246"
                ],
                [
                  "269177",
                  "269178",
                  "Guarulhos",
                  "17",
                  "4",
                  "2021-04-17",
                  "46374",
                  "698",
                  "3431.86990064939",
                  "423.4285714285714",
                  "3192",
                  "34",
                  "236.221346506078",
                  "32.42857142857143",
                  "0.0688316729201707",
                  "1351275",
                  "162662",
                  "318.68",
                  "15",
                  "4240.2253043805695",
                  "12.037668128249246"
                ],
                [
                  "273047",
                  "273048",
                  "Guarulhos",
                  "23",
                  "4",
                  "2021-04-23",
                  "47973",
                  "499",
                  "3550.20258644613",
                  "328.1428571428572",
                  "3325",
                  "44",
                  "246.063902610498",
                  "23.857142857142858",
                  "0.0693098201071436",
                  "1351275",
                  "162662",
                  "318.68",
                  "16",
                  "4240.2253043805695",
                  "12.037668128249246"
                ]
              ],
              "shape": {
                "columns": 20,
                "rows": 9
              }
            },
            "text/html": [
              "<div>\n",
              "<style scoped>\n",
              "    .dataframe tbody tr th:only-of-type {\n",
              "        vertical-align: middle;\n",
              "    }\n",
              "\n",
              "    .dataframe tbody tr th {\n",
              "        vertical-align: top;\n",
              "    }\n",
              "\n",
              "    .dataframe thead th {\n",
              "        text-align: right;\n",
              "    }\n",
              "</style>\n",
              "<table border=\"1\" class=\"dataframe\">\n",
              "  <thead>\n",
              "    <tr style=\"text-align: right;\">\n",
              "      <th></th>\n",
              "      <th>indice</th>\n",
              "      <th>municipio</th>\n",
              "      <th>dia</th>\n",
              "      <th>mes</th>\n",
              "      <th>data</th>\n",
              "      <th>casos</th>\n",
              "      <th>casos_novos</th>\n",
              "      <th>casos_pc</th>\n",
              "      <th>casos_mm7d</th>\n",
              "      <th>obitos</th>\n",
              "      <th>obitos_novos</th>\n",
              "      <th>obitos_pc</th>\n",
              "      <th>obitos_mm7d</th>\n",
              "      <th>letalidade</th>\n",
              "      <th>pop</th>\n",
              "      <th>pop_60</th>\n",
              "      <th>area</th>\n",
              "      <th>semana_epidem</th>\n",
              "      <th>densidade</th>\n",
              "      <th>porcentagem_idosos</th>\n",
              "    </tr>\n",
              "  </thead>\n",
              "  <tbody>\n",
              "    <tr>\n",
              "      <th>167267</th>\n",
              "      <td>167268</td>\n",
              "      <td>Guarulhos</td>\n",
              "      <td>10</td>\n",
              "      <td>11</td>\n",
              "      <td>2020-11-10</td>\n",
              "      <td>23258</td>\n",
              "      <td>410</td>\n",
              "      <td>1721.189247</td>\n",
              "      <td>75.285714</td>\n",
              "      <td>1546</td>\n",
              "      <td>0</td>\n",
              "      <td>114.410464</td>\n",
              "      <td>0.714286</td>\n",
              "      <td>0.066472</td>\n",
              "      <td>1351275</td>\n",
              "      <td>162662</td>\n",
              "      <td>318.68</td>\n",
              "      <td>46</td>\n",
              "      <td>4240.225304</td>\n",
              "      <td>12.037668</td>\n",
              "    </tr>\n",
              "    <tr>\n",
              "      <th>258857</th>\n",
              "      <td>258858</td>\n",
              "      <td>Guarulhos</td>\n",
              "      <td>1</td>\n",
              "      <td>4</td>\n",
              "      <td>2021-04-01</td>\n",
              "      <td>41087</td>\n",
              "      <td>465</td>\n",
              "      <td>3040.609794</td>\n",
              "      <td>279.142857</td>\n",
              "      <td>2691</td>\n",
              "      <td>77</td>\n",
              "      <td>199.145252</td>\n",
              "      <td>34.571429</td>\n",
              "      <td>0.065495</td>\n",
              "      <td>1351275</td>\n",
              "      <td>162662</td>\n",
              "      <td>318.68</td>\n",
              "      <td>13</td>\n",
              "      <td>4240.225304</td>\n",
              "      <td>12.037668</td>\n",
              "    </tr>\n",
              "    <tr>\n",
              "      <th>262082</th>\n",
              "      <td>262083</td>\n",
              "      <td>Guarulhos</td>\n",
              "      <td>6</td>\n",
              "      <td>4</td>\n",
              "      <td>2021-04-06</td>\n",
              "      <td>42091</td>\n",
              "      <td>381</td>\n",
              "      <td>3114.909992</td>\n",
              "      <td>252.142857</td>\n",
              "      <td>2781</td>\n",
              "      <td>61</td>\n",
              "      <td>205.805628</td>\n",
              "      <td>28.571429</td>\n",
              "      <td>0.066071</td>\n",
              "      <td>1351275</td>\n",
              "      <td>162662</td>\n",
              "      <td>318.68</td>\n",
              "      <td>14</td>\n",
              "      <td>4240.225304</td>\n",
              "      <td>12.037668</td>\n",
              "    </tr>\n",
              "    <tr>\n",
              "      <th>263372</th>\n",
              "      <td>263373</td>\n",
              "      <td>Guarulhos</td>\n",
              "      <td>8</td>\n",
              "      <td>4</td>\n",
              "      <td>2021-04-08</td>\n",
              "      <td>42813</td>\n",
              "      <td>388</td>\n",
              "      <td>3168.341011</td>\n",
              "      <td>246.571429</td>\n",
              "      <td>2874</td>\n",
              "      <td>46</td>\n",
              "      <td>212.688017</td>\n",
              "      <td>26.142857</td>\n",
              "      <td>0.067129</td>\n",
              "      <td>1351275</td>\n",
              "      <td>162662</td>\n",
              "      <td>318.68</td>\n",
              "      <td>14</td>\n",
              "      <td>4240.225304</td>\n",
              "      <td>12.037668</td>\n",
              "    </tr>\n",
              "    <tr>\n",
              "      <th>267242</th>\n",
              "      <td>267243</td>\n",
              "      <td>Guarulhos</td>\n",
              "      <td>14</td>\n",
              "      <td>4</td>\n",
              "      <td>2021-04-14</td>\n",
              "      <td>44553</td>\n",
              "      <td>466</td>\n",
              "      <td>3297.108287</td>\n",
              "      <td>304.000000</td>\n",
              "      <td>3093</td>\n",
              "      <td>53</td>\n",
              "      <td>228.894933</td>\n",
              "      <td>37.857143</td>\n",
              "      <td>0.069423</td>\n",
              "      <td>1351275</td>\n",
              "      <td>162662</td>\n",
              "      <td>318.68</td>\n",
              "      <td>15</td>\n",
              "      <td>4240.225304</td>\n",
              "      <td>12.037668</td>\n",
              "    </tr>\n",
              "    <tr>\n",
              "      <th>267887</th>\n",
              "      <td>267888</td>\n",
              "      <td>Guarulhos</td>\n",
              "      <td>15</td>\n",
              "      <td>4</td>\n",
              "      <td>2021-04-15</td>\n",
              "      <td>45079</td>\n",
              "      <td>526</td>\n",
              "      <td>3336.034486</td>\n",
              "      <td>323.714286</td>\n",
              "      <td>3133</td>\n",
              "      <td>40</td>\n",
              "      <td>231.855100</td>\n",
              "      <td>37.000000</td>\n",
              "      <td>0.069500</td>\n",
              "      <td>1351275</td>\n",
              "      <td>162662</td>\n",
              "      <td>318.68</td>\n",
              "      <td>15</td>\n",
              "      <td>4240.225304</td>\n",
              "      <td>12.037668</td>\n",
              "    </tr>\n",
              "    <tr>\n",
              "      <th>268532</th>\n",
              "      <td>268533</td>\n",
              "      <td>Guarulhos</td>\n",
              "      <td>16</td>\n",
              "      <td>4</td>\n",
              "      <td>2021-04-16</td>\n",
              "      <td>45676</td>\n",
              "      <td>597</td>\n",
              "      <td>3380.214982</td>\n",
              "      <td>363.142857</td>\n",
              "      <td>3158</td>\n",
              "      <td>25</td>\n",
              "      <td>233.705204</td>\n",
              "      <td>36.857143</td>\n",
              "      <td>0.069139</td>\n",
              "      <td>1351275</td>\n",
              "      <td>162662</td>\n",
              "      <td>318.68</td>\n",
              "      <td>15</td>\n",
              "      <td>4240.225304</td>\n",
              "      <td>12.037668</td>\n",
              "    </tr>\n",
              "    <tr>\n",
              "      <th>269177</th>\n",
              "      <td>269178</td>\n",
              "      <td>Guarulhos</td>\n",
              "      <td>17</td>\n",
              "      <td>4</td>\n",
              "      <td>2021-04-17</td>\n",
              "      <td>46374</td>\n",
              "      <td>698</td>\n",
              "      <td>3431.869901</td>\n",
              "      <td>423.428571</td>\n",
              "      <td>3192</td>\n",
              "      <td>34</td>\n",
              "      <td>236.221347</td>\n",
              "      <td>32.428571</td>\n",
              "      <td>0.068832</td>\n",
              "      <td>1351275</td>\n",
              "      <td>162662</td>\n",
              "      <td>318.68</td>\n",
              "      <td>15</td>\n",
              "      <td>4240.225304</td>\n",
              "      <td>12.037668</td>\n",
              "    </tr>\n",
              "    <tr>\n",
              "      <th>273047</th>\n",
              "      <td>273048</td>\n",
              "      <td>Guarulhos</td>\n",
              "      <td>23</td>\n",
              "      <td>4</td>\n",
              "      <td>2021-04-23</td>\n",
              "      <td>47973</td>\n",
              "      <td>499</td>\n",
              "      <td>3550.202586</td>\n",
              "      <td>328.142857</td>\n",
              "      <td>3325</td>\n",
              "      <td>44</td>\n",
              "      <td>246.063903</td>\n",
              "      <td>23.857143</td>\n",
              "      <td>0.069310</td>\n",
              "      <td>1351275</td>\n",
              "      <td>162662</td>\n",
              "      <td>318.68</td>\n",
              "      <td>16</td>\n",
              "      <td>4240.225304</td>\n",
              "      <td>12.037668</td>\n",
              "    </tr>\n",
              "  </tbody>\n",
              "</table>\n",
              "</div>"
            ],
            "text/plain": [
              "        indice  municipio  dia  mes        data  casos  casos_novos  \\\n",
              "167267  167268  Guarulhos   10   11  2020-11-10  23258          410   \n",
              "258857  258858  Guarulhos    1    4  2021-04-01  41087          465   \n",
              "262082  262083  Guarulhos    6    4  2021-04-06  42091          381   \n",
              "263372  263373  Guarulhos    8    4  2021-04-08  42813          388   \n",
              "267242  267243  Guarulhos   14    4  2021-04-14  44553          466   \n",
              "267887  267888  Guarulhos   15    4  2021-04-15  45079          526   \n",
              "268532  268533  Guarulhos   16    4  2021-04-16  45676          597   \n",
              "269177  269178  Guarulhos   17    4  2021-04-17  46374          698   \n",
              "273047  273048  Guarulhos   23    4  2021-04-23  47973          499   \n",
              "\n",
              "           casos_pc  casos_mm7d  obitos  obitos_novos   obitos_pc  \\\n",
              "167267  1721.189247   75.285714    1546             0  114.410464   \n",
              "258857  3040.609794  279.142857    2691            77  199.145252   \n",
              "262082  3114.909992  252.142857    2781            61  205.805628   \n",
              "263372  3168.341011  246.571429    2874            46  212.688017   \n",
              "267242  3297.108287  304.000000    3093            53  228.894933   \n",
              "267887  3336.034486  323.714286    3133            40  231.855100   \n",
              "268532  3380.214982  363.142857    3158            25  233.705204   \n",
              "269177  3431.869901  423.428571    3192            34  236.221347   \n",
              "273047  3550.202586  328.142857    3325            44  246.063903   \n",
              "\n",
              "        obitos_mm7d  letalidade      pop  pop_60    area  semana_epidem  \\\n",
              "167267     0.714286    0.066472  1351275  162662  318.68             46   \n",
              "258857    34.571429    0.065495  1351275  162662  318.68             13   \n",
              "262082    28.571429    0.066071  1351275  162662  318.68             14   \n",
              "263372    26.142857    0.067129  1351275  162662  318.68             14   \n",
              "267242    37.857143    0.069423  1351275  162662  318.68             15   \n",
              "267887    37.000000    0.069500  1351275  162662  318.68             15   \n",
              "268532    36.857143    0.069139  1351275  162662  318.68             15   \n",
              "269177    32.428571    0.068832  1351275  162662  318.68             15   \n",
              "273047    23.857143    0.069310  1351275  162662  318.68             16   \n",
              "\n",
              "          densidade  porcentagem_idosos  \n",
              "167267  4240.225304           12.037668  \n",
              "258857  4240.225304           12.037668  \n",
              "262082  4240.225304           12.037668  \n",
              "263372  4240.225304           12.037668  \n",
              "267242  4240.225304           12.037668  \n",
              "267887  4240.225304           12.037668  \n",
              "268532  4240.225304           12.037668  \n",
              "269177  4240.225304           12.037668  \n",
              "273047  4240.225304           12.037668  "
            ]
          },
          "execution_count": 40,
          "metadata": {},
          "output_type": "execute_result"
        }
      ],
      "source": [
        "#Chumbei o valor pois estou analizando o \n",
        "ex_covid_guarulhos_s_outliers = covid_guarulhos.loc[covid_guarulhos['casos_novos'] > 359]\n",
        "ex_covid_guarulhos_s_outliers"
      ]
    },
    {
      "cell_type": "code",
      "execution_count": 41,
      "metadata": {},
      "outputs": [
        {
          "name": "stdout",
          "output_type": "stream",
          "text": [
            "361.25\n",
            "-172.75\n"
          ]
        }
      ],
      "source": [
        "import calculos as cal\n",
        "\n",
        "print(cal.outlier_sup(covid_guarulhos['casos_novos']))\n",
        "print(cal.outlier_inf(covid_guarulhos['casos_novos']))"
      ]
    },
    {
      "cell_type": "code",
      "execution_count": 43,
      "metadata": {},
      "outputs": [
        {
          "data": {
            "application/vnd.microsoft.datawrangler.viewer.v0+json": {
              "columns": [
                {
                  "name": "index",
                  "rawType": "int64",
                  "type": "integer"
                },
                {
                  "name": "indice",
                  "rawType": "int64",
                  "type": "integer"
                },
                {
                  "name": "municipio",
                  "rawType": "object",
                  "type": "string"
                },
                {
                  "name": "dia",
                  "rawType": "int64",
                  "type": "integer"
                },
                {
                  "name": "mes",
                  "rawType": "int64",
                  "type": "integer"
                },
                {
                  "name": "data",
                  "rawType": "object",
                  "type": "string"
                },
                {
                  "name": "casos",
                  "rawType": "int64",
                  "type": "integer"
                },
                {
                  "name": "casos_novos",
                  "rawType": "int64",
                  "type": "integer"
                },
                {
                  "name": "casos_pc",
                  "rawType": "float64",
                  "type": "float"
                },
                {
                  "name": "casos_mm7d",
                  "rawType": "float64",
                  "type": "float"
                },
                {
                  "name": "obitos",
                  "rawType": "int64",
                  "type": "integer"
                },
                {
                  "name": "obitos_novos",
                  "rawType": "int64",
                  "type": "integer"
                },
                {
                  "name": "obitos_pc",
                  "rawType": "float64",
                  "type": "float"
                },
                {
                  "name": "obitos_mm7d",
                  "rawType": "float64",
                  "type": "float"
                },
                {
                  "name": "letalidade",
                  "rawType": "float64",
                  "type": "float"
                },
                {
                  "name": "pop",
                  "rawType": "int64",
                  "type": "integer"
                },
                {
                  "name": "pop_60",
                  "rawType": "int64",
                  "type": "integer"
                },
                {
                  "name": "area",
                  "rawType": "float64",
                  "type": "float"
                },
                {
                  "name": "semana_epidem",
                  "rawType": "int64",
                  "type": "integer"
                },
                {
                  "name": "densidade",
                  "rawType": "float64",
                  "type": "float"
                },
                {
                  "name": "porcentagem_idosos",
                  "rawType": "float64",
                  "type": "float"
                }
              ],
              "ref": "02dc0ea9-95e7-4695-b0bf-81aef2ded398",
              "rows": [
                [
                  "212",
                  "213",
                  "Guarulhos",
                  "25",
                  "2",
                  "2020-02-25",
                  "0",
                  "0",
                  "0.0",
                  "0.0",
                  "0",
                  "0",
                  "0.0",
                  "0.0",
                  "0.0",
                  "1351275",
                  "162662",
                  "318.68",
                  "9",
                  "4240.2253043805695",
                  "12.037668128249246"
                ],
                [
                  "857",
                  "858",
                  "Guarulhos",
                  "26",
                  "2",
                  "2020-02-26",
                  "0",
                  "0",
                  "0.0",
                  "0.0",
                  "0",
                  "0",
                  "0.0",
                  "0.0",
                  "0.0",
                  "1351275",
                  "162662",
                  "318.68",
                  "9",
                  "4240.2253043805695",
                  "12.037668128249246"
                ],
                [
                  "1502",
                  "1503",
                  "Guarulhos",
                  "27",
                  "2",
                  "2020-02-27",
                  "0",
                  "0",
                  "0.0",
                  "0.0",
                  "0",
                  "0",
                  "0.0",
                  "0.0",
                  "0.0",
                  "1351275",
                  "162662",
                  "318.68",
                  "9",
                  "4240.2253043805695",
                  "12.037668128249246"
                ],
                [
                  "2147",
                  "2148",
                  "Guarulhos",
                  "28",
                  "2",
                  "2020-02-28",
                  "0",
                  "0",
                  "0.0",
                  "0.0",
                  "0",
                  "0",
                  "0.0",
                  "0.0",
                  "0.0",
                  "1351275",
                  "162662",
                  "318.68",
                  "9",
                  "4240.2253043805695",
                  "12.037668128249246"
                ],
                [
                  "2792",
                  "2793",
                  "Guarulhos",
                  "29",
                  "2",
                  "2020-02-29",
                  "0",
                  "0",
                  "0.0",
                  "0.0",
                  "0",
                  "0",
                  "0.0",
                  "0.0",
                  "0.0",
                  "1351275",
                  "162662",
                  "318.68",
                  "9",
                  "4240.2253043805695",
                  "12.037668128249246"
                ],
                [
                  "3437",
                  "3438",
                  "Guarulhos",
                  "1",
                  "3",
                  "2020-03-01",
                  "0",
                  "0",
                  "0.0",
                  "0.0",
                  "0",
                  "0",
                  "0.0",
                  "0.0",
                  "0.0",
                  "1351275",
                  "162662",
                  "318.68",
                  "10",
                  "4240.2253043805695",
                  "12.037668128249246"
                ],
                [
                  "4082",
                  "4083",
                  "Guarulhos",
                  "2",
                  "3",
                  "2020-03-02",
                  "0",
                  "0",
                  "0.0",
                  "0.0",
                  "0",
                  "0",
                  "0.0",
                  "0.0",
                  "0.0",
                  "1351275",
                  "162662",
                  "318.68",
                  "10",
                  "4240.2253043805695",
                  "12.037668128249246"
                ],
                [
                  "4727",
                  "4728",
                  "Guarulhos",
                  "3",
                  "3",
                  "2020-03-03",
                  "0",
                  "0",
                  "0.0",
                  "0.0",
                  "0",
                  "0",
                  "0.0",
                  "0.0",
                  "0.0",
                  "1351275",
                  "162662",
                  "318.68",
                  "10",
                  "4240.2253043805695",
                  "12.037668128249246"
                ],
                [
                  "5372",
                  "5373",
                  "Guarulhos",
                  "4",
                  "3",
                  "2020-03-04",
                  "0",
                  "0",
                  "0.0",
                  "0.0",
                  "0",
                  "0",
                  "0.0",
                  "0.0",
                  "0.0",
                  "1351275",
                  "162662",
                  "318.68",
                  "10",
                  "4240.2253043805695",
                  "12.037668128249246"
                ],
                [
                  "6017",
                  "6018",
                  "Guarulhos",
                  "5",
                  "3",
                  "2020-03-05",
                  "0",
                  "0",
                  "0.0",
                  "0.0",
                  "0",
                  "0",
                  "0.0",
                  "0.0",
                  "0.0",
                  "1351275",
                  "162662",
                  "318.68",
                  "10",
                  "4240.2253043805695",
                  "12.037668128249246"
                ],
                [
                  "6662",
                  "6663",
                  "Guarulhos",
                  "6",
                  "3",
                  "2020-03-06",
                  "0",
                  "0",
                  "0.0",
                  "0.0",
                  "0",
                  "0",
                  "0.0",
                  "0.0",
                  "0.0",
                  "1351275",
                  "162662",
                  "318.68",
                  "10",
                  "4240.2253043805695",
                  "12.037668128249246"
                ],
                [
                  "7307",
                  "7308",
                  "Guarulhos",
                  "7",
                  "3",
                  "2020-03-07",
                  "0",
                  "0",
                  "0.0",
                  "0.0",
                  "0",
                  "0",
                  "0.0",
                  "0.0",
                  "0.0",
                  "1351275",
                  "162662",
                  "318.68",
                  "10",
                  "4240.2253043805695",
                  "12.037668128249246"
                ],
                [
                  "7952",
                  "7953",
                  "Guarulhos",
                  "8",
                  "3",
                  "2020-03-08",
                  "0",
                  "0",
                  "0.0",
                  "0.0",
                  "0",
                  "0",
                  "0.0",
                  "0.0",
                  "0.0",
                  "1351275",
                  "162662",
                  "318.68",
                  "11",
                  "4240.2253043805695",
                  "12.037668128249246"
                ],
                [
                  "8597",
                  "8598",
                  "Guarulhos",
                  "9",
                  "3",
                  "2020-03-09",
                  "0",
                  "0",
                  "0.0",
                  "0.0",
                  "0",
                  "0",
                  "0.0",
                  "0.0",
                  "0.0",
                  "1351275",
                  "162662",
                  "318.68",
                  "11",
                  "4240.2253043805695",
                  "12.037668128249246"
                ],
                [
                  "9242",
                  "9243",
                  "Guarulhos",
                  "10",
                  "3",
                  "2020-03-10",
                  "0",
                  "0",
                  "0.0",
                  "0.0",
                  "0",
                  "0",
                  "0.0",
                  "0.0",
                  "0.0",
                  "1351275",
                  "162662",
                  "318.68",
                  "11",
                  "4240.2253043805695",
                  "12.037668128249246"
                ],
                [
                  "9887",
                  "9888",
                  "Guarulhos",
                  "11",
                  "3",
                  "2020-03-11",
                  "0",
                  "0",
                  "0.0",
                  "0.0",
                  "0",
                  "0",
                  "0.0",
                  "0.0",
                  "0.0",
                  "1351275",
                  "162662",
                  "318.68",
                  "11",
                  "4240.2253043805695",
                  "12.037668128249246"
                ],
                [
                  "10532",
                  "10533",
                  "Guarulhos",
                  "12",
                  "3",
                  "2020-03-12",
                  "0",
                  "0",
                  "0.0",
                  "0.0",
                  "0",
                  "0",
                  "0.0",
                  "0.0",
                  "0.0",
                  "1351275",
                  "162662",
                  "318.68",
                  "11",
                  "4240.2253043805695",
                  "12.037668128249246"
                ],
                [
                  "11177",
                  "11178",
                  "Guarulhos",
                  "13",
                  "3",
                  "2020-03-13",
                  "0",
                  "0",
                  "0.0",
                  "0.0",
                  "0",
                  "0",
                  "0.0",
                  "0.0",
                  "0.0",
                  "1351275",
                  "162662",
                  "318.68",
                  "11",
                  "4240.2253043805695",
                  "12.037668128249246"
                ],
                [
                  "11822",
                  "11823",
                  "Guarulhos",
                  "14",
                  "3",
                  "2020-03-14",
                  "0",
                  "0",
                  "0.0",
                  "0.0",
                  "0",
                  "0",
                  "0.0",
                  "0.0",
                  "0.0",
                  "1351275",
                  "162662",
                  "318.68",
                  "11",
                  "4240.2253043805695",
                  "12.037668128249246"
                ],
                [
                  "12467",
                  "12468",
                  "Guarulhos",
                  "15",
                  "3",
                  "2020-03-15",
                  "0",
                  "0",
                  "0.0",
                  "0.0",
                  "0",
                  "0",
                  "0.0",
                  "0.0",
                  "0.0",
                  "1351275",
                  "162662",
                  "318.68",
                  "12",
                  "4240.2253043805695",
                  "12.037668128249246"
                ],
                [
                  "13112",
                  "13113",
                  "Guarulhos",
                  "16",
                  "3",
                  "2020-03-16",
                  "0",
                  "0",
                  "0.0",
                  "0.0",
                  "0",
                  "0",
                  "0.0",
                  "0.0",
                  "0.0",
                  "1351275",
                  "162662",
                  "318.68",
                  "12",
                  "4240.2253043805695",
                  "12.037668128249246"
                ],
                [
                  "13757",
                  "13758",
                  "Guarulhos",
                  "17",
                  "3",
                  "2020-03-17",
                  "1",
                  "1",
                  "0.0740041812362398",
                  "0.142857142857143",
                  "0",
                  "0",
                  "0.0",
                  "0.0",
                  "0.0",
                  "1351275",
                  "162662",
                  "318.68",
                  "12",
                  "4240.2253043805695",
                  "12.037668128249246"
                ],
                [
                  "14402",
                  "14403",
                  "Guarulhos",
                  "18",
                  "3",
                  "2020-03-18",
                  "1",
                  "0",
                  "0.0740041812362398",
                  "0.142857142857143",
                  "0",
                  "0",
                  "0.0",
                  "0.0",
                  "0.0",
                  "1351275",
                  "162662",
                  "318.68",
                  "12",
                  "4240.2253043805695",
                  "12.037668128249246"
                ],
                [
                  "15047",
                  "15048",
                  "Guarulhos",
                  "19",
                  "3",
                  "2020-03-19",
                  "1",
                  "0",
                  "0.0740041812362398",
                  "0.142857142857143",
                  "0",
                  "0",
                  "0.0",
                  "0.0",
                  "0.0",
                  "1351275",
                  "162662",
                  "318.68",
                  "12",
                  "4240.2253043805695",
                  "12.037668128249246"
                ],
                [
                  "15692",
                  "15693",
                  "Guarulhos",
                  "20",
                  "3",
                  "2020-03-20",
                  "1",
                  "0",
                  "0.0740041812362398",
                  "0.142857142857143",
                  "0",
                  "0",
                  "0.0",
                  "0.0",
                  "0.0",
                  "1351275",
                  "162662",
                  "318.68",
                  "12",
                  "4240.2253043805695",
                  "12.037668128249246"
                ],
                [
                  "16337",
                  "16338",
                  "Guarulhos",
                  "21",
                  "3",
                  "2020-03-21",
                  "1",
                  "0",
                  "0.0740041812362398",
                  "0.142857142857143",
                  "0",
                  "0",
                  "0.0",
                  "0.0",
                  "0.0",
                  "1351275",
                  "162662",
                  "318.68",
                  "12",
                  "4240.2253043805695",
                  "12.037668128249246"
                ],
                [
                  "16982",
                  "16983",
                  "Guarulhos",
                  "22",
                  "3",
                  "2020-03-22",
                  "1",
                  "0",
                  "0.0740041812362398",
                  "0.142857142857143",
                  "0",
                  "0",
                  "0.0",
                  "0.0",
                  "0.0",
                  "1351275",
                  "162662",
                  "318.68",
                  "13",
                  "4240.2253043805695",
                  "12.037668128249246"
                ],
                [
                  "17627",
                  "17628",
                  "Guarulhos",
                  "23",
                  "3",
                  "2020-03-23",
                  "1",
                  "0",
                  "0.0740041812362398",
                  "0.142857142857143",
                  "0",
                  "0",
                  "0.0",
                  "0.0",
                  "0.0",
                  "1351275",
                  "162662",
                  "318.68",
                  "13",
                  "4240.2253043805695",
                  "12.037668128249246"
                ],
                [
                  "18272",
                  "18273",
                  "Guarulhos",
                  "24",
                  "3",
                  "2020-03-24",
                  "1",
                  "0",
                  "0.0740041812362398",
                  "0.0",
                  "0",
                  "0",
                  "0.0",
                  "0.0",
                  "0.0",
                  "1351275",
                  "162662",
                  "318.68",
                  "13",
                  "4240.2253043805695",
                  "12.037668128249246"
                ],
                [
                  "18917",
                  "18918",
                  "Guarulhos",
                  "25",
                  "3",
                  "2020-03-25",
                  "5",
                  "4",
                  "0.370020906181199",
                  "0.571428571428571",
                  "1",
                  "1",
                  "0.0740041812362398",
                  "0.142857142857143",
                  "0.2",
                  "1351275",
                  "162662",
                  "318.68",
                  "13",
                  "4240.2253043805695",
                  "12.037668128249246"
                ],
                [
                  "19562",
                  "19563",
                  "Guarulhos",
                  "26",
                  "3",
                  "2020-03-26",
                  "9",
                  "4",
                  "0.666037631126159",
                  "1.142857142857143",
                  "1",
                  "0",
                  "0.0740041812362398",
                  "0.142857142857143",
                  "0.1111111111111111",
                  "1351275",
                  "162662",
                  "318.68",
                  "13",
                  "4240.2253043805695",
                  "12.037668128249246"
                ],
                [
                  "20207",
                  "20208",
                  "Guarulhos",
                  "27",
                  "3",
                  "2020-03-27",
                  "13",
                  "4",
                  "0.962054356071118",
                  "1.714285714285714",
                  "2",
                  "1",
                  "0.14800836247248",
                  "0.285714285714286",
                  "0.1538461538461538",
                  "1351275",
                  "162662",
                  "318.68",
                  "13",
                  "4240.2253043805695",
                  "12.037668128249246"
                ],
                [
                  "20852",
                  "20853",
                  "Guarulhos",
                  "28",
                  "3",
                  "2020-03-28",
                  "13",
                  "0",
                  "0.962054356071118",
                  "1.714285714285714",
                  "2",
                  "0",
                  "0.14800836247248",
                  "0.285714285714286",
                  "0.1538461538461538",
                  "1351275",
                  "162662",
                  "318.68",
                  "13",
                  "4240.2253043805695",
                  "12.037668128249246"
                ],
                [
                  "21497",
                  "21498",
                  "Guarulhos",
                  "29",
                  "3",
                  "2020-03-29",
                  "13",
                  "0",
                  "0.962054356071118",
                  "1.714285714285714",
                  "2",
                  "0",
                  "0.14800836247248",
                  "0.285714285714286",
                  "0.1538461538461538",
                  "1351275",
                  "162662",
                  "318.68",
                  "14",
                  "4240.2253043805695",
                  "12.037668128249246"
                ],
                [
                  "22142",
                  "22143",
                  "Guarulhos",
                  "30",
                  "3",
                  "2020-03-30",
                  "14",
                  "1",
                  "1.03605853730736",
                  "1.857142857142857",
                  "2",
                  "0",
                  "0.14800836247248",
                  "0.285714285714286",
                  "0.1428571428571428",
                  "1351275",
                  "162662",
                  "318.68",
                  "14",
                  "4240.2253043805695",
                  "12.037668128249246"
                ],
                [
                  "22787",
                  "22788",
                  "Guarulhos",
                  "31",
                  "3",
                  "2020-03-31",
                  "21",
                  "7",
                  "1.55408780596104",
                  "2.857142857142857",
                  "2",
                  "0",
                  "0.14800836247248",
                  "0.285714285714286",
                  "0.0952380952380952",
                  "1351275",
                  "162662",
                  "318.68",
                  "14",
                  "4240.2253043805695",
                  "12.037668128249246"
                ],
                [
                  "23432",
                  "23433",
                  "Guarulhos",
                  "1",
                  "4",
                  "2020-04-01",
                  "25",
                  "4",
                  "1.850104530906",
                  "2.857142857142857",
                  "2",
                  "0",
                  "0.14800836247248",
                  "0.142857142857143",
                  "0.08",
                  "1351275",
                  "162662",
                  "318.68",
                  "14",
                  "4240.2253043805695",
                  "12.037668128249246"
                ],
                [
                  "24077",
                  "24078",
                  "Guarulhos",
                  "2",
                  "4",
                  "2020-04-02",
                  "35",
                  "10",
                  "2.59014634326839",
                  "3.714285714285714",
                  "2",
                  "0",
                  "0.14800836247248",
                  "0.142857142857143",
                  "0.0571428571428571",
                  "1351275",
                  "162662",
                  "318.68",
                  "14",
                  "4240.2253043805695",
                  "12.037668128249246"
                ],
                [
                  "24722",
                  "24723",
                  "Guarulhos",
                  "3",
                  "4",
                  "2020-04-03",
                  "52",
                  "17",
                  "3.84821742428447",
                  "5.571428571428571",
                  "2",
                  "0",
                  "0.14800836247248",
                  "0.0",
                  "0.0384615384615384",
                  "1351275",
                  "162662",
                  "318.68",
                  "14",
                  "4240.2253043805695",
                  "12.037668128249246"
                ],
                [
                  "25367",
                  "25368",
                  "Guarulhos",
                  "4",
                  "4",
                  "2020-04-04",
                  "62",
                  "10",
                  "4.58825923664687",
                  "7.0",
                  "5",
                  "3",
                  "0.370020906181199",
                  "0.428571428571429",
                  "0.0806451612903225",
                  "1351275",
                  "162662",
                  "318.68",
                  "14",
                  "4240.2253043805695",
                  "12.037668128249246"
                ],
                [
                  "26012",
                  "26013",
                  "Guarulhos",
                  "5",
                  "4",
                  "2020-04-05",
                  "62",
                  "0",
                  "4.58825923664687",
                  "7.0",
                  "5",
                  "0",
                  "0.370020906181199",
                  "0.428571428571429",
                  "0.0806451612903225",
                  "1351275",
                  "162662",
                  "318.68",
                  "15",
                  "4240.2253043805695",
                  "12.037668128249246"
                ],
                [
                  "26657",
                  "26658",
                  "Guarulhos",
                  "6",
                  "4",
                  "2020-04-06",
                  "63",
                  "1",
                  "4.66226341788311",
                  "7.0",
                  "6",
                  "1",
                  "0.444025087417439",
                  "0.571428571428571",
                  "0.0952380952380952",
                  "1351275",
                  "162662",
                  "318.68",
                  "15",
                  "4240.2253043805695",
                  "12.037668128249246"
                ],
                [
                  "27302",
                  "27303",
                  "Guarulhos",
                  "7",
                  "4",
                  "2020-04-07",
                  "74",
                  "11",
                  "5.47630941148175",
                  "7.571428571428571",
                  "7",
                  "1",
                  "0.518029268653679",
                  "0.714285714285714",
                  "0.0945945945945946",
                  "1351275",
                  "162662",
                  "318.68",
                  "15",
                  "4240.2253043805695",
                  "12.037668128249246"
                ],
                [
                  "27947",
                  "27948",
                  "Guarulhos",
                  "8",
                  "4",
                  "2020-04-08",
                  "119",
                  "45",
                  "8.80649756711254",
                  "13.428571428571429",
                  "7",
                  "0",
                  "0.518029268653679",
                  "0.714285714285714",
                  "0.0588235294117647",
                  "1351275",
                  "162662",
                  "318.68",
                  "15",
                  "4240.2253043805695",
                  "12.037668128249246"
                ],
                [
                  "28592",
                  "28593",
                  "Guarulhos",
                  "9",
                  "4",
                  "2020-04-09",
                  "154",
                  "35",
                  "11.3966439103809",
                  "17.0",
                  "11",
                  "4",
                  "0.814045993598638",
                  "1.285714285714286",
                  "0.0714285714285714",
                  "1351275",
                  "162662",
                  "318.68",
                  "15",
                  "4240.2253043805695",
                  "12.037668128249246"
                ],
                [
                  "29237",
                  "29238",
                  "Guarulhos",
                  "10",
                  "4",
                  "2020-04-10",
                  "178",
                  "24",
                  "13.1727442600507",
                  "18.0",
                  "16",
                  "5",
                  "1.18406689977984",
                  "2.0",
                  "0.0898876404494382",
                  "1351275",
                  "162662",
                  "318.68",
                  "15",
                  "4240.2253043805695",
                  "12.037668128249246"
                ],
                [
                  "29882",
                  "29883",
                  "Guarulhos",
                  "11",
                  "4",
                  "2020-04-11",
                  "191",
                  "13",
                  "14.1347986161218",
                  "18.428571428571427",
                  "16",
                  "0",
                  "1.18406689977984",
                  "1.571428571428571",
                  "0.0837696335078534",
                  "1351275",
                  "162662",
                  "318.68",
                  "15",
                  "4240.2253043805695",
                  "12.037668128249246"
                ],
                [
                  "30527",
                  "30528",
                  "Guarulhos",
                  "12",
                  "4",
                  "2020-04-12",
                  "198",
                  "7",
                  "14.6528278847755",
                  "19.428571428571427",
                  "16",
                  "0",
                  "1.18406689977984",
                  "1.571428571428571",
                  "0.0808080808080808",
                  "1351275",
                  "162662",
                  "318.68",
                  "16",
                  "4240.2253043805695",
                  "12.037668128249246"
                ],
                [
                  "31172",
                  "31173",
                  "Guarulhos",
                  "13",
                  "4",
                  "2020-04-13",
                  "200",
                  "2",
                  "14.800836247248",
                  "19.571428571428573",
                  "17",
                  "1",
                  "1.25807108101608",
                  "1.571428571428571",
                  "0.085",
                  "1351275",
                  "162662",
                  "318.68",
                  "16",
                  "4240.2253043805695",
                  "12.037668128249246"
                ],
                [
                  "31817",
                  "31818",
                  "Guarulhos",
                  "14",
                  "4",
                  "2020-04-14",
                  "214",
                  "14",
                  "15.8368947845553",
                  "20.0",
                  "19",
                  "2",
                  "1.40607944348856",
                  "1.714285714285714",
                  "0.0887850467289719",
                  "1351275",
                  "162662",
                  "318.68",
                  "16",
                  "4240.2253043805695",
                  "12.037668128249246"
                ]
              ],
              "shape": {
                "columns": 20,
                "rows": 570
              }
            },
            "text/html": [
              "<div>\n",
              "<style scoped>\n",
              "    .dataframe tbody tr th:only-of-type {\n",
              "        vertical-align: middle;\n",
              "    }\n",
              "\n",
              "    .dataframe tbody tr th {\n",
              "        vertical-align: top;\n",
              "    }\n",
              "\n",
              "    .dataframe thead th {\n",
              "        text-align: right;\n",
              "    }\n",
              "</style>\n",
              "<table border=\"1\" class=\"dataframe\">\n",
              "  <thead>\n",
              "    <tr style=\"text-align: right;\">\n",
              "      <th></th>\n",
              "      <th>indice</th>\n",
              "      <th>municipio</th>\n",
              "      <th>dia</th>\n",
              "      <th>mes</th>\n",
              "      <th>data</th>\n",
              "      <th>casos</th>\n",
              "      <th>casos_novos</th>\n",
              "      <th>casos_pc</th>\n",
              "      <th>casos_mm7d</th>\n",
              "      <th>obitos</th>\n",
              "      <th>obitos_novos</th>\n",
              "      <th>obitos_pc</th>\n",
              "      <th>obitos_mm7d</th>\n",
              "      <th>letalidade</th>\n",
              "      <th>pop</th>\n",
              "      <th>pop_60</th>\n",
              "      <th>area</th>\n",
              "      <th>semana_epidem</th>\n",
              "      <th>densidade</th>\n",
              "      <th>porcentagem_idosos</th>\n",
              "    </tr>\n",
              "  </thead>\n",
              "  <tbody>\n",
              "    <tr>\n",
              "      <th>212</th>\n",
              "      <td>213</td>\n",
              "      <td>Guarulhos</td>\n",
              "      <td>25</td>\n",
              "      <td>2</td>\n",
              "      <td>2020-02-25</td>\n",
              "      <td>0</td>\n",
              "      <td>0</td>\n",
              "      <td>0.000000</td>\n",
              "      <td>0.000000</td>\n",
              "      <td>0</td>\n",
              "      <td>0</td>\n",
              "      <td>0.000000</td>\n",
              "      <td>0.000000</td>\n",
              "      <td>0.000000</td>\n",
              "      <td>1351275</td>\n",
              "      <td>162662</td>\n",
              "      <td>318.68</td>\n",
              "      <td>9</td>\n",
              "      <td>4240.225304</td>\n",
              "      <td>12.037668</td>\n",
              "    </tr>\n",
              "    <tr>\n",
              "      <th>857</th>\n",
              "      <td>858</td>\n",
              "      <td>Guarulhos</td>\n",
              "      <td>26</td>\n",
              "      <td>2</td>\n",
              "      <td>2020-02-26</td>\n",
              "      <td>0</td>\n",
              "      <td>0</td>\n",
              "      <td>0.000000</td>\n",
              "      <td>0.000000</td>\n",
              "      <td>0</td>\n",
              "      <td>0</td>\n",
              "      <td>0.000000</td>\n",
              "      <td>0.000000</td>\n",
              "      <td>0.000000</td>\n",
              "      <td>1351275</td>\n",
              "      <td>162662</td>\n",
              "      <td>318.68</td>\n",
              "      <td>9</td>\n",
              "      <td>4240.225304</td>\n",
              "      <td>12.037668</td>\n",
              "    </tr>\n",
              "    <tr>\n",
              "      <th>1502</th>\n",
              "      <td>1503</td>\n",
              "      <td>Guarulhos</td>\n",
              "      <td>27</td>\n",
              "      <td>2</td>\n",
              "      <td>2020-02-27</td>\n",
              "      <td>0</td>\n",
              "      <td>0</td>\n",
              "      <td>0.000000</td>\n",
              "      <td>0.000000</td>\n",
              "      <td>0</td>\n",
              "      <td>0</td>\n",
              "      <td>0.000000</td>\n",
              "      <td>0.000000</td>\n",
              "      <td>0.000000</td>\n",
              "      <td>1351275</td>\n",
              "      <td>162662</td>\n",
              "      <td>318.68</td>\n",
              "      <td>9</td>\n",
              "      <td>4240.225304</td>\n",
              "      <td>12.037668</td>\n",
              "    </tr>\n",
              "    <tr>\n",
              "      <th>2147</th>\n",
              "      <td>2148</td>\n",
              "      <td>Guarulhos</td>\n",
              "      <td>28</td>\n",
              "      <td>2</td>\n",
              "      <td>2020-02-28</td>\n",
              "      <td>0</td>\n",
              "      <td>0</td>\n",
              "      <td>0.000000</td>\n",
              "      <td>0.000000</td>\n",
              "      <td>0</td>\n",
              "      <td>0</td>\n",
              "      <td>0.000000</td>\n",
              "      <td>0.000000</td>\n",
              "      <td>0.000000</td>\n",
              "      <td>1351275</td>\n",
              "      <td>162662</td>\n",
              "      <td>318.68</td>\n",
              "      <td>9</td>\n",
              "      <td>4240.225304</td>\n",
              "      <td>12.037668</td>\n",
              "    </tr>\n",
              "    <tr>\n",
              "      <th>2792</th>\n",
              "      <td>2793</td>\n",
              "      <td>Guarulhos</td>\n",
              "      <td>29</td>\n",
              "      <td>2</td>\n",
              "      <td>2020-02-29</td>\n",
              "      <td>0</td>\n",
              "      <td>0</td>\n",
              "      <td>0.000000</td>\n",
              "      <td>0.000000</td>\n",
              "      <td>0</td>\n",
              "      <td>0</td>\n",
              "      <td>0.000000</td>\n",
              "      <td>0.000000</td>\n",
              "      <td>0.000000</td>\n",
              "      <td>1351275</td>\n",
              "      <td>162662</td>\n",
              "      <td>318.68</td>\n",
              "      <td>9</td>\n",
              "      <td>4240.225304</td>\n",
              "      <td>12.037668</td>\n",
              "    </tr>\n",
              "    <tr>\n",
              "      <th>...</th>\n",
              "      <td>...</td>\n",
              "      <td>...</td>\n",
              "      <td>...</td>\n",
              "      <td>...</td>\n",
              "      <td>...</td>\n",
              "      <td>...</td>\n",
              "      <td>...</td>\n",
              "      <td>...</td>\n",
              "      <td>...</td>\n",
              "      <td>...</td>\n",
              "      <td>...</td>\n",
              "      <td>...</td>\n",
              "      <td>...</td>\n",
              "      <td>...</td>\n",
              "      <td>...</td>\n",
              "      <td>...</td>\n",
              "      <td>...</td>\n",
              "      <td>...</td>\n",
              "      <td>...</td>\n",
              "      <td>...</td>\n",
              "    </tr>\n",
              "    <tr>\n",
              "      <th>370442</th>\n",
              "      <td>370443</td>\n",
              "      <td>Guarulhos</td>\n",
              "      <td>21</td>\n",
              "      <td>9</td>\n",
              "      <td>2021-09-21</td>\n",
              "      <td>63334</td>\n",
              "      <td>28</td>\n",
              "      <td>4686.980814</td>\n",
              "      <td>102.571429</td>\n",
              "      <td>4857</td>\n",
              "      <td>3</td>\n",
              "      <td>359.438308</td>\n",
              "      <td>2.571429</td>\n",
              "      <td>0.076689</td>\n",
              "      <td>1351275</td>\n",
              "      <td>162662</td>\n",
              "      <td>318.68</td>\n",
              "      <td>38</td>\n",
              "      <td>4240.225304</td>\n",
              "      <td>12.037668</td>\n",
              "    </tr>\n",
              "    <tr>\n",
              "      <th>371087</th>\n",
              "      <td>371088</td>\n",
              "      <td>Guarulhos</td>\n",
              "      <td>22</td>\n",
              "      <td>9</td>\n",
              "      <td>2021-09-22</td>\n",
              "      <td>63351</td>\n",
              "      <td>17</td>\n",
              "      <td>4688.238885</td>\n",
              "      <td>105.000000</td>\n",
              "      <td>4861</td>\n",
              "      <td>4</td>\n",
              "      <td>359.734325</td>\n",
              "      <td>2.428571</td>\n",
              "      <td>0.076731</td>\n",
              "      <td>1351275</td>\n",
              "      <td>162662</td>\n",
              "      <td>318.68</td>\n",
              "      <td>38</td>\n",
              "      <td>4240.225304</td>\n",
              "      <td>12.037668</td>\n",
              "    </tr>\n",
              "    <tr>\n",
              "      <th>371732</th>\n",
              "      <td>371733</td>\n",
              "      <td>Guarulhos</td>\n",
              "      <td>23</td>\n",
              "      <td>9</td>\n",
              "      <td>2021-09-23</td>\n",
              "      <td>63368</td>\n",
              "      <td>17</td>\n",
              "      <td>4689.496957</td>\n",
              "      <td>107.285714</td>\n",
              "      <td>4862</td>\n",
              "      <td>1</td>\n",
              "      <td>359.808329</td>\n",
              "      <td>2.000000</td>\n",
              "      <td>0.076726</td>\n",
              "      <td>1351275</td>\n",
              "      <td>162662</td>\n",
              "      <td>318.68</td>\n",
              "      <td>38</td>\n",
              "      <td>4240.225304</td>\n",
              "      <td>12.037668</td>\n",
              "    </tr>\n",
              "    <tr>\n",
              "      <th>372377</th>\n",
              "      <td>372378</td>\n",
              "      <td>Guarulhos</td>\n",
              "      <td>24</td>\n",
              "      <td>9</td>\n",
              "      <td>2021-09-24</td>\n",
              "      <td>63387</td>\n",
              "      <td>19</td>\n",
              "      <td>4690.903036</td>\n",
              "      <td>61.285714</td>\n",
              "      <td>4863</td>\n",
              "      <td>1</td>\n",
              "      <td>359.882333</td>\n",
              "      <td>2.142857</td>\n",
              "      <td>0.076719</td>\n",
              "      <td>1351275</td>\n",
              "      <td>162662</td>\n",
              "      <td>318.68</td>\n",
              "      <td>38</td>\n",
              "      <td>4240.225304</td>\n",
              "      <td>12.037668</td>\n",
              "    </tr>\n",
              "    <tr>\n",
              "      <th>373022</th>\n",
              "      <td>373023</td>\n",
              "      <td>Guarulhos</td>\n",
              "      <td>25</td>\n",
              "      <td>9</td>\n",
              "      <td>2021-09-25</td>\n",
              "      <td>63398</td>\n",
              "      <td>11</td>\n",
              "      <td>4691.717082</td>\n",
              "      <td>14.142857</td>\n",
              "      <td>4866</td>\n",
              "      <td>3</td>\n",
              "      <td>360.104346</td>\n",
              "      <td>1.714286</td>\n",
              "      <td>0.076753</td>\n",
              "      <td>1351275</td>\n",
              "      <td>162662</td>\n",
              "      <td>318.68</td>\n",
              "      <td>38</td>\n",
              "      <td>4240.225304</td>\n",
              "      <td>12.037668</td>\n",
              "    </tr>\n",
              "  </tbody>\n",
              "</table>\n",
              "<p>570 rows × 20 columns</p>\n",
              "</div>"
            ],
            "text/plain": [
              "        indice  municipio  dia  mes        data  casos  casos_novos  \\\n",
              "212        213  Guarulhos   25    2  2020-02-25      0            0   \n",
              "857        858  Guarulhos   26    2  2020-02-26      0            0   \n",
              "1502      1503  Guarulhos   27    2  2020-02-27      0            0   \n",
              "2147      2148  Guarulhos   28    2  2020-02-28      0            0   \n",
              "2792      2793  Guarulhos   29    2  2020-02-29      0            0   \n",
              "...        ...        ...  ...  ...         ...    ...          ...   \n",
              "370442  370443  Guarulhos   21    9  2021-09-21  63334           28   \n",
              "371087  371088  Guarulhos   22    9  2021-09-22  63351           17   \n",
              "371732  371733  Guarulhos   23    9  2021-09-23  63368           17   \n",
              "372377  372378  Guarulhos   24    9  2021-09-24  63387           19   \n",
              "373022  373023  Guarulhos   25    9  2021-09-25  63398           11   \n",
              "\n",
              "           casos_pc  casos_mm7d  obitos  obitos_novos   obitos_pc  \\\n",
              "212        0.000000    0.000000       0             0    0.000000   \n",
              "857        0.000000    0.000000       0             0    0.000000   \n",
              "1502       0.000000    0.000000       0             0    0.000000   \n",
              "2147       0.000000    0.000000       0             0    0.000000   \n",
              "2792       0.000000    0.000000       0             0    0.000000   \n",
              "...             ...         ...     ...           ...         ...   \n",
              "370442  4686.980814  102.571429    4857             3  359.438308   \n",
              "371087  4688.238885  105.000000    4861             4  359.734325   \n",
              "371732  4689.496957  107.285714    4862             1  359.808329   \n",
              "372377  4690.903036   61.285714    4863             1  359.882333   \n",
              "373022  4691.717082   14.142857    4866             3  360.104346   \n",
              "\n",
              "        obitos_mm7d  letalidade      pop  pop_60    area  semana_epidem  \\\n",
              "212        0.000000    0.000000  1351275  162662  318.68              9   \n",
              "857        0.000000    0.000000  1351275  162662  318.68              9   \n",
              "1502       0.000000    0.000000  1351275  162662  318.68              9   \n",
              "2147       0.000000    0.000000  1351275  162662  318.68              9   \n",
              "2792       0.000000    0.000000  1351275  162662  318.68              9   \n",
              "...             ...         ...      ...     ...     ...            ...   \n",
              "370442     2.571429    0.076689  1351275  162662  318.68             38   \n",
              "371087     2.428571    0.076731  1351275  162662  318.68             38   \n",
              "371732     2.000000    0.076726  1351275  162662  318.68             38   \n",
              "372377     2.142857    0.076719  1351275  162662  318.68             38   \n",
              "373022     1.714286    0.076753  1351275  162662  318.68             38   \n",
              "\n",
              "          densidade  porcentagem_idosos  \n",
              "212     4240.225304           12.037668  \n",
              "857     4240.225304           12.037668  \n",
              "1502    4240.225304           12.037668  \n",
              "2147    4240.225304           12.037668  \n",
              "2792    4240.225304           12.037668  \n",
              "...             ...                 ...  \n",
              "370442  4240.225304           12.037668  \n",
              "371087  4240.225304           12.037668  \n",
              "371732  4240.225304           12.037668  \n",
              "372377  4240.225304           12.037668  \n",
              "373022  4240.225304           12.037668  \n",
              "\n",
              "[570 rows x 20 columns]"
            ]
          },
          "execution_count": 43,
          "metadata": {},
          "output_type": "execute_result"
        }
      ],
      "source": [
        "covid_guarulhos_s_outlier = covid_guarulhos.loc[covid_guarulhos['casos_novos'] < cal.outlier_sup(covid_guarulhos['casos_novos'])]\n",
        "covid_guarulhos_s_outlier"
      ]
    },
    {
      "cell_type": "code",
      "execution_count": 48,
      "metadata": {},
      "outputs": [
        {
          "data": {
            "application/vnd.plotly.v1+json": {
              "config": {
                "plotlyServerURL": "https://plot.ly"
              },
              "data": [
                {
                  "alignmentgroup": "True",
                  "hovertemplate": "casos_novos=%{y}<extra></extra>",
                  "legendgroup": "",
                  "marker": {
                    "color": "#636efa"
                  },
                  "name": "",
                  "notched": false,
                  "offsetgroup": "",
                  "orientation": "v",
                  "showlegend": false,
                  "type": "box",
                  "x0": " ",
                  "xaxis": "x",
                  "y": [
                    0,
                    0,
                    0,
                    0,
                    0,
                    0,
                    0,
                    0,
                    0,
                    0,
                    0,
                    0,
                    0,
                    0,
                    0,
                    0,
                    0,
                    0,
                    0,
                    0,
                    0,
                    1,
                    0,
                    0,
                    0,
                    0,
                    0,
                    0,
                    0,
                    4,
                    4,
                    4,
                    0,
                    0,
                    1,
                    7,
                    4,
                    10,
                    17,
                    10,
                    0,
                    1,
                    11,
                    45,
                    35,
                    24,
                    13,
                    7,
                    2,
                    14,
                    39,
                    16,
                    26,
                    10,
                    3,
                    8,
                    14,
                    1,
                    25,
                    43,
                    56,
                    40,
                    3,
                    64,
                    104,
                    71,
                    67,
                    12,
                    17,
                    1,
                    15,
                    97,
                    43,
                    26,
                    48,
                    12,
                    16,
                    34,
                    64,
                    106,
                    131,
                    81,
                    21,
                    16,
                    147,
                    118,
                    80,
                    56,
                    106,
                    21,
                    19,
                    58,
                    87,
                    172,
                    142,
                    173,
                    34,
                    12,
                    220,
                    129,
                    120,
                    116,
                    117,
                    65,
                    24,
                    126,
                    160,
                    152,
                    69,
                    64,
                    71,
                    42,
                    157,
                    63,
                    72,
                    340,
                    87,
                    63,
                    29,
                    119,
                    274,
                    217,
                    267,
                    282,
                    287,
                    100,
                    242,
                    275,
                    245,
                    182,
                    71,
                    84,
                    47,
                    335,
                    237,
                    161,
                    286,
                    244,
                    66,
                    34,
                    301,
                    152,
                    199,
                    125,
                    157,
                    87,
                    20,
                    177,
                    203,
                    197,
                    174,
                    286,
                    52,
                    47,
                    226,
                    304,
                    206,
                    228,
                    140,
                    36,
                    30,
                    232,
                    93,
                    223,
                    118,
                    191,
                    45,
                    37,
                    211,
                    221,
                    340,
                    278,
                    189,
                    13,
                    18,
                    212,
                    255,
                    218,
                    115,
                    336,
                    186,
                    24,
                    217,
                    223,
                    138,
                    141,
                    99,
                    13,
                    15,
                    197,
                    147,
                    266,
                    157,
                    147,
                    17,
                    37,
                    24,
                    165,
                    124,
                    102,
                    128,
                    29,
                    57,
                    136,
                    183,
                    93,
                    174,
                    98,
                    23,
                    26,
                    128,
                    99,
                    108,
                    76,
                    88,
                    10,
                    21,
                    68,
                    113,
                    71,
                    49,
                    123,
                    40,
                    5,
                    81,
                    80,
                    61,
                    131,
                    161,
                    104,
                    2,
                    14,
                    86,
                    62,
                    71,
                    89,
                    76,
                    9,
                    108,
                    100,
                    121,
                    310,
                    150,
                    152,
                    33,
                    119,
                    163,
                    161,
                    60,
                    21,
                    6,
                    4,
                    9,
                    59,
                    58,
                    0,
                    0,
                    0,
                    0,
                    68,
                    160,
                    174,
                    130,
                    11,
                    19,
                    272,
                    220,
                    239,
                    194,
                    42,
                    44,
                    12,
                    156,
                    288,
                    65,
                    63,
                    79,
                    61,
                    37,
                    129,
                    55,
                    76,
                    51,
                    35,
                    25,
                    13,
                    53,
                    90,
                    69,
                    55,
                    155,
                    8,
                    37,
                    60,
                    0,
                    190,
                    88,
                    96,
                    0,
                    39,
                    123,
                    126,
                    112,
                    35,
                    9,
                    25,
                    21,
                    181,
                    217,
                    214,
                    67,
                    27,
                    48,
                    25,
                    172,
                    194,
                    201,
                    168,
                    197,
                    85,
                    53,
                    274,
                    232,
                    139,
                    259,
                    192,
                    76,
                    29,
                    168,
                    222,
                    173,
                    177,
                    191,
                    63,
                    27,
                    198,
                    268,
                    200,
                    164,
                    84,
                    25,
                    8,
                    91,
                    106,
                    98,
                    127,
                    129,
                    15,
                    36,
                    89,
                    153,
                    121,
                    110,
                    84,
                    34,
                    20,
                    116,
                    151,
                    132,
                    112,
                    109,
                    20,
                    0,
                    1,
                    84,
                    115,
                    137,
                    154,
                    48,
                    30,
                    116,
                    153,
                    138,
                    173,
                    152,
                    87,
                    76,
                    193,
                    212,
                    301,
                    217,
                    169,
                    104,
                    51,
                    252,
                    155,
                    217,
                    274,
                    250,
                    221,
                    56,
                    309,
                    254,
                    196,
                    303,
                    235,
                    242,
                    54,
                    359,
                    296,
                    346,
                    64,
                    56,
                    157,
                    334,
                    321,
                    276,
                    178,
                    230,
                    269,
                    153,
                    81,
                    311,
                    347,
                    208,
                    268,
                    97,
                    72,
                    279,
                    162,
                    175,
                    210,
                    141,
                    221,
                    25,
                    159,
                    142,
                    75,
                    206,
                    162,
                    223,
                    28,
                    200,
                    184,
                    122,
                    263,
                    152,
                    39,
                    110,
                    117,
                    227,
                    224,
                    149,
                    124,
                    145,
                    38,
                    152,
                    281,
                    164,
                    42,
                    47,
                    46,
                    155,
                    158,
                    212,
                    195,
                    33,
                    194,
                    99,
                    29,
                    109,
                    138,
                    209,
                    161,
                    181,
                    105,
                    121,
                    219,
                    193,
                    114,
                    350,
                    152,
                    78,
                    58,
                    172,
                    157,
                    122,
                    175,
                    138,
                    93,
                    116,
                    123,
                    81,
                    71,
                    95,
                    78,
                    96,
                    27,
                    142,
                    161,
                    94,
                    130,
                    63,
                    25,
                    35,
                    65,
                    91,
                    95,
                    142,
                    125,
                    5,
                    34,
                    71,
                    115,
                    83,
                    110,
                    67,
                    41,
                    134,
                    102,
                    88,
                    110,
                    139,
                    95,
                    32,
                    35,
                    55,
                    72,
                    111,
                    78,
                    43,
                    17,
                    16,
                    67,
                    80,
                    43,
                    95,
                    62,
                    25,
                    9,
                    96,
                    109,
                    120,
                    68,
                    43,
                    21,
                    13,
                    55,
                    64,
                    70,
                    50,
                    46,
                    21,
                    13,
                    60,
                    86,
                    47,
                    108,
                    68,
                    1,
                    0,
                    0,
                    1,
                    1,
                    0,
                    0,
                    1,
                    1,
                    0,
                    0,
                    1,
                    341,
                    341,
                    7,
                    0,
                    28,
                    17,
                    17,
                    19,
                    11
                  ],
                  "y0": " ",
                  "yaxis": "y"
                }
              ],
              "layout": {
                "boxmode": "group",
                "legend": {
                  "tracegroupgap": 0
                },
                "margin": {
                  "t": 60
                },
                "template": {
                  "data": {
                    "bar": [
                      {
                        "error_x": {
                          "color": "#2a3f5f"
                        },
                        "error_y": {
                          "color": "#2a3f5f"
                        },
                        "marker": {
                          "line": {
                            "color": "#E5ECF6",
                            "width": 0.5
                          },
                          "pattern": {
                            "fillmode": "overlay",
                            "size": 10,
                            "solidity": 0.2
                          }
                        },
                        "type": "bar"
                      }
                    ],
                    "barpolar": [
                      {
                        "marker": {
                          "line": {
                            "color": "#E5ECF6",
                            "width": 0.5
                          },
                          "pattern": {
                            "fillmode": "overlay",
                            "size": 10,
                            "solidity": 0.2
                          }
                        },
                        "type": "barpolar"
                      }
                    ],
                    "carpet": [
                      {
                        "aaxis": {
                          "endlinecolor": "#2a3f5f",
                          "gridcolor": "white",
                          "linecolor": "white",
                          "minorgridcolor": "white",
                          "startlinecolor": "#2a3f5f"
                        },
                        "baxis": {
                          "endlinecolor": "#2a3f5f",
                          "gridcolor": "white",
                          "linecolor": "white",
                          "minorgridcolor": "white",
                          "startlinecolor": "#2a3f5f"
                        },
                        "type": "carpet"
                      }
                    ],
                    "choropleth": [
                      {
                        "colorbar": {
                          "outlinewidth": 0,
                          "ticks": ""
                        },
                        "type": "choropleth"
                      }
                    ],
                    "contour": [
                      {
                        "colorbar": {
                          "outlinewidth": 0,
                          "ticks": ""
                        },
                        "colorscale": [
                          [
                            0,
                            "#0d0887"
                          ],
                          [
                            0.1111111111111111,
                            "#46039f"
                          ],
                          [
                            0.2222222222222222,
                            "#7201a8"
                          ],
                          [
                            0.3333333333333333,
                            "#9c179e"
                          ],
                          [
                            0.4444444444444444,
                            "#bd3786"
                          ],
                          [
                            0.5555555555555556,
                            "#d8576b"
                          ],
                          [
                            0.6666666666666666,
                            "#ed7953"
                          ],
                          [
                            0.7777777777777778,
                            "#fb9f3a"
                          ],
                          [
                            0.8888888888888888,
                            "#fdca26"
                          ],
                          [
                            1,
                            "#f0f921"
                          ]
                        ],
                        "type": "contour"
                      }
                    ],
                    "contourcarpet": [
                      {
                        "colorbar": {
                          "outlinewidth": 0,
                          "ticks": ""
                        },
                        "type": "contourcarpet"
                      }
                    ],
                    "heatmap": [
                      {
                        "colorbar": {
                          "outlinewidth": 0,
                          "ticks": ""
                        },
                        "colorscale": [
                          [
                            0,
                            "#0d0887"
                          ],
                          [
                            0.1111111111111111,
                            "#46039f"
                          ],
                          [
                            0.2222222222222222,
                            "#7201a8"
                          ],
                          [
                            0.3333333333333333,
                            "#9c179e"
                          ],
                          [
                            0.4444444444444444,
                            "#bd3786"
                          ],
                          [
                            0.5555555555555556,
                            "#d8576b"
                          ],
                          [
                            0.6666666666666666,
                            "#ed7953"
                          ],
                          [
                            0.7777777777777778,
                            "#fb9f3a"
                          ],
                          [
                            0.8888888888888888,
                            "#fdca26"
                          ],
                          [
                            1,
                            "#f0f921"
                          ]
                        ],
                        "type": "heatmap"
                      }
                    ],
                    "heatmapgl": [
                      {
                        "colorbar": {
                          "outlinewidth": 0,
                          "ticks": ""
                        },
                        "colorscale": [
                          [
                            0,
                            "#0d0887"
                          ],
                          [
                            0.1111111111111111,
                            "#46039f"
                          ],
                          [
                            0.2222222222222222,
                            "#7201a8"
                          ],
                          [
                            0.3333333333333333,
                            "#9c179e"
                          ],
                          [
                            0.4444444444444444,
                            "#bd3786"
                          ],
                          [
                            0.5555555555555556,
                            "#d8576b"
                          ],
                          [
                            0.6666666666666666,
                            "#ed7953"
                          ],
                          [
                            0.7777777777777778,
                            "#fb9f3a"
                          ],
                          [
                            0.8888888888888888,
                            "#fdca26"
                          ],
                          [
                            1,
                            "#f0f921"
                          ]
                        ],
                        "type": "heatmapgl"
                      }
                    ],
                    "histogram": [
                      {
                        "marker": {
                          "pattern": {
                            "fillmode": "overlay",
                            "size": 10,
                            "solidity": 0.2
                          }
                        },
                        "type": "histogram"
                      }
                    ],
                    "histogram2d": [
                      {
                        "colorbar": {
                          "outlinewidth": 0,
                          "ticks": ""
                        },
                        "colorscale": [
                          [
                            0,
                            "#0d0887"
                          ],
                          [
                            0.1111111111111111,
                            "#46039f"
                          ],
                          [
                            0.2222222222222222,
                            "#7201a8"
                          ],
                          [
                            0.3333333333333333,
                            "#9c179e"
                          ],
                          [
                            0.4444444444444444,
                            "#bd3786"
                          ],
                          [
                            0.5555555555555556,
                            "#d8576b"
                          ],
                          [
                            0.6666666666666666,
                            "#ed7953"
                          ],
                          [
                            0.7777777777777778,
                            "#fb9f3a"
                          ],
                          [
                            0.8888888888888888,
                            "#fdca26"
                          ],
                          [
                            1,
                            "#f0f921"
                          ]
                        ],
                        "type": "histogram2d"
                      }
                    ],
                    "histogram2dcontour": [
                      {
                        "colorbar": {
                          "outlinewidth": 0,
                          "ticks": ""
                        },
                        "colorscale": [
                          [
                            0,
                            "#0d0887"
                          ],
                          [
                            0.1111111111111111,
                            "#46039f"
                          ],
                          [
                            0.2222222222222222,
                            "#7201a8"
                          ],
                          [
                            0.3333333333333333,
                            "#9c179e"
                          ],
                          [
                            0.4444444444444444,
                            "#bd3786"
                          ],
                          [
                            0.5555555555555556,
                            "#d8576b"
                          ],
                          [
                            0.6666666666666666,
                            "#ed7953"
                          ],
                          [
                            0.7777777777777778,
                            "#fb9f3a"
                          ],
                          [
                            0.8888888888888888,
                            "#fdca26"
                          ],
                          [
                            1,
                            "#f0f921"
                          ]
                        ],
                        "type": "histogram2dcontour"
                      }
                    ],
                    "mesh3d": [
                      {
                        "colorbar": {
                          "outlinewidth": 0,
                          "ticks": ""
                        },
                        "type": "mesh3d"
                      }
                    ],
                    "parcoords": [
                      {
                        "line": {
                          "colorbar": {
                            "outlinewidth": 0,
                            "ticks": ""
                          }
                        },
                        "type": "parcoords"
                      }
                    ],
                    "pie": [
                      {
                        "automargin": true,
                        "type": "pie"
                      }
                    ],
                    "scatter": [
                      {
                        "fillpattern": {
                          "fillmode": "overlay",
                          "size": 10,
                          "solidity": 0.2
                        },
                        "type": "scatter"
                      }
                    ],
                    "scatter3d": [
                      {
                        "line": {
                          "colorbar": {
                            "outlinewidth": 0,
                            "ticks": ""
                          }
                        },
                        "marker": {
                          "colorbar": {
                            "outlinewidth": 0,
                            "ticks": ""
                          }
                        },
                        "type": "scatter3d"
                      }
                    ],
                    "scattercarpet": [
                      {
                        "marker": {
                          "colorbar": {
                            "outlinewidth": 0,
                            "ticks": ""
                          }
                        },
                        "type": "scattercarpet"
                      }
                    ],
                    "scattergeo": [
                      {
                        "marker": {
                          "colorbar": {
                            "outlinewidth": 0,
                            "ticks": ""
                          }
                        },
                        "type": "scattergeo"
                      }
                    ],
                    "scattergl": [
                      {
                        "marker": {
                          "colorbar": {
                            "outlinewidth": 0,
                            "ticks": ""
                          }
                        },
                        "type": "scattergl"
                      }
                    ],
                    "scattermapbox": [
                      {
                        "marker": {
                          "colorbar": {
                            "outlinewidth": 0,
                            "ticks": ""
                          }
                        },
                        "type": "scattermapbox"
                      }
                    ],
                    "scatterpolar": [
                      {
                        "marker": {
                          "colorbar": {
                            "outlinewidth": 0,
                            "ticks": ""
                          }
                        },
                        "type": "scatterpolar"
                      }
                    ],
                    "scatterpolargl": [
                      {
                        "marker": {
                          "colorbar": {
                            "outlinewidth": 0,
                            "ticks": ""
                          }
                        },
                        "type": "scatterpolargl"
                      }
                    ],
                    "scatterternary": [
                      {
                        "marker": {
                          "colorbar": {
                            "outlinewidth": 0,
                            "ticks": ""
                          }
                        },
                        "type": "scatterternary"
                      }
                    ],
                    "surface": [
                      {
                        "colorbar": {
                          "outlinewidth": 0,
                          "ticks": ""
                        },
                        "colorscale": [
                          [
                            0,
                            "#0d0887"
                          ],
                          [
                            0.1111111111111111,
                            "#46039f"
                          ],
                          [
                            0.2222222222222222,
                            "#7201a8"
                          ],
                          [
                            0.3333333333333333,
                            "#9c179e"
                          ],
                          [
                            0.4444444444444444,
                            "#bd3786"
                          ],
                          [
                            0.5555555555555556,
                            "#d8576b"
                          ],
                          [
                            0.6666666666666666,
                            "#ed7953"
                          ],
                          [
                            0.7777777777777778,
                            "#fb9f3a"
                          ],
                          [
                            0.8888888888888888,
                            "#fdca26"
                          ],
                          [
                            1,
                            "#f0f921"
                          ]
                        ],
                        "type": "surface"
                      }
                    ],
                    "table": [
                      {
                        "cells": {
                          "fill": {
                            "color": "#EBF0F8"
                          },
                          "line": {
                            "color": "white"
                          }
                        },
                        "header": {
                          "fill": {
                            "color": "#C8D4E3"
                          },
                          "line": {
                            "color": "white"
                          }
                        },
                        "type": "table"
                      }
                    ]
                  },
                  "layout": {
                    "annotationdefaults": {
                      "arrowcolor": "#2a3f5f",
                      "arrowhead": 0,
                      "arrowwidth": 1
                    },
                    "autotypenumbers": "strict",
                    "coloraxis": {
                      "colorbar": {
                        "outlinewidth": 0,
                        "ticks": ""
                      }
                    },
                    "colorscale": {
                      "diverging": [
                        [
                          0,
                          "#8e0152"
                        ],
                        [
                          0.1,
                          "#c51b7d"
                        ],
                        [
                          0.2,
                          "#de77ae"
                        ],
                        [
                          0.3,
                          "#f1b6da"
                        ],
                        [
                          0.4,
                          "#fde0ef"
                        ],
                        [
                          0.5,
                          "#f7f7f7"
                        ],
                        [
                          0.6,
                          "#e6f5d0"
                        ],
                        [
                          0.7,
                          "#b8e186"
                        ],
                        [
                          0.8,
                          "#7fbc41"
                        ],
                        [
                          0.9,
                          "#4d9221"
                        ],
                        [
                          1,
                          "#276419"
                        ]
                      ],
                      "sequential": [
                        [
                          0,
                          "#0d0887"
                        ],
                        [
                          0.1111111111111111,
                          "#46039f"
                        ],
                        [
                          0.2222222222222222,
                          "#7201a8"
                        ],
                        [
                          0.3333333333333333,
                          "#9c179e"
                        ],
                        [
                          0.4444444444444444,
                          "#bd3786"
                        ],
                        [
                          0.5555555555555556,
                          "#d8576b"
                        ],
                        [
                          0.6666666666666666,
                          "#ed7953"
                        ],
                        [
                          0.7777777777777778,
                          "#fb9f3a"
                        ],
                        [
                          0.8888888888888888,
                          "#fdca26"
                        ],
                        [
                          1,
                          "#f0f921"
                        ]
                      ],
                      "sequentialminus": [
                        [
                          0,
                          "#0d0887"
                        ],
                        [
                          0.1111111111111111,
                          "#46039f"
                        ],
                        [
                          0.2222222222222222,
                          "#7201a8"
                        ],
                        [
                          0.3333333333333333,
                          "#9c179e"
                        ],
                        [
                          0.4444444444444444,
                          "#bd3786"
                        ],
                        [
                          0.5555555555555556,
                          "#d8576b"
                        ],
                        [
                          0.6666666666666666,
                          "#ed7953"
                        ],
                        [
                          0.7777777777777778,
                          "#fb9f3a"
                        ],
                        [
                          0.8888888888888888,
                          "#fdca26"
                        ],
                        [
                          1,
                          "#f0f921"
                        ]
                      ]
                    },
                    "colorway": [
                      "#636efa",
                      "#EF553B",
                      "#00cc96",
                      "#ab63fa",
                      "#FFA15A",
                      "#19d3f3",
                      "#FF6692",
                      "#B6E880",
                      "#FF97FF",
                      "#FECB52"
                    ],
                    "font": {
                      "color": "#2a3f5f"
                    },
                    "geo": {
                      "bgcolor": "white",
                      "lakecolor": "white",
                      "landcolor": "#E5ECF6",
                      "showlakes": true,
                      "showland": true,
                      "subunitcolor": "white"
                    },
                    "hoverlabel": {
                      "align": "left"
                    },
                    "hovermode": "closest",
                    "mapbox": {
                      "style": "light"
                    },
                    "paper_bgcolor": "white",
                    "plot_bgcolor": "#E5ECF6",
                    "polar": {
                      "angularaxis": {
                        "gridcolor": "white",
                        "linecolor": "white",
                        "ticks": ""
                      },
                      "bgcolor": "#E5ECF6",
                      "radialaxis": {
                        "gridcolor": "white",
                        "linecolor": "white",
                        "ticks": ""
                      }
                    },
                    "scene": {
                      "xaxis": {
                        "backgroundcolor": "#E5ECF6",
                        "gridcolor": "white",
                        "gridwidth": 2,
                        "linecolor": "white",
                        "showbackground": true,
                        "ticks": "",
                        "zerolinecolor": "white"
                      },
                      "yaxis": {
                        "backgroundcolor": "#E5ECF6",
                        "gridcolor": "white",
                        "gridwidth": 2,
                        "linecolor": "white",
                        "showbackground": true,
                        "ticks": "",
                        "zerolinecolor": "white"
                      },
                      "zaxis": {
                        "backgroundcolor": "#E5ECF6",
                        "gridcolor": "white",
                        "gridwidth": 2,
                        "linecolor": "white",
                        "showbackground": true,
                        "ticks": "",
                        "zerolinecolor": "white"
                      }
                    },
                    "shapedefaults": {
                      "line": {
                        "color": "#2a3f5f"
                      }
                    },
                    "ternary": {
                      "aaxis": {
                        "gridcolor": "white",
                        "linecolor": "white",
                        "ticks": ""
                      },
                      "baxis": {
                        "gridcolor": "white",
                        "linecolor": "white",
                        "ticks": ""
                      },
                      "bgcolor": "#E5ECF6",
                      "caxis": {
                        "gridcolor": "white",
                        "linecolor": "white",
                        "ticks": ""
                      }
                    },
                    "title": {
                      "x": 0.05
                    },
                    "xaxis": {
                      "automargin": true,
                      "gridcolor": "white",
                      "linecolor": "white",
                      "ticks": "",
                      "title": {
                        "standoff": 15
                      },
                      "zerolinecolor": "white",
                      "zerolinewidth": 2
                    },
                    "yaxis": {
                      "automargin": true,
                      "gridcolor": "white",
                      "linecolor": "white",
                      "ticks": "",
                      "title": {
                        "standoff": 15
                      },
                      "zerolinecolor": "white",
                      "zerolinewidth": 2
                    }
                  }
                },
                "xaxis": {
                  "anchor": "y",
                  "domain": [
                    0,
                    1
                  ]
                },
                "yaxis": {
                  "anchor": "x",
                  "domain": [
                    0,
                    1
                  ],
                  "title": {
                    "text": "casos_novos"
                  }
                }
              }
            }
          },
          "metadata": {},
          "output_type": "display_data"
        }
      ],
      "source": [
        "grafico = px.box(covid_guarulhos_s_outlier, y = 'casos_novos')\n",
        "grafico.show()"
      ]
    }
  ],
  "metadata": {
    "colab": {
      "name": "analise_projeto1.ipynb",
      "provenance": []
    },
    "kernelspec": {
      "display_name": "base",
      "language": "python",
      "name": "python3"
    },
    "language_info": {
      "codemirror_mode": {
        "name": "ipython",
        "version": 3
      },
      "file_extension": ".py",
      "mimetype": "text/x-python",
      "name": "python",
      "nbconvert_exporter": "python",
      "pygments_lexer": "ipython3",
      "version": "3.12.7"
    }
  },
  "nbformat": 4,
  "nbformat_minor": 0
}
