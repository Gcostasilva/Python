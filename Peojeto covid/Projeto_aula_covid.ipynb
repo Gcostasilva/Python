{
 "cells": [
  {
   "cell_type": "markdown",
   "id": "48e9cbbe",
   "metadata": {},
   "source": [
    "\n"
   ]
  },
  {
   "cell_type": "markdown",
   "id": "f75025a6",
   "metadata": {},
   "source": [
    "## Covid - Fevereiro 2020 a setembro 2021 em SP\n",
    "\n",
    "Dados\n",
    "https://github.com/seade-R/dados-covid-sp"
   ]
  },
  {
   "cell_type": "markdown",
   "id": "05634c15",
   "metadata": {},
   "source": [
    "### Seleção dos dados"
   ]
  },
  {
   "cell_type": "code",
   "execution_count": 122,
   "id": "2db2b75e",
   "metadata": {},
   "outputs": [],
   "source": [
    "import pandas as pd\n",
    "import numpy as np"
   ]
  },
  {
   "cell_type": "code",
   "execution_count": 123,
   "id": "40252156",
   "metadata": {},
   "outputs": [],
   "source": [
    "covid = pd.read_csv('dados_covid_sp.csv', sep=';', encoding=\"utf-8\")"
   ]
  },
  {
   "cell_type": "code",
   "execution_count": 124,
   "id": "643cb022",
   "metadata": {},
   "outputs": [
    {
     "data": {
      "application/vnd.microsoft.datawrangler.viewer.v0+json": {
       "columns": [
        {
         "name": "index",
         "rawType": "int64",
         "type": "integer"
        },
        {
         "name": "nome_munic",
         "rawType": "object",
         "type": "string"
        },
        {
         "name": "codigo_ibge",
         "rawType": "int64",
         "type": "integer"
        },
        {
         "name": "dia",
         "rawType": "int64",
         "type": "integer"
        },
        {
         "name": "mes",
         "rawType": "int64",
         "type": "integer"
        },
        {
         "name": "datahora",
         "rawType": "object",
         "type": "string"
        },
        {
         "name": "casos",
         "rawType": "int64",
         "type": "integer"
        },
        {
         "name": "casos_novos",
         "rawType": "int64",
         "type": "integer"
        },
        {
         "name": "casos_pc",
         "rawType": "object",
         "type": "string"
        },
        {
         "name": "casos_mm7d",
         "rawType": "object",
         "type": "string"
        },
        {
         "name": "obitos",
         "rawType": "int64",
         "type": "integer"
        },
        {
         "name": "obitos_novos",
         "rawType": "int64",
         "type": "integer"
        },
        {
         "name": "obitos_pc",
         "rawType": "object",
         "type": "string"
        },
        {
         "name": "obitos_mm7d",
         "rawType": "object",
         "type": "string"
        },
        {
         "name": "letalidade",
         "rawType": "object",
         "type": "string"
        },
        {
         "name": "nome_ra",
         "rawType": "object",
         "type": "string"
        },
        {
         "name": "cod_ra",
         "rawType": "int64",
         "type": "integer"
        },
        {
         "name": "nome_drs",
         "rawType": "object",
         "type": "string"
        },
        {
         "name": "cod_drs",
         "rawType": "int64",
         "type": "integer"
        },
        {
         "name": "pop",
         "rawType": "int64",
         "type": "integer"
        },
        {
         "name": "pop_60",
         "rawType": "int64",
         "type": "integer"
        },
        {
         "name": "area",
         "rawType": "int64",
         "type": "integer"
        },
        {
         "name": "map_leg",
         "rawType": "object",
         "type": "string"
        },
        {
         "name": "map_leg_s",
         "rawType": "float64",
         "type": "float"
        },
        {
         "name": "latitude",
         "rawType": "object",
         "type": "string"
        },
        {
         "name": "longitude",
         "rawType": "object",
         "type": "string"
        },
        {
         "name": "semana_epidem",
         "rawType": "int64",
         "type": "integer"
        }
       ],
       "ref": "e071ead9-77b2-4e3b-a697-e8e1d80c3628",
       "rows": [
        [
         "0",
         "Adamantina",
         "3500105",
         "25",
         "2",
         "2020-02-25",
         "0",
         "0",
         "0,00000000000000e+00",
         "0,000000000000000",
         "0",
         "0",
         "0,00000000000000e+00",
         "0,000000000000000",
         "0,000000000000000000",
         "RA de Presidente Prudente",
         "9",
         "Marília",
         "5",
         "33894",
         "7398",
         "41199",
         "0",
         "8.0",
         "-21,6820",
         "-51,0737",
         "9"
        ],
        [
         "1",
         "Adolfo",
         "3500204",
         "25",
         "2",
         "2020-02-25",
         "0",
         "0",
         "0,00000000000000e+00",
         "0,000000000000000",
         "0",
         "0",
         "0,00000000000000e+00",
         "0,000000000000000",
         "0,000000000000000000",
         "RA de São José do Rio Preto",
         "14",
         "São José do Rio Preto",
         "15",
         "3447",
         "761",
         "21106",
         "0",
         "8.0",
         "-21,2325",
         "-49,6451",
         "9"
        ],
        [
         "2",
         "Aguaí",
         "3500303",
         "25",
         "2",
         "2020-02-25",
         "0",
         "0",
         "0,00000000000000e+00",
         "0,000000000000000",
         "0",
         "0",
         "0,00000000000000e+00",
         "0,000000000000000",
         "0,000000000000000000",
         "RA de Campinas",
         "4",
         "São João da Boa Vista",
         "14",
         "35608",
         "5245",
         "47455",
         "0",
         "8.0",
         "-22,0572",
         "-46,9735",
         "9"
        ],
        [
         "3",
         "Águas da Prata",
         "3500402",
         "25",
         "2",
         "2020-02-25",
         "0",
         "0",
         "0,00000000000000e+00",
         "0,000000000000000",
         "0",
         "0",
         "0,00000000000000e+00",
         "0,000000000000000",
         "0,000000000000000000",
         "RA de Campinas",
         "4",
         "São João da Boa Vista",
         "14",
         "7797",
         "1729",
         "14267",
         "0",
         "8.0",
         "-21,9319",
         "-46,7176",
         "9"
        ],
        [
         "4",
         "Águas de Lindóia",
         "3500501",
         "25",
         "2",
         "2020-02-25",
         "0",
         "0",
         "0,00000000000000e+00",
         "0,000000000000000",
         "0",
         "0",
         "0,00000000000000e+00",
         "0,000000000000000",
         "0,000000000000000000",
         "RA de Campinas",
         "4",
         "Campinas",
         "3",
         "18374",
         "3275",
         "6013",
         "0",
         "8.0",
         "-22,4733",
         "-46,6314",
         "9"
        ]
       ],
       "shape": {
        "columns": 26,
        "rows": 5
       }
      },
      "text/html": [
       "<div>\n",
       "<style scoped>\n",
       "    .dataframe tbody tr th:only-of-type {\n",
       "        vertical-align: middle;\n",
       "    }\n",
       "\n",
       "    .dataframe tbody tr th {\n",
       "        vertical-align: top;\n",
       "    }\n",
       "\n",
       "    .dataframe thead th {\n",
       "        text-align: right;\n",
       "    }\n",
       "</style>\n",
       "<table border=\"1\" class=\"dataframe\">\n",
       "  <thead>\n",
       "    <tr style=\"text-align: right;\">\n",
       "      <th></th>\n",
       "      <th>nome_munic</th>\n",
       "      <th>codigo_ibge</th>\n",
       "      <th>dia</th>\n",
       "      <th>mes</th>\n",
       "      <th>datahora</th>\n",
       "      <th>casos</th>\n",
       "      <th>casos_novos</th>\n",
       "      <th>casos_pc</th>\n",
       "      <th>casos_mm7d</th>\n",
       "      <th>obitos</th>\n",
       "      <th>...</th>\n",
       "      <th>nome_drs</th>\n",
       "      <th>cod_drs</th>\n",
       "      <th>pop</th>\n",
       "      <th>pop_60</th>\n",
       "      <th>area</th>\n",
       "      <th>map_leg</th>\n",
       "      <th>map_leg_s</th>\n",
       "      <th>latitude</th>\n",
       "      <th>longitude</th>\n",
       "      <th>semana_epidem</th>\n",
       "    </tr>\n",
       "  </thead>\n",
       "  <tbody>\n",
       "    <tr>\n",
       "      <th>0</th>\n",
       "      <td>Adamantina</td>\n",
       "      <td>3500105</td>\n",
       "      <td>25</td>\n",
       "      <td>2</td>\n",
       "      <td>2020-02-25</td>\n",
       "      <td>0</td>\n",
       "      <td>0</td>\n",
       "      <td>0,00000000000000e+00</td>\n",
       "      <td>0,000000000000000</td>\n",
       "      <td>0</td>\n",
       "      <td>...</td>\n",
       "      <td>Marília</td>\n",
       "      <td>5</td>\n",
       "      <td>33894</td>\n",
       "      <td>7398</td>\n",
       "      <td>41199</td>\n",
       "      <td>0</td>\n",
       "      <td>8.0</td>\n",
       "      <td>-21,6820</td>\n",
       "      <td>-51,0737</td>\n",
       "      <td>9</td>\n",
       "    </tr>\n",
       "    <tr>\n",
       "      <th>1</th>\n",
       "      <td>Adolfo</td>\n",
       "      <td>3500204</td>\n",
       "      <td>25</td>\n",
       "      <td>2</td>\n",
       "      <td>2020-02-25</td>\n",
       "      <td>0</td>\n",
       "      <td>0</td>\n",
       "      <td>0,00000000000000e+00</td>\n",
       "      <td>0,000000000000000</td>\n",
       "      <td>0</td>\n",
       "      <td>...</td>\n",
       "      <td>São José do Rio Preto</td>\n",
       "      <td>15</td>\n",
       "      <td>3447</td>\n",
       "      <td>761</td>\n",
       "      <td>21106</td>\n",
       "      <td>0</td>\n",
       "      <td>8.0</td>\n",
       "      <td>-21,2325</td>\n",
       "      <td>-49,6451</td>\n",
       "      <td>9</td>\n",
       "    </tr>\n",
       "    <tr>\n",
       "      <th>2</th>\n",
       "      <td>Aguaí</td>\n",
       "      <td>3500303</td>\n",
       "      <td>25</td>\n",
       "      <td>2</td>\n",
       "      <td>2020-02-25</td>\n",
       "      <td>0</td>\n",
       "      <td>0</td>\n",
       "      <td>0,00000000000000e+00</td>\n",
       "      <td>0,000000000000000</td>\n",
       "      <td>0</td>\n",
       "      <td>...</td>\n",
       "      <td>São João da Boa Vista</td>\n",
       "      <td>14</td>\n",
       "      <td>35608</td>\n",
       "      <td>5245</td>\n",
       "      <td>47455</td>\n",
       "      <td>0</td>\n",
       "      <td>8.0</td>\n",
       "      <td>-22,0572</td>\n",
       "      <td>-46,9735</td>\n",
       "      <td>9</td>\n",
       "    </tr>\n",
       "    <tr>\n",
       "      <th>3</th>\n",
       "      <td>Águas da Prata</td>\n",
       "      <td>3500402</td>\n",
       "      <td>25</td>\n",
       "      <td>2</td>\n",
       "      <td>2020-02-25</td>\n",
       "      <td>0</td>\n",
       "      <td>0</td>\n",
       "      <td>0,00000000000000e+00</td>\n",
       "      <td>0,000000000000000</td>\n",
       "      <td>0</td>\n",
       "      <td>...</td>\n",
       "      <td>São João da Boa Vista</td>\n",
       "      <td>14</td>\n",
       "      <td>7797</td>\n",
       "      <td>1729</td>\n",
       "      <td>14267</td>\n",
       "      <td>0</td>\n",
       "      <td>8.0</td>\n",
       "      <td>-21,9319</td>\n",
       "      <td>-46,7176</td>\n",
       "      <td>9</td>\n",
       "    </tr>\n",
       "    <tr>\n",
       "      <th>4</th>\n",
       "      <td>Águas de Lindóia</td>\n",
       "      <td>3500501</td>\n",
       "      <td>25</td>\n",
       "      <td>2</td>\n",
       "      <td>2020-02-25</td>\n",
       "      <td>0</td>\n",
       "      <td>0</td>\n",
       "      <td>0,00000000000000e+00</td>\n",
       "      <td>0,000000000000000</td>\n",
       "      <td>0</td>\n",
       "      <td>...</td>\n",
       "      <td>Campinas</td>\n",
       "      <td>3</td>\n",
       "      <td>18374</td>\n",
       "      <td>3275</td>\n",
       "      <td>6013</td>\n",
       "      <td>0</td>\n",
       "      <td>8.0</td>\n",
       "      <td>-22,4733</td>\n",
       "      <td>-46,6314</td>\n",
       "      <td>9</td>\n",
       "    </tr>\n",
       "  </tbody>\n",
       "</table>\n",
       "<p>5 rows × 26 columns</p>\n",
       "</div>"
      ],
      "text/plain": [
       "         nome_munic  codigo_ibge  dia  mes    datahora  casos  casos_novos  \\\n",
       "0        Adamantina      3500105   25    2  2020-02-25      0            0   \n",
       "1            Adolfo      3500204   25    2  2020-02-25      0            0   \n",
       "2             Aguaí      3500303   25    2  2020-02-25      0            0   \n",
       "3    Águas da Prata      3500402   25    2  2020-02-25      0            0   \n",
       "4  Águas de Lindóia      3500501   25    2  2020-02-25      0            0   \n",
       "\n",
       "               casos_pc         casos_mm7d  obitos  ...  \\\n",
       "0  0,00000000000000e+00  0,000000000000000       0  ...   \n",
       "1  0,00000000000000e+00  0,000000000000000       0  ...   \n",
       "2  0,00000000000000e+00  0,000000000000000       0  ...   \n",
       "3  0,00000000000000e+00  0,000000000000000       0  ...   \n",
       "4  0,00000000000000e+00  0,000000000000000       0  ...   \n",
       "\n",
       "                nome_drs cod_drs    pop pop_60   area  map_leg map_leg_s  \\\n",
       "0                Marília       5  33894   7398  41199        0       8.0   \n",
       "1  São José do Rio Preto      15   3447    761  21106        0       8.0   \n",
       "2  São João da Boa Vista      14  35608   5245  47455        0       8.0   \n",
       "3  São João da Boa Vista      14   7797   1729  14267        0       8.0   \n",
       "4               Campinas       3  18374   3275   6013        0       8.0   \n",
       "\n",
       "   latitude  longitude  semana_epidem  \n",
       "0  -21,6820   -51,0737              9  \n",
       "1  -21,2325   -49,6451              9  \n",
       "2  -22,0572   -46,9735              9  \n",
       "3  -21,9319   -46,7176              9  \n",
       "4  -22,4733   -46,6314              9  \n",
       "\n",
       "[5 rows x 26 columns]"
      ]
     },
     "execution_count": 124,
     "metadata": {},
     "output_type": "execute_result"
    }
   ],
   "source": [
    "covid .head(5)"
   ]
  },
  {
   "cell_type": "code",
   "execution_count": 125,
   "id": "b4a766a6",
   "metadata": {},
   "outputs": [
    {
     "data": {
      "text/plain": [
       "(374034, 26)"
      ]
     },
     "execution_count": 125,
     "metadata": {},
     "output_type": "execute_result"
    }
   ],
   "source": [
    "covid.shape"
   ]
  },
  {
   "cell_type": "markdown",
   "id": "a9af2ab8",
   "metadata": {},
   "source": [
    "\n",
    "### Pré-processamento, limpeza e transformação "
   ]
  },
  {
   "cell_type": "markdown",
   "id": "a88628f9",
   "metadata": {},
   "source": [
    "##### Altera o nome das colunas"
   ]
  },
  {
   "cell_type": "code",
   "execution_count": 126,
   "id": "af84f636",
   "metadata": {},
   "outputs": [],
   "source": [
    "covid.rename(columns={'nome_munic':'Município', 'datahora':'Data'}, inplace=True)"
   ]
  },
  {
   "cell_type": "markdown",
   "id": "031b4369",
   "metadata": {},
   "source": [
    "#### Exclui as colunas"
   ]
  },
  {
   "cell_type": "code",
   "execution_count": 127,
   "id": "ecb0620a",
   "metadata": {},
   "outputs": [],
   "source": [
    "covid_alter = covid.drop(columns={'cod_ra'})"
   ]
  },
  {
   "cell_type": "code",
   "execution_count": 128,
   "id": "17c9f263",
   "metadata": {},
   "outputs": [
    {
     "data": {
      "application/vnd.microsoft.datawrangler.viewer.v0+json": {
       "columns": [
        {
         "name": "index",
         "rawType": "int64",
         "type": "integer"
        },
        {
         "name": "Município",
         "rawType": "object",
         "type": "string"
        },
        {
         "name": "codigo_ibge",
         "rawType": "int64",
         "type": "integer"
        },
        {
         "name": "dia",
         "rawType": "int64",
         "type": "integer"
        },
        {
         "name": "mes",
         "rawType": "int64",
         "type": "integer"
        },
        {
         "name": "Data",
         "rawType": "object",
         "type": "string"
        },
        {
         "name": "casos",
         "rawType": "int64",
         "type": "integer"
        },
        {
         "name": "casos_novos",
         "rawType": "int64",
         "type": "integer"
        },
        {
         "name": "casos_pc",
         "rawType": "object",
         "type": "string"
        },
        {
         "name": "casos_mm7d",
         "rawType": "object",
         "type": "string"
        },
        {
         "name": "obitos",
         "rawType": "int64",
         "type": "integer"
        },
        {
         "name": "obitos_novos",
         "rawType": "int64",
         "type": "integer"
        },
        {
         "name": "obitos_pc",
         "rawType": "object",
         "type": "string"
        },
        {
         "name": "obitos_mm7d",
         "rawType": "object",
         "type": "string"
        },
        {
         "name": "letalidade",
         "rawType": "object",
         "type": "string"
        },
        {
         "name": "nome_ra",
         "rawType": "object",
         "type": "string"
        },
        {
         "name": "nome_drs",
         "rawType": "object",
         "type": "string"
        },
        {
         "name": "cod_drs",
         "rawType": "int64",
         "type": "integer"
        },
        {
         "name": "pop",
         "rawType": "int64",
         "type": "integer"
        },
        {
         "name": "pop_60",
         "rawType": "int64",
         "type": "integer"
        },
        {
         "name": "area",
         "rawType": "int64",
         "type": "integer"
        },
        {
         "name": "map_leg",
         "rawType": "object",
         "type": "string"
        },
        {
         "name": "map_leg_s",
         "rawType": "float64",
         "type": "float"
        },
        {
         "name": "latitude",
         "rawType": "object",
         "type": "string"
        },
        {
         "name": "longitude",
         "rawType": "object",
         "type": "string"
        },
        {
         "name": "semana_epidem",
         "rawType": "int64",
         "type": "integer"
        }
       ],
       "ref": "67744f13-9e8e-42a0-b0a6-25ca0e623a56",
       "rows": [
        [
         "0",
         "Adamantina",
         "3500105",
         "25",
         "2",
         "2020-02-25",
         "0",
         "0",
         "0,00000000000000e+00",
         "0,000000000000000",
         "0",
         "0",
         "0,00000000000000e+00",
         "0,000000000000000",
         "0,000000000000000000",
         "RA de Presidente Prudente",
         "Marília",
         "5",
         "33894",
         "7398",
         "41199",
         "0",
         "8.0",
         "-21,6820",
         "-51,0737",
         "9"
        ],
        [
         "1",
         "Adolfo",
         "3500204",
         "25",
         "2",
         "2020-02-25",
         "0",
         "0",
         "0,00000000000000e+00",
         "0,000000000000000",
         "0",
         "0",
         "0,00000000000000e+00",
         "0,000000000000000",
         "0,000000000000000000",
         "RA de São José do Rio Preto",
         "São José do Rio Preto",
         "15",
         "3447",
         "761",
         "21106",
         "0",
         "8.0",
         "-21,2325",
         "-49,6451",
         "9"
        ],
        [
         "2",
         "Aguaí",
         "3500303",
         "25",
         "2",
         "2020-02-25",
         "0",
         "0",
         "0,00000000000000e+00",
         "0,000000000000000",
         "0",
         "0",
         "0,00000000000000e+00",
         "0,000000000000000",
         "0,000000000000000000",
         "RA de Campinas",
         "São João da Boa Vista",
         "14",
         "35608",
         "5245",
         "47455",
         "0",
         "8.0",
         "-22,0572",
         "-46,9735",
         "9"
        ],
        [
         "3",
         "Águas da Prata",
         "3500402",
         "25",
         "2",
         "2020-02-25",
         "0",
         "0",
         "0,00000000000000e+00",
         "0,000000000000000",
         "0",
         "0",
         "0,00000000000000e+00",
         "0,000000000000000",
         "0,000000000000000000",
         "RA de Campinas",
         "São João da Boa Vista",
         "14",
         "7797",
         "1729",
         "14267",
         "0",
         "8.0",
         "-21,9319",
         "-46,7176",
         "9"
        ]
       ],
       "shape": {
        "columns": 25,
        "rows": 4
       }
      },
      "text/html": [
       "<div>\n",
       "<style scoped>\n",
       "    .dataframe tbody tr th:only-of-type {\n",
       "        vertical-align: middle;\n",
       "    }\n",
       "\n",
       "    .dataframe tbody tr th {\n",
       "        vertical-align: top;\n",
       "    }\n",
       "\n",
       "    .dataframe thead th {\n",
       "        text-align: right;\n",
       "    }\n",
       "</style>\n",
       "<table border=\"1\" class=\"dataframe\">\n",
       "  <thead>\n",
       "    <tr style=\"text-align: right;\">\n",
       "      <th></th>\n",
       "      <th>Município</th>\n",
       "      <th>codigo_ibge</th>\n",
       "      <th>dia</th>\n",
       "      <th>mes</th>\n",
       "      <th>Data</th>\n",
       "      <th>casos</th>\n",
       "      <th>casos_novos</th>\n",
       "      <th>casos_pc</th>\n",
       "      <th>casos_mm7d</th>\n",
       "      <th>obitos</th>\n",
       "      <th>...</th>\n",
       "      <th>nome_drs</th>\n",
       "      <th>cod_drs</th>\n",
       "      <th>pop</th>\n",
       "      <th>pop_60</th>\n",
       "      <th>area</th>\n",
       "      <th>map_leg</th>\n",
       "      <th>map_leg_s</th>\n",
       "      <th>latitude</th>\n",
       "      <th>longitude</th>\n",
       "      <th>semana_epidem</th>\n",
       "    </tr>\n",
       "  </thead>\n",
       "  <tbody>\n",
       "    <tr>\n",
       "      <th>0</th>\n",
       "      <td>Adamantina</td>\n",
       "      <td>3500105</td>\n",
       "      <td>25</td>\n",
       "      <td>2</td>\n",
       "      <td>2020-02-25</td>\n",
       "      <td>0</td>\n",
       "      <td>0</td>\n",
       "      <td>0,00000000000000e+00</td>\n",
       "      <td>0,000000000000000</td>\n",
       "      <td>0</td>\n",
       "      <td>...</td>\n",
       "      <td>Marília</td>\n",
       "      <td>5</td>\n",
       "      <td>33894</td>\n",
       "      <td>7398</td>\n",
       "      <td>41199</td>\n",
       "      <td>0</td>\n",
       "      <td>8.0</td>\n",
       "      <td>-21,6820</td>\n",
       "      <td>-51,0737</td>\n",
       "      <td>9</td>\n",
       "    </tr>\n",
       "    <tr>\n",
       "      <th>1</th>\n",
       "      <td>Adolfo</td>\n",
       "      <td>3500204</td>\n",
       "      <td>25</td>\n",
       "      <td>2</td>\n",
       "      <td>2020-02-25</td>\n",
       "      <td>0</td>\n",
       "      <td>0</td>\n",
       "      <td>0,00000000000000e+00</td>\n",
       "      <td>0,000000000000000</td>\n",
       "      <td>0</td>\n",
       "      <td>...</td>\n",
       "      <td>São José do Rio Preto</td>\n",
       "      <td>15</td>\n",
       "      <td>3447</td>\n",
       "      <td>761</td>\n",
       "      <td>21106</td>\n",
       "      <td>0</td>\n",
       "      <td>8.0</td>\n",
       "      <td>-21,2325</td>\n",
       "      <td>-49,6451</td>\n",
       "      <td>9</td>\n",
       "    </tr>\n",
       "    <tr>\n",
       "      <th>2</th>\n",
       "      <td>Aguaí</td>\n",
       "      <td>3500303</td>\n",
       "      <td>25</td>\n",
       "      <td>2</td>\n",
       "      <td>2020-02-25</td>\n",
       "      <td>0</td>\n",
       "      <td>0</td>\n",
       "      <td>0,00000000000000e+00</td>\n",
       "      <td>0,000000000000000</td>\n",
       "      <td>0</td>\n",
       "      <td>...</td>\n",
       "      <td>São João da Boa Vista</td>\n",
       "      <td>14</td>\n",
       "      <td>35608</td>\n",
       "      <td>5245</td>\n",
       "      <td>47455</td>\n",
       "      <td>0</td>\n",
       "      <td>8.0</td>\n",
       "      <td>-22,0572</td>\n",
       "      <td>-46,9735</td>\n",
       "      <td>9</td>\n",
       "    </tr>\n",
       "    <tr>\n",
       "      <th>3</th>\n",
       "      <td>Águas da Prata</td>\n",
       "      <td>3500402</td>\n",
       "      <td>25</td>\n",
       "      <td>2</td>\n",
       "      <td>2020-02-25</td>\n",
       "      <td>0</td>\n",
       "      <td>0</td>\n",
       "      <td>0,00000000000000e+00</td>\n",
       "      <td>0,000000000000000</td>\n",
       "      <td>0</td>\n",
       "      <td>...</td>\n",
       "      <td>São João da Boa Vista</td>\n",
       "      <td>14</td>\n",
       "      <td>7797</td>\n",
       "      <td>1729</td>\n",
       "      <td>14267</td>\n",
       "      <td>0</td>\n",
       "      <td>8.0</td>\n",
       "      <td>-21,9319</td>\n",
       "      <td>-46,7176</td>\n",
       "      <td>9</td>\n",
       "    </tr>\n",
       "  </tbody>\n",
       "</table>\n",
       "<p>4 rows × 25 columns</p>\n",
       "</div>"
      ],
      "text/plain": [
       "        Município  codigo_ibge  dia  mes        Data  casos  casos_novos  \\\n",
       "0      Adamantina      3500105   25    2  2020-02-25      0            0   \n",
       "1          Adolfo      3500204   25    2  2020-02-25      0            0   \n",
       "2           Aguaí      3500303   25    2  2020-02-25      0            0   \n",
       "3  Águas da Prata      3500402   25    2  2020-02-25      0            0   \n",
       "\n",
       "               casos_pc         casos_mm7d  obitos  ...  \\\n",
       "0  0,00000000000000e+00  0,000000000000000       0  ...   \n",
       "1  0,00000000000000e+00  0,000000000000000       0  ...   \n",
       "2  0,00000000000000e+00  0,000000000000000       0  ...   \n",
       "3  0,00000000000000e+00  0,000000000000000       0  ...   \n",
       "\n",
       "                nome_drs cod_drs    pop pop_60   area map_leg  map_leg_s  \\\n",
       "0                Marília       5  33894   7398  41199       0        8.0   \n",
       "1  São José do Rio Preto      15   3447    761  21106       0        8.0   \n",
       "2  São João da Boa Vista      14  35608   5245  47455       0        8.0   \n",
       "3  São João da Boa Vista      14   7797   1729  14267       0        8.0   \n",
       "\n",
       "   latitude  longitude  semana_epidem  \n",
       "0  -21,6820   -51,0737              9  \n",
       "1  -21,2325   -49,6451              9  \n",
       "2  -22,0572   -46,9735              9  \n",
       "3  -21,9319   -46,7176              9  \n",
       "\n",
       "[4 rows x 25 columns]"
      ]
     },
     "execution_count": 128,
     "metadata": {},
     "output_type": "execute_result"
    }
   ],
   "source": [
    "covid_alter.head(4)"
   ]
  },
  {
   "cell_type": "code",
   "execution_count": 129,
   "id": "51593ea6",
   "metadata": {},
   "outputs": [
    {
     "data": {
      "text/plain": [
       "(374034, 25)"
      ]
     },
     "execution_count": 129,
     "metadata": {},
     "output_type": "execute_result"
    }
   ],
   "source": [
    "covid_alter.shape"
   ]
  },
  {
   "cell_type": "markdown",
   "id": "024527d1",
   "metadata": {},
   "source": [
    "Alterando direto dentro do dataset sem criar cópia\n",
    "\n",
    "axis = 0 para linhas\n",
    "axis = 1 para colunas \n",
    "\n",
    "O índice da coluna entre colchetes duplos [[1]]\n",
    "\n",
    "Aqui exclui a coluna/variável pelo índice dela começando em 0\n",
    "\n",
    "\n",
    "Exclui codigo_ibge\n"
   ]
  },
  {
   "cell_type": "code",
   "execution_count": 130,
   "id": "aea21a2a",
   "metadata": {},
   "outputs": [
    {
     "data": {
      "application/vnd.microsoft.datawrangler.viewer.v0+json": {
       "columns": [
        {
         "name": "index",
         "rawType": "int64",
         "type": "integer"
        },
        {
         "name": "Município",
         "rawType": "object",
         "type": "string"
        },
        {
         "name": "dia",
         "rawType": "int64",
         "type": "integer"
        },
        {
         "name": "mes",
         "rawType": "int64",
         "type": "integer"
        },
        {
         "name": "Data",
         "rawType": "object",
         "type": "string"
        },
        {
         "name": "casos",
         "rawType": "int64",
         "type": "integer"
        },
        {
         "name": "casos_novos",
         "rawType": "int64",
         "type": "integer"
        },
        {
         "name": "casos_pc",
         "rawType": "object",
         "type": "string"
        },
        {
         "name": "casos_mm7d",
         "rawType": "object",
         "type": "string"
        },
        {
         "name": "obitos",
         "rawType": "int64",
         "type": "integer"
        },
        {
         "name": "obitos_novos",
         "rawType": "int64",
         "type": "integer"
        },
        {
         "name": "obitos_pc",
         "rawType": "object",
         "type": "string"
        },
        {
         "name": "obitos_mm7d",
         "rawType": "object",
         "type": "string"
        },
        {
         "name": "letalidade",
         "rawType": "object",
         "type": "string"
        },
        {
         "name": "nome_ra",
         "rawType": "object",
         "type": "string"
        },
        {
         "name": "nome_drs",
         "rawType": "object",
         "type": "string"
        },
        {
         "name": "cod_drs",
         "rawType": "int64",
         "type": "integer"
        },
        {
         "name": "pop",
         "rawType": "int64",
         "type": "integer"
        },
        {
         "name": "pop_60",
         "rawType": "int64",
         "type": "integer"
        },
        {
         "name": "area",
         "rawType": "int64",
         "type": "integer"
        },
        {
         "name": "map_leg",
         "rawType": "object",
         "type": "string"
        },
        {
         "name": "map_leg_s",
         "rawType": "float64",
         "type": "float"
        },
        {
         "name": "latitude",
         "rawType": "object",
         "type": "string"
        },
        {
         "name": "longitude",
         "rawType": "object",
         "type": "string"
        },
        {
         "name": "semana_epidem",
         "rawType": "int64",
         "type": "integer"
        }
       ],
       "ref": "44091b4d-20e9-4dea-b90c-f8684f1b322a",
       "rows": [
        [
         "0",
         "Adamantina",
         "25",
         "2",
         "2020-02-25",
         "0",
         "0",
         "0,00000000000000e+00",
         "0,000000000000000",
         "0",
         "0",
         "0,00000000000000e+00",
         "0,000000000000000",
         "0,000000000000000000",
         "RA de Presidente Prudente",
         "Marília",
         "5",
         "33894",
         "7398",
         "41199",
         "0",
         "8.0",
         "-21,6820",
         "-51,0737",
         "9"
        ],
        [
         "1",
         "Adolfo",
         "25",
         "2",
         "2020-02-25",
         "0",
         "0",
         "0,00000000000000e+00",
         "0,000000000000000",
         "0",
         "0",
         "0,00000000000000e+00",
         "0,000000000000000",
         "0,000000000000000000",
         "RA de São José do Rio Preto",
         "São José do Rio Preto",
         "15",
         "3447",
         "761",
         "21106",
         "0",
         "8.0",
         "-21,2325",
         "-49,6451",
         "9"
        ],
        [
         "2",
         "Aguaí",
         "25",
         "2",
         "2020-02-25",
         "0",
         "0",
         "0,00000000000000e+00",
         "0,000000000000000",
         "0",
         "0",
         "0,00000000000000e+00",
         "0,000000000000000",
         "0,000000000000000000",
         "RA de Campinas",
         "São João da Boa Vista",
         "14",
         "35608",
         "5245",
         "47455",
         "0",
         "8.0",
         "-22,0572",
         "-46,9735",
         "9"
        ],
        [
         "3",
         "Águas da Prata",
         "25",
         "2",
         "2020-02-25",
         "0",
         "0",
         "0,00000000000000e+00",
         "0,000000000000000",
         "0",
         "0",
         "0,00000000000000e+00",
         "0,000000000000000",
         "0,000000000000000000",
         "RA de Campinas",
         "São João da Boa Vista",
         "14",
         "7797",
         "1729",
         "14267",
         "0",
         "8.0",
         "-21,9319",
         "-46,7176",
         "9"
        ],
        [
         "4",
         "Águas de Lindóia",
         "25",
         "2",
         "2020-02-25",
         "0",
         "0",
         "0,00000000000000e+00",
         "0,000000000000000",
         "0",
         "0",
         "0,00000000000000e+00",
         "0,000000000000000",
         "0,000000000000000000",
         "RA de Campinas",
         "Campinas",
         "3",
         "18374",
         "3275",
         "6013",
         "0",
         "8.0",
         "-22,4733",
         "-46,6314",
         "9"
        ]
       ],
       "shape": {
        "columns": 24,
        "rows": 5
       }
      },
      "text/html": [
       "<div>\n",
       "<style scoped>\n",
       "    .dataframe tbody tr th:only-of-type {\n",
       "        vertical-align: middle;\n",
       "    }\n",
       "\n",
       "    .dataframe tbody tr th {\n",
       "        vertical-align: top;\n",
       "    }\n",
       "\n",
       "    .dataframe thead th {\n",
       "        text-align: right;\n",
       "    }\n",
       "</style>\n",
       "<table border=\"1\" class=\"dataframe\">\n",
       "  <thead>\n",
       "    <tr style=\"text-align: right;\">\n",
       "      <th></th>\n",
       "      <th>Município</th>\n",
       "      <th>dia</th>\n",
       "      <th>mes</th>\n",
       "      <th>Data</th>\n",
       "      <th>casos</th>\n",
       "      <th>casos_novos</th>\n",
       "      <th>casos_pc</th>\n",
       "      <th>casos_mm7d</th>\n",
       "      <th>obitos</th>\n",
       "      <th>obitos_novos</th>\n",
       "      <th>...</th>\n",
       "      <th>nome_drs</th>\n",
       "      <th>cod_drs</th>\n",
       "      <th>pop</th>\n",
       "      <th>pop_60</th>\n",
       "      <th>area</th>\n",
       "      <th>map_leg</th>\n",
       "      <th>map_leg_s</th>\n",
       "      <th>latitude</th>\n",
       "      <th>longitude</th>\n",
       "      <th>semana_epidem</th>\n",
       "    </tr>\n",
       "  </thead>\n",
       "  <tbody>\n",
       "    <tr>\n",
       "      <th>0</th>\n",
       "      <td>Adamantina</td>\n",
       "      <td>25</td>\n",
       "      <td>2</td>\n",
       "      <td>2020-02-25</td>\n",
       "      <td>0</td>\n",
       "      <td>0</td>\n",
       "      <td>0,00000000000000e+00</td>\n",
       "      <td>0,000000000000000</td>\n",
       "      <td>0</td>\n",
       "      <td>0</td>\n",
       "      <td>...</td>\n",
       "      <td>Marília</td>\n",
       "      <td>5</td>\n",
       "      <td>33894</td>\n",
       "      <td>7398</td>\n",
       "      <td>41199</td>\n",
       "      <td>0</td>\n",
       "      <td>8.0</td>\n",
       "      <td>-21,6820</td>\n",
       "      <td>-51,0737</td>\n",
       "      <td>9</td>\n",
       "    </tr>\n",
       "    <tr>\n",
       "      <th>1</th>\n",
       "      <td>Adolfo</td>\n",
       "      <td>25</td>\n",
       "      <td>2</td>\n",
       "      <td>2020-02-25</td>\n",
       "      <td>0</td>\n",
       "      <td>0</td>\n",
       "      <td>0,00000000000000e+00</td>\n",
       "      <td>0,000000000000000</td>\n",
       "      <td>0</td>\n",
       "      <td>0</td>\n",
       "      <td>...</td>\n",
       "      <td>São José do Rio Preto</td>\n",
       "      <td>15</td>\n",
       "      <td>3447</td>\n",
       "      <td>761</td>\n",
       "      <td>21106</td>\n",
       "      <td>0</td>\n",
       "      <td>8.0</td>\n",
       "      <td>-21,2325</td>\n",
       "      <td>-49,6451</td>\n",
       "      <td>9</td>\n",
       "    </tr>\n",
       "    <tr>\n",
       "      <th>2</th>\n",
       "      <td>Aguaí</td>\n",
       "      <td>25</td>\n",
       "      <td>2</td>\n",
       "      <td>2020-02-25</td>\n",
       "      <td>0</td>\n",
       "      <td>0</td>\n",
       "      <td>0,00000000000000e+00</td>\n",
       "      <td>0,000000000000000</td>\n",
       "      <td>0</td>\n",
       "      <td>0</td>\n",
       "      <td>...</td>\n",
       "      <td>São João da Boa Vista</td>\n",
       "      <td>14</td>\n",
       "      <td>35608</td>\n",
       "      <td>5245</td>\n",
       "      <td>47455</td>\n",
       "      <td>0</td>\n",
       "      <td>8.0</td>\n",
       "      <td>-22,0572</td>\n",
       "      <td>-46,9735</td>\n",
       "      <td>9</td>\n",
       "    </tr>\n",
       "    <tr>\n",
       "      <th>3</th>\n",
       "      <td>Águas da Prata</td>\n",
       "      <td>25</td>\n",
       "      <td>2</td>\n",
       "      <td>2020-02-25</td>\n",
       "      <td>0</td>\n",
       "      <td>0</td>\n",
       "      <td>0,00000000000000e+00</td>\n",
       "      <td>0,000000000000000</td>\n",
       "      <td>0</td>\n",
       "      <td>0</td>\n",
       "      <td>...</td>\n",
       "      <td>São João da Boa Vista</td>\n",
       "      <td>14</td>\n",
       "      <td>7797</td>\n",
       "      <td>1729</td>\n",
       "      <td>14267</td>\n",
       "      <td>0</td>\n",
       "      <td>8.0</td>\n",
       "      <td>-21,9319</td>\n",
       "      <td>-46,7176</td>\n",
       "      <td>9</td>\n",
       "    </tr>\n",
       "    <tr>\n",
       "      <th>4</th>\n",
       "      <td>Águas de Lindóia</td>\n",
       "      <td>25</td>\n",
       "      <td>2</td>\n",
       "      <td>2020-02-25</td>\n",
       "      <td>0</td>\n",
       "      <td>0</td>\n",
       "      <td>0,00000000000000e+00</td>\n",
       "      <td>0,000000000000000</td>\n",
       "      <td>0</td>\n",
       "      <td>0</td>\n",
       "      <td>...</td>\n",
       "      <td>Campinas</td>\n",
       "      <td>3</td>\n",
       "      <td>18374</td>\n",
       "      <td>3275</td>\n",
       "      <td>6013</td>\n",
       "      <td>0</td>\n",
       "      <td>8.0</td>\n",
       "      <td>-22,4733</td>\n",
       "      <td>-46,6314</td>\n",
       "      <td>9</td>\n",
       "    </tr>\n",
       "  </tbody>\n",
       "</table>\n",
       "<p>5 rows × 24 columns</p>\n",
       "</div>"
      ],
      "text/plain": [
       "          Município  dia  mes        Data  casos  casos_novos  \\\n",
       "0        Adamantina   25    2  2020-02-25      0            0   \n",
       "1            Adolfo   25    2  2020-02-25      0            0   \n",
       "2             Aguaí   25    2  2020-02-25      0            0   \n",
       "3    Águas da Prata   25    2  2020-02-25      0            0   \n",
       "4  Águas de Lindóia   25    2  2020-02-25      0            0   \n",
       "\n",
       "               casos_pc         casos_mm7d  obitos  obitos_novos  ...  \\\n",
       "0  0,00000000000000e+00  0,000000000000000       0             0  ...   \n",
       "1  0,00000000000000e+00  0,000000000000000       0             0  ...   \n",
       "2  0,00000000000000e+00  0,000000000000000       0             0  ...   \n",
       "3  0,00000000000000e+00  0,000000000000000       0             0  ...   \n",
       "4  0,00000000000000e+00  0,000000000000000       0             0  ...   \n",
       "\n",
       "                nome_drs cod_drs    pop pop_60   area  map_leg  map_leg_s  \\\n",
       "0                Marília       5  33894   7398  41199        0        8.0   \n",
       "1  São José do Rio Preto      15   3447    761  21106        0        8.0   \n",
       "2  São João da Boa Vista      14  35608   5245  47455        0        8.0   \n",
       "3  São João da Boa Vista      14   7797   1729  14267        0        8.0   \n",
       "4               Campinas       3  18374   3275   6013        0        8.0   \n",
       "\n",
       "   latitude  longitude semana_epidem  \n",
       "0  -21,6820   -51,0737             9  \n",
       "1  -21,2325   -49,6451             9  \n",
       "2  -22,0572   -46,9735             9  \n",
       "3  -21,9319   -46,7176             9  \n",
       "4  -22,4733   -46,6314             9  \n",
       "\n",
       "[5 rows x 24 columns]"
      ]
     },
     "execution_count": 130,
     "metadata": {},
     "output_type": "execute_result"
    }
   ],
   "source": [
    "covid_alter = covid_alter.drop(covid_alter.columns[[1]], axis=1)\n",
    "covid_alter.head(5)"
   ]
  },
  {
   "cell_type": "markdown",
   "id": "9b88a882",
   "metadata": {},
   "source": [
    "Aqui apaga pelo nome da coluna/variável"
   ]
  },
  {
   "cell_type": "code",
   "execution_count": 131,
   "id": "d97e0001",
   "metadata": {},
   "outputs": [
    {
     "data": {
      "text/plain": [
       "(374034, 21)"
      ]
     },
     "execution_count": 131,
     "metadata": {},
     "output_type": "execute_result"
    }
   ],
   "source": [
    "covid_alter.drop(columns=['cod_drs', 'map_leg', 'map_leg_s'], inplace=True)\n",
    "covid_alter.shape"
   ]
  },
  {
   "cell_type": "markdown",
   "id": "74ea5c71",
   "metadata": {},
   "source": [
    "#### Altera o valor da área"
   ]
  },
  {
   "cell_type": "markdown",
   "id": "f74646b4",
   "metadata": {},
   "source": [
    "Aqui altera o valor da variável área, fazendo a divisão por 100\n"
   ]
  },
  {
   "cell_type": "code",
   "execution_count": 132,
   "id": "d6971359",
   "metadata": {},
   "outputs": [],
   "source": [
    "#covid_alter = covid_alter.area / 100 # Das duas formas funciona\n",
    "covid_alter['area'] = covid_alter['area'] / 100"
   ]
  },
  {
   "cell_type": "code",
   "execution_count": 133,
   "id": "3fd97259",
   "metadata": {},
   "outputs": [
    {
     "data": {
      "application/vnd.microsoft.datawrangler.viewer.v0+json": {
       "columns": [
        {
         "name": "index",
         "rawType": "int64",
         "type": "integer"
        },
        {
         "name": "Município",
         "rawType": "object",
         "type": "string"
        },
        {
         "name": "dia",
         "rawType": "int64",
         "type": "integer"
        },
        {
         "name": "mes",
         "rawType": "int64",
         "type": "integer"
        },
        {
         "name": "Data",
         "rawType": "object",
         "type": "string"
        },
        {
         "name": "casos",
         "rawType": "int64",
         "type": "integer"
        },
        {
         "name": "casos_novos",
         "rawType": "int64",
         "type": "integer"
        },
        {
         "name": "casos_pc",
         "rawType": "object",
         "type": "string"
        },
        {
         "name": "casos_mm7d",
         "rawType": "object",
         "type": "string"
        },
        {
         "name": "obitos",
         "rawType": "int64",
         "type": "integer"
        },
        {
         "name": "obitos_novos",
         "rawType": "int64",
         "type": "integer"
        },
        {
         "name": "obitos_pc",
         "rawType": "object",
         "type": "string"
        },
        {
         "name": "obitos_mm7d",
         "rawType": "object",
         "type": "string"
        },
        {
         "name": "letalidade",
         "rawType": "object",
         "type": "string"
        },
        {
         "name": "nome_ra",
         "rawType": "object",
         "type": "string"
        },
        {
         "name": "nome_drs",
         "rawType": "object",
         "type": "string"
        },
        {
         "name": "pop",
         "rawType": "int64",
         "type": "integer"
        },
        {
         "name": "pop_60",
         "rawType": "int64",
         "type": "integer"
        },
        {
         "name": "area",
         "rawType": "float64",
         "type": "float"
        },
        {
         "name": "latitude",
         "rawType": "object",
         "type": "string"
        },
        {
         "name": "longitude",
         "rawType": "object",
         "type": "string"
        },
        {
         "name": "semana_epidem",
         "rawType": "int64",
         "type": "integer"
        }
       ],
       "ref": "270998dc-d0f7-4a84-b112-444d4a38c27b",
       "rows": [
        [
         "0",
         "Adamantina",
         "25",
         "2",
         "2020-02-25",
         "0",
         "0",
         "0,00000000000000e+00",
         "0,000000000000000",
         "0",
         "0",
         "0,00000000000000e+00",
         "0,000000000000000",
         "0,000000000000000000",
         "RA de Presidente Prudente",
         "Marília",
         "33894",
         "7398",
         "411.99",
         "-21,6820",
         "-51,0737",
         "9"
        ],
        [
         "1",
         "Adolfo",
         "25",
         "2",
         "2020-02-25",
         "0",
         "0",
         "0,00000000000000e+00",
         "0,000000000000000",
         "0",
         "0",
         "0,00000000000000e+00",
         "0,000000000000000",
         "0,000000000000000000",
         "RA de São José do Rio Preto",
         "São José do Rio Preto",
         "3447",
         "761",
         "211.06",
         "-21,2325",
         "-49,6451",
         "9"
        ],
        [
         "2",
         "Aguaí",
         "25",
         "2",
         "2020-02-25",
         "0",
         "0",
         "0,00000000000000e+00",
         "0,000000000000000",
         "0",
         "0",
         "0,00000000000000e+00",
         "0,000000000000000",
         "0,000000000000000000",
         "RA de Campinas",
         "São João da Boa Vista",
         "35608",
         "5245",
         "474.55",
         "-22,0572",
         "-46,9735",
         "9"
        ],
        [
         "3",
         "Águas da Prata",
         "25",
         "2",
         "2020-02-25",
         "0",
         "0",
         "0,00000000000000e+00",
         "0,000000000000000",
         "0",
         "0",
         "0,00000000000000e+00",
         "0,000000000000000",
         "0,000000000000000000",
         "RA de Campinas",
         "São João da Boa Vista",
         "7797",
         "1729",
         "142.67",
         "-21,9319",
         "-46,7176",
         "9"
        ],
        [
         "4",
         "Águas de Lindóia",
         "25",
         "2",
         "2020-02-25",
         "0",
         "0",
         "0,00000000000000e+00",
         "0,000000000000000",
         "0",
         "0",
         "0,00000000000000e+00",
         "0,000000000000000",
         "0,000000000000000000",
         "RA de Campinas",
         "Campinas",
         "18374",
         "3275",
         "60.13",
         "-22,4733",
         "-46,6314",
         "9"
        ]
       ],
       "shape": {
        "columns": 21,
        "rows": 5
       }
      },
      "text/html": [
       "<div>\n",
       "<style scoped>\n",
       "    .dataframe tbody tr th:only-of-type {\n",
       "        vertical-align: middle;\n",
       "    }\n",
       "\n",
       "    .dataframe tbody tr th {\n",
       "        vertical-align: top;\n",
       "    }\n",
       "\n",
       "    .dataframe thead th {\n",
       "        text-align: right;\n",
       "    }\n",
       "</style>\n",
       "<table border=\"1\" class=\"dataframe\">\n",
       "  <thead>\n",
       "    <tr style=\"text-align: right;\">\n",
       "      <th></th>\n",
       "      <th>Município</th>\n",
       "      <th>dia</th>\n",
       "      <th>mes</th>\n",
       "      <th>Data</th>\n",
       "      <th>casos</th>\n",
       "      <th>casos_novos</th>\n",
       "      <th>casos_pc</th>\n",
       "      <th>casos_mm7d</th>\n",
       "      <th>obitos</th>\n",
       "      <th>obitos_novos</th>\n",
       "      <th>...</th>\n",
       "      <th>obitos_mm7d</th>\n",
       "      <th>letalidade</th>\n",
       "      <th>nome_ra</th>\n",
       "      <th>nome_drs</th>\n",
       "      <th>pop</th>\n",
       "      <th>pop_60</th>\n",
       "      <th>area</th>\n",
       "      <th>latitude</th>\n",
       "      <th>longitude</th>\n",
       "      <th>semana_epidem</th>\n",
       "    </tr>\n",
       "  </thead>\n",
       "  <tbody>\n",
       "    <tr>\n",
       "      <th>0</th>\n",
       "      <td>Adamantina</td>\n",
       "      <td>25</td>\n",
       "      <td>2</td>\n",
       "      <td>2020-02-25</td>\n",
       "      <td>0</td>\n",
       "      <td>0</td>\n",
       "      <td>0,00000000000000e+00</td>\n",
       "      <td>0,000000000000000</td>\n",
       "      <td>0</td>\n",
       "      <td>0</td>\n",
       "      <td>...</td>\n",
       "      <td>0,000000000000000</td>\n",
       "      <td>0,000000000000000000</td>\n",
       "      <td>RA de Presidente Prudente</td>\n",
       "      <td>Marília</td>\n",
       "      <td>33894</td>\n",
       "      <td>7398</td>\n",
       "      <td>411.99</td>\n",
       "      <td>-21,6820</td>\n",
       "      <td>-51,0737</td>\n",
       "      <td>9</td>\n",
       "    </tr>\n",
       "    <tr>\n",
       "      <th>1</th>\n",
       "      <td>Adolfo</td>\n",
       "      <td>25</td>\n",
       "      <td>2</td>\n",
       "      <td>2020-02-25</td>\n",
       "      <td>0</td>\n",
       "      <td>0</td>\n",
       "      <td>0,00000000000000e+00</td>\n",
       "      <td>0,000000000000000</td>\n",
       "      <td>0</td>\n",
       "      <td>0</td>\n",
       "      <td>...</td>\n",
       "      <td>0,000000000000000</td>\n",
       "      <td>0,000000000000000000</td>\n",
       "      <td>RA de São José do Rio Preto</td>\n",
       "      <td>São José do Rio Preto</td>\n",
       "      <td>3447</td>\n",
       "      <td>761</td>\n",
       "      <td>211.06</td>\n",
       "      <td>-21,2325</td>\n",
       "      <td>-49,6451</td>\n",
       "      <td>9</td>\n",
       "    </tr>\n",
       "    <tr>\n",
       "      <th>2</th>\n",
       "      <td>Aguaí</td>\n",
       "      <td>25</td>\n",
       "      <td>2</td>\n",
       "      <td>2020-02-25</td>\n",
       "      <td>0</td>\n",
       "      <td>0</td>\n",
       "      <td>0,00000000000000e+00</td>\n",
       "      <td>0,000000000000000</td>\n",
       "      <td>0</td>\n",
       "      <td>0</td>\n",
       "      <td>...</td>\n",
       "      <td>0,000000000000000</td>\n",
       "      <td>0,000000000000000000</td>\n",
       "      <td>RA de Campinas</td>\n",
       "      <td>São João da Boa Vista</td>\n",
       "      <td>35608</td>\n",
       "      <td>5245</td>\n",
       "      <td>474.55</td>\n",
       "      <td>-22,0572</td>\n",
       "      <td>-46,9735</td>\n",
       "      <td>9</td>\n",
       "    </tr>\n",
       "    <tr>\n",
       "      <th>3</th>\n",
       "      <td>Águas da Prata</td>\n",
       "      <td>25</td>\n",
       "      <td>2</td>\n",
       "      <td>2020-02-25</td>\n",
       "      <td>0</td>\n",
       "      <td>0</td>\n",
       "      <td>0,00000000000000e+00</td>\n",
       "      <td>0,000000000000000</td>\n",
       "      <td>0</td>\n",
       "      <td>0</td>\n",
       "      <td>...</td>\n",
       "      <td>0,000000000000000</td>\n",
       "      <td>0,000000000000000000</td>\n",
       "      <td>RA de Campinas</td>\n",
       "      <td>São João da Boa Vista</td>\n",
       "      <td>7797</td>\n",
       "      <td>1729</td>\n",
       "      <td>142.67</td>\n",
       "      <td>-21,9319</td>\n",
       "      <td>-46,7176</td>\n",
       "      <td>9</td>\n",
       "    </tr>\n",
       "    <tr>\n",
       "      <th>4</th>\n",
       "      <td>Águas de Lindóia</td>\n",
       "      <td>25</td>\n",
       "      <td>2</td>\n",
       "      <td>2020-02-25</td>\n",
       "      <td>0</td>\n",
       "      <td>0</td>\n",
       "      <td>0,00000000000000e+00</td>\n",
       "      <td>0,000000000000000</td>\n",
       "      <td>0</td>\n",
       "      <td>0</td>\n",
       "      <td>...</td>\n",
       "      <td>0,000000000000000</td>\n",
       "      <td>0,000000000000000000</td>\n",
       "      <td>RA de Campinas</td>\n",
       "      <td>Campinas</td>\n",
       "      <td>18374</td>\n",
       "      <td>3275</td>\n",
       "      <td>60.13</td>\n",
       "      <td>-22,4733</td>\n",
       "      <td>-46,6314</td>\n",
       "      <td>9</td>\n",
       "    </tr>\n",
       "  </tbody>\n",
       "</table>\n",
       "<p>5 rows × 21 columns</p>\n",
       "</div>"
      ],
      "text/plain": [
       "          Município  dia  mes        Data  casos  casos_novos  \\\n",
       "0        Adamantina   25    2  2020-02-25      0            0   \n",
       "1            Adolfo   25    2  2020-02-25      0            0   \n",
       "2             Aguaí   25    2  2020-02-25      0            0   \n",
       "3    Águas da Prata   25    2  2020-02-25      0            0   \n",
       "4  Águas de Lindóia   25    2  2020-02-25      0            0   \n",
       "\n",
       "               casos_pc         casos_mm7d  obitos  obitos_novos  ...  \\\n",
       "0  0,00000000000000e+00  0,000000000000000       0             0  ...   \n",
       "1  0,00000000000000e+00  0,000000000000000       0             0  ...   \n",
       "2  0,00000000000000e+00  0,000000000000000       0             0  ...   \n",
       "3  0,00000000000000e+00  0,000000000000000       0             0  ...   \n",
       "4  0,00000000000000e+00  0,000000000000000       0             0  ...   \n",
       "\n",
       "         obitos_mm7d            letalidade                      nome_ra  \\\n",
       "0  0,000000000000000  0,000000000000000000    RA de Presidente Prudente   \n",
       "1  0,000000000000000  0,000000000000000000  RA de São José do Rio Preto   \n",
       "2  0,000000000000000  0,000000000000000000               RA de Campinas   \n",
       "3  0,000000000000000  0,000000000000000000               RA de Campinas   \n",
       "4  0,000000000000000  0,000000000000000000               RA de Campinas   \n",
       "\n",
       "                nome_drs    pop  pop_60    area  latitude longitude  \\\n",
       "0                Marília  33894    7398  411.99  -21,6820  -51,0737   \n",
       "1  São José do Rio Preto   3447     761  211.06  -21,2325  -49,6451   \n",
       "2  São João da Boa Vista  35608    5245  474.55  -22,0572  -46,9735   \n",
       "3  São João da Boa Vista   7797    1729  142.67  -21,9319  -46,7176   \n",
       "4               Campinas  18374    3275   60.13  -22,4733  -46,6314   \n",
       "\n",
       "  semana_epidem  \n",
       "0             9  \n",
       "1             9  \n",
       "2             9  \n",
       "3             9  \n",
       "4             9  \n",
       "\n",
       "[5 rows x 21 columns]"
      ]
     },
     "execution_count": 133,
     "metadata": {},
     "output_type": "execute_result"
    }
   ],
   "source": [
    "covid_alter.head(5)"
   ]
  },
  {
   "cell_type": "markdown",
   "id": "ee72b11b",
   "metadata": {},
   "source": [
    "#### Cria coluna\n",
    "\n",
    "Com base na população / a área se chega na densidade por km²\n"
   ]
  },
  {
   "cell_type": "code",
   "execution_count": 134,
   "id": "448d40db",
   "metadata": {},
   "outputs": [
    {
     "data": {
      "application/vnd.microsoft.datawrangler.viewer.v0+json": {
       "columns": [
        {
         "name": "index",
         "rawType": "int64",
         "type": "integer"
        },
        {
         "name": "Município",
         "rawType": "object",
         "type": "string"
        },
        {
         "name": "dia",
         "rawType": "int64",
         "type": "integer"
        },
        {
         "name": "mes",
         "rawType": "int64",
         "type": "integer"
        },
        {
         "name": "Data",
         "rawType": "object",
         "type": "string"
        },
        {
         "name": "casos",
         "rawType": "int64",
         "type": "integer"
        },
        {
         "name": "casos_novos",
         "rawType": "int64",
         "type": "integer"
        },
        {
         "name": "casos_pc",
         "rawType": "object",
         "type": "string"
        },
        {
         "name": "casos_mm7d",
         "rawType": "object",
         "type": "string"
        },
        {
         "name": "obitos",
         "rawType": "int64",
         "type": "integer"
        },
        {
         "name": "obitos_novos",
         "rawType": "int64",
         "type": "integer"
        },
        {
         "name": "obitos_pc",
         "rawType": "object",
         "type": "string"
        },
        {
         "name": "obitos_mm7d",
         "rawType": "object",
         "type": "string"
        },
        {
         "name": "letalidade",
         "rawType": "object",
         "type": "string"
        },
        {
         "name": "nome_ra",
         "rawType": "object",
         "type": "string"
        },
        {
         "name": "nome_drs",
         "rawType": "object",
         "type": "string"
        },
        {
         "name": "pop",
         "rawType": "int64",
         "type": "integer"
        },
        {
         "name": "pop_60",
         "rawType": "int64",
         "type": "integer"
        },
        {
         "name": "area",
         "rawType": "float64",
         "type": "float"
        },
        {
         "name": "latitude",
         "rawType": "object",
         "type": "string"
        },
        {
         "name": "longitude",
         "rawType": "object",
         "type": "string"
        },
        {
         "name": "semana_epidem",
         "rawType": "int64",
         "type": "integer"
        },
        {
         "name": "densidade",
         "rawType": "float64",
         "type": "float"
        }
       ],
       "ref": "386656b2-960f-476e-a491-28a2bb045fe1",
       "rows": [
        [
         "0",
         "Adamantina",
         "25",
         "2",
         "2020-02-25",
         "0",
         "0",
         "0,00000000000000e+00",
         "0,000000000000000",
         "0",
         "0",
         "0,00000000000000e+00",
         "0,000000000000000",
         "0,000000000000000000",
         "RA de Presidente Prudente",
         "Marília",
         "33894",
         "7398",
         "411.99",
         "-21,6820",
         "-51,0737",
         "9",
         "82.26898711133765"
        ],
        [
         "1",
         "Adolfo",
         "25",
         "2",
         "2020-02-25",
         "0",
         "0",
         "0,00000000000000e+00",
         "0,000000000000000",
         "0",
         "0",
         "0,00000000000000e+00",
         "0,000000000000000",
         "0,000000000000000000",
         "RA de São José do Rio Preto",
         "São José do Rio Preto",
         "3447",
         "761",
         "211.06",
         "-21,2325",
         "-49,6451",
         "9",
         "16.33184876338482"
        ],
        [
         "2",
         "Aguaí",
         "25",
         "2",
         "2020-02-25",
         "0",
         "0",
         "0,00000000000000e+00",
         "0,000000000000000",
         "0",
         "0",
         "0,00000000000000e+00",
         "0,000000000000000",
         "0,000000000000000000",
         "RA de Campinas",
         "São João da Boa Vista",
         "35608",
         "5245",
         "474.55",
         "-22,0572",
         "-46,9735",
         "9",
         "75.0352965967759"
        ],
        [
         "3",
         "Águas da Prata",
         "25",
         "2",
         "2020-02-25",
         "0",
         "0",
         "0,00000000000000e+00",
         "0,000000000000000",
         "0",
         "0",
         "0,00000000000000e+00",
         "0,000000000000000",
         "0,000000000000000000",
         "RA de Campinas",
         "São João da Boa Vista",
         "7797",
         "1729",
         "142.67",
         "-21,9319",
         "-46,7176",
         "9",
         "54.65059227588141"
        ],
        [
         "4",
         "Águas de Lindóia",
         "25",
         "2",
         "2020-02-25",
         "0",
         "0",
         "0,00000000000000e+00",
         "0,000000000000000",
         "0",
         "0",
         "0,00000000000000e+00",
         "0,000000000000000",
         "0,000000000000000000",
         "RA de Campinas",
         "Campinas",
         "18374",
         "3275",
         "60.13",
         "-22,4733",
         "-46,6314",
         "9",
         "305.5712622650923"
        ]
       ],
       "shape": {
        "columns": 22,
        "rows": 5
       }
      },
      "text/html": [
       "<div>\n",
       "<style scoped>\n",
       "    .dataframe tbody tr th:only-of-type {\n",
       "        vertical-align: middle;\n",
       "    }\n",
       "\n",
       "    .dataframe tbody tr th {\n",
       "        vertical-align: top;\n",
       "    }\n",
       "\n",
       "    .dataframe thead th {\n",
       "        text-align: right;\n",
       "    }\n",
       "</style>\n",
       "<table border=\"1\" class=\"dataframe\">\n",
       "  <thead>\n",
       "    <tr style=\"text-align: right;\">\n",
       "      <th></th>\n",
       "      <th>Município</th>\n",
       "      <th>dia</th>\n",
       "      <th>mes</th>\n",
       "      <th>Data</th>\n",
       "      <th>casos</th>\n",
       "      <th>casos_novos</th>\n",
       "      <th>casos_pc</th>\n",
       "      <th>casos_mm7d</th>\n",
       "      <th>obitos</th>\n",
       "      <th>obitos_novos</th>\n",
       "      <th>...</th>\n",
       "      <th>letalidade</th>\n",
       "      <th>nome_ra</th>\n",
       "      <th>nome_drs</th>\n",
       "      <th>pop</th>\n",
       "      <th>pop_60</th>\n",
       "      <th>area</th>\n",
       "      <th>latitude</th>\n",
       "      <th>longitude</th>\n",
       "      <th>semana_epidem</th>\n",
       "      <th>densidade</th>\n",
       "    </tr>\n",
       "  </thead>\n",
       "  <tbody>\n",
       "    <tr>\n",
       "      <th>0</th>\n",
       "      <td>Adamantina</td>\n",
       "      <td>25</td>\n",
       "      <td>2</td>\n",
       "      <td>2020-02-25</td>\n",
       "      <td>0</td>\n",
       "      <td>0</td>\n",
       "      <td>0,00000000000000e+00</td>\n",
       "      <td>0,000000000000000</td>\n",
       "      <td>0</td>\n",
       "      <td>0</td>\n",
       "      <td>...</td>\n",
       "      <td>0,000000000000000000</td>\n",
       "      <td>RA de Presidente Prudente</td>\n",
       "      <td>Marília</td>\n",
       "      <td>33894</td>\n",
       "      <td>7398</td>\n",
       "      <td>411.99</td>\n",
       "      <td>-21,6820</td>\n",
       "      <td>-51,0737</td>\n",
       "      <td>9</td>\n",
       "      <td>82.268987</td>\n",
       "    </tr>\n",
       "    <tr>\n",
       "      <th>1</th>\n",
       "      <td>Adolfo</td>\n",
       "      <td>25</td>\n",
       "      <td>2</td>\n",
       "      <td>2020-02-25</td>\n",
       "      <td>0</td>\n",
       "      <td>0</td>\n",
       "      <td>0,00000000000000e+00</td>\n",
       "      <td>0,000000000000000</td>\n",
       "      <td>0</td>\n",
       "      <td>0</td>\n",
       "      <td>...</td>\n",
       "      <td>0,000000000000000000</td>\n",
       "      <td>RA de São José do Rio Preto</td>\n",
       "      <td>São José do Rio Preto</td>\n",
       "      <td>3447</td>\n",
       "      <td>761</td>\n",
       "      <td>211.06</td>\n",
       "      <td>-21,2325</td>\n",
       "      <td>-49,6451</td>\n",
       "      <td>9</td>\n",
       "      <td>16.331849</td>\n",
       "    </tr>\n",
       "    <tr>\n",
       "      <th>2</th>\n",
       "      <td>Aguaí</td>\n",
       "      <td>25</td>\n",
       "      <td>2</td>\n",
       "      <td>2020-02-25</td>\n",
       "      <td>0</td>\n",
       "      <td>0</td>\n",
       "      <td>0,00000000000000e+00</td>\n",
       "      <td>0,000000000000000</td>\n",
       "      <td>0</td>\n",
       "      <td>0</td>\n",
       "      <td>...</td>\n",
       "      <td>0,000000000000000000</td>\n",
       "      <td>RA de Campinas</td>\n",
       "      <td>São João da Boa Vista</td>\n",
       "      <td>35608</td>\n",
       "      <td>5245</td>\n",
       "      <td>474.55</td>\n",
       "      <td>-22,0572</td>\n",
       "      <td>-46,9735</td>\n",
       "      <td>9</td>\n",
       "      <td>75.035297</td>\n",
       "    </tr>\n",
       "    <tr>\n",
       "      <th>3</th>\n",
       "      <td>Águas da Prata</td>\n",
       "      <td>25</td>\n",
       "      <td>2</td>\n",
       "      <td>2020-02-25</td>\n",
       "      <td>0</td>\n",
       "      <td>0</td>\n",
       "      <td>0,00000000000000e+00</td>\n",
       "      <td>0,000000000000000</td>\n",
       "      <td>0</td>\n",
       "      <td>0</td>\n",
       "      <td>...</td>\n",
       "      <td>0,000000000000000000</td>\n",
       "      <td>RA de Campinas</td>\n",
       "      <td>São João da Boa Vista</td>\n",
       "      <td>7797</td>\n",
       "      <td>1729</td>\n",
       "      <td>142.67</td>\n",
       "      <td>-21,9319</td>\n",
       "      <td>-46,7176</td>\n",
       "      <td>9</td>\n",
       "      <td>54.650592</td>\n",
       "    </tr>\n",
       "    <tr>\n",
       "      <th>4</th>\n",
       "      <td>Águas de Lindóia</td>\n",
       "      <td>25</td>\n",
       "      <td>2</td>\n",
       "      <td>2020-02-25</td>\n",
       "      <td>0</td>\n",
       "      <td>0</td>\n",
       "      <td>0,00000000000000e+00</td>\n",
       "      <td>0,000000000000000</td>\n",
       "      <td>0</td>\n",
       "      <td>0</td>\n",
       "      <td>...</td>\n",
       "      <td>0,000000000000000000</td>\n",
       "      <td>RA de Campinas</td>\n",
       "      <td>Campinas</td>\n",
       "      <td>18374</td>\n",
       "      <td>3275</td>\n",
       "      <td>60.13</td>\n",
       "      <td>-22,4733</td>\n",
       "      <td>-46,6314</td>\n",
       "      <td>9</td>\n",
       "      <td>305.571262</td>\n",
       "    </tr>\n",
       "  </tbody>\n",
       "</table>\n",
       "<p>5 rows × 22 columns</p>\n",
       "</div>"
      ],
      "text/plain": [
       "          Município  dia  mes        Data  casos  casos_novos  \\\n",
       "0        Adamantina   25    2  2020-02-25      0            0   \n",
       "1            Adolfo   25    2  2020-02-25      0            0   \n",
       "2             Aguaí   25    2  2020-02-25      0            0   \n",
       "3    Águas da Prata   25    2  2020-02-25      0            0   \n",
       "4  Águas de Lindóia   25    2  2020-02-25      0            0   \n",
       "\n",
       "               casos_pc         casos_mm7d  obitos  obitos_novos  ...  \\\n",
       "0  0,00000000000000e+00  0,000000000000000       0             0  ...   \n",
       "1  0,00000000000000e+00  0,000000000000000       0             0  ...   \n",
       "2  0,00000000000000e+00  0,000000000000000       0             0  ...   \n",
       "3  0,00000000000000e+00  0,000000000000000       0             0  ...   \n",
       "4  0,00000000000000e+00  0,000000000000000       0             0  ...   \n",
       "\n",
       "             letalidade                      nome_ra               nome_drs  \\\n",
       "0  0,000000000000000000    RA de Presidente Prudente                Marília   \n",
       "1  0,000000000000000000  RA de São José do Rio Preto  São José do Rio Preto   \n",
       "2  0,000000000000000000               RA de Campinas  São João da Boa Vista   \n",
       "3  0,000000000000000000               RA de Campinas  São João da Boa Vista   \n",
       "4  0,000000000000000000               RA de Campinas               Campinas   \n",
       "\n",
       "     pop pop_60    area  latitude  longitude semana_epidem   densidade  \n",
       "0  33894   7398  411.99  -21,6820   -51,0737             9   82.268987  \n",
       "1   3447    761  211.06  -21,2325   -49,6451             9   16.331849  \n",
       "2  35608   5245  474.55  -22,0572   -46,9735             9   75.035297  \n",
       "3   7797   1729  142.67  -21,9319   -46,7176             9   54.650592  \n",
       "4  18374   3275   60.13  -22,4733   -46,6314             9  305.571262  \n",
       "\n",
       "[5 rows x 22 columns]"
      ]
     },
     "execution_count": 134,
     "metadata": {},
     "output_type": "execute_result"
    }
   ],
   "source": [
    "covid_alter['densidade'] = covid_alter['pop'] / covid_alter['area']\n",
    "covid_alter.head(5)"
   ]
  },
  {
   "cell_type": "code",
   "execution_count": 135,
   "id": "115a609d",
   "metadata": {},
   "outputs": [],
   "source": [
    "#Alterar o nome da coluna para que o dataset fique mais compreensivel\n",
    "covid_alter.rename(columns={'densidade':'Densidade /KM²'}, inplace=True)"
   ]
  },
  {
   "cell_type": "code",
   "execution_count": 136,
   "id": "c3010451",
   "metadata": {},
   "outputs": [
    {
     "data": {
      "application/vnd.microsoft.datawrangler.viewer.v0+json": {
       "columns": [
        {
         "name": "index",
         "rawType": "int64",
         "type": "integer"
        },
        {
         "name": "Município",
         "rawType": "object",
         "type": "string"
        },
        {
         "name": "dia",
         "rawType": "int64",
         "type": "integer"
        },
        {
         "name": "mes",
         "rawType": "int64",
         "type": "integer"
        },
        {
         "name": "Data",
         "rawType": "object",
         "type": "string"
        },
        {
         "name": "casos",
         "rawType": "int64",
         "type": "integer"
        },
        {
         "name": "casos_novos",
         "rawType": "int64",
         "type": "integer"
        },
        {
         "name": "casos_pc",
         "rawType": "object",
         "type": "string"
        },
        {
         "name": "casos_mm7d",
         "rawType": "object",
         "type": "string"
        },
        {
         "name": "obitos",
         "rawType": "int64",
         "type": "integer"
        },
        {
         "name": "obitos_novos",
         "rawType": "int64",
         "type": "integer"
        },
        {
         "name": "obitos_pc",
         "rawType": "object",
         "type": "string"
        },
        {
         "name": "obitos_mm7d",
         "rawType": "object",
         "type": "string"
        },
        {
         "name": "letalidade",
         "rawType": "object",
         "type": "string"
        },
        {
         "name": "nome_ra",
         "rawType": "object",
         "type": "string"
        },
        {
         "name": "nome_drs",
         "rawType": "object",
         "type": "string"
        },
        {
         "name": "pop",
         "rawType": "int64",
         "type": "integer"
        },
        {
         "name": "pop_60",
         "rawType": "int64",
         "type": "integer"
        },
        {
         "name": "area",
         "rawType": "float64",
         "type": "float"
        },
        {
         "name": "latitude",
         "rawType": "object",
         "type": "string"
        },
        {
         "name": "longitude",
         "rawType": "object",
         "type": "string"
        },
        {
         "name": "semana_epidem",
         "rawType": "int64",
         "type": "integer"
        },
        {
         "name": "Densidade /KM²",
         "rawType": "float64",
         "type": "float"
        }
       ],
       "ref": "05a1ee47-5a7c-4ba6-a3b5-107100c330f7",
       "rows": [
        [
         "0",
         "Adamantina",
         "25",
         "2",
         "2020-02-25",
         "0",
         "0",
         "0,00000000000000e+00",
         "0,000000000000000",
         "0",
         "0",
         "0,00000000000000e+00",
         "0,000000000000000",
         "0,000000000000000000",
         "RA de Presidente Prudente",
         "Marília",
         "33894",
         "7398",
         "411.99",
         "-21,6820",
         "-51,0737",
         "9",
         "82.26898711133765"
        ],
        [
         "1",
         "Adolfo",
         "25",
         "2",
         "2020-02-25",
         "0",
         "0",
         "0,00000000000000e+00",
         "0,000000000000000",
         "0",
         "0",
         "0,00000000000000e+00",
         "0,000000000000000",
         "0,000000000000000000",
         "RA de São José do Rio Preto",
         "São José do Rio Preto",
         "3447",
         "761",
         "211.06",
         "-21,2325",
         "-49,6451",
         "9",
         "16.33184876338482"
        ],
        [
         "2",
         "Aguaí",
         "25",
         "2",
         "2020-02-25",
         "0",
         "0",
         "0,00000000000000e+00",
         "0,000000000000000",
         "0",
         "0",
         "0,00000000000000e+00",
         "0,000000000000000",
         "0,000000000000000000",
         "RA de Campinas",
         "São João da Boa Vista",
         "35608",
         "5245",
         "474.55",
         "-22,0572",
         "-46,9735",
         "9",
         "75.0352965967759"
        ],
        [
         "3",
         "Águas da Prata",
         "25",
         "2",
         "2020-02-25",
         "0",
         "0",
         "0,00000000000000e+00",
         "0,000000000000000",
         "0",
         "0",
         "0,00000000000000e+00",
         "0,000000000000000",
         "0,000000000000000000",
         "RA de Campinas",
         "São João da Boa Vista",
         "7797",
         "1729",
         "142.67",
         "-21,9319",
         "-46,7176",
         "9",
         "54.65059227588141"
        ],
        [
         "4",
         "Águas de Lindóia",
         "25",
         "2",
         "2020-02-25",
         "0",
         "0",
         "0,00000000000000e+00",
         "0,000000000000000",
         "0",
         "0",
         "0,00000000000000e+00",
         "0,000000000000000",
         "0,000000000000000000",
         "RA de Campinas",
         "Campinas",
         "18374",
         "3275",
         "60.13",
         "-22,4733",
         "-46,6314",
         "9",
         "305.5712622650923"
        ]
       ],
       "shape": {
        "columns": 22,
        "rows": 5
       }
      },
      "text/html": [
       "<div>\n",
       "<style scoped>\n",
       "    .dataframe tbody tr th:only-of-type {\n",
       "        vertical-align: middle;\n",
       "    }\n",
       "\n",
       "    .dataframe tbody tr th {\n",
       "        vertical-align: top;\n",
       "    }\n",
       "\n",
       "    .dataframe thead th {\n",
       "        text-align: right;\n",
       "    }\n",
       "</style>\n",
       "<table border=\"1\" class=\"dataframe\">\n",
       "  <thead>\n",
       "    <tr style=\"text-align: right;\">\n",
       "      <th></th>\n",
       "      <th>Município</th>\n",
       "      <th>dia</th>\n",
       "      <th>mes</th>\n",
       "      <th>Data</th>\n",
       "      <th>casos</th>\n",
       "      <th>casos_novos</th>\n",
       "      <th>casos_pc</th>\n",
       "      <th>casos_mm7d</th>\n",
       "      <th>obitos</th>\n",
       "      <th>obitos_novos</th>\n",
       "      <th>...</th>\n",
       "      <th>letalidade</th>\n",
       "      <th>nome_ra</th>\n",
       "      <th>nome_drs</th>\n",
       "      <th>pop</th>\n",
       "      <th>pop_60</th>\n",
       "      <th>area</th>\n",
       "      <th>latitude</th>\n",
       "      <th>longitude</th>\n",
       "      <th>semana_epidem</th>\n",
       "      <th>Densidade /KM²</th>\n",
       "    </tr>\n",
       "  </thead>\n",
       "  <tbody>\n",
       "    <tr>\n",
       "      <th>0</th>\n",
       "      <td>Adamantina</td>\n",
       "      <td>25</td>\n",
       "      <td>2</td>\n",
       "      <td>2020-02-25</td>\n",
       "      <td>0</td>\n",
       "      <td>0</td>\n",
       "      <td>0,00000000000000e+00</td>\n",
       "      <td>0,000000000000000</td>\n",
       "      <td>0</td>\n",
       "      <td>0</td>\n",
       "      <td>...</td>\n",
       "      <td>0,000000000000000000</td>\n",
       "      <td>RA de Presidente Prudente</td>\n",
       "      <td>Marília</td>\n",
       "      <td>33894</td>\n",
       "      <td>7398</td>\n",
       "      <td>411.99</td>\n",
       "      <td>-21,6820</td>\n",
       "      <td>-51,0737</td>\n",
       "      <td>9</td>\n",
       "      <td>82.268987</td>\n",
       "    </tr>\n",
       "    <tr>\n",
       "      <th>1</th>\n",
       "      <td>Adolfo</td>\n",
       "      <td>25</td>\n",
       "      <td>2</td>\n",
       "      <td>2020-02-25</td>\n",
       "      <td>0</td>\n",
       "      <td>0</td>\n",
       "      <td>0,00000000000000e+00</td>\n",
       "      <td>0,000000000000000</td>\n",
       "      <td>0</td>\n",
       "      <td>0</td>\n",
       "      <td>...</td>\n",
       "      <td>0,000000000000000000</td>\n",
       "      <td>RA de São José do Rio Preto</td>\n",
       "      <td>São José do Rio Preto</td>\n",
       "      <td>3447</td>\n",
       "      <td>761</td>\n",
       "      <td>211.06</td>\n",
       "      <td>-21,2325</td>\n",
       "      <td>-49,6451</td>\n",
       "      <td>9</td>\n",
       "      <td>16.331849</td>\n",
       "    </tr>\n",
       "    <tr>\n",
       "      <th>2</th>\n",
       "      <td>Aguaí</td>\n",
       "      <td>25</td>\n",
       "      <td>2</td>\n",
       "      <td>2020-02-25</td>\n",
       "      <td>0</td>\n",
       "      <td>0</td>\n",
       "      <td>0,00000000000000e+00</td>\n",
       "      <td>0,000000000000000</td>\n",
       "      <td>0</td>\n",
       "      <td>0</td>\n",
       "      <td>...</td>\n",
       "      <td>0,000000000000000000</td>\n",
       "      <td>RA de Campinas</td>\n",
       "      <td>São João da Boa Vista</td>\n",
       "      <td>35608</td>\n",
       "      <td>5245</td>\n",
       "      <td>474.55</td>\n",
       "      <td>-22,0572</td>\n",
       "      <td>-46,9735</td>\n",
       "      <td>9</td>\n",
       "      <td>75.035297</td>\n",
       "    </tr>\n",
       "    <tr>\n",
       "      <th>3</th>\n",
       "      <td>Águas da Prata</td>\n",
       "      <td>25</td>\n",
       "      <td>2</td>\n",
       "      <td>2020-02-25</td>\n",
       "      <td>0</td>\n",
       "      <td>0</td>\n",
       "      <td>0,00000000000000e+00</td>\n",
       "      <td>0,000000000000000</td>\n",
       "      <td>0</td>\n",
       "      <td>0</td>\n",
       "      <td>...</td>\n",
       "      <td>0,000000000000000000</td>\n",
       "      <td>RA de Campinas</td>\n",
       "      <td>São João da Boa Vista</td>\n",
       "      <td>7797</td>\n",
       "      <td>1729</td>\n",
       "      <td>142.67</td>\n",
       "      <td>-21,9319</td>\n",
       "      <td>-46,7176</td>\n",
       "      <td>9</td>\n",
       "      <td>54.650592</td>\n",
       "    </tr>\n",
       "    <tr>\n",
       "      <th>4</th>\n",
       "      <td>Águas de Lindóia</td>\n",
       "      <td>25</td>\n",
       "      <td>2</td>\n",
       "      <td>2020-02-25</td>\n",
       "      <td>0</td>\n",
       "      <td>0</td>\n",
       "      <td>0,00000000000000e+00</td>\n",
       "      <td>0,000000000000000</td>\n",
       "      <td>0</td>\n",
       "      <td>0</td>\n",
       "      <td>...</td>\n",
       "      <td>0,000000000000000000</td>\n",
       "      <td>RA de Campinas</td>\n",
       "      <td>Campinas</td>\n",
       "      <td>18374</td>\n",
       "      <td>3275</td>\n",
       "      <td>60.13</td>\n",
       "      <td>-22,4733</td>\n",
       "      <td>-46,6314</td>\n",
       "      <td>9</td>\n",
       "      <td>305.571262</td>\n",
       "    </tr>\n",
       "  </tbody>\n",
       "</table>\n",
       "<p>5 rows × 22 columns</p>\n",
       "</div>"
      ],
      "text/plain": [
       "          Município  dia  mes        Data  casos  casos_novos  \\\n",
       "0        Adamantina   25    2  2020-02-25      0            0   \n",
       "1            Adolfo   25    2  2020-02-25      0            0   \n",
       "2             Aguaí   25    2  2020-02-25      0            0   \n",
       "3    Águas da Prata   25    2  2020-02-25      0            0   \n",
       "4  Águas de Lindóia   25    2  2020-02-25      0            0   \n",
       "\n",
       "               casos_pc         casos_mm7d  obitos  obitos_novos  ...  \\\n",
       "0  0,00000000000000e+00  0,000000000000000       0             0  ...   \n",
       "1  0,00000000000000e+00  0,000000000000000       0             0  ...   \n",
       "2  0,00000000000000e+00  0,000000000000000       0             0  ...   \n",
       "3  0,00000000000000e+00  0,000000000000000       0             0  ...   \n",
       "4  0,00000000000000e+00  0,000000000000000       0             0  ...   \n",
       "\n",
       "             letalidade                      nome_ra               nome_drs  \\\n",
       "0  0,000000000000000000    RA de Presidente Prudente                Marília   \n",
       "1  0,000000000000000000  RA de São José do Rio Preto  São José do Rio Preto   \n",
       "2  0,000000000000000000               RA de Campinas  São João da Boa Vista   \n",
       "3  0,000000000000000000               RA de Campinas  São João da Boa Vista   \n",
       "4  0,000000000000000000               RA de Campinas               Campinas   \n",
       "\n",
       "     pop pop_60    area  latitude  longitude semana_epidem Densidade /KM²  \n",
       "0  33894   7398  411.99  -21,6820   -51,0737             9      82.268987  \n",
       "1   3447    761  211.06  -21,2325   -49,6451             9      16.331849  \n",
       "2  35608   5245  474.55  -22,0572   -46,9735             9      75.035297  \n",
       "3   7797   1729  142.67  -21,9319   -46,7176             9      54.650592  \n",
       "4  18374   3275   60.13  -22,4733   -46,6314             9     305.571262  \n",
       "\n",
       "[5 rows x 22 columns]"
      ]
     },
     "execution_count": 136,
     "metadata": {},
     "output_type": "execute_result"
    }
   ],
   "source": [
    "covid_alter.head(5)"
   ]
  },
  {
   "cell_type": "markdown",
   "id": "50639f28",
   "metadata": {},
   "source": [
    "####  Agregação"
   ]
  },
  {
   "cell_type": "markdown",
   "id": "8982cf8a",
   "metadata": {},
   "source": [
    "Quantidade de dias que teve mais do que 10 novos óbitos por dia, classificado por município"
   ]
  },
  {
   "cell_type": "code",
   "execution_count": 137,
   "id": "ae6e68db",
   "metadata": {},
   "outputs": [
    {
     "data": {
      "application/vnd.microsoft.datawrangler.viewer.v0+json": {
       "columns": [
        {
         "name": "Município",
         "rawType": "object",
         "type": "string"
        },
        {
         "name": "count",
         "rawType": "int64",
         "type": "integer"
        }
       ],
       "ref": "00ade49b-1dc7-4cb1-9419-5c1fd6758f2b",
       "rows": [
        [
         "São Paulo",
         "476"
        ],
        [
         "Guarulhos",
         "171"
        ],
        [
         "Campinas",
         "166"
        ],
        [
         "São Bernardo do Campo",
         "103"
        ],
        [
         "Santo André",
         "94"
        ],
        [
         "Ribeirão Preto",
         "90"
        ],
        [
         "Sorocaba",
         "83"
        ],
        [
         "São José do Rio Preto",
         "65"
        ],
        [
         "Osasco",
         "65"
        ],
        [
         "Santos",
         "62"
        ],
        [
         "São José dos Campos",
         "45"
        ],
        [
         "Mogi das Cruzes",
         "31"
        ],
        [
         "Mauá",
         "28"
        ],
        [
         "Diadema",
         "24"
        ],
        [
         "Taubaté",
         "22"
        ],
        [
         "São Vicente",
         "22"
        ],
        [
         "Guarujá",
         "21"
        ],
        [
         "Jundiaí",
         "21"
        ],
        [
         "Praia Grande",
         "19"
        ],
        [
         "Ignorado",
         "19"
        ],
        [
         "Barueri",
         "17"
        ],
        [
         "Bauru",
         "17"
        ],
        [
         "Indaiatuba",
         "16"
        ],
        [
         "Limeira",
         "15"
        ],
        [
         "Marília",
         "14"
        ],
        [
         "Americana",
         "13"
        ],
        [
         "Bragança Paulista",
         "12"
        ],
        [
         "Santa Bárbara d'Oeste",
         "12"
        ],
        [
         "Franca",
         "12"
        ],
        [
         "Rio Claro",
         "12"
        ],
        [
         "Hortolândia",
         "11"
        ],
        [
         "Carapicuíba",
         "11"
        ],
        [
         "Araçatuba",
         "11"
        ],
        [
         "São Caetano do Sul",
         "10"
        ],
        [
         "Presidente Prudente",
         "10"
        ],
        [
         "Suzano",
         "9"
        ],
        [
         "Jaú",
         "9"
        ],
        [
         "Itapetininga",
         "9"
        ],
        [
         "Ourinhos",
         "8"
        ],
        [
         "Itaquaquecetuba",
         "8"
        ],
        [
         "Piracicaba",
         "8"
        ],
        [
         "Sumaré",
         "7"
        ],
        [
         "Jacareí",
         "7"
        ],
        [
         "Embu das Artes",
         "7"
        ],
        [
         "Birigui",
         "6"
        ],
        [
         "Salto",
         "6"
        ],
        [
         "Itapeva",
         "6"
        ],
        [
         "Itapevi",
         "5"
        ],
        [
         "Ibitinga",
         "5"
        ],
        [
         "Leme",
         "5"
        ]
       ],
       "shape": {
        "columns": 1,
        "rows": 110
       }
      },
      "text/plain": [
       "Município\n",
       "São Paulo                476\n",
       "Guarulhos                171\n",
       "Campinas                 166\n",
       "São Bernardo do Campo    103\n",
       "Santo André               94\n",
       "                        ... \n",
       "Ipaussu                    1\n",
       "Santana de Parnaíba        1\n",
       "Cosmópolis                 1\n",
       "Tatuí                      1\n",
       "Andradina                  1\n",
       "Name: count, Length: 110, dtype: int64"
      ]
     },
     "execution_count": 137,
     "metadata": {},
     "output_type": "execute_result"
    }
   ],
   "source": [
    "#covid_alter.head(5)\n",
    "covid_alter.query('obitos_novos >10')['Município'].value_counts()"
   ]
  },
  {
   "cell_type": "markdown",
   "id": "7a4b7eb5",
   "metadata": {},
   "source": [
    "#### Dias com mais do que 1000 casos notificados"
   ]
  },
  {
   "cell_type": "code",
   "execution_count": null,
   "id": "03aa82a5",
   "metadata": {},
   "outputs": [
    {
     "data": {
      "application/vnd.microsoft.datawrangler.viewer.v0+json": {
       "columns": [
        {
         "name": "Município",
         "rawType": "object",
         "type": "string"
        },
        {
         "name": "count",
         "rawType": "int64",
         "type": "integer"
        }
       ],
       "ref": "dedcb4bf-151d-4071-b125-b368f167b08c",
       "rows": [
        [
         "São Paulo",
         "548"
        ],
        [
         "Osasco",
         "508"
        ],
        [
         "Guarulhos",
         "506"
        ],
        [
         "São Bernardo do Campo",
         "506"
        ],
        [
         "Santo André",
         "501"
        ],
        [
         "Santos",
         "501"
        ],
        [
         "Campinas",
         "496"
        ],
        [
         "Barueri",
         "486"
        ],
        [
         "Diadema",
         "486"
        ],
        [
         "Carapicuíba",
         "484"
        ],
        [
         "Jundiaí",
         "484"
        ],
        [
         "Mauá",
         "483"
        ],
        [
         "Mogi das Cruzes",
         "481"
        ],
        [
         "São Vicente",
         "481"
        ],
        [
         "Sorocaba",
         "481"
        ],
        [
         "Guarujá",
         "481"
        ],
        [
         "Ribeirão Preto",
         "480"
        ],
        [
         "São José dos Campos",
         "480"
        ],
        [
         "Praia Grande",
         "478"
        ],
        [
         "Taboão da Serra",
         "477"
        ],
        [
         "São José do Rio Preto",
         "473"
        ],
        [
         "São Caetano do Sul",
         "471"
        ],
        [
         "Suzano",
         "471"
        ],
        [
         "Piracicaba",
         "471"
        ],
        [
         "Cubatão",
         "470"
        ],
        [
         "Embu das Artes",
         "464"
        ],
        [
         "Itaquaquecetuba",
         "464"
        ],
        [
         "Cotia",
         "460"
        ],
        [
         "Bauru",
         "458"
        ],
        [
         "Itapevi",
         "458"
        ],
        [
         "Santana de Parnaíba",
         "456"
        ],
        [
         "Sumaré",
         "455"
        ],
        [
         "Itapecerica da Serra",
         "453"
        ],
        [
         "Francisco Morato",
         "452"
        ],
        [
         "Lençóis Paulista",
         "452"
        ],
        [
         "Barretos",
         "452"
        ],
        [
         "Araraquara",
         "451"
        ],
        [
         "Ferraz de Vasconcelos",
         "451"
        ],
        [
         "Limeira",
         "451"
        ],
        [
         "Paulínia",
         "451"
        ],
        [
         "Araçatuba",
         "447"
        ],
        [
         "Hortolândia",
         "446"
        ],
        [
         "Rio Claro",
         "445"
        ],
        [
         "Presidente Prudente",
         "443"
        ],
        [
         "Americana",
         "442"
        ],
        [
         "Santa Bárbara d'Oeste",
         "441"
        ],
        [
         "Sertãozinho",
         "441"
        ],
        [
         "Jacareí",
         "440"
        ],
        [
         "Mogi Guaçu",
         "437"
        ],
        [
         "Itu",
         "436"
        ]
       ],
       "shape": {
        "columns": 1,
        "rows": 383
       }
      },
      "text/plain": [
       "Município\n",
       "São Paulo                548\n",
       "Osasco                   508\n",
       "Guarulhos                506\n",
       "São Bernardo do Campo    506\n",
       "Santo André              501\n",
       "                        ... \n",
       "Queluz                    31\n",
       "Piratininga               30\n",
       "Bananal                   26\n",
       "Ouro Verde                10\n",
       "São Simão                  5\n",
       "Name: count, Length: 383, dtype: int64"
      ]
     },
     "execution_count": 138,
     "metadata": {},
     "output_type": "execute_result"
    }
   ],
   "source": [
    "novo_df_covid_ML_covid_ML.query('casos > 1000')['Município'].value_counts()"
   ]
  },
  {
   "cell_type": "markdown",
   "id": "189601bc",
   "metadata": {},
   "source": [
    "### Mineração dos dados"
   ]
  },
  {
   "cell_type": "markdown",
   "id": "7bd6edf4",
   "metadata": {},
   "source": [
    "#### Bibliotecas"
   ]
  },
  {
   "cell_type": "code",
   "execution_count": 139,
   "id": "47b9e259",
   "metadata": {},
   "outputs": [],
   "source": [
    "import matplotlib.pyplot as plt"
   ]
  },
  {
   "cell_type": "markdown",
   "id": "1bfe8f2c",
   "metadata": {},
   "source": [
    "#### Município com mais casos\n",
    "\n",
    "Traz os municípios que tiveram maior número de cassos novos no estado de SP"
   ]
  },
  {
   "cell_type": "code",
   "execution_count": 140,
   "id": "03977cd5",
   "metadata": {},
   "outputs": [
    {
     "name": "stdout",
     "output_type": "stream",
     "text": [
      "                 Município  Total_municipio\n",
      "573              São Paulo           962013\n",
      "100               Campinas           112841\n",
      "563  São José do Rio Preto            94976\n",
      "564    São José dos Campos            92054\n",
      "480         Ribeirão Preto            83090\n",
      "549               Sorocaba            76950\n",
      "555  São Bernardo do Campo            75706\n",
      "529            Santo André            65331\n",
      "428             Piracicaba            63932\n",
      "204              Guarulhos            63398\n"
     ]
    }
   ],
   "source": [
    "# Agrupa por Município\n",
    "tt_municipio = covid_alter.groupby('Município' , as_index=False).agg(\n",
    "    Total_municipio = (\"casos_novos\",'sum')# sumarisa os novos cassos \n",
    "    #Densidade = ('Densidade /KM²', 'first')# pega a primeira densidade de cada municipio\n",
    ")\n",
    "\n",
    "# Ordenar do maior para o menor\n",
    "totais = tt_municipio.sort_values(by=\"Total_municipio\", ascending=False).head(10)\n",
    "\n",
    "print(totais.head(10))  # mostra os 10 primeiros"
   ]
  },
  {
   "cell_type": "markdown",
   "id": "0d6023b3",
   "metadata": {},
   "source": [
    "Plota o grafico"
   ]
  },
  {
   "cell_type": "code",
   "execution_count": 141,
   "id": "ed126882",
   "metadata": {},
   "outputs": [
    {
     "data": {
      "text/plain": [
       "<function matplotlib.pyplot.show(close=None, block=None)>"
      ]
     },
     "execution_count": 141,
     "metadata": {},
     "output_type": "execute_result"
    },
    {
     "data": {
      "image/png": "[encoded data removed]",
      "text/plain": [
       "<Figure size 1000x600 with 1 Axes>"
      ]
     },
     "metadata": {},
     "output_type": "display_data"
    }
   ],
   "source": [
    "import matplotlib.ticker as mtick\n",
    "\n",
    "plt.figure(figsize=(10,6))\n",
    "barras = plt.barh(totais[\"Município\"], totais['Total_municipio'])\n",
    "plt.xlabel('Total de casos')\n",
    "plt.ylabel('Município')\n",
    "plt.title('Top 10 municípios com mais casos acumulados')\n",
    "plt.gca().xaxis.set_major_formatter(mtick.StrMethodFormatter('{x:,.0f}'))\n",
    "plt.gca().invert_yaxis()\n",
    "# Adicionando rótulos de valores\n",
    "for bar in barras:\n",
    "    width = bar.get_width()\n",
    "    plt.text(width + 1, bar.get_y() + bar.get_height()/2, f'{int(width):,}', va='center')\n",
    "plt.show"
   ]
  },
  {
   "cell_type": "markdown",
   "id": "c757a99f",
   "metadata": {},
   "source": [
    "SP é de longe o município com maior discrepancia"
   ]
  },
  {
   "cell_type": "markdown",
   "id": "60de3398",
   "metadata": {},
   "source": [
    "#### Município com maior média diária de obitos"
   ]
  },
  {
   "cell_type": "code",
   "execution_count": 142,
   "id": "668a3010",
   "metadata": {},
   "outputs": [
    {
     "data": {
      "application/vnd.microsoft.datawrangler.viewer.v0+json": {
       "columns": [
        {
         "name": "index",
         "rawType": "int64",
         "type": "integer"
        },
        {
         "name": "Município",
         "rawType": "object",
         "type": "string"
        },
        {
         "name": "dia",
         "rawType": "int64",
         "type": "integer"
        },
        {
         "name": "mes",
         "rawType": "int64",
         "type": "integer"
        },
        {
         "name": "Data",
         "rawType": "object",
         "type": "string"
        },
        {
         "name": "casos",
         "rawType": "int64",
         "type": "integer"
        },
        {
         "name": "casos_novos",
         "rawType": "int64",
         "type": "integer"
        },
        {
         "name": "casos_pc",
         "rawType": "object",
         "type": "string"
        },
        {
         "name": "casos_mm7d",
         "rawType": "object",
         "type": "string"
        },
        {
         "name": "obitos",
         "rawType": "int64",
         "type": "integer"
        },
        {
         "name": "obitos_novos",
         "rawType": "int64",
         "type": "integer"
        },
        {
         "name": "obitos_pc",
         "rawType": "object",
         "type": "string"
        },
        {
         "name": "obitos_mm7d",
         "rawType": "object",
         "type": "string"
        },
        {
         "name": "letalidade",
         "rawType": "object",
         "type": "string"
        },
        {
         "name": "nome_ra",
         "rawType": "object",
         "type": "string"
        },
        {
         "name": "nome_drs",
         "rawType": "object",
         "type": "string"
        },
        {
         "name": "pop",
         "rawType": "int64",
         "type": "integer"
        },
        {
         "name": "pop_60",
         "rawType": "int64",
         "type": "integer"
        },
        {
         "name": "area",
         "rawType": "float64",
         "type": "float"
        },
        {
         "name": "latitude",
         "rawType": "object",
         "type": "string"
        },
        {
         "name": "longitude",
         "rawType": "object",
         "type": "string"
        },
        {
         "name": "semana_epidem",
         "rawType": "int64",
         "type": "integer"
        },
        {
         "name": "Densidade /KM²",
         "rawType": "float64",
         "type": "float"
        }
       ],
       "ref": "04f28904-e8c6-4a9d-904a-02525b05fce3",
       "rows": [
        [
         "0",
         "Adamantina",
         "25",
         "2",
         "2020-02-25",
         "0",
         "0",
         "0,00000000000000e+00",
         "0,000000000000000",
         "0",
         "0",
         "0,00000000000000e+00",
         "0,000000000000000",
         "0,000000000000000000",
         "RA de Presidente Prudente",
         "Marília",
         "33894",
         "7398",
         "411.99",
         "-21,6820",
         "-51,0737",
         "9",
         "82.26898711133765"
        ],
        [
         "1",
         "Adolfo",
         "25",
         "2",
         "2020-02-25",
         "0",
         "0",
         "0,00000000000000e+00",
         "0,000000000000000",
         "0",
         "0",
         "0,00000000000000e+00",
         "0,000000000000000",
         "0,000000000000000000",
         "RA de São José do Rio Preto",
         "São José do Rio Preto",
         "3447",
         "761",
         "211.06",
         "-21,2325",
         "-49,6451",
         "9",
         "16.33184876338482"
        ],
        [
         "2",
         "Aguaí",
         "25",
         "2",
         "2020-02-25",
         "0",
         "0",
         "0,00000000000000e+00",
         "0,000000000000000",
         "0",
         "0",
         "0,00000000000000e+00",
         "0,000000000000000",
         "0,000000000000000000",
         "RA de Campinas",
         "São João da Boa Vista",
         "35608",
         "5245",
         "474.55",
         "-22,0572",
         "-46,9735",
         "9",
         "75.0352965967759"
        ],
        [
         "3",
         "Águas da Prata",
         "25",
         "2",
         "2020-02-25",
         "0",
         "0",
         "0,00000000000000e+00",
         "0,000000000000000",
         "0",
         "0",
         "0,00000000000000e+00",
         "0,000000000000000",
         "0,000000000000000000",
         "RA de Campinas",
         "São João da Boa Vista",
         "7797",
         "1729",
         "142.67",
         "-21,9319",
         "-46,7176",
         "9",
         "54.65059227588141"
        ],
        [
         "4",
         "Águas de Lindóia",
         "25",
         "2",
         "2020-02-25",
         "0",
         "0",
         "0,00000000000000e+00",
         "0,000000000000000",
         "0",
         "0",
         "0,00000000000000e+00",
         "0,000000000000000",
         "0,000000000000000000",
         "RA de Campinas",
         "Campinas",
         "18374",
         "3275",
         "60.13",
         "-22,4733",
         "-46,6314",
         "9",
         "305.5712622650923"
        ]
       ],
       "shape": {
        "columns": 22,
        "rows": 5
       }
      },
      "text/html": [
       "<div>\n",
       "<style scoped>\n",
       "    .dataframe tbody tr th:only-of-type {\n",
       "        vertical-align: middle;\n",
       "    }\n",
       "\n",
       "    .dataframe tbody tr th {\n",
       "        vertical-align: top;\n",
       "    }\n",
       "\n",
       "    .dataframe thead th {\n",
       "        text-align: right;\n",
       "    }\n",
       "</style>\n",
       "<table border=\"1\" class=\"dataframe\">\n",
       "  <thead>\n",
       "    <tr style=\"text-align: right;\">\n",
       "      <th></th>\n",
       "      <th>Município</th>\n",
       "      <th>dia</th>\n",
       "      <th>mes</th>\n",
       "      <th>Data</th>\n",
       "      <th>casos</th>\n",
       "      <th>casos_novos</th>\n",
       "      <th>casos_pc</th>\n",
       "      <th>casos_mm7d</th>\n",
       "      <th>obitos</th>\n",
       "      <th>obitos_novos</th>\n",
       "      <th>...</th>\n",
       "      <th>letalidade</th>\n",
       "      <th>nome_ra</th>\n",
       "      <th>nome_drs</th>\n",
       "      <th>pop</th>\n",
       "      <th>pop_60</th>\n",
       "      <th>area</th>\n",
       "      <th>latitude</th>\n",
       "      <th>longitude</th>\n",
       "      <th>semana_epidem</th>\n",
       "      <th>Densidade /KM²</th>\n",
       "    </tr>\n",
       "  </thead>\n",
       "  <tbody>\n",
       "    <tr>\n",
       "      <th>0</th>\n",
       "      <td>Adamantina</td>\n",
       "      <td>25</td>\n",
       "      <td>2</td>\n",
       "      <td>2020-02-25</td>\n",
       "      <td>0</td>\n",
       "      <td>0</td>\n",
       "      <td>0,00000000000000e+00</td>\n",
       "      <td>0,000000000000000</td>\n",
       "      <td>0</td>\n",
       "      <td>0</td>\n",
       "      <td>...</td>\n",
       "      <td>0,000000000000000000</td>\n",
       "      <td>RA de Presidente Prudente</td>\n",
       "      <td>Marília</td>\n",
       "      <td>33894</td>\n",
       "      <td>7398</td>\n",
       "      <td>411.99</td>\n",
       "      <td>-21,6820</td>\n",
       "      <td>-51,0737</td>\n",
       "      <td>9</td>\n",
       "      <td>82.268987</td>\n",
       "    </tr>\n",
       "    <tr>\n",
       "      <th>1</th>\n",
       "      <td>Adolfo</td>\n",
       "      <td>25</td>\n",
       "      <td>2</td>\n",
       "      <td>2020-02-25</td>\n",
       "      <td>0</td>\n",
       "      <td>0</td>\n",
       "      <td>0,00000000000000e+00</td>\n",
       "      <td>0,000000000000000</td>\n",
       "      <td>0</td>\n",
       "      <td>0</td>\n",
       "      <td>...</td>\n",
       "      <td>0,000000000000000000</td>\n",
       "      <td>RA de São José do Rio Preto</td>\n",
       "      <td>São José do Rio Preto</td>\n",
       "      <td>3447</td>\n",
       "      <td>761</td>\n",
       "      <td>211.06</td>\n",
       "      <td>-21,2325</td>\n",
       "      <td>-49,6451</td>\n",
       "      <td>9</td>\n",
       "      <td>16.331849</td>\n",
       "    </tr>\n",
       "    <tr>\n",
       "      <th>2</th>\n",
       "      <td>Aguaí</td>\n",
       "      <td>25</td>\n",
       "      <td>2</td>\n",
       "      <td>2020-02-25</td>\n",
       "      <td>0</td>\n",
       "      <td>0</td>\n",
       "      <td>0,00000000000000e+00</td>\n",
       "      <td>0,000000000000000</td>\n",
       "      <td>0</td>\n",
       "      <td>0</td>\n",
       "      <td>...</td>\n",
       "      <td>0,000000000000000000</td>\n",
       "      <td>RA de Campinas</td>\n",
       "      <td>São João da Boa Vista</td>\n",
       "      <td>35608</td>\n",
       "      <td>5245</td>\n",
       "      <td>474.55</td>\n",
       "      <td>-22,0572</td>\n",
       "      <td>-46,9735</td>\n",
       "      <td>9</td>\n",
       "      <td>75.035297</td>\n",
       "    </tr>\n",
       "    <tr>\n",
       "      <th>3</th>\n",
       "      <td>Águas da Prata</td>\n",
       "      <td>25</td>\n",
       "      <td>2</td>\n",
       "      <td>2020-02-25</td>\n",
       "      <td>0</td>\n",
       "      <td>0</td>\n",
       "      <td>0,00000000000000e+00</td>\n",
       "      <td>0,000000000000000</td>\n",
       "      <td>0</td>\n",
       "      <td>0</td>\n",
       "      <td>...</td>\n",
       "      <td>0,000000000000000000</td>\n",
       "      <td>RA de Campinas</td>\n",
       "      <td>São João da Boa Vista</td>\n",
       "      <td>7797</td>\n",
       "      <td>1729</td>\n",
       "      <td>142.67</td>\n",
       "      <td>-21,9319</td>\n",
       "      <td>-46,7176</td>\n",
       "      <td>9</td>\n",
       "      <td>54.650592</td>\n",
       "    </tr>\n",
       "    <tr>\n",
       "      <th>4</th>\n",
       "      <td>Águas de Lindóia</td>\n",
       "      <td>25</td>\n",
       "      <td>2</td>\n",
       "      <td>2020-02-25</td>\n",
       "      <td>0</td>\n",
       "      <td>0</td>\n",
       "      <td>0,00000000000000e+00</td>\n",
       "      <td>0,000000000000000</td>\n",
       "      <td>0</td>\n",
       "      <td>0</td>\n",
       "      <td>...</td>\n",
       "      <td>0,000000000000000000</td>\n",
       "      <td>RA de Campinas</td>\n",
       "      <td>Campinas</td>\n",
       "      <td>18374</td>\n",
       "      <td>3275</td>\n",
       "      <td>60.13</td>\n",
       "      <td>-22,4733</td>\n",
       "      <td>-46,6314</td>\n",
       "      <td>9</td>\n",
       "      <td>305.571262</td>\n",
       "    </tr>\n",
       "  </tbody>\n",
       "</table>\n",
       "<p>5 rows × 22 columns</p>\n",
       "</div>"
      ],
      "text/plain": [
       "          Município  dia  mes        Data  casos  casos_novos  \\\n",
       "0        Adamantina   25    2  2020-02-25      0            0   \n",
       "1            Adolfo   25    2  2020-02-25      0            0   \n",
       "2             Aguaí   25    2  2020-02-25      0            0   \n",
       "3    Águas da Prata   25    2  2020-02-25      0            0   \n",
       "4  Águas de Lindóia   25    2  2020-02-25      0            0   \n",
       "\n",
       "               casos_pc         casos_mm7d  obitos  obitos_novos  ...  \\\n",
       "0  0,00000000000000e+00  0,000000000000000       0             0  ...   \n",
       "1  0,00000000000000e+00  0,000000000000000       0             0  ...   \n",
       "2  0,00000000000000e+00  0,000000000000000       0             0  ...   \n",
       "3  0,00000000000000e+00  0,000000000000000       0             0  ...   \n",
       "4  0,00000000000000e+00  0,000000000000000       0             0  ...   \n",
       "\n",
       "             letalidade                      nome_ra               nome_drs  \\\n",
       "0  0,000000000000000000    RA de Presidente Prudente                Marília   \n",
       "1  0,000000000000000000  RA de São José do Rio Preto  São José do Rio Preto   \n",
       "2  0,000000000000000000               RA de Campinas  São João da Boa Vista   \n",
       "3  0,000000000000000000               RA de Campinas  São João da Boa Vista   \n",
       "4  0,000000000000000000               RA de Campinas               Campinas   \n",
       "\n",
       "     pop pop_60    area  latitude  longitude semana_epidem Densidade /KM²  \n",
       "0  33894   7398  411.99  -21,6820   -51,0737             9      82.268987  \n",
       "1   3447    761  211.06  -21,2325   -49,6451             9      16.331849  \n",
       "2  35608   5245  474.55  -22,0572   -46,9735             9      75.035297  \n",
       "3   7797   1729  142.67  -21,9319   -46,7176             9      54.650592  \n",
       "4  18374   3275   60.13  -22,4733   -46,6314             9     305.571262  \n",
       "\n",
       "[5 rows x 22 columns]"
      ]
     },
     "execution_count": 142,
     "metadata": {},
     "output_type": "execute_result"
    }
   ],
   "source": [
    "covid_alter.head(5)"
   ]
  },
  {
   "cell_type": "code",
   "execution_count": 143,
   "id": "3543b181",
   "metadata": {},
   "outputs": [
    {
     "name": "stdout",
     "output_type": "stream",
     "text": [
      "                 Município  obitos_novos  dias_tt  Média_dia\n",
      "573              São Paulo         38001      579  65.632124\n",
      "204              Guarulhos          4866      579   8.404145\n",
      "100               Campinas          4471      579   7.721934\n",
      "555  São Bernardo do Campo          3257      579   5.625216\n",
      "529            Santo André          3074      579   5.309154\n",
      "480         Ribeirão Preto          2929      579   5.058722\n",
      "549               Sorocaba          2819      579   4.868739\n",
      "563  São José do Rio Preto          2786      579   4.811744\n",
      "382                 Osasco          2602      579   4.493955\n",
      "536                 Santos          2133      579   3.683938\n"
     ]
    }
   ],
   "source": [
    "# Agrupa por Município uma contagem de registros, e o total de óbitos e dividir um pelo outro\n",
    "Média_municipio = covid_alter.groupby('Município' , as_index=False).agg(\n",
    "    obitos_novos = (\"obitos_novos\",'sum'),# sumarisa os novos cassos \n",
    "    dias_tt = ('Data', 'count')# pega a primeira densidade de cada municipio\n",
    ")\n",
    "\n",
    "# Ordenar do maior para o menor\n",
    "totais = Média_municipio.sort_values(by=\"obitos_novos\", ascending=False).head(10)\n",
    "totais['Média_dia'] = totais['obitos_novos'] / totais['dias_tt']\n",
    "print(totais.head(10))  # mostra os 10 primeiros"
   ]
  },
  {
   "cell_type": "code",
   "execution_count": 144,
   "id": "4b2db698",
   "metadata": {},
   "outputs": [
    {
     "data": {
      "text/plain": [
       "<function matplotlib.pyplot.show(close=None, block=None)>"
      ]
     },
     "execution_count": 144,
     "metadata": {},
     "output_type": "execute_result"
    },
    {
     "data": {
      "image/png": "[encoded data removed]",
      "text/plain": [
       "<Figure size 1000x600 with 1 Axes>"
      ]
     },
     "metadata": {},
     "output_type": "display_data"
    }
   ],
   "source": [
    "plt.figure(figsize=(10,6))\n",
    "barras_media = plt.barh(totais[\"Município\"], totais['Média_dia'])\n",
    "plt.xlabel('Média de casos novos dia')\n",
    "plt.ylabel('Município')\n",
    "plt.title('Média de novos obitos por dia').set_fontsize('x-large')\n",
    "plt.gca().xaxis.set_major_formatter(mtick.StrMethodFormatter('{x:,.0f}'))\n",
    "plt.gca().invert_yaxis()\n",
    "# Adicionando rótulos de valores\n",
    "for bar in barras_media:\n",
    "    width = bar.get_width()\n",
    "    plt.text(width + 1, bar.get_y() + bar.get_height()/2, f'{int(width):,}', va='center')\n",
    "plt.show"
   ]
  },
  {
   "cell_type": "markdown",
   "id": "7d9c9317",
   "metadata": {},
   "source": [
    "    SP continua sendo a que tem maior número de casos"
   ]
  },
  {
   "cell_type": "markdown",
   "id": "20a40578",
   "metadata": {},
   "source": [
    "#### Correlação entre a densidade populacional, obitos e novos casos\n",
    "\n",
    "A seguir será calculado os valores de r e p-valor, onde:\n",
    "\n",
    "R é o coeficiente de correlação de Pearson em que r mede a força e o direção da relação entre as variáveis\n",
    "\n",
    "r = +1.0: Correlação positiva perfeita (quando uma sobe, a outra sobe proporcionalmente)\n",
    "r = 0.0: Sem correlação linear (não há relação linear)\n",
    "r = -1.0: Correlação negativa perfeita (quando uma sobe, a outra desce proporcionalmente)\n",
    "\n",
    "P-valor é a siginificância estatística da variável\n",
    "\n",
    "p < 0.001: Altamente significativo (***) - Confiança > 99.9%\n",
    "p < 0.01: Muito significativo (**) - Confiança > 99%\n",
    "p < 0.05: Significativo (*) - Confiança > 95%\n",
    "p > 0.05: Não significativo - Pode ser apenas acaso\n"
   ]
  },
  {
   "cell_type": "code",
   "execution_count": 145,
   "id": "a779d1c6",
   "metadata": {},
   "outputs": [],
   "source": [
    "import seaborn as sns\n",
    "from scipy.stats import pearsonr\n",
    "\n",
    "def analise_densidade_covid(df):\n",
    "    \"\"\"\n",
    "    Análise simples da relação entre densidade populacional e COVID-19\n",
    "    \"\"\"\n",
    "    \n",
    "    # 1. Agregar dados por município\n",
    "    municipios = df.groupby('Município').agg({\n",
    "        'obitos_novos': 'sum',           # Total de óbitos\n",
    "        'casos_novos': 'sum',            # Total de casos\n",
    "        'Densidade /KM²': 'first'        # Densidade (constante por município)\n",
    "    }).reset_index()\n",
    "    \n",
    "    # Renomear colunas\n",
    "    municipios.columns = ['Município', 'total_obitos', 'total_casos', 'densidade']\n",
    "    \n",
    "    # Remover valores nulos ou zeros\n",
    "    municipios = municipios.dropna()\n",
    "    municipios = municipios[municipios['densidade'] > 0]\n",
    "    \n",
    "    # 2. Calcular correlações\n",
    "    corr_obitos, p_obitos = pearsonr(municipios['densidade'], municipios['total_obitos'])\n",
    "    corr_casos, p_casos = pearsonr(municipios['densidade'], municipios['total_casos'])\n",
    "    \n",
    "    # 3. Visualizar resultados\n",
    "    fig, (ax1, ax2) = plt.subplots(1, 2, figsize=(14, 5))\n",
    "    \n",
    "    # Gráfico 1: Densidade vs Óbitos\n",
    "    ax1.scatter(municipios['densidade'], municipios['total_obitos'], alpha=0.6)\n",
    "    ax1.set_xlabel('Densidade Populacional (/km²)')\n",
    "    ax1.set_ylabel('Total de Óbitos')\n",
    "    ax1.set_title(f'Densidade vs Óbitos\\nCorrelação: {corr_obitos:.3f} (p={p_obitos:.3f})')\n",
    "    \n",
    "    # Gráfico 2: Densidade vs Casos\n",
    "    ax2.scatter(municipios['densidade'], municipios['total_casos'], alpha=0.6, color='orange')\n",
    "    ax2.set_xlabel('Densidade Populacional (/km²)')\n",
    "    ax2.set_ylabel('Total de Casos')\n",
    "    ax2.set_title(f'Densidade vs Casos\\nCorrelação: {corr_casos:.3f} (p={p_casos:.3f})')\n",
    "    \n",
    "    plt.tight_layout()\n",
    "    plt.show()\n",
    "    \n",
    "    # 4. Resultados\n",
    "    print(\"=\"*50)\n",
    "    print(\"CORRELAÇÃO: DENSIDADE vs COVID-19\")\n",
    "    print(\"=\"*50)\n",
    "    print(f\"Densidade vs Óbitos:  r = {corr_obitos:+.3f}, p = {p_obitos:.3f}\")\n",
    "    print(f\"Densidade vs Casos:   r = {corr_casos:+.3f}, p = {p_casos:.3f}\")\n",
    "    print(\"\\nInterpretação:\")\n",
    "    print(\"- r > 0: correlação positiva (mais densidade = mais casos/óbitos)\")\n",
    "    print(\"- r < 0: correlação negativa (mais densidade = menos casos/óbitos)\")  \n",
    "    print(\"- p < 0.05: correlação significativa\")\n",
    "    \n",
    "    return municipios\n",
    "\n",
    "# resultado = analise_densidade_covid(covid_alter)\n"
   ]
  },
  {
   "cell_type": "code",
   "execution_count": 146,
   "id": "d97e61f7",
   "metadata": {},
   "outputs": [
    {
     "data": {
      "image/png": "[encoded data removed]",
      "text/plain": [
       "<Figure size 1400x500 with 2 Axes>"
      ]
     },
     "metadata": {},
     "output_type": "display_data"
    },
    {
     "name": "stdout",
     "output_type": "stream",
     "text": [
      "==================================================\n",
      "CORRELAÇÃO: DENSIDADE vs COVID-19\n",
      "==================================================\n",
      "Densidade vs Óbitos:  r = +0.044, p = 0.268\n",
      "Densidade vs Casos:   r = +0.042, p = 0.291\n",
      "\n",
      "Interpretação:\n",
      "- r > 0: correlação positiva (mais densidade = mais casos/óbitos)\n",
      "- r < 0: correlação negativa (mais densidade = menos casos/óbitos)\n",
      "- p < 0.05: correlação significativa\n"
     ]
    }
   ],
   "source": [
    "resultado = analise_densidade_covid(covid_alter)"
   ]
  },
  {
   "cell_type": "markdown",
   "id": "d258990a",
   "metadata": {},
   "source": [
    "A densidade populacional não explica a alta de novos casos e de obitos na cidade de SP"
   ]
  },
  {
   "cell_type": "markdown",
   "id": "6c393203",
   "metadata": {},
   "source": [
    "#### Matriz correlacional\n",
    "\n",
    "Visto que a densidade populacional não explica a divergencia de SP para outros municipios, outros fatores devem estar por traz deste fenômeno\n",
    "\n",
    "Um bom indício pode ser encontrado na matriz de correlação"
   ]
  },
  {
   "cell_type": "code",
   "execution_count": 147,
   "id": "64aaad5f",
   "metadata": {},
   "outputs": [
    {
     "data": {
      "image/png": "[encoded data removed]",
      "text/plain": [
       "<Figure size 800x600 with 2 Axes>"
      ]
     },
     "metadata": {},
     "output_type": "display_data"
    },
    {
     "name": "stdout",
     "output_type": "stream",
     "text": [
      "Matriz de Correlação:\n",
      "                  pop  pop_60  obitos_novos  casos_novos  Densidade /KM²  \\\n",
      "pop             1.000   0.999         0.998        0.993           0.047   \n",
      "pop_60          0.999   1.000         0.997        0.995           0.039   \n",
      "obitos_novos    0.998   0.997         1.000        0.994           0.044   \n",
      "casos_novos     0.993   0.995         0.994        1.000           0.042   \n",
      "Densidade /KM²  0.047   0.039         0.044        0.042           1.000   \n",
      "area            0.169   0.175         0.171        0.192          -0.079   \n",
      "\n",
      "                 area  \n",
      "pop             0.169  \n",
      "pop_60          0.175  \n",
      "obitos_novos    0.171  \n",
      "casos_novos     0.192  \n",
      "Densidade /KM² -0.079  \n",
      "area            1.000  \n"
     ]
    }
   ],
   "source": [
    "\n",
    "# Prepara o dataset Municípios\n",
    "municipios = covid_alter.groupby('Município').agg(\n",
    "    {\n",
    "        'pop': 'first',\n",
    "        'pop_60': 'sum', \n",
    "        'obitos_novos': 'sum', \n",
    "        'casos_novos': 'sum', \n",
    "        'Densidade /KM²': 'first',\n",
    "        'area': 'first'\n",
    "        }\n",
    "        ).reset_index()\n",
    "\n",
    "# Selecionar apenas colunas numéricas para correlação\n",
    "\n",
    "cols_numericas = ['pop','pop_60',  'obitos_novos', 'casos_novos', 'Densidade /KM²','area']  \n",
    "\n",
    "# Calcular matriz de correlação\n",
    "matriz_corr = municipios[cols_numericas].corr()\n",
    "\n",
    "# Criar o heatmap/mapa de calor\n",
    "plt.figure(figsize=(8, 6))\n",
    "sns.heatmap(matriz_corr, \n",
    "            annot=True,          # Mostrar valores numéricos\n",
    "            cmap='RdBu_r',       # Escala de cores (vermelho-branco-azul)\n",
    "            center=0,            # Centralizar em zero\n",
    "            square=True,         # Células quadradas\n",
    "            linewidths=0.5,      # Espessura das linhas\n",
    "            fmt='.3f',           # Formato dos números (3 casas decimais)\n",
    "            cbar_kws={'label': 'Coeficiente de Correlação'})\n",
    "\n",
    "plt.title('Matriz de Correlação - Densidade Populacional vs COVID-19', fontsize=14, pad=20)\n",
    "plt.tight_layout()\n",
    "plt.show()\n",
    "\n",
    "# Mostrar valores exatos\n",
    "print(\"Matriz de Correlação:\")\n",
    "print(matriz_corr.round(3))"
   ]
  },
  {
   "cell_type": "markdown",
   "id": "17c17bbb",
   "metadata": {},
   "source": [
    "### Interpretação\n",
    "A variável de densidade populacional não agrega nos dados analizados.\n",
    "\n",
    "Mas o total da população sim.\n",
    "\n",
    "        Quantos mais idosos mais obitos.\n",
    "\n",
    "        Quanto mais casos mais obitos. \n",
    "\n",
    "São evidencias que estão de acordo com as observações impíricas acerca do assunto, porém valida o dataset para partir para mais análises.\n",
    "\n",
    "Proximos possíveis ppontos de  análise:\n",
    "\n",
    "    -Quantidades de hospitais município;\n",
    "\n",
    "    -Capacidade hospitalar por município.(leitos de UTI por exemplo)\n",
    "\n",
    "    -Valor investido em Saúde(Por habitante) por município;\n",
    "\n",
    "    -Valor investido em UTI(Por habitante) por município; \n",
    "\n",
    "    -Dados socioeconomicos dos municípios;\n",
    "\n",
    "\n",
    "\n",
    "Obs: Eu deveria ter começado pela matriz correlacional."
   ]
  },
  {
   "cell_type": "markdown",
   "id": "d56b9234",
   "metadata": {},
   "source": [
    "## Introdução de aprendizado de máquina"
   ]
  },
  {
   "cell_type": "markdown",
   "id": "6445bd38",
   "metadata": {},
   "source": [
    "### Novo DataFrame dos dados identificados na matriz de correlação"
   ]
  },
  {
   "cell_type": "code",
   "execution_count": 148,
   "id": "bd7e1535",
   "metadata": {},
   "outputs": [
    {
     "data": {
      "application/vnd.microsoft.datawrangler.viewer.v0+json": {
       "columns": [
        {
         "name": "index",
         "rawType": "int64",
         "type": "integer"
        },
        {
         "name": "Município",
         "rawType": "object",
         "type": "string"
        },
        {
         "name": "dia",
         "rawType": "int64",
         "type": "integer"
        },
        {
         "name": "mes",
         "rawType": "int64",
         "type": "integer"
        },
        {
         "name": "Data",
         "rawType": "object",
         "type": "string"
        },
        {
         "name": "casos",
         "rawType": "int64",
         "type": "integer"
        },
        {
         "name": "casos_novos",
         "rawType": "int64",
         "type": "integer"
        },
        {
         "name": "casos_pc",
         "rawType": "object",
         "type": "string"
        },
        {
         "name": "casos_mm7d",
         "rawType": "object",
         "type": "string"
        },
        {
         "name": "obitos",
         "rawType": "int64",
         "type": "integer"
        },
        {
         "name": "obitos_novos",
         "rawType": "int64",
         "type": "integer"
        },
        {
         "name": "obitos_pc",
         "rawType": "object",
         "type": "string"
        },
        {
         "name": "obitos_mm7d",
         "rawType": "object",
         "type": "string"
        },
        {
         "name": "letalidade",
         "rawType": "object",
         "type": "string"
        },
        {
         "name": "nome_ra",
         "rawType": "object",
         "type": "string"
        },
        {
         "name": "nome_drs",
         "rawType": "object",
         "type": "string"
        },
        {
         "name": "pop",
         "rawType": "int64",
         "type": "integer"
        },
        {
         "name": "pop_60",
         "rawType": "int64",
         "type": "integer"
        },
        {
         "name": "area",
         "rawType": "float64",
         "type": "float"
        },
        {
         "name": "latitude",
         "rawType": "object",
         "type": "string"
        },
        {
         "name": "longitude",
         "rawType": "object",
         "type": "string"
        },
        {
         "name": "semana_epidem",
         "rawType": "int64",
         "type": "integer"
        },
        {
         "name": "Densidade /KM²",
         "rawType": "float64",
         "type": "float"
        }
       ],
       "ref": "25b43d29-ec78-4fb2-9f51-1f8cd44b25b8",
       "rows": [
        [
         "0",
         "Adamantina",
         "25",
         "2",
         "2020-02-25",
         "0",
         "0",
         "0,00000000000000e+00",
         "0,000000000000000",
         "0",
         "0",
         "0,00000000000000e+00",
         "0,000000000000000",
         "0,000000000000000000",
         "RA de Presidente Prudente",
         "Marília",
         "33894",
         "7398",
         "411.99",
         "-21,6820",
         "-51,0737",
         "9",
         "82.26898711133765"
        ],
        [
         "1",
         "Adolfo",
         "25",
         "2",
         "2020-02-25",
         "0",
         "0",
         "0,00000000000000e+00",
         "0,000000000000000",
         "0",
         "0",
         "0,00000000000000e+00",
         "0,000000000000000",
         "0,000000000000000000",
         "RA de São José do Rio Preto",
         "São José do Rio Preto",
         "3447",
         "761",
         "211.06",
         "-21,2325",
         "-49,6451",
         "9",
         "16.33184876338482"
        ],
        [
         "2",
         "Aguaí",
         "25",
         "2",
         "2020-02-25",
         "0",
         "0",
         "0,00000000000000e+00",
         "0,000000000000000",
         "0",
         "0",
         "0,00000000000000e+00",
         "0,000000000000000",
         "0,000000000000000000",
         "RA de Campinas",
         "São João da Boa Vista",
         "35608",
         "5245",
         "474.55",
         "-22,0572",
         "-46,9735",
         "9",
         "75.0352965967759"
        ],
        [
         "3",
         "Águas da Prata",
         "25",
         "2",
         "2020-02-25",
         "0",
         "0",
         "0,00000000000000e+00",
         "0,000000000000000",
         "0",
         "0",
         "0,00000000000000e+00",
         "0,000000000000000",
         "0,000000000000000000",
         "RA de Campinas",
         "São João da Boa Vista",
         "7797",
         "1729",
         "142.67",
         "-21,9319",
         "-46,7176",
         "9",
         "54.65059227588141"
        ],
        [
         "4",
         "Águas de Lindóia",
         "25",
         "2",
         "2020-02-25",
         "0",
         "0",
         "0,00000000000000e+00",
         "0,000000000000000",
         "0",
         "0",
         "0,00000000000000e+00",
         "0,000000000000000",
         "0,000000000000000000",
         "RA de Campinas",
         "Campinas",
         "18374",
         "3275",
         "60.13",
         "-22,4733",
         "-46,6314",
         "9",
         "305.5712622650923"
        ]
       ],
       "shape": {
        "columns": 22,
        "rows": 5
       }
      },
      "text/html": [
       "<div>\n",
       "<style scoped>\n",
       "    .dataframe tbody tr th:only-of-type {\n",
       "        vertical-align: middle;\n",
       "    }\n",
       "\n",
       "    .dataframe tbody tr th {\n",
       "        vertical-align: top;\n",
       "    }\n",
       "\n",
       "    .dataframe thead th {\n",
       "        text-align: right;\n",
       "    }\n",
       "</style>\n",
       "<table border=\"1\" class=\"dataframe\">\n",
       "  <thead>\n",
       "    <tr style=\"text-align: right;\">\n",
       "      <th></th>\n",
       "      <th>Município</th>\n",
       "      <th>dia</th>\n",
       "      <th>mes</th>\n",
       "      <th>Data</th>\n",
       "      <th>casos</th>\n",
       "      <th>casos_novos</th>\n",
       "      <th>casos_pc</th>\n",
       "      <th>casos_mm7d</th>\n",
       "      <th>obitos</th>\n",
       "      <th>obitos_novos</th>\n",
       "      <th>...</th>\n",
       "      <th>letalidade</th>\n",
       "      <th>nome_ra</th>\n",
       "      <th>nome_drs</th>\n",
       "      <th>pop</th>\n",
       "      <th>pop_60</th>\n",
       "      <th>area</th>\n",
       "      <th>latitude</th>\n",
       "      <th>longitude</th>\n",
       "      <th>semana_epidem</th>\n",
       "      <th>Densidade /KM²</th>\n",
       "    </tr>\n",
       "  </thead>\n",
       "  <tbody>\n",
       "    <tr>\n",
       "      <th>0</th>\n",
       "      <td>Adamantina</td>\n",
       "      <td>25</td>\n",
       "      <td>2</td>\n",
       "      <td>2020-02-25</td>\n",
       "      <td>0</td>\n",
       "      <td>0</td>\n",
       "      <td>0,00000000000000e+00</td>\n",
       "      <td>0,000000000000000</td>\n",
       "      <td>0</td>\n",
       "      <td>0</td>\n",
       "      <td>...</td>\n",
       "      <td>0,000000000000000000</td>\n",
       "      <td>RA de Presidente Prudente</td>\n",
       "      <td>Marília</td>\n",
       "      <td>33894</td>\n",
       "      <td>7398</td>\n",
       "      <td>411.99</td>\n",
       "      <td>-21,6820</td>\n",
       "      <td>-51,0737</td>\n",
       "      <td>9</td>\n",
       "      <td>82.268987</td>\n",
       "    </tr>\n",
       "    <tr>\n",
       "      <th>1</th>\n",
       "      <td>Adolfo</td>\n",
       "      <td>25</td>\n",
       "      <td>2</td>\n",
       "      <td>2020-02-25</td>\n",
       "      <td>0</td>\n",
       "      <td>0</td>\n",
       "      <td>0,00000000000000e+00</td>\n",
       "      <td>0,000000000000000</td>\n",
       "      <td>0</td>\n",
       "      <td>0</td>\n",
       "      <td>...</td>\n",
       "      <td>0,000000000000000000</td>\n",
       "      <td>RA de São José do Rio Preto</td>\n",
       "      <td>São José do Rio Preto</td>\n",
       "      <td>3447</td>\n",
       "      <td>761</td>\n",
       "      <td>211.06</td>\n",
       "      <td>-21,2325</td>\n",
       "      <td>-49,6451</td>\n",
       "      <td>9</td>\n",
       "      <td>16.331849</td>\n",
       "    </tr>\n",
       "    <tr>\n",
       "      <th>2</th>\n",
       "      <td>Aguaí</td>\n",
       "      <td>25</td>\n",
       "      <td>2</td>\n",
       "      <td>2020-02-25</td>\n",
       "      <td>0</td>\n",
       "      <td>0</td>\n",
       "      <td>0,00000000000000e+00</td>\n",
       "      <td>0,000000000000000</td>\n",
       "      <td>0</td>\n",
       "      <td>0</td>\n",
       "      <td>...</td>\n",
       "      <td>0,000000000000000000</td>\n",
       "      <td>RA de Campinas</td>\n",
       "      <td>São João da Boa Vista</td>\n",
       "      <td>35608</td>\n",
       "      <td>5245</td>\n",
       "      <td>474.55</td>\n",
       "      <td>-22,0572</td>\n",
       "      <td>-46,9735</td>\n",
       "      <td>9</td>\n",
       "      <td>75.035297</td>\n",
       "    </tr>\n",
       "    <tr>\n",
       "      <th>3</th>\n",
       "      <td>Águas da Prata</td>\n",
       "      <td>25</td>\n",
       "      <td>2</td>\n",
       "      <td>2020-02-25</td>\n",
       "      <td>0</td>\n",
       "      <td>0</td>\n",
       "      <td>0,00000000000000e+00</td>\n",
       "      <td>0,000000000000000</td>\n",
       "      <td>0</td>\n",
       "      <td>0</td>\n",
       "      <td>...</td>\n",
       "      <td>0,000000000000000000</td>\n",
       "      <td>RA de Campinas</td>\n",
       "      <td>São João da Boa Vista</td>\n",
       "      <td>7797</td>\n",
       "      <td>1729</td>\n",
       "      <td>142.67</td>\n",
       "      <td>-21,9319</td>\n",
       "      <td>-46,7176</td>\n",
       "      <td>9</td>\n",
       "      <td>54.650592</td>\n",
       "    </tr>\n",
       "    <tr>\n",
       "      <th>4</th>\n",
       "      <td>Águas de Lindóia</td>\n",
       "      <td>25</td>\n",
       "      <td>2</td>\n",
       "      <td>2020-02-25</td>\n",
       "      <td>0</td>\n",
       "      <td>0</td>\n",
       "      <td>0,00000000000000e+00</td>\n",
       "      <td>0,000000000000000</td>\n",
       "      <td>0</td>\n",
       "      <td>0</td>\n",
       "      <td>...</td>\n",
       "      <td>0,000000000000000000</td>\n",
       "      <td>RA de Campinas</td>\n",
       "      <td>Campinas</td>\n",
       "      <td>18374</td>\n",
       "      <td>3275</td>\n",
       "      <td>60.13</td>\n",
       "      <td>-22,4733</td>\n",
       "      <td>-46,6314</td>\n",
       "      <td>9</td>\n",
       "      <td>305.571262</td>\n",
       "    </tr>\n",
       "  </tbody>\n",
       "</table>\n",
       "<p>5 rows × 22 columns</p>\n",
       "</div>"
      ],
      "text/plain": [
       "          Município  dia  mes        Data  casos  casos_novos  \\\n",
       "0        Adamantina   25    2  2020-02-25      0            0   \n",
       "1            Adolfo   25    2  2020-02-25      0            0   \n",
       "2             Aguaí   25    2  2020-02-25      0            0   \n",
       "3    Águas da Prata   25    2  2020-02-25      0            0   \n",
       "4  Águas de Lindóia   25    2  2020-02-25      0            0   \n",
       "\n",
       "               casos_pc         casos_mm7d  obitos  obitos_novos  ...  \\\n",
       "0  0,00000000000000e+00  0,000000000000000       0             0  ...   \n",
       "1  0,00000000000000e+00  0,000000000000000       0             0  ...   \n",
       "2  0,00000000000000e+00  0,000000000000000       0             0  ...   \n",
       "3  0,00000000000000e+00  0,000000000000000       0             0  ...   \n",
       "4  0,00000000000000e+00  0,000000000000000       0             0  ...   \n",
       "\n",
       "             letalidade                      nome_ra               nome_drs  \\\n",
       "0  0,000000000000000000    RA de Presidente Prudente                Marília   \n",
       "1  0,000000000000000000  RA de São José do Rio Preto  São José do Rio Preto   \n",
       "2  0,000000000000000000               RA de Campinas  São João da Boa Vista   \n",
       "3  0,000000000000000000               RA de Campinas  São João da Boa Vista   \n",
       "4  0,000000000000000000               RA de Campinas               Campinas   \n",
       "\n",
       "     pop pop_60    area  latitude  longitude semana_epidem Densidade /KM²  \n",
       "0  33894   7398  411.99  -21,6820   -51,0737             9      82.268987  \n",
       "1   3447    761  211.06  -21,2325   -49,6451             9      16.331849  \n",
       "2  35608   5245  474.55  -22,0572   -46,9735             9      75.035297  \n",
       "3   7797   1729  142.67  -21,9319   -46,7176             9      54.650592  \n",
       "4  18374   3275   60.13  -22,4733   -46,6314             9     305.571262  \n",
       "\n",
       "[5 rows x 22 columns]"
      ]
     },
     "execution_count": 148,
     "metadata": {},
     "output_type": "execute_result"
    }
   ],
   "source": [
    "covid_alter.head(5)"
   ]
  },
  {
   "cell_type": "code",
   "execution_count": 170,
   "id": "2aa8822d",
   "metadata": {},
   "outputs": [
    {
     "data": {
      "application/vnd.microsoft.datawrangler.viewer.v0+json": {
       "columns": [
        {
         "name": "index",
         "rawType": "int64",
         "type": "integer"
        },
        {
         "name": "Município",
         "rawType": "object",
         "type": "string"
        },
        {
         "name": "dia",
         "rawType": "int64",
         "type": "integer"
        },
        {
         "name": "mes",
         "rawType": "int64",
         "type": "integer"
        },
        {
         "name": "Data",
         "rawType": "datetime64[ns]",
         "type": "datetime"
        },
        {
         "name": "casos",
         "rawType": "int64",
         "type": "integer"
        },
        {
         "name": "casos_novos",
         "rawType": "int64",
         "type": "integer"
        },
        {
         "name": "casos_pc",
         "rawType": "object",
         "type": "string"
        },
        {
         "name": "casos_mm7d",
         "rawType": "object",
         "type": "string"
        },
        {
         "name": "obitos",
         "rawType": "int64",
         "type": "integer"
        },
        {
         "name": "obitos_novos",
         "rawType": "int64",
         "type": "integer"
        },
        {
         "name": "obitos_pc",
         "rawType": "object",
         "type": "string"
        },
        {
         "name": "obitos_mm7d",
         "rawType": "object",
         "type": "string"
        },
        {
         "name": "letalidade",
         "rawType": "object",
         "type": "string"
        },
        {
         "name": "nome_ra",
         "rawType": "object",
         "type": "string"
        },
        {
         "name": "nome_drs",
         "rawType": "object",
         "type": "string"
        },
        {
         "name": "pop",
         "rawType": "int64",
         "type": "integer"
        },
        {
         "name": "pop_60",
         "rawType": "int64",
         "type": "integer"
        },
        {
         "name": "area",
         "rawType": "float64",
         "type": "float"
        },
        {
         "name": "latitude",
         "rawType": "object",
         "type": "string"
        },
        {
         "name": "longitude",
         "rawType": "object",
         "type": "string"
        },
        {
         "name": "semana_epidem",
         "rawType": "int64",
         "type": "integer"
        },
        {
         "name": "Densidade /KM²",
         "rawType": "float64",
         "type": "float"
        },
        {
         "name": "Data_formatada",
         "rawType": "object",
         "type": "string"
        }
       ],
       "ref": "4d66f06c-54bf-44a5-aa3f-cf50a360aa51",
       "rows": [
        [
         "0",
         "Adamantina",
         "25",
         "2",
         "2020-02-25 00:00:00",
         "0",
         "0",
         "0,00000000000000e+00",
         "0,000000000000000",
         "0",
         "0",
         "0,00000000000000e+00",
         "0,000000000000000",
         "0,000000000000000000",
         "RA de Presidente Prudente",
         "Marília",
         "33894",
         "7398",
         "411.99",
         "-21,6820",
         "-51,0737",
         "9",
         "82.26898711133765",
         "25/02/2020"
        ],
        [
         "1",
         "Adolfo",
         "25",
         "2",
         "2020-02-25 00:00:00",
         "0",
         "0",
         "0,00000000000000e+00",
         "0,000000000000000",
         "0",
         "0",
         "0,00000000000000e+00",
         "0,000000000000000",
         "0,000000000000000000",
         "RA de São José do Rio Preto",
         "São José do Rio Preto",
         "3447",
         "761",
         "211.06",
         "-21,2325",
         "-49,6451",
         "9",
         "16.33184876338482",
         "25/02/2020"
        ],
        [
         "2",
         "Aguaí",
         "25",
         "2",
         "2020-02-25 00:00:00",
         "0",
         "0",
         "0,00000000000000e+00",
         "0,000000000000000",
         "0",
         "0",
         "0,00000000000000e+00",
         "0,000000000000000",
         "0,000000000000000000",
         "RA de Campinas",
         "São João da Boa Vista",
         "35608",
         "5245",
         "474.55",
         "-22,0572",
         "-46,9735",
         "9",
         "75.0352965967759",
         "25/02/2020"
        ],
        [
         "3",
         "Águas da Prata",
         "25",
         "2",
         "2020-02-25 00:00:00",
         "0",
         "0",
         "0,00000000000000e+00",
         "0,000000000000000",
         "0",
         "0",
         "0,00000000000000e+00",
         "0,000000000000000",
         "0,000000000000000000",
         "RA de Campinas",
         "São João da Boa Vista",
         "7797",
         "1729",
         "142.67",
         "-21,9319",
         "-46,7176",
         "9",
         "54.65059227588141",
         "25/02/2020"
        ],
        [
         "4",
         "Águas de Lindóia",
         "25",
         "2",
         "2020-02-25 00:00:00",
         "0",
         "0",
         "0,00000000000000e+00",
         "0,000000000000000",
         "0",
         "0",
         "0,00000000000000e+00",
         "0,000000000000000",
         "0,000000000000000000",
         "RA de Campinas",
         "Campinas",
         "18374",
         "3275",
         "60.13",
         "-22,4733",
         "-46,6314",
         "9",
         "305.5712622650923",
         "25/02/2020"
        ]
       ],
       "shape": {
        "columns": 23,
        "rows": 5
       }
      },
      "text/html": [
       "<div>\n",
       "<style scoped>\n",
       "    .dataframe tbody tr th:only-of-type {\n",
       "        vertical-align: middle;\n",
       "    }\n",
       "\n",
       "    .dataframe tbody tr th {\n",
       "        vertical-align: top;\n",
       "    }\n",
       "\n",
       "    .dataframe thead th {\n",
       "        text-align: right;\n",
       "    }\n",
       "</style>\n",
       "<table border=\"1\" class=\"dataframe\">\n",
       "  <thead>\n",
       "    <tr style=\"text-align: right;\">\n",
       "      <th></th>\n",
       "      <th>Município</th>\n",
       "      <th>dia</th>\n",
       "      <th>mes</th>\n",
       "      <th>Data</th>\n",
       "      <th>casos</th>\n",
       "      <th>casos_novos</th>\n",
       "      <th>casos_pc</th>\n",
       "      <th>casos_mm7d</th>\n",
       "      <th>obitos</th>\n",
       "      <th>obitos_novos</th>\n",
       "      <th>...</th>\n",
       "      <th>nome_ra</th>\n",
       "      <th>nome_drs</th>\n",
       "      <th>pop</th>\n",
       "      <th>pop_60</th>\n",
       "      <th>area</th>\n",
       "      <th>latitude</th>\n",
       "      <th>longitude</th>\n",
       "      <th>semana_epidem</th>\n",
       "      <th>Densidade /KM²</th>\n",
       "      <th>Data_formatada</th>\n",
       "    </tr>\n",
       "  </thead>\n",
       "  <tbody>\n",
       "    <tr>\n",
       "      <th>0</th>\n",
       "      <td>Adamantina</td>\n",
       "      <td>25</td>\n",
       "      <td>2</td>\n",
       "      <td>2020-02-25</td>\n",
       "      <td>0</td>\n",
       "      <td>0</td>\n",
       "      <td>0,00000000000000e+00</td>\n",
       "      <td>0,000000000000000</td>\n",
       "      <td>0</td>\n",
       "      <td>0</td>\n",
       "      <td>...</td>\n",
       "      <td>RA de Presidente Prudente</td>\n",
       "      <td>Marília</td>\n",
       "      <td>33894</td>\n",
       "      <td>7398</td>\n",
       "      <td>411.99</td>\n",
       "      <td>-21,6820</td>\n",
       "      <td>-51,0737</td>\n",
       "      <td>9</td>\n",
       "      <td>82.268987</td>\n",
       "      <td>25/02/2020</td>\n",
       "    </tr>\n",
       "    <tr>\n",
       "      <th>1</th>\n",
       "      <td>Adolfo</td>\n",
       "      <td>25</td>\n",
       "      <td>2</td>\n",
       "      <td>2020-02-25</td>\n",
       "      <td>0</td>\n",
       "      <td>0</td>\n",
       "      <td>0,00000000000000e+00</td>\n",
       "      <td>0,000000000000000</td>\n",
       "      <td>0</td>\n",
       "      <td>0</td>\n",
       "      <td>...</td>\n",
       "      <td>RA de São José do Rio Preto</td>\n",
       "      <td>São José do Rio Preto</td>\n",
       "      <td>3447</td>\n",
       "      <td>761</td>\n",
       "      <td>211.06</td>\n",
       "      <td>-21,2325</td>\n",
       "      <td>-49,6451</td>\n",
       "      <td>9</td>\n",
       "      <td>16.331849</td>\n",
       "      <td>25/02/2020</td>\n",
       "    </tr>\n",
       "    <tr>\n",
       "      <th>2</th>\n",
       "      <td>Aguaí</td>\n",
       "      <td>25</td>\n",
       "      <td>2</td>\n",
       "      <td>2020-02-25</td>\n",
       "      <td>0</td>\n",
       "      <td>0</td>\n",
       "      <td>0,00000000000000e+00</td>\n",
       "      <td>0,000000000000000</td>\n",
       "      <td>0</td>\n",
       "      <td>0</td>\n",
       "      <td>...</td>\n",
       "      <td>RA de Campinas</td>\n",
       "      <td>São João da Boa Vista</td>\n",
       "      <td>35608</td>\n",
       "      <td>5245</td>\n",
       "      <td>474.55</td>\n",
       "      <td>-22,0572</td>\n",
       "      <td>-46,9735</td>\n",
       "      <td>9</td>\n",
       "      <td>75.035297</td>\n",
       "      <td>25/02/2020</td>\n",
       "    </tr>\n",
       "    <tr>\n",
       "      <th>3</th>\n",
       "      <td>Águas da Prata</td>\n",
       "      <td>25</td>\n",
       "      <td>2</td>\n",
       "      <td>2020-02-25</td>\n",
       "      <td>0</td>\n",
       "      <td>0</td>\n",
       "      <td>0,00000000000000e+00</td>\n",
       "      <td>0,000000000000000</td>\n",
       "      <td>0</td>\n",
       "      <td>0</td>\n",
       "      <td>...</td>\n",
       "      <td>RA de Campinas</td>\n",
       "      <td>São João da Boa Vista</td>\n",
       "      <td>7797</td>\n",
       "      <td>1729</td>\n",
       "      <td>142.67</td>\n",
       "      <td>-21,9319</td>\n",
       "      <td>-46,7176</td>\n",
       "      <td>9</td>\n",
       "      <td>54.650592</td>\n",
       "      <td>25/02/2020</td>\n",
       "    </tr>\n",
       "    <tr>\n",
       "      <th>4</th>\n",
       "      <td>Águas de Lindóia</td>\n",
       "      <td>25</td>\n",
       "      <td>2</td>\n",
       "      <td>2020-02-25</td>\n",
       "      <td>0</td>\n",
       "      <td>0</td>\n",
       "      <td>0,00000000000000e+00</td>\n",
       "      <td>0,000000000000000</td>\n",
       "      <td>0</td>\n",
       "      <td>0</td>\n",
       "      <td>...</td>\n",
       "      <td>RA de Campinas</td>\n",
       "      <td>Campinas</td>\n",
       "      <td>18374</td>\n",
       "      <td>3275</td>\n",
       "      <td>60.13</td>\n",
       "      <td>-22,4733</td>\n",
       "      <td>-46,6314</td>\n",
       "      <td>9</td>\n",
       "      <td>305.571262</td>\n",
       "      <td>25/02/2020</td>\n",
       "    </tr>\n",
       "  </tbody>\n",
       "</table>\n",
       "<p>5 rows × 23 columns</p>\n",
       "</div>"
      ],
      "text/plain": [
       "          Município  dia  mes       Data  casos  casos_novos  \\\n",
       "0        Adamantina   25    2 2020-02-25      0            0   \n",
       "1            Adolfo   25    2 2020-02-25      0            0   \n",
       "2             Aguaí   25    2 2020-02-25      0            0   \n",
       "3    Águas da Prata   25    2 2020-02-25      0            0   \n",
       "4  Águas de Lindóia   25    2 2020-02-25      0            0   \n",
       "\n",
       "               casos_pc         casos_mm7d  obitos  obitos_novos  ...  \\\n",
       "0  0,00000000000000e+00  0,000000000000000       0             0  ...   \n",
       "1  0,00000000000000e+00  0,000000000000000       0             0  ...   \n",
       "2  0,00000000000000e+00  0,000000000000000       0             0  ...   \n",
       "3  0,00000000000000e+00  0,000000000000000       0             0  ...   \n",
       "4  0,00000000000000e+00  0,000000000000000       0             0  ...   \n",
       "\n",
       "                       nome_ra               nome_drs    pop pop_60    area  \\\n",
       "0    RA de Presidente Prudente                Marília  33894   7398  411.99   \n",
       "1  RA de São José do Rio Preto  São José do Rio Preto   3447    761  211.06   \n",
       "2               RA de Campinas  São João da Boa Vista  35608   5245  474.55   \n",
       "3               RA de Campinas  São João da Boa Vista   7797   1729  142.67   \n",
       "4               RA de Campinas               Campinas  18374   3275   60.13   \n",
       "\n",
       "   latitude  longitude  semana_epidem Densidade /KM² Data_formatada  \n",
       "0  -21,6820   -51,0737              9      82.268987     25/02/2020  \n",
       "1  -21,2325   -49,6451              9      16.331849     25/02/2020  \n",
       "2  -22,0572   -46,9735              9      75.035297     25/02/2020  \n",
       "3  -21,9319   -46,7176              9      54.650592     25/02/2020  \n",
       "4  -22,4733   -46,6314              9     305.571262     25/02/2020  \n",
       "\n",
       "[5 rows x 23 columns]"
      ]
     },
     "execution_count": 170,
     "metadata": {},
     "output_type": "execute_result"
    }
   ],
   "source": [
    "#formata os dados\n",
    "covid_alter['Data'] = pd.to_datetime(covid_alter['Data'],  format='%d/%m/%Y')\n",
    "#covid_alter['Data'] = covid_alter['Data'].dt.strftime('%Y/%m/%d')\n",
    "covid_alter.head(5)\n"
   ]
  },
  {
   "cell_type": "code",
   "execution_count": 181,
   "id": "62eeafe0",
   "metadata": {},
   "outputs": [
    {
     "data": {
      "application/vnd.microsoft.datawrangler.viewer.v0+json": {
       "columns": [
        {
         "name": "index",
         "rawType": "int64",
         "type": "integer"
        },
        {
         "name": "Município",
         "rawType": "object",
         "type": "string"
        },
        {
         "name": "Data",
         "rawType": "datetime64[ns]",
         "type": "datetime"
        },
        {
         "name": "casos_novos",
         "rawType": "int64",
         "type": "integer"
        },
        {
         "name": "obitos_novos",
         "rawType": "int64",
         "type": "integer"
        },
        {
         "name": "pop",
         "rawType": "int64",
         "type": "integer"
        },
        {
         "name": "pop_60",
         "rawType": "int64",
         "type": "integer"
        },
        {
         "name": "Densidade /KM²",
         "rawType": "float64",
         "type": "float"
        }
       ],
       "ref": "ea0323a3-047c-4ff8-a8ba-419c8eb5f396",
       "rows": [
        [
         "0",
         "Adamantina",
         "2020-02-25 00:00:00",
         "0",
         "0",
         "33894",
         "7398",
         "82.26898711133765"
        ],
        [
         "1",
         "Adolfo",
         "2020-02-25 00:00:00",
         "0",
         "0",
         "3447",
         "761",
         "16.33184876338482"
        ],
        [
         "2",
         "Aguaí",
         "2020-02-25 00:00:00",
         "0",
         "0",
         "35608",
         "5245",
         "75.0352965967759"
        ],
        [
         "3",
         "Águas da Prata",
         "2020-02-25 00:00:00",
         "0",
         "0",
         "7797",
         "1729",
         "54.65059227588141"
        ],
        [
         "4",
         "Águas de Lindóia",
         "2020-02-25 00:00:00",
         "0",
         "0",
         "18374",
         "3275",
         "305.5712622650923"
        ]
       ],
       "shape": {
        "columns": 7,
        "rows": 5
       }
      },
      "text/html": [
       "<div>\n",
       "<style scoped>\n",
       "    .dataframe tbody tr th:only-of-type {\n",
       "        vertical-align: middle;\n",
       "    }\n",
       "\n",
       "    .dataframe tbody tr th {\n",
       "        vertical-align: top;\n",
       "    }\n",
       "\n",
       "    .dataframe thead th {\n",
       "        text-align: right;\n",
       "    }\n",
       "</style>\n",
       "<table border=\"1\" class=\"dataframe\">\n",
       "  <thead>\n",
       "    <tr style=\"text-align: right;\">\n",
       "      <th></th>\n",
       "      <th>Município</th>\n",
       "      <th>Data</th>\n",
       "      <th>casos_novos</th>\n",
       "      <th>obitos_novos</th>\n",
       "      <th>pop</th>\n",
       "      <th>pop_60</th>\n",
       "      <th>Densidade /KM²</th>\n",
       "    </tr>\n",
       "  </thead>\n",
       "  <tbody>\n",
       "    <tr>\n",
       "      <th>0</th>\n",
       "      <td>Adamantina</td>\n",
       "      <td>2020-02-25</td>\n",
       "      <td>0</td>\n",
       "      <td>0</td>\n",
       "      <td>33894</td>\n",
       "      <td>7398</td>\n",
       "      <td>82.268987</td>\n",
       "    </tr>\n",
       "    <tr>\n",
       "      <th>1</th>\n",
       "      <td>Adolfo</td>\n",
       "      <td>2020-02-25</td>\n",
       "      <td>0</td>\n",
       "      <td>0</td>\n",
       "      <td>3447</td>\n",
       "      <td>761</td>\n",
       "      <td>16.331849</td>\n",
       "    </tr>\n",
       "    <tr>\n",
       "      <th>2</th>\n",
       "      <td>Aguaí</td>\n",
       "      <td>2020-02-25</td>\n",
       "      <td>0</td>\n",
       "      <td>0</td>\n",
       "      <td>35608</td>\n",
       "      <td>5245</td>\n",
       "      <td>75.035297</td>\n",
       "    </tr>\n",
       "    <tr>\n",
       "      <th>3</th>\n",
       "      <td>Águas da Prata</td>\n",
       "      <td>2020-02-25</td>\n",
       "      <td>0</td>\n",
       "      <td>0</td>\n",
       "      <td>7797</td>\n",
       "      <td>1729</td>\n",
       "      <td>54.650592</td>\n",
       "    </tr>\n",
       "    <tr>\n",
       "      <th>4</th>\n",
       "      <td>Águas de Lindóia</td>\n",
       "      <td>2020-02-25</td>\n",
       "      <td>0</td>\n",
       "      <td>0</td>\n",
       "      <td>18374</td>\n",
       "      <td>3275</td>\n",
       "      <td>305.571262</td>\n",
       "    </tr>\n",
       "  </tbody>\n",
       "</table>\n",
       "</div>"
      ],
      "text/plain": [
       "          Município       Data  casos_novos  obitos_novos    pop  pop_60  \\\n",
       "0        Adamantina 2020-02-25            0             0  33894    7398   \n",
       "1            Adolfo 2020-02-25            0             0   3447     761   \n",
       "2             Aguaí 2020-02-25            0             0  35608    5245   \n",
       "3    Águas da Prata 2020-02-25            0             0   7797    1729   \n",
       "4  Águas de Lindóia 2020-02-25            0             0  18374    3275   \n",
       "\n",
       "   Densidade /KM²  \n",
       "0       82.268987  \n",
       "1       16.331849  \n",
       "2       75.035297  \n",
       "3       54.650592  \n",
       "4      305.571262  "
      ]
     },
     "execution_count": 181,
     "metadata": {},
     "output_type": "execute_result"
    }
   ],
   "source": [
    "colunas_desejadas = ['Município', 'Data', 'casos_novos', 'obitos_novos', 'pop', 'pop_60', 'Densidade /KM²']\n",
    "df_covid_ML = covid_alter[colunas_desejadas].copy()\n",
    "df_covid_ML.head(5)"
   ]
  },
  {
   "cell_type": "code",
   "execution_count": 182,
   "id": "49cf4808",
   "metadata": {},
   "outputs": [],
   "source": [
    "\n",
    "from sklearn.model_selection import train_test_split\n",
    "from sklearn.ensemble import RandomForestRegressor\n",
    "from sklearn.metrics import mean_absolute_error, mean_squared_error, r2_score\n",
    "import matplotlib.pyplot as plt\n",
    "\n",
    "# ============================================================================\n",
    "# RANDOM FOREST - MELHOR MODELO PARA COVID-19\n",
    "# ============================================================================\n",
    "\n",
    "def modelo_covid_random_forest(df):\n",
    "    \"\"\"\n",
    "    Random Forest: Melhor modelo para prever casos de COVID-19\n",
    "    - Lida bem com outliers\n",
    "    - Captura relações não-lineares\n",
    "    - Robusto e confiável\n",
    "    \"\"\"\n",
    "    \n",
    "    print(\"🤖 TREINANDO RANDOM FOREST...\")\n",
    "    \n",
    "    # 1. Preparar dados (agregar por município)\n",
    "    municipios = df.groupby('Município').agg({\n",
    "        'casos_novos': 'sum',\n",
    "        'obitos_novos': 'sum',\n",
    "        'pop': 'first',\n",
    "        'pop_60': 'first',\n",
    "        'Densidade /KM²': 'first'\n",
    "    }).reset_index()\n",
    "    \n",
    "    # Renomear colunas\n",
    "    municipios.columns = ['Município', 'total_casos', 'total_obitos', 'pop', 'pop_60', 'densidade']\n",
    "    municipios = municipios.dropna()\n",
    "    \n",
    "    # 2. Definir variáveis\n",
    "    X = municipios[['pop', 'pop_60', 'densidade']]  # Variáveis explicativas\n",
    "    y = municipios['total_casos']                    # Variável a prever\n",
    "    \n",
    "    # 3. Dividir treino e teste (80% treino, 20% teste)\n",
    "    X_train, X_test, y_train, y_test = train_test_split(X, y, test_size=0.2, random_state=42)\n",
    "    \n",
    "    # 4. Treinar o modelo\n",
    "    modelo = RandomForestRegressor(n_estimators=100, random_state=42)\n",
    "    modelo.fit(X_train, y_train)\n",
    "    \n",
    "    # 5. Fazer previsões\n",
    "    y_pred = modelo.predict(X_test)\n",
    "    \n",
    "    # 6. Avaliar performance\n",
    "    r2 = r2_score(y_test, y_pred)\n",
    "    mae = mean_absolute_error(y_test, y_pred)\n",
    "    rmse = np.sqrt(mean_squared_error(y_test, y_pred))\n",
    "    \n",
    "    # 7. Mostrar resultados\n",
    "    print(\"=\"*50)\n",
    "    print(\"🎯 RESULTADOS DO MODELO\")\n",
    "    print(\"=\"*50)\n",
    "    print(f\"R² Score: {r2:.3f} ({'Excelente' if r2 > 0.8 else 'Bom' if r2 > 0.6 else 'Regular' if r2 > 0.4 else 'Ruim'})\")\n",
    "    print(f\"Erro Médio: {mae:,.0f} casos\")\n",
    "    print(f\"Erro Quadrático: {rmse:,.0f} casos\")\n",
    "    \n",
    "    # 8. Importância das variáveis\n",
    "    importancias = pd.DataFrame({\n",
    "        'Variável': ['População Total', 'População 60+', 'Densidade'],\n",
    "        'Importância': modelo.feature_importances_\n",
    "    }).sort_values('Importância', ascending=False)\n",
    "    \n",
    "    print(f\"\\n📊 IMPORTÂNCIA DAS VARIÁVEIS:\")\n",
    "    for _, row in importancias.iterrows():\n",
    "        porcentagem = row['Importância'] * 100\n",
    "        print(f\"{row['Variável']}: {porcentagem:.1f}%\")\n",
    "    \n",
    "    # 9. Visualização\n",
    "    plt.figure(figsize=(10, 6))\n",
    "    \n",
    "    # Subplot 1: Previsões vs Realidade\n",
    "    plt.subplot(1, 2, 1)\n",
    "    plt.scatter(y_test, y_pred, alpha=0.6, color='blue')\n",
    "    plt.plot([y_test.min(), y_test.max()], [y_test.min(), y_test.max()], 'r--', lw=2)\n",
    "    plt.xlabel('Casos Reais')\n",
    "    plt.ylabel('Casos Previstos')\n",
    "    plt.title(f'Previsões vs Realidade\\nR² = {r2:.3f}')\n",
    "    plt.grid(True, alpha=0.3)\n",
    "    \n",
    "    # Subplot 2: Importância das Variáveis\n",
    "    plt.subplot(1, 2, 2)\n",
    "    plt.barh(importancias['Variável'], importancias['Importância'] * 100, color=['#1f77b4', '#ff7f0e', '#2ca02c'])\n",
    "    plt.xlabel('Importância (%)')\n",
    "    plt.title('Importância das Variáveis')\n",
    "    plt.grid(True, alpha=0.3)\n",
    "    \n",
    "    plt.tight_layout()\n",
    "    plt.show()\n",
    "    \n",
    "    # 10. Interpretação\n",
    "    print(f\"\\n💡 INTERPRETAÇÃO:\")\n",
    "    if r2 > 0.8:\n",
    "        print(\"✅ Modelo EXCELENTE! Consegue prever casos com alta precisão.\")\n",
    "    elif r2 > 0.6:\n",
    "        print(\"✅ Modelo BOM! Previsões confiáveis na maioria dos casos.\")\n",
    "    elif r2 > 0.4:\n",
    "        print(\"⚠️ Modelo REGULAR. Pode ser melhorado com mais variáveis.\")\n",
    "    else:\n",
    "        print(\"❌ Modelo com dificuldades. Precisa de mais dados ou variáveis.\")\n",
    "    \n",
    "    print(f\"📈 A variável mais importante é: {importancias.iloc[0]['Variável']}\")\n",
    "    \n",
    "    # 11. Exemplo de previsão\n",
    "    print(f\"\\n🔮 EXEMPLO DE PREVISÃO:\")\n",
    "    exemplo = [[100000, 15000, 5000]]  # pop, pop_60, densidade\n",
    "    pred_exemplo = modelo.predict(exemplo)\n",
    "    print(f\"Município com 100mil hab, 15mil idosos, densidade 5mil/km²:\")\n",
    "    print(f\"Casos previstos: {pred_exemplo[0]:,.0f}\")\n",
    "    \n",
    "    return modelo, municipios, importancias\n",
    "\n",
    "# ============================================================================\n",
    "# COMO USAR:\n",
    "# ============================================================================\n",
    "\n",
    "# modelo, dados, importancias = modelo_covid_random_forest(covid_alter)"
   ]
  },
  {
   "cell_type": "code",
   "execution_count": 183,
   "id": "18016890",
   "metadata": {},
   "outputs": [
    {
     "name": "stdout",
     "output_type": "stream",
     "text": [
      "🤖 TREINANDO RANDOM FOREST...\n",
      "==================================================\n",
      "🎯 RESULTADOS DO MODELO\n",
      "==================================================\n",
      "R² Score: 0.816 (Excelente)\n",
      "Erro Médio: 1,267 casos\n",
      "Erro Quadrático: 3,449 casos\n",
      "\n",
      "📊 IMPORTÂNCIA DAS VARIÁVEIS:\n",
      "População 60+: 59.7%\n",
      "População Total: 39.7%\n",
      "Densidade: 0.6%\n"
     ]
    },
    {
     "data": {
      "image/png": "[encoded data removed]",
      "text/plain": [
       "<Figure size 1000x600 with 2 Axes>"
      ]
     },
     "metadata": {},
     "output_type": "display_data"
    },
    {
     "name": "stdout",
     "output_type": "stream",
     "text": [
      "\n",
      "💡 INTERPRETAÇÃO:\n",
      "✅ Modelo EXCELENTE! Consegue prever casos com alta precisão.\n",
      "📈 A variável mais importante é: População 60+\n",
      "\n",
      "🔮 EXEMPLO DE PREVISÃO:\n",
      "Município com 100mil hab, 15mil idosos, densidade 5mil/km²:\n",
      "Casos previstos: 9,447\n"
     ]
    },
    {
     "name": "stderr",
     "output_type": "stream",
     "text": [
      "c:\\Users\\guico\\anaconda3\\Lib\\site-packages\\sklearn\\base.py:493: UserWarning: X does not have valid feature names, but RandomForestRegressor was fitted with feature names\n",
      "  warnings.warn(\n"
     ]
    }
   ],
   "source": [
    "#modelo_covid_random_forest(df_covid_ML)\n",
    "modelo, dados, importancias = modelo_covid_random_forest(df_covid_ML)"
   ]
  }
 ],
 "metadata": {
  "kernelspec": {
   "display_name": "base",
   "language": "python",
   "name": "python3"
  },
  "language_info": {
   "codemirror_mode": {
    "name": "ipython",
    "version": 3
   },
   "file_extension": ".py",
   "mimetype": "text/x-python",
   "name": "python",
   "nbconvert_exporter": "python",
   "pygments_lexer": "ipython3",
   "version": "3.12.7"
  }
 },
 "nbformat": 4,
 "nbformat_minor": 5
}
