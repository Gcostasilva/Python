{
 "cells": [
  {
   "cell_type": "markdown",
   "id": "48e9cbbe",
   "metadata": {},
   "source": [
    "# *Análise de dados*"
   ]
  },
  {
   "cell_type": "markdown",
   "id": "f75025a6",
   "metadata": {},
   "source": [
    "## Covid - Fevereiro 2020 a setembro 2021"
   ]
  },
  {
   "cell_type": "markdown",
   "id": "05634c15",
   "metadata": {},
   "source": [
    "### Importação"
   ]
  },
  {
   "cell_type": "code",
   "execution_count": 2,
   "id": "2db2b75e",
   "metadata": {},
   "outputs": [],
   "source": [
    "import pandas as pd\n",
    "import numpy as np"
   ]
  },
  {
   "cell_type": "code",
   "execution_count": 3,
   "id": "40252156",
   "metadata": {},
   "outputs": [],
   "source": [
    "covid = pd.read_csv('dados_covid_sp.csv', sep=';', encoding=\"utf-8\")"
   ]
  },
  {
   "cell_type": "code",
   "execution_count": 4,
   "id": "643cb022",
   "metadata": {},
   "outputs": [
    {
     "data": {
      "application/vnd.microsoft.datawrangler.viewer.v0+json": {
       "columns": [
        {
         "name": "index",
         "rawType": "int64",
         "type": "integer"
        },
        {
         "name": "nome_munic",
         "rawType": "object",
         "type": "string"
        },
        {
         "name": "codigo_ibge",
         "rawType": "int64",
         "type": "integer"
        },
        {
         "name": "dia",
         "rawType": "int64",
         "type": "integer"
        },
        {
         "name": "mes",
         "rawType": "int64",
         "type": "integer"
        },
        {
         "name": "datahora",
         "rawType": "object",
         "type": "string"
        },
        {
         "name": "casos",
         "rawType": "int64",
         "type": "integer"
        },
        {
         "name": "casos_novos",
         "rawType": "int64",
         "type": "integer"
        },
        {
         "name": "casos_pc",
         "rawType": "object",
         "type": "string"
        },
        {
         "name": "casos_mm7d",
         "rawType": "object",
         "type": "string"
        },
        {
         "name": "obitos",
         "rawType": "int64",
         "type": "integer"
        },
        {
         "name": "obitos_novos",
         "rawType": "int64",
         "type": "integer"
        },
        {
         "name": "obitos_pc",
         "rawType": "object",
         "type": "string"
        },
        {
         "name": "obitos_mm7d",
         "rawType": "object",
         "type": "string"
        },
        {
         "name": "letalidade",
         "rawType": "object",
         "type": "string"
        },
        {
         "name": "nome_ra",
         "rawType": "object",
         "type": "string"
        },
        {
         "name": "cod_ra",
         "rawType": "int64",
         "type": "integer"
        },
        {
         "name": "nome_drs",
         "rawType": "object",
         "type": "string"
        },
        {
         "name": "cod_drs",
         "rawType": "int64",
         "type": "integer"
        },
        {
         "name": "pop",
         "rawType": "int64",
         "type": "integer"
        },
        {
         "name": "pop_60",
         "rawType": "int64",
         "type": "integer"
        },
        {
         "name": "area",
         "rawType": "int64",
         "type": "integer"
        },
        {
         "name": "map_leg",
         "rawType": "object",
         "type": "string"
        },
        {
         "name": "map_leg_s",
         "rawType": "float64",
         "type": "float"
        },
        {
         "name": "latitude",
         "rawType": "object",
         "type": "string"
        },
        {
         "name": "longitude",
         "rawType": "object",
         "type": "string"
        },
        {
         "name": "semana_epidem",
         "rawType": "int64",
         "type": "integer"
        }
       ],
       "ref": "2b904f77-381d-4168-a9c3-0dae4a089636",
       "rows": [
        [
         "0",
         "Adamantina",
         "3500105",
         "25",
         "2",
         "2020-02-25",
         "0",
         "0",
         "0,00000000000000e+00",
         "0,000000000000000",
         "0",
         "0",
         "0,00000000000000e+00",
         "0,000000000000000",
         "0,000000000000000000",
         "RA de Presidente Prudente",
         "9",
         "Marília",
         "5",
         "33894",
         "7398",
         "41199",
         "0",
         "8.0",
         "-21,6820",
         "-51,0737",
         "9"
        ],
        [
         "1",
         "Adolfo",
         "3500204",
         "25",
         "2",
         "2020-02-25",
         "0",
         "0",
         "0,00000000000000e+00",
         "0,000000000000000",
         "0",
         "0",
         "0,00000000000000e+00",
         "0,000000000000000",
         "0,000000000000000000",
         "RA de São José do Rio Preto",
         "14",
         "São José do Rio Preto",
         "15",
         "3447",
         "761",
         "21106",
         "0",
         "8.0",
         "-21,2325",
         "-49,6451",
         "9"
        ],
        [
         "2",
         "Aguaí",
         "3500303",
         "25",
         "2",
         "2020-02-25",
         "0",
         "0",
         "0,00000000000000e+00",
         "0,000000000000000",
         "0",
         "0",
         "0,00000000000000e+00",
         "0,000000000000000",
         "0,000000000000000000",
         "RA de Campinas",
         "4",
         "São João da Boa Vista",
         "14",
         "35608",
         "5245",
         "47455",
         "0",
         "8.0",
         "-22,0572",
         "-46,9735",
         "9"
        ],
        [
         "3",
         "Águas da Prata",
         "3500402",
         "25",
         "2",
         "2020-02-25",
         "0",
         "0",
         "0,00000000000000e+00",
         "0,000000000000000",
         "0",
         "0",
         "0,00000000000000e+00",
         "0,000000000000000",
         "0,000000000000000000",
         "RA de Campinas",
         "4",
         "São João da Boa Vista",
         "14",
         "7797",
         "1729",
         "14267",
         "0",
         "8.0",
         "-21,9319",
         "-46,7176",
         "9"
        ],
        [
         "4",
         "Águas de Lindóia",
         "3500501",
         "25",
         "2",
         "2020-02-25",
         "0",
         "0",
         "0,00000000000000e+00",
         "0,000000000000000",
         "0",
         "0",
         "0,00000000000000e+00",
         "0,000000000000000",
         "0,000000000000000000",
         "RA de Campinas",
         "4",
         "Campinas",
         "3",
         "18374",
         "3275",
         "6013",
         "0",
         "8.0",
         "-22,4733",
         "-46,6314",
         "9"
        ]
       ],
       "shape": {
        "columns": 26,
        "rows": 5
       }
      },
      "text/html": [
       "<div>\n",
       "<style scoped>\n",
       "    .dataframe tbody tr th:only-of-type {\n",
       "        vertical-align: middle;\n",
       "    }\n",
       "\n",
       "    .dataframe tbody tr th {\n",
       "        vertical-align: top;\n",
       "    }\n",
       "\n",
       "    .dataframe thead th {\n",
       "        text-align: right;\n",
       "    }\n",
       "</style>\n",
       "<table border=\"1\" class=\"dataframe\">\n",
       "  <thead>\n",
       "    <tr style=\"text-align: right;\">\n",
       "      <th></th>\n",
       "      <th>nome_munic</th>\n",
       "      <th>codigo_ibge</th>\n",
       "      <th>dia</th>\n",
       "      <th>mes</th>\n",
       "      <th>datahora</th>\n",
       "      <th>casos</th>\n",
       "      <th>casos_novos</th>\n",
       "      <th>casos_pc</th>\n",
       "      <th>casos_mm7d</th>\n",
       "      <th>obitos</th>\n",
       "      <th>...</th>\n",
       "      <th>nome_drs</th>\n",
       "      <th>cod_drs</th>\n",
       "      <th>pop</th>\n",
       "      <th>pop_60</th>\n",
       "      <th>area</th>\n",
       "      <th>map_leg</th>\n",
       "      <th>map_leg_s</th>\n",
       "      <th>latitude</th>\n",
       "      <th>longitude</th>\n",
       "      <th>semana_epidem</th>\n",
       "    </tr>\n",
       "  </thead>\n",
       "  <tbody>\n",
       "    <tr>\n",
       "      <th>0</th>\n",
       "      <td>Adamantina</td>\n",
       "      <td>3500105</td>\n",
       "      <td>25</td>\n",
       "      <td>2</td>\n",
       "      <td>2020-02-25</td>\n",
       "      <td>0</td>\n",
       "      <td>0</td>\n",
       "      <td>0,00000000000000e+00</td>\n",
       "      <td>0,000000000000000</td>\n",
       "      <td>0</td>\n",
       "      <td>...</td>\n",
       "      <td>Marília</td>\n",
       "      <td>5</td>\n",
       "      <td>33894</td>\n",
       "      <td>7398</td>\n",
       "      <td>41199</td>\n",
       "      <td>0</td>\n",
       "      <td>8.0</td>\n",
       "      <td>-21,6820</td>\n",
       "      <td>-51,0737</td>\n",
       "      <td>9</td>\n",
       "    </tr>\n",
       "    <tr>\n",
       "      <th>1</th>\n",
       "      <td>Adolfo</td>\n",
       "      <td>3500204</td>\n",
       "      <td>25</td>\n",
       "      <td>2</td>\n",
       "      <td>2020-02-25</td>\n",
       "      <td>0</td>\n",
       "      <td>0</td>\n",
       "      <td>0,00000000000000e+00</td>\n",
       "      <td>0,000000000000000</td>\n",
       "      <td>0</td>\n",
       "      <td>...</td>\n",
       "      <td>São José do Rio Preto</td>\n",
       "      <td>15</td>\n",
       "      <td>3447</td>\n",
       "      <td>761</td>\n",
       "      <td>21106</td>\n",
       "      <td>0</td>\n",
       "      <td>8.0</td>\n",
       "      <td>-21,2325</td>\n",
       "      <td>-49,6451</td>\n",
       "      <td>9</td>\n",
       "    </tr>\n",
       "    <tr>\n",
       "      <th>2</th>\n",
       "      <td>Aguaí</td>\n",
       "      <td>3500303</td>\n",
       "      <td>25</td>\n",
       "      <td>2</td>\n",
       "      <td>2020-02-25</td>\n",
       "      <td>0</td>\n",
       "      <td>0</td>\n",
       "      <td>0,00000000000000e+00</td>\n",
       "      <td>0,000000000000000</td>\n",
       "      <td>0</td>\n",
       "      <td>...</td>\n",
       "      <td>São João da Boa Vista</td>\n",
       "      <td>14</td>\n",
       "      <td>35608</td>\n",
       "      <td>5245</td>\n",
       "      <td>47455</td>\n",
       "      <td>0</td>\n",
       "      <td>8.0</td>\n",
       "      <td>-22,0572</td>\n",
       "      <td>-46,9735</td>\n",
       "      <td>9</td>\n",
       "    </tr>\n",
       "    <tr>\n",
       "      <th>3</th>\n",
       "      <td>Águas da Prata</td>\n",
       "      <td>3500402</td>\n",
       "      <td>25</td>\n",
       "      <td>2</td>\n",
       "      <td>2020-02-25</td>\n",
       "      <td>0</td>\n",
       "      <td>0</td>\n",
       "      <td>0,00000000000000e+00</td>\n",
       "      <td>0,000000000000000</td>\n",
       "      <td>0</td>\n",
       "      <td>...</td>\n",
       "      <td>São João da Boa Vista</td>\n",
       "      <td>14</td>\n",
       "      <td>7797</td>\n",
       "      <td>1729</td>\n",
       "      <td>14267</td>\n",
       "      <td>0</td>\n",
       "      <td>8.0</td>\n",
       "      <td>-21,9319</td>\n",
       "      <td>-46,7176</td>\n",
       "      <td>9</td>\n",
       "    </tr>\n",
       "    <tr>\n",
       "      <th>4</th>\n",
       "      <td>Águas de Lindóia</td>\n",
       "      <td>3500501</td>\n",
       "      <td>25</td>\n",
       "      <td>2</td>\n",
       "      <td>2020-02-25</td>\n",
       "      <td>0</td>\n",
       "      <td>0</td>\n",
       "      <td>0,00000000000000e+00</td>\n",
       "      <td>0,000000000000000</td>\n",
       "      <td>0</td>\n",
       "      <td>...</td>\n",
       "      <td>Campinas</td>\n",
       "      <td>3</td>\n",
       "      <td>18374</td>\n",
       "      <td>3275</td>\n",
       "      <td>6013</td>\n",
       "      <td>0</td>\n",
       "      <td>8.0</td>\n",
       "      <td>-22,4733</td>\n",
       "      <td>-46,6314</td>\n",
       "      <td>9</td>\n",
       "    </tr>\n",
       "  </tbody>\n",
       "</table>\n",
       "<p>5 rows × 26 columns</p>\n",
       "</div>"
      ],
      "text/plain": [
       "         nome_munic  codigo_ibge  dia  mes    datahora  casos  casos_novos  \\\n",
       "0        Adamantina      3500105   25    2  2020-02-25      0            0   \n",
       "1            Adolfo      3500204   25    2  2020-02-25      0            0   \n",
       "2             Aguaí      3500303   25    2  2020-02-25      0            0   \n",
       "3    Águas da Prata      3500402   25    2  2020-02-25      0            0   \n",
       "4  Águas de Lindóia      3500501   25    2  2020-02-25      0            0   \n",
       "\n",
       "               casos_pc         casos_mm7d  obitos  ...  \\\n",
       "0  0,00000000000000e+00  0,000000000000000       0  ...   \n",
       "1  0,00000000000000e+00  0,000000000000000       0  ...   \n",
       "2  0,00000000000000e+00  0,000000000000000       0  ...   \n",
       "3  0,00000000000000e+00  0,000000000000000       0  ...   \n",
       "4  0,00000000000000e+00  0,000000000000000       0  ...   \n",
       "\n",
       "                nome_drs cod_drs    pop pop_60   area  map_leg map_leg_s  \\\n",
       "0                Marília       5  33894   7398  41199        0       8.0   \n",
       "1  São José do Rio Preto      15   3447    761  21106        0       8.0   \n",
       "2  São João da Boa Vista      14  35608   5245  47455        0       8.0   \n",
       "3  São João da Boa Vista      14   7797   1729  14267        0       8.0   \n",
       "4               Campinas       3  18374   3275   6013        0       8.0   \n",
       "\n",
       "   latitude  longitude  semana_epidem  \n",
       "0  -21,6820   -51,0737              9  \n",
       "1  -21,2325   -49,6451              9  \n",
       "2  -22,0572   -46,9735              9  \n",
       "3  -21,9319   -46,7176              9  \n",
       "4  -22,4733   -46,6314              9  \n",
       "\n",
       "[5 rows x 26 columns]"
      ]
     },
     "execution_count": 4,
     "metadata": {},
     "output_type": "execute_result"
    }
   ],
   "source": [
    "covid .head(5)"
   ]
  },
  {
   "cell_type": "code",
   "execution_count": 5,
   "id": "b4a766a6",
   "metadata": {},
   "outputs": [
    {
     "data": {
      "text/plain": [
       "(374034, 26)"
      ]
     },
     "execution_count": 5,
     "metadata": {},
     "output_type": "execute_result"
    }
   ],
   "source": [
    "covid.shape"
   ]
  },
  {
   "cell_type": "markdown",
   "id": "a9af2ab8",
   "metadata": {},
   "source": [
    "\n",
    "### Alteração"
   ]
  },
  {
   "cell_type": "markdown",
   "id": "a88628f9",
   "metadata": {},
   "source": [
    "##### Altera o nome das colunas"
   ]
  },
  {
   "cell_type": "code",
   "execution_count": 6,
   "id": "af84f636",
   "metadata": {},
   "outputs": [],
   "source": [
    "covid.rename(columns={'nome_munic':'Município', 'datahora':'Data'}, inplace=True)"
   ]
  },
  {
   "cell_type": "markdown",
   "id": "031b4369",
   "metadata": {},
   "source": [
    "#### Exclui as colunas"
   ]
  },
  {
   "cell_type": "code",
   "execution_count": 7,
   "id": "ecb0620a",
   "metadata": {},
   "outputs": [],
   "source": [
    "covid_alter = covid.drop(columns={'cod_ra'})"
   ]
  },
  {
   "cell_type": "code",
   "execution_count": 8,
   "id": "17c9f263",
   "metadata": {},
   "outputs": [
    {
     "data": {
      "application/vnd.microsoft.datawrangler.viewer.v0+json": {
       "columns": [
        {
         "name": "index",
         "rawType": "int64",
         "type": "integer"
        },
        {
         "name": "Município",
         "rawType": "object",
         "type": "string"
        },
        {
         "name": "codigo_ibge",
         "rawType": "int64",
         "type": "integer"
        },
        {
         "name": "dia",
         "rawType": "int64",
         "type": "integer"
        },
        {
         "name": "mes",
         "rawType": "int64",
         "type": "integer"
        },
        {
         "name": "Data",
         "rawType": "object",
         "type": "string"
        },
        {
         "name": "casos",
         "rawType": "int64",
         "type": "integer"
        },
        {
         "name": "casos_novos",
         "rawType": "int64",
         "type": "integer"
        },
        {
         "name": "casos_pc",
         "rawType": "object",
         "type": "string"
        },
        {
         "name": "casos_mm7d",
         "rawType": "object",
         "type": "string"
        },
        {
         "name": "obitos",
         "rawType": "int64",
         "type": "integer"
        },
        {
         "name": "obitos_novos",
         "rawType": "int64",
         "type": "integer"
        },
        {
         "name": "obitos_pc",
         "rawType": "object",
         "type": "string"
        },
        {
         "name": "obitos_mm7d",
         "rawType": "object",
         "type": "string"
        },
        {
         "name": "letalidade",
         "rawType": "object",
         "type": "string"
        },
        {
         "name": "nome_ra",
         "rawType": "object",
         "type": "string"
        },
        {
         "name": "nome_drs",
         "rawType": "object",
         "type": "string"
        },
        {
         "name": "cod_drs",
         "rawType": "int64",
         "type": "integer"
        },
        {
         "name": "pop",
         "rawType": "int64",
         "type": "integer"
        },
        {
         "name": "pop_60",
         "rawType": "int64",
         "type": "integer"
        },
        {
         "name": "area",
         "rawType": "int64",
         "type": "integer"
        },
        {
         "name": "map_leg",
         "rawType": "object",
         "type": "string"
        },
        {
         "name": "map_leg_s",
         "rawType": "float64",
         "type": "float"
        },
        {
         "name": "latitude",
         "rawType": "object",
         "type": "string"
        },
        {
         "name": "longitude",
         "rawType": "object",
         "type": "string"
        },
        {
         "name": "semana_epidem",
         "rawType": "int64",
         "type": "integer"
        }
       ],
       "ref": "c3951a3e-86e4-42c2-a7f0-f8b1adbe483b",
       "rows": [
        [
         "0",
         "Adamantina",
         "3500105",
         "25",
         "2",
         "2020-02-25",
         "0",
         "0",
         "0,00000000000000e+00",
         "0,000000000000000",
         "0",
         "0",
         "0,00000000000000e+00",
         "0,000000000000000",
         "0,000000000000000000",
         "RA de Presidente Prudente",
         "Marília",
         "5",
         "33894",
         "7398",
         "41199",
         "0",
         "8.0",
         "-21,6820",
         "-51,0737",
         "9"
        ],
        [
         "1",
         "Adolfo",
         "3500204",
         "25",
         "2",
         "2020-02-25",
         "0",
         "0",
         "0,00000000000000e+00",
         "0,000000000000000",
         "0",
         "0",
         "0,00000000000000e+00",
         "0,000000000000000",
         "0,000000000000000000",
         "RA de São José do Rio Preto",
         "São José do Rio Preto",
         "15",
         "3447",
         "761",
         "21106",
         "0",
         "8.0",
         "-21,2325",
         "-49,6451",
         "9"
        ],
        [
         "2",
         "Aguaí",
         "3500303",
         "25",
         "2",
         "2020-02-25",
         "0",
         "0",
         "0,00000000000000e+00",
         "0,000000000000000",
         "0",
         "0",
         "0,00000000000000e+00",
         "0,000000000000000",
         "0,000000000000000000",
         "RA de Campinas",
         "São João da Boa Vista",
         "14",
         "35608",
         "5245",
         "47455",
         "0",
         "8.0",
         "-22,0572",
         "-46,9735",
         "9"
        ],
        [
         "3",
         "Águas da Prata",
         "3500402",
         "25",
         "2",
         "2020-02-25",
         "0",
         "0",
         "0,00000000000000e+00",
         "0,000000000000000",
         "0",
         "0",
         "0,00000000000000e+00",
         "0,000000000000000",
         "0,000000000000000000",
         "RA de Campinas",
         "São João da Boa Vista",
         "14",
         "7797",
         "1729",
         "14267",
         "0",
         "8.0",
         "-21,9319",
         "-46,7176",
         "9"
        ]
       ],
       "shape": {
        "columns": 25,
        "rows": 4
       }
      },
      "text/html": [
       "<div>\n",
       "<style scoped>\n",
       "    .dataframe tbody tr th:only-of-type {\n",
       "        vertical-align: middle;\n",
       "    }\n",
       "\n",
       "    .dataframe tbody tr th {\n",
       "        vertical-align: top;\n",
       "    }\n",
       "\n",
       "    .dataframe thead th {\n",
       "        text-align: right;\n",
       "    }\n",
       "</style>\n",
       "<table border=\"1\" class=\"dataframe\">\n",
       "  <thead>\n",
       "    <tr style=\"text-align: right;\">\n",
       "      <th></th>\n",
       "      <th>Município</th>\n",
       "      <th>codigo_ibge</th>\n",
       "      <th>dia</th>\n",
       "      <th>mes</th>\n",
       "      <th>Data</th>\n",
       "      <th>casos</th>\n",
       "      <th>casos_novos</th>\n",
       "      <th>casos_pc</th>\n",
       "      <th>casos_mm7d</th>\n",
       "      <th>obitos</th>\n",
       "      <th>...</th>\n",
       "      <th>nome_drs</th>\n",
       "      <th>cod_drs</th>\n",
       "      <th>pop</th>\n",
       "      <th>pop_60</th>\n",
       "      <th>area</th>\n",
       "      <th>map_leg</th>\n",
       "      <th>map_leg_s</th>\n",
       "      <th>latitude</th>\n",
       "      <th>longitude</th>\n",
       "      <th>semana_epidem</th>\n",
       "    </tr>\n",
       "  </thead>\n",
       "  <tbody>\n",
       "    <tr>\n",
       "      <th>0</th>\n",
       "      <td>Adamantina</td>\n",
       "      <td>3500105</td>\n",
       "      <td>25</td>\n",
       "      <td>2</td>\n",
       "      <td>2020-02-25</td>\n",
       "      <td>0</td>\n",
       "      <td>0</td>\n",
       "      <td>0,00000000000000e+00</td>\n",
       "      <td>0,000000000000000</td>\n",
       "      <td>0</td>\n",
       "      <td>...</td>\n",
       "      <td>Marília</td>\n",
       "      <td>5</td>\n",
       "      <td>33894</td>\n",
       "      <td>7398</td>\n",
       "      <td>41199</td>\n",
       "      <td>0</td>\n",
       "      <td>8.0</td>\n",
       "      <td>-21,6820</td>\n",
       "      <td>-51,0737</td>\n",
       "      <td>9</td>\n",
       "    </tr>\n",
       "    <tr>\n",
       "      <th>1</th>\n",
       "      <td>Adolfo</td>\n",
       "      <td>3500204</td>\n",
       "      <td>25</td>\n",
       "      <td>2</td>\n",
       "      <td>2020-02-25</td>\n",
       "      <td>0</td>\n",
       "      <td>0</td>\n",
       "      <td>0,00000000000000e+00</td>\n",
       "      <td>0,000000000000000</td>\n",
       "      <td>0</td>\n",
       "      <td>...</td>\n",
       "      <td>São José do Rio Preto</td>\n",
       "      <td>15</td>\n",
       "      <td>3447</td>\n",
       "      <td>761</td>\n",
       "      <td>21106</td>\n",
       "      <td>0</td>\n",
       "      <td>8.0</td>\n",
       "      <td>-21,2325</td>\n",
       "      <td>-49,6451</td>\n",
       "      <td>9</td>\n",
       "    </tr>\n",
       "    <tr>\n",
       "      <th>2</th>\n",
       "      <td>Aguaí</td>\n",
       "      <td>3500303</td>\n",
       "      <td>25</td>\n",
       "      <td>2</td>\n",
       "      <td>2020-02-25</td>\n",
       "      <td>0</td>\n",
       "      <td>0</td>\n",
       "      <td>0,00000000000000e+00</td>\n",
       "      <td>0,000000000000000</td>\n",
       "      <td>0</td>\n",
       "      <td>...</td>\n",
       "      <td>São João da Boa Vista</td>\n",
       "      <td>14</td>\n",
       "      <td>35608</td>\n",
       "      <td>5245</td>\n",
       "      <td>47455</td>\n",
       "      <td>0</td>\n",
       "      <td>8.0</td>\n",
       "      <td>-22,0572</td>\n",
       "      <td>-46,9735</td>\n",
       "      <td>9</td>\n",
       "    </tr>\n",
       "    <tr>\n",
       "      <th>3</th>\n",
       "      <td>Águas da Prata</td>\n",
       "      <td>3500402</td>\n",
       "      <td>25</td>\n",
       "      <td>2</td>\n",
       "      <td>2020-02-25</td>\n",
       "      <td>0</td>\n",
       "      <td>0</td>\n",
       "      <td>0,00000000000000e+00</td>\n",
       "      <td>0,000000000000000</td>\n",
       "      <td>0</td>\n",
       "      <td>...</td>\n",
       "      <td>São João da Boa Vista</td>\n",
       "      <td>14</td>\n",
       "      <td>7797</td>\n",
       "      <td>1729</td>\n",
       "      <td>14267</td>\n",
       "      <td>0</td>\n",
       "      <td>8.0</td>\n",
       "      <td>-21,9319</td>\n",
       "      <td>-46,7176</td>\n",
       "      <td>9</td>\n",
       "    </tr>\n",
       "  </tbody>\n",
       "</table>\n",
       "<p>4 rows × 25 columns</p>\n",
       "</div>"
      ],
      "text/plain": [
       "        Município  codigo_ibge  dia  mes        Data  casos  casos_novos  \\\n",
       "0      Adamantina      3500105   25    2  2020-02-25      0            0   \n",
       "1          Adolfo      3500204   25    2  2020-02-25      0            0   \n",
       "2           Aguaí      3500303   25    2  2020-02-25      0            0   \n",
       "3  Águas da Prata      3500402   25    2  2020-02-25      0            0   \n",
       "\n",
       "               casos_pc         casos_mm7d  obitos  ...  \\\n",
       "0  0,00000000000000e+00  0,000000000000000       0  ...   \n",
       "1  0,00000000000000e+00  0,000000000000000       0  ...   \n",
       "2  0,00000000000000e+00  0,000000000000000       0  ...   \n",
       "3  0,00000000000000e+00  0,000000000000000       0  ...   \n",
       "\n",
       "                nome_drs cod_drs    pop pop_60   area map_leg  map_leg_s  \\\n",
       "0                Marília       5  33894   7398  41199       0        8.0   \n",
       "1  São José do Rio Preto      15   3447    761  21106       0        8.0   \n",
       "2  São João da Boa Vista      14  35608   5245  47455       0        8.0   \n",
       "3  São João da Boa Vista      14   7797   1729  14267       0        8.0   \n",
       "\n",
       "   latitude  longitude  semana_epidem  \n",
       "0  -21,6820   -51,0737              9  \n",
       "1  -21,2325   -49,6451              9  \n",
       "2  -22,0572   -46,9735              9  \n",
       "3  -21,9319   -46,7176              9  \n",
       "\n",
       "[4 rows x 25 columns]"
      ]
     },
     "execution_count": 8,
     "metadata": {},
     "output_type": "execute_result"
    }
   ],
   "source": [
    "covid_alter.head(4)"
   ]
  },
  {
   "cell_type": "code",
   "execution_count": 9,
   "id": "51593ea6",
   "metadata": {},
   "outputs": [
    {
     "data": {
      "text/plain": [
       "(374034, 25)"
      ]
     },
     "execution_count": 9,
     "metadata": {},
     "output_type": "execute_result"
    }
   ],
   "source": [
    "covid_alter.shape"
   ]
  },
  {
   "cell_type": "markdown",
   "id": "024527d1",
   "metadata": {},
   "source": [
    "Alterando direto dentro do dataset sem criar cópia\n",
    "\n",
    "axis = 0 para linhas\n",
    "axis = 1 para colunas \n",
    "\n",
    "O índice da coluna entre colchetes duplos [[1]]\n",
    "\n",
    "Aqui exclui a coluna/variável pelo índice dela começando em 0\n"
   ]
  },
  {
   "cell_type": "code",
   "execution_count": 10,
   "id": "aea21a2a",
   "metadata": {},
   "outputs": [
    {
     "data": {
      "application/vnd.microsoft.datawrangler.viewer.v0+json": {
       "columns": [
        {
         "name": "index",
         "rawType": "int64",
         "type": "integer"
        },
        {
         "name": "Município",
         "rawType": "object",
         "type": "string"
        },
        {
         "name": "dia",
         "rawType": "int64",
         "type": "integer"
        },
        {
         "name": "mes",
         "rawType": "int64",
         "type": "integer"
        },
        {
         "name": "Data",
         "rawType": "object",
         "type": "string"
        },
        {
         "name": "casos",
         "rawType": "int64",
         "type": "integer"
        },
        {
         "name": "casos_novos",
         "rawType": "int64",
         "type": "integer"
        },
        {
         "name": "casos_pc",
         "rawType": "object",
         "type": "string"
        },
        {
         "name": "casos_mm7d",
         "rawType": "object",
         "type": "string"
        },
        {
         "name": "obitos",
         "rawType": "int64",
         "type": "integer"
        },
        {
         "name": "obitos_novos",
         "rawType": "int64",
         "type": "integer"
        },
        {
         "name": "obitos_pc",
         "rawType": "object",
         "type": "string"
        },
        {
         "name": "obitos_mm7d",
         "rawType": "object",
         "type": "string"
        },
        {
         "name": "letalidade",
         "rawType": "object",
         "type": "string"
        },
        {
         "name": "nome_ra",
         "rawType": "object",
         "type": "string"
        },
        {
         "name": "nome_drs",
         "rawType": "object",
         "type": "string"
        },
        {
         "name": "cod_drs",
         "rawType": "int64",
         "type": "integer"
        },
        {
         "name": "pop",
         "rawType": "int64",
         "type": "integer"
        },
        {
         "name": "pop_60",
         "rawType": "int64",
         "type": "integer"
        },
        {
         "name": "area",
         "rawType": "int64",
         "type": "integer"
        },
        {
         "name": "map_leg",
         "rawType": "object",
         "type": "string"
        },
        {
         "name": "map_leg_s",
         "rawType": "float64",
         "type": "float"
        },
        {
         "name": "latitude",
         "rawType": "object",
         "type": "string"
        },
        {
         "name": "longitude",
         "rawType": "object",
         "type": "string"
        },
        {
         "name": "semana_epidem",
         "rawType": "int64",
         "type": "integer"
        }
       ],
       "ref": "0539a18f-cd2a-494c-bdac-f1f63aa03463",
       "rows": [
        [
         "0",
         "Adamantina",
         "25",
         "2",
         "2020-02-25",
         "0",
         "0",
         "0,00000000000000e+00",
         "0,000000000000000",
         "0",
         "0",
         "0,00000000000000e+00",
         "0,000000000000000",
         "0,000000000000000000",
         "RA de Presidente Prudente",
         "Marília",
         "5",
         "33894",
         "7398",
         "41199",
         "0",
         "8.0",
         "-21,6820",
         "-51,0737",
         "9"
        ],
        [
         "1",
         "Adolfo",
         "25",
         "2",
         "2020-02-25",
         "0",
         "0",
         "0,00000000000000e+00",
         "0,000000000000000",
         "0",
         "0",
         "0,00000000000000e+00",
         "0,000000000000000",
         "0,000000000000000000",
         "RA de São José do Rio Preto",
         "São José do Rio Preto",
         "15",
         "3447",
         "761",
         "21106",
         "0",
         "8.0",
         "-21,2325",
         "-49,6451",
         "9"
        ],
        [
         "2",
         "Aguaí",
         "25",
         "2",
         "2020-02-25",
         "0",
         "0",
         "0,00000000000000e+00",
         "0,000000000000000",
         "0",
         "0",
         "0,00000000000000e+00",
         "0,000000000000000",
         "0,000000000000000000",
         "RA de Campinas",
         "São João da Boa Vista",
         "14",
         "35608",
         "5245",
         "47455",
         "0",
         "8.0",
         "-22,0572",
         "-46,9735",
         "9"
        ],
        [
         "3",
         "Águas da Prata",
         "25",
         "2",
         "2020-02-25",
         "0",
         "0",
         "0,00000000000000e+00",
         "0,000000000000000",
         "0",
         "0",
         "0,00000000000000e+00",
         "0,000000000000000",
         "0,000000000000000000",
         "RA de Campinas",
         "São João da Boa Vista",
         "14",
         "7797",
         "1729",
         "14267",
         "0",
         "8.0",
         "-21,9319",
         "-46,7176",
         "9"
        ],
        [
         "4",
         "Águas de Lindóia",
         "25",
         "2",
         "2020-02-25",
         "0",
         "0",
         "0,00000000000000e+00",
         "0,000000000000000",
         "0",
         "0",
         "0,00000000000000e+00",
         "0,000000000000000",
         "0,000000000000000000",
         "RA de Campinas",
         "Campinas",
         "3",
         "18374",
         "3275",
         "6013",
         "0",
         "8.0",
         "-22,4733",
         "-46,6314",
         "9"
        ]
       ],
       "shape": {
        "columns": 24,
        "rows": 5
       }
      },
      "text/html": [
       "<div>\n",
       "<style scoped>\n",
       "    .dataframe tbody tr th:only-of-type {\n",
       "        vertical-align: middle;\n",
       "    }\n",
       "\n",
       "    .dataframe tbody tr th {\n",
       "        vertical-align: top;\n",
       "    }\n",
       "\n",
       "    .dataframe thead th {\n",
       "        text-align: right;\n",
       "    }\n",
       "</style>\n",
       "<table border=\"1\" class=\"dataframe\">\n",
       "  <thead>\n",
       "    <tr style=\"text-align: right;\">\n",
       "      <th></th>\n",
       "      <th>Município</th>\n",
       "      <th>dia</th>\n",
       "      <th>mes</th>\n",
       "      <th>Data</th>\n",
       "      <th>casos</th>\n",
       "      <th>casos_novos</th>\n",
       "      <th>casos_pc</th>\n",
       "      <th>casos_mm7d</th>\n",
       "      <th>obitos</th>\n",
       "      <th>obitos_novos</th>\n",
       "      <th>...</th>\n",
       "      <th>nome_drs</th>\n",
       "      <th>cod_drs</th>\n",
       "      <th>pop</th>\n",
       "      <th>pop_60</th>\n",
       "      <th>area</th>\n",
       "      <th>map_leg</th>\n",
       "      <th>map_leg_s</th>\n",
       "      <th>latitude</th>\n",
       "      <th>longitude</th>\n",
       "      <th>semana_epidem</th>\n",
       "    </tr>\n",
       "  </thead>\n",
       "  <tbody>\n",
       "    <tr>\n",
       "      <th>0</th>\n",
       "      <td>Adamantina</td>\n",
       "      <td>25</td>\n",
       "      <td>2</td>\n",
       "      <td>2020-02-25</td>\n",
       "      <td>0</td>\n",
       "      <td>0</td>\n",
       "      <td>0,00000000000000e+00</td>\n",
       "      <td>0,000000000000000</td>\n",
       "      <td>0</td>\n",
       "      <td>0</td>\n",
       "      <td>...</td>\n",
       "      <td>Marília</td>\n",
       "      <td>5</td>\n",
       "      <td>33894</td>\n",
       "      <td>7398</td>\n",
       "      <td>41199</td>\n",
       "      <td>0</td>\n",
       "      <td>8.0</td>\n",
       "      <td>-21,6820</td>\n",
       "      <td>-51,0737</td>\n",
       "      <td>9</td>\n",
       "    </tr>\n",
       "    <tr>\n",
       "      <th>1</th>\n",
       "      <td>Adolfo</td>\n",
       "      <td>25</td>\n",
       "      <td>2</td>\n",
       "      <td>2020-02-25</td>\n",
       "      <td>0</td>\n",
       "      <td>0</td>\n",
       "      <td>0,00000000000000e+00</td>\n",
       "      <td>0,000000000000000</td>\n",
       "      <td>0</td>\n",
       "      <td>0</td>\n",
       "      <td>...</td>\n",
       "      <td>São José do Rio Preto</td>\n",
       "      <td>15</td>\n",
       "      <td>3447</td>\n",
       "      <td>761</td>\n",
       "      <td>21106</td>\n",
       "      <td>0</td>\n",
       "      <td>8.0</td>\n",
       "      <td>-21,2325</td>\n",
       "      <td>-49,6451</td>\n",
       "      <td>9</td>\n",
       "    </tr>\n",
       "    <tr>\n",
       "      <th>2</th>\n",
       "      <td>Aguaí</td>\n",
       "      <td>25</td>\n",
       "      <td>2</td>\n",
       "      <td>2020-02-25</td>\n",
       "      <td>0</td>\n",
       "      <td>0</td>\n",
       "      <td>0,00000000000000e+00</td>\n",
       "      <td>0,000000000000000</td>\n",
       "      <td>0</td>\n",
       "      <td>0</td>\n",
       "      <td>...</td>\n",
       "      <td>São João da Boa Vista</td>\n",
       "      <td>14</td>\n",
       "      <td>35608</td>\n",
       "      <td>5245</td>\n",
       "      <td>47455</td>\n",
       "      <td>0</td>\n",
       "      <td>8.0</td>\n",
       "      <td>-22,0572</td>\n",
       "      <td>-46,9735</td>\n",
       "      <td>9</td>\n",
       "    </tr>\n",
       "    <tr>\n",
       "      <th>3</th>\n",
       "      <td>Águas da Prata</td>\n",
       "      <td>25</td>\n",
       "      <td>2</td>\n",
       "      <td>2020-02-25</td>\n",
       "      <td>0</td>\n",
       "      <td>0</td>\n",
       "      <td>0,00000000000000e+00</td>\n",
       "      <td>0,000000000000000</td>\n",
       "      <td>0</td>\n",
       "      <td>0</td>\n",
       "      <td>...</td>\n",
       "      <td>São João da Boa Vista</td>\n",
       "      <td>14</td>\n",
       "      <td>7797</td>\n",
       "      <td>1729</td>\n",
       "      <td>14267</td>\n",
       "      <td>0</td>\n",
       "      <td>8.0</td>\n",
       "      <td>-21,9319</td>\n",
       "      <td>-46,7176</td>\n",
       "      <td>9</td>\n",
       "    </tr>\n",
       "    <tr>\n",
       "      <th>4</th>\n",
       "      <td>Águas de Lindóia</td>\n",
       "      <td>25</td>\n",
       "      <td>2</td>\n",
       "      <td>2020-02-25</td>\n",
       "      <td>0</td>\n",
       "      <td>0</td>\n",
       "      <td>0,00000000000000e+00</td>\n",
       "      <td>0,000000000000000</td>\n",
       "      <td>0</td>\n",
       "      <td>0</td>\n",
       "      <td>...</td>\n",
       "      <td>Campinas</td>\n",
       "      <td>3</td>\n",
       "      <td>18374</td>\n",
       "      <td>3275</td>\n",
       "      <td>6013</td>\n",
       "      <td>0</td>\n",
       "      <td>8.0</td>\n",
       "      <td>-22,4733</td>\n",
       "      <td>-46,6314</td>\n",
       "      <td>9</td>\n",
       "    </tr>\n",
       "  </tbody>\n",
       "</table>\n",
       "<p>5 rows × 24 columns</p>\n",
       "</div>"
      ],
      "text/plain": [
       "          Município  dia  mes        Data  casos  casos_novos  \\\n",
       "0        Adamantina   25    2  2020-02-25      0            0   \n",
       "1            Adolfo   25    2  2020-02-25      0            0   \n",
       "2             Aguaí   25    2  2020-02-25      0            0   \n",
       "3    Águas da Prata   25    2  2020-02-25      0            0   \n",
       "4  Águas de Lindóia   25    2  2020-02-25      0            0   \n",
       "\n",
       "               casos_pc         casos_mm7d  obitos  obitos_novos  ...  \\\n",
       "0  0,00000000000000e+00  0,000000000000000       0             0  ...   \n",
       "1  0,00000000000000e+00  0,000000000000000       0             0  ...   \n",
       "2  0,00000000000000e+00  0,000000000000000       0             0  ...   \n",
       "3  0,00000000000000e+00  0,000000000000000       0             0  ...   \n",
       "4  0,00000000000000e+00  0,000000000000000       0             0  ...   \n",
       "\n",
       "                nome_drs cod_drs    pop pop_60   area  map_leg  map_leg_s  \\\n",
       "0                Marília       5  33894   7398  41199        0        8.0   \n",
       "1  São José do Rio Preto      15   3447    761  21106        0        8.0   \n",
       "2  São João da Boa Vista      14  35608   5245  47455        0        8.0   \n",
       "3  São João da Boa Vista      14   7797   1729  14267        0        8.0   \n",
       "4               Campinas       3  18374   3275   6013        0        8.0   \n",
       "\n",
       "   latitude  longitude semana_epidem  \n",
       "0  -21,6820   -51,0737             9  \n",
       "1  -21,2325   -49,6451             9  \n",
       "2  -22,0572   -46,9735             9  \n",
       "3  -21,9319   -46,7176             9  \n",
       "4  -22,4733   -46,6314             9  \n",
       "\n",
       "[5 rows x 24 columns]"
      ]
     },
     "execution_count": 10,
     "metadata": {},
     "output_type": "execute_result"
    }
   ],
   "source": [
    "covid_alter = covid_alter.drop(covid_alter.columns[[1]], axis=1)\n",
    "covid_alter.head(5)"
   ]
  },
  {
   "cell_type": "markdown",
   "id": "9b88a882",
   "metadata": {},
   "source": [
    "Aqui apaga pelo nome da coluna/variável"
   ]
  },
  {
   "cell_type": "code",
   "execution_count": 11,
   "id": "d97e0001",
   "metadata": {},
   "outputs": [
    {
     "data": {
      "text/plain": [
       "(374034, 21)"
      ]
     },
     "execution_count": 11,
     "metadata": {},
     "output_type": "execute_result"
    }
   ],
   "source": [
    "covid_alter.drop(columns=['cod_drs', 'map_leg', 'map_leg_s'], inplace=True)\n",
    "covid_alter.shape"
   ]
  },
  {
   "cell_type": "markdown",
   "id": "74ea5c71",
   "metadata": {},
   "source": [
    "#### Altera o valor das linhas"
   ]
  },
  {
   "cell_type": "markdown",
   "id": "f74646b4",
   "metadata": {},
   "source": [
    "Aqui altera o valor da variável área, fazendo a divisão por 100\n"
   ]
  },
  {
   "cell_type": "code",
   "execution_count": 12,
   "id": "d6971359",
   "metadata": {},
   "outputs": [],
   "source": [
    "#covid_alter = covid_alter.area / 100 # Das duas formas funciona\n",
    "covid_alter['area'] = covid_alter['area'] / 100"
   ]
  },
  {
   "cell_type": "code",
   "execution_count": 13,
   "id": "3fd97259",
   "metadata": {},
   "outputs": [
    {
     "data": {
      "application/vnd.microsoft.datawrangler.viewer.v0+json": {
       "columns": [
        {
         "name": "index",
         "rawType": "int64",
         "type": "integer"
        },
        {
         "name": "Município",
         "rawType": "object",
         "type": "string"
        },
        {
         "name": "dia",
         "rawType": "int64",
         "type": "integer"
        },
        {
         "name": "mes",
         "rawType": "int64",
         "type": "integer"
        },
        {
         "name": "Data",
         "rawType": "object",
         "type": "string"
        },
        {
         "name": "casos",
         "rawType": "int64",
         "type": "integer"
        },
        {
         "name": "casos_novos",
         "rawType": "int64",
         "type": "integer"
        },
        {
         "name": "casos_pc",
         "rawType": "object",
         "type": "string"
        },
        {
         "name": "casos_mm7d",
         "rawType": "object",
         "type": "string"
        },
        {
         "name": "obitos",
         "rawType": "int64",
         "type": "integer"
        },
        {
         "name": "obitos_novos",
         "rawType": "int64",
         "type": "integer"
        },
        {
         "name": "obitos_pc",
         "rawType": "object",
         "type": "string"
        },
        {
         "name": "obitos_mm7d",
         "rawType": "object",
         "type": "string"
        },
        {
         "name": "letalidade",
         "rawType": "object",
         "type": "string"
        },
        {
         "name": "nome_ra",
         "rawType": "object",
         "type": "string"
        },
        {
         "name": "nome_drs",
         "rawType": "object",
         "type": "string"
        },
        {
         "name": "pop",
         "rawType": "int64",
         "type": "integer"
        },
        {
         "name": "pop_60",
         "rawType": "int64",
         "type": "integer"
        },
        {
         "name": "area",
         "rawType": "float64",
         "type": "float"
        },
        {
         "name": "latitude",
         "rawType": "object",
         "type": "string"
        },
        {
         "name": "longitude",
         "rawType": "object",
         "type": "string"
        },
        {
         "name": "semana_epidem",
         "rawType": "int64",
         "type": "integer"
        }
       ],
       "ref": "3a350602-9a90-4dc1-b1ad-5ca6bb9a4317",
       "rows": [
        [
         "0",
         "Adamantina",
         "25",
         "2",
         "2020-02-25",
         "0",
         "0",
         "0,00000000000000e+00",
         "0,000000000000000",
         "0",
         "0",
         "0,00000000000000e+00",
         "0,000000000000000",
         "0,000000000000000000",
         "RA de Presidente Prudente",
         "Marília",
         "33894",
         "7398",
         "411.99",
         "-21,6820",
         "-51,0737",
         "9"
        ],
        [
         "1",
         "Adolfo",
         "25",
         "2",
         "2020-02-25",
         "0",
         "0",
         "0,00000000000000e+00",
         "0,000000000000000",
         "0",
         "0",
         "0,00000000000000e+00",
         "0,000000000000000",
         "0,000000000000000000",
         "RA de São José do Rio Preto",
         "São José do Rio Preto",
         "3447",
         "761",
         "211.06",
         "-21,2325",
         "-49,6451",
         "9"
        ],
        [
         "2",
         "Aguaí",
         "25",
         "2",
         "2020-02-25",
         "0",
         "0",
         "0,00000000000000e+00",
         "0,000000000000000",
         "0",
         "0",
         "0,00000000000000e+00",
         "0,000000000000000",
         "0,000000000000000000",
         "RA de Campinas",
         "São João da Boa Vista",
         "35608",
         "5245",
         "474.55",
         "-22,0572",
         "-46,9735",
         "9"
        ],
        [
         "3",
         "Águas da Prata",
         "25",
         "2",
         "2020-02-25",
         "0",
         "0",
         "0,00000000000000e+00",
         "0,000000000000000",
         "0",
         "0",
         "0,00000000000000e+00",
         "0,000000000000000",
         "0,000000000000000000",
         "RA de Campinas",
         "São João da Boa Vista",
         "7797",
         "1729",
         "142.67",
         "-21,9319",
         "-46,7176",
         "9"
        ],
        [
         "4",
         "Águas de Lindóia",
         "25",
         "2",
         "2020-02-25",
         "0",
         "0",
         "0,00000000000000e+00",
         "0,000000000000000",
         "0",
         "0",
         "0,00000000000000e+00",
         "0,000000000000000",
         "0,000000000000000000",
         "RA de Campinas",
         "Campinas",
         "18374",
         "3275",
         "60.13",
         "-22,4733",
         "-46,6314",
         "9"
        ]
       ],
       "shape": {
        "columns": 21,
        "rows": 5
       }
      },
      "text/html": [
       "<div>\n",
       "<style scoped>\n",
       "    .dataframe tbody tr th:only-of-type {\n",
       "        vertical-align: middle;\n",
       "    }\n",
       "\n",
       "    .dataframe tbody tr th {\n",
       "        vertical-align: top;\n",
       "    }\n",
       "\n",
       "    .dataframe thead th {\n",
       "        text-align: right;\n",
       "    }\n",
       "</style>\n",
       "<table border=\"1\" class=\"dataframe\">\n",
       "  <thead>\n",
       "    <tr style=\"text-align: right;\">\n",
       "      <th></th>\n",
       "      <th>Município</th>\n",
       "      <th>dia</th>\n",
       "      <th>mes</th>\n",
       "      <th>Data</th>\n",
       "      <th>casos</th>\n",
       "      <th>casos_novos</th>\n",
       "      <th>casos_pc</th>\n",
       "      <th>casos_mm7d</th>\n",
       "      <th>obitos</th>\n",
       "      <th>obitos_novos</th>\n",
       "      <th>...</th>\n",
       "      <th>obitos_mm7d</th>\n",
       "      <th>letalidade</th>\n",
       "      <th>nome_ra</th>\n",
       "      <th>nome_drs</th>\n",
       "      <th>pop</th>\n",
       "      <th>pop_60</th>\n",
       "      <th>area</th>\n",
       "      <th>latitude</th>\n",
       "      <th>longitude</th>\n",
       "      <th>semana_epidem</th>\n",
       "    </tr>\n",
       "  </thead>\n",
       "  <tbody>\n",
       "    <tr>\n",
       "      <th>0</th>\n",
       "      <td>Adamantina</td>\n",
       "      <td>25</td>\n",
       "      <td>2</td>\n",
       "      <td>2020-02-25</td>\n",
       "      <td>0</td>\n",
       "      <td>0</td>\n",
       "      <td>0,00000000000000e+00</td>\n",
       "      <td>0,000000000000000</td>\n",
       "      <td>0</td>\n",
       "      <td>0</td>\n",
       "      <td>...</td>\n",
       "      <td>0,000000000000000</td>\n",
       "      <td>0,000000000000000000</td>\n",
       "      <td>RA de Presidente Prudente</td>\n",
       "      <td>Marília</td>\n",
       "      <td>33894</td>\n",
       "      <td>7398</td>\n",
       "      <td>411.99</td>\n",
       "      <td>-21,6820</td>\n",
       "      <td>-51,0737</td>\n",
       "      <td>9</td>\n",
       "    </tr>\n",
       "    <tr>\n",
       "      <th>1</th>\n",
       "      <td>Adolfo</td>\n",
       "      <td>25</td>\n",
       "      <td>2</td>\n",
       "      <td>2020-02-25</td>\n",
       "      <td>0</td>\n",
       "      <td>0</td>\n",
       "      <td>0,00000000000000e+00</td>\n",
       "      <td>0,000000000000000</td>\n",
       "      <td>0</td>\n",
       "      <td>0</td>\n",
       "      <td>...</td>\n",
       "      <td>0,000000000000000</td>\n",
       "      <td>0,000000000000000000</td>\n",
       "      <td>RA de São José do Rio Preto</td>\n",
       "      <td>São José do Rio Preto</td>\n",
       "      <td>3447</td>\n",
       "      <td>761</td>\n",
       "      <td>211.06</td>\n",
       "      <td>-21,2325</td>\n",
       "      <td>-49,6451</td>\n",
       "      <td>9</td>\n",
       "    </tr>\n",
       "    <tr>\n",
       "      <th>2</th>\n",
       "      <td>Aguaí</td>\n",
       "      <td>25</td>\n",
       "      <td>2</td>\n",
       "      <td>2020-02-25</td>\n",
       "      <td>0</td>\n",
       "      <td>0</td>\n",
       "      <td>0,00000000000000e+00</td>\n",
       "      <td>0,000000000000000</td>\n",
       "      <td>0</td>\n",
       "      <td>0</td>\n",
       "      <td>...</td>\n",
       "      <td>0,000000000000000</td>\n",
       "      <td>0,000000000000000000</td>\n",
       "      <td>RA de Campinas</td>\n",
       "      <td>São João da Boa Vista</td>\n",
       "      <td>35608</td>\n",
       "      <td>5245</td>\n",
       "      <td>474.55</td>\n",
       "      <td>-22,0572</td>\n",
       "      <td>-46,9735</td>\n",
       "      <td>9</td>\n",
       "    </tr>\n",
       "    <tr>\n",
       "      <th>3</th>\n",
       "      <td>Águas da Prata</td>\n",
       "      <td>25</td>\n",
       "      <td>2</td>\n",
       "      <td>2020-02-25</td>\n",
       "      <td>0</td>\n",
       "      <td>0</td>\n",
       "      <td>0,00000000000000e+00</td>\n",
       "      <td>0,000000000000000</td>\n",
       "      <td>0</td>\n",
       "      <td>0</td>\n",
       "      <td>...</td>\n",
       "      <td>0,000000000000000</td>\n",
       "      <td>0,000000000000000000</td>\n",
       "      <td>RA de Campinas</td>\n",
       "      <td>São João da Boa Vista</td>\n",
       "      <td>7797</td>\n",
       "      <td>1729</td>\n",
       "      <td>142.67</td>\n",
       "      <td>-21,9319</td>\n",
       "      <td>-46,7176</td>\n",
       "      <td>9</td>\n",
       "    </tr>\n",
       "    <tr>\n",
       "      <th>4</th>\n",
       "      <td>Águas de Lindóia</td>\n",
       "      <td>25</td>\n",
       "      <td>2</td>\n",
       "      <td>2020-02-25</td>\n",
       "      <td>0</td>\n",
       "      <td>0</td>\n",
       "      <td>0,00000000000000e+00</td>\n",
       "      <td>0,000000000000000</td>\n",
       "      <td>0</td>\n",
       "      <td>0</td>\n",
       "      <td>...</td>\n",
       "      <td>0,000000000000000</td>\n",
       "      <td>0,000000000000000000</td>\n",
       "      <td>RA de Campinas</td>\n",
       "      <td>Campinas</td>\n",
       "      <td>18374</td>\n",
       "      <td>3275</td>\n",
       "      <td>60.13</td>\n",
       "      <td>-22,4733</td>\n",
       "      <td>-46,6314</td>\n",
       "      <td>9</td>\n",
       "    </tr>\n",
       "  </tbody>\n",
       "</table>\n",
       "<p>5 rows × 21 columns</p>\n",
       "</div>"
      ],
      "text/plain": [
       "          Município  dia  mes        Data  casos  casos_novos  \\\n",
       "0        Adamantina   25    2  2020-02-25      0            0   \n",
       "1            Adolfo   25    2  2020-02-25      0            0   \n",
       "2             Aguaí   25    2  2020-02-25      0            0   \n",
       "3    Águas da Prata   25    2  2020-02-25      0            0   \n",
       "4  Águas de Lindóia   25    2  2020-02-25      0            0   \n",
       "\n",
       "               casos_pc         casos_mm7d  obitos  obitos_novos  ...  \\\n",
       "0  0,00000000000000e+00  0,000000000000000       0             0  ...   \n",
       "1  0,00000000000000e+00  0,000000000000000       0             0  ...   \n",
       "2  0,00000000000000e+00  0,000000000000000       0             0  ...   \n",
       "3  0,00000000000000e+00  0,000000000000000       0             0  ...   \n",
       "4  0,00000000000000e+00  0,000000000000000       0             0  ...   \n",
       "\n",
       "         obitos_mm7d            letalidade                      nome_ra  \\\n",
       "0  0,000000000000000  0,000000000000000000    RA de Presidente Prudente   \n",
       "1  0,000000000000000  0,000000000000000000  RA de São José do Rio Preto   \n",
       "2  0,000000000000000  0,000000000000000000               RA de Campinas   \n",
       "3  0,000000000000000  0,000000000000000000               RA de Campinas   \n",
       "4  0,000000000000000  0,000000000000000000               RA de Campinas   \n",
       "\n",
       "                nome_drs    pop  pop_60    area  latitude longitude  \\\n",
       "0                Marília  33894    7398  411.99  -21,6820  -51,0737   \n",
       "1  São José do Rio Preto   3447     761  211.06  -21,2325  -49,6451   \n",
       "2  São João da Boa Vista  35608    5245  474.55  -22,0572  -46,9735   \n",
       "3  São João da Boa Vista   7797    1729  142.67  -21,9319  -46,7176   \n",
       "4               Campinas  18374    3275   60.13  -22,4733  -46,6314   \n",
       "\n",
       "  semana_epidem  \n",
       "0             9  \n",
       "1             9  \n",
       "2             9  \n",
       "3             9  \n",
       "4             9  \n",
       "\n",
       "[5 rows x 21 columns]"
      ]
     },
     "execution_count": 13,
     "metadata": {},
     "output_type": "execute_result"
    }
   ],
   "source": [
    "covid_alter.head(5)"
   ]
  },
  {
   "cell_type": "markdown",
   "id": "ee72b11b",
   "metadata": {},
   "source": [
    "#### Cria coluna\n",
    "\n",
    "Com base na população / a área se chega na densidade por km²\n"
   ]
  },
  {
   "cell_type": "code",
   "execution_count": 14,
   "id": "448d40db",
   "metadata": {},
   "outputs": [
    {
     "data": {
      "application/vnd.microsoft.datawrangler.viewer.v0+json": {
       "columns": [
        {
         "name": "index",
         "rawType": "int64",
         "type": "integer"
        },
        {
         "name": "Município",
         "rawType": "object",
         "type": "string"
        },
        {
         "name": "dia",
         "rawType": "int64",
         "type": "integer"
        },
        {
         "name": "mes",
         "rawType": "int64",
         "type": "integer"
        },
        {
         "name": "Data",
         "rawType": "object",
         "type": "string"
        },
        {
         "name": "casos",
         "rawType": "int64",
         "type": "integer"
        },
        {
         "name": "casos_novos",
         "rawType": "int64",
         "type": "integer"
        },
        {
         "name": "casos_pc",
         "rawType": "object",
         "type": "string"
        },
        {
         "name": "casos_mm7d",
         "rawType": "object",
         "type": "string"
        },
        {
         "name": "obitos",
         "rawType": "int64",
         "type": "integer"
        },
        {
         "name": "obitos_novos",
         "rawType": "int64",
         "type": "integer"
        },
        {
         "name": "obitos_pc",
         "rawType": "object",
         "type": "string"
        },
        {
         "name": "obitos_mm7d",
         "rawType": "object",
         "type": "string"
        },
        {
         "name": "letalidade",
         "rawType": "object",
         "type": "string"
        },
        {
         "name": "nome_ra",
         "rawType": "object",
         "type": "string"
        },
        {
         "name": "nome_drs",
         "rawType": "object",
         "type": "string"
        },
        {
         "name": "pop",
         "rawType": "int64",
         "type": "integer"
        },
        {
         "name": "pop_60",
         "rawType": "int64",
         "type": "integer"
        },
        {
         "name": "area",
         "rawType": "float64",
         "type": "float"
        },
        {
         "name": "latitude",
         "rawType": "object",
         "type": "string"
        },
        {
         "name": "longitude",
         "rawType": "object",
         "type": "string"
        },
        {
         "name": "semana_epidem",
         "rawType": "int64",
         "type": "integer"
        },
        {
         "name": "densidade",
         "rawType": "float64",
         "type": "float"
        }
       ],
       "ref": "39d900ae-662e-4451-8d48-69b053e3ccdf",
       "rows": [
        [
         "0",
         "Adamantina",
         "25",
         "2",
         "2020-02-25",
         "0",
         "0",
         "0,00000000000000e+00",
         "0,000000000000000",
         "0",
         "0",
         "0,00000000000000e+00",
         "0,000000000000000",
         "0,000000000000000000",
         "RA de Presidente Prudente",
         "Marília",
         "33894",
         "7398",
         "411.99",
         "-21,6820",
         "-51,0737",
         "9",
         "82.26898711133765"
        ],
        [
         "1",
         "Adolfo",
         "25",
         "2",
         "2020-02-25",
         "0",
         "0",
         "0,00000000000000e+00",
         "0,000000000000000",
         "0",
         "0",
         "0,00000000000000e+00",
         "0,000000000000000",
         "0,000000000000000000",
         "RA de São José do Rio Preto",
         "São José do Rio Preto",
         "3447",
         "761",
         "211.06",
         "-21,2325",
         "-49,6451",
         "9",
         "16.33184876338482"
        ],
        [
         "2",
         "Aguaí",
         "25",
         "2",
         "2020-02-25",
         "0",
         "0",
         "0,00000000000000e+00",
         "0,000000000000000",
         "0",
         "0",
         "0,00000000000000e+00",
         "0,000000000000000",
         "0,000000000000000000",
         "RA de Campinas",
         "São João da Boa Vista",
         "35608",
         "5245",
         "474.55",
         "-22,0572",
         "-46,9735",
         "9",
         "75.0352965967759"
        ],
        [
         "3",
         "Águas da Prata",
         "25",
         "2",
         "2020-02-25",
         "0",
         "0",
         "0,00000000000000e+00",
         "0,000000000000000",
         "0",
         "0",
         "0,00000000000000e+00",
         "0,000000000000000",
         "0,000000000000000000",
         "RA de Campinas",
         "São João da Boa Vista",
         "7797",
         "1729",
         "142.67",
         "-21,9319",
         "-46,7176",
         "9",
         "54.65059227588141"
        ],
        [
         "4",
         "Águas de Lindóia",
         "25",
         "2",
         "2020-02-25",
         "0",
         "0",
         "0,00000000000000e+00",
         "0,000000000000000",
         "0",
         "0",
         "0,00000000000000e+00",
         "0,000000000000000",
         "0,000000000000000000",
         "RA de Campinas",
         "Campinas",
         "18374",
         "3275",
         "60.13",
         "-22,4733",
         "-46,6314",
         "9",
         "305.5712622650923"
        ]
       ],
       "shape": {
        "columns": 22,
        "rows": 5
       }
      },
      "text/html": [
       "<div>\n",
       "<style scoped>\n",
       "    .dataframe tbody tr th:only-of-type {\n",
       "        vertical-align: middle;\n",
       "    }\n",
       "\n",
       "    .dataframe tbody tr th {\n",
       "        vertical-align: top;\n",
       "    }\n",
       "\n",
       "    .dataframe thead th {\n",
       "        text-align: right;\n",
       "    }\n",
       "</style>\n",
       "<table border=\"1\" class=\"dataframe\">\n",
       "  <thead>\n",
       "    <tr style=\"text-align: right;\">\n",
       "      <th></th>\n",
       "      <th>Município</th>\n",
       "      <th>dia</th>\n",
       "      <th>mes</th>\n",
       "      <th>Data</th>\n",
       "      <th>casos</th>\n",
       "      <th>casos_novos</th>\n",
       "      <th>casos_pc</th>\n",
       "      <th>casos_mm7d</th>\n",
       "      <th>obitos</th>\n",
       "      <th>obitos_novos</th>\n",
       "      <th>...</th>\n",
       "      <th>letalidade</th>\n",
       "      <th>nome_ra</th>\n",
       "      <th>nome_drs</th>\n",
       "      <th>pop</th>\n",
       "      <th>pop_60</th>\n",
       "      <th>area</th>\n",
       "      <th>latitude</th>\n",
       "      <th>longitude</th>\n",
       "      <th>semana_epidem</th>\n",
       "      <th>densidade</th>\n",
       "    </tr>\n",
       "  </thead>\n",
       "  <tbody>\n",
       "    <tr>\n",
       "      <th>0</th>\n",
       "      <td>Adamantina</td>\n",
       "      <td>25</td>\n",
       "      <td>2</td>\n",
       "      <td>2020-02-25</td>\n",
       "      <td>0</td>\n",
       "      <td>0</td>\n",
       "      <td>0,00000000000000e+00</td>\n",
       "      <td>0,000000000000000</td>\n",
       "      <td>0</td>\n",
       "      <td>0</td>\n",
       "      <td>...</td>\n",
       "      <td>0,000000000000000000</td>\n",
       "      <td>RA de Presidente Prudente</td>\n",
       "      <td>Marília</td>\n",
       "      <td>33894</td>\n",
       "      <td>7398</td>\n",
       "      <td>411.99</td>\n",
       "      <td>-21,6820</td>\n",
       "      <td>-51,0737</td>\n",
       "      <td>9</td>\n",
       "      <td>82.268987</td>\n",
       "    </tr>\n",
       "    <tr>\n",
       "      <th>1</th>\n",
       "      <td>Adolfo</td>\n",
       "      <td>25</td>\n",
       "      <td>2</td>\n",
       "      <td>2020-02-25</td>\n",
       "      <td>0</td>\n",
       "      <td>0</td>\n",
       "      <td>0,00000000000000e+00</td>\n",
       "      <td>0,000000000000000</td>\n",
       "      <td>0</td>\n",
       "      <td>0</td>\n",
       "      <td>...</td>\n",
       "      <td>0,000000000000000000</td>\n",
       "      <td>RA de São José do Rio Preto</td>\n",
       "      <td>São José do Rio Preto</td>\n",
       "      <td>3447</td>\n",
       "      <td>761</td>\n",
       "      <td>211.06</td>\n",
       "      <td>-21,2325</td>\n",
       "      <td>-49,6451</td>\n",
       "      <td>9</td>\n",
       "      <td>16.331849</td>\n",
       "    </tr>\n",
       "    <tr>\n",
       "      <th>2</th>\n",
       "      <td>Aguaí</td>\n",
       "      <td>25</td>\n",
       "      <td>2</td>\n",
       "      <td>2020-02-25</td>\n",
       "      <td>0</td>\n",
       "      <td>0</td>\n",
       "      <td>0,00000000000000e+00</td>\n",
       "      <td>0,000000000000000</td>\n",
       "      <td>0</td>\n",
       "      <td>0</td>\n",
       "      <td>...</td>\n",
       "      <td>0,000000000000000000</td>\n",
       "      <td>RA de Campinas</td>\n",
       "      <td>São João da Boa Vista</td>\n",
       "      <td>35608</td>\n",
       "      <td>5245</td>\n",
       "      <td>474.55</td>\n",
       "      <td>-22,0572</td>\n",
       "      <td>-46,9735</td>\n",
       "      <td>9</td>\n",
       "      <td>75.035297</td>\n",
       "    </tr>\n",
       "    <tr>\n",
       "      <th>3</th>\n",
       "      <td>Águas da Prata</td>\n",
       "      <td>25</td>\n",
       "      <td>2</td>\n",
       "      <td>2020-02-25</td>\n",
       "      <td>0</td>\n",
       "      <td>0</td>\n",
       "      <td>0,00000000000000e+00</td>\n",
       "      <td>0,000000000000000</td>\n",
       "      <td>0</td>\n",
       "      <td>0</td>\n",
       "      <td>...</td>\n",
       "      <td>0,000000000000000000</td>\n",
       "      <td>RA de Campinas</td>\n",
       "      <td>São João da Boa Vista</td>\n",
       "      <td>7797</td>\n",
       "      <td>1729</td>\n",
       "      <td>142.67</td>\n",
       "      <td>-21,9319</td>\n",
       "      <td>-46,7176</td>\n",
       "      <td>9</td>\n",
       "      <td>54.650592</td>\n",
       "    </tr>\n",
       "    <tr>\n",
       "      <th>4</th>\n",
       "      <td>Águas de Lindóia</td>\n",
       "      <td>25</td>\n",
       "      <td>2</td>\n",
       "      <td>2020-02-25</td>\n",
       "      <td>0</td>\n",
       "      <td>0</td>\n",
       "      <td>0,00000000000000e+00</td>\n",
       "      <td>0,000000000000000</td>\n",
       "      <td>0</td>\n",
       "      <td>0</td>\n",
       "      <td>...</td>\n",
       "      <td>0,000000000000000000</td>\n",
       "      <td>RA de Campinas</td>\n",
       "      <td>Campinas</td>\n",
       "      <td>18374</td>\n",
       "      <td>3275</td>\n",
       "      <td>60.13</td>\n",
       "      <td>-22,4733</td>\n",
       "      <td>-46,6314</td>\n",
       "      <td>9</td>\n",
       "      <td>305.571262</td>\n",
       "    </tr>\n",
       "  </tbody>\n",
       "</table>\n",
       "<p>5 rows × 22 columns</p>\n",
       "</div>"
      ],
      "text/plain": [
       "          Município  dia  mes        Data  casos  casos_novos  \\\n",
       "0        Adamantina   25    2  2020-02-25      0            0   \n",
       "1            Adolfo   25    2  2020-02-25      0            0   \n",
       "2             Aguaí   25    2  2020-02-25      0            0   \n",
       "3    Águas da Prata   25    2  2020-02-25      0            0   \n",
       "4  Águas de Lindóia   25    2  2020-02-25      0            0   \n",
       "\n",
       "               casos_pc         casos_mm7d  obitos  obitos_novos  ...  \\\n",
       "0  0,00000000000000e+00  0,000000000000000       0             0  ...   \n",
       "1  0,00000000000000e+00  0,000000000000000       0             0  ...   \n",
       "2  0,00000000000000e+00  0,000000000000000       0             0  ...   \n",
       "3  0,00000000000000e+00  0,000000000000000       0             0  ...   \n",
       "4  0,00000000000000e+00  0,000000000000000       0             0  ...   \n",
       "\n",
       "             letalidade                      nome_ra               nome_drs  \\\n",
       "0  0,000000000000000000    RA de Presidente Prudente                Marília   \n",
       "1  0,000000000000000000  RA de São José do Rio Preto  São José do Rio Preto   \n",
       "2  0,000000000000000000               RA de Campinas  São João da Boa Vista   \n",
       "3  0,000000000000000000               RA de Campinas  São João da Boa Vista   \n",
       "4  0,000000000000000000               RA de Campinas               Campinas   \n",
       "\n",
       "     pop pop_60    area  latitude  longitude semana_epidem   densidade  \n",
       "0  33894   7398  411.99  -21,6820   -51,0737             9   82.268987  \n",
       "1   3447    761  211.06  -21,2325   -49,6451             9   16.331849  \n",
       "2  35608   5245  474.55  -22,0572   -46,9735             9   75.035297  \n",
       "3   7797   1729  142.67  -21,9319   -46,7176             9   54.650592  \n",
       "4  18374   3275   60.13  -22,4733   -46,6314             9  305.571262  \n",
       "\n",
       "[5 rows x 22 columns]"
      ]
     },
     "execution_count": 14,
     "metadata": {},
     "output_type": "execute_result"
    }
   ],
   "source": [
    "covid_alter['densidade'] = covid_alter['pop'] / covid_alter['area']\n",
    "covid_alter.head(5)"
   ]
  },
  {
   "cell_type": "code",
   "execution_count": 15,
   "id": "115a609d",
   "metadata": {},
   "outputs": [],
   "source": [
    "#Alterar o nome da coluna para que o dataset fique mais compreensivel\n",
    "covid_alter.rename(columns={'densidade':'Densidade /KM²'}, inplace=True)"
   ]
  },
  {
   "cell_type": "code",
   "execution_count": 16,
   "id": "c3010451",
   "metadata": {},
   "outputs": [
    {
     "data": {
      "application/vnd.microsoft.datawrangler.viewer.v0+json": {
       "columns": [
        {
         "name": "index",
         "rawType": "int64",
         "type": "integer"
        },
        {
         "name": "Município",
         "rawType": "object",
         "type": "string"
        },
        {
         "name": "dia",
         "rawType": "int64",
         "type": "integer"
        },
        {
         "name": "mes",
         "rawType": "int64",
         "type": "integer"
        },
        {
         "name": "Data",
         "rawType": "object",
         "type": "string"
        },
        {
         "name": "casos",
         "rawType": "int64",
         "type": "integer"
        },
        {
         "name": "casos_novos",
         "rawType": "int64",
         "type": "integer"
        },
        {
         "name": "casos_pc",
         "rawType": "object",
         "type": "string"
        },
        {
         "name": "casos_mm7d",
         "rawType": "object",
         "type": "string"
        },
        {
         "name": "obitos",
         "rawType": "int64",
         "type": "integer"
        },
        {
         "name": "obitos_novos",
         "rawType": "int64",
         "type": "integer"
        },
        {
         "name": "obitos_pc",
         "rawType": "object",
         "type": "string"
        },
        {
         "name": "obitos_mm7d",
         "rawType": "object",
         "type": "string"
        },
        {
         "name": "letalidade",
         "rawType": "object",
         "type": "string"
        },
        {
         "name": "nome_ra",
         "rawType": "object",
         "type": "string"
        },
        {
         "name": "nome_drs",
         "rawType": "object",
         "type": "string"
        },
        {
         "name": "pop",
         "rawType": "int64",
         "type": "integer"
        },
        {
         "name": "pop_60",
         "rawType": "int64",
         "type": "integer"
        },
        {
         "name": "area",
         "rawType": "float64",
         "type": "float"
        },
        {
         "name": "latitude",
         "rawType": "object",
         "type": "string"
        },
        {
         "name": "longitude",
         "rawType": "object",
         "type": "string"
        },
        {
         "name": "semana_epidem",
         "rawType": "int64",
         "type": "integer"
        },
        {
         "name": "Densidade /KM²",
         "rawType": "float64",
         "type": "float"
        }
       ],
       "ref": "a54f3bdc-c4e0-40b1-b198-9854daa5c08b",
       "rows": [
        [
         "0",
         "Adamantina",
         "25",
         "2",
         "2020-02-25",
         "0",
         "0",
         "0,00000000000000e+00",
         "0,000000000000000",
         "0",
         "0",
         "0,00000000000000e+00",
         "0,000000000000000",
         "0,000000000000000000",
         "RA de Presidente Prudente",
         "Marília",
         "33894",
         "7398",
         "411.99",
         "-21,6820",
         "-51,0737",
         "9",
         "82.26898711133765"
        ],
        [
         "1",
         "Adolfo",
         "25",
         "2",
         "2020-02-25",
         "0",
         "0",
         "0,00000000000000e+00",
         "0,000000000000000",
         "0",
         "0",
         "0,00000000000000e+00",
         "0,000000000000000",
         "0,000000000000000000",
         "RA de São José do Rio Preto",
         "São José do Rio Preto",
         "3447",
         "761",
         "211.06",
         "-21,2325",
         "-49,6451",
         "9",
         "16.33184876338482"
        ],
        [
         "2",
         "Aguaí",
         "25",
         "2",
         "2020-02-25",
         "0",
         "0",
         "0,00000000000000e+00",
         "0,000000000000000",
         "0",
         "0",
         "0,00000000000000e+00",
         "0,000000000000000",
         "0,000000000000000000",
         "RA de Campinas",
         "São João da Boa Vista",
         "35608",
         "5245",
         "474.55",
         "-22,0572",
         "-46,9735",
         "9",
         "75.0352965967759"
        ],
        [
         "3",
         "Águas da Prata",
         "25",
         "2",
         "2020-02-25",
         "0",
         "0",
         "0,00000000000000e+00",
         "0,000000000000000",
         "0",
         "0",
         "0,00000000000000e+00",
         "0,000000000000000",
         "0,000000000000000000",
         "RA de Campinas",
         "São João da Boa Vista",
         "7797",
         "1729",
         "142.67",
         "-21,9319",
         "-46,7176",
         "9",
         "54.65059227588141"
        ],
        [
         "4",
         "Águas de Lindóia",
         "25",
         "2",
         "2020-02-25",
         "0",
         "0",
         "0,00000000000000e+00",
         "0,000000000000000",
         "0",
         "0",
         "0,00000000000000e+00",
         "0,000000000000000",
         "0,000000000000000000",
         "RA de Campinas",
         "Campinas",
         "18374",
         "3275",
         "60.13",
         "-22,4733",
         "-46,6314",
         "9",
         "305.5712622650923"
        ]
       ],
       "shape": {
        "columns": 22,
        "rows": 5
       }
      },
      "text/html": [
       "<div>\n",
       "<style scoped>\n",
       "    .dataframe tbody tr th:only-of-type {\n",
       "        vertical-align: middle;\n",
       "    }\n",
       "\n",
       "    .dataframe tbody tr th {\n",
       "        vertical-align: top;\n",
       "    }\n",
       "\n",
       "    .dataframe thead th {\n",
       "        text-align: right;\n",
       "    }\n",
       "</style>\n",
       "<table border=\"1\" class=\"dataframe\">\n",
       "  <thead>\n",
       "    <tr style=\"text-align: right;\">\n",
       "      <th></th>\n",
       "      <th>Município</th>\n",
       "      <th>dia</th>\n",
       "      <th>mes</th>\n",
       "      <th>Data</th>\n",
       "      <th>casos</th>\n",
       "      <th>casos_novos</th>\n",
       "      <th>casos_pc</th>\n",
       "      <th>casos_mm7d</th>\n",
       "      <th>obitos</th>\n",
       "      <th>obitos_novos</th>\n",
       "      <th>...</th>\n",
       "      <th>letalidade</th>\n",
       "      <th>nome_ra</th>\n",
       "      <th>nome_drs</th>\n",
       "      <th>pop</th>\n",
       "      <th>pop_60</th>\n",
       "      <th>area</th>\n",
       "      <th>latitude</th>\n",
       "      <th>longitude</th>\n",
       "      <th>semana_epidem</th>\n",
       "      <th>Densidade /KM²</th>\n",
       "    </tr>\n",
       "  </thead>\n",
       "  <tbody>\n",
       "    <tr>\n",
       "      <th>0</th>\n",
       "      <td>Adamantina</td>\n",
       "      <td>25</td>\n",
       "      <td>2</td>\n",
       "      <td>2020-02-25</td>\n",
       "      <td>0</td>\n",
       "      <td>0</td>\n",
       "      <td>0,00000000000000e+00</td>\n",
       "      <td>0,000000000000000</td>\n",
       "      <td>0</td>\n",
       "      <td>0</td>\n",
       "      <td>...</td>\n",
       "      <td>0,000000000000000000</td>\n",
       "      <td>RA de Presidente Prudente</td>\n",
       "      <td>Marília</td>\n",
       "      <td>33894</td>\n",
       "      <td>7398</td>\n",
       "      <td>411.99</td>\n",
       "      <td>-21,6820</td>\n",
       "      <td>-51,0737</td>\n",
       "      <td>9</td>\n",
       "      <td>82.268987</td>\n",
       "    </tr>\n",
       "    <tr>\n",
       "      <th>1</th>\n",
       "      <td>Adolfo</td>\n",
       "      <td>25</td>\n",
       "      <td>2</td>\n",
       "      <td>2020-02-25</td>\n",
       "      <td>0</td>\n",
       "      <td>0</td>\n",
       "      <td>0,00000000000000e+00</td>\n",
       "      <td>0,000000000000000</td>\n",
       "      <td>0</td>\n",
       "      <td>0</td>\n",
       "      <td>...</td>\n",
       "      <td>0,000000000000000000</td>\n",
       "      <td>RA de São José do Rio Preto</td>\n",
       "      <td>São José do Rio Preto</td>\n",
       "      <td>3447</td>\n",
       "      <td>761</td>\n",
       "      <td>211.06</td>\n",
       "      <td>-21,2325</td>\n",
       "      <td>-49,6451</td>\n",
       "      <td>9</td>\n",
       "      <td>16.331849</td>\n",
       "    </tr>\n",
       "    <tr>\n",
       "      <th>2</th>\n",
       "      <td>Aguaí</td>\n",
       "      <td>25</td>\n",
       "      <td>2</td>\n",
       "      <td>2020-02-25</td>\n",
       "      <td>0</td>\n",
       "      <td>0</td>\n",
       "      <td>0,00000000000000e+00</td>\n",
       "      <td>0,000000000000000</td>\n",
       "      <td>0</td>\n",
       "      <td>0</td>\n",
       "      <td>...</td>\n",
       "      <td>0,000000000000000000</td>\n",
       "      <td>RA de Campinas</td>\n",
       "      <td>São João da Boa Vista</td>\n",
       "      <td>35608</td>\n",
       "      <td>5245</td>\n",
       "      <td>474.55</td>\n",
       "      <td>-22,0572</td>\n",
       "      <td>-46,9735</td>\n",
       "      <td>9</td>\n",
       "      <td>75.035297</td>\n",
       "    </tr>\n",
       "    <tr>\n",
       "      <th>3</th>\n",
       "      <td>Águas da Prata</td>\n",
       "      <td>25</td>\n",
       "      <td>2</td>\n",
       "      <td>2020-02-25</td>\n",
       "      <td>0</td>\n",
       "      <td>0</td>\n",
       "      <td>0,00000000000000e+00</td>\n",
       "      <td>0,000000000000000</td>\n",
       "      <td>0</td>\n",
       "      <td>0</td>\n",
       "      <td>...</td>\n",
       "      <td>0,000000000000000000</td>\n",
       "      <td>RA de Campinas</td>\n",
       "      <td>São João da Boa Vista</td>\n",
       "      <td>7797</td>\n",
       "      <td>1729</td>\n",
       "      <td>142.67</td>\n",
       "      <td>-21,9319</td>\n",
       "      <td>-46,7176</td>\n",
       "      <td>9</td>\n",
       "      <td>54.650592</td>\n",
       "    </tr>\n",
       "    <tr>\n",
       "      <th>4</th>\n",
       "      <td>Águas de Lindóia</td>\n",
       "      <td>25</td>\n",
       "      <td>2</td>\n",
       "      <td>2020-02-25</td>\n",
       "      <td>0</td>\n",
       "      <td>0</td>\n",
       "      <td>0,00000000000000e+00</td>\n",
       "      <td>0,000000000000000</td>\n",
       "      <td>0</td>\n",
       "      <td>0</td>\n",
       "      <td>...</td>\n",
       "      <td>0,000000000000000000</td>\n",
       "      <td>RA de Campinas</td>\n",
       "      <td>Campinas</td>\n",
       "      <td>18374</td>\n",
       "      <td>3275</td>\n",
       "      <td>60.13</td>\n",
       "      <td>-22,4733</td>\n",
       "      <td>-46,6314</td>\n",
       "      <td>9</td>\n",
       "      <td>305.571262</td>\n",
       "    </tr>\n",
       "  </tbody>\n",
       "</table>\n",
       "<p>5 rows × 22 columns</p>\n",
       "</div>"
      ],
      "text/plain": [
       "          Município  dia  mes        Data  casos  casos_novos  \\\n",
       "0        Adamantina   25    2  2020-02-25      0            0   \n",
       "1            Adolfo   25    2  2020-02-25      0            0   \n",
       "2             Aguaí   25    2  2020-02-25      0            0   \n",
       "3    Águas da Prata   25    2  2020-02-25      0            0   \n",
       "4  Águas de Lindóia   25    2  2020-02-25      0            0   \n",
       "\n",
       "               casos_pc         casos_mm7d  obitos  obitos_novos  ...  \\\n",
       "0  0,00000000000000e+00  0,000000000000000       0             0  ...   \n",
       "1  0,00000000000000e+00  0,000000000000000       0             0  ...   \n",
       "2  0,00000000000000e+00  0,000000000000000       0             0  ...   \n",
       "3  0,00000000000000e+00  0,000000000000000       0             0  ...   \n",
       "4  0,00000000000000e+00  0,000000000000000       0             0  ...   \n",
       "\n",
       "             letalidade                      nome_ra               nome_drs  \\\n",
       "0  0,000000000000000000    RA de Presidente Prudente                Marília   \n",
       "1  0,000000000000000000  RA de São José do Rio Preto  São José do Rio Preto   \n",
       "2  0,000000000000000000               RA de Campinas  São João da Boa Vista   \n",
       "3  0,000000000000000000               RA de Campinas  São João da Boa Vista   \n",
       "4  0,000000000000000000               RA de Campinas               Campinas   \n",
       "\n",
       "     pop pop_60    area  latitude  longitude semana_epidem Densidade /KM²  \n",
       "0  33894   7398  411.99  -21,6820   -51,0737             9      82.268987  \n",
       "1   3447    761  211.06  -21,2325   -49,6451             9      16.331849  \n",
       "2  35608   5245  474.55  -22,0572   -46,9735             9      75.035297  \n",
       "3   7797   1729  142.67  -21,9319   -46,7176             9      54.650592  \n",
       "4  18374   3275   60.13  -22,4733   -46,6314             9     305.571262  \n",
       "\n",
       "[5 rows x 22 columns]"
      ]
     },
     "execution_count": 16,
     "metadata": {},
     "output_type": "execute_result"
    }
   ],
   "source": [
    "covid_alter.head(5)"
   ]
  },
  {
   "cell_type": "code",
   "execution_count": 17,
   "id": "1ec8b471",
   "metadata": {},
   "outputs": [
    {
     "data": {
      "text/plain": [
       "[374035]"
      ]
     },
     "execution_count": 17,
     "metadata": {},
     "output_type": "execute_result"
    }
   ],
   "source": [
    "#list.range cria uma lista que vai de 1 até o final da contagem de densidade\n",
    "covid_alter.shape\n",
    "lista = list(range(1,len(covid_alter['Densidade /KM²'])+2))\n",
    "lista[-1:]"
   ]
  },
  {
   "cell_type": "code",
   "execution_count": 18,
   "id": "cf0a4a70",
   "metadata": {},
   "outputs": [
    {
     "data": {
      "application/vnd.microsoft.datawrangler.viewer.v0+json": {
       "columns": [
        {
         "name": "index",
         "rawType": "int64",
         "type": "integer"
        },
        {
         "name": "Índice",
         "rawType": "int64",
         "type": "integer"
        }
       ],
       "ref": "c9d28d9d-c862-4736-a3ec-766721471626",
       "rows": [
        [
         "0",
         "1"
        ],
        [
         "1",
         "2"
        ],
        [
         "2",
         "3"
        ],
        [
         "3",
         "4"
        ],
        [
         "4",
         "5"
        ],
        [
         "5",
         "6"
        ],
        [
         "6",
         "7"
        ],
        [
         "7",
         "8"
        ],
        [
         "8",
         "9"
        ],
        [
         "9",
         "10"
        ],
        [
         "10",
         "11"
        ],
        [
         "11",
         "12"
        ],
        [
         "12",
         "13"
        ],
        [
         "13",
         "14"
        ],
        [
         "14",
         "15"
        ],
        [
         "15",
         "16"
        ],
        [
         "16",
         "17"
        ],
        [
         "17",
         "18"
        ],
        [
         "18",
         "19"
        ],
        [
         "19",
         "20"
        ],
        [
         "20",
         "21"
        ],
        [
         "21",
         "22"
        ],
        [
         "22",
         "23"
        ],
        [
         "23",
         "24"
        ],
        [
         "24",
         "25"
        ],
        [
         "25",
         "26"
        ],
        [
         "26",
         "27"
        ],
        [
         "27",
         "28"
        ],
        [
         "28",
         "29"
        ],
        [
         "29",
         "30"
        ],
        [
         "30",
         "31"
        ],
        [
         "31",
         "32"
        ],
        [
         "32",
         "33"
        ],
        [
         "33",
         "34"
        ],
        [
         "34",
         "35"
        ],
        [
         "35",
         "36"
        ],
        [
         "36",
         "37"
        ],
        [
         "37",
         "38"
        ],
        [
         "38",
         "39"
        ],
        [
         "39",
         "40"
        ],
        [
         "40",
         "41"
        ],
        [
         "41",
         "42"
        ],
        [
         "42",
         "43"
        ],
        [
         "43",
         "44"
        ],
        [
         "44",
         "45"
        ],
        [
         "45",
         "46"
        ],
        [
         "46",
         "47"
        ],
        [
         "47",
         "48"
        ],
        [
         "48",
         "49"
        ],
        [
         "49",
         "50"
        ]
       ],
       "shape": {
        "columns": 1,
        "rows": 374035
       }
      },
      "text/html": [
       "<div>\n",
       "<style scoped>\n",
       "    .dataframe tbody tr th:only-of-type {\n",
       "        vertical-align: middle;\n",
       "    }\n",
       "\n",
       "    .dataframe tbody tr th {\n",
       "        vertical-align: top;\n",
       "    }\n",
       "\n",
       "    .dataframe thead th {\n",
       "        text-align: right;\n",
       "    }\n",
       "</style>\n",
       "<table border=\"1\" class=\"dataframe\">\n",
       "  <thead>\n",
       "    <tr style=\"text-align: right;\">\n",
       "      <th></th>\n",
       "      <th>Índice</th>\n",
       "    </tr>\n",
       "  </thead>\n",
       "  <tbody>\n",
       "    <tr>\n",
       "      <th>0</th>\n",
       "      <td>1</td>\n",
       "    </tr>\n",
       "    <tr>\n",
       "      <th>1</th>\n",
       "      <td>2</td>\n",
       "    </tr>\n",
       "    <tr>\n",
       "      <th>2</th>\n",
       "      <td>3</td>\n",
       "    </tr>\n",
       "    <tr>\n",
       "      <th>3</th>\n",
       "      <td>4</td>\n",
       "    </tr>\n",
       "    <tr>\n",
       "      <th>4</th>\n",
       "      <td>5</td>\n",
       "    </tr>\n",
       "    <tr>\n",
       "      <th>...</th>\n",
       "      <td>...</td>\n",
       "    </tr>\n",
       "    <tr>\n",
       "      <th>374030</th>\n",
       "      <td>374031</td>\n",
       "    </tr>\n",
       "    <tr>\n",
       "      <th>374031</th>\n",
       "      <td>374032</td>\n",
       "    </tr>\n",
       "    <tr>\n",
       "      <th>374032</th>\n",
       "      <td>374033</td>\n",
       "    </tr>\n",
       "    <tr>\n",
       "      <th>374033</th>\n",
       "      <td>374034</td>\n",
       "    </tr>\n",
       "    <tr>\n",
       "      <th>374034</th>\n",
       "      <td>374035</td>\n",
       "    </tr>\n",
       "  </tbody>\n",
       "</table>\n",
       "<p>374035 rows × 1 columns</p>\n",
       "</div>"
      ],
      "text/plain": [
       "        Índice\n",
       "0            1\n",
       "1            2\n",
       "2            3\n",
       "3            4\n",
       "4            5\n",
       "...        ...\n",
       "374030  374031\n",
       "374031  374032\n",
       "374032  374033\n",
       "374033  374034\n",
       "374034  374035\n",
       "\n",
       "[374035 rows x 1 columns]"
      ]
     },
     "execution_count": 18,
     "metadata": {},
     "output_type": "execute_result"
    }
   ],
   "source": [
    "df = pd.DataFrame(lista, columns=['Índice'])\n",
    "df"
   ]
  },
  {
   "cell_type": "code",
   "execution_count": 19,
   "id": "b85c769e",
   "metadata": {},
   "outputs": [
    {
     "data": {
      "application/vnd.microsoft.datawrangler.viewer.v0+json": {
       "columns": [
        {
         "name": "index",
         "rawType": "int64",
         "type": "integer"
        },
        {
         "name": "Município",
         "rawType": "object",
         "type": "string"
        },
        {
         "name": "dia",
         "rawType": "float64",
         "type": "float"
        },
        {
         "name": "mes",
         "rawType": "float64",
         "type": "float"
        },
        {
         "name": "Data",
         "rawType": "object",
         "type": "string"
        },
        {
         "name": "casos",
         "rawType": "float64",
         "type": "float"
        },
        {
         "name": "casos_novos",
         "rawType": "float64",
         "type": "float"
        },
        {
         "name": "casos_pc",
         "rawType": "object",
         "type": "string"
        },
        {
         "name": "casos_mm7d",
         "rawType": "object",
         "type": "string"
        },
        {
         "name": "obitos",
         "rawType": "float64",
         "type": "float"
        },
        {
         "name": "obitos_novos",
         "rawType": "float64",
         "type": "float"
        },
        {
         "name": "obitos_pc",
         "rawType": "object",
         "type": "string"
        },
        {
         "name": "obitos_mm7d",
         "rawType": "object",
         "type": "string"
        },
        {
         "name": "letalidade",
         "rawType": "object",
         "type": "string"
        },
        {
         "name": "nome_ra",
         "rawType": "object",
         "type": "string"
        },
        {
         "name": "nome_drs",
         "rawType": "object",
         "type": "string"
        },
        {
         "name": "pop",
         "rawType": "float64",
         "type": "float"
        },
        {
         "name": "pop_60",
         "rawType": "float64",
         "type": "float"
        },
        {
         "name": "area",
         "rawType": "float64",
         "type": "float"
        },
        {
         "name": "latitude",
         "rawType": "object",
         "type": "string"
        },
        {
         "name": "longitude",
         "rawType": "object",
         "type": "string"
        },
        {
         "name": "semana_epidem",
         "rawType": "float64",
         "type": "float"
        },
        {
         "name": "Densidade /KM²",
         "rawType": "float64",
         "type": "float"
        },
        {
         "name": "Índice",
         "rawType": "int64",
         "type": "integer"
        }
       ],
       "ref": "3bc44a0a-7429-4f9c-9f54-2a9daaff1db2",
       "rows": [
        [
         "0",
         "Adamantina",
         "25.0",
         "2.0",
         "2020-02-25",
         "0.0",
         "0.0",
         "0,00000000000000e+00",
         "0,000000000000000",
         "0.0",
         "0.0",
         "0,00000000000000e+00",
         "0,000000000000000",
         "0,000000000000000000",
         "RA de Presidente Prudente",
         "Marília",
         "33894.0",
         "7398.0",
         "411.99",
         "-21,6820",
         "-51,0737",
         "9.0",
         "82.26898711133765",
         "1"
        ],
        [
         "1",
         "Adolfo",
         "25.0",
         "2.0",
         "2020-02-25",
         "0.0",
         "0.0",
         "0,00000000000000e+00",
         "0,000000000000000",
         "0.0",
         "0.0",
         "0,00000000000000e+00",
         "0,000000000000000",
         "0,000000000000000000",
         "RA de São José do Rio Preto",
         "São José do Rio Preto",
         "3447.0",
         "761.0",
         "211.06",
         "-21,2325",
         "-49,6451",
         "9.0",
         "16.33184876338482",
         "2"
        ],
        [
         "2",
         "Aguaí",
         "25.0",
         "2.0",
         "2020-02-25",
         "0.0",
         "0.0",
         "0,00000000000000e+00",
         "0,000000000000000",
         "0.0",
         "0.0",
         "0,00000000000000e+00",
         "0,000000000000000",
         "0,000000000000000000",
         "RA de Campinas",
         "São João da Boa Vista",
         "35608.0",
         "5245.0",
         "474.55",
         "-22,0572",
         "-46,9735",
         "9.0",
         "75.0352965967759",
         "3"
        ],
        [
         "3",
         "Águas da Prata",
         "25.0",
         "2.0",
         "2020-02-25",
         "0.0",
         "0.0",
         "0,00000000000000e+00",
         "0,000000000000000",
         "0.0",
         "0.0",
         "0,00000000000000e+00",
         "0,000000000000000",
         "0,000000000000000000",
         "RA de Campinas",
         "São João da Boa Vista",
         "7797.0",
         "1729.0",
         "142.67",
         "-21,9319",
         "-46,7176",
         "9.0",
         "54.65059227588141",
         "4"
        ],
        [
         "4",
         "Águas de Lindóia",
         "25.0",
         "2.0",
         "2020-02-25",
         "0.0",
         "0.0",
         "0,00000000000000e+00",
         "0,000000000000000",
         "0.0",
         "0.0",
         "0,00000000000000e+00",
         "0,000000000000000",
         "0,000000000000000000",
         "RA de Campinas",
         "Campinas",
         "18374.0",
         "3275.0",
         "60.13",
         "-22,4733",
         "-46,6314",
         "9.0",
         "305.5712622650923",
         "5"
        ]
       ],
       "shape": {
        "columns": 23,
        "rows": 5
       }
      },
      "text/html": [
       "<div>\n",
       "<style scoped>\n",
       "    .dataframe tbody tr th:only-of-type {\n",
       "        vertical-align: middle;\n",
       "    }\n",
       "\n",
       "    .dataframe tbody tr th {\n",
       "        vertical-align: top;\n",
       "    }\n",
       "\n",
       "    .dataframe thead th {\n",
       "        text-align: right;\n",
       "    }\n",
       "</style>\n",
       "<table border=\"1\" class=\"dataframe\">\n",
       "  <thead>\n",
       "    <tr style=\"text-align: right;\">\n",
       "      <th></th>\n",
       "      <th>Município</th>\n",
       "      <th>dia</th>\n",
       "      <th>mes</th>\n",
       "      <th>Data</th>\n",
       "      <th>casos</th>\n",
       "      <th>casos_novos</th>\n",
       "      <th>casos_pc</th>\n",
       "      <th>casos_mm7d</th>\n",
       "      <th>obitos</th>\n",
       "      <th>obitos_novos</th>\n",
       "      <th>...</th>\n",
       "      <th>nome_ra</th>\n",
       "      <th>nome_drs</th>\n",
       "      <th>pop</th>\n",
       "      <th>pop_60</th>\n",
       "      <th>area</th>\n",
       "      <th>latitude</th>\n",
       "      <th>longitude</th>\n",
       "      <th>semana_epidem</th>\n",
       "      <th>Densidade /KM²</th>\n",
       "      <th>Índice</th>\n",
       "    </tr>\n",
       "  </thead>\n",
       "  <tbody>\n",
       "    <tr>\n",
       "      <th>0</th>\n",
       "      <td>Adamantina</td>\n",
       "      <td>25.0</td>\n",
       "      <td>2.0</td>\n",
       "      <td>2020-02-25</td>\n",
       "      <td>0.0</td>\n",
       "      <td>0.0</td>\n",
       "      <td>0,00000000000000e+00</td>\n",
       "      <td>0,000000000000000</td>\n",
       "      <td>0.0</td>\n",
       "      <td>0.0</td>\n",
       "      <td>...</td>\n",
       "      <td>RA de Presidente Prudente</td>\n",
       "      <td>Marília</td>\n",
       "      <td>33894.0</td>\n",
       "      <td>7398.0</td>\n",
       "      <td>411.99</td>\n",
       "      <td>-21,6820</td>\n",
       "      <td>-51,0737</td>\n",
       "      <td>9.0</td>\n",
       "      <td>82.268987</td>\n",
       "      <td>1</td>\n",
       "    </tr>\n",
       "    <tr>\n",
       "      <th>1</th>\n",
       "      <td>Adolfo</td>\n",
       "      <td>25.0</td>\n",
       "      <td>2.0</td>\n",
       "      <td>2020-02-25</td>\n",
       "      <td>0.0</td>\n",
       "      <td>0.0</td>\n",
       "      <td>0,00000000000000e+00</td>\n",
       "      <td>0,000000000000000</td>\n",
       "      <td>0.0</td>\n",
       "      <td>0.0</td>\n",
       "      <td>...</td>\n",
       "      <td>RA de São José do Rio Preto</td>\n",
       "      <td>São José do Rio Preto</td>\n",
       "      <td>3447.0</td>\n",
       "      <td>761.0</td>\n",
       "      <td>211.06</td>\n",
       "      <td>-21,2325</td>\n",
       "      <td>-49,6451</td>\n",
       "      <td>9.0</td>\n",
       "      <td>16.331849</td>\n",
       "      <td>2</td>\n",
       "    </tr>\n",
       "    <tr>\n",
       "      <th>2</th>\n",
       "      <td>Aguaí</td>\n",
       "      <td>25.0</td>\n",
       "      <td>2.0</td>\n",
       "      <td>2020-02-25</td>\n",
       "      <td>0.0</td>\n",
       "      <td>0.0</td>\n",
       "      <td>0,00000000000000e+00</td>\n",
       "      <td>0,000000000000000</td>\n",
       "      <td>0.0</td>\n",
       "      <td>0.0</td>\n",
       "      <td>...</td>\n",
       "      <td>RA de Campinas</td>\n",
       "      <td>São João da Boa Vista</td>\n",
       "      <td>35608.0</td>\n",
       "      <td>5245.0</td>\n",
       "      <td>474.55</td>\n",
       "      <td>-22,0572</td>\n",
       "      <td>-46,9735</td>\n",
       "      <td>9.0</td>\n",
       "      <td>75.035297</td>\n",
       "      <td>3</td>\n",
       "    </tr>\n",
       "    <tr>\n",
       "      <th>3</th>\n",
       "      <td>Águas da Prata</td>\n",
       "      <td>25.0</td>\n",
       "      <td>2.0</td>\n",
       "      <td>2020-02-25</td>\n",
       "      <td>0.0</td>\n",
       "      <td>0.0</td>\n",
       "      <td>0,00000000000000e+00</td>\n",
       "      <td>0,000000000000000</td>\n",
       "      <td>0.0</td>\n",
       "      <td>0.0</td>\n",
       "      <td>...</td>\n",
       "      <td>RA de Campinas</td>\n",
       "      <td>São João da Boa Vista</td>\n",
       "      <td>7797.0</td>\n",
       "      <td>1729.0</td>\n",
       "      <td>142.67</td>\n",
       "      <td>-21,9319</td>\n",
       "      <td>-46,7176</td>\n",
       "      <td>9.0</td>\n",
       "      <td>54.650592</td>\n",
       "      <td>4</td>\n",
       "    </tr>\n",
       "    <tr>\n",
       "      <th>4</th>\n",
       "      <td>Águas de Lindóia</td>\n",
       "      <td>25.0</td>\n",
       "      <td>2.0</td>\n",
       "      <td>2020-02-25</td>\n",
       "      <td>0.0</td>\n",
       "      <td>0.0</td>\n",
       "      <td>0,00000000000000e+00</td>\n",
       "      <td>0,000000000000000</td>\n",
       "      <td>0.0</td>\n",
       "      <td>0.0</td>\n",
       "      <td>...</td>\n",
       "      <td>RA de Campinas</td>\n",
       "      <td>Campinas</td>\n",
       "      <td>18374.0</td>\n",
       "      <td>3275.0</td>\n",
       "      <td>60.13</td>\n",
       "      <td>-22,4733</td>\n",
       "      <td>-46,6314</td>\n",
       "      <td>9.0</td>\n",
       "      <td>305.571262</td>\n",
       "      <td>5</td>\n",
       "    </tr>\n",
       "  </tbody>\n",
       "</table>\n",
       "<p>5 rows × 23 columns</p>\n",
       "</div>"
      ],
      "text/plain": [
       "          Município   dia  mes        Data  casos  casos_novos  \\\n",
       "0        Adamantina  25.0  2.0  2020-02-25    0.0          0.0   \n",
       "1            Adolfo  25.0  2.0  2020-02-25    0.0          0.0   \n",
       "2             Aguaí  25.0  2.0  2020-02-25    0.0          0.0   \n",
       "3    Águas da Prata  25.0  2.0  2020-02-25    0.0          0.0   \n",
       "4  Águas de Lindóia  25.0  2.0  2020-02-25    0.0          0.0   \n",
       "\n",
       "               casos_pc         casos_mm7d  obitos  obitos_novos  ...  \\\n",
       "0  0,00000000000000e+00  0,000000000000000     0.0           0.0  ...   \n",
       "1  0,00000000000000e+00  0,000000000000000     0.0           0.0  ...   \n",
       "2  0,00000000000000e+00  0,000000000000000     0.0           0.0  ...   \n",
       "3  0,00000000000000e+00  0,000000000000000     0.0           0.0  ...   \n",
       "4  0,00000000000000e+00  0,000000000000000     0.0           0.0  ...   \n",
       "\n",
       "                       nome_ra               nome_drs      pop  pop_60  \\\n",
       "0    RA de Presidente Prudente                Marília  33894.0  7398.0   \n",
       "1  RA de São José do Rio Preto  São José do Rio Preto   3447.0   761.0   \n",
       "2               RA de Campinas  São João da Boa Vista  35608.0  5245.0   \n",
       "3               RA de Campinas  São João da Boa Vista   7797.0  1729.0   \n",
       "4               RA de Campinas               Campinas  18374.0  3275.0   \n",
       "\n",
       "     area  latitude  longitude  semana_epidem Densidade /KM² Índice  \n",
       "0  411.99  -21,6820   -51,0737            9.0      82.268987      1  \n",
       "1  211.06  -21,2325   -49,6451            9.0      16.331849      2  \n",
       "2  474.55  -22,0572   -46,9735            9.0      75.035297      3  \n",
       "3  142.67  -21,9319   -46,7176            9.0      54.650592      4  \n",
       "4   60.13  -22,4733   -46,6314            9.0     305.571262      5  \n",
       "\n",
       "[5 rows x 23 columns]"
      ]
     },
     "execution_count": 19,
     "metadata": {},
     "output_type": "execute_result"
    }
   ],
   "source": [
    "#axis = 1 para indicar que está concatenando colunam, se fossem arquivos, 'acrescentando', seria axis = 0\n",
    "covid_alter = pd.concat([covid_alter, df], axis = 1)\n",
    "covid_alter.head(5)"
   ]
  },
  {
   "cell_type": "markdown",
   "id": "50639f28",
   "metadata": {},
   "source": [
    "####  Filtro"
   ]
  },
  {
   "cell_type": "code",
   "execution_count": 20,
   "id": "c2742d3f",
   "metadata": {},
   "outputs": [
    {
     "data": {
      "application/vnd.microsoft.datawrangler.viewer.v0+json": {
       "columns": [
        {
         "name": "Município",
         "rawType": "object",
         "type": "string"
        },
        {
         "name": "count",
         "rawType": "int64",
         "type": "integer"
        }
       ],
       "ref": "cb0a497e-1965-45d1-95d4-37360a5d1dd6",
       "rows": [
        [
         "Adamantina",
         "579"
        ],
        [
         "Adolfo",
         "579"
        ],
        [
         "Aguaí",
         "579"
        ],
        [
         "Agudos",
         "579"
        ],
        [
         "Alambari",
         "579"
        ],
        [
         "Alfredo Marcondes",
         "579"
        ],
        [
         "Altair",
         "579"
        ],
        [
         "Altinópolis",
         "579"
        ],
        [
         "Alto Alegre",
         "579"
        ],
        [
         "Alumínio",
         "579"
        ],
        [
         "Alvinlândia",
         "579"
        ],
        [
         "Americana",
         "579"
        ],
        [
         "Amparo",
         "579"
        ],
        [
         "Américo Brasiliense",
         "579"
        ],
        [
         "Américo de Campos",
         "579"
        ],
        [
         "Analândia",
         "579"
        ],
        [
         "Andradina",
         "579"
        ],
        [
         "Angatuba",
         "579"
        ],
        [
         "Anhembi",
         "579"
        ],
        [
         "Anhumas",
         "579"
        ],
        [
         "Aparecida",
         "579"
        ],
        [
         "Aparecida d'Oeste",
         "579"
        ],
        [
         "Apiaí",
         "579"
        ],
        [
         "Aramina",
         "579"
        ],
        [
         "Arandu",
         "579"
        ],
        [
         "Arapeí",
         "579"
        ],
        [
         "Araraquara",
         "579"
        ],
        [
         "Araras",
         "579"
        ],
        [
         "Araçariguama",
         "579"
        ],
        [
         "Araçatuba",
         "579"
        ],
        [
         "Araçoiaba da Serra",
         "579"
        ],
        [
         "Arco-Íris",
         "579"
        ],
        [
         "Arealva",
         "579"
        ],
        [
         "Areias",
         "579"
        ],
        [
         "Areiópolis",
         "579"
        ],
        [
         "Ariranha",
         "579"
        ],
        [
         "Artur Nogueira",
         "579"
        ],
        [
         "Arujá",
         "579"
        ],
        [
         "Aspásia",
         "579"
        ],
        [
         "Assis",
         "579"
        ],
        [
         "Atibaia",
         "579"
        ],
        [
         "Auriflama",
         "579"
        ],
        [
         "Avanhandava",
         "579"
        ],
        [
         "Avaré",
         "579"
        ],
        [
         "Avaí",
         "579"
        ],
        [
         "Bady Bassitt",
         "579"
        ],
        [
         "Balbinos",
         "579"
        ],
        [
         "Bananal",
         "579"
        ],
        [
         "Barbosa",
         "579"
        ],
        [
         "Bariri",
         "579"
        ]
       ],
       "shape": {
        "columns": 1,
        "rows": 646
       }
      },
      "text/plain": [
       "Município\n",
       "Adamantina            579\n",
       "Adolfo                579\n",
       "Aguaí                 579\n",
       "Agudos                579\n",
       "Alambari              579\n",
       "                     ... \n",
       "Águas de São Pedro    579\n",
       "Álvares Florence      579\n",
       "Álvares Machado       579\n",
       "Álvaro de Carvalho    579\n",
       "Óleo                  579\n",
       "Name: count, Length: 646, dtype: int64"
      ]
     },
     "execution_count": 20,
     "metadata": {},
     "output_type": "execute_result"
    }
   ],
   "source": [
    "covid_alter['Município'].value_counts().sort_index()"
   ]
  },
  {
   "cell_type": "code",
   "execution_count": 21,
   "id": "ae6e68db",
   "metadata": {},
   "outputs": [
    {
     "data": {
      "application/vnd.microsoft.datawrangler.viewer.v0+json": {
       "columns": [
        {
         "name": "Município",
         "rawType": "object",
         "type": "string"
        },
        {
         "name": "count",
         "rawType": "int64",
         "type": "integer"
        }
       ],
       "ref": "3f963615-b9d4-4866-b68c-666255d1ef84",
       "rows": [
        [
         "São Paulo",
         "476"
        ],
        [
         "Guarulhos",
         "171"
        ],
        [
         "Campinas",
         "166"
        ],
        [
         "São Bernardo do Campo",
         "103"
        ],
        [
         "Santo André",
         "94"
        ],
        [
         "Ribeirão Preto",
         "90"
        ],
        [
         "Sorocaba",
         "83"
        ],
        [
         "São José do Rio Preto",
         "65"
        ],
        [
         "Osasco",
         "65"
        ],
        [
         "Santos",
         "62"
        ],
        [
         "São José dos Campos",
         "45"
        ],
        [
         "Mogi das Cruzes",
         "31"
        ],
        [
         "Mauá",
         "28"
        ],
        [
         "Diadema",
         "24"
        ],
        [
         "Taubaté",
         "22"
        ],
        [
         "São Vicente",
         "22"
        ],
        [
         "Guarujá",
         "21"
        ],
        [
         "Jundiaí",
         "21"
        ],
        [
         "Praia Grande",
         "19"
        ],
        [
         "Ignorado",
         "19"
        ],
        [
         "Barueri",
         "17"
        ],
        [
         "Bauru",
         "17"
        ],
        [
         "Indaiatuba",
         "16"
        ],
        [
         "Limeira",
         "15"
        ],
        [
         "Marília",
         "14"
        ],
        [
         "Americana",
         "13"
        ],
        [
         "Bragança Paulista",
         "12"
        ],
        [
         "Santa Bárbara d'Oeste",
         "12"
        ],
        [
         "Franca",
         "12"
        ],
        [
         "Rio Claro",
         "12"
        ],
        [
         "Hortolândia",
         "11"
        ],
        [
         "Carapicuíba",
         "11"
        ],
        [
         "Araçatuba",
         "11"
        ],
        [
         "São Caetano do Sul",
         "10"
        ],
        [
         "Presidente Prudente",
         "10"
        ],
        [
         "Suzano",
         "9"
        ],
        [
         "Jaú",
         "9"
        ],
        [
         "Itapetininga",
         "9"
        ],
        [
         "Ourinhos",
         "8"
        ],
        [
         "Itaquaquecetuba",
         "8"
        ],
        [
         "Piracicaba",
         "8"
        ],
        [
         "Sumaré",
         "7"
        ],
        [
         "Jacareí",
         "7"
        ],
        [
         "Embu das Artes",
         "7"
        ],
        [
         "Birigui",
         "6"
        ],
        [
         "Salto",
         "6"
        ],
        [
         "Itapeva",
         "6"
        ],
        [
         "Itapevi",
         "5"
        ],
        [
         "Ibitinga",
         "5"
        ],
        [
         "Leme",
         "5"
        ]
       ],
       "shape": {
        "columns": 1,
        "rows": 110
       }
      },
      "text/plain": [
       "Município\n",
       "São Paulo                476\n",
       "Guarulhos                171\n",
       "Campinas                 166\n",
       "São Bernardo do Campo    103\n",
       "Santo André               94\n",
       "                        ... \n",
       "Ipaussu                    1\n",
       "Santana de Parnaíba        1\n",
       "Cosmópolis                 1\n",
       "Tatuí                      1\n",
       "Andradina                  1\n",
       "Name: count, Length: 110, dtype: int64"
      ]
     },
     "execution_count": 21,
     "metadata": {},
     "output_type": "execute_result"
    }
   ],
   "source": [
    "#covid_alter.head(5)\n",
    "covid_alter.query('obitos_novos >10')['Município'].value_counts()"
   ]
  },
  {
   "cell_type": "markdown",
   "id": "7a4b7eb5",
   "metadata": {},
   "source": [
    "#### Visualização em partes"
   ]
  },
  {
   "cell_type": "code",
   "execution_count": 22,
   "id": "34110fca",
   "metadata": {},
   "outputs": [
    {
     "data": {
      "application/vnd.microsoft.datawrangler.viewer.v0+json": {
       "columns": [
        {
         "name": "index",
         "rawType": "int64",
         "type": "integer"
        },
        {
         "name": "Município",
         "rawType": "object",
         "type": "unknown"
        },
        {
         "name": "dia",
         "rawType": "float64",
         "type": "float"
        },
        {
         "name": "mes",
         "rawType": "float64",
         "type": "float"
        },
        {
         "name": "Data",
         "rawType": "object",
         "type": "unknown"
        },
        {
         "name": "casos",
         "rawType": "float64",
         "type": "float"
        }
       ],
       "ref": "e48b7462-363b-4de1-a3fd-f061c9233a28",
       "rows": [
        [
         "0",
         "Adamantina",
         "25.0",
         "2.0",
         "2020-02-25",
         "0.0"
        ],
        [
         "1",
         "Adolfo",
         "25.0",
         "2.0",
         "2020-02-25",
         "0.0"
        ],
        [
         "2",
         "Aguaí",
         "25.0",
         "2.0",
         "2020-02-25",
         "0.0"
        ],
        [
         "3",
         "Águas da Prata",
         "25.0",
         "2.0",
         "2020-02-25",
         "0.0"
        ],
        [
         "4",
         "Águas de Lindóia",
         "25.0",
         "2.0",
         "2020-02-25",
         "0.0"
        ],
        [
         "5",
         "Águas de Santa Bárbara",
         "25.0",
         "2.0",
         "2020-02-25",
         "0.0"
        ],
        [
         "6",
         "Águas de São Pedro",
         "25.0",
         "2.0",
         "2020-02-25",
         "0.0"
        ],
        [
         "7",
         "Agudos",
         "25.0",
         "2.0",
         "2020-02-25",
         "0.0"
        ],
        [
         "8",
         "Alambari",
         "25.0",
         "2.0",
         "2020-02-25",
         "0.0"
        ],
        [
         "9",
         "Alfredo Marcondes",
         "25.0",
         "2.0",
         "2020-02-25",
         "0.0"
        ],
        [
         "10",
         "Altair",
         "25.0",
         "2.0",
         "2020-02-25",
         "0.0"
        ],
        [
         "11",
         "Altinópolis",
         "25.0",
         "2.0",
         "2020-02-25",
         "0.0"
        ],
        [
         "12",
         "Alto Alegre",
         "25.0",
         "2.0",
         "2020-02-25",
         "0.0"
        ],
        [
         "13",
         "Alumínio",
         "25.0",
         "2.0",
         "2020-02-25",
         "0.0"
        ],
        [
         "14",
         "Álvares Florence",
         "25.0",
         "2.0",
         "2020-02-25",
         "0.0"
        ],
        [
         "15",
         "Álvares Machado",
         "25.0",
         "2.0",
         "2020-02-25",
         "0.0"
        ],
        [
         "16",
         "Álvaro de Carvalho",
         "25.0",
         "2.0",
         "2020-02-25",
         "0.0"
        ],
        [
         "17",
         "Alvinlândia",
         "25.0",
         "2.0",
         "2020-02-25",
         "0.0"
        ],
        [
         "18",
         "Americana",
         "25.0",
         "2.0",
         "2020-02-25",
         "0.0"
        ],
        [
         "19",
         "Américo Brasiliense",
         "25.0",
         "2.0",
         "2020-02-25",
         "0.0"
        ],
        [
         "20",
         "Américo de Campos",
         "25.0",
         "2.0",
         "2020-02-25",
         "0.0"
        ],
        [
         "21",
         "Amparo",
         "25.0",
         "2.0",
         "2020-02-25",
         "0.0"
        ],
        [
         "22",
         "Analândia",
         "25.0",
         "2.0",
         "2020-02-25",
         "0.0"
        ],
        [
         "23",
         "Andradina",
         "25.0",
         "2.0",
         "2020-02-25",
         "0.0"
        ],
        [
         "24",
         "Angatuba",
         "25.0",
         "2.0",
         "2020-02-25",
         "0.0"
        ],
        [
         "25",
         "Anhembi",
         "25.0",
         "2.0",
         "2020-02-25",
         "0.0"
        ],
        [
         "26",
         "Anhumas",
         "25.0",
         "2.0",
         "2020-02-25",
         "0.0"
        ],
        [
         "27",
         "Aparecida",
         "25.0",
         "2.0",
         "2020-02-25",
         "0.0"
        ],
        [
         "28",
         "Aparecida d'Oeste",
         "25.0",
         "2.0",
         "2020-02-25",
         "0.0"
        ],
        [
         "29",
         "Apiaí",
         "25.0",
         "2.0",
         "2020-02-25",
         "0.0"
        ],
        [
         "30",
         "Araçariguama",
         "25.0",
         "2.0",
         "2020-02-25",
         "0.0"
        ],
        [
         "31",
         "Araçatuba",
         "25.0",
         "2.0",
         "2020-02-25",
         "0.0"
        ],
        [
         "32",
         "Araçoiaba da Serra",
         "25.0",
         "2.0",
         "2020-02-25",
         "0.0"
        ],
        [
         "33",
         "Aramina",
         "25.0",
         "2.0",
         "2020-02-25",
         "0.0"
        ],
        [
         "34",
         "Arandu",
         "25.0",
         "2.0",
         "2020-02-25",
         "0.0"
        ],
        [
         "35",
         "Arapeí",
         "25.0",
         "2.0",
         "2020-02-25",
         "0.0"
        ],
        [
         "36",
         "Araraquara",
         "25.0",
         "2.0",
         "2020-02-25",
         "0.0"
        ],
        [
         "37",
         "Araras",
         "25.0",
         "2.0",
         "2020-02-25",
         "0.0"
        ],
        [
         "38",
         "Arco-Íris",
         "25.0",
         "2.0",
         "2020-02-25",
         "0.0"
        ],
        [
         "39",
         "Arealva",
         "25.0",
         "2.0",
         "2020-02-25",
         "0.0"
        ],
        [
         "40",
         "Areias",
         "25.0",
         "2.0",
         "2020-02-25",
         "0.0"
        ],
        [
         "41",
         "Areiópolis",
         "25.0",
         "2.0",
         "2020-02-25",
         "0.0"
        ],
        [
         "42",
         "Ariranha",
         "25.0",
         "2.0",
         "2020-02-25",
         "0.0"
        ],
        [
         "43",
         "Artur Nogueira",
         "25.0",
         "2.0",
         "2020-02-25",
         "0.0"
        ],
        [
         "44",
         "Arujá",
         "25.0",
         "2.0",
         "2020-02-25",
         "0.0"
        ],
        [
         "45",
         "Aspásia",
         "25.0",
         "2.0",
         "2020-02-25",
         "0.0"
        ],
        [
         "46",
         "Assis",
         "25.0",
         "2.0",
         "2020-02-25",
         "0.0"
        ],
        [
         "47",
         "Atibaia",
         "25.0",
         "2.0",
         "2020-02-25",
         "0.0"
        ],
        [
         "48",
         "Auriflama",
         "25.0",
         "2.0",
         "2020-02-25",
         "0.0"
        ],
        [
         "49",
         "Avaí",
         "25.0",
         "2.0",
         "2020-02-25",
         "0.0"
        ]
       ],
       "shape": {
        "columns": 5,
        "rows": 374035
       }
      },
      "text/html": [
       "<div>\n",
       "<style scoped>\n",
       "    .dataframe tbody tr th:only-of-type {\n",
       "        vertical-align: middle;\n",
       "    }\n",
       "\n",
       "    .dataframe tbody tr th {\n",
       "        vertical-align: top;\n",
       "    }\n",
       "\n",
       "    .dataframe thead th {\n",
       "        text-align: right;\n",
       "    }\n",
       "</style>\n",
       "<table border=\"1\" class=\"dataframe\">\n",
       "  <thead>\n",
       "    <tr style=\"text-align: right;\">\n",
       "      <th></th>\n",
       "      <th>Município</th>\n",
       "      <th>dia</th>\n",
       "      <th>mes</th>\n",
       "      <th>Data</th>\n",
       "      <th>casos</th>\n",
       "    </tr>\n",
       "  </thead>\n",
       "  <tbody>\n",
       "    <tr>\n",
       "      <th>0</th>\n",
       "      <td>Adamantina</td>\n",
       "      <td>25.0</td>\n",
       "      <td>2.0</td>\n",
       "      <td>2020-02-25</td>\n",
       "      <td>0.0</td>\n",
       "    </tr>\n",
       "    <tr>\n",
       "      <th>1</th>\n",
       "      <td>Adolfo</td>\n",
       "      <td>25.0</td>\n",
       "      <td>2.0</td>\n",
       "      <td>2020-02-25</td>\n",
       "      <td>0.0</td>\n",
       "    </tr>\n",
       "    <tr>\n",
       "      <th>2</th>\n",
       "      <td>Aguaí</td>\n",
       "      <td>25.0</td>\n",
       "      <td>2.0</td>\n",
       "      <td>2020-02-25</td>\n",
       "      <td>0.0</td>\n",
       "    </tr>\n",
       "    <tr>\n",
       "      <th>3</th>\n",
       "      <td>Águas da Prata</td>\n",
       "      <td>25.0</td>\n",
       "      <td>2.0</td>\n",
       "      <td>2020-02-25</td>\n",
       "      <td>0.0</td>\n",
       "    </tr>\n",
       "    <tr>\n",
       "      <th>4</th>\n",
       "      <td>Águas de Lindóia</td>\n",
       "      <td>25.0</td>\n",
       "      <td>2.0</td>\n",
       "      <td>2020-02-25</td>\n",
       "      <td>0.0</td>\n",
       "    </tr>\n",
       "    <tr>\n",
       "      <th>...</th>\n",
       "      <td>...</td>\n",
       "      <td>...</td>\n",
       "      <td>...</td>\n",
       "      <td>...</td>\n",
       "      <td>...</td>\n",
       "    </tr>\n",
       "    <tr>\n",
       "      <th>374030</th>\n",
       "      <td>Ignorado</td>\n",
       "      <td>22.0</td>\n",
       "      <td>9.0</td>\n",
       "      <td>2021-09-22</td>\n",
       "      <td>1414.0</td>\n",
       "    </tr>\n",
       "    <tr>\n",
       "      <th>374031</th>\n",
       "      <td>Ignorado</td>\n",
       "      <td>23.0</td>\n",
       "      <td>9.0</td>\n",
       "      <td>2021-09-23</td>\n",
       "      <td>962.0</td>\n",
       "    </tr>\n",
       "    <tr>\n",
       "      <th>374032</th>\n",
       "      <td>Ignorado</td>\n",
       "      <td>24.0</td>\n",
       "      <td>9.0</td>\n",
       "      <td>2021-09-24</td>\n",
       "      <td>557.0</td>\n",
       "    </tr>\n",
       "    <tr>\n",
       "      <th>374033</th>\n",
       "      <td>Ignorado</td>\n",
       "      <td>25.0</td>\n",
       "      <td>9.0</td>\n",
       "      <td>2021-09-25</td>\n",
       "      <td>128.0</td>\n",
       "    </tr>\n",
       "    <tr>\n",
       "      <th>374034</th>\n",
       "      <td>NaN</td>\n",
       "      <td>NaN</td>\n",
       "      <td>NaN</td>\n",
       "      <td>NaN</td>\n",
       "      <td>NaN</td>\n",
       "    </tr>\n",
       "  </tbody>\n",
       "</table>\n",
       "<p>374035 rows × 5 columns</p>\n",
       "</div>"
      ],
      "text/plain": [
       "               Município   dia  mes        Data   casos\n",
       "0             Adamantina  25.0  2.0  2020-02-25     0.0\n",
       "1                 Adolfo  25.0  2.0  2020-02-25     0.0\n",
       "2                  Aguaí  25.0  2.0  2020-02-25     0.0\n",
       "3         Águas da Prata  25.0  2.0  2020-02-25     0.0\n",
       "4       Águas de Lindóia  25.0  2.0  2020-02-25     0.0\n",
       "...                  ...   ...  ...         ...     ...\n",
       "374030          Ignorado  22.0  9.0  2021-09-22  1414.0\n",
       "374031          Ignorado  23.0  9.0  2021-09-23   962.0\n",
       "374032          Ignorado  24.0  9.0  2021-09-24   557.0\n",
       "374033          Ignorado  25.0  9.0  2021-09-25   128.0\n",
       "374034               NaN   NaN  NaN         NaN     NaN\n",
       "\n",
       "[374035 rows x 5 columns]"
      ]
     },
     "execution_count": 22,
     "metadata": {},
     "output_type": "execute_result"
    }
   ],
   "source": [
    "novo_df = covid_alter.iloc[: , :5]\n",
    "novo_df"
   ]
  },
  {
   "cell_type": "code",
   "execution_count": 23,
   "id": "03aa82a5",
   "metadata": {},
   "outputs": [
    {
     "data": {
      "application/vnd.microsoft.datawrangler.viewer.v0+json": {
       "columns": [
        {
         "name": "Município",
         "rawType": "object",
         "type": "string"
        },
        {
         "name": "count",
         "rawType": "int64",
         "type": "integer"
        }
       ],
       "ref": "8f90bfe9-76fd-4fbe-9c58-645de4ba1f6e",
       "rows": [
        [
         "São Paulo",
         "544"
        ],
        [
         "Osasco",
         "504"
        ],
        [
         "Guarulhos",
         "500"
        ],
        [
         "São Bernardo do Campo",
         "500"
        ],
        [
         "Santos",
         "499"
        ],
        [
         "Santo André",
         "498"
        ],
        [
         "Campinas",
         "491"
        ],
        [
         "Barueri",
         "481"
        ],
        [
         "Diadema",
         "481"
        ],
        [
         "Guarujá",
         "480"
        ],
        [
         "Jundiaí",
         "480"
        ],
        [
         "São Vicente",
         "478"
        ],
        [
         "Ribeirão Preto",
         "478"
        ],
        [
         "Carapicuíba",
         "477"
        ],
        [
         "Mauá",
         "477"
        ],
        [
         "Praia Grande",
         "477"
        ],
        [
         "Sorocaba",
         "477"
        ],
        [
         "Mogi das Cruzes",
         "474"
        ],
        [
         "São José dos Campos",
         "474"
        ],
        [
         "Taboão da Serra",
         "470"
        ],
        [
         "São José do Rio Preto",
         "469"
        ],
        [
         "São Caetano do Sul",
         "464"
        ],
        [
         "Cubatão",
         "464"
        ],
        [
         "Piracicaba",
         "464"
        ],
        [
         "Suzano",
         "459"
        ],
        [
         "Itaquaquecetuba",
         "457"
        ],
        [
         "Cotia",
         "456"
        ],
        [
         "Bauru",
         "455"
        ],
        [
         "Embu das Artes",
         "452"
        ],
        [
         "Itapevi",
         "451"
        ],
        [
         "Sumaré",
         "450"
        ],
        [
         "Paulínia",
         "446"
        ],
        [
         "Santana de Parnaíba",
         "445"
        ],
        [
         "Limeira",
         "445"
        ],
        [
         "Barretos",
         "445"
        ],
        [
         "Araçatuba",
         "444"
        ],
        [
         "Francisco Morato",
         "442"
        ],
        [
         "Araraquara",
         "441"
        ],
        [
         "Hortolândia",
         "440"
        ],
        [
         "Itapecerica da Serra",
         "438"
        ],
        [
         "Rio Claro",
         "438"
        ],
        [
         "Sertãozinho",
         "437"
        ],
        [
         "Santa Bárbara d'Oeste",
         "436"
        ],
        [
         "Lençóis Paulista",
         "436"
        ],
        [
         "Americana",
         "436"
        ],
        [
         "Presidente Prudente",
         "433"
        ],
        [
         "Ferraz de Vasconcelos",
         "432"
        ],
        [
         "Jacareí",
         "430"
        ],
        [
         "Itu",
         "429"
        ],
        [
         "Mogi Guaçu",
         "428"
        ]
       ],
       "shape": {
        "columns": 1,
        "rows": 351
       }
      },
      "text/plain": [
       "Município\n",
       "São Paulo                  544\n",
       "Osasco                     504\n",
       "Guarulhos                  500\n",
       "São Bernardo do Campo      500\n",
       "Santos                     499\n",
       "                          ... \n",
       "Pacaembu                    44\n",
       "Chavantes                   40\n",
       "Pinhalzinho                 37\n",
       "Piratininga                 25\n",
       "Mirante do Paranapanema      9\n",
       "Name: count, Length: 351, dtype: int64"
      ]
     },
     "execution_count": 23,
     "metadata": {},
     "output_type": "execute_result"
    }
   ],
   "source": [
    "novo_df.query('casos > 1250')['Município'].value_counts()"
   ]
  },
  {
   "cell_type": "markdown",
   "id": "189601bc",
   "metadata": {},
   "source": [
    "### Visualização"
   ]
  },
  {
   "cell_type": "markdown",
   "id": "7bd6edf4",
   "metadata": {},
   "source": [
    "#### Bibliotecas"
   ]
  },
  {
   "cell_type": "code",
   "execution_count": 24,
   "id": "47b9e259",
   "metadata": {},
   "outputs": [],
   "source": [
    "import matplotlib.pyplot as plt\n",
    "import seaborn as sns\n",
    "import plotly.express as px\n",
    "import plotly.graph_objects as go\n",
    "from plotly.subplots import make_subplots"
   ]
  },
  {
   "cell_type": "markdown",
   "id": "1bfe8f2c",
   "metadata": {},
   "source": [
    "#### Média Diária\n",
    "\n",
    "Traz a média diária de novos casos em SP"
   ]
  },
  {
   "cell_type": "code",
   "execution_count": null,
   "id": "03977cd5",
   "metadata": {},
   "outputs": [],
   "source": []
  }
 ],
 "metadata": {
  "kernelspec": {
   "display_name": "base",
   "language": "python",
   "name": "python3"
  },
  "language_info": {
   "codemirror_mode": {
    "name": "ipython",
    "version": 3
   },
   "file_extension": ".py",
   "mimetype": "text/x-python",
   "name": "python",
   "nbconvert_exporter": "python",
   "pygments_lexer": "ipython3",
   "version": "3.12.7"
  }
 },
 "nbformat": 4,
 "nbformat_minor": 5
}
